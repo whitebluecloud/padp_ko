{
 "cells": [
  {
   "cell_type": "markdown",
   "metadata": {},
   "source": [
    "# 1.12. Defining Functions\n",
    "\n",
    "The earlier example of procedural abstraction called upon a Python function called sqrt from the math module to compute the square root. In general, we can hide the details of any computation by defining a function. A function definition requires a name, a group of parameters, and a body. It may also explicitly return a value. For example, the simple function defined below returns the square of the value you pass into it.\n",
    "\n",
    "파이썬 함수에 요구되었던 일전의 절차적 추상화의 예시는 제곱근을 계산하기 위해 math 모듈에서 sqrt를 호출했다. 일반적으로, 함수를 정의함으로써 어떠한 계산의 세부사항도 숨길 수가 있다. 함수 정의는 이름, 매개변수 그룹, 그리고 본체가 필요하다. 또한 어떠한 값을 명시적으로 반환할 수도 있다. 예를 들어, 아래에 정의된 간단한 함수는 넘기는 값의 제곱값을 반환한다.\n"
   ]
  },
  {
   "cell_type": "code",
   "execution_count": 3,
   "metadata": {},
   "outputs": [
    {
     "data": {
      "text/plain": [
       "9"
      ]
     },
     "execution_count": 3,
     "metadata": {},
     "output_type": "execute_result"
    }
   ],
   "source": [
    "def square(n):\n",
    "    return n**2\n",
    "\n",
    "square(3)\n"
   ]
  },
  {
   "cell_type": "code",
   "execution_count": 4,
   "metadata": {},
   "outputs": [
    {
     "data": {
      "text/plain": [
       "81"
      ]
     },
     "execution_count": 4,
     "metadata": {},
     "output_type": "execute_result"
    }
   ],
   "source": [
    "square(square(3))"
   ]
  },
  {
   "cell_type": "markdown",
   "metadata": {},
   "source": [
    "\n"
   ]
  },
  {
   "cell_type": "markdown",
   "metadata": {},
   "source": [
    "The syntax for this function definition includes the name, square, and a parenthesized list of formal parameters. For this function, n is the only formal parameter, which suggests that square needs only one piece of data to do its work. The details, hidden “inside the box,” simply compute the result of n**2 and return it. We can invoke or call the square function by asking the Python environment to evaluate it, passing an actual parameter value, in this case, 3. Note that the call to square returns an integer that can in turn be passed to another invocation.\n",
    "\n",
    "이 함수 정의에 대한 문법은 이름인 square와 괄호 리스트 안의 정규 매개변수들을 포함하고 있다. 이 함수에 있어서 n은 유일한 정규 매개변수이며 이것은 square가 작동하는 데는 오직 하나의 데이터만을 필요로 한다는 것을 시사한다. \"박스 안에\" 숨겨진 세부사항들은 단순히 n**2의 결과값을 계산하고 반환한다. 파이썬 환경에 square 함수를 평가해달라고 요청하고, 이 경우엔 3인 실제 매개변수 값을 넘겨줌으로써 square 함수를 부르거나 호출할 수 있다. square 호출이 또다른 호출로 넘겨질 수 있는 정수를 반환한다는 것에 유의하라.\n",
    "\n",
    "We could implement our own square root function by using a well-known technique called “Newton’s Method.” Newton’s Method for approximating square roots performs an iterative computation that converges on the correct value. The equation newguess=1/2∗(oldguess+n/oldguess) takes a value n and repeatedly guesses the square root by making each newguess the oldguess in the subsequent iteration. The initial guess used here is n2. Listing 1 shows a function definition that accepts a value n and returns the square root of n after making 20 guesses. Again, the details of Newton’s Method are hidden inside the function definition and the user does not have to know anything about the implementation to use the function for its intended purpose. Listing 1 also shows the use of the # character as a comment marker. Any characters that follow the # on a line are ignored.\n",
    "\n",
    "\"뉴턴의 방법\"이라는 잘 알려진 기술을 사용함으로써 자체적인 제곱근 함수를 수행해볼 수 있다. 제곱근을 근사하기 위한 뉴턴의 방법은 올바른 값에 수렴하는 반복적 계산을 수행한다. 식 newguess=1/2∗(oldguess+n/oldguess)는 n 값 하나를 가지고 각 newguess를 후속 반복 회차에서 oldguess로 만들어주면서 반복적으로 제곱근을 추정해낸다. 여기서 사용된 최초 추측값은 n/2이다. Listing 1은 n 값을 받아들여서 20번의 추측을 한 뒤 n 제곱근을 반환하는 함수 정의를 보여준다. 또다시, 뉴턴의 방법의 세부사항들은 함수 정의 안에 숨겨져있고 사용자는 그 함수를 의도된 목적으로 사용하기 위한 실행에 대해 아무것도 몰라도 된다. Listing 1은 또한 # 기호를 주석 표시로 사용하는 것을 보여준다. # 뒤로 동일선상에 오는 어떤 문자든 무시된다.\n",
    "\n",
    "#### Listing 1"
   ]
  },
  {
   "cell_type": "code",
   "execution_count": 8,
   "metadata": {},
   "outputs": [],
   "source": [
    "def squareroot(n):\n",
    "    root = n/2    #initial guess will be 1/2 of n\n",
    "    for k in range(20):\n",
    "        root = (1/2)*(root + (n / root))\n",
    "        \n",
    "    return root\n",
    "\n"
   ]
  },
  {
   "cell_type": "code",
   "execution_count": 9,
   "metadata": {},
   "outputs": [
    {
     "data": {
      "text/plain": [
       "3.0"
      ]
     },
     "execution_count": 9,
     "metadata": {},
     "output_type": "execute_result"
    }
   ],
   "source": [
    "squareroot(9)"
   ]
  },
  {
   "cell_type": "code",
   "execution_count": 10,
   "metadata": {},
   "outputs": [
    {
     "data": {
      "text/plain": [
       "67.54998149518622"
      ]
     },
     "execution_count": 10,
     "metadata": {},
     "output_type": "execute_result"
    }
   ],
   "source": [
    "squareroot(4563)"
   ]
  },
  {
   "cell_type": "markdown",
   "metadata": {},
   "source": [
    "#### 자기검사\n",
    "\n",
    "Here’s a self check that really covers everything so far. You may have heard of the infinite monkey theorem? The theorem states that a monkey hitting keys at random on a typewriter keyboard for an infinite amount of time will almost surely type a given text, such as the complete works of William Shakespeare. Well, suppose we replace a monkey with a Python function. How long do you think it would take for a Python function to generate just one sentence of Shakespeare? The sentence we’ll shoot for is: “methinks it is like a weasel”\n",
    "\n",
    "이때까지의 모든 것을 아우르는 자기검사가 있다. 무한 원숭이 정리에 대해 들어본 적이 있는가? 그 정리는 원숭이가 타자기를 무한한 시간 동안 무작위로 치다보면 윌리엄 셰익스피어의 완전한 작품과 같은 특정한 글을 거의 확실하게 쓰게 될 것이라고 주장한다. 그렇다면 원숭이를 파이썬 함수로 대체한다고 해보자. 파이썬 함수가 셰익스피어의 단 한 문장을 만들어내는 데 얼마나 오래 걸릴 거라고 생각하는가? 우리가 얻으려는 문장은: \"난 그것이 족제비같다고 생각한다\"\n",
    "\n",
    "You’re not going to want to run this one in the browser, so fire up your favorite Python IDE. The way we’ll simulate this is to write a function that generates a string that is 27 characters long by choosing random letters from the 26 letters in the alphabet plus the space. We’ll write another function that will score each generated string by comparing the randomly generated string to the goal.\n",
    "\n",
    "이것을 브라우저에서 돌리고 싶지 않을 것이므로, 애용하는 파이썬 IDE를 켜라. 이것을 실험해볼 방법은 알파벳 26 문자들과 공백 중에서 임의의 문자들을 골라 27자 길이의 문자열을 만들어내는 함수를 작성하는 것이다. 그리고 임의로 생성된 문자열을 목표값과 비교하여 각 생성 문자열에 점수를 매기는 또다른 함수를 작성할 것이다.\n",
    "\n",
    "A third function will repeatedly call generate and score, then if 100% of the letters are correct we are done. If the letters are not correct then we will generate a whole new string.To make it easier to follow your program’s progress this third function should print out the best string generated so far and its score every 1000 tries.\n",
    "\n",
    "세번째 함수는 생성과 채점을 반복적으로 호출하게 되고, 문자들이 100% 맞으면 끝난 것이다. 문자가 맞지 않다면 완전히 새로운 문자열을 생성할 것이다. 프로그램의 진척을 더 쉽게 따라가기 위해 이 세번째 함수는 매 1000번의 시도마다 이때까지 생성된 최고의 문자열과 그 점수를 출력해야 한다.\n",
    "\n",
    "#### 자기검사 도전\n",
    "\n",
    "See if you can improve upon the program in the self check by keeping letters that are correct and only modifying one character in the best string so far. This is a type of algorithm in the class of ‘hill climbing’ algorithms, that is we only keep the result if it is better than the previous one.\n",
    "\n",
    "\n",
    "이때까지의 최고 문자열에서 맞는 글자들을 유지하고 한 글자만을 수정하게 함으로써 자기검사에서의 프로그램을 더 발전시킬 수 있는지 보아라. 이것은 '언덕 오르기' 알고리즘 수업에 있는 알고리즘과 같은 유형인데, 여기서 우리는 결과가 이전보다 좋을 경우에만 유지하게 된다."
   ]
  }
 ],
 "metadata": {
  "kernelspec": {
   "display_name": "Python 3.6",
   "language": "python",
   "name": "python3"
  },
  "language_info": {
   "codemirror_mode": {
    "name": "ipython",
    "version": 3
   },
   "file_extension": ".py",
   "mimetype": "text/x-python",
   "name": "python",
   "nbconvert_exporter": "python",
   "pygments_lexer": "ipython3",
   "version": "3.6.5"
  }
 },
 "nbformat": 4,
 "nbformat_minor": 2
}
