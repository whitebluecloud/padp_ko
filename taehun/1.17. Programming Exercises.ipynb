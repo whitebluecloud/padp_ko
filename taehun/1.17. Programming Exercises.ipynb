{
 "cells": [
  {
   "cell_type": "markdown",
   "metadata": {},
   "source": [
    "1. 분수의 분자와 분모를 반환하는 간단한 메소드 getNum과 getDen을 구현하라."
   ]
  },
  {
   "cell_type": "code",
   "execution_count": null,
   "metadata": {},
   "outputs": [],
   "source": [
    "def getNum(f):\n",
    "    return f.num\n",
    "\n",
    "def getDen(f):\n",
    "    return f.den"
   ]
  },
  {
   "cell_type": "markdown",
   "metadata": {},
   "source": [
    "2. 처음부터 모든 분수들이 기약분수로 유지되는 것이 여러모로 좋을 것이다. Fraction 클래스의 생성자를 수정해서 분수를 즉각 약분하도록 GCD가 사용되게 하라. 이것이 __add__ 메소드가 더이상 약분을 하지 않아도 된다는 것을 의미함을 유의하라. 이에 필요한 수정을 하라."
   ]
  },
  {
   "cell_type": "code",
   "execution_count": 5,
   "metadata": {},
   "outputs": [
    {
     "name": "stdout",
     "output_type": "stream",
     "text": [
      "2/3\n",
      "7/6\n"
     ]
    }
   ],
   "source": [
    "def gcd(m,n):\n",
    "    while m%n != 0:\n",
    "        oldm = m\n",
    "        oldn = n\n",
    "\n",
    "        m = oldn\n",
    "        n = oldm%oldn\n",
    "    return n\n",
    "\n",
    "class Fraction:\n",
    "    def __init__(self,top,bottom):\n",
    "        common = gcd(top,bottom)  # 클래스 생성시 바로 약분\n",
    "        self.num = top//common\n",
    "        self.den = bottom//common\n",
    "        \n",
    "    def __str__(self):\n",
    "        return str(self.num)+\"/\"+str(self.den)\n",
    "\n",
    "    def __add__(self,otherfraction):\n",
    "        newnum = self.num*otherfraction.den + self.den*otherfraction.num\n",
    "        newden = self.den * otherfraction.den\n",
    "        return Fraction(newnum,newden)  # 약분 과정 생략 가능\n",
    "\n",
    "a = Fraction(4,6)\n",
    "b = Fraction(1,2)\n",
    "c = Fraction(2,3)\n",
    "\n",
    "print(a)\n",
    "print(b+c)"
   ]
  },
  {
   "cell_type": "markdown",
   "metadata": {},
   "source": [
    "3. 나머지 단순 연산 제어자들을 구현하라 (__sub__, __mul__, 그리고 __truediv__)."
   ]
  },
  {
   "cell_type": "code",
   "execution_count": 6,
   "metadata": {
    "scrolled": true
   },
   "outputs": [
    {
     "name": "stdout",
     "output_type": "stream",
     "text": [
      "-1/12\n",
      "1/2\n",
      "8/9\n"
     ]
    }
   ],
   "source": [
    "class Fraction:\n",
    "    def __init__(self,top,bottom):\n",
    "        common = gcd(top,bottom)\n",
    "        self.num = top//common\n",
    "        self.den = bottom//common\n",
    "        \n",
    "    def __str__(self):\n",
    "        return str(self.num)+\"/\"+str(self.den)\n",
    "\n",
    "    def __add__(self,otherfraction):\n",
    "        newnum = self.num*otherfraction.den + self.den*otherfraction.num\n",
    "        newden = self.den * otherfraction.den\n",
    "        return Fraction(newnum,newden)\n",
    "    \n",
    "    def __sub__(self,otherfraction):\n",
    "        newnum = self.num*otherfraction.den - self.den*otherfraction.num\n",
    "        newden = self.den * otherfraction.den\n",
    "        return Fraction(newnum,newden)\n",
    "        \n",
    "    def __mul__(self,otherfraction):\n",
    "        \n",
    "        return Fraction(self.num*otherfraction.num,self.den*otherfraction.den)\n",
    "        \n",
    "    def __truediv__(self,otherfraction):\n",
    "        \n",
    "        return Fraction(self.num*otherfraction.den,self.den*otherfraction.num)\n",
    "    \n",
    "a = Fraction(2,3)\n",
    "b = Fraction(3,4)\n",
    "\n",
    "print(a-b)\n",
    "print(a*b)\n",
    "print(a/b)"
   ]
  },
  {
   "cell_type": "markdown",
   "metadata": {},
   "source": [
    "4. 나머지 관계 연산자들을 구현하라 (__gt__, __ge__, __lt__, __le__, 그리고 __ne__)."
   ]
  },
  {
   "cell_type": "code",
   "execution_count": 9,
   "metadata": {},
   "outputs": [
    {
     "name": "stdout",
     "output_type": "stream",
     "text": [
      "False\n",
      "False\n",
      "True\n",
      "True\n",
      "True\n"
     ]
    }
   ],
   "source": [
    "class Fraction:\n",
    "    def __init__(self,top,bottom):\n",
    "        common = gcd(top,bottom)\n",
    "        self.num = top//common\n",
    "        self.den = bottom//common\n",
    "        \n",
    "    def __str__(self):\n",
    "        return str(self.num)+\"/\"+str(self.den)\n",
    "\n",
    "    def __add__(self,otherfraction):\n",
    "        newnum = self.num*otherfraction.den + self.den*otherfraction.num\n",
    "        newden = self.den * otherfraction.den\n",
    "        return Fraction(newnum,newden)\n",
    "    \n",
    "    def __sub__(self,otherfraction):\n",
    "        newnum = self.num*otherfraction.den - self.den*otherfraction.num\n",
    "        newden = self.den * otherfraction.den\n",
    "        return Fraction(newnum,newden)\n",
    "        \n",
    "    def __mul__(self,otherfraction):\n",
    "        \n",
    "        return Fraction(self.num*otherfraction.num,self.den*otherfraction.den)\n",
    "        \n",
    "    def __truediv__(self,otherfraction):\n",
    "        \n",
    "        return Fraction(self.num*otherfraction.den,self.den*otherfraction.num)\n",
    "    \n",
    "    def __eq__(self, other):\n",
    "        firstnum = self.num * other.den\n",
    "        secondnum = other.num * self.den\n",
    "\n",
    "        return firstnum == secondnum\n",
    "    \n",
    "    def __gt__(self,other):\n",
    "        firstnum = self.num * other.den\n",
    "        secondnum = other.num * self.den\n",
    "\n",
    "        return firstnum > secondnum\n",
    "        \n",
    "    def __ge__(self,other):\n",
    "        firstnum = self.num * other.den\n",
    "        secondnum = other.num * self.den\n",
    "\n",
    "        return firstnum >= secondnum\n",
    "        \n",
    "    def __lt__(self,other):\n",
    "        firstnum = self.num * other.den\n",
    "        secondnum = other.num * self.den\n",
    "\n",
    "        return firstnum < secondnum\n",
    "        \n",
    "    def __le__(self,other):\n",
    "        firstnum = self.num * other.den\n",
    "        secondnum = other.num * self.den\n",
    "\n",
    "        return firstnum <= secondnum\n",
    "    \n",
    "    def __ne__(self,other):\n",
    "        firstnum = self.num * other.den\n",
    "        secondnum = other.num * self.den\n",
    "\n",
    "        return firstnum != secondnum\n",
    "\n",
    "    \n",
    "a = Fraction(1,2)\n",
    "b = Fraction(2,3)\n",
    "\n",
    "print(a>b)\n",
    "print(a>=b)\n",
    "print(a<b)\n",
    "print(a<=b)\n",
    "print(a!=b)"
   ]
  },
  {
   "cell_type": "markdown",
   "metadata": {},
   "source": [
    "5. 분수 클래스의 생성자를 수정하여 분자와 분모가 모두 정수임을 확인하도록 하라. 둘 중 하나가 정수가 아닐 경우 생성자는 예외를 발생시켜야 한다."
   ]
  },
  {
   "cell_type": "code",
   "execution_count": 11,
   "metadata": {},
   "outputs": [
    {
     "ename": "RuntimeError",
     "evalue": "분자와 분모는 정수여야 합니다.",
     "output_type": "error",
     "traceback": [
      "\u001b[0;31m---------------------------------------------------------------------------\u001b[0m",
      "\u001b[0;31mRuntimeError\u001b[0m                              Traceback (most recent call last)",
      "\u001b[0;32m<ipython-input-11-2859be9c08a3>\u001b[0m in \u001b[0;36m<module>\u001b[0;34m()\u001b[0m\n\u001b[1;32m     30\u001b[0m \u001b[0;34m\u001b[0m\u001b[0m\n\u001b[1;32m     31\u001b[0m \u001b[0ma\u001b[0m \u001b[0;34m=\u001b[0m \u001b[0mFraction\u001b[0m\u001b[0;34m(\u001b[0m\u001b[0;36m2\u001b[0m\u001b[0;34m,\u001b[0m\u001b[0;36m3\u001b[0m\u001b[0;34m)\u001b[0m\u001b[0;34m\u001b[0m\u001b[0m\n\u001b[0;32m---> 32\u001b[0;31m \u001b[0mb\u001b[0m \u001b[0;34m=\u001b[0m \u001b[0mFraction\u001b[0m\u001b[0;34m(\u001b[0m\u001b[0;36m2.5\u001b[0m\u001b[0;34m,\u001b[0m\u001b[0;36m3\u001b[0m\u001b[0;34m)\u001b[0m\u001b[0;34m\u001b[0m\u001b[0m\n\u001b[0m\u001b[1;32m     33\u001b[0m \u001b[0;34m\u001b[0m\u001b[0m\n\u001b[1;32m     34\u001b[0m \u001b[0mprint\u001b[0m\u001b[0;34m(\u001b[0m\u001b[0ma\u001b[0m\u001b[0;34m)\u001b[0m\u001b[0;34m\u001b[0m\u001b[0m\n",
      "\u001b[0;32m<ipython-input-11-2859be9c08a3>\u001b[0m in \u001b[0;36m__init__\u001b[0;34m(self, top, bottom)\u001b[0m\n\u001b[1;32m      6\u001b[0m             \u001b[0mself\u001b[0m\u001b[0;34m.\u001b[0m\u001b[0mden\u001b[0m \u001b[0;34m=\u001b[0m \u001b[0mbottom\u001b[0m\u001b[0;34m//\u001b[0m\u001b[0mcommon\u001b[0m\u001b[0;34m\u001b[0m\u001b[0m\n\u001b[1;32m      7\u001b[0m         \u001b[0;32melse\u001b[0m\u001b[0;34m:\u001b[0m\u001b[0;34m\u001b[0m\u001b[0m\n\u001b[0;32m----> 8\u001b[0;31m             \u001b[0;32mraise\u001b[0m \u001b[0mRuntimeError\u001b[0m\u001b[0;34m(\u001b[0m\u001b[0;34m\"분자와 분모는 정수여야 합니다.\"\u001b[0m\u001b[0;34m)\u001b[0m\u001b[0;34m\u001b[0m\u001b[0m\n\u001b[0m\u001b[1;32m      9\u001b[0m \u001b[0;34m\u001b[0m\u001b[0m\n\u001b[1;32m     10\u001b[0m     \u001b[0;32mdef\u001b[0m \u001b[0m__str__\u001b[0m\u001b[0;34m(\u001b[0m\u001b[0mself\u001b[0m\u001b[0;34m)\u001b[0m\u001b[0;34m:\u001b[0m\u001b[0;34m\u001b[0m\u001b[0m\n",
      "\u001b[0;31mRuntimeError\u001b[0m: 분자와 분모는 정수여야 합니다."
     ]
    }
   ],
   "source": [
    "class Fraction:\n",
    "    def __init__(self,top,bottom):\n",
    "        if int(top)==top and int(bottom)==bottom:\n",
    "            common = gcd(top,bottom)\n",
    "            self.num = top//common\n",
    "            self.den = bottom//common\n",
    "        else:\n",
    "            raise RuntimeError(\"분자와 분모는 정수여야 합니다.\")\n",
    "        \n",
    "    def __str__(self):\n",
    "        return str(self.num)+\"/\"+str(self.den)\n",
    "\n",
    "    def __add__(self,otherfraction):\n",
    "        newnum = self.num*otherfraction.den + self.den*otherfraction.num\n",
    "        newden = self.den * otherfraction.den\n",
    "        return Fraction(newnum,newden)\n",
    "    \n",
    "    def __sub__(self,otherfraction):\n",
    "        newnum = self.num*otherfraction.den - self.den*otherfraction.num\n",
    "        newden = self.den * otherfraction.den\n",
    "        return Fraction(newnum,newden)\n",
    "        \n",
    "    def __mul__(self,otherfraction):\n",
    "        \n",
    "        return Fraction(self.num*otherfraction.num,self.den*otherfraction.den)\n",
    "        \n",
    "    def __truediv__(self,otherfraction):\n",
    "        \n",
    "        return Fraction(self.num*otherfraction.den,self.den*otherfraction.num)\n",
    "    \n",
    "a = Fraction(2,3)\n",
    "b = Fraction(2.5,3)"
   ]
  },
  {
   "cell_type": "markdown",
   "metadata": {},
   "source": [
    "6. 분수의 정의에서 우리는 음의 분수가 음의 분자와 양의 분모를 가진다고 가정했다. 음의 분모를 사용하는 것은 몇몇 관계 연산자들이 틀린 결과를 내도록 할 수 잇다. 일반적으로 이것은 불필요한 제약이다. 사용자가 음의 분모를 넘길 수 있도록 생성자를 수정하여 모든 연산자들이 제대로 작동하도록 하라."
   ]
  },
  {
   "cell_type": "code",
   "execution_count": 15,
   "metadata": {},
   "outputs": [
    {
     "name": "stdout",
     "output_type": "stream",
     "text": [
      "False\n",
      "True\n"
     ]
    }
   ],
   "source": [
    "class Fraction:\n",
    "    def __init__(self,top,bottom):\n",
    "        if bottom<0:\n",
    "            top *= -1\n",
    "            bottom *= -1\n",
    "        common = gcd(top,bottom)\n",
    "        self.num = top//common\n",
    "        self.den = bottom//common\n",
    "        \n",
    "    def __str__(self):\n",
    "        return str(self.num)+\"/\"+str(self.den)\n",
    "\n",
    "    def __add__(self,otherfraction):\n",
    "        newnum = self.num*otherfraction.den + self.den*otherfraction.num\n",
    "        newden = self.den * otherfraction.den\n",
    "        return Fraction(newnum,newden)\n",
    "    \n",
    "    def __eq__(self, other):\n",
    "        firstnum = self.num * other.den\n",
    "        secondnum = other.num * self.den\n",
    "\n",
    "        return firstnum == secondnum\n",
    "    \n",
    "    def __gt__(self,other):\n",
    "        firstnum = self.num * other.den\n",
    "        secondnum = other.num * self.den\n",
    "\n",
    "        return firstnum > secondnum\n",
    "        \n",
    "    def __ge__(self,other):\n",
    "        firstnum = self.num * other.den\n",
    "        secondnum = other.num * self.den\n",
    "\n",
    "        return firstnum >= secondnum\n",
    "        \n",
    "    def __lt__(self,other):\n",
    "        firstnum = self.num * other.den\n",
    "        secondnum = other.num * self.den\n",
    "\n",
    "        return firstnum < secondnum\n",
    "        \n",
    "    def __le__(self,other):\n",
    "        firstnum = self.num * other.den\n",
    "        secondnum = other.num * self.den\n",
    "\n",
    "        return firstnum <= secondnum\n",
    "    \n",
    "    def __ne__(self,other):\n",
    "        firstnum = self.num * other.den\n",
    "        secondnum = other.num * self.den\n",
    "\n",
    "        return firstnum != secondnum\n",
    "\n",
    "a = Fraction(2,-3)\n",
    "b = Fraction(1,-2)\n",
    "print(a>b)\n",
    "print(a<=b)"
   ]
  },
  {
   "cell_type": "markdown",
   "metadata": {},
   "source": [
    "7. __radd__ 메소드를 조사해보아라. __add__와 어떻게 다른가? __radd__를 구현하라."
   ]
  },
  {
   "cell_type": "markdown",
   "metadata": {},
   "source": [
    "radd 메소드는 add와 달리 역순 연산자로, 왼쪽 피연산자가 add 메소드를 지원하지 않거나 두 피연산자의 타입이 다를 때 호출된다."
   ]
  },
  {
   "cell_type": "code",
   "execution_count": 18,
   "metadata": {},
   "outputs": [],
   "source": [
    "class Fraction:\n",
    "    def __init__(self,top,bottom):\n",
    "        if bottom<0:\n",
    "            top *= -1\n",
    "            bottom *= -1\n",
    "        common = gcd(top,bottom)\n",
    "        self.num = top//common\n",
    "        self.den = bottom//common\n",
    "        \n",
    "    def __str__(self):\n",
    "        return str(self.num)+\"/\"+str(self.den)\n",
    "\n",
    "    def __add__(self,otherfraction):\n",
    "        newnum = self.num*otherfraction.den + self.den*otherfraction.num\n",
    "        newden = self.den * otherfraction.den\n",
    "        return Fraction(newnum,newden)\n",
    "    \n",
    "    def __radd__(self,otherfraction):\n",
    "        return otherfraction + self\n"
   ]
  },
  {
   "cell_type": "markdown",
   "metadata": {},
   "source": [
    "8. 이전 문제를 반복하되 이번엔 __iadd__ 메소드를 고려해보아라."
   ]
  },
  {
   "cell_type": "markdown",
   "metadata": {},
   "source": [
    "iadd 메소드는 += 연산자를 구현한 메소드로 add와 달리 self를 반환하게 된다."
   ]
  },
  {
   "cell_type": "code",
   "execution_count": 19,
   "metadata": {},
   "outputs": [],
   "source": [
    "class Fraction:\n",
    "    def __init__(self,top,bottom):\n",
    "        if bottom<0:\n",
    "            top *= -1\n",
    "            bottom *= -1\n",
    "        common = gcd(top,bottom)\n",
    "        self.num = top//common\n",
    "        self.den = bottom//common\n",
    "        \n",
    "    def __str__(self):\n",
    "        return str(self.num)+\"/\"+str(self.den)\n",
    "\n",
    "    def __add__(self,otherfraction):\n",
    "        newnum = self.num*otherfraction.den + self.den*otherfraction.num\n",
    "        newden = self.den * otherfraction.den\n",
    "        return Fraction(newnum,newden)\n",
    "    \n",
    "    def __iadd__(self,otherfraction):\n",
    "        self += otherfraction\n",
    "        return self"
   ]
  },
  {
   "cell_type": "code",
   "execution_count": null,
   "metadata": {},
   "outputs": [],
   "source": []
  }
 ],
 "metadata": {
  "kernelspec": {
   "display_name": "Python 3.6",
   "language": "python",
   "name": "python3"
  },
  "language_info": {
   "codemirror_mode": {
    "name": "ipython",
    "version": 3
   },
   "file_extension": ".py",
   "mimetype": "text/x-python",
   "name": "python",
   "nbconvert_exporter": "python",
   "pygments_lexer": "ipython3",
   "version": "3.6.5"
  }
 },
 "nbformat": 4,
 "nbformat_minor": 2
}
