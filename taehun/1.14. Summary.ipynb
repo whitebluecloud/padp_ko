{
 "cells": [
  {
   "cell_type": "markdown",
   "metadata": {},
   "source": [
    "# 1.14. 요약\n",
    "\n",
    "* 컴퓨터 과학은 문제 해결의 학문이다.\n",
    "* 컴퓨터 과학은 처리 과정과 데이터를 나타내는 데 추상화를 사용한다.\n",
    "* 추상 데이터 타입은 프로그래머들이 데이터의 세부사항을 숨김으로써 문제의 복잡성을 관리할 수 있도록 해준다.\n",
    "* 파이썬은 강력하고, 사용하기 쉬우며, 객체지향적인 언어이다.\n",
    "* 리스트, 튜플, 그리고 문자열은 파이썬 배열 컬렉션에서 만들어진다.\n",
    "* 사전과 집합은 데이터의 비배열 컬렉션이다.\n",
    "* 클래스는 프로그래머들이 추상 데이터 타입을 실행할 수 있도록 해준다.\n",
    "* 프로그래머들은 새로운 메소드를 만들 수 있을 뿐 아니라 표준 메소드를 오버라이드할 수도 있다.\n",
    "* 클래스는 계층으로 조직화될 수 있다.\n",
    "* 클래스 생성자는 자체 데이터와 행위로 넘어가기 전에 항상 그 부모의 생성자를 호출해야 한다."
   ]
  },
  {
   "cell_type": "code",
   "execution_count": null,
   "metadata": {},
   "outputs": [],
   "source": []
  }
 ],
 "metadata": {
  "kernelspec": {
   "display_name": "Python 3.6",
   "language": "python",
   "name": "python3"
  },
  "language_info": {
   "codemirror_mode": {
    "name": "ipython",
    "version": 3
   },
   "file_extension": ".py",
   "mimetype": "text/x-python",
   "name": "python",
   "nbconvert_exporter": "python",
   "pygments_lexer": "ipython3",
   "version": "3.6.5"
  }
 },
 "nbformat": 4,
 "nbformat_minor": 2
}
