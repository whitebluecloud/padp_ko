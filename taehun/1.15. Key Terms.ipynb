{
 "cells": [
  {
   "cell_type": "markdown",
   "metadata": {},
   "source": [
    "# 1.15. 핵심 용어\n",
    "\n",
    "추상 데이터 타입\n",
    "추상화\n",
    "알고리즘\n",
    "클래스\n",
    "계산 가능\n",
    "데이터 추상화\n",
    "데이터 구조\n",
    "데이터 타입\n",
    "깊은 동일성\n",
    "사전\n",
    "캡슐화\n",
    "예외\n",
    "형식 제어자\n",
    "형식화된 문자열\n",
    "HAS-A 관계\n",
    "실행 의존\n",
    "정보 은닉\n",
    "상속\n",
    "상속 계층\n",
    "인터페이스\n",
    "IS-A 관계\n",
    "리스트\n",
    "리스트 포함\n",
    "메소드\n",
    "변동성\n",
    "객체\n",
    "절차적 추상화\n",
    "프로그래밍\n",
    "프롬프트\n",
    "self\n",
    "얕은 동일성\n",
    "실험\n",
    "문자열\n",
    "하위클래스\n",
    "상위클래스\n",
    "진위표"
   ]
  },
  {
   "cell_type": "code",
   "execution_count": null,
   "metadata": {},
   "outputs": [],
   "source": []
  }
 ],
 "metadata": {
  "kernelspec": {
   "display_name": "Python 3.6",
   "language": "python",
   "name": "python3"
  },
  "language_info": {
   "codemirror_mode": {
    "name": "ipython",
    "version": 3
   },
   "file_extension": ".py",
   "mimetype": "text/x-python",
   "name": "python",
   "nbconvert_exporter": "python",
   "pygments_lexer": "ipython3",
   "version": "3.6.5"
  }
 },
 "nbformat": 4,
 "nbformat_minor": 2
}
