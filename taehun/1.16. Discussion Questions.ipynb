{
 "cells": [
  {
   "cell_type": "markdown",
   "metadata": {},
   "source": [
    "# 1.16. 토론 질문\n",
    "\n",
    "1. 대학 캠퍼스의 사람들을 위한 클래스 계층을 만들어라. 교수진, 사무직원, 그리고 학생들을 포함시켜라. 그들이 공통으로 가진 것은 무엇인가? 그들을 서로 구별하는 것은 무엇인가?\n",
    "2. 은행 계좌에 대한 클래스 계층을 만들어라.\n",
    "3. 서로 다른 유형의 컴퓨터에 대해 클래스 계층을 만들어라.\n",
    "4. 챕터에서 제공된 클래스들을 사용하여 회로를 상호적으로 만들고 시험해보아라."
   ]
  },
  {
   "cell_type": "code",
   "execution_count": null,
   "metadata": {},
   "outputs": [],
   "source": []
  }
 ],
 "metadata": {
  "kernelspec": {
   "display_name": "Python 3.6",
   "language": "python",
   "name": "python3"
  },
  "language_info": {
   "codemirror_mode": {
    "name": "ipython",
    "version": 3
   },
   "file_extension": ".py",
   "mimetype": "text/x-python",
   "name": "python",
   "nbconvert_exporter": "python",
   "pygments_lexer": "ipython3",
   "version": "3.6.5"
  }
 },
 "nbformat": 4,
 "nbformat_minor": 2
}
