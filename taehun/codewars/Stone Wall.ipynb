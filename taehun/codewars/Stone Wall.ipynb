{
 "cells": [
  {
   "cell_type": "code",
   "execution_count": 3,
   "metadata": {},
   "outputs": [
    {
     "data": {
      "text/plain": [
       "7"
      ]
     },
     "execution_count": 3,
     "metadata": {},
     "output_type": "execute_result"
    }
   ],
   "source": [
    "def solution(H):\n",
    "    st = []\n",
    "    cnt = 0\n",
    "    for h in H:\n",
    "        if not st:\n",
    "            cnt += 1\n",
    "            st.append(h)\n",
    "        else:\n",
    "            if st[-1] == h:\n",
    "                st.append(h)\n",
    "            elif st[-1] < h:\n",
    "                cnt += 1\n",
    "                st.append(h)\n",
    "            else:\n",
    "                add = True\n",
    "                while st and st[-1] >= h:\n",
    "                    if st[-1] == h:\n",
    "                        add = False\n",
    "                        break\n",
    "                    else:\n",
    "                        st.pop()\n",
    "                if add:\n",
    "                    cnt += 1\n",
    "                    st.append(h)\n",
    "    \n",
    "    return cnt\n",
    "    \n",
    "solution([8,8,5,7,9,8,7,4,8])"
   ]
  }
 ],
 "metadata": {
  "kernelspec": {
   "display_name": "Python 3.6",
   "language": "python",
   "name": "python3"
  },
  "language_info": {
   "codemirror_mode": {
    "name": "ipython",
    "version": 3
   },
   "file_extension": ".py",
   "mimetype": "text/x-python",
   "name": "python",
   "nbconvert_exporter": "python",
   "pygments_lexer": "ipython3",
   "version": "3.6.5"
  }
 },
 "nbformat": 4,
 "nbformat_minor": 2
}
