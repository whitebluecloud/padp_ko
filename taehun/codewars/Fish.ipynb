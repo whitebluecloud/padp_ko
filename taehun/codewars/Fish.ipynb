{
 "cells": [
  {
   "cell_type": "code",
   "execution_count": 2,
   "metadata": {},
   "outputs": [
    {
     "name": "stdout",
     "output_type": "stream",
     "text": [
      "2\n"
     ]
    }
   ],
   "source": [
    "def solution(A, B):\n",
    "    cnt = 0\n",
    "    Stack = []\n",
    "    for idx, size in enumerate(A):\n",
    "        if B[idx] == 0:\n",
    "            alive = True\n",
    "            while Stack:\n",
    "                if Stack[-1] > size:\n",
    "                    alive = False\n",
    "                    break\n",
    "                else:\n",
    "                    Stack.pop()\n",
    "            if alive:\n",
    "                cnt += 1\n",
    "        else:\n",
    "            Stack.append(A[idx])\n",
    "    \n",
    "    return cnt + len(Stack)\n",
    "\n",
    "A = [4,3,2,1,5]\n",
    "B = [0,1,0,0,0]\n",
    "\n",
    "print(solution(A,B))"
   ]
  },
  {
   "cell_type": "code",
   "execution_count": null,
   "metadata": {},
   "outputs": [],
   "source": []
  }
 ],
 "metadata": {
  "kernelspec": {
   "display_name": "Python 3.6",
   "language": "python",
   "name": "python3"
  },
  "language_info": {
   "codemirror_mode": {
    "name": "ipython",
    "version": 3
   },
   "file_extension": ".py",
   "mimetype": "text/x-python",
   "name": "python",
   "nbconvert_exporter": "python",
   "pygments_lexer": "ipython3",
   "version": "3.6.5"
  }
 },
 "nbformat": 4,
 "nbformat_minor": 2
}
