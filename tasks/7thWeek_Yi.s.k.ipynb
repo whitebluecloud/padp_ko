{
 "cells": [
  {
   "cell_type": "code",
   "execution_count": 1,
   "metadata": {},
   "outputs": [
    {
     "name": "stdout",
     "output_type": "stream",
     "text": [
      "[[5, ['A042']], [3, ['A025', 'B004']]]\n"
     ]
    }
   ],
   "source": [
    "from collections import Counter\n",
    "def id_best_users(*args):\n",
    "    a = set.intersection(*(set(i) for i in args))\n",
    "    b= []\n",
    "    res = []\n",
    "    best={}\n",
    "    final=[]\n",
    "    for i in args:\n",
    "        b += i\n",
    "    for i in b:\n",
    "        if i in a:\n",
    "            res.append(i)\n",
    "    cnt = Counter(res)\n",
    "    for i in cnt:\n",
    "        best.setdefault(cnt[i],[]).append(i)\n",
    "    for i in best.keys():\n",
    "        final.append([i, sorted(best[i])])\n",
    "    return sorted(final, reverse=True)\n",
    "\n",
    "a1 = ['A042', 'B004', 'A025', 'A042', 'C025']\n",
    "a2 = ['B009', 'B040', 'B004', 'A042', 'A025', 'A042']\n",
    "a3 = ['A042', 'A025', 'B004']\n",
    "\n",
    "print(id_best_users(a1,a2,a3))"
   ]
  },
  {
   "cell_type": "code",
   "execution_count": 3,
   "metadata": {},
   "outputs": [
    {
     "name": "stdout",
     "output_type": "stream",
     "text": [
      "1\n",
      "0\n"
     ]
    }
   ],
   "source": [
    "def solution(S):\n",
    "    # write your code in Python 3.6\n",
    "    s = []\n",
    "    balanced = True\n",
    "    index = 0\n",
    "    while index < len(S) and balanced:\n",
    "        symbol = S[index]\n",
    "        if symbol in \"([{\":\n",
    "            s.append(symbol)\n",
    "        else:\n",
    "            if s == []:\n",
    "                balanced = False\n",
    "            else:\n",
    "                top = s.pop()\n",
    "                if not matches(top,symbol):\n",
    "                       balanced = False\n",
    "        index = index + 1\n",
    "    if balanced and s == []:\n",
    "        return 1\n",
    "    else:\n",
    "        return 0\n",
    "\n",
    "def matches(open,close):\n",
    "    opens = \"([{\"\n",
    "    closers = \")]}\"\n",
    "    return opens.index(open) == closers.index(close)\n",
    "    pass\n",
    "\n",
    "print(solution('{{([][])}()}'))\n",
    "print(solution('[{()]'))"
   ]
  },
  {
   "cell_type": "code",
   "execution_count": null,
   "metadata": {},
   "outputs": [],
   "source": []
  }
 ],
 "metadata": {
  "kernelspec": {
   "display_name": "Python 3",
   "language": "python",
   "name": "python3"
  },
  "language_info": {
   "codemirror_mode": {
    "name": "ipython",
    "version": 3
   },
   "file_extension": ".py",
   "mimetype": "text/x-python",
   "name": "python",
   "nbconvert_exporter": "python",
   "pygments_lexer": "ipython3",
   "version": "3.7.3"
  }
 },
 "nbformat": 4,
 "nbformat_minor": 2
}
