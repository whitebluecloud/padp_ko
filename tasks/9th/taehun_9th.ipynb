{
 "cells": [
  {
   "cell_type": "code",
   "execution_count": 1,
   "metadata": {},
   "outputs": [
    {
     "name": "stdout",
     "output_type": "stream",
     "text": [
      "3\n",
      "25\n",
      "1\n",
      "4\n"
     ]
    }
   ],
   "source": [
    "def solution(X, Y, D):\n",
    "    return (Y-X)//D if (Y-X)%D == 0 else (Y-X)//D + 1\n",
    "    \n",
    "print(solution(10, 85, 30))\n",
    "print(solution(10, 85, 3))\n",
    "print(solution(10, 11, 1))\n",
    "print(solution(10, 22, 3))"
   ]
  },
  {
   "cell_type": "code",
   "execution_count": 2,
   "metadata": {},
   "outputs": [
    {
     "name": "stdout",
     "output_type": "stream",
     "text": [
      "50\n",
      "256\n",
      "246\n"
     ]
    }
   ],
   "source": [
    "def ips_between(start, end):\n",
    "    s = 0\n",
    "    e = 0\n",
    "    for i,d in enumerate(start.split('.')):\n",
    "        s += 256**(3-i) * int(d)\n",
    "    for i,d in enumerate(end.split('.')):\n",
    "        e += 256**(3-i) * int(d)\n",
    "        \n",
    "    return e-s\n",
    "\n",
    "print(ips_between(\"10.0.0.0\", \"10.0.0.50\"))\n",
    "print(ips_between(\"10.0.0.0\", \"10.0.1.0\"))\n",
    "print(ips_between(\"20.0.0.10\", \"20.0.1.0\"))"
   ]
  },
  {
   "cell_type": "code",
   "execution_count": null,
   "metadata": {},
   "outputs": [],
   "source": []
  }
 ],
 "metadata": {
  "kernelspec": {
   "display_name": "Python 3.6",
   "language": "python",
   "name": "python3"
  },
  "language_info": {
   "codemirror_mode": {
    "name": "ipython",
    "version": 3
   },
   "file_extension": ".py",
   "mimetype": "text/x-python",
   "name": "python",
   "nbconvert_exporter": "python",
   "pygments_lexer": "ipython3",
   "version": "3.6.5"
  }
 },
 "nbformat": 4,
 "nbformat_minor": 2
}
