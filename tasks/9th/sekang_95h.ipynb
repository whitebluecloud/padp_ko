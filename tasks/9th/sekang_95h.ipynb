{
 "cells": [
  {
   "cell_type": "code",
   "execution_count": 3,
   "metadata": {},
   "outputs": [
    {
     "name": "stdout",
     "output_type": "stream",
     "text": [
      "True\n",
      "True\n",
      "True\n",
      "True\n",
      "True\n",
      "True\n",
      "True\n",
      "True\n",
      "True\n",
      "True\n"
     ]
    }
   ],
   "source": [
    "import math\n",
    "def solution(X, Y, D):\n",
    "    return math.ceil((Y-X)/D)\n",
    "\n",
    "def testsolution(A,B):\n",
    "    if A == B:\n",
    "        return True\n",
    "    else:\n",
    "        return False\n",
    "    \n",
    "print(testsolution(solution(10,85,30),3))\n",
    "print(testsolution(solution(15,15,1),0))\n",
    "print(testsolution(solution(0,100,50),2))\n",
    "print(testsolution(solution(0,333,50),7))\n",
    "print(testsolution(solution(15,150,10),14))\n",
    "print(testsolution(solution(0,100,20),5))\n",
    "print(testsolution(solution(0,4587,50),92))\n",
    "print(testsolution(solution(15,150,1),135))\n",
    "print(testsolution(solution(0,1000,50),20))\n",
    "print(testsolution(solution(0,457,50),10))"
   ]
  },
  {
   "cell_type": "code",
   "execution_count": 2,
   "metadata": {},
   "outputs": [
    {
     "name": "stdout",
     "output_type": "stream",
     "text": [
      "True\n",
      "True\n",
      "True\n",
      "True\n",
      "True\n",
      "True\n",
      "True\n"
     ]
    }
   ],
   "source": [
    "def ips_between(start, end):\n",
    "    # TODO\n",
    "    s = start.split(\".\")\n",
    "    e = end.split(\".\")\n",
    "    res = 0\n",
    "    for i in range(len(s)):\n",
    "        res += (int(e[i])-int(s[i]))*(256**((len(s)-1)-i))\n",
    "    return res\n",
    "\n",
    "def test(A, B):\n",
    "    if A == B:\n",
    "        return True\n",
    "    else:\n",
    "        return False\n",
    "    \n",
    "print(test(ips_between(\"10.0.0.0\", \"10.0.0.50\"),50))\n",
    "print(test(ips_between(\"20.0.0.10\", \"20.0.1.0\"),246))\n",
    "print(test(ips_between(\"249.231.17.16\", \"252.102.111.27\"),41901579))\n",
    "print(test(ips_between(\"172.114.195.71\", \"255.255.255.255\"),1401765048))\n",
    "print(test(ips_between(\"58.124.139.33\", \"60.78.172.150\"),30548341))\n",
    "print(test(ips_between(\"224.127.140.215\", \"224.128.3.218\"),30467))\n",
    "print(test(ips_between(\"202.192.152.107\", \"228.25.254.178\"),425289287))"
   ]
  },
  {
   "cell_type": "code",
   "execution_count": null,
   "metadata": {},
   "outputs": [],
   "source": []
  }
 ],
 "metadata": {
  "kernelspec": {
   "display_name": "Python 3",
   "language": "python",
   "name": "python3"
  },
  "language_info": {
   "codemirror_mode": {
    "name": "ipython",
    "version": 3
   },
   "file_extension": ".py",
   "mimetype": "text/x-python",
   "name": "python",
   "nbconvert_exporter": "python",
   "pygments_lexer": "ipython3",
   "version": "3.7.3"
  }
 },
 "nbformat": 4,
 "nbformat_minor": 2
}
