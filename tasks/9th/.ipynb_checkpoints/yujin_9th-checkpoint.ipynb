{
 "cells": [
  {
   "cell_type": "markdown",
   "metadata": {},
   "source": [
    "# FrogJmp\n",
    "#### Count minimal number of jumps from position X to Y.\n",
    "\n",
    "A small frog wants to get to the other side of the road. The frog is currently located at position X and wants to get to a position greater than or equal to Y. The small frog always jumps a fixed distance, D.\n",
    "\n",
    "Count the minimal number of jumps that the small frog must perform to reach its target.\n",
    "\n",
    "Write a function:\n",
    "\n",
    "def solution(X, Y, D)\n",
    "\n",
    "that, given three integers X, Y and D, returns the minimal number of jumps from position X to a position equal to or greater than Y.\n",
    "\n",
    "For example, given:\n",
    "\n",
    "  X = 10\n",
    "  Y = 85\n",
    "  D = 30\n",
    "the function should return 3, because the frog will be positioned as follows:\n",
    "\n",
    "after the first jump, at position 10 + 30 = 40\n",
    "after the second jump, at position 10 + 30 + 30 = 70\n",
    "after the third jump, at position 10 + 30 + 30 + 30 = 100\n",
    "Write an efficient algorithm for the following assumptions:\n",
    "\n",
    "X, Y and D are integers within the range [1..1,000,000,000];\n",
    "X ≤ Y."
   ]
  },
  {
   "cell_type": "code",
   "execution_count": null,
   "metadata": {},
   "outputs": [],
   "source": [
    "def solution(X, Y, D):\n",
    "    # write your code in Python 3.6\n",
    "    return (Y - X) // D if (Y - X) % D == 0 else (Y - X) // D + 1"
   ]
  },
  {
   "cell_type": "markdown",
   "metadata": {},
   "source": [
    "# Count IP Addresses\n",
    "\n",
    "Write a function that accepts a starting and ending IPv4 address, and the number of IP addresses from start to end, excluding the end IP address.\n",
    "\n",
    "All input to the function will be valid IPv4 addresses in the form of strings. The ending address will be at least one address higher than the starting address.\n",
    "\n",
    "<Examples>\n",
    "ipsBetween(\"10.0.0.0\", \"10.0.0.50\")  =>   50 \n",
    "ipsBetween(\"10.0.0.0\", \"10.0.1.0\")   =>  256 \n",
    "ipsBetween(\"20.0.0.10\", \"20.0.1.0\")  =>  246"
   ]
  },
  {
   "cell_type": "code",
   "execution_count": null,
   "metadata": {},
   "outputs": [],
   "source": [
    "def ips_between(start, end):\n",
    "    # TODO\n",
    "    start = list(map(int, start.split(\".\")))\n",
    "    end = list(map(int, end.split(\".\")))\n",
    "    \n",
    "    return 256**3*(end[0]-start[0]) + 256**2*(end[1]-start[1]) + 256*(end[2]-start[2]) + (end[3]-start[3])"
   ]
  }
 ],
 "metadata": {
  "kernelspec": {
   "display_name": "Python 3",
   "language": "python",
   "name": "python3"
  },
  "language_info": {
   "codemirror_mode": {
    "name": "ipython",
    "version": 3
   },
   "file_extension": ".py",
   "mimetype": "text/x-python",
   "name": "python",
   "nbconvert_exporter": "python",
   "pygments_lexer": "ipython3",
   "version": "3.7.3"
  }
 },
 "nbformat": 4,
 "nbformat_minor": 2
}
