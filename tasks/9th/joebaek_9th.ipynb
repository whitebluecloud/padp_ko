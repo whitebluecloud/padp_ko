{
 "cells": [
  {
   "cell_type": "code",
   "execution_count": 1,
   "metadata": {},
   "outputs": [],
   "source": [
    "# you can write to stdout for debugging purposes, e.g.\n",
    "# print(\"this is a debug message\")\n",
    "\n",
    "def solution(X, Y, D):\n",
    "    ret = divmod(Y-X, D)\n",
    "    return ret[0] if ret[1] == 0 else ret[0] + 1"
   ]
  },
  {
   "cell_type": "code",
   "execution_count": 2,
   "metadata": {},
   "outputs": [],
   "source": [
    "import re\n",
    "from operator import sub\n",
    "def ips_between(start, end):\n",
    "    # Confirm IPV4 \n",
    "    ip_regex = re.compile('^(?:(?:25[0-5]|2[0-4][0-9]|[01]?[0-9][0-9]?)\\.){3}(?:25[0-5]|2[0-4][0-9]|[01]?[0-9][0-9]?)$')\n",
    "    if ip_regex.search(start) and ip_regex.search(end):\n",
    "        nstrt  = [int(s) for s in start.split('.')]\n",
    "        nend   = [int(s) for s in end.split('.')]\n",
    "        return sum([pow(256, i) * x for i, x in enumerate(reversed(list(map(sub, nend, nstrt))))])\n",
    "    return None"
   ]
  },
  {
   "cell_type": "code",
   "execution_count": 11,
   "metadata": {},
   "outputs": [],
   "source": [
    "assert ips_between(\"10.0.0.0\", \"10.0.0.50\")  ==   50 \n",
    "assert ips_between(\"10.0.0.0\", \"10.0.1.0\")   ==  256 \n",
    "assert ips_between(\"20.0.0.10\", \"20.0.1.0\")  ==  246"
   ]
  },
  {
   "cell_type": "code",
   "execution_count": 12,
   "metadata": {},
   "outputs": [],
   "source": [
    "X = 10\n",
    "Y = 85\n",
    "D = 30\n",
    "assert solution(X, Y, D) == 3"
   ]
  },
  {
   "cell_type": "code",
   "execution_count": null,
   "metadata": {},
   "outputs": [],
   "source": []
  }
 ],
 "metadata": {
  "kernelspec": {
   "display_name": "Python 3",
   "language": "python",
   "name": "python3"
  },
  "language_info": {
   "codemirror_mode": {
    "name": "ipython",
    "version": 3
   },
   "file_extension": ".py",
   "mimetype": "text/x-python",
   "name": "python",
   "nbconvert_exporter": "python",
   "pygments_lexer": "ipython3",
   "version": "3.6.8"
  }
 },
 "nbformat": 4,
 "nbformat_minor": 2
}
