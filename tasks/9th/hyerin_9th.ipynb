{
 "cells": [
  {
   "cell_type": "markdown",
   "metadata": {},
   "source": [
    "- frogJmp"
   ]
  },
  {
   "cell_type": "code",
   "execution_count": 4,
   "metadata": {},
   "outputs": [
    {
     "name": "stdout",
     "output_type": "stream",
     "text": [
      "3\n"
     ]
    }
   ],
   "source": [
    "def solution(X, Y, D):\n",
    "    return (Y - X) // D if (Y - X) % D == 0 else (Y - X) // D + 1\n",
    "\n",
    "print(solution(10,85,30))"
   ]
  },
  {
   "cell_type": "markdown",
   "metadata": {},
   "source": [
    "- count IP addreesses"
   ]
  },
  {
   "cell_type": "code",
   "execution_count": 3,
   "metadata": {},
   "outputs": [
    {
     "name": "stdout",
     "output_type": "stream",
     "text": [
      "50\n",
      "256\n",
      "246\n"
     ]
    }
   ],
   "source": [
    "def ips_between(start, end):\n",
    "    startArr = start.split('.')\n",
    "    endArr = end.split('.')\n",
    "    powArr = [pow(256,3),pow(256,2),pow(256,1),pow(256,0)]\n",
    "    retVal = 0\n",
    "    for i in range(0,4):\n",
    "        retVal += (int(endArr[i])-int(startArr[i]))*powArr[i]\n",
    "\n",
    "    return retVal\n",
    "\n",
    "print(ips_between(\"10.0.0.0\", \"10.0.0.50\")) \n",
    "print(ips_between(\"10.0.0.0\", \"10.0.1.0\"))\n",
    "print(ips_between(\"20.0.0.10\", \"20.0.1.0\"))"
   ]
  },
  {
   "cell_type": "code",
   "execution_count": null,
   "metadata": {},
   "outputs": [],
   "source": []
  }
 ],
 "metadata": {
  "kernelspec": {
   "display_name": "Python 3",
   "language": "python",
   "name": "python3"
  },
  "language_info": {
   "codemirror_mode": {
    "name": "ipython",
    "version": 3
   },
   "file_extension": ".py",
   "mimetype": "text/x-python",
   "name": "python",
   "nbconvert_exporter": "python",
   "pygments_lexer": "ipython3",
   "version": "3.7.3"
  }
 },
 "nbformat": 4,
 "nbformat_minor": 2
}
