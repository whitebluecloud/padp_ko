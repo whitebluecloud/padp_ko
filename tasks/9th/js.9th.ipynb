{
  "cells": [
    {
      "cell_type": "code",
      "execution_count": 4,
      "outputs": [
        {
          "data": {
            "text/plain": "3"
          },
          "metadata": {},
          "output_type": "execute_result",
          "execution_count": 4
        }
      ],
      "source": "import math\ndef solution(x,y,d) :\n    return math.ceil((y-x)/d)\n",
      "metadata": {
        "pycharm": {
          "metadata": false,
          "name": "#%%\n",
          "is_executing": false
        }
      }
    },
    {
      "cell_type": "code",
      "execution_count": 1,
      "metadata": {
        "collapsed": true,
        "pycharm": {
          "is_executing": false
        }
      },
      "outputs": [
        {
          "name": "stdout",
          "text": [
            "2085128\n"
          ],
          "output_type": "stream"
        }
      ],
      "source": "def ips_between(start, end):\n    strtArr \u003d start.split(\".\")\n    endArr \u003d end.split(\".\")\n\n    ansArr \u003d [int(endArr[i]) - int(strtArr[i]) for i in range(len(strtArr))]\n    ansArr.reverse()\n\n    ans \u003d 0\n    for i in range(len(ansArr)) :\n        ans +\u003d ansArr[i] * pow(256,i)\n        \n    return ans\n\n\nprint(ips_between(\"132.178.156.251\", \"132.210.110.3\"))\n\n"
    }
  ],
  "metadata": {
    "language_info": {
      "codemirror_mode": {
        "name": "ipython",
        "version": 2
      },
      "file_extension": ".py",
      "mimetype": "text/x-python",
      "name": "python",
      "nbconvert_exporter": "python",
      "pygments_lexer": "ipython2",
      "version": "2.7.6"
    },
    "kernelspec": {
      "name": "python3",
      "language": "python",
      "display_name": "Python 3"
    },
    "stem_cell": {
      "cell_type": "raw",
      "source": "",
      "metadata": {
        "pycharm": {
          "metadata": false
        }
      }
    }
  },
  "nbformat": 4,
  "nbformat_minor": 0
}