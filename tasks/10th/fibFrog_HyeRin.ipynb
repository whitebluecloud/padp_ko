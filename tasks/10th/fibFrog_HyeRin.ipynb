{
 "cells": [
  {
   "cell_type": "code",
   "execution_count": 34,
   "metadata": {},
   "outputs": [
    {
     "name": "stdout",
     "output_type": "stream",
     "text": [
      "3\n"
     ]
    }
   ],
   "source": [
    "def getFibArr(N):\n",
    "    fibArr = [0,1]\n",
    "    for i in range(2,N) :\n",
    "        fibVal = fibArr[i-1] + fibArr[i-2]\n",
    "        if fibVal > N: #강넓이보다 긴 점프 필요X\n",
    "            break\n",
    "        else : \n",
    "            fibArr.append(fibVal)\n",
    "    return fibArr\n",
    "\n",
    "def solution(A):\n",
    "    \n",
    "    if len(A) <= 2:\n",
    "        return 1\n",
    "    \n",
    "    maxJmp= len(A) +1 #최대 점프 수 는 모두 잎이1 일때 \n",
    "    A.insert(0,1)\n",
    "    A.append(1) # 강 시작과 끝 추가\n",
    "    fibArr = getFibArr(len(A)) \n",
    "        \n",
    "    dp = [maxJmp] * len(A) #최대점프값으로 초기화\n",
    "    dp[0] = 0 # 시작 bank\n",
    "    \n",
    "    for curLeaf in range(1,len(A)) :\n",
    "        minVal = maxJmp\n",
    "        if A[curLeaf] == 1:\n",
    "            for jumpLength in fibArr:\n",
    "                preLeaf = curLeaf-jumpLength\n",
    "                if preLeaf >= 0:\n",
    "                    if dp[preLeaf] + 1 < dp[curLeaf]: \n",
    "                        dp[curLeaf] = dp[preLeaf] + 1\n",
    "                        \n",
    "    if dp[-1] != maxJmp :\n",
    "        return dp[-1]\n",
    "    else :\n",
    "        return -1\n",
    "\n",
    "print(solution([0,0,0,1,1,0,1,0,0,0,0]))"
   ]
  },
  {
   "cell_type": "code",
   "execution_count": null,
   "metadata": {},
   "outputs": [],
   "source": [
    "assert solution([1]) ==1\n",
    "assert solution([0,0]) == 1\n",
    "assert solution([0,1,0,0,0]) == -1\n",
    "assert solution([0,0,0,1,1,0,1,0,0,0,0]) == 3"
   ]
  }
 ],
 "metadata": {
  "kernelspec": {
   "display_name": "Python 3",
   "language": "python",
   "name": "python3"
  },
  "language_info": {
   "codemirror_mode": {
    "name": "ipython",
    "version": 3
   },
   "file_extension": ".py",
   "mimetype": "text/x-python",
   "name": "python",
   "nbconvert_exporter": "python",
   "pygments_lexer": "ipython3",
   "version": "3.7.3"
  }
 },
 "nbformat": 4,
 "nbformat_minor": 2
}
