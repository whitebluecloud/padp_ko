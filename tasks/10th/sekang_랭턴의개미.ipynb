def ant(grid, column, row, n, direction = 0):
    for _ in range(n):
        if grid[row][column] == 0: 
            grid[row][column] = 1
            direction = (direction + 3) % 4
        elif grid[row][column] == 1: 
            grid[row][column] = 0
            direction = (direction + 1) % 4
        
        if   direction == 0: row -= 1
        elif direction == 1: column += 1
        elif direction == 2: row += 1
        elif direction == 3: column -= 1
        
        if row < 0:
            grid.insert(0, [0] * len(grid[0]))
            row = 0
        if row == len(grid):
            grid.append([0] * len(grid[0]))
        if column < 0:
            for i in range(len(grid)):
                grid[i].insert(0, 0)
            column = 0
        if column == len(grid[0]):
            for i in range(len(grid)):
                grid[i].append(0)
    
    return grid
