{
 "cells": [
  {
   "cell_type": "markdown",
   "metadata": {},
   "source": [
    "## Fish\n",
    "N voracious fish are moving along a river. Calculate how many fish are alive"
   ]
  },
  {
   "cell_type": "code",
   "execution_count": null,
   "metadata": {},
   "outputs": [],
   "source": [
    "# you can write to stdout for debugging purposes, e.g.\n",
    "# print(\"this is a debug message\")\n",
    "\n",
    "def solution(A, B):\n",
    "    # write your code in Python 3.6\n",
    "    lucky_alive_fish = len(A)\n",
    "    stack = []\n",
    "    \n",
    "    for i in range(len(A)):\n",
    "        if B[i] == 1:\n",
    "            stack.append(A[i])\n",
    "        \n",
    "        else:\n",
    "            while stack:\n",
    "                if stack[len(stack) - 1] > A[i]:\n",
    "                    lucky_alive_fish -= 1\n",
    "                    break\n",
    "                \n",
    "                else:\n",
    "                    lucky_alive_fish -= 1\n",
    "                    stack.pop()\n",
    "                    \n",
    "    return lucky_alive_fish"
   ]
  },
  {
   "cell_type": "markdown",
   "metadata": {},
   "source": [
    "## StoneWall\n",
    "Cover \"Manhattan skyline\" using the minimum number of rectangles."
   ]
  },
  {
   "cell_type": "code",
   "execution_count": null,
   "metadata": {},
   "outputs": [],
   "source": [
    "# you can write to stdout for debugging purposes, e.g.\n",
    "# print(\"this is a debug message\")\n",
    "\n",
    "def solution(H):\n",
    "    # write your code in Python 3.6\n",
    "    stack = []\n",
    "    cnt = 0\n",
    "    \n",
    "    for i in range(0, len(H)):\n",
    "        while stack:\n",
    "            if peek(stack) > H[i]:\n",
    "                stack.pop()\n",
    "            \n",
    "            else:\n",
    "                break\n",
    "            \n",
    "        if stack == [] or peek(stack) < H[i]:\n",
    "            stack.append(H[i])\n",
    "            cnt += 1\n",
    "            \n",
    "    return cnt\n",
    "    \n",
    "def peek(stack):\n",
    "    return stack[len(stack) - 1] if len(stack) > 0 else None"
   ]
  }
 ],
 "metadata": {
  "kernelspec": {
   "display_name": "Python 3.6",
   "language": "python",
   "name": "python3"
  },
  "language_info": {
   "codemirror_mode": {
    "name": "ipython",
    "version": 3
   },
   "file_extension": ".py",
   "mimetype": "text/x-python",
   "name": "python",
   "nbconvert_exporter": "python",
   "pygments_lexer": "ipython3",
   "version": "3.6.5"
  }
 },
 "nbformat": 4,
 "nbformat_minor": 2
}
