{
 "cells": [
  {
   "cell_type": "code",
   "execution_count": 7,
   "metadata": {},
   "outputs": [
    {
     "name": "stdout",
     "output_type": "stream",
     "text": [
      "2\n"
     ]
    }
   ],
   "source": [
    "def solution(A, B):\n",
    "    res = 0\n",
    "    s = []\n",
    "    for i in range(len(A)):\n",
    "        if B[i] == 1:\n",
    "            s.append(A[i])\n",
    "        else:\n",
    "            while len(s) != 0:\n",
    "                if s[-1] < A[i]:\n",
    "                    s.pop()\n",
    "                else:\n",
    "                    break\n",
    "            else:\n",
    "                res+=1\n",
    "             \n",
    "    res += len(s)\n",
    "     \n",
    "    return res\n",
    "\n",
    "A=[4,3,2,1,5]\n",
    "B=[0,1,0,0,0]\n",
    "print(solution(A,B))"
   ]
  },
  {
   "cell_type": "code",
   "execution_count": 14,
   "metadata": {},
   "outputs": [
    {
     "name": "stdout",
     "output_type": "stream",
     "text": [
      "7\n"
     ]
    }
   ],
   "source": [
    "def solution(H):\n",
    "    res = 0\n",
    "    s = []\n",
    "    for i in H:\n",
    "        while len(s) != 0 and s[-1] > i:\n",
    "            s.pop()\n",
    "         \n",
    "        if len(s) != 0 and s[-1] == i:\n",
    "            pass\n",
    "        else:\n",
    "            res += 1\n",
    "            s.append(i)\n",
    "             \n",
    "    return res\n",
    "\n",
    "H=[8,8,5,7,9,8,7,4,8]\n",
    "print(solution(H))"
   ]
  },
  {
   "cell_type": "code",
   "execution_count": null,
   "metadata": {},
   "outputs": [],
   "source": []
  }
 ],
 "metadata": {
  "kernelspec": {
   "display_name": "Python 3",
   "language": "python",
   "name": "python3"
  },
  "language_info": {
   "codemirror_mode": {
    "name": "ipython",
    "version": 3
   },
   "file_extension": ".py",
   "mimetype": "text/x-python",
   "name": "python",
   "nbconvert_exporter": "python",
   "pygments_lexer": "ipython3",
   "version": "3.7.3"
  }
 },
 "nbformat": 4,
 "nbformat_minor": 2
}
