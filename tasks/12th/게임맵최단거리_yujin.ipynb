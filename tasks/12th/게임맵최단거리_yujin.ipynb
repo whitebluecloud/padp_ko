{
 "cells": [
  {
   "cell_type": "code",
   "execution_count": null,
   "metadata": {},
   "outputs": [],
   "source": [
    "def solution(maps):\n",
    "    width = len(maps[0])\n",
    "    height = len(maps)\n",
    "    \n",
    "    visited = [[0 for i in range(width)] for j in range(height)]\n",
    "    visited[0][0] = 1\n",
    "    q = [[0, 0]]\n",
    "    answer = 1\n",
    "    \n",
    "    while q:\n",
    "        pos = q.pop()\n",
    "        x = pos[0]\n",
    "        y = pos[1]\n",
    "        \n",
    "        if x == width - 1 and y == height - 1:\n",
    "            return answer\n",
    "\n",
    "        for d in [[-1, 0], [0, -1], [1, 0], [0, 1]]:\n",
    "            x_next = x + d[0]\n",
    "            y_next = y + d[1]\n",
    "            \n",
    "            if x_next >= 0 and x_next < width and y_next >= 0 and y_next < height:\n",
    "                if maps[x_next][y_next] == 1 and visited[x_next][y_next] == 0:\n",
    "                    visited[x_next][y_next] = 1\n",
    "                    q.append([x_next, y_next])\n",
    "        \n",
    "        answer += 1\n",
    "            \n",
    "    return -1"
   ]
  },
  {
   "cell_type": "code",
   "execution_count": null,
   "metadata": {},
   "outputs": [],
   "source": []
  }
 ],
 "metadata": {
  "kernelspec": {
   "display_name": "Python 3.6",
   "language": "python",
   "name": "python3"
  },
  "language_info": {
   "codemirror_mode": {
    "name": "ipython",
    "version": 3
   },
   "file_extension": ".py",
   "mimetype": "text/x-python",
   "name": "python",
   "nbconvert_exporter": "python",
   "pygments_lexer": "ipython3",
   "version": "3.6.5"
  }
 },
 "nbformat": 4,
 "nbformat_minor": 2
}
