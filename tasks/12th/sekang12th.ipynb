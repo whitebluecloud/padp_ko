{
 "cells": [
  {
   "cell_type": "code",
   "execution_count": 6,
   "metadata": {},
   "outputs": [
    {
     "name": "stdout",
     "output_type": "stream",
     "text": [
      "11\n",
      "-1\n",
      "9\n",
      "-1\n",
      "-1\n",
      "-1\n"
     ]
    }
   ],
   "source": [
    "def bfs(maps):\n",
    "    x= len(maps)\n",
    "    y= len(maps[0])\n",
    "\n",
    "    queue = [(0,0,0)]\n",
    "    while queue:\n",
    "        i,j,count= queue.pop(0)\n",
    "        count+=1\n",
    "        if i==x-1 and j==y-1 :\n",
    "            return count\n",
    "        \n",
    "        if i-1 < x and i-1 >= 0 and j < y and j >= 0 and maps[i-1][j]==1:\n",
    "            maps[i-1][j]=2\n",
    "            queue.append((i-1,j,count))\n",
    "        if i+1 < x and i+1 >= 0 and j < y and j >= 0 and maps[i+1][j]==1:\n",
    "            maps[i+1][j]=2\n",
    "            queue.append((i+1,j,count))\n",
    "        if i < x and i >= 0 and j-1 < y and j-1 >= 0 and maps[i][j-1]==1:\n",
    "            maps[i][j-1]=2\n",
    "            queue.append((i,j-1,count))\n",
    "        if i < x and i >= 0 and j+1 < y and j+1>= 0 and maps[i][j+1]==1:\n",
    "            maps[i][j+1]=2\n",
    "            queue.append((i,j+1,count))\n",
    "    return -1\n",
    "        \n",
    "def solution(maps):\n",
    "    x= len(maps)\n",
    "    y= len(maps[0])\n",
    "    if y == 1 and x == 1 and maps[0][0]==1: return 1\n",
    "    if y == 1 and x == 1 and maps[0][0]==0: return -1\n",
    "    if maps[x-1][y-1]==0: return -1\n",
    "    cnt = bfs(maps)\n",
    "    \n",
    "    return cnt\n",
    "\n",
    "print(solution([[1, 0, 1, 1, 1], [1, 0, 1, 0, 1], [1, 0, 1, 1, 1], [1, 1, 1, 0, 1], [0, 0, 0, 0, 1]]))\n",
    "print(solution([[1, 0, 1, 1, 1], [1, 0, 1, 0, 1], [1, 0, 1, 1, 1], [1, 1, 1, 0, 0], [0, 0, 0, 0, 1]]))\n",
    "print(solution([[1, 1, 1, 1, 1], [1, 1, 1, 1, 1], [1, 1, 1, 1, 1], [1, 1, 1, 1, 1], [1, 1, 1, 1, 1]]))\n",
    "print(solution([[1, 0, 1, 1, 1], [1, 0, 1, 0, 1], [1, 0, 0, 0, 1], [1, 1, 1, 1, 0], [0, 0, 0, 0, 1]]))\n",
    "print(solution([[1, 0, 1, 1, 1], [1, 0, 1, 0, 1], [1, 0, 1, 1, 1], [1, 1, 0, 0, 1], [0, 0, 0, 0, 1]]))\n",
    "print(solution([[1, 0, 1, 1, 1], [1, 0, 1, 0, 1], [1, 0, 1, 1, 1], [1, 1, 0, 0, 1], [0, 0, 0, 0, 1]]))"
   ]
  },
  {
   "cell_type": "code",
   "execution_count": null,
   "metadata": {},
   "outputs": [],
   "source": []
  }
 ],
 "metadata": {
  "kernelspec": {
   "display_name": "Python 3",
   "language": "python",
   "name": "python3"
  },
  "language_info": {
   "codemirror_mode": {
    "name": "ipython",
    "version": 3
   },
   "file_extension": ".py",
   "mimetype": "text/x-python",
   "name": "python",
   "nbconvert_exporter": "python",
   "pygments_lexer": "ipython3",
   "version": "3.7.3"
  }
 },
 "nbformat": 4,
 "nbformat_minor": 2
}
