{
 "cells": [
  {
   "cell_type": "code",
   "execution_count": 4,
   "metadata": {},
   "outputs": [
    {
     "name": "stdout",
     "output_type": "stream",
     "text": [
      "11\n",
      "-1\n",
      "10\n",
      "179\n",
      "-1\n",
      "-1\n",
      "9\n"
     ]
    }
   ],
   "source": [
    "from collections import deque\n",
    "\n",
    "def solution(maps):\n",
    "    dir = ((-1,0), (1,0), (0,1), (0,-1))\n",
    "    dq = deque()\n",
    "    row = len(maps)\n",
    "    col = len(maps[0])\n",
    "    end = (row-1, col-1)\n",
    "    visit = [[0 for col in range(col)] for row in range(row)]\n",
    "    visit[0][0] = 1\n",
    "    dq.append((0,0))\n",
    "    cnt = 1\n",
    "    while dq:\n",
    "        cnt += 1\n",
    "        size = len(dq)\n",
    "        for t in range(size):\n",
    "            frnt = dq.popleft()\n",
    "            cur = (frnt[0], frnt[1])\n",
    "            for d in dir:\n",
    "                r = cur[0]+d[0]\n",
    "                c = cur[1]+d[1]\n",
    "                if r>=0 and r<=end[0] and c>=0 and c<=end[1] and maps[r][c]==1 and visit[r][c]==0:\n",
    "                    if (r,c)==end:\n",
    "                        return cnt\n",
    "                    visit[r][c] = 1\n",
    "                    dq.append((r,c))\n",
    "    return -1\n",
    "\n",
    "print(solution([[1,0,1,1,1],[1,0,1,0,1],[1,0,1,1,1],[1,1,1,0,1],[0,0,0,0,1]]))\n",
    "print(solution([[1,0,1,1,1],[1,0,1,0,1],[1,0,1,1,1],[1,1,1,0,0],[0,0,0,0,1]]))\n",
    "print(solution([[1,0,1,1,1],[1,0,1,0,1],[1,0,1,1,1],[1,1,1,0,1]]))\n",
    "print(solution([[1]*90]*90))\n",
    "print(solution([[1,0,1,1,1],[1,0,1,0,1],[1,0,1,1,0],[1,1,1,0,1]]))\n",
    "print(solution([[1,0,1,1,1],[1,0,1,0,1],[1,1,1,1,0],[0,1,1,0,1],[0,1,0,1,1]]))\n",
    "print(solution([[1,0,1,1,1],[1,0,1,0,1],[1,1,1,1,0],[0,1,1,1,0],[0,1,0,1,1]]))"
   ]
  },
  {
   "cell_type": "code",
   "execution_count": null,
   "metadata": {},
   "outputs": [],
   "source": []
  }
 ],
 "metadata": {
  "kernelspec": {
   "display_name": "Python 3.6",
   "language": "python",
   "name": "python3"
  },
  "language_info": {
   "codemirror_mode": {
    "name": "ipython",
    "version": 3
   },
   "file_extension": ".py",
   "mimetype": "text/x-python",
   "name": "python",
   "nbconvert_exporter": "python",
   "pygments_lexer": "ipython3",
   "version": "3.6.5"
  }
 },
 "nbformat": 4,
 "nbformat_minor": 2
}
