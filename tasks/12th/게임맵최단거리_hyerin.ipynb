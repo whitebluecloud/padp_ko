{
 "cells": [
  {
   "cell_type": "code",
   "execution_count": 68,
   "metadata": {},
   "outputs": [
    {
     "name": "stdout",
     "output_type": "stream",
     "text": [
      "11\n"
     ]
    }
   ],
   "source": [
    "class Pos :\n",
    "    def __init__(self,column,row,distance):\n",
    "        self.x = column\n",
    "        self.y = row\n",
    "        self.d = distance\n",
    "\n",
    "    def __str__(self):\n",
    "        return str(self.x)+\",\"+str(self.y)+\",\"+ str(self.d)\n",
    "\n",
    "def solution(maps):\n",
    "\n",
    "    n = len(maps)\n",
    "    m = len(maps[0])\n",
    "\n",
    "    visited =  [[False]*m for i in range(n)]\n",
    "    queue = []\n",
    "    answer = -1 \n",
    "    \n",
    "    def isPossible (newX,newY):\n",
    "        if(newX<0 or newY < 0 or newX>=n or newY>=m or maps[newX][newY]==0 or visited[newX][newY]):\n",
    "            return False\n",
    "        else:\n",
    "            return True\n",
    "    \n",
    "    queue.append(Pos(0,0,1));\n",
    "    visited[0][0] = True\n",
    "\n",
    "    while queue:\n",
    "        \n",
    "        p = queue.pop(0)\n",
    "        if p.x == n-1 and p.y == m- 1:\n",
    "            answer = p.d\n",
    "            break\n",
    "        \n",
    "        if(isPossible(p.x-1,p.y)) :    #상  \n",
    "            visited[p.x-1][p.y] = True\n",
    "            queue.append(Pos(p.x-1,p.y,p.d+1))\n",
    "        if(isPossible(p.x+1,p.y)) :    #하\n",
    "            visited[p.x+1][p.y] = True\n",
    "            queue.append(Pos(p.x+1,p.y,p.d+1))    \n",
    "        if(isPossible(p.x,p.y-1)) :    #좌\n",
    "            visited[p.x][p.y-1] = True\n",
    "            queue.append(Pos(p.x,p.y-1,p.d+1))\n",
    "        if(isPossible(p.x,p.y+1)) :    #우\n",
    "            visited[p.x][p.y+1] = True\n",
    "            queue.append(Pos(p.x,p.y+1,p.d+1))    \n",
    "            \n",
    "    return answer\n",
    "\n",
    "m = [[1,0,1,1,1],[1,0,1,0,1],[1,0,1,1,1],[1,1,1,0,1],[0,0,0,0,1]]\n",
    "a = [[1,0,0],[1,1,0],[0,1,1]]\n",
    "b = [[1,0,1,1,1],[1,0,1,0,1],[1,0,1,1,1],[1,1,1,0,0],[0,0,0,0,1]]\n",
    "c = [[1,1,0,0,0],[0,1,0,0,0],[0,1,1,1,1]]\n",
    "d = [[1]]\n",
    "\n",
    "print(solution(m))"
   ]
  },
  {
   "cell_type": "code",
   "execution_count": null,
   "metadata": {},
   "outputs": [],
   "source": []
  }
 ],
 "metadata": {
  "kernelspec": {
   "display_name": "Python 3",
   "language": "python",
   "name": "python3"
  },
  "language_info": {
   "codemirror_mode": {
    "name": "ipython",
    "version": 3
   },
   "file_extension": ".py",
   "mimetype": "text/x-python",
   "name": "python",
   "nbconvert_exporter": "python",
   "pygments_lexer": "ipython3",
   "version": "3.7.3"
  }
 },
 "nbformat": 4,
 "nbformat_minor": 2
}
