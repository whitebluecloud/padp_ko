{
 "cells": [
  {
   "cell_type": "code",
   "execution_count": 14,
   "metadata": {},
   "outputs": [],
   "source": [
    "def solution(N):\n",
    "    answer = 0\n",
    "    f = [1,1]\n",
    "    for i in range (2,N+1):\n",
    "        f.append(f[i-1]+f[i-2])\n",
    "    \n",
    "    answer = (f[N] + f[N-1])*2\n",
    "    return answer\n",
    "\n",
    "\n",
    "assert solution(1) == 4\n",
    "assert solution(2) == 6\n",
    "assert solution(5) == 26\n",
    "assert solution(6) == 42"
   ]
  },
  {
   "cell_type": "code",
   "execution_count": null,
   "metadata": {},
   "outputs": [],
   "source": []
  }
 ],
 "metadata": {
  "kernelspec": {
   "display_name": "Python 3",
   "language": "python",
   "name": "python3"
  },
  "language_info": {
   "codemirror_mode": {
    "name": "ipython",
    "version": 3
   },
   "file_extension": ".py",
   "mimetype": "text/x-python",
   "name": "python",
   "nbconvert_exporter": "python",
   "pygments_lexer": "ipython3",
   "version": "3.7.3"
  }
 },
 "nbformat": 4,
 "nbformat_minor": 2
}
