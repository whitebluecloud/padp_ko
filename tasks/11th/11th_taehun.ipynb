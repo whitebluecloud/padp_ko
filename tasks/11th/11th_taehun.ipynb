{
 "cells": [
  {
   "cell_type": "code",
   "execution_count": 4,
   "metadata": {},
   "outputs": [
    {
     "name": "stdout",
     "output_type": "stream",
     "text": [
      "26\n",
      "42\n",
      "4\n",
      "122611581443223182\n"
     ]
    }
   ],
   "source": [
    "def solution(N):\n",
    "    fib = [0] * (N+1)\n",
    "    fib[0] = 4\n",
    "    fib[1] = 6\n",
    "    for i in range(2, N):\n",
    "        fib[i] = fib[i-1] + fib[i-2]\n",
    "    \n",
    "    return fib[N-1]\n",
    "\n",
    "print(solution(5))\n",
    "print(solution(6))\n",
    "print(solution(1))\n",
    "print(solution(80))"
   ]
  },
  {
   "cell_type": "code",
   "execution_count": null,
   "metadata": {},
   "outputs": [],
   "source": []
  }
 ],
 "metadata": {
  "kernelspec": {
   "display_name": "Python 3.6",
   "language": "python",
   "name": "python3"
  },
  "language_info": {
   "codemirror_mode": {
    "name": "ipython",
    "version": 3
   },
   "file_extension": ".py",
   "mimetype": "text/x-python",
   "name": "python",
   "nbconvert_exporter": "python",
   "pygments_lexer": "ipython3",
   "version": "3.6.5"
  }
 },
 "nbformat": 4,
 "nbformat_minor": 2
}
