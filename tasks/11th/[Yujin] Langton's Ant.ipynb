{
 "cells": [
  {
   "cell_type": "code",
   "execution_count": null,
   "metadata": {},
   "outputs": [],
   "source": [
    "def ant(grid, column, row, n, direction = 0):\n",
    "    if n == 0:\n",
    "        return grid\n",
    "        \n",
    "    if grid[row][column] == 1:    # White square\n",
    "        if direction == 3:\n",
    "            direction = 0\n",
    "        else:\n",
    "            direction += 1\n",
    "            \n",
    "        grid[row][column] = 0\n",
    "            \n",
    "    else:    # grid[column][row] == 0, Black square\n",
    "        if direction == 0:\n",
    "            direction = 3\n",
    "        else:\n",
    "            direction -= 1\n",
    "            \n",
    "        grid[row][column] = 1\n",
    "        \n",
    "    # Move ant\n",
    "    if direction == 0:\n",
    "        if row == 0:\n",
    "            grid.insert(0, [0] * len(grid[0]))\n",
    "        else:\n",
    "            row -= 1\n",
    "    \n",
    "    elif direction == 1:\n",
    "        if column == len(grid[0]) - 1:\n",
    "            for r in grid:\n",
    "                r.append(0)\n",
    "        column += 1\n",
    "    \n",
    "    elif direction == 2:\n",
    "        if row == len(grid[0]) - 1:\n",
    "            grid.append([0] * len(grid[0]))\n",
    "        row += 1\n",
    "        \n",
    "    elif direction == 3:\n",
    "        if column == 0:\n",
    "            for r in grid:\n",
    "                r.insert(0, 0)\n",
    "        else:\n",
    "            column -= 1\n",
    "    \n",
    "    return ant(grid, column, row, n - 1, direction)"
   ]
  }
 ],
 "metadata": {
  "kernelspec": {
   "display_name": "Python 3.6",
   "language": "python",
   "name": "python3"
  },
  "language_info": {
   "codemirror_mode": {
    "name": "ipython",
    "version": 3
   },
   "file_extension": ".py",
   "mimetype": "text/x-python",
   "name": "python",
   "nbconvert_exporter": "python",
   "pygments_lexer": "ipython3",
   "version": "3.6.5"
  }
 },
 "nbformat": 4,
 "nbformat_minor": 2
}
