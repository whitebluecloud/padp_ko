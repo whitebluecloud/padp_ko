{
 "cells": [
  {
   "cell_type": "code",
   "execution_count": 3,
   "metadata": {},
   "outputs": [
    {
     "name": "stdout",
     "output_type": "stream",
     "text": [
      "3\n",
      "1\n",
      "2\n",
      "1\n",
      "4\n",
      "-1\n"
     ]
    }
   ],
   "source": [
    "def fibo(N):\n",
    "    L = [0] * 27\n",
    "    L[1] = 1\n",
    "    for i in range(2, 27):\n",
    "        L[i] = L[i - 1] + L[i - 2]\n",
    "        if L[i] > N:\n",
    "            return L[2:i]\n",
    "\n",
    "def solution(A):\n",
    "    if len(A) > 100000:\n",
    "        return False\n",
    "    elif len(A) < 3:\n",
    "        return 1\n",
    "    A.append(1)\n",
    "    jumprange = fibo(len(A))\n",
    "    count = [0] * (len(A))\n",
    "     \n",
    "    for i in jumprange:\n",
    "        if A[i-1] == 1:\n",
    "            count[i-1] = 1\n",
    "     \n",
    "    for j in range(len(A)):\n",
    "        if A[j] == 0 or count[j] > 0:\n",
    "            continue\n",
    " \n",
    "        possible = False\n",
    "        num = 9999999999\n",
    "        for k in jumprange:\n",
    "            if j-k < 0:\n",
    "                break\n",
    "            if count[j-k] > 0 and num > count[j-k]:\n",
    "                num = count[j-k]\n",
    "                possible = True\n",
    "        if possible:\n",
    "            count[j] = num +1\n",
    "    if count[len(A)-1] == 0:\n",
    "        return -1\n",
    "    else:\n",
    "        return count[len(A)-1]\n",
    "\n",
    "def test():\n",
    "    print(solution([0,0,0,0,1,0,1,0,0,1]))\n",
    "    print(solution([0,0]))\n",
    "    print(solution([0,1,0]))\n",
    "    print(solution([1,1,1,1]))\n",
    "    print(solution([0,0,1,1,0,1,1,0,0]))\n",
    "    print(solution([0,0,0,0,0,0,0,0,0,1,0,0,0,0,0,0,1,0,0,0,0,1,0,0,0,0,0,0,1,0,0,0,0,0,0,0,0,0,0,0,0,0,0,0,0,1,0,0,1,1,0,0,0,0,0,1,0,0,1,0,0,1,1,0,1,0,1,0,1,0,0,0,0,0,1,1,0,0,0,0,1]))\n",
    "    \n",
    "test()"
   ]
  },
  {
   "cell_type": "code",
   "execution_count": 4,
   "metadata": {},
   "outputs": [
    {
     "name": "stdout",
     "output_type": "stream",
     "text": [
      "[[0, 0]]\n"
     ]
    }
   ],
   "source": [
    "def ant(grid, column, row, n, direction = 0):\n",
    "    for _ in range(n):\n",
    "        if grid[row][column] == 0:\n",
    "            grid[row][column] = 1\n",
    "            direction = (direction + 3) % 4\n",
    "        elif grid[row][column] == 1: \n",
    "            grid[row][column] = 0\n",
    "            direction = (direction + 1) % 4\n",
    "        \n",
    "        if   direction == 0: row -= 1\n",
    "        elif direction == 1: column += 1\n",
    "        elif direction == 2: row += 1\n",
    "        elif direction == 3: column -= 1\n",
    "        \n",
    "        if row < 0:\n",
    "            grid.insert(0, [0] * len(grid[0]))\n",
    "            row = 0\n",
    "        if row == len(grid):\n",
    "            grid.append([0] * len(grid[0]))\n",
    "        if column < 0:\n",
    "            for i in range(len(grid)):\n",
    "                grid[i].insert(0, 0)\n",
    "            column = 0\n",
    "        if column == len(grid[0]):\n",
    "            for i in range(len(grid)):\n",
    "                grid[i].append(0)\n",
    "    \n",
    "    return grid\n",
    "\n",
    "def test():\n",
    "    print(ant([[1]], 0, 0, 1, 0))\n",
    "\n",
    "test()"
   ]
  },
  {
   "cell_type": "code",
   "execution_count": 11,
   "metadata": {},
   "outputs": [
    {
     "name": "stdout",
     "output_type": "stream",
     "text": [
      "N은 1 이상 80 이하의 자연수만 입력해주세요\n",
      "False\n",
      "N은 1 이상 80 이하의 자연수만 입력해주세요\n",
      "False\n",
      "26\n",
      "122611581443223182\n"
     ]
    }
   ],
   "source": [
    "def fibo(N):\n",
    "    L = [0]*(N+2)\n",
    "    L[0] = 0\n",
    "    L[1] = 1\n",
    "    for i in range(2,N+2):\n",
    "        L[i] = L[i-1] + L[i-2]\n",
    "    return (2*L[N+1]) + (2*L[N])\n",
    "\n",
    "def solution(N):\n",
    "    if N <= 0 or N > 80:\n",
    "        print(\"N은 1 이상 80 이하의 자연수만 입력해주세요\")\n",
    "        return False\n",
    "    else:\n",
    "        return fibo(N)\n",
    "    \n",
    "def test():\n",
    "    print(solution(-1))\n",
    "    print(solution(90000))\n",
    "    print(solution(5))\n",
    "    print(solution(80))\n",
    "    \n",
    "test()"
   ]
  },
  {
   "cell_type": "code",
   "execution_count": null,
   "metadata": {},
   "outputs": [],
   "source": []
  }
 ],
 "metadata": {
  "kernelspec": {
   "display_name": "Python 3",
   "language": "python",
   "name": "python3"
  },
  "language_info": {
   "codemirror_mode": {
    "name": "ipython",
    "version": 3
   },
   "file_extension": ".py",
   "mimetype": "text/x-python",
   "name": "python",
   "nbconvert_exporter": "python",
   "pygments_lexer": "ipython3",
   "version": "3.7.3"
  }
 },
 "nbformat": 4,
 "nbformat_minor": 2
}
