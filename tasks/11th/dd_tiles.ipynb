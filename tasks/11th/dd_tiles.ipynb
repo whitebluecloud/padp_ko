{
 "cells": [
  {
   "cell_type": "code",
   "execution_count": 72,
   "metadata": {},
   "outputs": [
    {
     "data": {
      "text/plain": [
       "26"
      ]
     },
     "execution_count": 72,
     "metadata": {},
     "output_type": "execute_result"
    }
   ],
   "source": [
    "def solution(N):\n",
    "    ans_arr = [1] * N\n",
    "    if(N == 1):\n",
    "        return ans_arr[N-1] * 4\n",
    "    else :\n",
    "        for n in range(N) :\n",
    "            if(n-2) < 0 :\n",
    "                add = 0\n",
    "            else :\n",
    "                add = ans_arr[n-2]\n",
    "            ans_arr[n] = ans_arr[n-1] + add\n",
    "        return (ans_arr[N-1]+ans_arr[N-2]) * 2 + ans_arr[N-1] * 2\n",
    "\n",
    "solution(5)"
   ]
  }
 ],
 "metadata": {
  "kernelspec": {
   "display_name": "Python 3",
   "language": "python",
   "name": "python3"
  },
  "language_info": {
   "codemirror_mode": {
    "name": "ipython",
    "version": 3
   },
   "file_extension": ".py",
   "mimetype": "text/x-python",
   "name": "python",
   "nbconvert_exporter": "python",
   "pygments_lexer": "ipython3",
   "version": "3.7.3"
  }
 },
 "nbformat": 4,
 "nbformat_minor": 2
}
