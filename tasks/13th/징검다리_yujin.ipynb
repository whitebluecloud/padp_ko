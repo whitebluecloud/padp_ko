{
 "cells": [
  {
   "cell_type": "code",
   "execution_count": null,
   "metadata": {},
   "outputs": [],
   "source": [
    "def solution(distance, rocks, n):\n",
    "    answer = 0\n",
    "    rocks.sort()\n",
    "    rocks.append(distance)\n",
    "\n",
    "    low = 1\n",
    "    high = distance\n",
    "    \n",
    "    while low <= high:\n",
    "        mid = (low + high) // 2\n",
    "        prev = 1\n",
    "        del_cnt = 0\n",
    "        temp = distance\n",
    "        \n",
    "        for i in range(len(rocks)):\n",
    "            dist = rocks[i] - prev\n",
    "            \n",
    "            if dist < mid:\n",
    "                del_cnt += 1\n",
    "            else:\n",
    "                prev = rocks[i]\n",
    "                \n",
    "                if dist < temp:\n",
    "                    temp = dist\n",
    "                \n",
    "        if del_cnt <= n:\n",
    "            answer = temp\n",
    "            low = mid + 1\n",
    "        else:\n",
    "            high = mid - 1\n",
    "    \n",
    "    return answer"
   ]
  }
 ],
 "metadata": {
  "kernelspec": {
   "display_name": "Python 3",
   "language": "python",
   "name": "python3"
  },
  "language_info": {
   "codemirror_mode": {
    "name": "ipython",
    "version": 3
   },
   "file_extension": ".py",
   "mimetype": "text/x-python",
   "name": "python",
   "nbconvert_exporter": "python",
   "pygments_lexer": "ipython3",
   "version": "3.7.3"
  }
 },
 "nbformat": 4,
 "nbformat_minor": 2
}
