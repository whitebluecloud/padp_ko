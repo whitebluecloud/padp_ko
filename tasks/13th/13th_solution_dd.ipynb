{
 "cells": [
  {
   "cell_type": "code",
   "execution_count": 144,
   "metadata": {},
   "outputs": [],
   "source": [
    "def solution(distance, rocks, n):\n",
    "    # Exceptions\n",
    "    if len(rocks) < n :\n",
    "        raise Exception(\"제거할 바위가 모자랍니다\")\n",
    "    elif len(rocks) <= 0 :\n",
    "        raise Exception(\"바위가 없습니다\")\n",
    "    elif n <= 0 :\n",
    "        raise Exception(\"제거할 숫자가 1 보다 작습니다\")\n",
    "\n",
    "    rocks.sort()\n",
    "    \n",
    "    if rocks[len(rocks)-1] > distance :\n",
    "        raise Exception(\"Distance보다 큰 바위 위치\")\n",
    "\n",
    "    ''' 삽질 On\n",
    "    new_rock_arr = []\n",
    "    new_rock_arr.append(0)\n",
    "    new_rock_arr += rocks\n",
    "    new_rock_arr.append(distance)\n",
    "\n",
    "    distance_arr =[]\n",
    "    \n",
    "    for i in range(len(new_rock_arr)-n-1) :\n",
    "        print(\"i : \"+str(i)+\", i+n : \"+str(i+n))\n",
    "        distance_arr.append(new_rock_arr[i+n+1] - new_rock_arr[i])\n",
    "        \n",
    "    print(distance_arr)\n",
    "    '''\n",
    "\n",
    "    arrs = [list(range(i,n+i)) for i in range(len(rocks)) for j in range(n)]\n",
    "    \n",
    "    print(arrs)\n",
    "    \n",
    "    return rocks"
   ]
  },
  {
   "cell_type": "code",
   "execution_count": 145,
   "metadata": {},
   "outputs": [
    {
     "name": "stdout",
     "output_type": "stream",
     "text": [
      "[[0, 1, 2], [0, 1, 2], [0, 1, 2], [1, 2, 3], [1, 2, 3], [1, 2, 3], [2, 3, 4], [2, 3, 4], [2, 3, 4], [3, 4, 5], [3, 4, 5], [3, 4, 5], [4, 5, 6], [4, 5, 6], [4, 5, 6]]\n"
     ]
    },
    {
     "data": {
      "text/plain": [
       "[2, 11, 14, 17, 21]"
      ]
     },
     "execution_count": 145,
     "metadata": {},
     "output_type": "execute_result"
    }
   ],
   "source": [
    "solution(25,[2, 14, 11, 21, 17],3)"
   ]
  }
 ],
 "metadata": {
  "kernelspec": {
   "display_name": "Python 3",
   "language": "python",
   "name": "python3"
  },
  "language_info": {
   "codemirror_mode": {
    "name": "ipython",
    "version": 3
   },
   "file_extension": ".py",
   "mimetype": "text/x-python",
   "name": "python",
   "nbconvert_exporter": "python",
   "pygments_lexer": "ipython3",
   "version": "3.7.3"
  }
 },
 "nbformat": 4,
 "nbformat_minor": 2
}
