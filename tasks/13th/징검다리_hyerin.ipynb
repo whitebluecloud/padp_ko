{
 "cells": [
  {
   "cell_type": "code",
   "execution_count": 5,
   "metadata": {},
   "outputs": [
    {
     "name": "stdout",
     "output_type": "stream",
     "text": [
      "4\n"
     ]
    }
   ],
   "source": [
    "def solution(distance, rocks, n):\n",
    "    rocks.sort()\n",
    "    answer = 0 \n",
    "    start = 0 \n",
    "    end = distance \n",
    "    \n",
    "    while start <= end :\n",
    "        removeCnt = 0\n",
    "        mid = (start+end)//2\n",
    "        cur = 0 \n",
    "        for rock in rocks:\n",
    "            if rock - cur < mid : \n",
    "                removeCnt +=1\n",
    "            else :\n",
    "                cur = rock\n",
    "        if removeCnt > n :\n",
    "            end = mid -1\n",
    "        else:\n",
    "            start = mid+1\n",
    "            answer = mid\n",
    "        \n",
    "    return answer\n",
    "\n",
    "print(solution(25,[2, 14, 11, 21, 17],2))"
   ]
  },
  {
   "cell_type": "code",
   "execution_count": null,
   "metadata": {},
   "outputs": [],
   "source": []
  }
 ],
 "metadata": {
  "kernelspec": {
   "display_name": "Python 3",
   "language": "python",
   "name": "python3"
  },
  "language_info": {
   "codemirror_mode": {
    "name": "ipython",
    "version": 3
   },
   "file_extension": ".py",
   "mimetype": "text/x-python",
   "name": "python",
   "nbconvert_exporter": "python",
   "pygments_lexer": "ipython3",
   "version": "3.7.3"
  }
 },
 "nbformat": 4,
 "nbformat_minor": 2
}
