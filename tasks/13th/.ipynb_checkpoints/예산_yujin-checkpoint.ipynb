{
 "cells": [
  {
   "cell_type": "code",
   "execution_count": null,
   "metadata": {},
   "outputs": [],
   "source": [
    "def solution(budgets, M):\n",
    "    answer = 0\n",
    "    \n",
    "    if M < budgets[0]:\n",
    "        return  M // len(budgets)\n",
    "    \n",
    "    low = 1\n",
    "    high = max(budgets)\n",
    "    \n",
    "    while low <= high:\n",
    "        mid = (low + high) // 2\n",
    "        temp = mid\n",
    "        \n",
    "        if get_total(budgets, temp) < M:\n",
    "            answer = temp\n",
    "            low = mid + 1\n",
    "        else:\n",
    "            high = mid - 1\n",
    "    \n",
    "    return answer\n",
    "\n",
    "\n",
    "def get_total(budgets, limit):\n",
    "    total = 0\n",
    "    for budget in budgets:\n",
    "        if budget <= limit:\n",
    "            total += budget\n",
    "        else:\n",
    "            total += limit\n",
    "    \n",
    "    return total"
   ]
  },
  {
   "cell_type": "code",
   "execution_count": null,
   "metadata": {},
   "outputs": [],
   "source": []
  }
 ],
 "metadata": {
  "kernelspec": {
   "display_name": "Python 3",
   "language": "python",
   "name": "python3"
  },
  "language_info": {
   "codemirror_mode": {
    "name": "ipython",
    "version": 3
   },
   "file_extension": ".py",
   "mimetype": "text/x-python",
   "name": "python",
   "nbconvert_exporter": "python",
   "pygments_lexer": "ipython3",
   "version": "3.7.3"
  }
 },
 "nbformat": 4,
 "nbformat_minor": 2
}
