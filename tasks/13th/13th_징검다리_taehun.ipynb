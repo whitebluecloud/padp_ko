{
 "cells": [
  {
   "cell_type": "code",
   "execution_count": 6,
   "metadata": {},
   "outputs": [],
   "source": [
    "def solution(distance, rocks, n):\n",
    "    rocks.sort()\n",
    "    s = 0\n",
    "    e = distance\n",
    "    while s < e:\n",
    "        mid = (s+e+1)//2\n",
    "        cnt = 0\n",
    "        frm = 0\n",
    "        for r in rocks:\n",
    "            if r-frm < mid:\n",
    "                cnt += 1\n",
    "            else:\n",
    "                frm = r\n",
    "        if cnt > n:\n",
    "            e = mid-1\n",
    "        else:\n",
    "            s = mid\n",
    "    \n",
    "    return s"
   ]
  },
  {
   "cell_type": "code",
   "execution_count": 9,
   "metadata": {},
   "outputs": [
    {
     "name": "stdout",
     "output_type": "stream",
     "text": [
      "4\n",
      "15\n",
      "14\n"
     ]
    }
   ],
   "source": [
    "print(solution(25, [2, 14, 11, 21, 17], 2))\n",
    "print(solution(65, [5, 33, 21, 50, 56, 15, 8], 4))\n",
    "print(solution(30, [1, 28, 14, 7, 12], 3))"
   ]
  }
 ],
 "metadata": {
  "kernelspec": {
   "display_name": "Python 3.6",
   "language": "python",
   "name": "python3"
  },
  "language_info": {
   "codemirror_mode": {
    "name": "ipython",
    "version": 3
   },
   "file_extension": ".py",
   "mimetype": "text/x-python",
   "name": "python",
   "nbconvert_exporter": "python",
   "pygments_lexer": "ipython3",
   "version": "3.6.5"
  }
 },
 "nbformat": 4,
 "nbformat_minor": 2
}
