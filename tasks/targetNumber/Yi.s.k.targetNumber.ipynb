{
 "cells": [
  {
   "cell_type": "code",
   "execution_count": 1,
   "metadata": {},
   "outputs": [
    {
     "data": {
      "text/plain": [
       "5"
      ]
     },
     "execution_count": 1,
     "metadata": {},
     "output_type": "execute_result"
    }
   ],
   "source": [
    "def solution(numbers, target):\n",
    "    resultList = [0]\n",
    "    for i in numbers:\n",
    "        tempList = [] #numbers에 있는 다음 숫자를 가져올 때마다 초기화\n",
    "        for j in resultList:\n",
    "            tempList.append(j+i) #덧셈 결과 저장\n",
    "            tempList.append(j-i) #뺄셈 결과 저장\n",
    "        resultList = tempList #모든 numbers 구성요소의 덧뺄셈 결과를 확인하기 위해 다음 numbers param을 불러오기 전에 이전 결과를 저장\n",
    "    return resultList.count(target) # 모든 탐색이 종료된 후 나온 결과에서 target과 일치하는 결과만 카운트\n",
    "\n",
    "#테스트 케이스\n",
    "solution([1,1,1,1,1],3)"
   ]
  },
  {
   "cell_type": "code",
   "execution_count": null,
   "metadata": {},
   "outputs": [],
   "source": []
  }
 ],
 "metadata": {
  "kernelspec": {
   "display_name": "Python 3",
   "language": "python",
   "name": "python3"
  },
  "language_info": {
   "codemirror_mode": {
    "name": "ipython",
    "version": 3
   },
   "file_extension": ".py",
   "mimetype": "text/x-python",
   "name": "python",
   "nbconvert_exporter": "python",
   "pygments_lexer": "ipython3",
   "version": "3.7.3"
  }
 },
 "nbformat": 4,
 "nbformat_minor": 2
}
