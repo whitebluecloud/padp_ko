{
 "cells": [
  {
   "cell_type": "markdown",
   "metadata": {},
   "source": [
    "# 1.11 Exception Handling"
   ]
  },
  {
   "cell_type": "markdown",
   "metadata": {},
   "source": [
    "There are two types of errors that typically occur when writing programs. \n",
    "\n",
    "프로그램을 작성할 때 전형적으로 일어나는 두가지 종류의 에러가 있다.\n",
    "\n",
    "The first, known as a syntax error, simply means that the programmer has made a mistake in the structure of a statement or expression. \n",
    "\n",
    "첫째로, 구문 오류로 알려진 것인데 단순히 프로그래머가 구문이나 표현의 구조에서 낸 실수를 의미한다.\n",
    "\n",
    "For example, it is incorrect to write a for statement and forget the colon.\n",
    "예를들어, for문을 사용할 때 콜론을 잊는 것이다."
   ]
  },
  {
   "cell_type": "code",
   "execution_count": 1,
   "metadata": {},
   "outputs": [
    {
     "ename": "SyntaxError",
     "evalue": "invalid syntax (<ipython-input-1-9bf3d452bb2a>, line 1)",
     "output_type": "error",
     "traceback": [
      "\u001b[1;36m  File \u001b[1;32m\"<ipython-input-1-9bf3d452bb2a>\"\u001b[1;36m, line \u001b[1;32m1\u001b[0m\n\u001b[1;33m    for i in range(10)\u001b[0m\n\u001b[1;37m                      ^\u001b[0m\n\u001b[1;31mSyntaxError\u001b[0m\u001b[1;31m:\u001b[0m invalid syntax\n"
     ]
    }
   ],
   "source": [
    "for i in range(10)"
   ]
  },
  {
   "cell_type": "markdown",
   "metadata": {},
   "source": [
    "In this case, the Python interpreter has found that it cannot complete the processing of this instruction since it does not conform to the rules of the language. \n",
    "\n",
    "이 상황에서, 파이썬 인터프리터는 언어의 법칙에 맞지 않기 때문에 이 명령을 처리하기에 완전할 수 없다는 것을 찾아낸다.\n",
    "\n",
    "Syntax errors are usually more frequent when you are first learning a language.\n",
    "\n",
    "구문 오류는 보통 너가 처음 언어를 배울 때 더 빈번하게 발생한다.\n",
    "\n",
    "The other type of error, known as a logic error, denotes a situation where the program executes but gives the wrong result. \n",
    "\n",
    "종종 논리적 오류라고 알려진 다른 종류의 오류는 프로그램이 실행되지만 틀린 결과를 ㅈ는 상황을 의미한다.\n",
    "\n",
    "This can be due to an error in the underlying algorithm or an error in your translation of that algorithm. \n",
    "\n",
    "이것은 근본적인 알고리즘 자체의 에러거나 너의 알고리즘의 해석 에러 때문일 수 있다.\n",
    "\n",
    "In some cases, logic errors lead to very bad situations such as trying to divide by zero or trying to access an item in a list where the index of the item is outside the bounds of the list. \n",
    "\n",
    "몇가지 경우에서, 논리적 오류는 0으로 나누려고 한다던가, 리스트의 범위를 넘는 리스트의 인덱스에 접근하려는 것과 같은 안 좋은 상황을 초래한다.\n",
    "\n",
    "In this case, the logic error leads to a runtime error that causes the program to terminate. \n",
    "\n",
    "이 경우에서, 논리적 오류는 프로그램을 종료시키는 원인이 되는 런타임 오류를 초래하게 된다.\n",
    "\n",
    "These types of runtime errors are typically called exceptions.\n",
    "\n",
    "이 런타임 오류의 유형들은 보통 예외(exception)라고 불린다.\n",
    "\n",
    "Most of the time, beginning programmers simply think of exceptions as fatal runtime errors that cause the end of execution. \n",
    "\n",
    "대부분의 경우에서, 초보 개발자들은 단순히 예외를 실행의 종료를 일으키는 치명적인 런타임 오류로 생각한다.\n",
    "\n",
    "However, most programming languages provide a way to deal with these errors that will allow the programmer to have some type of intervention if they so choose.\n",
    "\n",
    "하지만, 많은 프로그래밍 언어들은 프로그래머로 하여금 그들이 선택할 수 있는 몇가지 유형의 중재들을 허락하면서 이 에러들을 다룰 수 있는 방법을 제공한다.\n",
    "\n",
    "In addition, programmers can create their own exceptions if they detect a situation in the program execution that warrants it.\n",
    "\n",
    "게다가, 만약 프로그램을 실행하는 데 있어 그것들을 보증할 수 있는 상황을 발견할 경우 프로그래머는 스스로 예외를 만들 수도 있다.\n",
    "\n",
    "When an exception occurs, we say that it has been “raised.” \n",
    "\n",
    "예외가 발생하면, 우리는 그것을 “일어났다”라고 말한다.\n",
    "\n",
    "You can “handle” the exception that has been raised by using a try statement. \n",
    "\n",
    "너는 try문을 사용함으로써 일어난 예외 상황을 “다룰” 수 있다.\n",
    "\n",
    "For example, consider the following session that asks the user for an integer and then calls the square root function from the math library.\n",
    "\n",
    "예를들어, 사용자에게 정수 값을 요청한 후, math 라이브러리로부터 제곱근 함수를 호출하는 다음 세션을 고려해봐라.\n",
    "\n",
    "If the user enters a value that is greater than or equal to 0, the print will show the square root. \n",
    "\n",
    "만약 사용자가 0보다 큰 값을 입력한다면, print는 제곱근을 보여줄 것이다.\n",
    "\n",
    "However, if the user enters a negative value, the square root function will report a ValueError exception.\n",
    "\n",
    "하지만 사용자가 음수를 입력한다면, 제곱근은 ValueError 예외를 보여줄 것이다."
   ]
  },
  {
   "cell_type": "code",
   "execution_count": 3,
   "metadata": {},
   "outputs": [
    {
     "name": "stdout",
     "output_type": "stream",
     "text": [
      "Please enter an integer -23\n"
     ]
    },
    {
     "ename": "ValueError",
     "evalue": "math domain error",
     "output_type": "error",
     "traceback": [
      "\u001b[1;31m---------------------------------------------------------------------------\u001b[0m",
      "\u001b[1;31mValueError\u001b[0m                                Traceback (most recent call last)",
      "\u001b[1;32m<ipython-input-3-26daac283e38>\u001b[0m in \u001b[0;36m<module>\u001b[1;34m\u001b[0m\n\u001b[0;32m      1\u001b[0m \u001b[1;32mimport\u001b[0m \u001b[0mmath\u001b[0m\u001b[1;33m\u001b[0m\u001b[1;33m\u001b[0m\u001b[0m\n\u001b[0;32m      2\u001b[0m \u001b[0manumber\u001b[0m \u001b[1;33m=\u001b[0m \u001b[0mint\u001b[0m\u001b[1;33m(\u001b[0m\u001b[0minput\u001b[0m\u001b[1;33m(\u001b[0m\u001b[1;34m\"Please enter an integer \"\u001b[0m\u001b[1;33m)\u001b[0m\u001b[1;33m)\u001b[0m\u001b[1;33m\u001b[0m\u001b[1;33m\u001b[0m\u001b[0m\n\u001b[1;32m----> 3\u001b[1;33m \u001b[0mprint\u001b[0m\u001b[1;33m(\u001b[0m\u001b[0mmath\u001b[0m\u001b[1;33m.\u001b[0m\u001b[0msqrt\u001b[0m\u001b[1;33m(\u001b[0m\u001b[0manumber\u001b[0m\u001b[1;33m)\u001b[0m\u001b[1;33m)\u001b[0m\u001b[1;33m\u001b[0m\u001b[1;33m\u001b[0m\u001b[0m\n\u001b[0m",
      "\u001b[1;31mValueError\u001b[0m: math domain error"
     ]
    }
   ],
   "source": [
    "import math\n",
    "anumber = int(input(\"Please enter an integer \"))\n",
    "print(math.sqrt(anumber))"
   ]
  },
  {
   "cell_type": "markdown",
   "metadata": {},
   "source": [
    "We can handle this exception by calling the print function from within a try block. \n",
    "\n",
    "우리는 try 구문 내에서 이 print함수를 호출함으로써 이 예외를 처리할 수 있다.\n",
    "\n",
    "A corresponding except block “catches” the exception and prints a message back to the user in the event that an exception occurs. For example:\n",
    "\n",
    "except에 해당하는 블럭은 예외를 “포착하고” 사용자에게 예외가 발생했다는 메세지를 출력한다. 예를 들어 :"
   ]
  },
  {
   "cell_type": "code",
   "execution_count": 4,
   "metadata": {},
   "outputs": [
    {
     "name": "stdout",
     "output_type": "stream",
     "text": [
      "Bad Value for square root\n",
      "Using absolute value instead\n",
      "4.795831523312719\n"
     ]
    }
   ],
   "source": [
    "try:\n",
    "    print(math.sqrt(anumber))\n",
    "except:\n",
    "    print(\"Bad Value for square root\")\n",
    "    print(\"Using absolute value instead\")\n",
    "    print(math.sqrt(abs(anumber)))"
   ]
  },
  {
   "cell_type": "markdown",
   "metadata": {},
   "source": [
    "will catch the fact that an exception is raised by sqrt and will instead print the messages back to the user and use the absolute value to be sure that we are taking the square root of a non-negative number. \n",
    "\n",
    "sqrt함수에 의해 예외가 일어났다는 사실을 포착하고, 대신 사용자에게 메세지를 출력한 후, 절대값을 사용하여, 우리가 음수가 아닌 수의 제곱근을 취하고 있다는 것을 확인한다. \n",
    "\n",
    "This means that the program will not terminate but instead will continue on to the next statements.\n",
    "\n",
    "이것은 프로그램이 종료되지 않고 대신 다음 상황으로 지속된다는 것을 의미한다.\n",
    "\n",
    "It is also possible for a programmer to cause a runtime exception by using the raise statement.\n",
    "\n",
    "이것은 또한 프로그램으로 하여금 raise 구문을 사용함으로써 런타임 예외를 일으키게 할 수 있다는 것을 의미한다.\n",
    "\n",
    "For example, instead of calling the square root function with a negative number, we could have checked the value first and then raised our own exception. \n",
    "\n",
    "예를 들어, 제곱근 함수를 음수로 호출하는 것 대신에, 우리는 값을 확인한 후에 우리의 예외를 일으킬  수 있었다.\n",
    "\n",
    "The code fragment below shows the result of creating a new RuntimeError exception. \n",
    "\n",
    "아래의 코드 조각은 새로운 런타임 오류 예외를 만든 것의 결과를 보여준다.\n",
    "\n",
    "Note that the program would still terminate but now the exception that caused the termination is something explicitly created by the programmer.\n",
    "\n",
    "프로그램은 여전히 종료될 것이지만, 이제 종료가 되은 원인이 명백히 프로그래머에 의해 만들어졌다."
   ]
  },
  {
   "cell_type": "code",
   "execution_count": 5,
   "metadata": {},
   "outputs": [
    {
     "ename": "RuntimeError",
     "evalue": "You can't use a negative number",
     "output_type": "error",
     "traceback": [
      "\u001b[1;31m---------------------------------------------------------------------------\u001b[0m",
      "\u001b[1;31mRuntimeError\u001b[0m                              Traceback (most recent call last)",
      "\u001b[1;32m<ipython-input-5-424977cff197>\u001b[0m in \u001b[0;36m<module>\u001b[1;34m\u001b[0m\n\u001b[0;32m      1\u001b[0m \u001b[1;32mif\u001b[0m \u001b[0manumber\u001b[0m \u001b[1;33m<\u001b[0m \u001b[1;36m0\u001b[0m\u001b[1;33m:\u001b[0m\u001b[1;33m\u001b[0m\u001b[1;33m\u001b[0m\u001b[0m\n\u001b[1;32m----> 2\u001b[1;33m     \u001b[1;32mraise\u001b[0m \u001b[0mRuntimeError\u001b[0m\u001b[1;33m(\u001b[0m\u001b[1;34m\"You can't use a negative number\"\u001b[0m\u001b[1;33m)\u001b[0m\u001b[1;33m\u001b[0m\u001b[1;33m\u001b[0m\u001b[0m\n\u001b[0m\u001b[0;32m      3\u001b[0m \u001b[1;32melse\u001b[0m\u001b[1;33m:\u001b[0m\u001b[1;33m\u001b[0m\u001b[1;33m\u001b[0m\u001b[0m\n\u001b[0;32m      4\u001b[0m     \u001b[0mprint\u001b[0m\u001b[1;33m(\u001b[0m\u001b[0mmath\u001b[0m\u001b[1;33m.\u001b[0m\u001b[0msqrt\u001b[0m\u001b[1;33m(\u001b[0m\u001b[0manumber\u001b[0m\u001b[1;33m)\u001b[0m\u001b[1;33m)\u001b[0m\u001b[1;33m\u001b[0m\u001b[1;33m\u001b[0m\u001b[0m\n",
      "\u001b[1;31mRuntimeError\u001b[0m: You can't use a negative number"
     ]
    }
   ],
   "source": [
    "if anumber < 0:\n",
    "    raise RuntimeError(\"You can't use a negative number\")\n",
    "else:\n",
    "    print(math.sqrt(anumber))"
   ]
  },
  {
   "cell_type": "markdown",
   "metadata": {},
   "source": [
    "There are many kinds of exceptions that can be raised in addition to the RuntimeError shown above.\n",
    "\n",
    "위에서 보여진 런타임 에러 외에도 일어날 수 있는 많은 종류의 예외가 있다.\n",
    "\n",
    "See the Python reference manual for a list of all the available exception types and for how to create your own.\n",
    "\n",
    "사용 가능한 모든 예외 유형의 목록과 너의 예외를 만들 수 있는 방법은 파이썬 레퍼런스 메뉴얼을 확인해라."
   ]
  },
  {
   "cell_type": "code",
   "execution_count": null,
   "metadata": {},
   "outputs": [],
   "source": []
  }
 ],
 "metadata": {
  "kernelspec": {
   "display_name": "Python 3",
   "language": "python",
   "name": "python3"
  },
  "language_info": {
   "codemirror_mode": {
    "name": "ipython",
    "version": 3
   },
   "file_extension": ".py",
   "mimetype": "text/x-python",
   "name": "python",
   "nbconvert_exporter": "python",
   "pygments_lexer": "ipython3",
   "version": "3.7.3"
  }
 },
 "nbformat": 4,
 "nbformat_minor": 2
}
