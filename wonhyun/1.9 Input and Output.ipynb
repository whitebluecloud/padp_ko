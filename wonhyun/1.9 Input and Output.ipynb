{
 "cells": [
  {
   "cell_type": "markdown",
   "metadata": {},
   "source": [
    "# 1.9 Input and Output"
   ]
  },
  {
   "cell_type": "markdown",
   "metadata": {},
   "source": [
    "We often have a need to interact with users, either to get data or to provide some sort of result.\n",
    "\n",
    "우리는 종종 데이터를 얻거나 결과의 부분을 제공하기 위해 사용자와 상호작용하는 것이 필요하다. \n",
    "\n",
    "Most programs today use a dialog box as a way of asking the user to provide some type of input. \n",
    "\n",
    "오늘날 대부분의 프로그램은 사용자에게 입력의 몇 가지 유형을 요청하기 위한 방법으로써 다이얼로그 박스를 이용한다.\n",
    "\n",
    "While Python does have a way to create dialog boxes, there is a much simpler function that we can use. \n",
    "\n",
    "파이썬은 다이얼로그를 만들 수 있는 몇가지 방법이 있지만, 우리가 사용할 수 있는 훨씬 더 간단한 함수가 있다.\n",
    "\n",
    "Python provides us with a function that allows us to ask a user to enter some data and returns a reference to the data in the form of a string. The function is called input.\n",
    "\n",
    "파이썬은 우리가 사용자에게 몇가지 데이터를 입력하도록 요청하고 데이터에 대한 참조를 문자의 형식으로 리턴할 수 있는 함수를 제공한다. 우리는 이것을 인풋이라고 부른다.\n",
    "\n",
    "Python’s input function takes a single parameter that is a string. \n",
    "\n",
    "파이썬의 인풋함수는 스트링으로 된 하나의 파라미터를 취한다.\n",
    "\n",
    "This string is often called the prompt because it contains some helpful text prompting the user to enter something. \n",
    "\n",
    "이 스트링은 종종 prompt라고 불린다. 왜냐하면 이것은 사용자로 하여금 무언가를 입력하게 재촉하는 약간의 유용한 텍스트를 포함한다. \n",
    "\n",
    "For example, you might call input as follows:\n",
    "\n",
    "예를들어 너는 인풋을 다음처럼 호출할 수 있다."
   ]
  },
  {
   "cell_type": "code",
   "execution_count": 1,
   "metadata": {},
   "outputs": [
    {
     "name": "stdout",
     "output_type": "stream",
     "text": [
      "Please enter your name: wonhyun\n"
     ]
    }
   ],
   "source": [
    "aName = input('Please enter your name: ')"
   ]
  },
  {
   "cell_type": "markdown",
   "metadata": {},
   "source": [
    "Now whatever the user types after the prompt will be stored in the aName variable. \n",
    "\n",
    "이제 프롬프트 다음에 사용자가 입력하는 것이 무엇이든지 aName 변수에 저장될 것이다. \n",
    "\n",
    "Using the input function, we can easily write instructions that will prompt the user to enter data and then incorporate that data into further processing. \n",
    "\n",
    "인풋 함수를 사용하여, 우리는 사용자로 하여금 데이터를 입력하게끔 재촉할 수 있는 지시사항을 쉽게 작성할 수 있고, 그 데이터를 다음 처리 과정에 포함할 수 있다.\n",
    "\n",
    "For example, in the following two statements, the first asks the user for their name and the second prints the result of some simple processing based on the string that is provided.\n",
    "\n",
    "\n",
    "예를 들어, 다음 두 상황에서 첫 번째로 사용자에게 그들의 이름을 요청한다. 그리고 두 번째로 제공된 문자를 기반으로 몇가지 간단한 처리 과정의 결과를 출력한다. "
   ]
  },
  {
   "cell_type": "code",
   "execution_count": 1,
   "metadata": {},
   "outputs": [
    {
     "name": "stdout",
     "output_type": "stream",
     "text": [
      "Please enter your name wonhyun\n",
      "Your name in all capitals is WONHYUN and has length 7\n"
     ]
    }
   ],
   "source": [
    "aName = input(\"Please enter your name \")\n",
    "print(\"Your name in all capitals is\",aName.upper(),\n",
    "      \"and has length\", len(aName))"
   ]
  },
  {
   "cell_type": "markdown",
   "metadata": {},
   "source": [
    "It is important to note that the value returned from the input function will be a string representing the exact characters that were entered after the prompt. \n",
    "\n",
    "인풋 함수에서 리턴된 값은 프롬프트 이후에 입력된 정확한 글자를 나타내는 문자라는 것을 아는 것은 중요하다.\n",
    "\n",
    "If you want this string interpreted as another type, you must provide the type conversion explicitly. \n",
    "\n",
    "만약 이 문자가 다른 타입으로 해석되기를 원한다면, 너는 명시적으로 형변환을 제공해야만 한다.\n",
    "\n",
    "In the statements below, the string that is entered by the user is converted to a float so that it can be used in further arithmetic processing.\n",
    "\n",
    "아래의 상황처럼, 사용자에 의해 입력된 문자가 실수형으로 변환이 돼서 다음 산수 과정에 사용될 수가 있다."
   ]
  },
  {
   "cell_type": "code",
   "execution_count": 3,
   "metadata": {},
   "outputs": [
    {
     "name": "stdout",
     "output_type": "stream",
     "text": [
      "Please enter the radius of the circle 10\n"
     ]
    }
   ],
   "source": [
    "sradius = input(\"Please enter the radius of the circle \")\n",
    "radius = float(sradius)\n",
    "diameter = 2 * radius"
   ]
  },
  {
   "cell_type": "markdown",
   "metadata": {},
   "source": [
    "# 1.9.1 String Formatting"
   ]
  },
  {
   "cell_type": "markdown",
   "metadata": {},
   "source": [
    "We have already seen that the print function provides a very simple way to output values from a Python program. \n",
    "\n",
    "우리는 이미 출력함수가 파이썬 프로그램으로 부터 나온 결과 값을 매우 간단한 방법으로 제공한다는 것을 보았다.\n",
    "\n",
    "print takes zero or more parameters and displays them using a single blank as the default separator. \n",
    "\n",
    "print는 0개나 그 이상의 파라미터를 가지며, 공백을 기본 분리자로 사용하여 그것들을 보여준다.\n",
    "\n",
    "It is possible to change the separator character by setting the sep argument. \n",
    "\n",
    "sep argument를 설정함으로써 구분자를 바꾸는 것이 가능하다.\n",
    "\n",
    "In addition, each print ends with a newline character by default. \n",
    "\n",
    "게다가, 각 print는 기본적으로 줄바꿈 문자로 끝난다.\n",
    "\n",
    "This behavior can be changed by setting the end argument.\n",
    "\n",
    "이것은 end argument를 설정함으로써 바꿔줄 수 있다.\n",
    "\n",
    "These variations are shown in the following session:\n",
    "\n",
    "이러한 변형은 다음 세션에서 볼 수 있다."
   ]
  },
  {
   "cell_type": "code",
   "execution_count": 4,
   "metadata": {},
   "outputs": [
    {
     "name": "stdout",
     "output_type": "stream",
     "text": [
      "Hello\n",
      "Hello World\n",
      "Hello***World\n",
      "Hello World***"
     ]
    }
   ],
   "source": [
    "print(\"Hello\")\n",
    "print(\"Hello\",\"World\")\n",
    "print(\"Hello\",\"World\", sep=\"***\")\n",
    "print(\"Hello\",\"World\", end=\"***\")"
   ]
  },
  {
   "cell_type": "markdown",
   "metadata": {},
   "source": [
    "It is often useful to have more control over the look of your output. \n",
    "\n",
    "이것은 종종 출력의 모양을 제어하는 데 있어 유용하다.\n",
    "\n",
    "Fortunately, Python provides us with an alternative called formatted strings. \n",
    "\n",
    "다행히도, 파이썬은 우리에게 형식화된 문자열이라고 불리는 대안을 제공한다.\n",
    "\n",
    "A formatted string is a template in which words or spaces that will remain constant are combined with placeholders for variables that will be inserted into the string. \n",
    "\n",
    "형식화된 문자열은 상수 또는 공백이 문자열에 삽입될 변수에 대한 자리 표시자와 결합되는 템플릿이다.\n",
    "\n",
    "For example, the statement\n",
    "예를 들어, 다음 구문은"
   ]
  },
  {
   "cell_type": "code",
   "execution_count": 5,
   "metadata": {},
   "outputs": [
    {
     "name": "stdout",
     "output_type": "stream",
     "text": [
      "wonhyun is 27 years old.\n"
     ]
    }
   ],
   "source": [
    "aName='wonhyun'\n",
    "age='27'\n",
    "print(aName, \"is\", age, \"years old.\")"
   ]
  },
  {
   "cell_type": "markdown",
   "metadata": {},
   "source": [
    "contains the words is and years old, but the name and the age will change depending on the variable values at the time of execution. \n",
    "\n",
    "is와 years old라는 단어를 포함하지만 name과 age는 실행되는 시간에 따라 변수의 값이 달라질 수 있다.\n",
    "\n",
    "Using a formatted string, we write the previous statement as\n",
    "\n",
    "서식화된 문자열을 사용하여, 우리는 이전의 문장을 다음과 같이 작성할 수 있다."
   ]
  },
  {
   "cell_type": "code",
   "execution_count": 6,
   "metadata": {},
   "outputs": [
    {
     "name": "stdout",
     "output_type": "stream",
     "text": [
      "What is your name? wonhyun\n",
      "How old are you? 27\n",
      "wonhyun is 27 years old.\n"
     ]
    }
   ],
   "source": [
    "aName = input(\"What is your name? \")\n",
    "age = int(input(\"How old are you? \"))\n",
    "print(\"%s is %d years old.\" % (aName, age))"
   ]
  },
  {
   "cell_type": "markdown",
   "metadata": {},
   "source": [
    "This simple example illustrates a new string expression.\n",
    "\n",
    "이 간단한 예제는 새로운 문자열 표현을 묘사한다.\n",
    "\n",
    "The % operator is a string operator called the format operator. \n",
    "\n",
    "% 연산자는 format 연산자라고 불리는 문자열 연산자이다.\n",
    "\n",
    "The left side of the expression holds the template or format string, and the right side holds a collection of values that will be substituted into the format string. \n",
    "\n",
    "식의 왼쪽은 템플릿 혹은 형식 문자열을 가지고, 오른쪽은 형식 문자열로 대체될 수 있는 값의 집합을 가진다.\n",
    "\n",
    "Note that the number of values in the collection on the right side corresponds with the number of % characters in the format string. \n",
    "\n",
    "오른쪽 집합 내에서 값들의 개수는 형식 문자열 내의 %의 수와 일치한다는 것에 유의해라.\n",
    "\n",
    "Values are taken—in order, left to right—from the collection and inserted into the format string.\n",
    "\n",
    "값들은 집합 내에서 왼쪽에서 오른쪽으로 순서대로 가져와지고, 형식 문자열 내에 삽입된다.\n",
    " \n",
    "Let’s look at both sides of this formatting expression in more detail. \n",
    "\n",
    "표현을 형식화하는 두가지 쪽을 좀더 자세히 들여다 보자.\n",
    "\n",
    "The format string may contain one or more conversion specifications. \n",
    "\n",
    "형식 문자열은 한가지 혹은 더 많은 전환 명시를 가지고 있다.\n",
    "\n",
    "A conversion character tells the format operator what type of value is going to be inserted into that position in the string. \n",
    "\n",
    "전환 문자는 어떤 유형의 값이 문자열 내의 위치에 삽입될 것인지의 format 연산자를 구분한다.\n",
    "\n",
    "In the example above, the %s specifies a string, while the %dspecifies an integer. \n",
    "\n",
    "위의 예에서, %d는 정수를 명시하는 반면에 %s는 문자열을 명시한다.\n",
    "\n",
    "Other possible type specifications include i, u, f, e, g, c, or %. \n",
    "\n",
    "다음 가능한 유형의 명시는 i, u, f, e, g, c 또는 %이다.\n",
    "\n",
    "Table 9 summarizes all of the various type specifications.\n",
    "\n",
    "Table 9는 모든 변수 유형의 명시를 요약한다."
   ]
  },
  {
   "cell_type": "markdown",
   "metadata": {},
   "source": [
    "<table border=\"0\" class=\"table\" id=\"id1\">\n",
    "<caption><span class=\"caption-text\"><strong>Table 9: String Formatting Conversion Characters</strong></span><a class=\"headerlink\" href=\"#id1\" title=\"Permalink to this table\">¶</a></caption>\n",
    "<colgroup>\n",
    "<col width=\"21%\">\n",
    "<col width=\"79%\">\n",
    "</colgroup>\n",
    "<thead valign=\"bottom\">\n",
    "<tr class=\"row-odd\"><th class=\"head\"><strong>Character</strong></th>\n",
    "<th class=\"head\"><strong>Output Format</strong></th>\n",
    "</tr>\n",
    "</thead>\n",
    "<tbody valign=\"top\">\n",
    "<tr class=\"row-even\"><td><code class=\"docutils literal\"><span class=\"pre\">d</span></code>, <code class=\"docutils literal\"><span class=\"pre\">i</span></code></td>\n",
    "<td>Integer</td>\n",
    "</tr>\n",
    "<tr class=\"row-odd\"><td><code class=\"docutils literal\"><span class=\"pre\">u</span></code></td>\n",
    "<td>Unsigned integer</td>\n",
    "</tr>\n",
    "<tr class=\"row-even\"><td><code class=\"docutils literal\"><span class=\"pre\">f</span></code></td>\n",
    "<td>Floating point as m.ddddd</td>\n",
    "</tr>\n",
    "<tr class=\"row-odd\"><td><code class=\"docutils literal\"><span class=\"pre\">e</span></code></td>\n",
    "<td>Floating point as m.ddddde+/-xx</td>\n",
    "</tr>\n",
    "<tr class=\"row-even\"><td><code class=\"docutils literal\"><span class=\"pre\">E</span></code></td>\n",
    "<td>Floating point as m.dddddE+/-xx</td>\n",
    "</tr>\n",
    "<tr class=\"row-odd\"><td><code class=\"docutils literal\"><span class=\"pre\">g</span></code></td>\n",
    "<td>Use <code class=\"docutils literal\"><span class=\"pre\">%e</span></code> for exponents less than <span class=\"math\"><span class=\"MathJax_Preview\" style=\"color: inherit; display: none;\"></span><span class=\"MathJax\" id=\"MathJax-Element-1-Frame\" tabindex=\"0\" data-mathml=\"<math xmlns=&quot;http://www.w3.org/1998/Math/MathML&quot;><mo>&amp;#x2212;</mo><mn>4</mn></math>\" role=\"presentation\" style=\"position: relative;\"><nobr aria-hidden=\"true\"><span class=\"math\" id=\"MathJax-Span-1\" style=\"width: 1.61em; display: inline-block;\"><span style=\"display: inline-block; position: relative; width: 1.313em; height: 0px; font-size: 120%;\"><span style=\"position: absolute; clip: rect(1.372em, 1001.31em, 2.443em, -999.997em); top: -2.199em; left: 0em;\"><span class=\"mrow\" id=\"MathJax-Span-2\"><span class=\"mo\" id=\"MathJax-Span-3\" style=\"font-family: MathJax_Main;\">−</span><span class=\"mn\" id=\"MathJax-Span-4\" style=\"font-family: MathJax_Main;\">4</span></span><span style=\"display: inline-block; width: 0px; height: 2.205em;\"></span></span></span><span style=\"display: inline-block; overflow: hidden; vertical-align: -0.139em; border-left: 0px solid; width: 0px; height: 1.075em;\"></span></span></nobr><span class=\"MJX_Assistive_MathML\" role=\"presentation\"><math xmlns=\"http://www.w3.org/1998/Math/MathML\"><mo>−</mo><mn>4</mn></math></span></span><script type=\"math/tex\" id=\"MathJax-Element-1\">-4</script></span> or greater than <span class=\"math\"><span class=\"MathJax_Preview\" style=\"color: inherit; display: none;\"></span><span class=\"MathJax\" id=\"MathJax-Element-2-Frame\" tabindex=\"0\" data-mathml=\"<math xmlns=&quot;http://www.w3.org/1998/Math/MathML&quot;><mo>+</mo><mn>5</mn></math>\" role=\"presentation\" style=\"position: relative;\"><nobr aria-hidden=\"true\"><span class=\"math\" id=\"MathJax-Span-5\" style=\"width: 1.61em; display: inline-block;\"><span style=\"display: inline-block; position: relative; width: 1.313em; height: 0px; font-size: 120%;\"><span style=\"position: absolute; clip: rect(1.372em, 1001.25em, 2.443em, -999.997em); top: -2.199em; left: 0em;\"><span class=\"mrow\" id=\"MathJax-Span-6\"><span class=\"mo\" id=\"MathJax-Span-7\" style=\"font-family: MathJax_Main;\">+</span><span class=\"mn\" id=\"MathJax-Span-8\" style=\"font-family: MathJax_Main;\">5</span></span><span style=\"display: inline-block; width: 0px; height: 2.205em;\"></span></span></span><span style=\"display: inline-block; overflow: hidden; vertical-align: -0.139em; border-left: 0px solid; width: 0px; height: 1.075em;\"></span></span></nobr><span class=\"MJX_Assistive_MathML\" role=\"presentation\"><math xmlns=\"http://www.w3.org/1998/Math/MathML\"><mo>+</mo><mn>5</mn></math></span></span><script type=\"math/tex\" id=\"MathJax-Element-2\">+5</script></span>, otherwise use <code class=\"docutils literal\"><span class=\"pre\">%f</span></code></td>\n",
    "</tr>\n",
    "<tr class=\"row-even\"><td><code class=\"docutils literal\"><span class=\"pre\">c</span></code></td>\n",
    "<td>Single character</td>\n",
    "</tr>\n",
    "<tr class=\"row-odd\"><td><code class=\"docutils literal\"><span class=\"pre\">s</span></code></td>\n",
    "<td>String, or any Python data object that can be converted to a string by using the <code class=\"docutils literal\"><span class=\"pre\">str</span></code> function.</td>\n",
    "</tr>\n",
    "<tr class=\"row-even\"><td><code class=\"docutils literal\"><span class=\"pre\">%</span></code></td>\n",
    "<td>Insert a literal % character</td>\n",
    "</tr>\n",
    "</tbody>\n",
    "</table>"
   ]
  },
  {
   "cell_type": "markdown",
   "metadata": {},
   "source": [
    "In addition to the format character, you can also include a format modifier between the % and the format character. \n",
    "형식 문자 외에도, 너는 %와 형식 문자에 또한 포맷 수정자를 포함할 수 있다.\n",
    "Format modifiers may be used to left-justify or right-justifiy the value with a specified field width.\n",
    "형식 수식어는 width 필드를 지정한 값으로 왼쪽 또는 오른쪽 정렬하는 데 사용될 수 있다.\n",
    "Modifiers can also be used to specify the field width along with a number of digits after the decimal point. \n",
    "수식어는 또한 소수점 뒤의 소수의 개수로 width 필드를 지정하는 것으로 사용될 수 있다.\n",
    "\n",
    "Table 10 explains these format modifiers\n",
    "Table 10은 이러한 형식 수식자들을 설명한다."
   ]
  },
  {
   "cell_type": "markdown",
   "metadata": {},
   "source": [
    "<table border=\"0\" class=\"table\" id=\"id2\">\n",
    "<caption><span class=\"caption-text\"><strong>Table 10: Additional formatting options</strong></span><a class=\"headerlink\" href=\"#id2\" title=\"Permalink to this table\">¶</a></caption>\n",
    "<colgroup>\n",
    "<col width=\"18%\">\n",
    "<col width=\"10%\">\n",
    "<col width=\"72%\">\n",
    "</colgroup>\n",
    "<thead valign=\"bottom\">\n",
    "<tr class=\"row-odd\"><th class=\"head\"><strong>Modifier</strong></th>\n",
    "<th class=\"head\"><strong>Example</strong></th>\n",
    "<th class=\"head\"><strong>Description</strong></th>\n",
    "</tr>\n",
    "</thead>\n",
    "<tbody valign=\"top\">\n",
    "<tr class=\"row-even\"><td>number</td>\n",
    "<td><code class=\"docutils literal\"><span class=\"pre\">%20d</span></code></td>\n",
    "<td>Put the value in a field width of 20</td>\n",
    "</tr>\n",
    "<tr class=\"row-odd\"><td><code class=\"docutils literal\"><span class=\"pre\">-</span></code></td>\n",
    "<td><code class=\"docutils literal\"><span class=\"pre\">%-20d</span></code></td>\n",
    "<td>Put the value in a field 20 characters wide, left-justified</td>\n",
    "</tr>\n",
    "<tr class=\"row-even\"><td><code class=\"docutils literal\"><span class=\"pre\">+</span></code></td>\n",
    "<td><code class=\"docutils literal\"><span class=\"pre\">%+20d</span></code></td>\n",
    "<td>Put the value in a field 20 characters wide, right-justified</td>\n",
    "</tr>\n",
    "<tr class=\"row-odd\"><td><code class=\"docutils literal\"><span class=\"pre\">0</span></code></td>\n",
    "<td><code class=\"docutils literal\"><span class=\"pre\">%020d</span></code></td>\n",
    "<td>Put the value in a field 20 characters wide, fill in with leading zeros.</td>\n",
    "</tr>\n",
    "<tr class=\"row-even\"><td><code class=\"docutils literal\"><span class=\"pre\">.</span></code></td>\n",
    "<td><code class=\"docutils literal\"><span class=\"pre\">%20.2f</span></code></td>\n",
    "<td>Put the value in a field 20 characters wide with 2 characters to the right of the decimal point.</td>\n",
    "</tr>\n",
    "<tr class=\"row-odd\"><td><code class=\"docutils literal\"><span class=\"pre\">(name)</span></code></td>\n",
    "<td><code class=\"docutils literal\"><span class=\"pre\">%(name)d</span></code></td>\n",
    "<td>Get the value from the supplied dictionary using <code class=\"docutils literal\"><span class=\"pre\">name</span></code> as the key.</td>\n",
    "</tr>\n",
    "</tbody>\n",
    "</table>"
   ]
  },
  {
   "cell_type": "markdown",
   "metadata": {},
   "source": [
    "The right side of the format operator is a collection of values that will be inserted into the format string. \n",
    "\n",
    "형식 연산자의 오른쪽은 형식 문자에 삽입될 값의 집합이다.\n",
    "\n",
    "The collection will be either a tuple or a dictionary. \n",
    "\n",
    "집합은 튜플 또는 딕셔너리일 것이다.\n",
    "\n",
    "If the collection is a tuple, the values are inserted in order of position. \n",
    "\n",
    "집합이 튜플이라면, 값은 위치의 순서대로 삽입된다.\n",
    "\n",
    "That is, the first element in the tuple corresponds to the first format character in the format string. \n",
    "\n",
    "즉, 튜플의 첫 번째 요소는 형식 문자열 내의 첫 번째 형식 문자에 일치한다는 것이다.\n",
    "\n",
    "If the collection is a dictionary, the values are inserted according to their keys. \n",
    "\n",
    "만약 집합이 딕셔너리라면, 값은 그들의 키에 따라서 값이 삽입된다.\n",
    "\n",
    "In this case all format characters must use the (name) modifier to specify the name of the key.\n",
    "\n",
    "이 경우에서 모든 형식 단어들은 키의 name을 특정짓기 위해 (name) 연산자를 사용해야만 한다."
   ]
  },
  {
   "cell_type": "code",
   "execution_count": 7,
   "metadata": {},
   "outputs": [
    {
     "name": "stdout",
     "output_type": "stream",
     "text": [
      "The banana costs 24 cents\n",
      "The     banana costs 24.00 cents\n",
      "The     banana costs      24.00 cents\n",
      "The banana costs    24.0 cents\n"
     ]
    }
   ],
   "source": [
    "price = 24\n",
    "item = \"banana\"\n",
    "print(\"The %s costs %d cents\"%(item,price))\n",
    "print(\"The %+10s costs %5.2f cents\"%(item,price))\n",
    "print(\"The %+10s costs %10.2f cents\"%(item,price))\n",
    "itemdict = {\"item\":\"banana\",\"cost\":24}\n",
    "print(\"The %(item)s costs %(cost)7.1f cents\"%itemdict)"
   ]
  },
  {
   "cell_type": "markdown",
   "metadata": {},
   "source": [
    "In addition to format strings that use format characters and format modifiers, Python strings also include a format method that can be used in conjunction with a new Formatter class to implement complex string formatting. \n",
    "\n",
    "형식 문자와 형식 수식어를 사용하는 형식 문자열 외에도, 파이썬 문자열은 또한 복잡한 문자 형식화를 실행하기 위해 새로운 Formatter 클래스와 함께 사용될 수 있는 format method를 포함한다.\n",
    "\n",
    "More about these features can be found in the Python library reference manual.\n",
    "\n",
    "이 특징들의 더 많은 것은 파이썬 라이브러리 레퍼런스 매뉴얼에서 찾아볼 수 있다."
   ]
  }
 ],
 "metadata": {
  "kernelspec": {
   "display_name": "Python 3",
   "language": "python",
   "name": "python3"
  },
  "language_info": {
   "codemirror_mode": {
    "name": "ipython",
    "version": 3
   },
   "file_extension": ".py",
   "mimetype": "text/x-python",
   "name": "python",
   "nbconvert_exporter": "python",
   "pygments_lexer": "ipython3",
   "version": "3.7.3"
  }
 },
 "nbformat": 4,
 "nbformat_minor": 2
}
