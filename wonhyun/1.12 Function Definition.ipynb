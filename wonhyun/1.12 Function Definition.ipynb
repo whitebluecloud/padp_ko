{
 "cells": [
  {
   "cell_type": "markdown",
   "metadata": {},
   "source": [
    "# 1.12. Defining Functions 함수정의"
   ]
  },
  {
   "cell_type": "markdown",
   "metadata": {},
   "source": [
    "The earlier example of procedural abstraction called upon a Python function called sqrt from the math module to compute the square root. \n",
    "\n",
    "절차적추상화의 초기 예는 math 모듈에서 제곱근을 계산해주는 sqrt라고 불리는 파이썬 함수를 요구했다.\n",
    "\n",
    "<span style=\"color:red;\">In general, we can hide the details of any computation by defining a function.</span> A function definition requires a name, a group of parameters, and a body. \n",
    "\n",
    "일반적으로, 우리는 함수를 정의함으로써 어떤 계산의 상세한 점을 숨길 수 있다. 함수정의는 이름과 매개변수 그룹과 body를 요구한다.\n",
    "\n",
    "It may also explicitly return a value. For example, the simple function defined below returns the square of the value you pass into it.\n",
    "\n",
    "이것은 또한 명백히 값을 리턴할 수 있다. 예를 들어, 아래에 정의된 간단한 함수는 너가 넘긴 값의 제곱근 결과를 리턴한다."
   ]
  },
  {
   "cell_type": "code",
   "execution_count": 4,
   "metadata": {},
   "outputs": [
    {
     "name": "stdout",
     "output_type": "stream",
     "text": [
      "9\n",
      "81\n"
     ]
    }
   ],
   "source": [
    "def square(n):\n",
    "    return n**2\n",
    "\n",
    "print(square(3))\n",
    "\n",
    "print(square(square(3)))"
   ]
  },
  {
   "cell_type": "markdown",
   "metadata": {},
   "source": [
    "The syntax for this function definition includes the name, square, and a parenthesized list of formal parameters. \n",
    "\n",
    "이 함수 정의를 위한 구문은 이름인 squre과 괄호로 묶인 형식 매게변수의 리스트를 포함한다\n",
    "\n",
    "For this function, n is the only formal parameter, which suggests that square needs only one piece of data to do its work. \n",
    "\n",
    "이 함수에서, n은 단지 형식 매개변수로, 이 함수의 동작을 위해 squre가 요구하는 것이라고 제안하는 데이터의 단지 한 조각이다.\n",
    "\n",
    "The details, hidden “inside the box,” simply compute the result of n\\*\\*2 and return it. \n",
    "\n",
    "더 자세히, 숨겨진 \"상자 안에 있는 것\"은 단순히 n\\*\\*2의 결과를 계산하고 반환한다.\n",
    "\n",
    "We can invoke or call the square function by asking the Python environment to evaluate it, passing an actual parameter value, in this case, 3. \n",
    "\n",
    "우리는 파이썬 환경에 실제 매개변수 값을 넘겨서 (이 경우에는 3) 평가를 요청함으로써 square 함수를 발생시키거나 호출할 수 있다.\n",
    "\n",
    "Note that the call to square returns an integer that can in turn be passed to another invocation.\n",
    "\n",
    "square함수를 요청하는 것은 정수를 반환하고, 이것은 또 다른 실행에 넘겨질 수 있다는 것에 유의해라.\n",
    "\n",
    "\n",
    "We could implement our own square root function by using a well-known technique called “Newton’s Method.” \n",
    "\n",
    "우리는 잘 알려진 기법인 \"뉴턴의 법칙\"을 이용해서 우리가 만든 root 함수를 실행할 수 있었다.\n",
    "\n",
    "Newton’s Method for approximating square roots performs an iterative computation that converges on the correct value. \n",
    "\n",
    "뉴턴의 제곱근 근사법에 의해 정확한 값에 수렴되는 반복적인 연산을 수행한다.\n",
    "\n",
    "The equation newguess=(1/2)∗(oldguess+(n/oldguess)) takes a value n and repeatedly guesses the square root by making each newguess the oldguess in the subsequent iteration. \n",
    "\n",
    "newguess=(1/2)∗(oldguess+(n/oldguess)) 등식은 n값을 가지고 후속적 반복을 통해 newguess와 oldguess 값을 만듦으로써 반복적으로 제곱근을 추정한다. \n",
    "\n",
    "The initial guess used here is n/2. Listing 1 shows a function definition that accepts a value n and returns the square root of n after making 20 guesses. \n",
    "\n",
    "여기서 사용된 최초의 추정값은 n/2 이다. Listing1은 n값을 받고 20번의 추정 뒤에 그것의 제곱근 값을 리턴하는 함수 정의를 보여준다.\n",
    "\n",
    "\n",
    "Again, the details of Newton’s Method are hidden inside the function definition and <span style=\"color:red;\">the user does not have to know anything about the implementation to use the function for its intended purpose.</span> \n",
    "\n",
    "다시 말해, 뉴턴의 법칙의 세부적인 것은 함수 정의 내부에 숨겨져 있고, 사용자는 함수가 의도한 목적을 위해 실행하는 것에 대해 전혀 알 필요가 없다. \n",
    "\n",
    "Listing 1 also shows the use of the # character as a comment marker. Any characters that follow the # on a line are ignored.\n",
    "\n",
    "Listing 1은 # 문자를 주석 문자로써 사용하였다. 한 문장에서 #뒤에 나오는 어떤 문자라도 무시된다."
   ]
  },
  {
   "cell_type": "markdown",
   "metadata": {},
   "source": [
    "### Listing 1"
   ]
  },
  {
   "cell_type": "code",
   "execution_count": 6,
   "metadata": {},
   "outputs": [
    {
     "name": "stdout",
     "output_type": "stream",
     "text": [
      "4.47213595499958\n"
     ]
    }
   ],
   "source": [
    "def squareroot(n):\n",
    "    root = n/2    #initial guess will be 1/2 of n\n",
    "    for k in range(20):\n",
    "        root = (1/2)*(root + (n / root))\n",
    "\n",
    "    return root\n",
    "\n",
    "print(squareroot(20))"
   ]
  },
  {
   "cell_type": "markdown",
   "metadata": {},
   "source": [
    "### Self Check"
   ]
  },
  {
   "cell_type": "markdown",
   "metadata": {},
   "source": [
    "Here’s a self check that really covers everything so far. \n",
    "\n",
    "여기에 지금까지의 모든 것을 다 커버하는 self check가 있다.\n",
    "\n",
    "You may have heard of the infinite monkey theorem? The theorem states that a monkey hitting keys at random on a typewriter keyboard for an infinite amount of time will almost surely type a given text, such as the complete works of William Shakespeare. \n",
    "\n",
    "무한 원숭이 이론을 들어보았는가? 이 이론은 원숭이가 무한정의 시간 동안 타자기 위에서 임의로 치는 키가 거의 윌리엄 셰익스피어의 작품처럼 명백히 주어진 텍스트를 입력할 것이라고  주장한다.\n",
    "\n",
    "Well, suppose we replace a monkey with a Python function. How long do you think it would take for a Python function to generate just one sentence of Shakespeare? The sentence we’ll shoot for is: “methinks it is like a weasel”\n",
    "\n",
    "음, 우리가 원숭이를 파이썬 함수로 대체한다고 가정해보자. 파이썬 함수가 셰익스피어 작품의 한 문장을 작성하는 데 얼마나 걸릴까? 우리가 완성해야 할 문장은 \"methinks it is like a weasel\" 이다.\n",
    "\n",
    "You’re not going to want to run this one in the browser, so fire up your favorite Python IDE. The way we’ll simulate this is to write a function that generates a string that is 27 characters long by choosing random letters from the 26 letters in the alphabet plus the space. \n",
    "\n",
    "너는 이것을 브라우저에서 실행하고 싶지 않을 테니, 파이썬IDE를 꺼라. 우리가 그것을 실행할 방법은 26개의 알파벳 문자에 공백을 더해서 27개의 문자를 랜덤으로 선택하여 문자열을 생산하는 함수를 작성하는 것이다. \n",
    "\n",
    "We’ll write another function that will score each generated string by comparing the randomly generated string to the goal. A third function will repeatedly call generate and score, then if 100% of the letters are correct we are done. If the letters are not correct then we will generate a whole new string.\n",
    "\n",
    "우리는 랜덤으로 생산된 문자열과 목적을 비교함으로써 점수를 매기는 다른 함수를 생산할 것이다. 세번째 함수는 반복적으로 generate와 score함수를 호출할 것이고, 문자가 100% 일치한다면 그것은 종료될 것이다. 문자열이 정확히 일치하지 않다면, 우리는 완전히 새로운 문자를 만들어 낼 것이다.\n",
    "\n",
    "To make it easier to follow your program’s progress this third function should print out the best string generated so far and its score every 1000 tries.\n",
    "\n",
    "너의 프로그램이 따라가는 것을 더 쉽게 만들기 위해 세번 째 함수는 1000개의 시도마다 반드시 최적의 문자열을 출력해야만 한다."
   ]
  },
  {
   "cell_type": "code",
   "execution_count": 38,
   "metadata": {
    "scrolled": true
   },
   "outputs": [
    {
     "name": "stdout",
     "output_type": "stream",
     "text": [
      "uaoljb kajvivoqrvoydojiwfogl  :  1  Corrected\n",
      "i nupapvn dalrkai  ifipptslk  :  2  Corrected\n",
      "xoqhksikeqto bjffkjipocytdyl  :  4  Corrected\n",
      "teyhmxpwslfbyl ygfdbb gxarfs  :  5  Corrected\n",
      "eetoamdueipzickihrwmz ljaonw  :  6  Corrected\n",
      "yetki uryfcmfsatocq v webomt  :  8  Corrected\n"
     ]
    },
    {
     "ename": "KeyboardInterrupt",
     "evalue": "",
     "output_type": "error",
     "traceback": [
      "\u001b[1;31m---------------------------------------------------------------------------\u001b[0m",
      "\u001b[1;31mKeyboardInterrupt\u001b[0m                         Traceback (most recent call last)",
      "\u001b[1;32m<ipython-input-38-4abdb08286d2>\u001b[0m in \u001b[0;36m<module>\u001b[1;34m\u001b[0m\n\u001b[0;32m     31\u001b[0m \u001b[1;33m\u001b[0m\u001b[0m\n\u001b[0;32m     32\u001b[0m \u001b[1;32mwhile\u001b[0m\u001b[1;33m(\u001b[0m\u001b[1;36m1\u001b[0m\u001b[1;33m)\u001b[0m\u001b[1;33m:\u001b[0m\u001b[1;33m\u001b[0m\u001b[1;33m\u001b[0m\u001b[0m\n\u001b[1;32m---> 33\u001b[1;33m     \u001b[0mresult\u001b[0m \u001b[1;33m=\u001b[0m \u001b[0mgenerate\u001b[0m\u001b[1;33m(\u001b[0m\u001b[0mlen\u001b[0m\u001b[1;33m(\u001b[0m\u001b[0mgoal\u001b[0m\u001b[1;33m)\u001b[0m\u001b[1;33m)\u001b[0m\u001b[1;33m\u001b[0m\u001b[1;33m\u001b[0m\u001b[0m\n\u001b[0m\u001b[0;32m     34\u001b[0m     \u001b[0mtry_cnt\u001b[0m \u001b[1;33m+=\u001b[0m \u001b[1;36m1\u001b[0m\u001b[1;33m\u001b[0m\u001b[1;33m\u001b[0m\u001b[0m\n\u001b[0;32m     35\u001b[0m     \u001b[1;32mif\u001b[0m \u001b[0mmax_scr\u001b[0m \u001b[1;33m<\u001b[0m \u001b[0mscore\u001b[0m\u001b[1;33m(\u001b[0m\u001b[0mresult\u001b[0m\u001b[1;33m,\u001b[0m \u001b[0mgoal\u001b[0m\u001b[1;33m)\u001b[0m \u001b[1;33m:\u001b[0m\u001b[1;33m\u001b[0m\u001b[1;33m\u001b[0m\u001b[0m\n",
      "\u001b[1;32m<ipython-input-38-4abdb08286d2>\u001b[0m in \u001b[0;36mgenerate\u001b[1;34m(length)\u001b[0m\n\u001b[0;32m     17\u001b[0m     \u001b[0mi\u001b[0m \u001b[1;33m=\u001b[0m \u001b[1;36m0\u001b[0m\u001b[1;33m\u001b[0m\u001b[1;33m\u001b[0m\u001b[0m\n\u001b[0;32m     18\u001b[0m     \u001b[1;32mwhile\u001b[0m \u001b[0mi\u001b[0m \u001b[1;33m<\u001b[0m \u001b[0mlength\u001b[0m \u001b[1;33m:\u001b[0m\u001b[1;33m\u001b[0m\u001b[1;33m\u001b[0m\u001b[0m\n\u001b[1;32m---> 19\u001b[1;33m         \u001b[0mchar_chosen\u001b[0m \u001b[1;33m=\u001b[0m \u001b[0mrandom\u001b[0m\u001b[1;33m.\u001b[0m\u001b[0mchoice\u001b[0m\u001b[1;33m(\u001b[0m\u001b[0mchar_list\u001b[0m\u001b[1;33m)\u001b[0m\u001b[1;33m\u001b[0m\u001b[1;33m\u001b[0m\u001b[0m\n\u001b[0m\u001b[0;32m     20\u001b[0m         \u001b[0mresult\u001b[0m \u001b[1;33m+=\u001b[0m \u001b[0mchar_chosen\u001b[0m\u001b[1;33m\u001b[0m\u001b[1;33m\u001b[0m\u001b[0m\n\u001b[0;32m     21\u001b[0m         \u001b[0mi\u001b[0m \u001b[1;33m+=\u001b[0m \u001b[1;36m1\u001b[0m\u001b[1;33m\u001b[0m\u001b[1;33m\u001b[0m\u001b[0m\n",
      "\u001b[1;32mc:\\users\\wonhy\\appdata\\local\\programs\\python\\python37-32\\lib\\random.py\u001b[0m in \u001b[0;36mchoice\u001b[1;34m(self, seq)\u001b[0m\n\u001b[0;32m    257\u001b[0m         \u001b[1;34m\"\"\"Choose a random element from a non-empty sequence.\"\"\"\u001b[0m\u001b[1;33m\u001b[0m\u001b[1;33m\u001b[0m\u001b[0m\n\u001b[0;32m    258\u001b[0m         \u001b[1;32mtry\u001b[0m\u001b[1;33m:\u001b[0m\u001b[1;33m\u001b[0m\u001b[1;33m\u001b[0m\u001b[0m\n\u001b[1;32m--> 259\u001b[1;33m             \u001b[0mi\u001b[0m \u001b[1;33m=\u001b[0m \u001b[0mself\u001b[0m\u001b[1;33m.\u001b[0m\u001b[0m_randbelow\u001b[0m\u001b[1;33m(\u001b[0m\u001b[0mlen\u001b[0m\u001b[1;33m(\u001b[0m\u001b[0mseq\u001b[0m\u001b[1;33m)\u001b[0m\u001b[1;33m)\u001b[0m\u001b[1;33m\u001b[0m\u001b[1;33m\u001b[0m\u001b[0m\n\u001b[0m\u001b[0;32m    260\u001b[0m         \u001b[1;32mexcept\u001b[0m \u001b[0mValueError\u001b[0m\u001b[1;33m:\u001b[0m\u001b[1;33m\u001b[0m\u001b[1;33m\u001b[0m\u001b[0m\n\u001b[0;32m    261\u001b[0m             \u001b[1;32mraise\u001b[0m \u001b[0mIndexError\u001b[0m\u001b[1;33m(\u001b[0m\u001b[1;34m'Cannot choose from an empty sequence'\u001b[0m\u001b[1;33m)\u001b[0m \u001b[1;32mfrom\u001b[0m \u001b[1;32mNone\u001b[0m\u001b[1;33m\u001b[0m\u001b[1;33m\u001b[0m\u001b[0m\n",
      "\u001b[1;32mc:\\users\\wonhy\\appdata\\local\\programs\\python\\python37-32\\lib\\random.py\u001b[0m in \u001b[0;36m_randbelow\u001b[1;34m(self, n, int, maxsize, type, Method, BuiltinMethod)\u001b[0m\n\u001b[0;32m    233\u001b[0m             \u001b[0mk\u001b[0m \u001b[1;33m=\u001b[0m \u001b[0mn\u001b[0m\u001b[1;33m.\u001b[0m\u001b[0mbit_length\u001b[0m\u001b[1;33m(\u001b[0m\u001b[1;33m)\u001b[0m  \u001b[1;31m# don't use (n-1) here because n can be 1\u001b[0m\u001b[1;33m\u001b[0m\u001b[1;33m\u001b[0m\u001b[0m\n\u001b[0;32m    234\u001b[0m             \u001b[0mr\u001b[0m \u001b[1;33m=\u001b[0m \u001b[0mgetrandbits\u001b[0m\u001b[1;33m(\u001b[0m\u001b[0mk\u001b[0m\u001b[1;33m)\u001b[0m          \u001b[1;31m# 0 <= r < 2**k\u001b[0m\u001b[1;33m\u001b[0m\u001b[1;33m\u001b[0m\u001b[0m\n\u001b[1;32m--> 235\u001b[1;33m             \u001b[1;32mwhile\u001b[0m \u001b[0mr\u001b[0m \u001b[1;33m>=\u001b[0m \u001b[0mn\u001b[0m\u001b[1;33m:\u001b[0m\u001b[1;33m\u001b[0m\u001b[1;33m\u001b[0m\u001b[0m\n\u001b[0m\u001b[0;32m    236\u001b[0m                 \u001b[0mr\u001b[0m \u001b[1;33m=\u001b[0m \u001b[0mgetrandbits\u001b[0m\u001b[1;33m(\u001b[0m\u001b[0mk\u001b[0m\u001b[1;33m)\u001b[0m\u001b[1;33m\u001b[0m\u001b[1;33m\u001b[0m\u001b[0m\n\u001b[0;32m    237\u001b[0m             \u001b[1;32mreturn\u001b[0m \u001b[0mr\u001b[0m\u001b[1;33m\u001b[0m\u001b[1;33m\u001b[0m\u001b[0m\n",
      "\u001b[1;31mKeyboardInterrupt\u001b[0m: "
     ]
    }
   ],
   "source": [
    "import random\n",
    "\n",
    "def score(result, goal):\n",
    "    score = 0\n",
    "    num = 0\n",
    "    for char in result :\n",
    "        if char == goal[num] :\n",
    "            score += 1\n",
    "            \n",
    "        num += 1\n",
    "    return score\n",
    "    \n",
    "def generate(length):\n",
    "    char_list = 'abcdefghijklmnopqrstuvwxyz '\n",
    "    result = ''\n",
    "    \n",
    "    i = 0\n",
    "    while i < length :\n",
    "        char_chosen = random.choice(char_list)\n",
    "        result += char_chosen\n",
    "        i += 1\n",
    "        \n",
    "    return result\n",
    "    \n",
    "try_cnt = 0\n",
    "max_scr = 0\n",
    "max_rst = ''\n",
    "result = ''\n",
    "\n",
    "goal = 'methinks it is like a weasel'\n",
    "\n",
    "while(1):\n",
    "    result = generate(len(goal))\n",
    "    try_cnt += 1\n",
    "    if max_scr < score(result, goal) :\n",
    "        max_scr = score(result, goal) \n",
    "        max_rst = result\n",
    "\n",
    "        if max_scr == 27 :\n",
    "            print('Congratulations', try_cnt)\n",
    "            break\n",
    "        elif max_scr > 0 :\n",
    "            print(max_rst, ' : ', max_scr, ' Corrected')    "
   ]
  },
  {
   "cell_type": "markdown",
   "metadata": {},
   "source": [
    "### Self Check Challenge"
   ]
  },
  {
   "cell_type": "markdown",
   "metadata": {},
   "source": [
    "See if you can improve upon the program in the self check by keeping letters that are correct and only modifying one character in the best string so far. \n",
    "\n",
    "올바른 문자를 간직하고 지금까지 가장 좋은 문자열로 한 문자만 수정하여 Self Check 에서 프로그램을 개선할 수 있는지 확인해라.\n",
    "\n",
    "This is a type of algorithm in the class of ‘hill climbing’ algorithms, that is we only keep the result if it is better than the previous one.\n",
    "\n",
    "이 유형의 알고리즘은 언덕오르기 알고리즘이고, 이것은 우리가 단지 이전보다 더 나은 결과 하나만을 유지하는 것을 의미한다."
   ]
  }
 ],
 "metadata": {
  "kernelspec": {
   "display_name": "Python 3",
   "language": "python",
   "name": "python3"
  },
  "language_info": {
   "codemirror_mode": {
    "name": "ipython",
    "version": 3
   },
   "file_extension": ".py",
   "mimetype": "text/x-python",
   "name": "python",
   "nbconvert_exporter": "python",
   "pygments_lexer": "ipython3",
   "version": "3.7.3"
  }
 },
 "nbformat": 4,
 "nbformat_minor": 2
}
