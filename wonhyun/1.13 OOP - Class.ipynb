{
 "cells": [
  {
   "cell_type": "markdown",
   "metadata": {},
   "source": [
    "# 1.13. Object-Oriented Programming in Python: Defining Classes "
   ]
  },
  {
   "cell_type": "markdown",
   "metadata": {},
   "source": [
    "We stated earlier that Python is an object-oriented programming language. So far, we have used a number of built-in classes to show examples of data and control structures. \n",
    "\n",
    "우리는 파이썬이 객체지향 프로그래밍 언어라고 주장했다. 지금까지, 우리는 데이터와 제어문의 예제를 보여주기 위해 여러가지 내장 클래스를 사용했다.\n",
    "\n",
    "One of the most powerful features in an object-oriented programming language is the ability to allow a programmer (problem solver) to create new classes that model data that is needed to solve the problem.\n",
    "\n",
    "객체지향 프로그래밍 언어에서의 가장 강력한 특징은 문제 해결에 필요한 데이터를 모델링하는 프로그래머에게 새로운 클래스를 만드는 것을 허락한다는 것이다.\n",
    "\n",
    "Remember that we use abstract data types to provide the logical description of what a data object looks like (its state) and what it can do (its methods). \n",
    "\n",
    "우리가 데이터 객체가 어떻게 생겼는지(상태)와 무엇을 할 수 있는지(메써드) 논리적은 묘사를 제공하기 위해 추상 데이터 유형을 사용한 다는 것을 기억해라.\n",
    "\n",
    "By building a class that implements an abstract data type, a programmer can take advantage of the abstraction process and at the same time provide the details necessary to actually use the abstraction in a program. Whenever we want to implement an abstract data type, we will do so with a new class.\n",
    "\n",
    "추상 데이터 유형을 구현하는 클래스를 설계함으로써, 프로그래머는 추상화 프로세스를 활용할 수 있는 동시에 실제로 추상화를 사용하기 위한 필수적인 세부 사항을 제공할 수 있다. 우리가 추상 데이터 타입을 구현할 때마다, 우리는 새로운 클래스와 함께 그것을 할 것이다."
   ]
  },
  {
   "cell_type": "markdown",
   "metadata": {},
   "source": [
    "## 1.13.1. A Fraction Class"
   ]
  },
  {
   "cell_type": "markdown",
   "metadata": {},
   "source": [
    "A very common example to show the details of implementing a user-defined class is to construct a class to implement the abstract data type Fraction. We have already seen that Python provides a number of numeric classes for our use. There are times, however, that it would be most appropriate to be able to create data objects that “look like” fractions.\n",
    "\n",
    "사용자가 정의한 클래스를 구현하는 세부 정보를 보여주는 매우 흔한 예제는 추상화 데이터 유형인 Fraction을 구현하는 클래스를 구조화하는 것이다. 우리는 이미 우리의 사용을 위해 파이썬이 제공하는 많은 숫자 클래스를 보았다. 하지만, \"분수처럼 보이는\" 데이터 객체를 만드는 것이 가장 적절할 때가 있다.\n",
    "\n",
    "A fraction such as 3/5 consists of two parts. The top value, known as the numerator, can be any integer. The bottom value, called the denominator, can be any integer greater than 0 (negative fractions have a negative numerator). \n",
    "\n",
    "3/5와 같은 분수는 두 부분으로 구성된다. 분자라고 불리는 위의 값은 어떤 정수라도 될 수 있다. 아래의 값인 분모는 0보다 큰 어떤 정수라도 될 수 있다. (음수인 분수는 음수인 분자를 가진 것이다)\n",
    "\n",
    "Although it is possible to create a floating point approximation for any fraction, in this case we would like to represent the fraction as an exact value.\n",
    "\n",
    "비록 어떤 분수라도 대략의 소수를 만들어 낼 수 있을 지라도, 이 경우에 우리는 정확한 값으로써의 분수를 표현하고 싶다.\n",
    "\n",
    "The operations for the Fraction type will allow a Fraction data object to behave like any other numeric value. We need to be able to add, subtract, multiply, and divide fractions. \n",
    "\n",
    "분수 유형의 연산자는 분수 데이터 객체로 하여금 어떤 다른 숫자 값들 처럼 동작하는 것을 허락할 것이다. 분수가 덧셈, 뺄셈, 곱셈, 나눗셈을 가능하게 할 것이다.\n",
    "\n",
    "We also want to be able to show fractions using the standard “slash” form, for example 3/5. In addition, all fraction methods should return results in their lowest terms so that no matter what computation is performed, we always end up with the most common form.\n",
    "\n",
    "우리는 또한 분수를 대표적인 슬래시(/) 형태로 보여줄 수 있게 하고싶다. 예를 들어 3/5 처럼. 또한 모든 분수 방법은 가장 작은 결과로 반환해야 하므로 계산이 수행되는 것과 상관없이 항상 가장 일반적인 형식으로 끝나게 된다.\n",
    "\n",
    "In Python, we define a new class by providing a name and a set of method definitions that are syntactically similar to function definitions. For this example,\n",
    "\n",
    "파이썬에서, 우리는 함수 정의와 구문상으로 비슷한 이름과 메써드 정의들의 조합을 제공함으로써 새로운 클래스를 정의한다. 예를 들어,"
   ]
  },
  {
   "cell_type": "code",
   "execution_count": 2,
   "metadata": {},
   "outputs": [
    {
     "name": "stdout",
     "output_type": "stream",
     "text": [
      "Fraction Class\n"
     ]
    }
   ],
   "source": [
    "class Fraction:\n",
    "    print('Fraction Class')"
   ]
  },
  {
   "cell_type": "markdown",
   "metadata": {},
   "source": [
    "provides the framework for us to define the methods. <span style=\"color:red;\">The first method that all classes should provide is the constructor. The constructor defines the way in which data objects are created.</span>\n",
    "\n",
    "프레임워크에게 우리가 메써드를 정의할 수 있도록 제공한다. 모든 클래스가 제공해야 하는 첫번째 메써드는 생성자이다. 생성자는 데이터 객체가 만들어지는 방법을 정의한다.\n",
    "\n",
    "To create a Fraction object, we will need to provide two pieces of data, the numerator and the denominator. <span style=\"color:red;\">In Python, the constructor method is always called __init__ (two underscores before and after init)</span> and is shown in \n",
    "\n",
    "Fraction 객체를 만들기 위해, 우리는 분자와 분모, 데이터의 두 가지 종류가 필요할 것이다.파이썬에서, 생성자 메써드는 항상 __init__ 으로 호출된다. 그리고 그것은 아래에서 보여진다."
   ]
  },
  {
   "cell_type": "markdown",
   "metadata": {},
   "source": [
    "### Listing2 "
   ]
  },
  {
   "cell_type": "code",
   "execution_count": 14,
   "metadata": {},
   "outputs": [],
   "source": [
    "class Fraction:\n",
    "\n",
    "    def __init__(self,top,bottom):\n",
    "\n",
    "        self.num = top\n",
    "        self.den = bottom\n",
    "        \n",
    "    def show(self):\n",
    "     print(self.num,\"/\",self.den)"
   ]
  },
  {
   "cell_type": "markdown",
   "metadata": {},
   "source": [
    "Notice that the formal parameter list contains three items (self, top, bottom).<span style=\"color:red;\">self is a special parameter that will always be used as a reference back to the object itself. It must always be the first formal parameter; however, it will never be given an actual parameter value upon invocation.</span> As described earlier, fractions require two pieces of state data, the numerator and the denominator. \n",
    "\n",
    "형식 매개변수 리스트는 3가지 항목(self, top, bottom)을 포함한다는 것에 유의해라. self는 특별한 매개변수로, 항상 객체 자신의 참조로써 사용된다. 이것은 항상 첫번째 형식 매개변수여야만 한다; 하지만, 이것은 절대 실제 매개변수 호출시에 주어지지 않는다. 처음에 설명했듯이, 분수는 분자와 분모라는 두가지 종류의 상태 데이터를 필요로 한다.\n",
    "\n",
    "The notation self.num in the constructor defines the fraction object to have an internal data object called num as part of its state. Likewise, self.den creates the denominator. The values of the two formal parameters are initially assigned to the state, allowing the new fraction object to know its starting value.\n",
    "\n",
    "생성자의 표기인 self.num은 num이라고 불리는 내부 데이터 객체를 상태의 일부로써 정의한다. 마찬가지로, self.den은 분모를 만든다. 두 형식 매개변수의 값은 처음에 상태로 할당되어, 새로운 분수 객체가 이것의 초기 값을 알수 있게 한다.\n",
    "\n",
    "To create an instance of the Fraction class, we must invoke the constructor. This happens by using the name of the class and passing actual values for the necessary state <span style=\"color:red;\">(note that we never directly invoke __init__) </span>. For example,\n",
    "\n",
    "Fraction 클래스의 인스턴스를 만들기 위하여, 우리는 생성자를 실행해야만 한다. 이것은 class의 이름을 사용하고, 필요한 상태를 위한 실제 값을 넘김으로써 일어난다. (절대 __init__ 으로 직접 실행하지 않는 다는것에 유의해라.) 예를 들어,"
   ]
  },
  {
   "cell_type": "code",
   "execution_count": 15,
   "metadata": {},
   "outputs": [],
   "source": [
    "myfraction = Fraction(3,5)"
   ]
  },
  {
   "cell_type": "markdown",
   "metadata": {},
   "source": [
    "creates an object called myfraction representing the fraction 3/5 (three-fifths). Figure 5 shows this object as it is now implemented.\n",
    "위의 코드는 3/5의 myfraction이라고 불리는 객체를 만들어 낸다. Figure5는 이 객체가 구현된 것을 보여준다.\n",
    "\n",
    "<img alt=\"fraction1.png\" src=\"http://interactivepython.org/courselib/static/pythonds/_images/fraction1.png\">\n",
    "\n",
    "The next thing we need to do is implement the behavior that the abstract data type requires. To begin, consider what happens when we try to print a Fraction object.\n",
    "\n",
    "우리가 해야할 다음 일은 추상 데이터 유형이 필요로 하는 행동을 구현하는 것이다. 시작하기 전에, Fraction 객체를 프린트하려고 시도할 때 무엇이 일어나는 지 고려해봐라."
   ]
  },
  {
   "cell_type": "code",
   "execution_count": 16,
   "metadata": {},
   "outputs": [
    {
     "name": "stdout",
     "output_type": "stream",
     "text": [
      "<__main__.Fraction object at 0x06AA4590>\n"
     ]
    }
   ],
   "source": [
    "myf = Fraction(3,5)\n",
    "print(myf)"
   ]
  },
  {
   "cell_type": "markdown",
   "metadata": {},
   "source": [
    "The fraction object, myf, does not know how to respond to this request to print. The print function requires that the object convert itself into a string so that the string can be written to the output. The only choice myf has is to show the actual reference that is stored in the variable (the address itself). This is not what we want.\n",
    "\n",
    "fraction object인 myf는 print 요청에 응답할 방법을 모른다. print 함수는 객체 자신을 문자열로 변환하여 결과물로써 출력되는 것을 요청한다. myf가 할 수 있는 일은 실제 변수가 저장되어 있는 참조 값(주소 자신)을 보여주는 것 뿐이다. 이것은 우리가 원하는 것이 아니다. \n",
    "\n",
    "There are two ways we can solve this problem. One is to define a method called show that will allow the Fraction object to print itself as a string. We can implement this method as shown in Listing 3. If we create a Fraction object as before, we can ask it to show itself, in other words, print itself in the proper format.\n",
    "\n",
    "우리는 이것을 해결 할 수 있는 두가지 방법이 있다. 하나는 Fraction 객체를 출력할 수 있는 show라고 불리는 메써드를 정의하는 것이다. 우리는 Listing 3에 보여지는 것 처럼 메써드를 정의할 수 있다. 우리가 Fraction 객체를 전에 만들었다면, 우리는 show에게 이것 자신을 요청할 수 있고, 다시말해, 그것 자신이 적절한 포맷으로 출력될 수 있다.\n",
    "\n",
    "Unfortunately, this does not work in general. In order to make printing work properly, we need to tell the Fraction class how to convert itself into a string. This is what the print function needs in order to do its job.\n",
    "\n",
    "안타깝게도, 이것은 일반적으로 효과가 없다. 출력을 적절하게 하기 위해, 우리는 Fraction class에게 어떻게 이것을 문자열로 변환할 수 있는지를 알려줘야 한다. 이것은 출력 함수가 제 역할을 하기 위해 필요한 것이다."
   ]
  },
  {
   "cell_type": "markdown",
   "metadata": {},
   "source": [
    "### Listing3"
   ]
  },
  {
   "cell_type": "code",
   "execution_count": 17,
   "metadata": {},
   "outputs": [
    {
     "name": "stdout",
     "output_type": "stream",
     "text": [
      "3 / 5\n",
      "<__main__.Fraction object at 0x06CFDA50>\n"
     ]
    }
   ],
   "source": [
    "myf = Fraction(3,5)\n",
    "myf.show()\n",
    "\n",
    "print(myf)"
   ]
  },
  {
   "cell_type": "markdown",
   "metadata": {},
   "source": [
    "In Python, all classes have a set of standard methods that are provided but may not work properly. One of these, __str__, is the method to convert an object into a string. The default implementation for this method is to return the instance address string as we have already seen. What we need to do is provide a “better” implementation for this method. We will say that this implementation overrides the previous one, or that it redefines the method’s behavior.\n",
    "\n",
    "파이썬에서, 모든 클래스는 제공되지만 적절하게 작동되지 않을 수 있는 표준 메써드들의 조합을 가진다. 이것들 중 하나인 __str__ 은 객체를 문자열로 변환하는 메써드이다. 이 메써드의 기본적인 구현은 우리가 이미 본 것 처럼, 인스턴스의 주소를 스트링으로 반환하는 것이다. 우리가 할 것은 이 메써드에 대한 \"더 나은\" 구현이다. 우리는 이 구현을 이전의 것을 오버라이드 한다, 또는 메써드의 방식을 재정의한다고 말할 것이다.\n",
    "\n",
    "To do this, we simply define a method with the name __str__ and give it a new implementation as shown in Listing 4. This definition does not need any other information except the special parameter self. \n",
    "\n",
    "이것을 하기 위해, 우리는 Listing 4에 나와있는 것 처럼 단순히 __str__ 의 이름을 가진 메써드를 정의하고, 새로운 구현을 제공할 것이다. 이 정의는 특별한 매개변수인 self를 제외하고는 다른 어떤 정보도 제공하지 않는다.\n",
    "\n",
    "In turn, the method will build a string representation by converting each piece of internal state data to a string and then placing a / character in between the strings using string concatenation. The resulting string will be returned any time a Fraction object is asked to convert itself to a string. Notice the various ways that this function is used.\n",
    "\n",
    "차례로, 이 방법은 각각의 내부 상태 데이터를 문자열로 변환한 다음, 문자열 연결을 사용하여 문자열 사이에 / 문자를 배치하여 문자열을 표현한다. 결과 문자열은 Fraction 객체가 그것 자신을 string으로 변환하기를 요청할 때마다 반환될 것이다. 이 함수가 사용되는 다양한 방법들에 유의해라."
   ]
  },
  {
   "cell_type": "markdown",
   "metadata": {},
   "source": [
    "### Listing 4"
   ]
  },
  {
   "cell_type": "code",
   "execution_count": null,
   "metadata": {},
   "outputs": [],
   "source": [
    "def __str__(self):\n",
    "    return str(self.num)+\"/\"+str(self.den)\n",
    "myf = Fraction(3,5)\n",
    "print(myf)\n",
    "\n",
    "print(\"I ate\", myf, \"of the pizza\")\n",
    "\n",
    "myf.__str__()\n",
    "\n",
    "str(myf)"
   ]
  },
  {
   "cell_type": "markdown",
   "metadata": {},
   "source": [
    "We can override many other methods for our new Fraction class. Some of the most important of these are the basic arithmetic operations. We would like to be able to create two Fraction objects and then add them together using the standard “+” notation. At this point, if we try to add two fractions, we get the following:\n",
    "\n",
    "우리는 우리의 Fraction 클래스를 위해 많은 다른 메써드들을 오버라이드 할 수 있다. 이것들에서 몇가지 가장 중요한 것들은 기본 산술 연산자들이다. 우리는 두 Fraction 객체를 만들고, 일반적인 \"+\" 기호를 사용하여 더할 수 있다. 여기서, 우리는 두 분수를 더하려고 할 때, 우리는 다음과 같은 결과를 얻는다."
   ]
  },
  {
   "cell_type": "code",
   "execution_count": 18,
   "metadata": {},
   "outputs": [
    {
     "ename": "TypeError",
     "evalue": "unsupported operand type(s) for +: 'Fraction' and 'Fraction'",
     "output_type": "error",
     "traceback": [
      "\u001b[1;31m---------------------------------------------------------------------------\u001b[0m",
      "\u001b[1;31mTypeError\u001b[0m                                 Traceback (most recent call last)",
      "\u001b[1;32m<ipython-input-18-0210d543cddb>\u001b[0m in \u001b[0;36m<module>\u001b[1;34m\u001b[0m\n\u001b[0;32m      1\u001b[0m \u001b[0mf1\u001b[0m \u001b[1;33m=\u001b[0m \u001b[0mFraction\u001b[0m\u001b[1;33m(\u001b[0m\u001b[1;36m1\u001b[0m\u001b[1;33m,\u001b[0m\u001b[1;36m4\u001b[0m\u001b[1;33m)\u001b[0m\u001b[1;33m\u001b[0m\u001b[1;33m\u001b[0m\u001b[0m\n\u001b[0;32m      2\u001b[0m \u001b[0mf2\u001b[0m \u001b[1;33m=\u001b[0m \u001b[0mFraction\u001b[0m\u001b[1;33m(\u001b[0m\u001b[1;36m1\u001b[0m\u001b[1;33m,\u001b[0m\u001b[1;36m2\u001b[0m\u001b[1;33m)\u001b[0m\u001b[1;33m\u001b[0m\u001b[1;33m\u001b[0m\u001b[0m\n\u001b[1;32m----> 3\u001b[1;33m \u001b[0mf1\u001b[0m\u001b[1;33m+\u001b[0m\u001b[0mf2\u001b[0m\u001b[1;33m\u001b[0m\u001b[1;33m\u001b[0m\u001b[0m\n\u001b[0m",
      "\u001b[1;31mTypeError\u001b[0m: unsupported operand type(s) for +: 'Fraction' and 'Fraction'"
     ]
    }
   ],
   "source": [
    "f1 = Fraction(1,4)\n",
    "f2 = Fraction(1,2)\n",
    "f1+f2"
   ]
  },
  {
   "cell_type": "markdown",
   "metadata": {},
   "source": [
    "If you look closely at the error, you see that the problem is that the “+” operator does not understand the Fraction operands.\n",
    "\n",
    "너가 에러를 더 자세히 본다면, 문제는 + 연산자가 Fraction 연산을 이해할 수 없다는 것임을 알 수 있다.\n",
    "\n",
    "We can fix this by providing the Fraction class with a method that overrides the addition method. In Python, this method is called __add__ and it requires two parameters. The first, self, is always needed, and the second represents the other operand in the expression. For example,\n",
    "\n",
    "우리는 이것을 덧셈 메써드를 오버라이드한 Fraction class를 제공함으로써 해결할 수 있다. 파이썬에서, 이 메써드는 __add__ 라고 불리고, 이것은 두개의 매개변수를 필요로 한다. 먼저, self는 항상 필요로되고, 두번째는    "
   ]
  },
  {
   "cell_type": "code",
   "execution_count": 19,
   "metadata": {},
   "outputs": [
    {
     "ename": "AttributeError",
     "evalue": "'Fraction' object has no attribute '__add__'",
     "output_type": "error",
     "traceback": [
      "\u001b[1;31m---------------------------------------------------------------------------\u001b[0m",
      "\u001b[1;31mAttributeError\u001b[0m                            Traceback (most recent call last)",
      "\u001b[1;32m<ipython-input-19-2a05e64b6cae>\u001b[0m in \u001b[0;36m<module>\u001b[1;34m\u001b[0m\n\u001b[1;32m----> 1\u001b[1;33m \u001b[0mf1\u001b[0m\u001b[1;33m.\u001b[0m\u001b[0m__add__\u001b[0m\u001b[1;33m(\u001b[0m\u001b[0mf2\u001b[0m\u001b[1;33m)\u001b[0m\u001b[1;33m\u001b[0m\u001b[1;33m\u001b[0m\u001b[0m\n\u001b[0m",
      "\u001b[1;31mAttributeError\u001b[0m: 'Fraction' object has no attribute '__add__'"
     ]
    }
   ],
   "source": [
    "f1.__add__(f2)"
   ]
  },
  {
   "cell_type": "markdown",
   "metadata": {},
   "source": [
    "would ask the Fraction object f1 to add the Fraction object f2 to itself. This can be written in the standard notation, f1+f2.\n",
    "\n",
    "Fraction 객체인 f1와 F2를 더할 것을 요청한다. 이것은 f1+f2라는 표준 기호로 작성될 수 있다.\n",
    "\n",
    "Two fractions must have the same denominator to be added. The easiest way to make sure they have the same denominator is to simply use the product of the two denominators as a common denominator so that ab+cd=adbd+cbbd=ad+cbbd The implementation is shown in Listing 5. \n",
    "\n",
    "두 분수는 더해지기 위해 반드시 같은 분모를 가져야만 한다. 같은 분모를 가졌다는 것을 가장 쉽게 증명할 수 있는 방법은 간단하게 두 분모의 product를 일반적인 분모로 사용하는 것이다 ab+cd = adbd + cbbd = ad + cbbd. 이것의 구현은 Listing 5에 나와있다.\n",
    "\n",
    "The addition function returns a new Fraction object with the numerator and denominator of the sum. We can use this method by writing a standard arithmetic expression involving fractions, assigning the result of the addition, and then printing our result.\n",
    "\n",
    "addition함수는 덧셈을 한 분모와 분자를 가진 새로운 Fraction 객체를 반환한다. 우리는 분수를 포함하는 표준 산술식을 작성하고, 덧셈의 결과를 할당하며 결과를 출력하는 이 메써드를 사용할 수 있다."
   ]
  },
  {
   "cell_type": "markdown",
   "metadata": {},
   "source": [
    "### Listing 5"
   ]
  },
  {
   "cell_type": "code",
   "execution_count": 1,
   "metadata": {},
   "outputs": [],
   "source": [
    "def __add__(self,otherfraction):\n",
    "\n",
    "     newnum = self.num*otherfraction.den + self.den*otherfraction.num\n",
    "     newden = self.den * otherfraction.den\n",
    "\n",
    "     return Fraction(newnum,newden)"
   ]
  },
  {
   "cell_type": "markdown",
   "metadata": {},
   "source": [
    "The addition method works as we desire, but one thing could be better. Note that 6/8 is the correct result (1/4+1/2) but that it is not in the “lowest terms” representation. The best representation would be 3/4. In order to be sure that our results are always in the lowest terms, we need a helper function that knows how to reduce fractions. \n",
    "\n",
    "덧셈 메써드는 우리가 원하는대로 작동하지만, 더 나아질 수 있다. 6/8은 (1/4+1/2) 의 정확한 결과이지만 이것은 \"기약 분수\" 표현은 아니다. 최선의 표현은 3/4가 될 것이다. 우리의 결과가 항상 기약 분수라는 것을 분명이하기 위해, 우리는 분수를 약분하는 것을 아는 helper 함수가 필요하다. \n",
    "\n",
    "This function will need to look for the greatest common divisor, or GCD. We can then divide the numerator and the denominator by the GCD and the result will be reduced to lowest terms.\n",
    "\n",
    "이 함수는 최대공인자(?)나 최대공약수를 필요로 할 것이다. 그런 다음 우리는 분수와 분자를 최대공약수로 나누고, 그 결과는 기약분수로 감소될 것이다.\n",
    "\n",
    "The best-known algorithm for finding a greatest common divisor is Euclid’s Algorithm, which will be discussed in detail in Chapter 8. Euclid’s Algorithm states that the greatest common divisor of two integers m and n is n if n divides m evenly. However, if n does not divide m evenly, then the answer is the greatest common divisor of n and the remainder of m divided by n. \n",
    "\n",
    "최대 공약수를 찾는 가장 잘 알려진 알고리즘은 유클리드 알고리즘으로, Chapter 8에서 상세하게 다룰 것이다. 유클리드 알고리즘은 두 정수 m과 n에서 n이 m을 정확히 나눈다면 최대 공약수는 n이라고 주장한다. 하지만, n이 m을 정확히 나누지 못한다면, m을 n으로 나눈 나머지와 n의 최대공약수가 답이다.\n",
    "\n",
    "We will simply provide an iterative implementation here (see ActiveCode 1). Note that this implementation of the GCD algorithm only works when the denominator is positive. This is acceptable for our fraction class because we have said that a negative fraction will be represented by a negative numerator.\n",
    "\n",
    "우리는 단순히 연속적인 구현을 제공한다. 이 GCD 알고리즘의 구현이 분모가 양수일 때만 적용된다는 것에 유의해라. 이것은 우리의 Fraction class에 적용 가능하다. 왜냐하면 우리는 음수 분수는 음수 분자에 의해 표현될 것이라고 말했기 때문이다."
   ]
  },
  {
   "cell_type": "code",
   "execution_count": 2,
   "metadata": {},
   "outputs": [
    {
     "name": "stdout",
     "output_type": "stream",
     "text": [
      "10\n"
     ]
    }
   ],
   "source": [
    "def gcd(m,n):\n",
    "    while m%n != 0:\n",
    "        oldm = m\n",
    "        oldn = n\n",
    "\n",
    "        m = oldn\n",
    "        n = oldm%oldn\n",
    "    return n\n",
    "\n",
    "print(gcd(20,10))"
   ]
  },
  {
   "cell_type": "markdown",
   "metadata": {},
   "source": [
    "Now we can use this function to help reduce any fraction. To put a fraction in lowest terms, we will divide the numerator and the denominator by their greatest common divisor. So, for the fraction 6/8, the greatest common divisor is 2. Dividing the top and the bottom by 2 creates a new fraction, 3/4 (see Listing 6).\n",
    "\n",
    "이제 우리는 이 함수를 어떤 분수라도 감소 시키는 것에 사용할 수 있다. 분수를 기약분수로 바꾸기 위해, 우리는 분자와 분모를 그것들의 최대공약수로 나눌 것이다. 그래서, 6/8 의 최대공약수는 2이다. 위와 아래를 2로 나눔으로써, 새로운 분수인 3/4를 만들어낸다."
   ]
  },
  {
   "cell_type": "markdown",
   "metadata": {},
   "source": [
    "### Listing 6"
   ]
  },
  {
   "cell_type": "code",
   "execution_count": null,
   "metadata": {},
   "outputs": [],
   "source": [
    "def __add__(self,otherfraction):\n",
    "    newnum = self.num*otherfraction.den + self.den*otherfraction.num\n",
    "    newden = self.den * otherfraction.den\n",
    "    common = gcd(newnum,newden)\n",
    "    return Fraction(newnum//common,newden//common)\n",
    "f1=Fraction(1,4)\n",
    "f2=Fraction(1,2)\n",
    "f3=f1+f2\n",
    "print(f3)"
   ]
  },
  {
   "cell_type": "markdown",
   "metadata": {},
   "source": [
    "<img alt=\"fraction2.png\" src=\"http://interactivepython.org/courselib/static/pythonds/_images/fraction2.png\">\n",
    "\n",
    "Our Fraction object now has two very useful methods and looks like Figure 6. An additional group of methods that we need to include in our example Fraction class will allow two fractions to compare themselves to one another. \n",
    "\n",
    "우리의 Fraction 객체는 Figure 6 에서 보여지는 것 처럼 이제 두가지 매우 유용한 메써드를 가진다. 우리가 예제인 Fraction 클래스에 포함해야 할 추가 방법 그룹이 두 분수를 그들 스스로 또는 다른 것들과 서로 비교할 수 있도록 할 것이다.\n",
    "\n",
    "Assume we have two Fraction objects, f1 and f2. f1==f2 will only be True if they are references to the same object. Two different objects with the same numerators and denominators would not be equal under this implementation. This is called shallow equality (see Figure 7).\n",
    "\n",
    "우리가 두 Fraction 객체를 가지고 있다고 가정해보자. f1과 f2. 만약 그것들이 같은 객체를 참조하고 있다면 f1 == f2 는 항상 True를 반환할것이다. 같은 분자와 분모에 대한 두 다른 객체는 이 구현에서 같지 않을 수 있다. 이것은 얕은 균등이라고 불린다.\n",
    "\n",
    "<img alt=\"fraction3.png\" src=\"http://interactivepython.org/courselib/static/pythonds/_images/fraction3.png\">\n",
    "\n",
    "We can create deep equality (see Figure 7)–equality by the same value, not the same reference–by overriding the __eq__ method. The __eq__ method is another standard method available in any class. The __eq__ method compares two objects and returns True if their values are the same, False otherwise.\n",
    "\n",
    "우리는 __eq__ 메써드를 오버라이딩하여 깊은 균등-같은 값이지만, 같은 참조가 아닌-을 만들어 낼 수 있다. __eq__ 메써드는 어떤 클래스에서도 사용가능한 또다른 표준 메써드이다. __eq__ 메써드는 두가지 객체를 비교하고 그것들이 같다면 True를, 아니면 False를 리턴하게 된다.\n",
    "\n",
    "In the Fraction class, we can implement the __eq__ method by again putting the two fractions in common terms and then comparing the numerators (see Listing 7). It is important to note that there are other relational operators that can be overridden. For example, the __le__ method provides the less than or equal functionality.\n",
    "\n",
    "Fraction 클래스에서, 우리는 구 분수를 일반적은 구조로 놓고, 분자를 비교함으로써 __eq__ 메써드를 구현할 수 있다. 여기서 오버라이딩 될 수 있는 다른 관계 연산자가 있다는 것을 주의하는 것은 중요하다. 예를 들어, __le__ 메써드는 이하 기능을 제공한다.\n"
   ]
  },
  {
   "cell_type": "markdown",
   "metadata": {},
   "source": [
    "### Listing 7"
   ]
  },
  {
   "cell_type": "code",
   "execution_count": 3,
   "metadata": {},
   "outputs": [],
   "source": [
    "def __eq__(self, other):\n",
    "    firstnum = self.num * other.den\n",
    "    secondnum = other.num * self.den\n",
    "\n",
    "    return firstnum == secondnum"
   ]
  },
  {
   "cell_type": "markdown",
   "metadata": {},
   "source": [
    "The complete Fraction class, up to this point, is shown in ActiveCode 2. We leave the remaining arithmetic and relational methods as exercises.\n",
    "\n",
    "여기까지 완전한 Fraction 클래스는 ActiveCode 2에서 확인할 수 있다."
   ]
  },
  {
   "cell_type": "code",
   "execution_count": 1,
   "metadata": {},
   "outputs": [
    {
     "name": "stdout",
     "output_type": "stream",
     "text": [
      "7/6\n",
      "False\n"
     ]
    }
   ],
   "source": [
    "def gcd(m,n):\n",
    "    while m%n != 0:\n",
    "        oldm = m\n",
    "        oldn = n\n",
    "\n",
    "        m = oldn\n",
    "        n = oldm%oldn\n",
    "    return n\n",
    "\n",
    "class Fraction:\n",
    "     def __init__(self,top,bottom):\n",
    "         self.num = top\n",
    "         self.den = bottom\n",
    "\n",
    "     def __str__(self):\n",
    "         return str(self.num)+\"/\"+str(self.den)\n",
    "\n",
    "     def show(self):\n",
    "         print(self.num,\"/\",self.den)\n",
    "\n",
    "     def __add__(self,otherfraction):\n",
    "         newnum = self.num*otherfraction.den + \\\n",
    "                      self.den*otherfraction.num\n",
    "         newden = self.den * otherfraction.den\n",
    "         common = gcd(newnum,newden)\n",
    "         return Fraction(newnum//common,newden//common)\n",
    "\n",
    "     def __eq__(self, other):\n",
    "         firstnum = self.num * other.den\n",
    "         secondnum = other.num * self.den\n",
    "\n",
    "         return firstnum == secondnum\n",
    "\n",
    "x = Fraction(1,2)\n",
    "y = Fraction(2,3)\n",
    "print(x+y)\n",
    "print(x == y)"
   ]
  },
  {
   "cell_type": "markdown",
   "metadata": {},
   "source": [
    "To make sure you understand how operators are implemented in Python classes, and how to properly write methods, write some methods to implement \\*, /, and - . Also implement comparison operators > and <\n",
    "\n",
    "너가 파이썬 클래스 안에서 연산자가 동작하는 방식과 어떻게 적절히 메써드를 작성하는지를 이해한다는 것을 명확히 하기 위해, \\*나 / , - 를 구현하는 몇가지 메써드를 작성해봐라. 또한, 비교연산자인 >와 < 를 구현해 봐라."
   ]
  },
  {
   "cell_type": "markdown",
   "metadata": {},
   "source": [
    "# 1.13.2. Inheritance: Logic Gates and Circuits"
   ]
  },
  {
   "cell_type": "markdown",
   "metadata": {},
   "source": [
    "Our final section will introduce another important aspect of object-oriented programming. Inheritance is the ability for one class to be related to another class in much the same way that people can be related to one another. Children inherit characteristics from their parents. Similarly, Python child classes can inherit characteristic data and behavior from a parent class. These classes are often referred to as subclasses and superclasses.\n",
    "\n",
    "우리의 마지막 세션은 객체지향 프로그래밍의 중요한 면을 소개할 것이다. 상속은 사람이 누군가와 연관될 수 있는 것 처럼 다른 클래스가 연관된 어떤 클래스와 관련 있을 수 있는 능력이다. 자식은 부모의 특징을 상속받는다. 비슷하게, 파이썬의 자식 클래스는 부모 클래스로부터 특징적인 데이터와 행동을 상속받을 수 있다. 이러한 클래스는 종종 subclass와 superclass라고 언급된다.\n",
    "\n",
    "\n",
    "Figure 8 shows the built-in Python collections and their relationships to one another. We call a relationship structure such as this an inheritance hierarchy. For example, the list is a child of the sequential collection. In this case, we call the list the child and the sequence the parent (or subclass list and superclass sequence). This is often referred to as an IS-A Relationship (the list IS-A sequential collection). This implies that lists inherit important characteristics from sequences, namely the ordering of the underlying data and operations such as concatenation, repetition, and indexing.\n",
    "\n",
    "Figure 8은 파이썬의 내장 함수와 그것들 서로 간의 관계를 보여준다. 우리는 이와 같은 관계 구조를 상속 계급이라고 부른다. 예를 들어, 자식의 목록은 연속적인 집합이다. 이 경우에서, 우리는 리스트를 child라고 부르고 (또는 subclass 목록 과 superclass 연속).. 이것은 종종 IS-A 관계(IS-A 연속 집합)라고 언급된다. 이것은 리스트가 연속성으로 부터 중요한 특징, 즉 기본 데이터 순서화, 협약 등의 작업, 반복, 인덱싱 등을 상속한다는 것을 암시한다.\n",
    "\n",
    "<img alt=\"inheritance1.png\" src=\"http://interactivepython.org/courselib/static/pythonds/_images/inheritance1.png\">\n",
    "\n",
    "Lists, tuples, and strings are all types of sequential collections. They all inherit common data organization and operations. However, each of them is distinct based on whether the data is homogeneous and whether the collection is immutable. The children all gain from their parents but distinguish themselves by adding additional characteristics.\n",
    "\n",
    "리스트, 튜플, 문자열은 연속적인 집합의 모든 유형이다. 그것들은 모두 공통 데이터 조합과 연산자들을 상속받는다. 하지만, 각각은 데이터가 균등한지의 여부와 데이터가 불변성인지의 여부에 따라 뚜렷이 구별된다. 자식들은 모두 부무로부터 얻지만, 그것들은 부가적인 특성을 더함으로써 그것들끼리 구별이된다.\n",
    "\n",
    "By organizing classes in this hierarchical fashion, object-oriented programming languages allow previously written code to be extended to meet the needs of a new situation. In addition, by organizing data in this hierarchical manner, we can better understand the relationships that exist. We can be more efficient in building our abstract representations.\n",
    "\n",
    "클래스를 계층 방식으로 구성함으로써, 객체지향 프로그래밍 언어는 이전에 쓰여진 코드가 새로운 상황에의 필요성을 충족할 수 있도록 확대시키는 것을 허용한다. 또한, 데이터를 계층적인 방식으로 구조화함으로써, 우리는 존재하는 관계를 더욱 쉽게 이해할 수 있다. 우리는 더욱 효율적으로 우리의 추상적인 표현을 설계할 수 있다.\n",
    "\n",
    "To explore this idea further, we will construct a simulation, an application to simulate digital circuits. The basic building block for this simulation will be the logic gate. These electronic switches represent boolean algebra relationships between their input and their output. In general, gates have a single output line. The value of the output is dependent on the values given on the input lines.\n",
    "\n",
    "이 아이디어를 더 탐구하기 위해, 우리는 디지털 회로를 시뮬레이션하는 어플리케이션을 구현할 것이다. 이 시뮬레이션을 구성하는 기본 블럭은 로직 게이트이다. 이 전자 스위치는 입력과 출력 사이의 부울 대수 관계를 나타낸다. 일반적으로, 게이트는 하나의 출력 라인을 가진다. 결과 값은 입력 라인에서 주어진 값에 의존한다.\n",
    "\n",
    "AND gates have two input lines, each of which can be either 0 or 1 (representing False or True, repectively). If both of the input lines have the value 1, the resulting output is 1. However, if either or both of the input lines is 0, the result is 0. OR gates also have two input lines and produce a 1 if one or both of the input values is a 1. In the case where both input lines are 0, the result is 0.\n",
    "\n",
    "AND 게이트는 두개의 입력 라인을 가지고, 0이나 1(각각 False와 True로 표현되는)로 표현될 수 있다.만약 입력 라인이 모두 1을 가지고 있으면, 결과는 1이다. 하지만, 만약 입력라인이 모두 0이라면 결과는 0이다. OR 게이트는 또한 두 개의 입력 라인을 가지고 하나 또는 두개 값이 1이면 1을 생산한다. 둘다 0이 입력인 경우 결과는 0이다.\n",
    "\n",
    "NOT gates differ from the other two gates in that they only have a single input line. The output value is simply the opposite of the input value. If 0 appears on the input, 1 is produced on the output. Similarly, 1 produces 0. Figure 9 shows how each of these gates is typically represented. Each gate also has a truth table of values showing the input-to-output mapping that is performed by the gate.\n",
    "\n",
    "NOT 게이트들은 하나의 인풋 라인을 가진다는 점에서 다른 두 게이트와 다르다. 결과값은 단순히 입력값의 반대이다. 입력이 0으로 나타나면 1의 결과가 나온다. 마찬가지로 1은 0을 생산한다. Figure 9는 이러한 게이트들 각각이 어떻게 전형적으로 표현되는지를 보여준다. 각 게이트는 또한 게이트에 의해서 구현되는 입력-출력 매핑을 보여주는 값들의 참 테이블을 가진다.\n",
    "\n",
    "<img alt=\"/truthtable.png\" src=\"http://interactivepython.org/courselib/static/pythonds/_images/truthtable.png\">\n",
    "\n",
    "By combining these gates in various patterns and then applying a set of input values, we can build circuits that have logical functions. Figure 10 shows a circuit consisting of two AND gates, one OR gate, and a single NOT gate. The output lines from the two AND gates feed directly into the OR gate, and the resulting output from the OR gate is given to the NOT gate. If we apply a set of input values to the four input lines (two for each AND gate), the values are processed and a result appears at the output of the NOT gate. Figure 10 also shows an example with values.\n",
    "\n",
    "이러한 게이트를 다양한 방식으로 조합하고 입력값의 셋을 적용함으로써, 우리는 논리적인 함수를 가지는 회로를 만들 수 있다. Figure 10은 두 개의 AND, 하나의 OR, 하나의 NOT 게이트로 구성된 회로를 보여준다. 두개의 AND 게이트로부터의 결과 라인은 바로 OR 게이트로 들어가며, OR 게이트로부터의 결과는 NOT 게이트로 간다. 만약 우리가 입력 값의 조합을 네개의 입력 라인 (두개의 AND게이트)에 적용한다면, 값들은 처리되고, 결과는 NOT 게이트의 출력으로 나타난다. Figure 10은 또한 값의 예를 보여준다.\n",
    "\n",
    "<img alt=\"/circuit1.png\" src=\"http://interactivepython.org/courselib/static/pythonds/_images/circuit1.png\">\n",
    "\n",
    "In order to implement a circuit, we will first build a representation for logic gates. Logic gates are easily organized into a class inheritance hierarchy as shown in Figure 11. At the top of the hierarchy, the LogicGate class represents the most general characteristics of logic gates: namely, a label for the gate and an output line. The next level of subclasses breaks the logic gates into two families, those that have one input line and those that have two. Below that, the specific logic functions of each appear.\n",
    "\n",
    "이 회로를 구현하기 위해서, 우리는 먼저 로직 게이트의 표현을 설계해야한다. 로직 게이트는 Figure 1에서 보여지듯이 쉽게 클래스 상속 계층으로 구조화 된다. 계층의 꼭대기에서, 로직게이트 클래스는 가장 일반적인 논리 게이트의 특성을 나타낸다: 즉, 게이트와 출력라인의 라벨을. 다음 단계는 하위 분류로 세분화되고, 논리 게이트를 하나의 입력선을 가진 것과 두 개의 입력선을 가진 것으로 구분한다. 그 아래에, 각각의 구체적인 논리함수가 나타난다.\n",
    "\n",
    "<img alt=\"/gates.png\" src=\"http://interactivepython.org/courselib/static/pythonds/_images/gates.png\">\n",
    "\n",
    "We can now start to implement the classes by starting with the most general, LogicGate. As noted earlier, each gate has a label for identification and a single output line. In addition, we need methods to allow a user of a gate to ask the gate for its label.\n",
    "\n",
    "우리는 이제 가장 일반적인 LogicGate 를 시작함으로써 클래스의 구현을 시작할 수 있다. 일찍이 언급했듯, 각 게이트는 식별을 위한 라벨과 하나의 출력 라인이 있다. 또한, 우리는 사용자로 하여금 게이트의 라벨을 요청하게 할 수 있다.\n",
    "\n",
    "The other behavior that every logic gate needs is the ability to know its output value. This will require that the gate perform the appropriate logic based on the current input. In order to produce output, the gate needs to know specifically what that logic is. This means calling a method to perform the logic computation. The complete class is shown in Listing 8.\n",
    "\n",
    "모든 로직게이트가 필요로하는 다른 행동은 그것의 결과값을 알아내는 능력이다. 이것은 게이트가 현재의 입력에 기초하여 적절한 로직을 수행할 수 있도록 요구할 것이다. 결과값을 생산하기 위해서, 게이트는 그 로직이 확실히 무엇인지 아는 것이 필요하다. 이것은 로직 계산을 수행하기위해 메써드를 호출하는 것을 의미한다. 완전한 클래스는 Listing 8에서 나타난다."
   ]
  },
  {
   "cell_type": "markdown",
   "metadata": {},
   "source": [
    "### Listing 8"
   ]
  },
  {
   "cell_type": "code",
   "execution_count": 4,
   "metadata": {},
   "outputs": [],
   "source": [
    "class LogicGate:\n",
    "\n",
    "    def __init__(self,n):\n",
    "        self.label = n\n",
    "        self.output = None\n",
    "\n",
    "    def getLabel(self):\n",
    "        return self.label\n",
    "\n",
    "    def getOutput(self):\n",
    "        self.output = self.performGateLogic()\n",
    "        return self.output"
   ]
  },
  {
   "cell_type": "markdown",
   "metadata": {},
   "source": [
    "At this point, we will not implement the performGateLogic function. The reason for this is that we do not know how each gate will perform its own logic operation. Those details will be included by each individual gate that is added to the hierarchy. This is a very powerful idea in object-oriented programming. We are writing a method that will use code that does not exist yet. The parameter self is a reference to the actual gate object invoking the method. \n",
    "\n",
    "여기서, 우리는 performGateLogic 함수를 구현하진 않을 것이다. 이것은 우리가 각 게이트가 자신의 로직 연산을 어떻게 수행할 것인지 모르기 때문이다. 이러한 세부사항은 계층에 더해진 각각의 개별적인 게이트에 포함될 것이다. 이것은 객체지향 프로그래밍에서 가장 강력한 아이디어이다. 우리는 아직 존재하지 않는 코드를 사용할 메써드를 작성한다. 파라미터 self는 메써드를 일으키는 실제 게이트 객체에 대한 참조이다. \n",
    "\n",
    "Any new logic gate that gets added to the hierarchy will simply need to implement the performGateLogic function and it will be used at the appropriate time. Once done, the gate can provide its output value. This ability to extend a hierarchy that currently exists and provide the specific functions that the hierarchy needs to use the new class is extremely important for reusing existing code.\n",
    "\n",
    "계층에 추가된 새로운 로직 게이트는 단순히 performGateLogic을 구현할 필요가 있을 것이며, 이것은 적절한 때에 사용될 것이다. 완료되면, 게이트는 그것의 출력값을 제공할 수 있다. 현재 존재하는 계층을 확대하고 계층이 새로운 클래스를 사용하는 데 필요한 구체적인 함수를 제공하는 이 기능은 기존 코드를 재사용하는 데 잇어 매우 중요하다.\n",
    "\n",
    "We categorized the logic gates based on the number of input lines. The AND gate has two input lines. The OR gate also has two input lines. NOT gates have one input line. The BinaryGate class will be a subclass of LogicGate and will add two input lines. The UnaryGate class will also subclass LogicGate but will have only a single input line. In computer circuit design, these lines are sometimes called “pins” so we will use that terminology in our implementation.\n",
    "\n",
    "우리는 입력 라인의 수에 기반하여 논리 게이트를 분류했다. AND게이트는 두 개의 입력라인을 가진다. OR게이트 또한 두 개의 입력라인을 가진다. NOT게이트는 하나의 입력라인을 가진다. BinaryGate 클래스는 LogicGate의 subclass가 될 것이고, 두개의 입력 라인을 더할 것이다. UnarayGate클래스는 또한 subclass LogicGate를 가지지만 단일 입력라인만 가질 것이다. 컴퓨터 회로 설계에서, 이러한 라인들은 때로 'pins' 라고 불리고, 우리는 그 용어를 우리의 구현에 사용할 것이다."
   ]
  },
  {
   "cell_type": "markdown",
   "metadata": {},
   "source": [
    "### Listing 9"
   ]
  },
  {
   "cell_type": "code",
   "execution_count": 24,
   "metadata": {},
   "outputs": [],
   "source": [
    "class BinaryGate(LogicGate):\n",
    "\n",
    "    def __init__(self,n):\n",
    "        LogicGate.__init__(self,n)\n",
    "\n",
    "        self.pinA = None\n",
    "        self.pinB = None\n",
    "\n",
    "    def getPinA(self):\n",
    "        return int(input(\"Enter Pin A input for gate \"+ self.getLabel()+\"-->\"))\n",
    "\n",
    "    def getPinB(self):\n",
    "        return int(input(\"Enter Pin B input for gate \"+ self.getLabel()+\"-->\"))\n",
    "    \n",
    "    def setNextPin(self,source):\n",
    "        if self.pinA == None:\n",
    "            self.pinA = source\n",
    "        else:\n",
    "            if self.pinB == None:\n",
    "                self.pinB = source\n",
    "            else:\n",
    "               raise RuntimeError(\"Error: NO EMPTY PINS\")"
   ]
  },
  {
   "cell_type": "markdown",
   "metadata": {},
   "source": [
    "### Listing 10"
   ]
  },
  {
   "cell_type": "code",
   "execution_count": 25,
   "metadata": {},
   "outputs": [],
   "source": [
    "class UnaryGate(LogicGate):\n",
    "\n",
    "    def __init__(self,n):\n",
    "        LogicGate.__init__(self,n)\n",
    "\n",
    "        self.pin = None\n",
    "\n",
    "    def getPin(self):\n",
    "        return int(input(\"Enter Pin input for gate \"+ self.getLabel()+\"-->\"))"
   ]
  },
  {
   "cell_type": "markdown",
   "metadata": {},
   "source": [
    "Listing 9 and Listing 10 implement these two classes. The constructors in both of these classes start with an explicit call to the constructor of the parent class using the parent’s __init__ method. When creating an instance of the BinaryGate class, we first want to initialize any data items that are inherited from LogicGate. In this case, that means the label for the gate. \n",
    "\n",
    "Listing 9와 10은 이 두 클래스를 구현한다. 이 두 클래스의 생성자는 부모의 __init__ 메써드를 사용하여 상위 클래스의 생성자의 명시적은 호출로 시작한다. BinaryGate 클래스의 인스턴스를 만들 때, 우리는 먼저 LogicGate로 부터 상속 받은 어떤 데이터 항목이라도 초기화하길 원한다. 이 경우, 그것은 게이트의 라벨을 의미한다. \n",
    "\n",
    "The constructor then goes on to add the two input lines (pinA and pinB). This is a very common pattern that you should always use when building class hierarchies. Child class constructors need to call parent class constructors and then move on to their own distinguishing data.\n",
    "\n",
    "생성자는 그러고 두개의 입력 라인 (pinA와 pinB)를 더한다. 이것은 너가 클래스 계층을 설계할 때 항상 사용해야하는 매우 평범한 패턴이다. Child 클래스 생성자는 부모 클래스 생성자를 호출한 다음 자신의 구별 데이터로 이동할 필요가 있다.\n",
    "\n",
    "Python also has a function called super which can be used in place of explicitly naming the parent class. This is a more general mechanism, and is widely used, especially when a class has more than one parent. But, this is not something we are going to discuss in this introduction. For example in our example above LogicGate.__init__(self,n) could be replaced with super(UnaryGate,self).__init__(n).\n",
    "\n",
    "파이썬은 또한 부모클래스를 명시적으로 명명하는 대신 사용될 수 있는 super라고 불리는 함수를 가진다. 이것은 보다 일반적인 매커니즘이며, 특히 한 클래스에 여러 부모가 있을 때 널리 사용된다. 하지만, 이것은 우리가 이 서론에서 논의할 것이 아니다. 예를 들어, 위의 LogicGate 예제에서 __init__(self.n)은 (UnaryGate.self).__init__(n) 으로 대체될 수 있다.\n",
    "\n",
    "The only behavior that the BinaryGate class adds is the ability to get the values from the two input lines. Since these values come from some external place, we will simply ask the user via an input statement to provide them. The same implementation occurs for the UnaryGate class except that there is only one input line.\n",
    "\n",
    "BinaryGate 클래스가 추가하는 유일한 동작은 두 입력 라인에서 값을 얻을 수 있는 능력이다. 이 값들은 외부적인 곳에서 나온 것이기 때문에 우리는 입력문을 통해 사용자에게 그것들을 제공하도록 요청할 것이다. UnaryGate 클래스에 대해 동일한 구현이 발생하지만 입력 라인이 하나만 있다.\n",
    "\n",
    "Now that we have a general class for gates depending on the number of input lines, we can build specific gates that have unique behavior. For example, the AndGate class will be a subclass of BinaryGate since AND gates have two input lines. As before, the first line of the constructor calls upon the parent class constructor (BinaryGate), which in turn calls its parent class constructor (LogicGate). Note that the AndGate class does not provide any new data since it inherits two input lines, one output line, and a label.\n",
    "\n",
    "이제 우리는 입력 라인의 수에 따라 게이트에 대한 일반적인 클래스를 가졌으므로 우리는 고유한 동작을 갖는 특정 게이트를 설계할 수 있다. 예를 들어, AND 게이트에는 두 개의 입력 라인이 있기 때문에 AndGate 클래스는 BinaryGate의 sub클래스가 된다. 이전과 마찬가지로 생성자의 첫 번째 줄은 부모 클래스 생성자 (BinaryGate) 를 호출하며, 이 생성자는 부모 클래스 생성자 (LogicGate) 라고 부른다. AndGate 클래스는 두 개의 입력 라인과 하나의 출력 라인, 그리고 라벨을 상속 받기 때문에 새로운 데이터를 제공하지 않는다는 것에 유의해라."
   ]
  },
  {
   "cell_type": "markdown",
   "metadata": {},
   "source": [
    "### Listing 11"
   ]
  },
  {
   "cell_type": "code",
   "execution_count": 26,
   "metadata": {},
   "outputs": [],
   "source": [
    "class AndGate(BinaryGate):\n",
    "\n",
    "    def __init__(self,n):\n",
    "        BinaryGate.__init__(self,n)\n",
    "\n",
    "    def performGateLogic(self):\n",
    "\n",
    "        a = self.getPinA()\n",
    "        b = self.getPinB()\n",
    "        if a==1 and b==1:\n",
    "            return 1\n",
    "        else:\n",
    "            return 0\n",
    "        \n",
    "class OrGate(BinaryGate):\n",
    "\n",
    "    def __init__(self,n):\n",
    "        BinaryGate.__init__(self,n)\n",
    "\n",
    "    def performGateLogic(self):\n",
    "\n",
    "        a = self.getPinA()\n",
    "        b = self.getPinB()\n",
    "        if a==0 and b==0:\n",
    "            return 0\n",
    "        else:\n",
    "            return 1\n",
    "\n",
    "class NotGate(UnaryGate):\n",
    "\n",
    "    def __init__(self,n):\n",
    "        UnaryGate.__init__(self,n)\n",
    "\n",
    "    def performGateLogic(self):\n",
    "\n",
    "        a = self.getPin()\n",
    "        return not a"
   ]
  },
  {
   "cell_type": "markdown",
   "metadata": {},
   "source": [
    "The only thing AndGate needs to add is the specific behavior that performs the boolean operation that was described earlier. This is the place where we can provide the performGateLogic method. For an AND gate, this method first must get the two input values and then only return 1 if both input values are 1. The complete class is shown in Listing 11.\n",
    "\n",
    "AndGate가 추가할 필요가 있는 유일한 것은 이전에 설명했던 부울 연산을 수행하는 특정한 동작이다. 이것은 우리가 performGateLogic 메써드를 제공할 수 있는 곳에 위치한다. AND 게이트에 있어, 이 메써드는 먼저 두개의 입력값을 얻어야 하고, 두 입력값이 모두 1일 경우에만 1일 반환한다. 완전한 클래스는 Listing 11에 나타나 있다.\n",
    "\n",
    "We can show the AndGate class in action by creating an instance and asking it to compute its output. The following session shows an AndGate object, g1, that has an internal label \"G1\". When we invoke the getOutput method, the object must first call its performGateLogic method which in turn queries the two input lines. Once the values are provided, the correct output is shown.\n",
    "\n",
    "우리는 인스턴스를 작성하고 출력을 계산하도록 요청함으로써 AndGate 클래스를 실행할 수 있다. 다음 세션에서는 내부 라벨인 \"G1\"이 있는 AndGate 객체인 g1을 보여준다. 우리가 getOutput 메써드를 호출하면 객체가 먼저 두 개의 입력 라인을 질의하는(?) performingGateLogic 메소드를 호출해야만 한다. 값이 제공되면 올바른 출력이 표시된다.\n"
   ]
  },
  {
   "cell_type": "code",
   "execution_count": null,
   "metadata": {},
   "outputs": [],
   "source": [
    "g1 = AndGate(\"G1\")\n",
    "g1.getOutput()"
   ]
  },
  {
   "cell_type": "markdown",
   "metadata": {},
   "source": [
    "The same development can be done for OR gates and NOT gates. The OrGate class will also be a subclass of BinaryGate and the NotGate class will extend the UnaryGate class. Both of these classes will need to provide their own performGateLogic functions, as this is their specific behavior.\n",
    "\n",
    "OR 게이트와 NOT 게이트에 대해서도 동일한 개발을 수행할 수 있다. OrGate 클래스도 BinaryGate의 subclass가 될 것이고 NotGate 클래스는 UnaryGate 클래스를 확장할 것이다. 이 두 클래스는 이것이 그들의 특정한 행동이기 때문에 모두 자신의 performGateLogic 함수를 제공해야 한다.\n",
    "\n",
    "We can use a single gate by first constructing an instance of one of the gate classes and then asking the gate for its output (which will in turn need inputs to be provided). For example:\n",
    "\n",
    "우리는 게이트 클래스 중 하나의 인스턴스를 구조화 한 후 그것의 결과를 다음 게이트에 요청함으로써 단일의 게이트를 이용할 수 있다. (다음에는 입력이 필요로 될 것이다)"
   ]
  },
  {
   "cell_type": "code",
   "execution_count": null,
   "metadata": {},
   "outputs": [],
   "source": [
    "g2 = OrGate(\"G2\")\n",
    "g2.getOutput()\n",
    "g2.getOutput()\n",
    "g3 = NotGate(\"G3\")\n",
    "g3.getOutput()"
   ]
  },
  {
   "cell_type": "markdown",
   "metadata": {},
   "source": [
    "Now that we have the basic gates working, we can turn our attention to building circuits. In order to create a circuit, we need to connect gates together, the output of one flowing into the input of another. To do this, we will implement a new class called Connector.\n",
    "\n",
    "이제 기본 게이트가 동작하므로, 우리는 회로를 만드는 것에 주의를 돌릴 수 있다. 회로를 만들기 위해서는 게이트를 서로 연결해야 한다, 하나의 출력이 다른 것의 입력으로 들어간다. 이를 위해 Connector라는 새로운 클래스를 구현할 것이다.\n",
    "\n",
    "The Connector class will not reside in the gate hierarchy. It will, however, use the gate hierarchy in that each connector will have two gates, one on either end (see Figure 12). This relationship is very important in object-oriented programming. It is called the HAS-A Relationship. Recall earlier that we used the phrase “IS-A Relationship” to say that a child class is related to a parent class, for example UnaryGate IS-A LogicGate.\n",
    "\n",
    "Connector 클래스는 게이트 계층에 존재하지 않는다. 그러나 각 연결자는 양쪽 끝에 하나씩 두 개의 게이트가 있다는 점에서 게이트 계층 구조를 사용한다 (Figure 12). 이 관계는 객체 지향 프로그래밍에서 매우 중요하다. 그것은 HAS-A 관계라고 불린다. 이전에 우리는 자식 클래스와 부모 클래스가 관련이 있음을 말하기 위해 \"IS-A 관계\"라는 문구를 사용했다는 사실을 기억하라.\n",
    "\n",
    "<img alt=\"/connector.png\" src=\"http://interactivepython.org/courselib/static/pythonds/_images/connector.png\">\n",
    "\n",
    "Now, with the Connector class, we say that a Connector HAS-A LogicGate meaning that connectors will have instances of the LogicGate class within them but are not part of the hierarchy. <span style=\"color: red;\">When designing classes, it is very important to distinguish between those that have the IS-A relationship (which requires inheritance) and those that have HAS-A relationships (with no inheritance).</span>\n",
    "\n",
    "이제 Connector 클래스로 우리는 Connector HAS-A LogicGate는 커넥터가 LogicGate 클래스의 인스턴스를 가지지만 계층의 일부가 아니라는 것을 의미한다고 말할 수 있다. 클래스를 설계할 때는 IS-A(상속을 필요로 하는) 관계가 있는 것과 HAS-A(상속이 없는) 관계가 있는 것을 구분하는 것이 매우 중요하다.\n",
    "\n",
    "Listing 12 shows the Connector class. The two gate instances within each connector object will be referred to as the fromgate and the togate, recognizing that data values will “flow” from the output of one gate into an input line of the next. The call to setNextPin is very important for making connections (see Listing 13). We need to add this method to our gate classes so that each togate can choose the proper input line for the connection.\n",
    "\n",
    "Listing 12는 Connector 클래스를 보여준다. 각 커넥터 객체 내의 두 게이트 인스턴스는 하나의 게이트 출력에서 다음 게이트의 입력 라인으로 데이터 값이 \"흐를\"것임을 인식하여 fromgate와 togate라고 불릴 것이다. setNextPin에 대한 호출은 연결을 만드는 데 매우 중요하다(Listing 13). 우리는 이 메써드를 우리의 게이트 클래스에 추가하여 각 togate가 연결에 적합한 입력 라인을 선택할 수 있도록 해야한다."
   ]
  },
  {
   "cell_type": "markdown",
   "metadata": {},
   "source": [
    "### Listing 12"
   ]
  },
  {
   "cell_type": "code",
   "execution_count": null,
   "metadata": {},
   "outputs": [],
   "source": [
    "class Connector:\n",
    "\n",
    "    def __init__(self, fgate, tgate):\n",
    "        self.fromgate = fgate\n",
    "        self.togate = tgate\n",
    "\n",
    "        tgate.setNextPin(self)\n",
    "\n",
    "    def getFrom(self):\n",
    "        return self.fromgate\n",
    "\n",
    "    def getTo(self):\n",
    "        return self.togate"
   ]
  },
  {
   "cell_type": "markdown",
   "metadata": {},
   "source": [
    "In the BinaryGate class, for gates with two possible input lines, the connector must be connected to only one line. If both of them are available, we will choose pinA by default. If pinA is already connected, then we will choose pinB. It is not possible to connect to a gate with no available input lines.\n",
    "\n",
    "Binary 클래스 내에서, 두개의 가능한 입력 줄에서 연결자는 반드시 하나의 라인과만 연결되어야 한다. 만약 그것들이 가능하다면, 우리는 pinA를 기본으로 선택할 것이다. 만약 pinA가 이미 연결되어 있다면, 우리는 pinB를 고를 것이다. 이용 가능하지 않은 입력 라인과 게이트를 연결하는 것은 가능하지 않다."
   ]
  },
  {
   "cell_type": "markdown",
   "metadata": {},
   "source": [
    "### Listing 13"
   ]
  },
  {
   "cell_type": "code",
   "execution_count": null,
   "metadata": {},
   "outputs": [],
   "source": [
    "def setNextPin(self,source):\n",
    "    if self.pinA == None:\n",
    "        self.pinA = source\n",
    "    else:\n",
    "        if self.pinB == None:\n",
    "            self.pinB = source\n",
    "        else:\n",
    "           raise RuntimeError(\"Error: NO EMPTY PINS\")"
   ]
  },
  {
   "cell_type": "markdown",
   "metadata": {},
   "source": [
    "Now it is possible to get input from two places: externally, as before, and from the output of a gate that is connected to that input line. This requires a change to the getPinA and getPinB methods (see Listing 14). If the input line is not connected to anything (None), then ask the user externally as before. However, if there is a connection, the connection is accessed and fromgate’s output value is retrieved. This in turn causes that gate to process its logic. This continues until all input is available and the final output value becomes the required input for the gate in question. In a sense, the circuit works backwards to find the input necessary to finally produce output.\n",
    "\n",
    "이제 두 곳에서 입력을 받는 것이 가능하다: 전처럼 외부에서와 입력 라인과 연결된 게이트의 결과에서. 이것은 getPinA와 getPinB 메써드의 변화가 요구된다.(Listing 14). 만약 입력 라인이 무엇과도 연결되어 있지 않다면(None), 전처럼 사용자에게 외부적으로 요청을 한다. 그러나, 만약 연결이 있다면, 연결은 접근되고, fromgate의 결과가 도출된다. 이것은 차례로 게이트로 하여금 그것의 로직을 처리할 수 있도록 한다. 이것은 모든 입력이 이용 가능하고 최종 출력 값이 문제의 게이트에 필요한 입력이 될 때까지 계속된다. 어떤 의미에서, 회로는 마침내 출력을 생성하는 데 필요한 입력을 찾기 위해 거꾸로 작동합니다."
   ]
  },
  {
   "cell_type": "markdown",
   "metadata": {},
   "source": [
    "### Listing 14"
   ]
  },
  {
   "cell_type": "code",
   "execution_count": null,
   "metadata": {},
   "outputs": [],
   "source": [
    "def getPinA(self):\n",
    "    if self.pinA == None:\n",
    "        return input(\"Enter Pin A input for gate \" + self.getName()+\"-->\")\n",
    "    else:\n",
    "        return self.pinA.getFrom().getOutput()\n",
    "        "
   ]
  },
  {
   "cell_type": "markdown",
   "metadata": {},
   "source": [
    "The following fragment constructs the circuit shown earlier in the section:\n",
    "\n",
    "다음의 부분은 이 섹션에서 보여진 회로를 구성한다."
   ]
  },
  {
   "cell_type": "code",
   "execution_count": null,
   "metadata": {},
   "outputs": [],
   "source": [
    "g1 = AndGate(\"G1\")\n",
    "g2 = AndGate(\"G2\")\n",
    "g3 = OrGate(\"G3\")\n",
    "g4 = NotGate(\"G4\")\n",
    "c1 = Connector(g1,g3)\n",
    "c2 = Connector(g2,g3)\n",
    "c3 = Connector(g3,g4)"
   ]
  },
  {
   "cell_type": "markdown",
   "metadata": {},
   "source": [
    "The outputs from the two AND gates (g1 and g2) are connected to the OR gate (g3) and that output is connected to the NOT gate (g4). The output from the NOT gate is the output of the entire circuit. For example:\n",
    "\n",
    "두개의 AND 게이트 (g1과 g2) 로부터의 결과는 OR 게이트 (G3)으로 연결되고, 그 결과는 NOT 게이트 (G4)와 연결된다. NOT 게이트의 결과는 전체 회로의 결과이다. 예를 들어 :"
   ]
  },
  {
   "cell_type": "code",
   "execution_count": null,
   "metadata": {},
   "outputs": [],
   "source": [
    "g4.getOutput()"
   ]
  },
  {
   "cell_type": "markdown",
   "metadata": {},
   "source": [
    "Try it yourself using ActiveCode 4."
   ]
  },
  {
   "cell_type": "code",
   "execution_count": null,
   "metadata": {},
   "outputs": [],
   "source": [
    "class LogicGate:\n",
    "\n",
    "    def __init__(self,n):\n",
    "        self.name = n\n",
    "        self.output = None\n",
    "\n",
    "    def getName(self):\n",
    "        return self.name\n",
    "\n",
    "    def getOutput(self):\n",
    "        self.output = self.performGateLogic()\n",
    "        return self.output\n",
    "\n",
    "\n",
    "class BinaryGate(LogicGate):\n",
    "\n",
    "    def __init__(self,n):\n",
    "        LogicGate.__init__(self,n)\n",
    "\n",
    "        self.pinA = None\n",
    "        self.pinB = None\n",
    "\n",
    "    def getPinA(self):\n",
    "        if self.pinA == None:\n",
    "            return int(input(\"Enter Pin A input for gate \"+self.getName()+\"-->\"))\n",
    "        else:\n",
    "            return self.pinA.getFrom().getOutput()\n",
    "\n",
    "    def getPinB(self):\n",
    "        if self.pinB == None:\n",
    "            return int(input(\"Enter Pin B input for gate \"+self.getName()+\"-->\"))\n",
    "        else:\n",
    "            return self.pinB.getFrom().getOutput()\n",
    "\n",
    "    def setNextPin(self,source):\n",
    "        if self.pinA == None:\n",
    "            self.pinA = source\n",
    "        else:\n",
    "            if self.pinB == None:\n",
    "                self.pinB = source\n",
    "            else:\n",
    "                print(\"Cannot Connect: NO EMPTY PINS on this gate\")\n",
    "\n",
    "\n",
    "class AndGate(BinaryGate):\n",
    "\n",
    "    def __init__(self,n):\n",
    "        BinaryGate.__init__(self,n)\n",
    "\n",
    "    def performGateLogic(self):\n",
    "\n",
    "        a = self.getPinA()\n",
    "        b = self.getPinB()\n",
    "        if a==1 and b==1:\n",
    "            return 1\n",
    "        else:\n",
    "            return 0\n",
    "\n",
    "class OrGate(BinaryGate):\n",
    "\n",
    "    def __init__(self,n):\n",
    "        BinaryGate.__init__(self,n)\n",
    "\n",
    "    def performGateLogic(self):\n",
    "\n",
    "        a = self.getPinA()\n",
    "        b = self.getPinB()\n",
    "        if a ==1 or b==1:\n",
    "            return 1\n",
    "        else:\n",
    "            return 0\n",
    "\n",
    "class UnaryGate(LogicGate):\n",
    "\n",
    "    def __init__(self,n):\n",
    "        LogicGate.__init__(self,n)\n",
    "\n",
    "        self.pin = None\n",
    "\n",
    "    def getPin(self):\n",
    "        if self.pin == None:\n",
    "            return int(input(\"Enter Pin input for gate \"+self.getName()+\"-->\"))\n",
    "        else:\n",
    "            return self.pin.getFrom().getOutput()\n",
    "\n",
    "    def setNextPin(self,source):\n",
    "        if self.pin == None:\n",
    "            self.pin = source\n",
    "        else:\n",
    "            print(\"Cannot Connect: NO EMPTY PINS on this gate\")\n",
    "\n",
    "\n",
    "class NotGate(UnaryGate):\n",
    "\n",
    "    def __init__(self,n):\n",
    "        UnaryGate.__init__(self,n)\n",
    "\n",
    "    def performGateLogic(self):\n",
    "        if self.getPin():\n",
    "            return 0\n",
    "        else:\n",
    "            return 1\n",
    "\n",
    "\n",
    "class Connector:\n",
    "\n",
    "    def __init__(self, fgate, tgate):\n",
    "        self.fromgate = fgate\n",
    "        self.togate = tgate\n",
    "\n",
    "        tgate.setNextPin(self)\n",
    "\n",
    "    def getFrom(self):\n",
    "        return self.fromgate\n",
    "\n",
    "    def getTo(self):\n",
    "        return self.togate\n",
    "\n",
    "\n",
    "def main():\n",
    "   g1 = AndGate(\"G1\")\n",
    "   g2 = AndGate(\"G2\")\n",
    "   g3 = OrGate(\"G3\")\n",
    "   g4 = NotGate(\"G4\")\n",
    "   c1 = Connector(g1,g3)\n",
    "   c2 = Connector(g2,g3)\n",
    "   c3 = Connector(g3,g4)\n",
    "   print(g4.getOutput())\n",
    "\n",
    "main()"
   ]
  },
  {
   "cell_type": "markdown",
   "metadata": {},
   "source": [
    "### Self Check\n",
    "\n",
    "Create a two new gate classes, one called NorGate the other called NandGate. NandGates work like AndGates that have a Not attached to the output. NorGates work lake OrGates that have a Not attached to the output.\n",
    "\n",
    "Create a series of gates that prove the following equality NOT (( A and B) or (C and D)) is that same as NOT( A and B ) and NOT (C and D). Make sure to use some of your new gates in the simulation."
   ]
  },
  {
   "cell_type": "code",
   "execution_count": null,
   "metadata": {},
   "outputs": [],
   "source": [
    "class NorGate(BinaryGate):\n",
    "\n",
    "    def __init__(self,n):\n",
    "        BinaryGate.__init__(self,n)\n",
    "\n",
    "    def performGateLogic(self):\n",
    "\n",
    "        a = self.getPinA()\n",
    "        b = self.getPinB()\n",
    "        if a==1 or b==1:\n",
    "            return 0\n",
    "        else:\n",
    "            return 1\n",
    "\n",
    "class NandGate(BinaryGate):\n",
    "\n",
    "    def __init__(self,n):\n",
    "        BinaryGate.__init__(self,n)\n",
    "\n",
    "    def performGateLogic(self):\n",
    "\n",
    "        a = self.getPinA()\n",
    "        b = self.getPinB()\n",
    "        if a ==1 and b==1:\n",
    "            return 0\n",
    "        else:\n",
    "            return 1\n",
    "\n",
    "class NewGate(BinaryGate):\n",
    "    return 1"
   ]
  }
 ],
 "metadata": {
  "kernelspec": {
   "display_name": "Python 3",
   "language": "python",
   "name": "python3"
  },
  "language_info": {
   "codemirror_mode": {
    "name": "ipython",
    "version": 3
   },
   "file_extension": ".py",
   "mimetype": "text/x-python",
   "name": "python",
   "nbconvert_exporter": "python",
   "pygments_lexer": "ipython3",
   "version": "3.7.3"
  }
 },
 "nbformat": 4,
 "nbformat_minor": 2
}
