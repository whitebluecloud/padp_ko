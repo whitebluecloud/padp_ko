{
 "cells": [
  {
   "cell_type": "markdown",
   "metadata": {},
   "source": [
    "# 1.10. Control Structures"
   ]
  },
  {
   "cell_type": "markdown",
   "metadata": {},
   "source": [
    "As we noted earlier, algorithms require two important control structures: \n",
    "\n",
    "위에서 언급했듯이, 알고리즘은 두가지 중요한 제어문을 요구한다.\n",
    "\n",
    "iteration and selection. Both of these are supported by Python in various forms. \n",
    "\n",
    "반복문과 선택문이다. 두가지는  파이썬에서 다양한 형태로 지원된다.\n",
    "\n",
    "The programmer can choose the statement that is most useful for the given circumstance.\n",
    "\n",
    "프로그래머는 주어진 상황에서 가장 유용한 것을 선택할 수 있다.\n",
    "\n",
    "For iteration, Python provides a standard while statement and a very powerful for statement. \n",
    "\n",
    "반복문에 있어서, 파이썬은 대표적으로 while문과 매우 강력한 for문을 제공한다.\n",
    "\n",
    "The while statement repeats a body of code as long as a condition is true. For example,\n",
    "\n",
    "while문은 조건이 true인 동안 코드문을 실행한다. 예를 들어,"
   ]
  },
  {
   "cell_type": "code",
   "execution_count": 25,
   "metadata": {},
   "outputs": [
    {
     "name": "stdout",
     "output_type": "stream",
     "text": [
      "Hello, world\n",
      "Hello, world\n",
      "Hello, world\n",
      "Hello, world\n",
      "Hello, world\n"
     ]
    }
   ],
   "source": [
    "counter = 1\n",
    "while counter <= 5:\n",
    "    print(\"Hello, world\")\n",
    "    counter = counter + 1"
   ]
  },
  {
   "cell_type": "markdown",
   "metadata": {},
   "source": [
    "prints out the phrase “Hello, world” five times. \n",
    "\n",
    "Hello, world를 다섯 번 반복 출력한다.\n",
    "\n",
    "The condition on the while statement is evaluated at the start of each repetition. \n",
    "\n",
    "while문의 조건은 각 반복의 처음에서 판단된다.\n",
    "\n",
    "If the condition is True, the body of the statement will execute. \n",
    "\n",
    "만약 조건이 참이라면, 코드는 실행될 것이다.\n",
    "\n",
    "It is easy to see the structure of a Python while statement due to the mandatory indentation pattern that the language enforces.\n",
    "\n",
    "언어가 강여하는 강제적인 들여쓰기 패턴으로 인해 파이썬의 while문의 구조를 보는 것은 쉽다.\n",
    "\n",
    "The while statement is a very general purpose iterative structure that we will use in a number of different algorithms. \n",
    "while문은 수많은 다른 알고리즘안에서 우리가 사용할 수 있는 반복되는 구조의 매우 일반적인 목적이다.\n",
    "\n",
    "In many cases, a compound condition will control the iteration. A fragment such as\n",
    "\n",
    "많은 상황에서, 복합적인 조건은 반복을 제어할 것이다. 다음과 같은 부분에서"
   ]
  },
  {
   "cell_type": "code",
   "execution_count": 26,
   "metadata": {},
   "outputs": [
    {
     "name": "stdout",
     "output_type": "stream",
     "text": [
      "Learning Python\n",
      "Learning Python\n",
      "Learning Python\n",
      "Learning Python\n",
      "Learning Python\n",
      "Learning Python\n"
     ]
    }
   ],
   "source": [
    "count = 0\n",
    "done = False\n",
    "while counter <= 10 and not done:\n",
    "    print(\"Learning Python\")\n",
    "    count += 1\n",
    "    if(count > 5):\n",
    "        done = True"
   ]
  },
  {
   "cell_type": "markdown",
   "metadata": {},
   "source": [
    "would cause the body of the statement to be executed only in the case where both parts of the condition are satisfied. \n",
    "\n",
    "두 가지 조건이 만족될 경우에만 구문의 몸체를 실행하도록 할 것이다.\n",
    "\n",
    "The value of the variable counter would need to be less than or equal to 10 and the value of the variable done would need to be False (not False is True) so that True and True results in True.\n",
    "\n",
    "counter 변수의 값은 10이하여야 하고, done 변수는 False 여야만 True, True로 True의 결과가 된다.\n",
    "\n",
    "Even though this type of construct is very useful in a wide variety of situations, another iterative structure, the for statement, can be used in conjunction with many of the Python collections. \n",
    "\n",
    "이 유형의 구조가 다양한 상황에서 매우 유용하다고 할지라도, 다른 반복 구조인 for문은 많은 파이썬의 집합와 함께 사용될 수 있다.\n",
    "\n",
    "The for statement can be used to iterate over the members of a collection, so long as the collection is a sequence. So, for example,\n",
    "\n",
    "for문은 집합이 연속적일 때 집합의 요소들을 반복하는 데 사용될 수 있다. 예를 들어,"
   ]
  },
  {
   "cell_type": "code",
   "execution_count": 27,
   "metadata": {},
   "outputs": [
    {
     "name": "stdout",
     "output_type": "stream",
     "text": [
      "1\n",
      "3\n",
      "6\n",
      "2\n",
      "5\n"
     ]
    }
   ],
   "source": [
    "for item in [1,3,6,2,5]:\n",
    "    print(item)"
   ]
  },
  {
   "cell_type": "markdown",
   "metadata": {},
   "source": [
    "assigns the variable item to be each successive value in the list [1,3,6,2,5]. \n",
    "\n",
    "item 변수에 리스트[1,3,6,2,5] 내의 연속적인 값을 각각 할당한다.\n",
    "\n",
    "The body of the iteration is then executed. \n",
    "\n",
    "반복문은 실행될 것이다.\n",
    "\n",
    "This works for any collection that is a sequence (lists, tuples, and strings).\n",
    "\n",
    "이것은 연속적인 어떤 집합에서도 실행된다 (리스트, 튜플, 스트링에서)\n",
    "\n",
    "A common use of the for statement is to implement definite iteration over a range of values. \n",
    "\n",
    "일반적인 for문의 사용은 값들의 범위 내에서 확실한 반복을 실행한다.\n",
    "\n",
    "The statement\n",
    "\n",
    "아래의 구문은"
   ]
  },
  {
   "cell_type": "code",
   "execution_count": 28,
   "metadata": {},
   "outputs": [
    {
     "name": "stdout",
     "output_type": "stream",
     "text": [
      "0\n",
      "1\n",
      "4\n",
      "9\n",
      "16\n"
     ]
    }
   ],
   "source": [
    "for item in range(5):\n",
    "    print(item**2)"
   ]
  },
  {
   "cell_type": "markdown",
   "metadata": {},
   "source": [
    "will perform the print function five times.\n",
    "\n",
    "print 함수를 5번 수행할 것이다. \n",
    "\n",
    "The range function will return a range object representing the sequence 0,1,2,3,4 and each value will be assigned to the variable item. \n",
    "\n",
    "range 함수는 0,1,2,3,4의 연속을 표현하는 range 객체와 item에 할당된 각각의 값을 리턴할 것이다.\n",
    "\n",
    "This value is then squared and printed.\n",
    "\n",
    "그리고는 이 값은 제곱되고 출력될 것이다.\n",
    "\n",
    "The other very useful version of this iteration structure is used to process each character of a string. \n",
    "\n",
    "다른 매우 유용한 반복문의 버전은 스트링의 각각의 문자를 처리하는 데 사용되는 것이다.\n",
    "\n",
    "The following code fragment iterates over a list of strings and for each string processes each character by appending it to a list. \n",
    "\n",
    "다음의 코드 조각은 문자의 리스트를 반복하고, 각 스트링은 각 문자를 리스트에 조합함으로써 문자를 처리한다.\n",
    "\n",
    "The result is a list of all the letters in all of the words.\n",
    "\n",
    "그 결과는 모든 단어의 모든 글자들의 리스트이다."
   ]
  },
  {
   "cell_type": "code",
   "execution_count": 29,
   "metadata": {},
   "outputs": [
    {
     "name": "stdout",
     "output_type": "stream",
     "text": [
      "['c', 'a', 't', 'd', 'o', 'g', 'r', 'a', 'b', 'b', 'i', 't']\n"
     ]
    }
   ],
   "source": [
    "wordlist = ['cat','dog','rabbit']\n",
    "letterlist = [ ]\n",
    "for aword in wordlist:\n",
    "    for aletter in aword:\n",
    "        letterlist.append(aletter)\n",
    "print(letterlist)"
   ]
  },
  {
   "cell_type": "markdown",
   "metadata": {},
   "source": [
    "Selection statements allow programmers to ask questions and then, based on the result, perform different actions.\n",
    "\n",
    "선택문은 프로그래머에게 질문을 하고, 그 결과에 기반하여 다른 액션을 수행할 수 있게 한다.\n",
    "\n",
    "Most programming languages provide two versions of this useful construct: \n",
    "\n",
    "많은 프로그래밍 언어는 이 유용한 구조의 두가지 버전을 제공한다.\n",
    "\n",
    "the ifelse and theif. A simple example of a binary selection uses the ifelse statement.\n",
    "\n",
    "ifelse와 if. 두가지 선택의 간단한 예는 이 ifelse문을 사용하는 것이다."
   ]
  },
  {
   "cell_type": "code",
   "execution_count": null,
   "metadata": {},
   "outputs": [],
   "source": [
    "n = int(input(\"enter value : \"))\n",
    "if n<0:\n",
    "   print(\"Sorry, value is negative\")\n",
    "else:\n",
    "   print(math.sqrt(n))"
   ]
  },
  {
   "cell_type": "markdown",
   "metadata": {},
   "source": [
    "In this example, the object referred to by n is checked to see if it is less than zero. \n",
    "\n",
    "이 예시에서, n에 의해 참조된 객체는 이것이 0보다 작은가를 확인한다.\n",
    "\n",
    "If it is, a message is printed stating that it is negative. \n",
    "\n",
    "0보다 작다면, 이것이 음수라는 것을 말하는 메세지를 출력한다.\n",
    "\n",
    "If it is not, the statement performs the else clause and computes the square root.\n",
    "\n",
    "아니라면, 이 문장은 else 문을 실행하고 제곱근을 계산한다.\n",
    "\n",
    "Selection constructs, as with any control construct, can be nested so that the result of one question helps decide whether to ask the next. \n",
    "\n",
    "다른 제어문들이 그렇듯이 선택문에서도 어떤 질문의 결과값이 다음에 어떤 질문을 할 것일지를 결정하는 것을 도울 수 있도록 중첩될 수 있다. \n",
    "\n",
    "For example, assume that score is a variable holding a reference to a score for a computer science test.\n",
    "\n",
    "예를들어, score이 컴퓨터 과학 시험의 점수에 대한 참조를 가지고 있는 변수라고 가정해봐라."
   ]
  },
  {
   "cell_type": "code",
   "execution_count": null,
   "metadata": {},
   "outputs": [],
   "source": [
    "score = int(input(\"score : \"))\n",
    "if score >= 90:\n",
    "   print('A')\n",
    "else:\n",
    "   if score >=80:\n",
    "      print('B')\n",
    "   else:\n",
    "      if score >= 70:\n",
    "         print('C')\n",
    "      else:\n",
    "         if score >= 60:\n",
    "            print('D')\n",
    "         else:\n",
    "            print('F')"
   ]
  },
  {
   "cell_type": "markdown",
   "metadata": {},
   "source": [
    "This fragment will classify a value called score by printing the letter grade earned. \n",
    "\n",
    "이 구문은 등급을 출력함으로써 score이라고 불리는 값을 분류할 것이다.\n",
    "\n",
    "If the score is greater than or equal to 90, the statement will print A.\n",
    "\n",
    "만약 점수가 90 이상이라면 A를 출력할 것이다.\n",
    "\n",
    "If it is not (else), the next question is asked. \n",
    "\n",
    "만약 그렇지 않다면 다음 질의 나갈 것이다.\n",
    "\n",
    "If the score is greater than or equal to 80 then it must be between 80 and 89 since the answer to the first question was false. \n",
    "\n",
    "점수가 80이상이라면, 첫 질문이 false였기 때문에 이것은 반드시 80과 89 사이이다.\n",
    "\n",
    "In this case print B is printed. \n",
    "\n",
    "이 상황에서 B가 출력된다.\n",
    "\n",
    "You can see that the Python indentation pattern helps to make sense of the association between if and else without requiring any additional syntactic elements.\n",
    "\n",
    "너는 추가적인 구성 요소를 필요로 하지 않고 if와 else 사이의 관계의 이해를 도울 수 있는 파이썬의 들여쓰기 패턴을 볼 수 있다.\n",
    "\n",
    "An alternative syntax for this type of nested selection uses the elif keyword. \n",
    "\n",
    "중첩된 선택문의 대체적인 유형의 구문은 elif 키워드이다. \n",
    "\n",
    "The else and the next ifare combined so as to eliminate the need for additional nesting levels.\n",
    "\n",
    "else와 if가 결합되어 부가적인 중첩 레벨의 필요를 제거할 수 있다.\n",
    "\n",
    "Note that the final else is still necessary to provide the default case if all other conditions fail.\n",
    "\n",
    "다른 조건에서 실패했을 경우를 대비하여 default 케이스를 제공하기 위해 else는 여전히 필요하다는 것을 유의해라. "
   ]
  },
  {
   "cell_type": "code",
   "execution_count": null,
   "metadata": {},
   "outputs": [],
   "source": [
    "score = int(input('score : '))\n",
    "if score >= 90:\n",
    "   print('A')\n",
    "elif score >=80:\n",
    "   print('B')\n",
    "elif score >= 70:\n",
    "   print('C')\n",
    "elif score >= 60:\n",
    "   print('D')\n",
    "else:\n",
    "   print('F')"
   ]
  },
  {
   "cell_type": "markdown",
   "metadata": {},
   "source": [
    "Python also has a single way selection construct, the if statement. \n",
    "\n",
    "파이썬은 또한 if문이라는 선택문의 유일한 방법을 가지고 있다.\n",
    "\n",
    "With this statement, if the condition is true, an action is performed. \n",
    "\n",
    "이 구문에서, 만약 조건이 참이라면 액션이 실행된다.\n",
    "\n",
    "In the case where the condition is false, processing simply continues on to the next statement after the if. \n",
    "\n",
    "조건이 false인 경우에는 단순히 if절 다음의 구문을 계속 진행하게 된다.\n",
    "\n",
    "For example, the following fragment will first check to see if the value of a variable n is negative. \n",
    "\n",
    "예를 들어, 다음 부분에서 처음 n 변수의 값이 음수인지 확인한다.\n",
    "\n",
    "If it is, then it is modified by the absolute value function. \n",
    "\n",
    "음수라면, 이것은 절대값 함수에 의해 수정될 것이다.\n",
    "\n",
    "Regardless, the next action is to compute the square root.\n",
    "\n",
    "이것과 관계없이, 다음 액션은 제곱근을 수행하는 것이다."
   ]
  },
  {
   "cell_type": "code",
   "execution_count": 16,
   "metadata": {},
   "outputs": [
    {
     "name": "stdout",
     "output_type": "stream",
     "text": [
      "enter n : -50\n",
      "7.0710678118654755\n"
     ]
    }
   ],
   "source": [
    "import math\n",
    "n = int(input(\"enter n : \"))\n",
    "if n<0:\n",
    "   n = abs(n)\n",
    "print(math.sqrt(n))"
   ]
  },
  {
   "cell_type": "code",
   "execution_count": 17,
   "metadata": {},
   "outputs": [
    {
     "name": "stdout",
     "output_type": "stream",
     "text": [
      "['c', 'a', 't', 'd', 'o', 'g', 'r', 'b', 'i']\n"
     ]
    }
   ],
   "source": [
    "wordlist = ['cat','dog','rabbit']\n",
    "letterlist = [ ]\n",
    "for aword in wordlist:\n",
    "    for aletter in aword:\n",
    "        if(aletter not in letterlist):\n",
    "            letterlist.append(aletter)\n",
    "print(letterlist)\n"
   ]
  },
  {
   "cell_type": "markdown",
   "metadata": {},
   "source": [
    "Returning to lists, there is an alternative method for creating a list that uses iteration and selection constructs known as a list comprehension. \n",
    "\n",
    "리스트로 돌아와서, 리스트 이해(?)라고 불리는 반복문과 조건문을 사용하여 리스트를 만드는 대안이 있다.\n",
    "\n",
    "A list comprehension allows you to easily create a list based on some processing or selection criteria. \n",
    "\n",
    "리스트 이해는 몇가지 처리 과정이나 선택 기준에 기초하여 너가 쉽게 리스트를 만들 수 있게 해준다.\n",
    "\n",
    "For example, if we would like to create a list of the first 10 perfect squares, we could use a for statement:\n",
    "\n",
    "예를 들어, 만약 너가 10개의 완벽한 제곱들의 리스트를 만들고 싶다면, 너는 for문을 사용할 수 있다."
   ]
  },
  {
   "cell_type": "code",
   "execution_count": 19,
   "metadata": {},
   "outputs": [
    {
     "name": "stdout",
     "output_type": "stream",
     "text": [
      "[1, 4, 9, 16, 25, 36, 49, 64, 81, 100]\n"
     ]
    }
   ],
   "source": [
    "sqlist=[]\n",
    "for x in range(1,11):\n",
    "    sqlist.append(x*x)\n",
    "print(sqlist)"
   ]
  },
  {
   "cell_type": "markdown",
   "metadata": {},
   "source": [
    "Using a list comprehension, we can do this in one step as\n",
    "\n",
    "리스트 이해를 사용하여, 우리는 이것을 한 단계로 구현할 수 있다."
   ]
  },
  {
   "cell_type": "code",
   "execution_count": 20,
   "metadata": {},
   "outputs": [
    {
     "name": "stdout",
     "output_type": "stream",
     "text": [
      "[1, 4, 9, 16, 25, 36, 49, 64, 81, 100]\n"
     ]
    }
   ],
   "source": [
    "sqlist=[x*x for x in range(1,11)]\n",
    "print(sqlist)"
   ]
  },
  {
   "cell_type": "markdown",
   "metadata": {},
   "source": [
    "The variable x takes on the values 1 through 10 as specified by the for construct. \n",
    "\n",
    "x 변수는 for문에 의해 특정된 1에서 10까지의 값을 취한다.\n",
    "\n",
    "The value of x*x is then computed and added to the list that is being constructed. \n",
    "\n",
    "x*x의 값은 계산되어 생성중인 리스트에 추가된다.\n",
    "\n",
    "The general syntax for a list comprehension also allows a selection criteria to be added so that only certain items get added. For example,\n",
    "\n",
    "일반적인 리스트 이해의 구문은 선택 조건에 의해 추가되는 것을 가능케 하여 하나의 특정한 항목만이 추가될 수 있다. 예를 들어,"
   ]
  },
  {
   "cell_type": "code",
   "execution_count": 23,
   "metadata": {},
   "outputs": [
    {
     "name": "stdout",
     "output_type": "stream",
     "text": [
      "[1, 9, 25, 49, 81]\n"
     ]
    }
   ],
   "source": [
    "sqlist=[x*x for x in range(1,11) if x%2 != 0]\n",
    "print(sqlist)"
   ]
  },
  {
   "cell_type": "markdown",
   "metadata": {},
   "source": [
    "This list comprehension constructed a list that only contained the squares of the odd numbers in the range from 1 to 10. \n",
    "\n",
    "리스트 이해는 오직 1에서 10까지의 홀수들의 제곱 값으로만 리스트를 구성한다.\n",
    "\n",
    "Any sequence that supports iteration can be used within a list comprehension to construct a new list.\n",
    "\n",
    "반복을 지원하는 어떤 연속문도 리스트 이해가 새로운 리스트를 만들 수 있도록  사용될 수 있다."
   ]
  },
  {
   "cell_type": "code",
   "execution_count": 24,
   "metadata": {},
   "outputs": [
    {
     "name": "stdout",
     "output_type": "stream",
     "text": [
      "['C', 'M', 'P', 'R', 'H', 'N', 'S', 'N']\n"
     ]
    }
   ],
   "source": [
    "sqlist = [ch.upper() for ch in 'comprehension' if ch not in 'aeiou']\n",
    "print(sqlist)"
   ]
  },
  {
   "cell_type": "code",
   "execution_count": null,
   "metadata": {},
   "outputs": [],
   "source": []
  }
 ],
 "metadata": {
  "kernelspec": {
   "display_name": "Python 3",
   "language": "python",
   "name": "python3"
  },
  "language_info": {
   "codemirror_mode": {
    "name": "ipython",
    "version": 3
   },
   "file_extension": ".py",
   "mimetype": "text/x-python",
   "name": "python",
   "nbconvert_exporter": "python",
   "pygments_lexer": "ipython3",
   "version": "3.7.3"
  }
 },
 "nbformat": 4,
 "nbformat_minor": 2
}
