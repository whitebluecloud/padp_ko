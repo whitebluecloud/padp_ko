{
 "cells": [
  {
   "cell_type": "markdown",
   "metadata": {},
   "source": [
    "# 1.12. Defining Functions 함수의 정의\n",
    "\n",
    "\n",
    "\n",
    "The earlier example of procedural abstraction called upon a Python function called sqrt from the math module to compute the square root. In general, we can hide the details of any computation by defining a function. A function definition requires a name, a group of parameters, and a body. It may also explicitly return a value. For example, the simple function defined below returns the square of the value you pass into it.\n",
    "\n",
    "이전 절차적 추상화의 예시에서는, 수학 모듈에서 sqrt라는 파이썬 함수를 호출해 제곱근을 계산했다. 일반적으로, 우리는 어떤 계산이든 함수를 선언함으로써 세부 사항을 감출 수 있다. 함수의 정의는 이름, 매개변수 목록, 그리고 바디가 필요하다. 때로는 명확하게 값을 반환해야 할 수도 있다. 예를 들어, 아래 정의된 간단한 함수는 넘겨받은 값의 제곱근을 반환한다."
   ]
  },
  {
   "cell_type": "code",
   "execution_count": null,
   "metadata": {},
   "outputs": [],
   "source": [
    ">>> def square(n):\n",
    "...    return n**2\n",
    "...\n",
    ">>> square(3)\n",
    "9\n",
    ">>> square(square(3))\n",
    "81\n",
    ">>>"
   ]
  },
  {
   "cell_type": "markdown",
   "metadata": {},
   "source": [
    "The syntax for this function definition includes the name, square, and a parenthesized list of formal parameters. For this function, n is the only formal parameter, which suggests that square needs only one piece of data to do its work. The details, hidden “inside the box,” simply compute the result of n ** 2 and return it. We can invoke or call the square function by asking the Python environment to evaluate it, passing an actual parameter value, in this case, 3. Note that the call to square returns an integer that can in turn be passed to another invocation.\n",
    "\n",
    "이 함수 정의의 문법은 square라는 이름과 괄호 안에 들어있는 매개변수들로 이루어져 있다. 이 함수에서 n은 유일한 매개변수로, square가 작동하는 데에 단 한 개의 데이터만 필요함을 의미한다. “상자 안에” 감춰진 세부 사항들은 그저 n ** 2의 값을 계산하고 반환한다. 우리는 실제 매개변수 값을 넘기고(이 경우엔 3이다) 파이썬 환경이 그것을 계산하게 요청하여 square 함수를 호출할 수 있다. square의 호출이 또 다른 호출에 넘겨질 수 있는 정수를 반환함에 주목해라.\n",
    "\n",
    "\n",
    "\n",
    "We could implement our own square root function by using a well-known technique called “Newton’s Method.” Newton’s Method for approximating square roots performs an iterative computation that converges on the correct value. The equation newguess=12∗(oldguess+noldguess) takes a value n and repeatedly guesses the square root by making each newguess the oldguess in the subsequent iteration. The initial guess used here is n2. Listing 1 shows a function definition that accepts a value n and returns the square root of n after making 20 guesses. Again, the details of Newton’s Method are hidden inside the function definition and the user does not have to know anything about the implementation to use the function for its intended purpose. Listing 1 also shows the use of the # character as a comment marker. Any characters that follow the # on a line are ignored.\n",
    "\n",
    "우리는 ‘뉴턴의 방법’이라는 잘 알려진 기술을 이용해 우리만의 제곱근 함수를 구현할 수 있다. 제곱근을 근사하는 뉴턴의 방법은 정확한 값에 수렴하는 반복적인 계산을 통해 수행된다. newguess=12∗(oldguess+noldguess) 식은 n의 값을 이용해 그 다음 반복에서의 newguess와 oldquess를 만들어 냄으로써 반복적으로 제곱근을 추측한다. 여기서 사용된 최초의 예측값은 n/2이다. Listing 1은 n의 값을 받아 20번의 추측 끝에 n의 제곱근을 반환하는 함수의 선언을 나타낸다. 마찬가지로, 뉴턴의 방법의 세부 내용은 함수의 정의 안에 숨겨져 있고 사용자는 함수를 본래의 목적에 맞게 사용하기 위해선 구현에 대해 아무것도 알 필요가 없다. Listing 1은 # 문자를 주석 표시를 위해 이용하는 것 또한 보여준다. 같은 줄에서 # 뒤에 있는 문자들은 모두 무시된다.\n",
    "\n",
    "\n",
    "**Listing 1"
   ]
  },
  {
   "cell_type": "code",
   "execution_count": null,
   "metadata": {},
   "outputs": [],
   "source": [
    "def squareroot(n):\n",
    "    root = n/2    #initial guess will be 1/2 of n\n",
    "    for k in range(20):\n",
    "        root = (1/2)*(root + (n / root))\n",
    "\n",
    "    return root"
   ]
  },
  {
   "cell_type": "code",
   "execution_count": null,
   "metadata": {},
   "outputs": [],
   "source": [
    ">>>squareroot(9)\n",
    "3.0\n",
    ">>>squareroot(4563)\n",
    "67.549981495186216\n",
    ">>>"
   ]
  }
 ],
 "metadata": {
  "kernelspec": {
   "display_name": "Python 3.6",
   "language": "python",
   "name": "python3"
  },
  "language_info": {
   "codemirror_mode": {
    "name": "ipython",
    "version": 3
   },
   "file_extension": ".py",
   "mimetype": "text/x-python",
   "name": "python",
   "nbconvert_exporter": "python",
   "pygments_lexer": "ipython3",
   "version": "3.6.5"
  }
 },
 "nbformat": 4,
 "nbformat_minor": 2
}
