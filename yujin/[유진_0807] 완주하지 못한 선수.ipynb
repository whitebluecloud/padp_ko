{
 "cells": [
  {
   "cell_type": "markdown",
   "metadata": {},
   "source": [
    "## 문제 설명\n",
    "수많은 마라톤 선수들이 마라톤에 참여하였습니다. 단 한 명의 선수를 제외하고는 모든 선수가 마라톤을 완주하였습니다.\n",
    "\n",
    "마라톤에 참여한 선수들의 이름이 담긴 배열 participant와 완주한 선수들의 이름이 담긴 배열 completion이 주어질 때, 완주하지 못한 선수의 이름을 return 하도록 solution 함수를 작성해주세요.\n",
    "\n",
    "\n",
    "## 제한사항\n",
    "* 마라톤 경기에 참여한 선수의 수는 1명 이상 100,000명 이하입니다.\n",
    "* completion의 길이는 participant의 길이보다 1 작습니다.\n",
    "* 참가자의 이름은 1개 이상 20개 이하의 알파벳 소문자로 이루어져 있습니다.\n",
    "* 참가자 중에는 동명이인이 있을 수 있습니다.\n",
    "\n",
    "\n",
    "## 입출력 예\n",
    "<center>participant<center>\t| <center>completion<center> | <center>return<center>\n",
    "----------------|----------------|----------------\n",
    "<center>[\"leo\", \"kiki\", \"eden\"]<center> | <center>[\"eden\", \"kiki\"]<center> | <center>\"leo\"<center>\n",
    "<center>[\"marina\", \"josipa\", \"nikola\", \"vinko\", \"filipa\"]<center> |\t<center>[\"josipa\", \"filipa\", \"marina\", \"nikola\"]<center> | <center>\"vinko\"<center>\n",
    "<center>[\"mislav\", \"stanko\", \"mislav\", \"ana\"]<center> | <center>[\"stanko\", \"ana\", \"mislav\"]<center> | <center>\"mislav\"<center>\n",
    "    \n",
    "\n",
    "## 입출력 예 설명\n",
    "* 예제 #1<br>\n",
    "leo는 참여자 명단에는 있지만, 완주자 명단에는 없기 때문에 완주하지 못했습니다.\n",
    "\n",
    "* 예제 #2<br>\n",
    "vinko는 참여자 명단에는 있지만, 완주자 명단에는 없기 때문에 완주하지 못했습니다.\n",
    "\n",
    "* 예제 #3<br>\n",
    "mislav는 참여자 명단에는 두 명이 있지만, 완주자 명단에는 한 명밖에 없기 때문에 한명은 완주하지 못했습니다."
   ]
  },
  {
   "cell_type": "code",
   "execution_count": null,
   "metadata": {},
   "outputs": [],
   "source": [
    "def solution(participant, completion):\n",
    "    answer = ''\n",
    "    \n",
    "    participant.sort()\n",
    "    completion.sort()\n",
    "    \n",
    "    tmp = 0\n",
    "    for i in range(len(completion)):\n",
    "        tmp += 1\n",
    "        if participant[i] != completion[i]:\n",
    "            answer = participant[i]\n",
    "            break\n",
    "            \n",
    "    if tmp == len(completion):\n",
    "        answer = participant[len(participant) - 1]\n",
    "    \n",
    "    return answer"
   ]
  }
 ],
 "metadata": {
  "kernelspec": {
   "display_name": "Python 3.6",
   "language": "python",
   "name": "python3"
  },
  "language_info": {
   "codemirror_mode": {
    "name": "ipython",
    "version": 3
   },
   "file_extension": ".py",
   "mimetype": "text/x-python",
   "name": "python",
   "nbconvert_exporter": "python",
   "pygments_lexer": "ipython3",
   "version": "3.6.5"
  }
 },
 "nbformat": 4,
 "nbformat_minor": 2
}
