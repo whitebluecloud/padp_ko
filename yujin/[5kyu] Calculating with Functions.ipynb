{
 "cells": [
  {
   "cell_type": "markdown",
   "metadata": {},
   "source": [
    "This time we want to write calculations using functions and get the results. Let's have a look at some examples:\n",
    "\n",
    "JavaScript:\n",
    "    seven(times(five())); // must return 35\n",
    "    four(plus(nine())); // must return 13\n",
    "    eight(minus(three())); // must return 5\n",
    "    six(dividedBy(two())); // must return 3\n",
    "    \n",
    "Ruby:\n",
    "    seven(times(five)) # must return 35\n",
    "    four(plus(nine)) # must return 13\n",
    "    eight(minus(three)) # must return 5\n",
    "    six(divided_by(two)) # must return 3\n",
    "    \n",
    "Requirements:\n",
    "There must be a function for each number from 0 (\"zero\") to 9 (\"nine\")\n",
    "There must be a function for each of the following mathematical operations: plus, minus, times, dividedBy (divided_by in Ruby)\n",
    "Each calculation consist of exactly one operation and two numbers\n",
    "The most outer function represents the left operand, the most inner function represents the right operand\n",
    "Divison should be integer division, e.g eight(dividedBy(three()))/eight(divided_by(three)) should return 2, not 2.666666...\n"
   ]
  },
  {
   "cell_type": "code",
   "execution_count": null,
   "metadata": {},
   "outputs": [],
   "source": [
    "def zero(p = None): #your code here\n",
    "    return '0' if p == None else eval('0' + p)\n",
    "    \n",
    "def one(p = None): #your code here\n",
    "    return '1' if p == None else eval('1' + p)\n",
    "    \n",
    "def two(p = None): #your code here\n",
    "    return '2' if p == None else eval('2' + p)\n",
    "    \n",
    "def three(p = None): #your code here\n",
    "    return '3' if p == None else eval('3' + p)\n",
    "    \n",
    "def four(p = None): #your code here\n",
    "    return '4' if p == None else eval('4' + p)\n",
    "    \n",
    "def five(p = None): #your code here\n",
    "    return '5' if p == None else eval('5' + p)\n",
    "    \n",
    "def six(p = None): #your code here\n",
    "    return '6' if p == None else eval('6' + p)\n",
    "    \n",
    "def seven(p = None): #your code here\n",
    "    return '7' if p == None else eval('7' + p)\n",
    "    \n",
    "def eight(p = None): #your code here\n",
    "    return '8' if p == None else eval('8' + p)\n",
    "    \n",
    "def nine(p = None): #your code here\n",
    "    return '9' if p == None else eval('9' + p)\n",
    "\n",
    "def plus(p): #your code here\n",
    "    return \"+\" + p\n",
    "    \n",
    "def minus(p): #your code here\n",
    "    return \"-\" + p\n",
    "\n",
    "def times(p): #your code here\n",
    "    return \"*\" + p\n",
    "\n",
    "def divided_by(p): #your code here\n",
    "    return \"//\" + p\n"
   ]
  }
 ],
 "metadata": {
  "kernelspec": {
   "display_name": "Python 3",
   "language": "python",
   "name": "python3"
  },
  "language_info": {
   "codemirror_mode": {
    "name": "ipython",
    "version": 3
   },
   "file_extension": ".py",
   "mimetype": "text/x-python",
   "name": "python",
   "nbconvert_exporter": "python",
   "pygments_lexer": "ipython3",
   "version": "3.7.3"
  }
 },
 "nbformat": 4,
 "nbformat_minor": 2
}
