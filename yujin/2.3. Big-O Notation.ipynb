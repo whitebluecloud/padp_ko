{
 "cells": [
  {
   "cell_type": "markdown",
   "metadata": {},
   "source": [
    "**Self Check\n",
    "\n",
    "Write two Python functions to find the minimum number in a list. The first function should compare each number to every other number on the list. O(n2). The second function should be linear O(n)."
   ]
  },
  {
   "cell_type": "code",
   "execution_count": 6,
   "metadata": {},
   "outputs": [
    {
     "name": "stdout",
     "output_type": "stream",
     "text": [
      "1\n"
     ]
    }
   ],
   "source": [
    "def find_min(lst):\n",
    "    minnum = lst[0]\n",
    "    \n",
    "    for i in lst:\n",
    "        is_min = True\n",
    "        \n",
    "        for j in lst:\n",
    "            if i > j:\n",
    "                is_min = False\n",
    "                \n",
    "        if is_min:\n",
    "            minnum = i\n",
    "                \n",
    "    return minnum\n",
    "\n",
    "print(find_min([3,2,5,1,6,2,7]))"
   ]
  },
  {
   "cell_type": "code",
   "execution_count": 5,
   "metadata": {},
   "outputs": [
    {
     "name": "stdout",
     "output_type": "stream",
     "text": [
      "1\n"
     ]
    }
   ],
   "source": [
    "def find_min_linear(lst):\n",
    "    minnum = lst[0]\n",
    "    \n",
    "    for i in lst:\n",
    "        if minnum > i:\n",
    "            minnum = i\n",
    "            \n",
    "    return minnum\n",
    "\n",
    "print(find_min_linear([3,2,5,1,6,2,7]))"
   ]
  },
  {
   "cell_type": "code",
   "execution_count": null,
   "metadata": {},
   "outputs": [],
   "source": []
  }
 ],
 "metadata": {
  "kernelspec": {
   "display_name": "Python 3",
   "language": "python",
   "name": "python3"
  },
  "language_info": {
   "codemirror_mode": {
    "name": "ipython",
    "version": 3
   },
   "file_extension": ".py",
   "mimetype": "text/x-python",
   "name": "python",
   "nbconvert_exporter": "python",
   "pygments_lexer": "ipython3",
   "version": "3.7.3"
  }
 },
 "nbformat": 4,
 "nbformat_minor": 2
}
