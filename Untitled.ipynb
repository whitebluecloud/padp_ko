{
 "cells": [
  {
   "cell_type": "code",
   "execution_count": null,
   "metadata": {},
   "outputs": [],
   "source": [
    "def solution(maps):\n",
    "    visited = [[0 for col in range(len(maps[0]))] for row in range(len(maps))]\n",
    "    visited[0][0] = 1\n",
    "    q = [[0, 0]]\n",
    "    answer = 1\n",
    "    dir = ((0, 1), (0, -1), (1, 0), (-1, 0))\n",
    "    \n",
    "    while q:\n",
    "        pos = q.pop()\n",
    "        x = pos[0]\n",
    "        y = pos[1]\n",
    "        \n",
    "        if x == len(maps[0]) - 1 and y == len(maps) - 1:\n",
    "            return answer\n",
    "\n",
    "        for d in dir:\n",
    "            x2, y2 = x + d[0], y + d[1]\n",
    "            \n",
    "            if x2 >= 0 and x2 < len(maps[0]) and y2 >= 0 and y2 < len(maps):\n",
    "                if maps[x2][y2] == 1 and visited[x2][y2] == 0:\n",
    "                    visited[x][y] == 1\n",
    "                    q.append([x, y])\n",
    "        \n",
    "        answer += 1\n",
    "            \n",
    "    return answer\n",
    "\n",
    "m = [[1,0,1,1,1],[1,0,1,0,1],[1,0,1,1,1],[1,1,1,0,1],[0,0,0,0,1]]\n",
    "a = [[1,0,0],[1,1,0],[0,1,1]]\n",
    "b = [[1,0,1,1,1],[1,0,1,0,1],[1,0,1,1,1],[1,1,1,0,0],[0,0,0,0,1]]\n",
    "c = [[1,1,0,0,0],[0,1,0,0,0],[0,1,1,1,1]]\n",
    "d = [[1]]\n",
    "\n",
    "print(solution(m))"
   ]
  },
  {
   "cell_type": "code",
   "execution_count": null,
   "metadata": {},
   "outputs": [],
   "source": []
  },
  {
   "cell_type": "code",
   "execution_count": null,
   "metadata": {},
   "outputs": [],
   "source": []
  }
 ],
 "metadata": {
  "kernelspec": {
   "display_name": "Python 3",
   "language": "python",
   "name": "python3"
  },
  "language_info": {
   "codemirror_mode": {
    "name": "ipython",
    "version": 3
   },
   "file_extension": ".py",
   "mimetype": "text/x-python",
   "name": "python",
   "nbconvert_exporter": "python",
   "pygments_lexer": "ipython3",
   "version": "3.7.3"
  }
 },
 "nbformat": 4,
 "nbformat_minor": 2
}
