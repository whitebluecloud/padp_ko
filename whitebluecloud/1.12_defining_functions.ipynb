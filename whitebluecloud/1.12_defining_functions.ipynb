{
  "cells": [
    {
      "cell_type": "markdown",
      "metadata": {
        "collapsed": true,
        "pycharm": {
          "name": "#%% md\n"
        }
      },
      "source": "1.12. Defining Functions\n\u003d\u003d\n일찍이 추상화 과정의 예로 제곱근을 계산하기 위해 math 모듈로부터 sqrt라고 불리는 파이썬함수를 호출했다.  \nThe earlier example of procedural abstraction called upon a Python function called sqrt from the math module to compute the square root.\n\n일반적으로, 우리는 함수를 정의함으로써 어떠한 계산의 디테일을 감출 수 있다.  \nIn general, we can hide the details of any computation by defining a function.\n\n함수정의는 이름, 파라미터 그룹 그리고 본문이 필요하다.  \nA function definition requires a name, a group of parameters, and a body.\n\n역시 명시적으로 값을 반환할 수 있다.  \nIt may also explicitly return a value.\n \n예를 들어, 간단한 함수는 당신이 넘긴 값의 제곱근을 리턴한다.   \nFor example, the simple function defined below returns the square of the value you pass into it.\n"
    },
    {
      "cell_type": "code",
      "execution_count": 2,
      "outputs": [
        {
          "name": "stdout",
          "text": [
            "9\n81\n"
          ],
          "output_type": "stream"
        }
      ],
      "source": "def square(n):\n    return n**2\nprint(square(3))\nprint(square(square(3)))\n",
      "metadata": {
        "pycharm": {
          "metadata": false,
          "name": "#%%\n",
          "is_executing": false
        }
      }
    },
    {
      "cell_type": "markdown",
      "source": "이 함수정의의 구문은 이름, square, 그리고 정형화된 매개변수 리스트의 괄호를 포함한다.  \nThe syntax for this function definition includes the name, square, and a parenthesized list of formal parameters.\n\n이 함수를 위해, n은 오직 하나의 정형화된 파라미터, 제곱근이 그 일을 위해 데이터의 한 조각을 필요로 한다고 제안한다.??  \nFor this function, n is the only formal parameter, which suggests that square needs only one piece of data to do its work.\n\n박스안에 숨겨진(숙어?) 상세는 단순히 n * * 2의 결과가 계산되고 그것을 반환한다.  \nThe details, hidden “inside the box,” simply compute the result of n**2 and return it.\n \n파이썬 환경에 실제 매개변수값, 이 경우 3을 전달해 그것을 계산하라고 요청된 square 함수를 부를 수 있다.  \nWe can invoke or call the square function by asking the Python environment to evaluate it, passing an actual parameter value, in this case, 3.\n \nsquare에 대한 호출은 다른 호출로 전달될 수 있는 정수를 리턴한다.   \nNote that the call to square returns an integer that can in turn be passed to another invocation.\n\n우리의 \"newton`s method\"라고 불리우는 잘 알려진 기술을 사용해 제곱근함수를 구현할 수 있다. 뉴턴의 메소드는 제곱근이 정답에 일치할 수 있도록 상호작용계산을 수행할 수 있다고 추측한다.  \nWe could implement our own square root function by using a well-known technique called “Newton’s Method.” Newton’s Method for approximating square roots performs an iterative computation that converges on the correct value.\n \n공식 ()는 n 값을 가지고 반복적으로 추측한다. 제곱근을. 각 newguess와 oldguess를 만들면서. 하위 반복을 통해.  \nThe equation newguess\u003d12∗(oldguess+noldguess) takes a value n and repeatedly guesses the square root by making each newguess the oldguess in the subsequent iteration.\n\n초기값은 n2에서 사용했다.   \nThe initial guess used here is n2.\n\n리스트1은 함수 정의를 보여준다. n값을 승인하고 20번의 추측을 한 후에 n의 제곱근을 반환한다.   \nListing 1 shows a function definition that accepts a value n and returns the square root of n after making 20 guesses.\n \n다시, newton`s method의 상세는 함수정의를 감추고 사용자는 의도된 목적을 위해 사용되는 함수 구현에 대해 아무것도 모르게 한다.  \nAgain, the details of Newton’s Method are hidden inside the function definition and the user does not have to know anything about the implementation to use the function for its intended purpose.\n\n리스트1은 역시 주석 표시로 # 문자를 사용한다.   \nListing 1 also shows the use of the # character as a comment marker.\n \n\u0027#\u0027뒤에 오는 문자들은 무시된다.  \nAny characters that follow the # on a line are ignored.\n\n",
      "metadata": {
        "pycharm": {
          "metadata": false,
          "name": "#%% md\n"
        }
      }
    },
    {
      "cell_type": "code",
      "execution_count": 3,
      "outputs": [
        {
          "name": "stdout",
          "text": [
            "3.0\n67.54998149518622\n"
          ],
          "output_type": "stream"
        }
      ],
      "source": "def squareroot(n):\n    root \u003d n / 2\n    for k in range(20):\n        root \u003d (1/2)*(root + (n / root))\n    return root\n\nprint(squareroot(9))\nprint(squareroot(4563))\n",
      "metadata": {
        "pycharm": {
          "metadata": false,
          "name": "#%%\n",
          "is_executing": false
        }
      }
    },
    {
      "cell_type": "markdown",
      "source": "Self Check\n\n여기 셀프체크가 있다. 모든것을 커버하는.  \nHere’s a self check that really covers everything so far.\n\n당신은 무한 원숭이 이론을 들어본 적 있는가? 그 이론은 원숭이가 랜덤으로 타자기 키보드를 치는것을 말한다. 무한의 시간동안 거의 주어진 텍스트를 윌리엄 셰익스피어의 작업을 완료한 것처럼.  \nYou may have heard of the infinite monkey theorem? The theorem states that a monkey hitting keys at random on a typewriter keyboard for an infinite amount of time will almost surely type a given text, such as the complete works of William Shakespeare.\n\n우리는 원숭이를 파이썬 함수로 대체한다.   \nWell, suppose we replace a monkey with a Python function.\n \n파이썬 함수로 셰익스피의 한 문장을 만들어내는 파이썬 함수를 만드는데 얼마나 걸릴거라고 생각하나?  \nHow long do you think it would take for a Python function to generate just one sentence of Shakespeare?\n \n우리가 쏠 문장은 다음과 같다 : \"족제비와 같아\"??   \nThe sentence we’ll shoot for is: “methinks it is like a weasel”\n\n당신은 브라우저에서 이 것을 수행하고 싶지 않을 것이다. 그러니 당신의 가장좋아하는 파이썬 IDE를 실행해라.      \nYou’re not going to want to run this one in the browser, so fire up your favorite Python IDE.\n\n우리가 이것을 시뮬레이션할 방법은 함수를 작성하는 것이다. 그 함수는 27개의 문자열을 생성한다. 그 문자열은 알파벳 26개의 임의의 문자열과 스페이스로 되어 있다.  \nThe way we’ll simulate this is to write a function that generates a string that is 27 characters long by choosing random letters from the 26 letters in the alphabet plus the space.\n\n우리는 다른 함수도 만들 것이다. 그것은 목표를 위해 랜덤하게 생성하여 비교해 각각 생성된 점수를 매길 것이다.  \nWe’ll write another function that will score each generated string by comparing the randomly generated string to the goal.\n\n세번째 함수는 반복적으로 생성하고 점수를 매길 것이다. 그리고 만약 문자열의 100%가 맞으면 완료된다.  \nA third function will repeatedly call generate and score, then if 100% of the letters are correct we are done.\n\n만약 문자열이 맞지 않다면 우리는 새로운 문자열을 생산할 것이다.  \nIf the letters are not correct then we will generate a whole new string.\n\n당신의 프로그램 과정을 쉽개하기 위해 세번째 함수는 베스트 문자열과 매 1000회 시도마다 그 점수를 프린트 해야한다.  \nTo make it easier to follow your program’s progress this third function should print out the best string generated so far and its score every 1000 tries.\n",
      "metadata": {
        "pycharm": {
          "metadata": false,
          "name": "#%% md\n"
        }
      }
    },
    {
      "cell_type": "markdown",
      "source": "Self Check Challenge\n\n만약 self check 프로그램을 향상시킬 수 있다면 베스트 문자열에서 한 문자열만 수정하여 문자들이 맞는지 확인하는 프로그램를 만들어라.?   \nSee if you can improve upon the program in the self check by keeping letters that are correct and only modifying one character in the best string so far.\n \n이것이 hill climbing 알고리즘의 분류에 속하는 알고리즘 타입이다, 이것이 우리가 이전 것보다 더 나은 결과를 저장할 수 있게하는 방법이다.    \nThis is a type of algorithm in the class of ‘hill climbing’ algorithms, that is we only keep the result if it is better than the previous one.\n\n",
      "metadata": {
        "pycharm": {
          "metadata": false,
          "name": "#%% md\n"
        }
      }
    }
  ],
  "metadata": {
    "language_info": {
      "codemirror_mode": {
        "name": "ipython",
        "version": 2
      },
      "file_extension": ".py",
      "mimetype": "text/x-python",
      "name": "python",
      "nbconvert_exporter": "python",
      "pygments_lexer": "ipython2",
      "version": "2.7.6"
    },
    "kernelspec": {
      "name": "python3",
      "language": "python",
      "display_name": "Python 3"
    }
  },
  "nbformat": 4,
  "nbformat_minor": 0
}