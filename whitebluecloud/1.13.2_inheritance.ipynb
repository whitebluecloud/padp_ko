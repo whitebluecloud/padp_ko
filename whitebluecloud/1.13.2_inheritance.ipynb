{
  "cells": [
    {
      "cell_type": "markdown",
      "metadata": {
        "collapsed": true,
        "pycharm": {
          "name": "#%% md\n"
        }
      },
      "source": "1.13.2. 상속: 논리 게이트와 회로\n\u003d\u003d\n우리의 마지막 섹션은 또 다른 중요한 객체지향관점에 대해 소개할 것이다.  \nOur final section will introduce another important aspect of object-oriented programming.\n\n상속은 어떤 클래스가 다른 클래스와 관련 있는 기술이다.  사람들이 서로 관계를 맺는 방법과 같이.  \nInheritance is the ability for one class to be related to another class in much the same way that people can be related to one another.\n \n아이들은 특성을 상속받는다 그들의 부모로부터. 비슷하게, 파이썬 자식 클래스들은 특성 데이터와 행동을 상속받을 수 있다. 부모 클래스로부터.  \nChildren inherit characteristics from their parents. Similarly, Python child classes can inherit characteristic data and behavior from a parent class.\n\n이 클래스들은 서브클래스 또는 슈퍼클래스라고 언급된다.   \nThese classes are often referred to as subclasses and superclasses.\n\n그림8은 내장된 파이썬 컬렉션과 그들 서로의 관계를 보여준다.  \nFigure 8 shows the built-in Python collections and their relationships to one another.\n \n우리는 관계구조라고 부른다. 이 상속 구조와 같은.  \nWe call a relationship structure such as this an inheritance hierarchy.\n \n예를 들어, 순차 컬렉션의 자식 리스트가 있다.   \nFor example, the list is a child of the sequential collection.\n\n이러한 경우, 우리는 그 리스트를 자식과 부모라고 부른다. (하위클래스 리스트 또는 슈퍼클래스 시퀀스)   \nIn this case, we call the list the child and the sequence the parent (or subclass list and superclass sequence).\n \n종종 이것은 IS-A 관계로 언급된다. (리스트 IS-A 순차 컬렉션)  \nThis is often referred to as an IS-A Relationship (the list IS-A sequential collection).\n \n이것은 암시한다.  리스트가 중요한 특성을 시퀀스로부터 상속받았다고, 명시적으로 연계, 반복, 색인화 등의 기본데이터와 연산의 순서를.  \nThis implies that lists inherit important characteristics from sequences, namely the ordering of the underlying data and operations such as concatenation, repetition, and indexing.\n\n리스트, 튜플, 문자열 모두 순차 컬렉션 타입이다.  \nLists, tuples, and strings are all types of sequential collections.\n\n그것들 모두는 공통의 데이 조직과 운영을 물려받는다.   \nThey all inherit common data organization and operations.\n \n그러나, 그들 각자는 자료의 동질성 여부 및 수집의 불변 여부에 따라 구별된다.  \nHowever, each of them is distinct based on whether the data is homogeneous and whether the collection is immutable.\n \n아이들 모두는 부모로부터 얻는다. 하지만, 다른 특징을 더해서 그들 자신을 구별한다.   \nThe children all gain from their parents but distinguish themselves by adding additional characteristics.\n\n이러한 계층적 방식으로 수업을 구성함으로써 객체 지향 프로그래밍 언어는 이전에 작성된 코드가 새로운 상황의 요구에 맞게 확장될 수 있도록 한다.  \nBy organizing classes in this hierarchical fashion, object-oriented programming languages allow previously written code to be extended to meet the needs of a new situation.\n \n게다가, 이러한 계층적 방식으로 데이터를 구성함으로써 존재하는 관계를 더 잘 이해할 수 있다.  \nIn addition, by organizing data in this hierarchical manner, we can better understand the relationships that exist.\n \n우리는 우리의 추상적인 표현을 더 효율적으로 만들 수 있다.  \nWe can be more efficient in building our abstract representations.\n\n이 아이디어를 더 탐구하기 위해, 우리는 디지털 회로를 시뮬레이션하는 애플리케이션인 시뮬레이션을 구축할 것이다.  \nTo explore this idea further, we will construct a simulation, an application to simulate digital circuits.\n \n이 시뮬레이션을 위한 기본 구성 요소는 논리 게이트가 될 것이다.  \nThe basic building block for this simulation will be the logic gate.\n \n이 전자 스위치는 입력과 출력 사이의 부울 대수 관계를 나타낸다.  \nThese electronic switches represent boolean algebra relationships between their input and their output.\n\n일반적으로, 게이트는 하나의 출력 선을 가지고 있다.  \nIn general, gates have a single output line.\n \n출력의 값은 입력 라인에 주어진 값에 따라 달라진다.  \nThe value of the output is dependent on the values given on the input lines.\n\nAND 게이트에는 두 개의 입력 라인이 있으며, 각 입력 라인은 0 또는 1일 수 있다(False 또는 True로 표시된다).  \nAND gates have two input lines, each of which can be either 0 or 1 (representing False or True, repectively).\n\n만약 입력 라인 두개 다 1이면, 결과는 1이다.  \nIf both of the input lines have the value 1, the resulting output is 1.\n\n그러나, 입력 라인 중 하나 또는 둘 다 0이면 결과는 0이다.  \nHowever, if either or both of the input lines is 0, the result is 0.\n\n또한 OR 게이트에는 두 개의 입력 라인이 있으며, 입력 값 중 하나 또는 둘 다 1인 경우 1을 생성한다.  \nOR gates also have two input lines and produce a 1 if one or both of the input values is a 1.\n \n두 입력 라인이 모두 0인 경우 결과는 0이다.  \nIn the case where both input lines are 0, the result is 0.\n\n게이트는 단일 입력 라인만 있다는 점에서 다른 두 게이트와 다르지 않다.  \nNOT gates differ from the other two gates in that they only have a single input line.\n\n출력 값은 입력 값과 반대일 뿐이다.   \nThe output value is simply the opposite of the input value.\n\n입력에 0이 표시되면 출력에서 1이 생성된다.   \nIf 0 appears on the input, 1 is produced on the output.\n\n마찬가지로, 1은 0을 생성한다.    \nSimilarly, 1 produces 0.\n\n그림 9는 각 관문이 전형적으로 어떻게 표현되는지를 보여준다.    \nFigure 9 shows how each of these gates is typically represented.\n\n각 게이트에는 게이트에 의해 수행되는 입력-출력 매핑을 보여주는 값의 진실 표도 있다.    \nEach gate also has a truth table of values showing the input-to-output mapping that is performed by the gate.\n\n그림\n\n이러한 관문을 다양한 패턴으로 결합한 다음 입력 값 집합을 적용함으로써 우리는 논리적인 기능을 가진 회로를 구축할 수 있다.  \nBy combining these gates in various patterns and then applying a set of input values, we can build circuits that have logical functions.\n\n그림 10은 2개의 AND 게이트, 1개의 OR 게이트 및 1개의 NOT 게이트로 구성된 회로를 보여준다.   \nFigure 10 shows a circuit consisting of two AND gates, one OR gate, and a single NOT gate.\n\n두 AND 게이트의 출력 라인은 OR 게이트로 직접 공급되며, OR 게이트의 결과 출력은 NOT 게이트로 전달된다.   \nThe output lines from the two AND gates feed directly into the OR gate, and the resulting output from the OR gate is given to the NOT gate.\n\n입력 값 집합을 4개의 입력 라인(각 AND 게이트에 대해 2개)에 적용하면 값이 처리되고 NOT 게이트 출력에 결과가 나타난다.   \nIf we apply a set of input values to the four input lines (two for each AND gate), the values are processed and a result appears at the output of the NOT gate.\n\n그림 10은 또한 값을 가진 예를 보여준다.   \nFigure 10 also shows an example with values.\n\n그림\n\n회로를 구현하기 위해, 우리는 우선 논리 게이트의 표현을 만들 것이다.  \nIn order to implement a circuit, we will first build a representation for logic gates.\n\n논리문은 그림 11과 같이 계층 상속 서열로 쉽게 정리된다.  \nLogic gates are easily organized into a class inheritance hierarchy as shown in Figure 11.\n \n계층의 상단에서, LogicGate 클래스는 논리 게이트의 가장 일반적인 특성, 즉 게이트와 출력 라인의 라벨을 나타낸다. 다음 단계의 하위 분류는 논리 관문을 한 개의 입력선을 가진 것과 두 개의 입력선을 가진 것으로 구분한다.   \nAt the top of the hierarchy, the LogicGate class represents the most general characteristics of logic gates: namely, a label for the gate and an output line. The next level of subclasses breaks the logic gates into two families, those that have one input line and those that have two.\n\n그 아래, 각각의 구체적인 논리기능이 나타난다.   \nBelow that, the specific logic functions of each appear.\n\n그림\n\n우리는 이제 클래스들을 구현할 것이다. 가장 일반적인 로직게이트를 이용해.  \nWe can now start to implement the classes by starting with the most general, LogicGate.\n\n전에 언급했듯, 각 게이트에는 식별을 위한 라벨과 단일 출력 라인이 있다.    \nAs noted earlier, each gate has a label for identification and a single output line.\n\n게다가, 우리는 게이트의 사용자가 게이트에 그것의 라벨을 요구할 수 있는 방법이 필요하다.   \nIn addition, we need methods to allow a user of a gate to ask the gate for its label.\n\n모든 논리 게이트가 필요로 하는 또 다른 행동은 출력값을 알 수 있는 능력이다.  \nThe other behavior that every logic gate needs is the ability to know its output value.\n \n이것은 게이트가 전류 입력을 기반으로 적절한 논리를 수행해야 할 것이다.  \nThis will require that the gate perform the appropriate logic based on the current input.\n \n출력하기 위해선, 게이트는 그 논리가 무엇인지 자세히 설명할 필요가 있다.  \nIn order to produce output, the gate needs to know specifically what that logic is.\n\n이것은 논리 연산을 수행하기 위한 방법을 호출하는 것을 의미한다.  \nThis means calling a method to perform the logic computation.\n\n전체 클래스는 Listing 8에 표시된다.   \nThe complete class is shown in Listing 8.\n"
    },
    {
      "cell_type": "code",
      "execution_count": null,
      "outputs": [],
      "source": "class LogicGate:\n\n    def __init__(self,n):\n        self.label \u003d n\n        self.output \u003d None\n\n    def getLabel(self):\n        return self.label\n\n    def getOutput(self):\n        self.output \u003d self.performGateLogic()\n        return self.output\n    ",
      "metadata": {
        "pycharm": {
          "metadata": false,
          "name": "#%% \n"
        }
      }
    },
    {
      "cell_type": "markdown",
      "source": "이 시점에, 우리는 performGateLogic 함수를 구현하지 않을 것이다.  \nAt this point, we will not implement the performGateLogic function.\n\n그 이유는 각 관문이 어떻게 독자적인 논리 연산을 수행할지를 모르기 때문이다.   \nThe reason for this is that we do not know how each gate will perform its own logic operation.\n\n이러한 세부 사항은 계층에 추가된 각 개별 게이트에 포함된다.   \nThose details will be included by each individual gate that is added to the hierarchy.\n \n이것은 매우 파워풀한 아이디어다 객체지향에 있어서.  \nThis is a very powerful idea in object-oriented programming.\n\n우리는 메서드를 작성한다. 아직 존재하지 않는 코드를 사용할 메서드.    \nWe are writing a method that will use code that does not exist yet.\n\n매개변수 자체는 메서드를 호출하는 실제 게이트 객체를 참조하는 것이다.  \nThe parameter self is a reference to the actual gate object invoking the method.\n\n계층에 추가된 어떠한 새로운 게이트는 단순히 performGateLogic 함를 구현할 필요가 있으며 적잘히 시간에 사용될 것이다. \nAny new logic gate that gets added to the hierarchy will simply need to implement the performGateLogic function and it will be used at the appropriate time.\n \n완료되면 게이트가 출력 값을 제공할 수 있다.  \nOnce done, the gate can provide its output value.\n\n현재 존재하는 계층을 확장하고 계층이 새로운 클래스를 사용하는 데 필요한 특정 기능을 제공하는 이 능력은 기존 코드를 재사용하는 데 매우 중요하다.  \nThis ability to extend a hierarchy that currently exists and provide the specific functions that the hierarchy needs to use the new class is extremely important for reusing existing code.\n\n우리는 입력 회선 수를 기준으로 논리 게이트를 분류했다.  \nWe categorized the logic gates based on the number of input lines.\n\nAnd 게이트는 두개의 선을 가지고 있다.   \nThe AND gate has two input lines.\n\nOR 게이트 역시 두개의 선을 가지고 있다. Not 게이트는 1개의 선을 가지고 있다.   \nThe OR gate also has two input lines. NOT gates have one input line.\n\nBinaryGate 클래스는 LogicGate의 서브클래스이고 두개의 선을 가지고 있다.    \nThe BinaryGate class will be a subclass of LogicGate and will add two input lines.\n\nUnaryGate 클래스 역시 LogicGate의 서브클래스이지만 1개의 선을 가지고 있다.   \nThe UnaryGate class will also subclass LogicGate but will have only a single input line.\n\n컴퓨터 회로 설계에서, 이러한 선들은 때때로 \"핀\"이라고 불리기 때문에, 우리는 구현에 그 용어를 사용할 것이다.   \nIn computer circuit design, these lines are sometimes called “pins” so we will use that terminology in our implementation.\n",
      "metadata": {
        "pycharm": {
          "metadata": false,
          "name": "#%% md\n"
        }
      }
    },
    {
      "cell_type": "code",
      "execution_count": null,
      "outputs": [],
      "source": "class BinaryGate(LogicGate):\n    def __init__(self,n):\n        LogicGate.__init__(self,n)\n\n        self.pinA \u003d None\n        self.pinB \u003d None\n\n    def getPinA(self):\n        return int(input(\"Enter Pin A input for gate \"+ self.getLabel()+\"--\u003e\"))\n\n    def getPinB(self):\n        return int(input(\"Enter Pin B input for gate \"+ self.getLabel()+\"--\u003e\"))\n    \nclass UnaryGate(LogicGate):\n    def __init__(self,n):\n        LogicGate.__init__(self,n)\n\n        self.pin \u003d None\n\n    def getPin(self):\n        return int(input(\"Enter Pin input for gate \"+ self.getLabel()+\"--\u003e\"))\n",
      "metadata": {
        "pycharm": {
          "metadata": false,
          "name": "#%%\n"
        }
      }
    },
    {
      "cell_type": "markdown",
      "source": "리스트9와 리스트10은 두개의 클래스를 구현한다.  \nListing 9 and Listing 10 implement these two classes.\n\n이 두 클래스의 생성자는 부모의 __init__ 방법을 사용하여 상위 클래스의 생성자에게 명시적인 호출로 시작한다.  \nThe constructors in both of these classes start with an explicit call to the constructor of the parent class using the parent’s __init__ method.\n \nBinaryGate 클래스의 인스턴스를 만들때, 우리는 먼저 LogicGate로부터 물려받은 모든 데이터 항목을 초기화하기를 원한다.  \nWhen creating an instance of the BinaryGate class, we first want to initialize any data items that are inherited from LogicGate.\n\n이 경우, 그것은 게이트의 라벨을 의미한다.  \nIn this case, that means the label for the gate.\n \n그런 다음 생성자는 두 입력 라인(핀A 및 핀B)을 추가한다.  \nThe constructor then goes on to add the two input lines (pinA and pinB).\n \n이것은 클래스 계층 구조를 작성할 때 항상 사용해야 하는 매우 일반적인 패턴이다.  \nThis is a very common pattern that you should always use when building class hierarchies.\n \n자식 클래스 생성자는 부모 클래스 생성자를 부를 필요가 있고, 그들만 구별되는 데이터로 옮긴다.   \nChild class constructors need to call parent class constructors and then move on to their own distinguishing data.\n\n파이썬 또한 상위계급을 명시적으로 부르는 대신 사용할 수 있는 슈퍼라고 불리는 기능을 가지고 있다.   \nPython also has a function called super which can be used in place of explicitly naming the parent class.\n\n이것은 보다 일반적인 메커니즘이며, 특히 한 클래스에 둘 이상의 부모가 있을 때 널리 사용된다.  \nThis is a more general mechanism, and is widely used, especially when a class has more than one parent.\n \n그러나, 이것은 우리가 이 소개에서 논의할 것이 아니다.   \nBut, this is not something we are going to discuss in this introduction.\n\n예를 들어 위의 LogicGate 예제.__init__(self,n)는 슈퍼(UnaryGate, self)로 대체될 수 있었다.__init__(n).    \nFor example in our example above LogicGate.__init__(self,n) could be replaced with super(UnaryGate,self).__init__(n).\n\nBinaryGate 클래스가 추가하는 유일한 동작은 두 입력 라인에서 값을 얻을 수 있는 능력이다.  \nThe only behavior that the BinaryGate class adds is the ability to get the values from the two input lines.\n\n이 값들은 외부적인 곳에서 나온 것이기 때문에 우리는 입력문을 통해 사용자에게 그것들을 제공하도록 요청할 것이다.  \nSince these values come from some external place, we will simply ask the user via an input statement to provide them.\n\nUnaryGate 동일한 구현이 발생하지만 입력 라인이 하나만 있다.    \nThe same implementation occurs for the UnaryGate class except that there is only one input line.\n\n이제 입력 회선의 수에 따라 게이트에 대한 일반 클래스를 갖게 되었으므로, 독특한 동작을 가진 특정 게이트를 구축할 수 있게 되었다.  \nNow that we have a general class for gates depending on the number of input lines, we can build specific gates that have unique behavior.\n\n예를 들어, AND 게이트에는 두 개의 입력 라인이 있기 때문에 AndGate 클래스는 BinaryGate의 하위 클래스가 될 것이다.   \nFor example, the AndGate class will be a subclass of BinaryGate since AND gates have two input lines.\n\n전처럼, 생성자의 첫째 라인은 상위 클래스 생성자(BinaryGate)를 호출하며, 이는 차례로 상위 클래스 생성자(LogicGate)를 호출한다.  \nAs before, the first line of the constructor calls upon the parent class constructor (BinaryGate), which in turn calls its parent class constructor (LogicGate).\n \nAndGate 클래스는 두 개의 입력 라인, 하나의 출력 라인 및 레이블을 상속하기 때문에 새로운 데이터를 제공하지 않는다는 점에 유의하십시오.  \nNote that the AndGate class does not provide any new data since it inherits two input lines, one output line, and a label.\n",
      "metadata": {
        "pycharm": {
          "metadata": false,
          "name": "#%% md\n"
        }
      }
    },
    {
      "cell_type": "code",
      "execution_count": null,
      "outputs": [],
      "source": "class AndGate(BinaryGate):\n\n    def __init__(self,n):\n        BinaryGate.__init__(self,n)\n\n    def performGateLogic(self):\n\n        a \u003d self.getPinA()\n        b \u003d self.getPinB()\n        if a\u003d\u003d1 and b\u003d\u003d1:\n            return 1\n        else:\n            return 0\n",
      "metadata": {
        "pycharm": {
          "metadata": false,
          "name": "#%%\n"
        }
      }
    },
    {
      "cell_type": "markdown",
      "source": "AndGate가 추가해야 할 것은 앞에서 설명한 부울 수술을 수행하는 구체적인 행동뿐이다.  \nThe only thing AndGate needs to add is the specific behavior that performs the boolean operation that was described earlier.\n\n여기가 바로 우리가 performGateLogic 방법을 제공할 수 있는 곳이다.    \nThis is the place where we can provide the performGateLogic method.\n\nAND 게이트의 경우 이 방법은 먼저 두 개의 입력 값을 얻은 다음 두 입력 값이 모두 1인 경우에만 1을 반환해야 한다.   \nFor an AND gate, this method first must get the two input values and then only return 1 if both input values are 1.\n\n완료된 클래스가 리스트11에 있다.   \nThe complete class is shown in Listing 11.\n\n인스턴스를 생성하고 출력을 계산하도록 요청함으로써 AndGate 클래스를 실제로 보여 줄 수 있다.  \nWe can show the AndGate class in action by creating an instance and asking it to compute its output.\n\n다음 세션은 AndGate 객체, g1이다. 내부 라벨 G1이라고 새겨져 있는  \nThe following session shows an AndGate object, g1, that has an internal label \"G1\".\n\n우리가 getOutput 메서드를 호출할 때, 개체는 먼저 그것의 수행GateLogic 메서드를 호출해야 하고, 다시 두 입력 라인을 쿼리해야 한다.   \nWhen we invoke the getOutput method, the object must first call its performGateLogic method which in turn queries the two input lines.\n\n값이 제공되면 올바른 출력이 나타난다.   \nOnce the values are provided, the correct output is shown.\n",
      "metadata": {
        "pycharm": {
          "metadata": false,
          "name": "#%% md\n"
        }
      }
    },
    {
      "cell_type": "code",
      "execution_count": null,
      "outputs": [],
      "source": "g1 \u003d AndGate(\"G1\")\ng1.getOutput()\n",
      "metadata": {
        "pycharm": {
          "metadata": false,
          "name": "#%%\n"
        }
      }
    },
    {
      "cell_type": "markdown",
      "source": "OR 게이트와 NOT 게이트에 대해서도 동일한 개발을 수행할 수 있다.  \nThe same development can be done for OR gates and NOT gates.\n\nOR 게이트 클래스는 역시 BinaryGate와 NotGate의 클래스가 될 것이고, UnaryGate 클래스를 확장할 것이다.   \nThe OrGate class will also be a subclass of BinaryGate and the NotGate class will extend the UnaryGate class.\n\n이 두 클래스는 그들의 performGateLogic 함수를 생성할 필요가 있다. 그들의 특정한 행동 떄문에.  \nBoth of these classes will need to provide their own performGateLogic functions, as this is their specific behavior.\n\n우리는 한개의 게이트를 사용할 수 있다. 첫번째 생성한 게이트 클래스의 인스턴스를 통해. 그리고, 게이트에게 요청한다. 그것의 출력을 (입력이 제공되어야 한다.)    \nWe can use a single gate by first constructing an instance of one of the gate classes and then asking the gate for its output (which will in turn need inputs to be provided).\n\n예를 들어,  \nFor example:\n",
      "metadata": {
        "pycharm": {
          "metadata": false,
          "name": "#%% md\n"
        }
      }
    },
    {
      "cell_type": "code",
      "source": "g2 \u003d OrGate(\"G2\")\ng2.getOutput()\n\ng2.getOutput()\n\ng3 \u003d NotGate(\"G3\")\ng3.getOutput()\n",
      "metadata": {
        "pycharm": {
          "metadata": false,
          "name": "#%%\n"
        }
      },
      "execution_count": null,
      "outputs": []
    },
    {
      "cell_type": "markdown",
      "source": "이제 기본적인 게이트가 동작하므로, 우리는 회로를 만드는 것에 주의를 기울일 수 있다.\nNow that we have the basic gates working, we can turn our attention to building circuits.\n\n회로를 만들기 위해서, 우리는 게이트를 연결해야할 필요가 있고, 한 흐름의 출력이 다른 하나의 입력으로 흐르게 한다.  \nIn order to create a circuit, we need to connect gates together, the output of one flowing into the input of another.\n\n이럼으로써, 우리는 새로운 클래스 커넥터를 구현할 수 있다.   \nTo do this, we will implement a new class called Connector.\n\nConnector 클래스는 게이트 층에 있지 않다.    \nThe Connector class will not reside in the gate hierarchy.\n\n그러나, 각 커넥터에 있는 게이트 층은 하나와 다른 끝에 있는 2개의 게이트 끝에 사용된다. ??\n-\u003e 단, 각 커넥터는 양쪽 끝에 하나씩 두 개의 관문을 가지고 있다는 점에서 관문 계층을 사용한다(그림 12 참조).      \nIt will, however, use the gate hierarchy in that each connector will have two gates, one on either end (see Figure 12).\n\n이 관계는 OOP에 매우 중요하다. 이것을 HAS-A 관계라고 부른다.  \nThis relationship is very important in object-oriented programming. It is called the HAS-A Relationship. \n\n일찍이 우리가 \"IS-A 관계\"라고 부르는 문구를 사용해 자식클래스가 부모클래스와 연관이 있다고 말한 것을 기억하자. 예를 들어 UnaryGate는 IS-A 논리게이트다.  \nRecall earlier that we used the phrase “IS-A Relationship” to say that a child class is related to a parent class, for example UnaryGate IS-A LogicGate.\n\n그림\n\nConnector 클래스와 같이, 우리는 커넥터 HAS-A LogicGate 커넥터가 LogicGate 클래스의 인스턴스를 가지지만 계층의 일부가 아니라는 것을 의미한다.  \nNow, with the Connector class, we say that a Connector HAS-A LogicGate meaning that connectors will have instances of the LogicGate class within them but are not part of the hierarchy.\n\n클래스를 설계할때, 구별하는 것은 매우 중요하다. 그것들 사이에서. Is-A 관계인지 (상속이 요구되는) Has-A 관계인지 (상속이 없는)  \nWhen designing classes, it is very important to distinguish between those that have the IS-A relationship (which requires inheritance) and those that have HAS-A relationships (with no inheritance).\n\n리스트 12는 커넥터 클래스를 보여준다.  \nListing 12 shows the Connector class.\n \n데이터 값이 한 게이트 출력에서 다음 게이트의 입력 라인으로 \"flow\" 된다는 것을 인식하여 각 커넥터 객체 내의 두 게이트 인스턴스를 fromgate와 togate라고 한다.\nThe two gate instances within each connector object will be referred to as the fromgate and the togate, recognizing that data values will “flow” from the output of one gate into an input line of the next.\n  \nsetNextPin을 부르는 것은 커넥션을 만들기 위해 매우 중요하다. (리스트13 참고)   \nThe call to setNextPin is very important for making connections (see Listing 13).\n\n우리는 우리의 게이트 클래스에 이 메소드를 추가할 필요가 있다. 각 togate가 적절한 입력선을 커넥션을 위해 고를 수 있게.   \nWe need to add this method to our gate classes so that each togate can choose the proper input line for the connection.\n",
      "metadata": {
        "pycharm": {
          "metadata": false,
          "name": "#%% md\n"
        }
      }
    },
    {
      "cell_type": "code",
      "source": "class Connector:\n\n    def __init__(self, fgate, tgate):\n        self.fromgate \u003d fgate\n        self.togate \u003d tgate\n\n        tgate.setNextPin(self)\n\n    def getFrom(self):\n        return self.fromgate\n\n    def getTo(self):\n        return self.togate\n",
      "metadata": {
        "pycharm": {
          "metadata": false,
          "name": "#%%\n"
        }
      },
      "execution_count": null,
      "outputs": []
    },
    {
      "cell_type": "markdown",
      "source": "BinaryGate 클래스에서, 두개의 입력 게이트를 갖는 게이트, 커넥터는 오직 한 라인과 연결되야만 한다.  \nIn the BinaryGate class, for gates with two possible input lines, the connector must be connected to only one line.\n\n만약 둘다 가능하다면, 우리는 pinA를 디폴트로 선택할 것이다.   \nIf both of them are available, we will choose pinA by default.\n\n만약 pinA가 이미 연결됐다면 우리는 pinB를 고를 것이다.   \nIf pinA is already connected, then we will choose pinB.\n\n이용할 수 있는 입력선이 없는 게이트에 연결하는 것은 불가능하다.   \nIt is not possible to connect to a gate with no available input lines.\n",
      "metadata": {
        "pycharm": {
          "metadata": false,
          "name": "#%% md\n"
        }
      }
    },
    {
      "cell_type": "code",
      "execution_count": null,
      "outputs": [],
      "source": "def setNextPin(self,source):\n    if self.pinA \u003d\u003d None:\n        self.pinA \u003d source\n    else:\n        if self.pinB \u003d\u003d None:\n            self.pinB \u003d source\n        else:\n           raise RuntimeError(\"Error: NO EMPTY PINS\")\n",
      "metadata": {
        "pycharm": {
          "metadata": false,
          "name": "#%%\n"
        }
      }
    },
    {
      "cell_type": "markdown",
      "source": "두개의 장소로부터 입력을 받을 수 있다.: 전처럼, 외부적으로, 출력 게이트로부터 입력 게이트에 연결된.  \nNow it is possible to get input from two places: externally, as before, and from the output of a gate that is connected to that input line.\n\n이것은 getPinA와 getPinB를 바꿀 필요가 있다. (그림 14)   \nThis requires a change to the getPinA and getPinB methods (see Listing 14).\n\n만약 입력 선이 아무것에도 연결되지 않았다면, 사용자는 전처럼 외부적으로 묻는다?   \nIf the input line is not connected to anything (None), then ask the user externally as before.\n \n그러나, 만약 연결됐다면, 연결은 접근될 수 있고 fromgate의 출력값은 검색된다.   \nHowever, if there is a connection, the connection is accessed and fromgate’s output value is retrieved.\n\n이것은 차례로 그 게이트가 그것의 로직을 수행하게 만든다.   \nThis in turn causes that gate to process its logic.\n  \n이것은 모든 입력이 이용가능할떄까지 지속되고 마지막 출력값이 문제를 통해 게이트에게 인풋을 요청할떄까지 지속된다.  \nThis continues until all input is available and the final output value becomes the required input for the gate in question.\n\n어떤 의미에서는, 회로가 역방향으로 작동하여 최종적으로 출력을 생성하는데 필요한 입력을 찾아낸다.   \nIn a sense, the circuit works backwards to find the input necessary to finally produce output.\n",
      "metadata": {
        "pycharm": {
          "metadata": false,
          "name": "#%% md\n"
        }
      }
    },
    {
      "cell_type": "code",
      "execution_count": null,
      "outputs": [],
      "source": "def getPinA(self):\n    if self.pinA \u003d\u003d None:\n        return input(\"Enter Pin A input for gate \" + self.getName()+\"--\u003e\")\n    else:\n        return self.pinA.getFrom().getOutput()\n",
      "metadata": {
        "pycharm": {
          "metadata": false,
          "name": "#%%\n"
        }
      }
    },
    {
      "cell_type": "markdown",
      "source": "아래의 조각은 섹션에서 일찍이 보여준 회로를 만든다.  \nThe following fragment constructs the circuit shown earlier in the section:\n",
      "metadata": {
        "pycharm": {
          "metadata": false,
          "name": "#%% md\n"
        }
      }
    },
    {
      "cell_type": "code",
      "execution_count": null,
      "outputs": [],
      "source": "g1 \u003d AndGate(\"G1\")\ng2 \u003d AndGate(\"G2\")\ng3 \u003d OrGate(\"G3\")\ng4 \u003d NotGate(\"G4\")\nc1 \u003d Connector(g1,g3)\nc2 \u003d Connector(g2,g3)\nc3 \u003d Connector(g3,g4)\n",
      "metadata": {
        "pycharm": {
          "metadata": false,
          "name": "#%%\n"
        }
      }
    },
    {
      "cell_type": "markdown",
      "source": "두개의 AndGate (g1, g2)의 출력은 OR 게이트와 연결되고 (g3) 출력은 NotGate와 연결된다 (g4)  \nThe outputs from the two AND gates (g1 and g2) are connected to the OR gate (g3) and that output is connected to the NOT gate (g4).\n\nNot게이트로부터 나오는 출력은 전체회로의 출력이다.  \nThe output from the NOT gate is the output of the entire circuit.\n\n예를 들어,  \nFor example:\n",
      "metadata": {
        "pycharm": {
          "metadata": false,
          "name": "#%% md\n"
        }
      }
    },
    {
      "cell_type": "code",
      "execution_count": null,
      "outputs": [],
      "source": "g4.getOutput()\n",
      "metadata": {
        "pycharm": {
          "metadata": false,
          "name": "#%%\n"
        }
      }
    },
    {
      "cell_type": "code",
      "execution_count": null,
      "outputs": [],
      "source": "class LogicGate:\n\n    def __init__(self,n):\n        self.name \u003d n\n        self.output \u003d None\n\n    def getName(self):\n        return self.name\n\n    def getOutput(self):\n        self.output \u003d self.performGateLogic()\n        return self.output\n\n\nclass BinaryGate(LogicGate):\n\n    def __init__(self,n):\n        LogicGate.__init__(self,n)\n\n        self.pinA \u003d None\n        self.pinB \u003d None\n\n    def getPinA(self):\n        if self.pinA \u003d\u003d None:\n            return int(input(\"Enter Pin A input for gate \"+self.getName()+\"--\u003e\"))\n        else:\n            return self.pinA.getFrom().getOutput()\n\n    def getPinB(self):\n        if self.pinB \u003d\u003d None:\n            return int(input(\"Enter Pin B input for gate \"+self.getName()+\"--\u003e\"))\n        else:\n            return self.pinB.getFrom().getOutput()\n\n    def setNextPin(self,source):\n        if self.pinA \u003d\u003d None:\n            self.pinA \u003d source\n        else:\n            if self.pinB \u003d\u003d None:\n                self.pinB \u003d source\n            else:\n                print(\"Cannot Connect: NO EMPTY PINS on this gate\")\n\n\nclass AndGate(BinaryGate):\n\n    def __init__(self,n):\n        BinaryGate.__init__(self,n)\n\n    def performGateLogic(self):\n\n        a \u003d self.getPinA()\n        b \u003d self.getPinB()\n        if a\u003d\u003d1 and b\u003d\u003d1:\n            return 1\n        else:\n            return 0\n\nclass OrGate(BinaryGate):\n\n    def __init__(self,n):\n        BinaryGate.__init__(self,n)\n\n    def performGateLogic(self):\n\n        a \u003d self.getPinA()\n        b \u003d self.getPinB()\n        if a \u003d\u003d1 or b\u003d\u003d1:\n            return 1\n        else:\n            return 0\n\nclass UnaryGate(LogicGate):\n\n    def __init__(self,n):\n        LogicGate.__init__(self,n)\n\n        self.pin \u003d None\n\n    def getPin(self):\n        if self.pin \u003d\u003d None:\n            return int(input(\"Enter Pin input for gate \"+self.getName()+\"--\u003e\"))\n        else:\n            return self.pin.getFrom().getOutput()\n\n    def setNextPin(self,source):\n        if self.pin \u003d\u003d None:\n            self.pin \u003d source\n        else:\n            print(\"Cannot Connect: NO EMPTY PINS on this gate\")\n\n\nclass NotGate(UnaryGate):\n\n    def __init__(self,n):\n        UnaryGate.__init__(self,n)\n\n    def performGateLogic(self):\n        if self.getPin():\n            return 0\n        else:\n            return 1\n\n\nclass Connector:\n\n    def __init__(self, fgate, tgate):\n        self.fromgate \u003d fgate\n        self.togate \u003d tgate\n\n        tgate.setNextPin(self)\n\n    def getFrom(self):\n        return self.fromgate\n\n    def getTo(self):\n        return self.togate\n\n\ndef main():\n   g1 \u003d AndGate(\"G1\")\n   g2 \u003d AndGate(\"G2\")\n   g3 \u003d OrGate(\"G3\")\n   g4 \u003d NotGate(\"G4\")\n   c1 \u003d Connector(g1,g3)\n   c2 \u003d Connector(g2,g3)\n   c3 \u003d Connector(g3,g4)\n   print(g4.getOutput())\n\nmain()\n\n",
      "metadata": {
        "pycharm": {
          "metadata": false,
          "name": "#%%\n"
        }
      }
    },
    {
      "cell_type": "markdown",
      "source": "Self Check\n두개의 새로운 클래스를 만들자, 하나는 Norgate, 다른 하나는 NandGate  \nCreate a two new gate classes, one called NorGate the other called NandGate.\n \nNandGate는 AndGate와 같이 일한다. 출력과 연결되지 않은.    \nNandGates work like AndGates that have a Not attached to the output.\n\nNorGate는 OrGate와 같이 일한다. 출력과 연결되지 않은.  \nNorGates work like OrGates that have a Not attached to the output.\n\n게이트 여러개를 만들어라. A and B or C and D 가 Not (A and B) and Not (C and d) 와 같다는 것을 증명하라.    \nCreate a series of gates that prove the following equality NOT (( A and B) or (C and D)) is that same as NOT( A and B ) and NOT (C and D).\n\n시뮬레이션으로 새로운 게이트의 사용을 확인해라.   \nMake sure to use some of your new gates in the simulation.\n\n",
      "metadata": {
        "pycharm": {
          "metadata": false,
          "name": "#%% md\n"
        }
      }
    }
  ],
  "metadata": {
    "language_info": {
      "codemirror_mode": {
        "name": "ipython",
        "version": 2
      },
      "file_extension": ".py",
      "mimetype": "text/x-python",
      "name": "python",
      "nbconvert_exporter": "python",
      "pygments_lexer": "ipython2",
      "version": "2.7.6"
    },
    "kernelspec": {
      "name": "python3",
      "language": "python",
      "display_name": "Python 3"
    }
  },
  "nbformat": 4,
  "nbformat_minor": 0
}