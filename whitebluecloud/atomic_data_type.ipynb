{
  "cells": [
    {
      "cell_type": "markdown",
      "metadata": {
        "collapsed": true,
        "pycharm": {
          "name": "#%% md\n"
        }
      },
      "source": "1.8.1. 내장된 원자형 데이터 타입\n\u003d\u003d\n\n우리는 리뷰를 시작할 것이다. 원자형 데이터 타입을 고려하는 것을.\nWe will begin our review by considering the atomic data types.\n\n파이썬은 두가지의 내장된 숫자 클래스들을 갖고 있다. integer와 float 타입으로 구현된.\nPython has two main built-in numeric classes that implement the integer and floating point data types.\n\n이 파이썬 클래스들은 int와 float으로 불린다.\nThese Python classes are called int and float.\n\n표준 수학 연산자들, +, -, *, /, 그리고 **(지수), 사용될 수 있다. 괄호와 함께 사용될 수 있다. 연산자들의 순서를 강제하는 괄호. 보통의 연산자 precedence로부터.\nThe standard arithmetic operations, +, -, *, /, and ** (exponentiation), can be used with parentheses forcing the order of operations away from normal operator precedence.\n\n다른 매우 유용한 연산자들은 나머지 연산자, %, integer 나누기, // 이다. 두 숫자가 나누어질때 결과는 float이 된다는 것을 기억하라.\nOther very useful operations are the remainder (modulo) operator, %, and integer division, //. Note that when two integers are divided, the result is a floating point.\n\n정수 나누기 연산자는 quotient의 정수부분을 리턴한다. truncate된 어떠한 분수 부분에 의해.\nThe integer division operator returns the integer portion of the quotient by truncating any fractional part.\n"
    },
    {
      "cell_type": "code",
      "execution_count": 1,
      "outputs": [
        {
          "name": "stdout",
          "text": [
            "14\n20\n1024\n2.0\n2.3333333333333335\n2\n1\n0.5\n0\n3\n1267650600228229401496703205376\n"
          ],
          "output_type": "stream"
        }
      ],
      "source": "print(2+3*4)\nprint((2+3)*4)\nprint(2**10)\nprint(6/3)\nprint(7/3)\nprint(7//3)\nprint(7%3)\nprint(3/6)\nprint(3//6)\nprint(3%6)\nprint(2**100)\n",
      "metadata": {
        "pycharm": {
          "metadata": false,
          "name": "#%%\n",
          "is_executing": false
        }
      }
    },
    {
      "cell_type": "markdown",
      "source": "\n파이썬 bool 클래스로 구현된 boolean 데이터 타입 꽤 유용하다. true 값으로 나타내는.\nThe boolean data type, implemented as the Python bool class, will be quite useful for representing truth values.\n\nboolean 객체를 위한 가능한 상태값은 True와 False다. 표준 boolean 연산자, and, or, not으로.\nThe possible state values for a boolean object are True and False with the standard boolean operators, and, or, and not.\n",
      "metadata": {
        "pycharm": {
          "metadata": false,
          "name": "#%% md\n"
        }
      }
    },
    {
      "cell_type": "code",
      "execution_count": 1,
      "outputs": [
        {
          "data": {
            "text/plain": "True"
          },
          "metadata": {},
          "output_type": "execute_result",
          "execution_count": 1
        }
      ],
      "source": "True",
      "metadata": {
        "pycharm": {
          "metadata": false,
          "name": "#%%\n",
          "is_executing": false
        }
      }
    },
    {
      "cell_type": "code",
      "execution_count": 2,
      "outputs": [
        {
          "data": {
            "text/plain": "False"
          },
          "metadata": {},
          "output_type": "execute_result",
          "execution_count": 2
        }
      ],
      "source": "False",
      "metadata": {
        "pycharm": {
          "metadata": false,
          "name": "#%%\n",
          "is_executing": false
        }
      }
    },
    {
      "cell_type": "code",
      "execution_count": 3,
      "outputs": [
        {
          "data": {
            "text/plain": "True"
          },
          "metadata": {},
          "output_type": "execute_result",
          "execution_count": 3
        }
      ],
      "source": "False or True",
      "metadata": {
        "pycharm": {
          "metadata": false,
          "name": "#%%\n",
          "is_executing": false
        }
      }
    },
    {
      "cell_type": "code",
      "execution_count": 4,
      "outputs": [
        {
          "data": {
            "text/plain": "False"
          },
          "metadata": {},
          "output_type": "execute_result",
          "execution_count": 4
        }
      ],
      "source": "not (False or True)",
      "metadata": {
        "pycharm": {
          "metadata": false,
          "name": "#%%\n",
          "is_executing": false
        }
      }
    },
    {
      "cell_type": "code",
      "execution_count": 5,
      "outputs": [
        {
          "data": {
            "text/plain": "True"
          },
          "metadata": {},
          "output_type": "execute_result",
          "execution_count": 5
        }
      ],
      "source": "True and True\n",
      "metadata": {
        "pycharm": {
          "metadata": false,
          "name": "#%%\n",
          "is_executing": false
        }
      }
    },
    {
      "cell_type": "markdown",
      "source": "Boolean 데이터 객체는 역시 결과롤 사용한다. 비교 연산자. \u003d\u003d와 \u003e와 같은.\nBoolean data objects are also used as results for comparison operators such as equality (\u003d\u003d) and greater than (\u003e).\n\n게다가, 관계연산자와 로직연산자는 합성될 수 있다. 복잡한 로지컬 문제를 to form 하기위해.\nIn addition, relational operators and logical operators can be combined together to form complex logical questions.\n\nTable1은 세션에서 보여준 예제로 예제와 관련된 관계와 로지컬연산자들을 보여준다.  \nTable 1 shows the relational and logical operators with examples shown in the session that follows.\n\n명령어 | 연산자 | 설명\n-----|-----|------\n보다 적은|\u003c|보다 작은 연산자\n보다 큰|\u003e|보다 큰 연산자\n작거나 같은|\u003c\u003d|작거나 같은 연산자\n크거나 같은|\u003e\u003d|크거나 같은 연산자\n동등한|\u003d\u003d|동등한 연산자\n동등하지 않은|!\u003d|동등하지 않은 연산자\nlogical and|and|둘다 True인경우 결과가 True다\nlogical or|or|하나나 다른 True인 경우 결과가 True다.\nlogical not|not|True인 경우 결과가 False, False인 경우 결과가 True다.\n",
      "metadata": {
        "pycharm": {
          "metadata": false,
          "name": "#%% md\n"
        }
      }
    },
    {
      "cell_type": "code",
      "execution_count": 6,
      "outputs": [
        {
          "name": "stdout",
          "text": [
            "False\nTrue\nTrue\n"
          ],
          "output_type": "stream"
        }
      ],
      "source": "print(5\u003d\u003d10)\nprint(10 \u003e 5)\nprint((5 \u003e\u003d 1) and (5 \u003c\u003d 10))\n",
      "metadata": {
        "pycharm": {
          "metadata": false,
          "name": "#%%\n",
          "is_executing": false
        }
      }
    },
    {
      "cell_type": "markdown",
      "source": "\n식별자는 이름으로 프로그래밍언어에서 사용된다.\nIdentifiers are used in programming languages as names.\n \n파이썬에서는, 식별자는 _로 시작하고 대소구별되고 길이에는 제한이 없다.\nIn Python, identifiers start with a letter or an underscore (_), are case sensitive, and can be of any length.\n \n기억해라. 이름을 사용하는 것은 좋은 방법이다. convey 의미있는. 당신의 프로그램코드가 더 쉽게 읽혀지고 이해되기 위해.\nRemember that it is always a good idea to use names that convey meaning so that your program code is easier to read and understand.\n\n파이썬 변수는 만들어진다. 이름이 사용될때. 처음으로. 할당문의 왼쪽에서.\nA Python variable is created when a name is used for the first time on the left-hand side of an assignment statement.\n \n할당문은 이름과 변수를 연관짓는 방법이다.\nAssignment statements provide a way to associate a name with a value.\n \n변수는 참조할 것이다. 데이터조각을 데이터 자체가 아니고.  \nThe variable will hold a reference to a piece of data and not the data itself.\n\n다음의 세션을 고려해보라.\nConsider the following session:\n",
      "metadata": {
        "pycharm": {
          "metadata": false,
          "name": "#%% md\n"
        }
      }
    },
    {
      "cell_type": "code",
      "execution_count": 10,
      "outputs": [
        {
          "name": "stdout",
          "text": [
            "0\n1\nTrue\n"
          ],
          "output_type": "stream"
        }
      ],
      "source": "theSum \u003d 0\nprint(theSum)\ntheSum \u003d theSum + 1\nprint(theSum)\ntheSum \u003d True\nprint(theSum)\n",
      "metadata": {
        "pycharm": {
          "metadata": false,
          "name": "#%%\n",
          "is_executing": false
        }
      }
    },
    {
      "cell_type": "markdown",
      "source": "theSum \u003d 0 할당문은 theSum이라는 변수를 할당한다. 그리고 그것을 데이터 객체 0에 참조를 건다.(그림3 참조)\nThe assignment statement theSum \u003d 0 creates a variable called theSum and lets it hold the reference to the data object 0 (see Figure 3).\n\n일반적으로, 할당문의 우항은 평가되고 좌항에 \"할당된\" 데이터 객체 결과를 참조한다.\nIn general, the right-hand side of the assignment statement is evaluated and a reference to the resulting data object is “assigned” to the name on the left-hand side.\n\n우리의 예제의 이점에는, 변수의 타입이 정수이다. 현재 theSum에 의해 참조된 데이터 타입. \nAt this point in our example, the type of the variable is integer as that is the type of the data currently being referred to by theSum.\n \n만약 데이터 타입이 바뀐다면(그림4 참조), boolean 값이 True로, 변수의 타입도 바뀐다. (theSum은 현재는 boolean 타입이다.)\nIf the type of the data changes (see Figure 4), as shown above with the boolean value True, so does the type of the variable (theSum is now of the type boolean).\n\n할당문은 변수에 의해 참조를 바꾼다. 이것이 파이썬의 동적인 특성이다. \nThe assignment statement changes the reference being held by the variable. This is a dynamic characteristic of Python.\n\n같은 변수는 많은 다양한 데이터타입을 참조할 수 있다.\nThe same variable can refer to many different types of data.\n\n![그림3](./img/assignment1.png)\n![그림4](./img/assignment2.png)\n",
      "metadata": {
        "pycharm": {
          "metadata": false,
          "name": "#%% md\n"
        }
      }
    }
  ],
  "metadata": {
    "language_info": {
      "codemirror_mode": {
        "name": "ipython",
        "version": 2
      },
      "file_extension": ".py",
      "mimetype": "text/x-python",
      "name": "python",
      "nbconvert_exporter": "python",
      "pygments_lexer": "ipython2",
      "version": "2.7.6"
    },
    "kernelspec": {
      "name": "python3",
      "language": "python",
      "display_name": "Python 3"
    }
  },
  "nbformat": 4,
  "nbformat_minor": 0
}