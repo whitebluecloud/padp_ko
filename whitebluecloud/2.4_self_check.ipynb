{
  "cells": [
    {
      "cell_type": "markdown",
      "metadata": {
        "collapsed": true,
        "pycharm": {
          "name": "#%% md\n"
        }
      },
      "source": "Self Check\nQ-28: Given the following code fragment, what is its Big-O running time?\ntest \u003d 0\nfor i in range(n):\n   for j in range(n):\n      test \u003d test + i * j\n(B) O(n^2)\n\nQ-29: Given the following code fragment what is its Big-O running time?\ntest \u003d 0\nfor i in range(n):\n   test \u003d test + 1\n\nfor j in range(n):\n   test \u003d test - 1\n(A) O(n)\n\nQ-30: Given the following code fragment what is its Big-O running time?\ni \u003d n\nwhile i \u003e 0:\n   k \u003d 2 + 2\n   i \u003d i // 2\n(B) O(n^2)\n"
    }
  ],
  "metadata": {
    "language_info": {
      "codemirror_mode": {
        "name": "ipython",
        "version": 2
      },
      "file_extension": ".py",
      "mimetype": "text/x-python",
      "name": "python",
      "nbconvert_exporter": "python",
      "pygments_lexer": "ipython2",
      "version": "2.7.6"
    },
    "kernelspec": {
      "name": "python3",
      "language": "python",
      "display_name": "Python 3"
    }
  },
  "nbformat": 4,
  "nbformat_minor": 0
}