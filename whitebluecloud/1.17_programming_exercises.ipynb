{
  "cells": [
    {
      "cell_type": "markdown",
      "metadata": {
        "collapsed": true,
        "pycharm": {
          "name": "#%% md\n"
        }
      },
      "source": "1.17. 연습문제\n\u003d\u003d\n1. 간단한 분자와 분모를 리턴하는 getNum, getDen 메소드를 구현하라.  \n1. Implement the simple methods getNum and getDen that will return the numerator and denominator of a fraction.\n"
    },
    {
      "cell_type": "code",
      "execution_count": 4,
      "outputs": [
        {
          "name": "stdout",
          "text": [
            "2\n7\n"
          ],
          "output_type": "stream"
        }
      ],
      "source": "def getNum(fraction):\n    try:\n        return fraction.split(\"/\")[0]\n    except:\n        raise ArithmeticError()\n\ndef getDen(fraction):\n    try:\n        return fraction.split(\"/\")[1]\n    except:\n        raise ArithmeticError()\n    \nprint(getNum(\"2/3\"))\nprint(getDen(\"3/7\"))\n",
      "metadata": {
        "pycharm": {
          "metadata": false,
          "name": "#%%\n",
          "is_executing": false
        }
      }
    },
    {
      "cell_type": "markdown",
      "source": "2. 만약 모든 분수가 lowest terms 으로 유지된다면 더 좋을 것이다.    \n2. In many ways it would be better if all fractions were maintained in lowest terms right from the start.\n\nfraction의 생성자를 수정해라. GCD가 즉시 reduce fractions를 사용하도록.    \nModify the constructor for the Fraction class so that GCD is used to reduce fractions immediately.\n\n이것은 __add__가 더이상 reduce할 필요가 없다는 것이다.  \nNotice that this means the __add__ function no longer needs to reduce.\n\n필요한 수정을 해라.    \nMake the necessary modifications.\n",
      "metadata": {
        "pycharm": {
          "metadata": false,
          "name": "#%% md\n"
        }
      }
    },
    {
      "cell_type": "code",
      "execution_count": 28,
      "outputs": [
        {
          "name": "stdout",
          "text": [
            "gcd_val is 9\nreduce fraction : 3/1\n"
          ],
          "output_type": "stream"
        },
        {
          "data": {
            "text/plain": "\u003c__main__.Fraction at 0x10fb86b70\u003e"
          },
          "metadata": {},
          "output_type": "execute_result",
          "execution_count": 28
        }
      ],
      "source": "class Fraction():\n    def __init__(self, top, bottom):\n        gcd_val \u003d self.gcd(top, bottom)\n        print(\"gcd_val is %s\" % gcd_val)\n        self.num \u003d int(top / gcd_val)\n        self.den \u003d int(bottom / gcd_val)\n        print(\"reduce fraction : {}/{}\".format(self.num, self.den))\n        \n    def gcd(self, num, den):\n        if num \u003c den:\n            num, den \u003d den, num\n        while den !\u003d 0:\n            num, den \u003d den, num % den\n        return num\n    \nFraction(27,9)\n",
      "metadata": {
        "pycharm": {
          "metadata": false,
          "name": "#%%\n",
          "is_executing": false
        }
      }
    },
    {
      "cell_type": "markdown",
      "source": "\n남아있는 간단한 수학 연산자를 구현하라.  \n3. Implement the remaining simple arithmetic operators (__sub__, __mul__, and __truediv__).",
      "metadata": {
        "pycharm": {
          "metadata": false,
          "name": "#%% md\n"
        }
      }
    },
    {
      "cell_type": "code",
      "source": "class Fraction():\n    def __init__(self, top, bottom):\n        gcd_val \u003d self.gcd(top, bottom)\n        print(\"gcd_val is %s\" % gcd_val)\n        self.num \u003d int(top / gcd_val)\n        self.den \u003d int(bottom / gcd_val)\n        print(\"reduce fraction : {}/{}\".format(self.num, self.den))\n\n    def gcd(self, num, den):\n        if num \u003c den:\n            num, den \u003d den, num\n        while den !\u003d 0:\n            num, den \u003d den, num % den\n        return num\n    \n    def __add__(self,other):\n         newnum \u003d self.num*other.den + self.den*other.num\n         newden \u003d self.den * other.den\n         common \u003d self.gcd(newnum, newden)\n         return Fraction(newnum/common,newden/common)\n    \n    def __sub__(self, other):\n        newnum \u003d self.num*other.den - self.den*other.num\n        newden \u003d self.den * other.den\n        common \u003d self.gcd(newnum, newden)\n        return Fraction(newnum/common,newden/common)\n    \n    def __mul__(self, other):\n        newnum \u003d self.num * other.num\n        newden \u003d self.den * other.den\n        common \u003d self.gcd(newnum, newden)\n        return Fraction(newnum/common,newden/common)        \n    \n    def __truediv__(self, other):\n        newnum \u003d self.num * other.den\n        newden \u003d self.den * other.num\n        common \u003d self.gcd(newnum, newden)\n        return Fraction(newnum/common,newden/common)\n    ",
      "metadata": {
        "pycharm": {
          "metadata": false,
          "name": "#%%\n"
        }
      },
      "execution_count": null,
      "outputs": []
    },
    {
      "cell_type": "markdown",
      "source": "남겨진 관계연산자를 구현하라.      \n4. Implement the remaining relational operators (__gt__, __ge__, __lt__, __le__, and __ne__)\n",
      "metadata": {
        "pycharm": {
          "metadata": false,
          "name": "#%% md\n"
        }
      }
    },
    {
      "cell_type": "code",
      "execution_count": null,
      "outputs": [],
      "source": "class Fraction:\n     def __init__(self,top,bottom):\n         self.num \u003d top\n         self.den \u003d bottom\n\n     def __str__(self):\n         return str(self.num)+\"/\"+str(self.den)\n\n     def show(self):\n         print(self.num,\"/\",self.den)\n\n     def __eq__(self, other):\n         firstnum \u003d self.num * other.den\n         secondnum \u003d other.num * self.den\n\n         return firstnum \u003d\u003d secondnum\n         \n     def __gt__(self, other):\n         firstnum \u003d self.num * other.den\n         secondnum \u003d other.num * self.den\n\n         return firstnum \u003e secondnum\n     \n     def __ge__(self, other):\n         firstnum \u003d self.num * other.den\n         secondnum \u003d other.num * self.den\n\n         return firstnum \u003e\u003d secondnum\n     \n     def __lt__(self, other):\n         firstnum \u003d self.num * other.den\n         secondnum \u003d other.num * self.den\n\n         return firstnum \u003c secondnum\n     def __le__(self, other):\n         firstnum \u003d self.num * other.den\n         secondnum \u003d other.num * self.den\n\n         return firstnum \u003c\u003d secondnum\n         \n     def __ne__(self, other):\n         firstnum \u003d self.num * other.den\n         secondnum \u003d other.num * self.den\n\n         return firstnum !\u003d secondnum\n",
      "metadata": {
        "pycharm": {
          "metadata": false,
          "name": "#%%\n"
        }
      }
    },
    {
      "cell_type": "markdown",
      "source": "fraction 클래스의 생성자를 수정하라. 분모와 분자가 둘다 정수인것을 체크하도록. 만약 둘다 정수가 아니면 생성자는 에러를 발생해라.  \n5. Modify the constructor for the fraction class so that it checks to make sure that the numerator and denominator are both integers. If either is not an integer the constructor should raise an exception.\n",
      "metadata": {
        "pycharm": {
          "metadata": false,
          "name": "#%% md\n"
        }
      }
    },
    {
      "cell_type": "code",
      "execution_count": 5,
      "outputs": [
        {
          "name": "stdout",
          "text": [
            "1/3\n"
          ],
          "output_type": "stream"
        },
        {
          "data": {
            "text/plain": "\u003c__main__.Fraction at 0x10fa72358\u003e"
          },
          "metadata": {},
          "output_type": "execute_result",
          "execution_count": 5
        }
      ],
      "source": "class Fraction:\n     def __init__(self,top,bottom):\n         if not isinstance(top, int) or not isinstance(bottom, int):\n             raise TypeError()\n         self.num \u003d top\n         self.den \u003d bottom\n         print(\"{}/{}\".format(self.num, self.den))\nFraction(1,3)\n",
      "metadata": {
        "pycharm": {
          "metadata": false,
          "name": "#%%\n",
          "is_executing": false
        }
      }
    },
    {
      "cell_type": "markdown",
      "source": "분수의 정의에서 우리는 음수의 분수가 음수의 분자와 양수의 분모를 가지고 있다고 가정했다.  \n6. In the definition of fractions we assumed that negative fractions have a negative numerator and a positive denominator.\n\n음수의 분모를 사용하는것이 관계연사자가 틀린 결과를 야기시킨다.  \nUsing a negative denominator would cause some of the relational operators to give incorrect results.\n\n일반적으로 이것은 필요없는 제한이다.   \nIn general, this is an unnecessary constraint.\n\n사용자가 음수의 분모를 생성자에 전달할 수 있도록 수정해라. 모든 연산자가 정상동작하도록.   \nModify the constructor to allow the user to pass a negative denominator so that all of the operators continue to work properly.\n",
      "metadata": {
        "pycharm": {
          "metadata": false,
          "name": "#%% md\n"
        }
      }
    },
    {
      "cell_type": "code",
      "execution_count": null,
      "outputs": [],
      "source": "class Fraction():\n    def __init__(self, top, bottom):\n        gcd_val \u003d self.gcd(top, bottom)\n        print(\"gcd_val is %s\" % gcd_val)\n        self.num \u003d int(top / gcd_val)\n        self.den \u003d int(bottom / gcd_val)\n        \n        if self.den \u003c 0:\n            self.num \u003d self.num * -1\n            self.den \u003d self.den * -1\n            \n        print(\"reduce fraction : {}/{}\".format(self.num, self.den))\n\n    def gcd(self, num, den):\n        if num \u003c den:\n            num, den \u003d den, num\n        while den !\u003d 0:\n            num, den \u003d den, num % den\n        return num\n    \n    def __add__(self,other):\n         newnum \u003d self.num*other.den + self.den*other.num\n         newden \u003d self.den * other.den\n         common \u003d self.gcd(newnum, newden)\n         return Fraction(newnum/common,newden/common)\n    \n    def __sub__(self, other):\n        newnum \u003d self.num*other.den - self.den*other.num\n        newden \u003d self.den * other.den\n        common \u003d self.gcd(newnum, newden)\n        return Fraction(newnum/common,newden/common)\n    \n    def __mul__(self, other):\n        newnum \u003d self.num * other.num\n        newden \u003d self.den * other.den\n        common \u003d self.gcd(newnum, newden)\n        return Fraction(newnum/common,newden/common)        \n    \n    def __truediv__(self, other):\n        newnum \u003d self.num * other.den\n        newden \u003d self.den * other.num\n        common \u003d self.gcd(newnum, newden)\n        return Fraction(newnum/common,newden/common)\n    \n",
      "metadata": {
        "pycharm": {
          "metadata": false,
          "name": "#%%\n"
        }
      }
    },
    {
      "cell_type": "markdown",
      "source": "__radd__ 메소드에 대해 조사해라. 왜 그것이 __add__와 다른가? 언제 사용하는가? __radd__를 구현하라.    \n7. Research the __radd__ method. How does it differ from __add__? When is it used? Implement __radd__.\n",
      "metadata": {
        "pycharm": {
          "metadata": false,
          "name": "#%% md\n"
        }
      }
    },
    {
      "cell_type": "code",
      "execution_count": 23,
      "outputs": [
        {
          "name": "stdout",
          "text": [
            "8\n"
          ],
          "output_type": "stream"
        }
      ],
      "source": "class custom_num1():\n    def __init__(self, num):\n        self.num \u003d num\n    \n    def __add__(self,other):\n        return self.num + other\n    \n    def __radd__(self, other):\n        return self.num + other\n    \nprint(custom_num1(3) + 5)\nprint(5 + custom_num1(3))\n",
      "metadata": {
        "pycharm": {
          "metadata": false,
          "name": "#%%\n",
          "is_executing": false
        }
      }
    },
    {
      "cell_type": "code",
      "execution_count": 24,
      "outputs": [
        {
          "traceback": [
            "\u001b[0;31m---------------------------------------------------------------------------\u001b[0m",
            "\u001b[0;31mTypeError\u001b[0m                                 Traceback (most recent call last)",
            "\u001b[0;32m\u003cipython-input-24-8e9c303af9eb\u003e\u001b[0m in \u001b[0;36m\u003cmodule\u003e\u001b[0;34m\u001b[0m\n\u001b[1;32m      6\u001b[0m         \u001b[0;32mreturn\u001b[0m \u001b[0mself\u001b[0m\u001b[0;34m.\u001b[0m\u001b[0mnum\u001b[0m \u001b[0;34m+\u001b[0m \u001b[0mother\u001b[0m\u001b[0;34m\u001b[0m\u001b[0m\n\u001b[1;32m      7\u001b[0m \u001b[0;34m\u001b[0m\u001b[0m\n\u001b[0;32m----\u003e 8\u001b[0;31m \u001b[0md\u001b[0m \u001b[0;34m\u003d\u001b[0m \u001b[0;36m5\u001b[0m \u001b[0;34m+\u001b[0m \u001b[0mcustom_num1\u001b[0m\u001b[0;34m(\u001b[0m\u001b[0;36m3\u001b[0m\u001b[0;34m)\u001b[0m\u001b[0;34m\u001b[0m\u001b[0m\n\u001b[0m\u001b[1;32m      9\u001b[0m \u001b[0mprint\u001b[0m\u001b[0;34m(\u001b[0m\u001b[0md\u001b[0m\u001b[0;34m)\u001b[0m\u001b[0;34m\u001b[0m\u001b[0m\n\u001b[1;32m     10\u001b[0m \u001b[0;34m\u001b[0m\u001b[0m\n",
            "\u001b[0;31mTypeError\u001b[0m: unsupported operand type(s) for +: \u0027int\u0027 and \u0027custom_num1\u0027"
          ],
          "ename": "TypeError",
          "evalue": "unsupported operand type(s) for +: \u0027int\u0027 and \u0027custom_num1\u0027",
          "output_type": "error"
        }
      ],
      "source": "class custom_num1():\n    def __init__(self, num):\n        self.num \u003d num\n    \n    def __add__(self,other):\n        return self.num + other\n    \nprint(custom_num1(3) + 5)\nprint(5 + custom_num1(3))\n",
      "metadata": {
        "pycharm": {
          "metadata": false,
          "name": "#%%\n",
          "is_executing": false
        }
      }
    },
    {
      "cell_type": "markdown",
      "source": "참고  \nobject.__radd__(self, other)  \nobject.__rsub__(self, other)  \nobject.__rmul__(self, other)  \nobject.__rmatmul__(self, other)  \nobject.__rtruediv__(self, other)  \nobject.__rfloordiv__(self, other)  \nobject.__rmod__(self, other)  \nobject.__rdivmod__(self, other)  \nobject.__rpow__(self, other)  \nobject.__rlshift__(self, other)  \nobject.__rrshift__(self, other)  \nobject.__rand__(self, other)  \nobject.__rxor__(self, other)  \nobject.__ror__(self, other)  \n이 메서드들은 뒤집힌 피연산자들에 대해 이항 산술 연산들(+, -, *, @, /, //, %, divmod(), pow(), **, \u003c\u003c, \u003e\u003e, \u0026, ^, |)을 구현하기 위해 호출된다.  \n이 함수들은 왼쪽의 피연산자가 해당 연산을 지원하지 않고 [3], 피연산자들이 서로 다른 형일 때만 호출된다.  \n[4] 예를 들어, 표현식 x - y 의 값을 구하려고 할 때, y 가 __rsub__() 를 갖는 클래스의 인스턴스이고, x.__sub__(y) 가 NotImplemented 를 돌려주면 y.__rsub__(x) 가 호출된다.  \n",
      "metadata": {
        "pycharm": {
          "metadata": false,
          "name": "#%% md\n"
        }
      }
    },
    {
      "cell_type": "markdown",
      "source": "마지막 문제를 반복해라. 하지만 이번에는 __iadd__를 고려해라.  \n8. Repeat the last question but this time consider the __iadd__ method.\n",
      "metadata": {
        "pycharm": {
          "metadata": false,
          "name": "#%% md\n"
        }
      }
    },
    {
      "cell_type": "code",
      "execution_count": 28,
      "outputs": [
        {
          "name": "stdout",
          "text": [
            "8\n"
          ],
          "output_type": "stream"
        }
      ],
      "source": "class custom_num3():\n    def __init__(self, num):\n        self.num \u003d num\n    \n    def __add__(self,other):\n        return self.num + other\n    \n    def __radd__(self, other):\n        return self.num + other\n    \n    def __iadd__(self, other):\n        self.num +\u003d other.num\n        return self\n    \na \u003d custom_num3(3)\na +\u003d custom_num3(5)\nprint(a.num)",
      "metadata": {
        "pycharm": {
          "metadata": false,
          "name": "#%%\n",
          "is_executing": false
        }
      }
    }
  ],
  "metadata": {
    "language_info": {
      "codemirror_mode": {
        "name": "ipython",
        "version": 2
      },
      "file_extension": ".py",
      "mimetype": "text/x-python",
      "name": "python",
      "nbconvert_exporter": "python",
      "pygments_lexer": "ipython2",
      "version": "2.7.6"
    },
    "kernelspec": {
      "name": "python3",
      "language": "python",
      "display_name": "Python 3"
    }
  },
  "nbformat": 4,
  "nbformat_minor": 0
}