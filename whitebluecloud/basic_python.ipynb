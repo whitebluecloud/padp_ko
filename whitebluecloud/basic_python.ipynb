{
  "cells": [
    {
      "cell_type": "markdown",
      "metadata": {
        "collapsed": true,
        "pycharm": {
          "name": "#%% md\n"
        }
      },
      "source": "1.7. 파이썬의 기본\n\n이 섹션에서는 우리는 프로그래밍언어 파이썬을 리뷰하고 이전 섹션의 아이디어의 예제를 상세히 다룬다. 만약 당신이 파이썬이 처음이거나 더 주제를 나타내는데 필요한 정보가 있다면 추천한다. 당신이 파이썬 레퍼런스나 파이썬 튜토리얼같은 자료를 consult할 것을. 우리의 목표는 당신이 언어나 reacuaint 하는 것이다. 몇몇 컨셉을 reinforce하는 것이 더 뒤의 탭터에 모여있을거라고. \nIn this section, we will review the programming language Python and also provide some more detailed examples of the ideas from the previous section. If you are new to Python or find that you need more information about any of the topics presented, we recommend that you consult a resource such as the Python Language Reference or a Python Tutorial. Our goal here is to reacquaint you with the language and also reinforce some of the concepts that will be central to later chapters.\n\n파이썬은 모던하고, 배우기 쉽고, 객체지향언어이다. build-in된 파워풀한 데이터타입이 있고 구현하기 쉽다. 파이썬은 인터프리터언어이고 쉽게 리뷰된다. 간단히 보도. 그리고 상호작용의 세션이 있다. 당신은 인터프리터를 사용하는데 친숙할 필요가 있다.\nPython is a modern, easy-to-learn, object-oriented programming language. It has a powerful set of built-in data types and easy-to-use control constructs. Since Python is an interpreted language, it is most easily reviewed by simply looking at and describing interactive sessions. You should recall that the interpreter displays the familiar \u003e\u003e\u003e prompt and then evaluates the Python construct that you provide. For example,"
    },
    {
      "cell_type": "code",
      "execution_count": 2,
      "outputs": [
        {
          "name": "stdout",
          "text": [
            "Algorithms and Data Structures\n"
          ],
          "output_type": "stream"
        }
      ],
      "source": "print(\"Algorithms and Data Structures\")",
      "metadata": {
        "pycharm": {
          "metadata": false,
          "name": "#%%\n",
          "is_executing": false
        }
      }
    },
    {
      "cell_type": "markdown",
      "source": "print function을 통해 결과를 프롬프트에 노출하고 다음 프롬프트로 넘어간다.\nshows the prompt, the print function, the result, and the next prompt.",
      "metadata": {
        "pycharm": {
          "metadata": false,
          "name": "#%% md\n"
        }
      }
    }
  ],
  "metadata": {
    "language_info": {
      "codemirror_mode": {
        "name": "ipython",
        "version": 2
      },
      "file_extension": ".py",
      "mimetype": "text/x-python",
      "name": "python",
      "nbconvert_exporter": "python",
      "pygments_lexer": "ipython2",
      "version": "2.7.6"
    },
    "kernelspec": {
      "name": "python3",
      "language": "python",
      "display_name": "Python 3"
    }
  },
  "nbformat": 4,
  "nbformat_minor": 0
}