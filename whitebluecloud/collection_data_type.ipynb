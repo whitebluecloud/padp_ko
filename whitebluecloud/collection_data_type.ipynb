{
  "cells": [
    {
      "cell_type": "markdown",
      "metadata": {
        "collapsed": true,
        "pycharm": {
          "name": "#%% md\n"
        }
      },
      "source": "1.8.2. 내장된 컬렉션 데이터 타입\n\u003d\u003d\n\nnumeric과 boolean타입에 더하여, 파이썬은 다양한 파워풀한 내장된 컬렉션 클래스를 가지고 있다.\nIn addition to the numeric and boolean classes, Python has a number of very powerful built-in collection classes.\n\nLists, strings, and tuples은 정렬된 컬렉션이다. 매우 유사한. 일반적인 구조에서. 하지만 상세한 차이가 있다. 적절하게 그들을 사용하기 위해 이해해야만하는.\nLists, strings, and tuples are ordered collections that are very similar in general structure but have specific differences that must be understood for them to be used properly.\n\nSets와 dictionaries는 정렬되지않은 컬렉션이다. \nSets and dictionaries are unordered collections.\n\n0이나 파이썬 객체를 참조하는 정렬된 리스트가 있다.\nA list is an ordered collection of zero or more references to Python data objects.\n\n리스트는 comma로 구분되어진 값이 대괄호로 감싸여져 있다. \nLists are written as comma-delimited values enclosed in square brackets.\n \n빈 리스트는 단순히 [] 이다. 리스트는 heterogeneous다. 어떤의미냐면 데이터객체는 필요하지 않다. 같은 클래스로부터. 그리고 컬렉션은 변수에 할당될 수 있다.\nThe empty list is simply [ ]. Lists are heterogeneous, meaning that the data objects need not all be from the same class and the collection can be assigned to a variable as below.\n\n아래의 fragment는 리스트에 있어서 파이썬 데이터의 다양성을 보여준다. \nThe following fragment shows a variety of Python data objects in a list.\n"
    },
    {
      "cell_type": "code",
      "execution_count": 2,
      "outputs": [
        {
          "data": {
            "text/plain": "[1, 3, True, 6.5]"
          },
          "metadata": {},
          "output_type": "execute_result",
          "execution_count": 2
        }
      ],
      "source": "[1,3,True,6.5]\n",
      "metadata": {
        "pycharm": {
          "metadata": false,
          "name": "#%%\n",
          "is_executing": false
        }
      }
    },
    {
      "cell_type": "code",
      "execution_count": 3,
      "outputs": [
        {
          "name": "stdout",
          "text": [
            "[1, 3, True, 6.5]\n"
          ],
          "output_type": "stream"
        }
      ],
      "source": "myList \u003d [1,3,True,6.5]\nprint(myList)\n",
      "metadata": {
        "pycharm": {
          "metadata": false,
          "name": "#%%\n",
          "is_executing": false
        }
      }
    },
    {
      "cell_type": "markdown",
      "source": "\n파이썬이 리스트, 자신 자체를 리턴할때를 기억해라.  \nNote that when Python evaluates a list, the list itself is returned.\n\n그러나, 그 후의 과정을 기억하기위해, 그것의 참조는 변수에 할당될 필요가 있다.  \nHowever, in order to remember the list for later processing, its reference needs to be assigned to a variable.\n\n리스트가 시퀀스한 순서로 고려된 후로, 그들은 다양한 명령어들을 돕는다. 파이썬 sequence에 적용될 수 있도록. 테이블2는 이 명령어들과 그들의 사용법을 검토하고, 그것들의 사용예제를 제공하는 세션을 보여준다.   \nSince lists are considered to be sequentially ordered, they support a number of operations that can be applied to any Python sequence. Table 2 reviews these operations and the following session gives examples of their use.\n\n명령어|연산자|설명\n----|----|----\n색인|[]|일련의 원소에 접근\nconcat|+|시퀀스를 합성\n반복|*|횟수만큼 반복해서 이어붙인다.\nmembership|in|데이터가 sequence에 속해있는지\nlength|len|sequence에 속한 데이터의 갯수\nslicing|[:]|sequence의 부분 추출\n\n기억하라. 리스트(sequence)의 지수가 0으로 시작한다는 것을. slice 명령어, myList[1:3], 은 리턴한다. 1부터 색인된 item으로 시작하는 데이터를. 3에 의해 색인된 데이터는 포함하지 않고.\nNote that the indices for lists (sequences) start counting with 0. The slice operation, myList[1:3], returns a list of items starting with the item indexed by 1 up to but not including the item indexed by 3.\n\n때때로, 당신은 리스트 초기화를 원할것이다. 이 것은 빠르게 repetition을 통해 얻을 수 있다. 예를 들어,\nSometimes, you will want to initialize a list. This can quickly be accomplished by using repetition. For example,\n",
      "metadata": {
        "pycharm": {
          "metadata": false,
          "name": "#%% md\n"
        }
      }
    },
    {
      "cell_type": "code",
      "execution_count": 4,
      "outputs": [
        {
          "name": "stdout",
          "text": [
            "[0, 0, 0, 0, 0, 0]\n"
          ],
          "output_type": "stream"
        }
      ],
      "source": "myList \u003d [0] * 6\nprint(myList)\n",
      "metadata": {
        "pycharm": {
          "metadata": false,
          "name": "#%%\n",
          "is_executing": false
        }
      }
    },
    {
      "cell_type": "markdown",
      "source": "반복연산자와 관련된 중요한 부분은 결과다. sequence에 있어서 데이터객체를 참조의 반복의.\nOne very important aside relating to the repetition operator is that the result is a repetition of references to the data objects in the sequence.\n \n이것을 최선으로 보여줄 수 있는 다음 세션이 있다.\nThis can best be seen by considering the following session:\n",
      "metadata": {
        "pycharm": {
          "metadata": false,
          "name": "#%% md\n"
        }
      }
    },
    {
      "cell_type": "code",
      "execution_count": 5,
      "outputs": [
        {
          "name": "stdout",
          "text": [
            "[[1, 2, 3, 4], [1, 2, 3, 4], [1, 2, 3, 4]]\n[[1, 2, 45, 4], [1, 2, 45, 4], [1, 2, 45, 4]]\n"
          ],
          "output_type": "stream"
        }
      ],
      "source": "myList \u003d [1,2,3,4]\nA \u003d [myList]*3\nprint(A)\nmyList[2]\u003d45\nprint(A)\n",
      "metadata": {
        "pycharm": {
          "metadata": false,
          "name": "#%%\n",
          "is_executing": false
        }
      }
    },
    {
      "cell_type": "markdown",
      "source": "변수 A는 myList라고 불리는 본래의 리스트를 세번 참조하고 있다. 알아둬라. 리스트의 한원소의 변화는 모든 A라는 변수에서 발생한다.\nThe variable A holds a collection of three references to the original list called myList. Note that a change to one element of myList shows up in all three occurrences in A.\n\n리스트는 다양한 방법을 지원한다. 데이터구조를 만드는데. 테이블3은 요약을 제공한다. 그들의 사용 예제를.\nLists support a number of methods that will be used to build data structures. Table 3 provides a summary. Examples of their use follow.\n\n함수명|사용법|설명\nappend|alist.append(item)|새로운 아이템을 리스트의 끝에 추가\ninsert|alist.insert(i,item)|i번째 자리에 아이템을 추가\npop|alist.pop()|리스트의 마지막을 제거하고 리턴한다.\npop|alist.pop(i)|리스트의 i번째 아이템을 제거하고 리턴한다.\nsort|alist.sort()|리스트를 정렬하여 리턴한다.\nreverse|alist.reverse()|리스트를 역정렬한다.\ndel|del alist[i]|i번째 아이템을 삭제한다.\nindex|alist.index(item)|아이템이 리스트에서 첫번째로 나오는 index를 리턴한다.\ncount|alist.count(item)|아이템이 리스트에서 나오는 갯수를 리턴한다.\nremove|alist.remove(item)|리스트에서 첫번째로 나오는 아이템을 삭제한다.\n",
      "metadata": {
        "pycharm": {
          "metadata": false,
          "name": "#%% md\n"
        }
      }
    },
    {
      "cell_type": "code",
      "execution_count": 6,
      "outputs": [
        {
          "name": "stdout",
          "text": [
            "[1024, 3, True, 6.5, False]\n[1024, 3, 4.5, True, 6.5, False]\nFalse\n[1024, 3, 4.5, True, 6.5]\n3\n[1024, 4.5, True, 6.5]\n[1024, 4.5, 6.5]\n[4.5, 6.5, 1024]\n[1024, 6.5, 4.5]\n1\n2\n[1024, 4.5]\n[4.5]\n"
          ],
          "output_type": "stream"
        }
      ],
      "source": "myList \u003d [1024, 3, True, 6.5]\nmyList.append(False)\nprint(myList)\nmyList.insert(2,4.5)\nprint(myList)\nprint(myList.pop())\nprint(myList)\nprint(myList.pop(1))\nprint(myList)\nmyList.pop(2)\nprint(myList)\nmyList.sort()\nprint(myList)\nmyList.reverse()\nprint(myList)\nprint(myList.count(6.5))\nprint(myList.index(4.5))\nmyList.remove(6.5)\nprint(myList)\ndel myList[0]\nprint(myList)\n",
      "metadata": {
        "pycharm": {
          "metadata": false,
          "name": "#%%\n",
          "is_executing": false
        }
      }
    },
    {
      "cell_type": "markdown",
      "source": "\n당신은 몇가지 방법을 볼 수 있다. pop과 같은, 값을 리턴하고 리스트를 수정할 수 있는.  \nYou can see that some of the methods, such as pop, return a value and also modify the list.\n\n다른것들, reverse와 같은, 단순히 리스트를 수정하고 값을 리턴하지 않는.  \nOthers, such as reverse, simply modify the list with no return value.\n\npop은 기본적으로 리스트의 끝을 리턴할뿐 아니라 특정한 아이템을 제거하고 리턴할 수 있다.  \npop will default to the end of the list but can also remove and return a specific item.\n\nindex 범위는 0부터시작하고 이 메소드들에 재사용된다.  \nThe index range starting from 0 is again used for these methods.\n\n당신은 역시 알아야한다. \".\"이 객체에 invoke메소드를 요청한다는 것을.  \nYou should also notice the familiar “dot” notation for asking an object to invoke a method.\n\nmyList.append(False)는 읽힐 수 있다. \"객체 myList에 append 메소드를 수행하고 그것의 값을 False로 보내도록 요청한다.\" integer와 같은 단순한 데이터객체조차도 이 방법으로 invoke 할 수 있다.  \nmyList.append(False) can be read as “ask the object myList to perform its append method and send it the value False.” Even simple data objects such as integers can invoke methods in this way.\n",
      "metadata": {
        "pycharm": {
          "metadata": false,
          "name": "#%% md\n"
        }
      }
    },
    {
      "cell_type": "code",
      "execution_count": 7,
      "outputs": [
        {
          "data": {
            "text/plain": "75"
          },
          "metadata": {},
          "output_type": "execute_result",
          "execution_count": 7
        }
      ],
      "source": "(54).__add__(21)\n",
      "metadata": {
        "pycharm": {
          "metadata": false,
          "name": "#%%\n",
          "is_executing": false
        }
      }
    },
    {
      "cell_type": "markdown",
      "source": "\n이 조각에서, 우리는 integer객체 54가 그것의 add 메소드를 실행하고(파이썬에서 __add__라고 불리우는) 더할 값으로 21을 넘기도록 요청한다.    \nIn this fragment we are asking the integer object 54 to execute its add method (called __add__ in Python) and passing it 21 as the value to add.\n \n그 결과는 75로 합해진다. 물론, 우리는 54 + 21 이라고 쓴다.    \nThe result is the sum, 75. Of course, we usually write this as 54+21.\n\n우리는 이 섹션 이후로 이 메소드들을 더욱 더 언급할 것이다.  \nWe will say much more about these methods later in this section.\n\n흔한 파이썬 함수는 종종 논의된다. range함수의 list conjunction 으로.  \nOne common Python function that is often discussed in conjunction with lists is the range function.\n \nrange는 값의 시퀀스를 나타내는 range객체를 만든다.  \nrange produces a range object that represents a sequence of values.\n \nlist 함수에 의해, 리스트로써 range 객체의 값은 보여질 수 있다.  \nBy using the list function, it is possible to see the value of the range object as a list.\n\n이것은 아래로 설명된다.  \nThis is illustrated below.\n",
      "metadata": {
        "pycharm": {
          "metadata": false,
          "name": "#%% md\n"
        }
      }
    },
    {
      "cell_type": "code",
      "execution_count": 8,
      "outputs": [
        {
          "name": "stdout",
          "text": [
            "range(0, 10)\n[0, 1, 2, 3, 4, 5, 6, 7, 8, 9]\nrange(5, 10)\n[5, 6, 7, 8, 9]\n[5, 7, 9]\n[10, 9, 8, 7, 6, 5, 4, 3, 2]\n"
          ],
          "output_type": "stream"
        }
      ],
      "source": "range(10)\nprint(range(0,10))\nlist(range(10))\nprint(list(range(10)))\nrange(5,10)\nprint(range(5,10))\nlist(range(5,10))\nprint(list(range(5,10)))\nlist(range(5,10,2))\nprint(list(range(5,10,2)))\nlist(range(10,1,-1))\nprint(list(range(10,1,-1)))\n",
      "metadata": {
        "pycharm": {
          "metadata": false,
          "name": "#%%\n",
          "is_executing": false
        }
      }
    },
    {
      "cell_type": "markdown",
      "source": "\nrange 객체는 integer 시퀀스로 표현된다.   \nThe range object represents a sequence of integers.\n\n기본적으로, 그것은 0으로 시작한다.  \nBy default, it will start with 0.\n \n만약 당신이 더 파라미터를 만들면, 그것은 시작할 것이고, 특별한 포인트로 끝나고 아이템을 skip할 수 있다.   \nIf you provide more parameters, it will start and end at particular points and can even skip items.\n \n당신의 첫번째 예제로, range(10)은, 0으로 시작해서 10은 포함하지않는 시퀀스이다.  \nIn our first example, range(10), the sequence starts with 0 and goes up to but does not include 10.\n\n두번째 예제, range(5,10)은 5에서 시작해서 10은 포함하지 않는다.  \nIn our second example, range(5,10) starts at 5 and goes up to but not including 10.\n \nrnage(5,10,2)는 비슷하게 수행된다. 그러나, 2씩 넘어간다.(똑같이, 10은 포함하지 않고)\nrange(5,10,2) performs similarly but skips by twos (again, 10 is not included).\n\n문자열은 없거나 더 많은 문자 숫자와 다른 특수문자의 시퀀스한 컬렉션이다.\nStrings are sequential collections of zero or more letters, numbers and other symbols.\n \n우리는 부른다. 이 문자, 숫자, 특수문자들을.\nWe call these letters, numbers and other symbols characters.\n\nliteral string은 식별자로부터 \u0027나 \"로 구별될 수 있다.  \nLiteral string values are differentiated from identifiers by using quotation marks (either single or double).\n",
      "metadata": {
        "pycharm": {
          "metadata": false,
          "name": "#%% md\n"
        }
      }
    },
    {
      "cell_type": "code",
      "execution_count": 11,
      "outputs": [
        {
          "name": "stdout",
          "text": [
            "David\ni\nDavidDavid\n5\n"
          ],
          "output_type": "stream"
        }
      ],
      "source": "\"David\"\nprint(\"David\")\nmyName \u003d \"David\"\nmyName[3]\nprint(myName[3])\nmyName*2\nprint(myName*2)\nlen(myName)\nprint(len(myName))\n",
      "metadata": {
        "pycharm": {
          "metadata": false,
          "name": "#%%\n",
          "is_executing": false
        }
      }
    },
    {
      "cell_type": "markdown",
      "source": "\n문자열이 시퀀스한 후로, 모든 시퀀스한 명령어는 당신이 예상한 일에 더해 묘사된다.\nSince strings are sequences, all of the sequence operations described above work as you would expect.\n\n게다가, strings은 다양한 메소드를 가지고 있다. Table4에 보이는. 예를 들어,\nIn addition, strings have a number of methods, some of which are shown in Table 4. For example,\n",
      "metadata": {
        "pycharm": {
          "metadata": false,
          "name": "#%% md\n"
        }
      }
    },
    {
      "cell_type": "code",
      "execution_count": 12,
      "outputs": [
        {
          "name": "stdout",
          "text": [
            "David\nDAVID\n  David   \n2\n[\u0027Da\u0027, \u0027id\u0027]\n"
          ],
          "output_type": "stream"
        }
      ],
      "source": "myName \u003d \"David\"\nprint(myName)\nmyName.upper()\nprint(myName.upper())\nmyName.center(10)\nprint(myName.center(10))\nmyName.find(\u0027v\u0027)\nprint(myName.find(\u0027v\u0027))\nmyName.split(\u0027v\u0027)\nprint(myName.split(\u0027v\u0027))\n",
      "metadata": {
        "pycharm": {
          "metadata": false,
          "name": "#%% \n",
          "is_executing": false
        }
      }
    },
    {
      "cell_type": "markdown",
      "source": "\n이와 같이, split은 데이터를 처리하는데 매우 유용하다.\nOf these, split will be very useful for processing data.\n \nsplit은 문자열을 이용할 수 있고 리턴할 수 있다. 문자열 리스트를 구분점으로 split문자를 사용하여.\nsplit will take a string and return a list of strings using the split character as a division point.\n \n예를 들어, v는 구분점이다.\nIn the example, v is the division point.\n\n만약 구분점이 명시되지않으면, split 메소드는 탭이나 개행, 스페이스와 같은 빈문자열로 판단한다.\nIf no division is specified, the split method looks for whitespace characters such as tab, newline and space.\n",
      "metadata": {
        "pycharm": {
          "metadata": false,
          "name": "#%% md\n"
        }
      }
    },
    {
      "cell_type": "code",
      "execution_count": 13,
      "outputs": [
        {
          "name": "stdout",
          "text": [
            "[1024, 3, True, 6.5]\n"
          ],
          "output_type": "stream"
        },
        {
          "traceback": [
            "\u001b[0;31m---------------------------------------------------------------------------\u001b[0m",
            "\u001b[0;31mTypeError\u001b[0m                                 Traceback (most recent call last)",
            "\u001b[0;32m\u003cipython-input-13-ac7939fb539a\u003e\u001b[0m in \u001b[0;36m\u003cmodule\u003e\u001b[0;34m\u001b[0m\n\u001b[1;32m      3\u001b[0m \u001b[0mprint\u001b[0m\u001b[0;34m(\u001b[0m\u001b[0mmyList\u001b[0m\u001b[0;34m)\u001b[0m\u001b[0;34m\u001b[0m\u001b[0m\n\u001b[1;32m      4\u001b[0m \u001b[0mmyName\u001b[0m \u001b[0;34m\u003d\u001b[0m \u001b[0;34m\"David\"\u001b[0m\u001b[0;34m\u001b[0m\u001b[0m\n\u001b[0;32m----\u003e 5\u001b[0;31m \u001b[0mmyName\u001b[0m\u001b[0;34m[\u001b[0m\u001b[0;36m0\u001b[0m\u001b[0;34m]\u001b[0m\u001b[0;34m\u003d\u001b[0m\u001b[0;34m\u0027X\u0027\u001b[0m\u001b[0;34m\u001b[0m\u001b[0m\n\u001b[0m\u001b[1;32m      6\u001b[0m \u001b[0;34m\u001b[0m\u001b[0m\n\u001b[1;32m      7\u001b[0m \u001b[0;34m\u001b[0m\u001b[0m\n",
            "\u001b[0;31mTypeError\u001b[0m: \u0027str\u0027 object does not support item assignment"
          ],
          "ename": "TypeError",
          "evalue": "\u0027str\u0027 object does not support item assignment",
          "output_type": "error"
        }
      ],
      "source": "myList \u003d [1, 3, True, 6.5]\nmyList[0] \u003d 2**10\nprint(myList)\nmyName \u003d \"David\"\nmyName[0]\u003d\u0027X\u0027\n",
      "metadata": {
        "pycharm": {
          "metadata": false,
          "name": "#%%\n",
          "is_executing": false
        }
      }
    },
    {
      "cell_type": "markdown",
      "source": "\n튜플은 리스트와 매우 유사하다. heterogeneous 시퀀스데이터에서.\nTuples are very similar to lists in that they are heterogeneous sequences of data.\n\n차이점은 튜플은 불변이고, 문자열처럼.\nThe difference is that a tuple is immutable, like a string.\n\n튜플은 바꿀 수 없다.\nA tuple cannot be changed.\n\n튜플은 쓰여진다. 문맥에 포함된 comma단위의 값으로.\nTuples are written as comma-delimited values enclosed in parentheses.\n \n시퀀스에서, 그들은 어떠한 명령어 추가로 사용될 수 있다. \nAs sequences, they can use any operation described above. \n\n예를 들어,\nFor example,\n",
      "metadata": {
        "pycharm": {
          "metadata": false,
          "name": "#%% md\n"
        }
      }
    },
    {
      "cell_type": "code",
      "execution_count": 14,
      "outputs": [
        {
          "name": "stdout",
          "text": [
            "(2, True, 4, 96)\n4\n2\n(2, True, 4, 96, 2, True, 4, 96, 2, True, 4, 96)\n(2, True)\n"
          ],
          "output_type": "stream"
        }
      ],
      "source": "myTuple \u003d (2,True,4,96)\nprint(myTuple)\nprint(len(myTuple))\nprint(myTuple[0])\nprint(myTuple*3)\nprint(myTuple[0:2])\n\n",
      "metadata": {
        "pycharm": {
          "metadata": false,
          "name": "#%%\n",
          "is_executing": false
        }
      }
    }
  ],
  "metadata": {
    "language_info": {
      "codemirror_mode": {
        "name": "ipython",
        "version": 2
      },
      "file_extension": ".py",
      "mimetype": "text/x-python",
      "name": "python",
      "nbconvert_exporter": "python",
      "pygments_lexer": "ipython2",
      "version": "2.7.6"
    },
    "kernelspec": {
      "name": "python3",
      "language": "python",
      "display_name": "Python 3"
    }
  },
  "nbformat": 4,
  "nbformat_minor": 0
}