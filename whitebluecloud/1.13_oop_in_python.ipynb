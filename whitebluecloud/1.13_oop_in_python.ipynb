{
  "cells": [
    {
      "cell_type": "markdown",
      "metadata": {
        "collapsed": true,
        "pycharm": {
          "name": "#%% md\n"
        }
      },
      "source": "1.13. 파이썬의 객체 지향 프로그래밍 : 클래스 정의\n\u003d\u003d\n\n우리는 일찍이 파이썬은 OOP언어라고 서술했다.  \nWe stated earlier that Python is an object-oriented programming language.\n\n지금까지, 우리는 내장된 클래스들을 사용했다. 데이터와 제어 구조의 예를 들기 위해.  \nSo far, we have used a number of built-in classes to show examples of data and control structures. \n\nOOP언어의 대부분의 파워풀한 피쳐중 하나는 프로그래머가 새로운 클래스를 만들 수 있게하는 것이다. 그 클래스는 문제를 풀기 위해 필요한 모델 데이터이다.  \nOne of the most powerful features in an object-oriented programming language is the ability to allow a programmer (problem solver) to create new classes that model data that is needed to solve the problem.\n\n우리가 상태와 같은 데이터객체가 논리적 상세를 제공하기 위해 추상 데이터 타입을 사용하는 것을 기억해라.  그리고 그것이 무엇을 할 수 있는지 (그것의 방법). \nRemember that we use abstract data types to provide the logical description of what a data object looks like (its state) and what it can do (its methods).\n\n추상 데이터 타입을 구현하기위해 클래스를 작성함으로써, 프로그래머는 추상화 과정의 장점을 얻을 수 있고 동시에 상세를 제공할 수 있다. 그 상세는 실제적으로 프로그램에서 추상화를 사용하는 것이다.  \nBy building a class that implements an abstract data type, a programmer can take advantage of the abstraction process and at the same time provide the details necessary to actually use the abstraction in a program.\n\n언제든 우리는 추상화 데이터 타입을 구현할 수 있길 원하고, 우리는 새로운 클래스를 만든 쓴다.   \nWhenever we want to implement an abstract data type, we will do so with a new class."
    }
  ],
  "metadata": {
    "language_info": {
      "codemirror_mode": {
        "name": "ipython",
        "version": 2
      },
      "file_extension": ".py",
      "mimetype": "text/x-python",
      "name": "python",
      "nbconvert_exporter": "python",
      "pygments_lexer": "ipython2",
      "version": "2.7.6"
    },
    "kernelspec": {
      "name": "python3",
      "language": "python",
      "display_name": "Python 3"
    }
  },
  "nbformat": 4,
  "nbformat_minor": 0
}