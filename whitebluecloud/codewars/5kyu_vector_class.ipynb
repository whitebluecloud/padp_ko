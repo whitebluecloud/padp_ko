{
  "cells": [
    {
      "cell_type": "code",
      "execution_count": 70,
      "metadata": {
        "collapsed": true,
        "pycharm": {
          "is_executing": false,
          "name": "#%%\n"
        }
      },
      "outputs": [
        {
          "name": "stdout",
          "text": [
            "11\na\n"
          ],
          "output_type": "stream"
        },
        {
          "data": {
            "text/plain": "\u003c__main__.Vector at 0x10636fc18\u003e"
          },
          "metadata": {},
          "output_type": "execute_result",
          "execution_count": 70
        }
      ],
      "source": "import math\n\ndef length_check(origin):\n    def wrapper(*args, **kwargs):\n        if len(args) !\u003d 2 or len(args[0]) !\u003d len(args[1]):\n            return False\n        return origin(*args, **kwargs)\n    return wrapper\n\nclass Vector:\n\n    def __init__(self, arr):\n        self.vt \u003d arr\n    \n    def __str__(self):\n        return str(tuple(self.vt)).replace(\u0027 \u0027, \u0027\u0027)\n    \n    def __len__(self):\n        return len(self.vt)\n    \n    @length_check\n    def add(self, p):\n        temp \u003d []\n        for i, v in enumerate(self.vt):\n            temp.append(v + p.vt[i])\n        return Vector(temp)\n    \n    @length_check\n    def subtract(self, p):\n        temp \u003d []\n        for i, v in enumerate(self.vt):\n            temp.append(v - p.vt[i])\n        return Vector(temp)\n            \n    @length_check\n    def dot(self, p):\n        temp \u003d []\n        for i, v in enumerate(self.vt):\n            temp.append(v * p.vt[i])\n        return sum(temp)\n        \n    @length_check\n    def equals(self, p):\n        for i, v in enumerate(self.vt):\n            if p.vt[i] !\u003d v :\n                return False\n        return True\n        \n    def norm(self):\n        temp \u003d 0\n        for i, v in enumerate(self.vt):\n            temp +\u003d v*v\n        return math.sqrt(temp)"
    }
  ],
  "metadata": {
    "language_info": {
      "codemirror_mode": {
        "name": "ipython",
        "version": 2
      },
      "file_extension": ".py",
      "mimetype": "text/x-python",
      "name": "python",
      "nbconvert_exporter": "python",
      "pygments_lexer": "ipython2",
      "version": "2.7.6"
    },
    "kernelspec": {
      "name": "python3",
      "language": "python",
      "display_name": "Python 3"
    },
    "stem_cell": {
      "cell_type": "raw",
      "source": "",
      "metadata": {
        "pycharm": {
          "metadata": false
        }
      }
    }
  },
  "nbformat": 4,
  "nbformat_minor": 0
}