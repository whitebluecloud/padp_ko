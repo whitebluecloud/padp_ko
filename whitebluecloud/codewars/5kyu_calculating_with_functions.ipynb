{
  "cells": [
    {
      "cell_type": "code",
      "execution_count": 34,
      "metadata": {
        "collapsed": true,
        "pycharm": {
          "is_executing": false
        }
      },
      "outputs": [],
      "source": "def zero(p\u003dNone): #your code here\n    return 0 if p is None else p(0)    \ndef one(p\u003dNone): #your code here\n    return 1 if p is None else p(1)    \ndef two(p\u003dNone): #your code here\n    return 2 if p is None else p(2)    \ndef three(p\u003dNone): #your code here\n    return 3 if p is None else p(3)    \ndef four(p\u003dNone): #your code here\n    return 4 if p is None else p(4)    \ndef five(p\u003dNone): #your code here\n    return 5 if p is None else p(5)    \ndef six(p\u003dNone): #your code here\n    return 6 if p is None else p(6)    \ndef seven(p\u003dNone): #your code here\n    return 7 if p is None else p(7)    \ndef eight(p\u003dNone): #your code here\n    return 8 if p is None else p(8)    \ndef nine(p\u003dNone): #your code here\n    return 9 if p is None else p(9)\ndef plus(p): #your code here\n    return lambda x : x + p\ndef minus(p): #your code here\n    return lambda x : x - p\ndef times(p): #your code here\n    return lambda x : x * p\ndef divided_by(p): #your code here\n    return lambda x : x / p\n\n"
    },
    {
      "cell_type": "code",
      "execution_count": 35,
      "outputs": [
        {
          "data": {
            "text/plain": "18"
          },
          "metadata": {},
          "output_type": "execute_result",
          "execution_count": 35
        }
      ],
      "source": "nine(plus(nine()))\n\n\n\n\n",
      "metadata": {
        "pycharm": {
          "metadata": false,
          "name": "#%%\n",
          "is_executing": false
        }
      }
    }
  ],
  "metadata": {
    "language_info": {
      "codemirror_mode": {
        "name": "ipython",
        "version": 2
      },
      "file_extension": ".py",
      "mimetype": "text/x-python",
      "name": "python",
      "nbconvert_exporter": "python",
      "pygments_lexer": "ipython2",
      "version": "2.7.6"
    },
    "kernelspec": {
      "name": "python3",
      "language": "python",
      "display_name": "Python 3"
    }
  },
  "nbformat": 4,
  "nbformat_minor": 0
}