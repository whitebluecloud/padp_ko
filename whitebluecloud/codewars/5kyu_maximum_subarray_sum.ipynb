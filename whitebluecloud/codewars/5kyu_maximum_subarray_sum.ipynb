{
 "cells": [
  {
   "cell_type": "code",
   "execution_count": 1,
   "metadata": {
    "collapsed": true,
    "pycharm": {
     "is_executing": false
    }
   },
   "outputs": [],
   "source": [
    "def maxSequence(arr):\n",
    "    length = len(arr)\n",
    "    \n",
    "    if length == 0:\n",
    "        return 0\n",
    "        \n",
    "    max_sum = arr[0] \n",
    "    temp_sum = 0\n",
    "    \n",
    "    for i in range(0, length):\n",
    "        temp_sum = temp_sum + arr[i]\n",
    "        \n",
    "        if temp_sum < 0:\n",
    "            temp_sum = 0\n",
    "        \n",
    "        if max_sum < temp_sum:\n",
    "            max_sum = temp_sum\n",
    "    return max_sum"
   ]
  }
 ],
 "metadata": {
  "kernelspec": {
   "display_name": "Python 3",
   "language": "python",
   "name": "python3"
  },
  "language_info": {
   "codemirror_mode": {
    "name": "ipython",
    "version": 3
   },
   "file_extension": ".py",
   "mimetype": "text/x-python",
   "name": "python",
   "nbconvert_exporter": "python",
   "pygments_lexer": "ipython3",
   "version": "3.7.3"
  }
 },
 "nbformat": 4,
 "nbformat_minor": 1
}
