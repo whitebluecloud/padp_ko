{
  "cells": [
    {
      "cell_type": "code",
      "execution_count": 1,
      "metadata": {
        "collapsed": true,
        "pycharm": {
          "is_executing": false
        }
      },
      "outputs": [],
      "source": "def maxSequence(arr):\n    length \u003d len(arr)\n    \n    if length \u003d\u003d 0:\n        return 0\n        \n    max_sum \u003d arr[0] \n    temp_sum \u003d 0\n    \n    for i in range(0, length):\n        temp_sum \u003d temp_sum + arr[i]\n        \n        if temp_sum \u003c 0:\n            temp_sum \u003d 0\n        \n        if max_sum \u003c temp_sum:\n            max_sum \u003d temp_sum\n    return max_sum"
    }
  ],
  "metadata": {
    "language_info": {
      "codemirror_mode": {
        "name": "ipython",
        "version": 2
      },
      "file_extension": ".py",
      "mimetype": "text/x-python",
      "name": "python",
      "nbconvert_exporter": "python",
      "pygments_lexer": "ipython2",
      "version": "2.7.6"
    },
    "kernelspec": {
      "name": "python3",
      "language": "python",
      "display_name": "Python 3"
    }
  },
  "nbformat": 4,
  "nbformat_minor": 0
}