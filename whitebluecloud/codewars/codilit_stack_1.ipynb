{
  "cells": [],
  "metadata": {
    "language_info": {
      "codemirror_mode": {
        "name": "ipython",
        "version": 2
      },
      "file_extension": ".py",
      "mimetype": "text/x-python",
      "name": "python",
      "nbconvert_exporter": "python",
      "pygments_lexer": "ipython2",
      "version": "2.7.6"
    },
    "kernelspec": {
      "name": "python3",
      "language": "python",
      "display_name": "Python 3"
    },
    "stem_cell": {
      "cell_type": "raw",
      "source": "# you can write to stdout for debugging purposes, e.g.\n# print(\"this is a debug message\")\ndef solution(S):\n    \n    s_len \u003d len(S)\n    \n    if s_len \u003d\u003d 0:\n        return 1\n    if s_len % 2 !\u003d 0 or S[0] not in \u0027{([\u0027:\n        return 0\n    \n    m \u003d {\n         \u0027{\u0027:\u0027}\u0027\n        ,\u0027}\u0027:\u0027{\u0027\n        ,\u0027[\u0027:\u0027]\u0027\n        ,\u0027]\u0027:\u0027[\u0027\n        ,\u0027(\u0027:\u0027)\u0027\n        ,\u0027)\u0027:\u0027(\u0027\n        }\n    stack \u003d []\n    result \u003d 1\n    \n    for s in S:\n        if s in \u0027{([\u0027:\n            stack.append(s)\n        else:\n            if len(stack) \u003d\u003d 0 or s !\u003d m[stack.pop()]:\n                result \u003d 0\n                break\n    \n    if len(stack) !\u003d 0:\n        return 0\n    \n    return result",
      "metadata": {
        "pycharm": {
          "metadata": false
        }
      }
    }
  },
  "nbformat": 4,
  "nbformat_minor": 0
}