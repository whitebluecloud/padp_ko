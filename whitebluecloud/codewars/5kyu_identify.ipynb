{
  "cells": [
    {
      "cell_type": "code",
      "execution_count": null,
      "metadata": {
        "collapsed": true,
        "pycharm": {}
      },
      "outputs": [],
      "source": "import operator\n\ndef id_best_users(*args):\n    min_person \u003d min(args, key\u003dlen)\n    purchase_dict \u003d dict((i,0) for i in min_person)\n    result \u003d []\n    for k, v in purchase_dict.items():        \n        for a in args:\n            if k in a:\n                purchase_dict[k] +\u003d a.count(k)\n            else:\n                purchase_dict[k] \u003d -1\n                break\n        print(result)\n        if purchase_dict[k] !\u003d -1:\n            flag \u003d False\n            for r in result:\n                if r[0] \u003d\u003d purchase_dict[k]:\n                    r[1].append(k)\n                    flag \u003d True\n            if flag \u003d\u003d False:\n                result.append([purchase_dict[k],[k]])\n    res \u003d sorted(result, key\u003doperator.itemgetter(0), reverse\u003dTrue)\n    for i in res:\n        i[1].sort()\n    return res\n\n"
    },
    {
      "cell_type": "code",
      "execution_count": null,
      "outputs": [],
      "source": "from collections import Counter\nfrom functools import reduce\n    \ndef id_best_users(*args):\n    users \u003d Counter(reduce(lambda x, y: x + y, args))\n    res \u003d {}\n    for x in reduce(lambda x, y: set(x) \u0026 set(y), args):\n        res[users[x]] \u003d res.get(users[x], []) + [x]\n    return [[x, sorted(res[x])] for x in sorted([x for x in res], reverse\u003dTrue)]",
      "metadata": {
        "pycharm": {
          "metadata": false,
          "name": "#%%\n"
        }
      }
    }
  ],
  "metadata": {
    "language_info": {
      "codemirror_mode": {
        "name": "ipython",
        "version": 2
      },
      "file_extension": ".py",
      "mimetype": "text/x-python",
      "name": "python",
      "nbconvert_exporter": "python",
      "pygments_lexer": "ipython2",
      "version": "2.7.6"
    },
    "kernelspec": {
      "name": "python3",
      "language": "python",
      "display_name": "Python 3"
    }
  },
  "nbformat": 4,
  "nbformat_minor": 0
}