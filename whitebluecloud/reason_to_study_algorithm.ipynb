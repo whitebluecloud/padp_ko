{
  "cells": [
    {
      "cell_type": "markdown",
      "metadata": {
        "collapsed": true,
        "pycharm": {
          "name": "#%% md\n"
        }
      },
      "source": "1.6 왜 알고리즘을 공부해야 하는가?\n\n컴퓨터과학자들은 경험을통해 배운다.  \nComputer scientists learn by experience.\n\n우리는 다른이들이 문제를 푼것을 보거나 우리가 스스로 문제를 풀며 공부한다.   \nWe learn by seeing others solve problems and by solving problems by ourselves.\n\n노출된 다양한 문제풀이기술과 어떻게 다른 알고리즘이 우리를 다음문제에 도전할 수 있게 도움을 줄 수 있도록 디자인됐는지. 우리가 다음번에 유사한 문제가 나왔을때 패턴을 인식해서 개발할 수 있다. 우리는 그것을 더 잘 풀 수 있다.  \nBeing exposed to different problem-solving techniques and seeing how different algorithms are designed helps us to take on the next challenging problem that we are given. By considering a number of different algorithms, we can begin to develop pattern recognition so that the next time a similar problem arises, we are better able to solve it.\n\n알고리즘은 다양하다. 전의 sqrt문제를 생각해보자. 전체적으로 가능하다. 다양한 방법으로 구현에 있어서. square root function 컴퓨팅의 상세에 대해.    \nAlgorithms are often quite different from one another. Consider the example of sqrt seen earlier. It is entirely possible that there are many different ways to implement the details to compute the square root function.\n\n첫번째 알고리즘은 아마도 더 나은자원을 사용한다. 그들은 둘다 동작한다. 하나가 다른하나보다 더 나을지라도. 우리는 더 나은 솔루션이나 빠르게 단단히 동작하거나, 메모리를 더 적게 사용하는. 우리가 알고리즘을 공부하면 우리는 기술을 분석할 수 있다. 비교와 대조를 통해 솔루션들을. solely 그들의 특성에 기반해, 프로그램의 특성이 아니라 컴퓨터가 그걸 어떻게 실행하는지.  \nOne algorithm may use many fewer resources than another. One algorithm might take 10 times as long to return the result as the other. We would like to have some way to compare these two solutions. Even though they both work, one is perhaps “better” than the other. We might suggest that one is more efficient or that one simply works faster or uses less memory. As we study algorithms, we can learn analysis techniques that allow us to compare and contrast solutions based solely on their own characteristics, not the characteristics of the program or computer used to implement them.\n\n최악의 경우, 우리는 intractable한 문제를 가진다. 실제로 많은 시간이 걸리는 문제를 풀 알고리즘이 없음을 의미한다. 구별하는것이 중요하다. 이 문제들이 갖고 있는 솔루션 사이에. 솔루션이 존재할뿐 아니라. 너무 많은 시간을 필요로 하거나 합리적인 다른지원이 없는 경우.\nIn the worst case scenario, we may have a problem that is intractable, meaning that there is no algorithm that can solve the problem in a realistic amount of time. It is important to be able to distinguish between those problems that have solutions, those that do not, and those where solutions exist but require too much time or other resources to work reasonably.\n\ntrade-off 될 수 있다. 우리가 인식하고 결정할 필요가 있는. 컴퓨터과학자들은 우리의 문제해결능력을 더해 우리는 역시 알 고 있고 이해하고있는 솔루션을 테크닉을 평가할 수 있는. 끝으로, 문제를 해결할 다양한 방법이 있다. 솔루션을 찾고, 좋은것인지 아닌지 우리가 반복해서 할 수 있는지.\nThere will often be trade-offs that we will need to identify and decide upon. As computer scientists, in addition to our ability to solve problems, we will also need to know and understand solution evaluation techniques. In the end, there are often many ways to solve a problem. Finding a solution and then deciding whether it is a good one are tasks that we will do over and over again."
    }
  ],
  "metadata": {
    "language_info": {
      "codemirror_mode": {
        "name": "ipython",
        "version": 2
      },
      "file_extension": ".py",
      "mimetype": "text/x-python",
      "name": "python",
      "nbconvert_exporter": "python",
      "pygments_lexer": "ipython2",
      "version": "2.7.6"
    },
    "kernelspec": {
      "name": "python3",
      "language": "python",
      "display_name": "Python 3"
    }
  },
  "nbformat": 4,
  "nbformat_minor": 0
}