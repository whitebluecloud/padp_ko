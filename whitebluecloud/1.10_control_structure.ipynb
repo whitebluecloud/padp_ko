{
  "cells": [
    {
      "cell_type": "markdown",
      "metadata": {
        "collapsed": true,
        "pycharm": {
          "name": "#%% md\n"
        }
      },
      "source": "1.10 제어 흐름\n\u003d\u003d\n일찍이 언급했듯이, 알고리즘은 두가지 중요한 제어 흐름이 필요하다: 반복과 선택.  \nAs we noted earlier, algorithms require two important control structures: iteration and selection.\n\n파이썬에서 이 두가지는 다양한 형태로 지원된다.  \nBoth of these are supported by Python in various forms.\n \n프로그래머는 주어진 환경을 위해 가장 유용한 구문을 선택할 수 있다.  \nThe programmer can choose the statement that is most useful for the given circumstance.\n\n반복의 경우, 파이썬은 표준인 while 구문과 매우 강력한 구문을 제공한다.   \nFor iteration, Python provides a standard while statement and a very powerful for statement.\n\nwhile 구문은 상태가 true인 동안 body를 반복한다.  \nThe while statement repeats a body of code as long as a condition is true.\n \n예를 들어,  \nFor example,\n"
    },
    {
      "cell_type": "code",
      "execution_count": 17,
      "outputs": [
        {
          "name": "stdout",
          "text": [
            "Hello, world\nHello, world\nHello, world\nHello, world\nHello, world\n"
          ],
          "output_type": "stream"
        }
      ],
      "source": "counter \u003d 1\nwhile counter \u003c\u003d 5:                                \n    print(\"Hello, world\")\n    counter \u003d counter + 1\n",
      "metadata": {
        "pycharm": {
          "metadata": false,
          "name": "#%% \n",
          "is_executing": false
        }
      }
    },
    {
      "cell_type": "markdown",
      "source": "Hello, world 를 5번 프린트한다.  \nprints out the phrase “Hello, world” five times.\n\nwhile 구문의 상태값이 각 반복의 시작에 평가된다.  \nThe condition on the while statement is evaluated at the start of each repetition.\n\n만약 상태값이 True이면, 구문의 본문은 실행될 것이다.  \nIf the condition is True, the body of the statement will execute.\n\n파이썬의 구조가 쉽다는 것을 알 수 있다. 구문이 mandatory identation 패턴. 언어가 강제하는.??\nIt is easy to see the structure of a Python while statement due to the mandatory indentation pattern that the language enforces.\n\nwhile 구문은 매우 일반적인 목적의 반복구조이다. 우리가 다양한 알고리즘을 사용하는.  \nThe while statement is a very general purpose iterative structure that we will use in a number of different algorithms.\n\n다양한 경우, compound 상태는 반복문을 조작할 수 있다. 다음과 같은  \nIn many cases, a compound condition will control the iteration. A fragment such as\n",
      "metadata": {
        "pycharm": {
          "metadata": false,
          "name": "#%% md\n"
        }
      }
    },
    {
      "cell_type": "code",
      "execution_count": null,
      "outputs": [],
      "source": "while counter \u003c\u003d 10 and not done:\n    ",
      "metadata": {
        "pycharm": {
          "metadata": false,
          "name": "#%%\n"
        }
      }
    },
    {
      "cell_type": "markdown",
      "source": "조각은 야기시킨다. 구문의 본문이 실행될 수 있게. 두 조건이 만족되었을때.\n-\u003e 다음과 같은 조각은 두 조건이 만족되었을때에만 구문의 본문이 실행되게 한다.  \nwould cause the body of the statement to be executed only in the case where both parts of the condition are satisfied.\n \n변수 counter의 값은 10보다 적거나 같고 변수 done의 값이 True and True가 True일 수 있게 False일 필요가 있다. (not False는 True 다)  \nThe value of the variable counter would need to be less than or equal to 10 and the value of the variable done would need to be False (not False is True) so that True and True results in True.\n\n이 타입의 구조가 넓고 다양한 환경에 매우 유용할지라도, 또 하나의 반복 구조, 구문을 위한, 는 conjunction 될 수 있다. 많은 파이썬 컬렉션으로.  \n-\u003e  \nEven though this type of construct is very useful in a wide variety of situations, another iterative structure, the for statement, can be used in conjunction with many of the Python collections.\n\n-\u003e for 구문은 컬렉션의 멤버를 넘어 반복될 수 있다. 컬렉션이 sequence인 만큼. 예를 들어,   \nThe for statement can be used to iterate over the members of a collection, so long as the collection is a sequence. So, for example,\n",
      "metadata": {
        "pycharm": {
          "metadata": false,
          "name": "#%% md\n"
        }
      }
    },
    {
      "cell_type": "code",
      "source": "for item in [1,3,6,2,5]:\n    print(item)\n    ",
      "metadata": {
        "pycharm": {
          "metadata": false,
          "name": "#%%\n",
          "is_executing": false
        }
      },
      "execution_count": 9,
      "outputs": [
        {
          "name": "stdout",
          "text": [
            "1\n3\n6\n2\n5\n"
          ],
          "output_type": "stream"
        }
      ]
    },
    {
      "cell_type": "markdown",
      "source": "변수를 리스트 [1,3,6,2,5]에 있는 각 scuccessive 값에 할당한다.   \nassigns the variable item to be each successive value in the list [1,3,6,2,5].\n \n반복문의 본문은 실행된다.   \nThe body of the iteration is then executed.\n \n이 작업은 sequence인(list, tuples, strings)인 어떠한 컬렉션에도 동작한다.   \nThis works for any collection that is a sequence (lists, tuples, and strings).\n\nfor 구문은 통상 range 값을 반복해 정의를 구현한다.\nA common use of the for statement is to implement definite iteration over a range of values.      \n",
      "metadata": {
        "pycharm": {
          "metadata": false,
          "name": "#%% md\n"
        }
      }
    },
    {
      "cell_type": "code",
      "execution_count": 13,
      "outputs": [
        {
          "name": "stdout",
          "text": [
            "0\n1\n4\n9\n16\n"
          ],
          "output_type": "stream"
        }
      ],
      "source": "for item in range(5):\n    print(item**2)\n    ",
      "metadata": {
        "pycharm": {
          "metadata": false,
          "name": "#%%\n",
          "is_executing": false
        }
      }
    },
    {
      "cell_type": "markdown",
      "source": "구문은 print 함수를 5번 실행할 것이다.  \nThe statement will perform the print function five times.\n\nrange 함수는 range 객체를 리턴할 것이다. 시퀀스 0,1,2,3,4를 나타내는. 그리고, 각 값은 변수에 할당될 것이다.  \n-\u003e range 함수는 시퀀스 0,1,2,3,4를 나타내는 range 객체를 리턴하고 각 값들은 변수에 할당될 것이다.    \nThe range function will return a range object representing the sequence 0,1,2,3,4 and each value will be assigned to the variable item.\n \n이 값은 그리고 제곱되어 프린트될 것이다.   \nThis value is then squared and printed.\n\n다른 매우 유용한 버전의 반복 구조는 문자열의 각 문자를 처리하는데 사용된다.  \nThe other very useful version of this iteration structure is used to process each character of a string.\n\n다음의 코드 조각은 문자열 리스트와 그 각 문자열이 각각의 문자를 리스트에 각 문자를 추가하는 과정을 반복한다.  \nThe following code fragment iterates over a list of strings and for each string processes each character by appending it to a list.\n\n결과는 모든 단어에 있는 모든 문자들의 리스트이다.   \nThe result is a list of all the letters in all of the words.\n    ",
      "metadata": {
        "pycharm": {
          "metadata": false,
          "name": "#%% md\n"
        }
      }
    },
    {
      "cell_type": "code",
      "execution_count": 14,
      "outputs": [
        {
          "name": "stdout",
          "text": [
            "[\u0027c\u0027, \u0027a\u0027, \u0027t\u0027, \u0027d\u0027, \u0027o\u0027, \u0027g\u0027, \u0027r\u0027, \u0027a\u0027, \u0027b\u0027, \u0027b\u0027, \u0027i\u0027, \u0027t\u0027]\n"
          ],
          "output_type": "stream"
        }
      ],
      "source": "wordlist \u003d [\u0027cat\u0027, \u0027dog\u0027, \u0027rabbit\u0027]\nletterlist \u003d []\nfor aword in wordlist:\n    for aletter in aword:\n        letterlist.append(aletter)\nprint(letterlist)\n",
      "metadata": {
        "pycharm": {
          "metadata": false,
          "name": "#%%\n",
          "is_executing": false
        }
      }
    },
    {
      "cell_type": "markdown",
      "source": "선택구문은 프로그래머들이 질문할 수 있게 하고, 결과에 기초해, 다양한 액션을 수행할 수 있게한다.  \nSelection statements allow programmers to ask questions and then, based on the result, perform different actions.\n \n대부분의 프로그래밍언어는 두가지 버전을 제공한다. 이 유용한 제어문: ifelse와 if.  \nMost programming languages provide two versions of this useful construct: the ifelse and the if.\n\n이진선택의 단순한 예는 ifelse 구문을 사용한다.  \nA simple example of a binary selection uses the ifelse statement.\n",
      "metadata": {
        "pycharm": {
          "metadata": false,
          "name": "#%% md\n"
        }
      }
    },
    {
      "cell_type": "code",
      "execution_count": 18,
      "outputs": [
        {
          "name": "stdout",
          "text": [
            "1.4142135623730951\n"
          ],
          "output_type": "stream"
        }
      ],
      "source": "import math\nn \u003d 2\nif n \u003c 0:\n    print(\"Sorry, value is negative\")\nelse:\n    print(math.sqrt(n))\n",
      "metadata": {
        "pycharm": {
          "metadata": false,
          "name": "#%%\n",
          "is_executing": false
        }
      }
    },
    {
      "cell_type": "markdown",
      "source": "이 예제에서, n으로 참조된 이 객체는 체크된다. 만약 그것이 0보다 더 작은지.  \nIn this example, the object referred to by n is checked to see if it is less than zero.\n\n만약 그렇다면, 그것이 음수라고 메세지가 프린트된다.  만약 그렇지 않으면, 구문은 else 구문을 수행하고 square root 계산된다.  \nIf it is, a message is printed stating that it is negative. If it is not, the statement performs the else clause and computes the square root.\n\n선택 구조, 모든 컨트롤 구조와 함께, 중첩될 수 있다. 한 질문의 결과가 다음 질문을 결정하기 위해.  \nSelection constructs, as with any control construct, can be nested so that the result of one question helps decide whether to ask the next.\n\n예를 들어, 가정하자. 점수가 컴퓨터과학 테스트 점수를 나타내는 변수라고.  \nFor example, assume that score is a variable holding a reference to a score for a computer science test.\n    ",
      "metadata": {
        "pycharm": {
          "metadata": false,
          "name": "#%% md\n"
        }
      }
    },
    {
      "cell_type": "code",
      "execution_count": 19,
      "outputs": [
        {
          "name": "stdout",
          "text": [
            "B\n"
          ],
          "output_type": "stream"
        }
      ],
      "source": "score \u003d 81\nif score \u003e\u003d 90:\n    print(\u0027A\u0027)\nelse:\n    if score \u003e\u003d 80:\n        print(\u0027B\u0027)\n    else:\n        if score \u003e\u003d 70:\n            print(\u0027C\u0027)\n        else:\n            if score \u003e\u003d 60:\n                print(\u0027D\u0027)\n            else:\n                print(\u0027F\u0027)\n",
      "metadata": {
        "pycharm": {
          "metadata": false,
          "name": "#%% \n",
          "is_executing": false
        }
      }
    },
    {
      "cell_type": "markdown",
      "source": "이 조각은 값을 분류할 것이다. 그 값은 얻은 문자 등급을 프린트하여 점수라고 불리는 값이다.  \nThis fragment will classify a value called score by printing the letter grade earned.\n\n만약 점수가 90이상이면, 구문은 A를 출력한다. 만약 그렇지 않으면, 다음 질문이 요청된다.  \nIf the score is greater than or equal to 90, the statement will print A. If it is not (else), the next question is asked.\n\n만약 점수가 80이상이면 그것은 80에서 89사이여야한다. 첫번째 질문이 거짓이므로.  \nIf the score is greater than or equal to 80 then it must be between 80 and 89 since the answer to the first question was false.\n\n이 케이스에는 B가 프린트된다. 당신은 파이썬 들여쓰기 패턴이 if와 else 사이의 연관을 이해하는데 도움이 된다는 것을 알 수 있다. 추가 구문이 필요 없이.     \nIn this case print B is printed. You can see that the Python indentation pattern helps to make sense of the association between if and else without requiring any additional syntactic elements.\n\n이 중첩된 선택에 대한 대체 구문은 elif 키워드를 사용한다.  \nAn alternative syntax for this type of nested selection uses the elif keyword. \n\nelse와 next는 합성된다. 추가 중첩에 대한 필요성이 없어지도록.      \nThe else and the next if are combined so as to eliminate the need for additional nesting levels.\n\n마지막 else는 여전히 필요하다. 기본 대소문자를 제공하는데. 만약 다른 조건이 모두 실패하면.  \nNote that the final else is still necessary to provide the default case if all other conditions fail.\n",
      "metadata": {
        "pycharm": {
          "metadata": false,
          "name": "#%% md\n"
        }
      }
    },
    {
      "cell_type": "code",
      "execution_count": 1,
      "outputs": [
        {
          "name": "stdout",
          "text": [
            "B\n"
          ],
          "output_type": "stream"
        }
      ],
      "source": "score \u003d 81\nif score \u003e\u003d 90:\n    print(\u0027A\u0027)\nelif score \u003e\u003d 80:\n    print(\u0027B\u0027)\nelif score \u003e\u003d 70:\n    print(\u0027C\u0027)\nelif score \u003e\u003d 60:\n    print(\u0027D\u0027)\nelse:\n    print(\u0027F\u0027)\n    ",
      "metadata": {
        "pycharm": {
          "metadata": false,
          "name": "#%%\n",
          "is_executing": false
        }
      }
    },
    {
      "cell_type": "markdown",
      "source": "파이썬은 역시 하나의 선택 구조인 if 구문도 가지고 있다.  \nPython also has a single way selection construct, the if statement.\n\n이 구문으로, 만약 조건이 참이면 액션이 수행된다.  \nWith this statement, if the condition is true, an action is performed.\n\n조건이 false인 경우, 프로세싱은 단순히 if 이후에 오는구문을 단순히 진행한다.   \nIn the case where the condition is false, processing simply continues on to the next statement after the if.\n\n예를 들어, 다음 조각은 먼저 변수 n의 값이 음수인지 확인한다.   \nFor example, the following fragment will first check to see if the value of a variable n is negative.\n\n그럴경우, 수정된다. 절대값 함수에 의해. 그럼에도, 다음 액션은 제곱근을 계산하는 것이다.  \nIf it is, then it is modified by the absolute value function. Regardless, the next action is to compute the square root.\n",
      "metadata": {
        "pycharm": {
          "metadata": false,
          "name": "#%% md\n"
        }
      }
    },
    {
      "cell_type": "code",
      "execution_count": 2,
      "outputs": [
        {
          "name": "stdout",
          "text": [
            "1.4142135623730951\n"
          ],
          "output_type": "stream"
        }
      ],
      "source": "import math\nn \u003d -2\nif n \u003c 0 :\n    n \u003d abs(n)\nprint(math.sqrt(n))\n    ",
      "metadata": {
        "pycharm": {
          "metadata": false,
          "name": "#%% \n",
          "is_executing": false
        }
      }
    },
    {
      "cell_type": "markdown",
      "source": "Self Check\n\n너의 이해를 태스트해라. 다음예제를 시도해서 얼마나 이해하고 있는지. active code 8 을 수정해라. 마지막 리스트에 각 문자의 단일 카피만 포함되도록.  \nTest your understanding of what we have covered so far by trying the following exercise. Modify the code from Activecode 8 so that the final list only contains a single copy of each letter.\n",
      "metadata": {
        "pycharm": {
          "metadata": false,
          "name": "#%% md\n"
        }
      }
    },
    {
      "cell_type": "code",
      "execution_count": 7,
      "outputs": [
        {
          "name": "stdout",
          "text": [
            "[\u0027a\u0027, \u0027b\u0027, \u0027c\u0027, \u0027d\u0027, \u0027g\u0027, \u0027i\u0027, \u0027o\u0027, \u0027r\u0027, \u0027t\u0027]\n[\u0027a\u0027, \u0027b\u0027, \u0027c\u0027, \u0027d\u0027, \u0027g\u0027, \u0027i\u0027, \u0027o\u0027, \u0027r\u0027, \u0027t\u0027]\n         14 function calls in 0.000 seconds\n\n   Ordered by: standard name\n\n   ncalls  tottime  percall  cumtime  percall filename:lineno(function)\n        1    0.000    0.000    0.000    0.000 \u003cipython-input-7-dfd826efa96f\u003e:3(nested_for)\n        1    0.000    0.000    0.000    0.000 \u003cstring\u003e:1(\u003cmodule\u003e)\n        1    0.000    0.000    0.000    0.000 {built-in method builtins.exec}\n        1    0.000    0.000    0.000    0.000 {built-in method builtins.sorted}\n        9    0.000    0.000    0.000    0.000 {method \u0027append\u0027 of \u0027list\u0027 objects}\n        1    0.000    0.000    0.000    0.000 {method \u0027disable\u0027 of \u0027_lsprof.Profiler\u0027 objects}\n\n\n         5 function calls in 0.000 seconds\n\n   Ordered by: standard name\n\n   ncalls  tottime  percall  cumtime  percall filename:lineno(function)\n        1    0.000    0.000    0.000    0.000 \u003cstring\u003e:1(\u003cmodule\u003e)\n        1    0.000    0.000    0.000    0.000 {built-in method builtins.exec}\n        1    0.000    0.000    0.000    0.000 {built-in method builtins.sorted}\n        1    0.000    0.000    0.000    0.000 {method \u0027disable\u0027 of \u0027_lsprof.Profiler\u0027 objects}\n        1    0.000    0.000    0.000    0.000 {method \u0027join\u0027 of \u0027str\u0027 objects}\n\n\n"
          ],
          "output_type": "stream"
        }
      ],
      "source": "wordlist \u003d [\u0027cat\u0027, \u0027dog\u0027, \u0027rabbit\u0027]\n\ndef nested_for(wordlist):\n    result \u003d []\n    for word in wordlist:\n        for letter in word:\n            if letter not in result:\n                result.append(letter)\n    return sorted(result)\nprint(nested_for(wordlist))\nprint(sorted(set(\u0027\u0027.join(wordlist))))\n\nimport cProfile\ncProfile.run(\u0027nested_for(wordlist)\u0027)\ncProfile.run(\"sorted(set(\u0027\u0027.join(wordlist)))\")\n",
      "metadata": {
        "pycharm": {
          "metadata": false,
          "name": "#%%\n",
          "is_executing": false
        }
      }
    },
    {
      "cell_type": "markdown",
      "source": "리스트로 돌아가서, 대체방법이 있다. 목록 이해로 알려진 반복 및 선 구성을 사용하는 목록을 만드는 방법.  \nReturning to lists, there is an alternative method for creating a list that uses iteration and selection constructs known as a list comprehension.\n \n목록 이해를 통해 일부 처리 또는 선택 기준에 따라 목록을 쉽게 작성 할 수 있다.  \nA list comprehension allows you to easily create a list based on some processing or selection criteria.\n \n예를 들어, 처음 10개의 완벽한 사각형 목록을 만들려면 for문을 사용할 수 있다.    \nFor example, if we would like to create a list of the first 10 perfect squares, we could use a for statement\n",
      "metadata": {
        "pycharm": {
          "metadata": false,
          "name": "#%% md\n"
        }
      }
    },
    {
      "cell_type": "code",
      "execution_count": 8,
      "outputs": [
        {
          "name": "stdout",
          "text": [
            "[1, 4, 9, 16, 25, 36, 49, 64, 81, 100]\n"
          ],
          "output_type": "stream"
        }
      ],
      "source": "sqlist \u003d []\nfor x in range(1,11):\n    sqlist.append(x*x)\nprint(sqlist)\n",
      "metadata": {
        "pycharm": {
          "metadata": false,
          "name": "#%%\n",
          "is_executing": false
        }
      }
    },
    {
      "cell_type": "markdown",
      "source": "리스트 이해를 사용해, 우리는 다음과 같은 방법을 사용할 수 있다.   \nUsing a list comprehension, we can do this in one step as\n",
      "metadata": {
        "pycharm": {
          "metadata": false,
          "name": "#%% md\n"
        }
      }
    },
    {
      "cell_type": "code",
      "execution_count": 12,
      "outputs": [
        {
          "name": "stdout",
          "text": [
            "[1, 4, 9, 16, 25, 36, 49, 64, 81, 100]\n"
          ],
          "output_type": "stream"
        }
      ],
      "source": "sqlist \u003d [x*x for x in range(1,11)]\nprint(sqlist)\n",
      "metadata": {
        "pycharm": {
          "metadata": false,
          "name": "#%%\n",
          "is_executing": false
        }
      }
    },
    {
      "cell_type": "markdown",
      "source": "변수 x는 or 구문에 지정된 대로 1에서 10까지의 값을 갖는다.  \nThe variable x takes on the values 1 through 10 as specified by the for construct.\n\nx*x의 값은 계산되고 생성되는 리스트에 더해진다.   \nThe value of x*x is then computed and added to the list that is being constructed.\n\n리스트 이해를 위한 일반적인 구문을 사용하면 특정 항목만 추가될 수 있도록 선택 기준을 추가할 수 있다. 예를 들어,   \nThe general syntax for a list comprehension also allows a selection criteria to be added so that only certain items get added. For example,\n",
      "metadata": {
        "pycharm": {
          "metadata": false,
          "name": "#%% md\n"
        }
      }
    },
    {
      "cell_type": "code",
      "execution_count": 11,
      "outputs": [
        {
          "name": "stdout",
          "text": [
            "[1, 9, 25, 49, 81]\n"
          ],
          "output_type": "stream"
        }
      ],
      "source": "sqlist \u003d [x*x for x in range(1,11) if x % 2 !\u003d 0]\nprint(sqlist)\n",
      "metadata": {
        "pycharm": {
          "metadata": false,
          "name": "#%%\n",
          "is_executing": false
        }
      }
    },
    {
      "cell_type": "markdown",
      "source": "이 list 이해는 1부터 10까지의 범위의 홀수 숫자의 제곱만을 포함하도록 구성했다.  \nThis list comprehension constructed a list that only contained the squares of the odd numbers in the range from 1 to 10.\n\n반복을 지원하는 어떠한 시퀀스도 목록 이해내에서 사용되어 새로운 목록을 구성할 수 있다.   \nAny sequence that supports iteration can be used within a list comprehension to construct a new list.\n",
      "metadata": {
        "pycharm": {
          "metadata": false,
          "name": "#%% md\n"
        }
      }
    },
    {
      "cell_type": "code",
      "execution_count": 1,
      "outputs": [
        {
          "data": {
            "text/plain": "[\u0027C\u0027, \u0027M\u0027, \u0027P\u0027, \u0027R\u0027, \u0027H\u0027, \u0027N\u0027, \u0027S\u0027, \u0027N\u0027]"
          },
          "metadata": {},
          "output_type": "execute_result",
          "execution_count": 1
        }
      ],
      "source": "[ch.upper() for ch in \u0027comprehension\u0027 if ch not in \u0027aeiou\u0027]\n",
      "metadata": {
        "pycharm": {
          "metadata": false,
          "name": "#%%\n",
          "is_executing": false
        }
      }
    },
    {
      "cell_type": "markdown",
      "source": "Self Check\nactivecode8을 목록 이해를 사용하여 목록 이해에 대한 당신의 이해도를 테스트해라. 추가로 문제를 해결하기 위해, 복제본을 제거하는 방법을 확인해보자.   \nTest your understanding of list comprehensions by redoing Activecode 8 using list comprehensions. For an extra challenge, see if you can figure out how to remove the duplicates.\n",
      "metadata": {
        "pycharm": {
          "metadata": false,
          "name": "#%% md\n"
        }
      }
    },
    {
      "cell_type": "code",
      "execution_count": 3,
      "outputs": [
        {
          "data": {
            "text/plain": "{\u0027a\u0027, \u0027b\u0027, \u0027c\u0027, \u0027d\u0027, \u0027g\u0027, \u0027i\u0027, \u0027o\u0027, \u0027r\u0027, \u0027t\u0027}"
          },
          "metadata": {},
          "output_type": "execute_result",
          "execution_count": 3
        }
      ],
      "source": "# the answer is: [\u0027c\u0027, \u0027a\u0027, \u0027t\u0027, \u0027d\u0027, \u0027o\u0027, \u0027g\u0027, \u0027r\u0027, \u0027a\u0027, \u0027b\u0027, \u0027b\u0027, \u0027i\u0027, \u0027t\u0027]\nwordlist \u003d [\u0027cat\u0027,\u0027dog\u0027,\u0027rabbit\u0027]\nset(\u0027\u0027.join(wordlist))\n    ",
      "metadata": {
        "pycharm": {
          "metadata": false,
          "name": "#%%\n",
          "is_executing": false
        }
      }
    }
  ],
  "metadata": {
    "language_info": {
      "codemirror_mode": {
        "name": "ipython",
        "version": 2
      },
      "file_extension": ".py",
      "mimetype": "text/x-python",
      "name": "python",
      "nbconvert_exporter": "python",
      "pygments_lexer": "ipython2",
      "version": "2.7.6"
    },
    "kernelspec": {
      "name": "python3",
      "language": "python",
      "display_name": "Python 3"
    }
  },
  "nbformat": 4,
  "nbformat_minor": 0
}