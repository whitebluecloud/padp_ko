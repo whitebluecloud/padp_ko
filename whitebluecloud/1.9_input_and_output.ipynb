{
  "cells": [
    {
      "cell_type": "markdown",
      "metadata": {
        "collapsed": true,
        "pycharm": {
          "name": "#%% md\n"
        }
      },
      "source": "1.9. 입력과 출력\n\u003d\u003d\n우리는 사용자들과의 상호작용이 필요하다. 데이터를 가져오거나 몇몇 제공된 결과를 제공할때  \n-\u003e 우리는 데이터를 얻거나 결과를 제공할때 사용자들과의 교류가 필요하다.  \nWe often have a need to interact with users, either to get data or to provide some sort of result.\n \n오늘날의 대부분의 프로그램은 대화상자를 사용한다. 사용자에게 입력 타입을 제공하는 방법으로.    \n-\u003e 오늘날의 대부분의 프로그램은 사용자에게 입력타입을 제공하는 방법으로서 대화상자를 사용한다.  \nMost programs today use a dialog box as a way of asking the user to provide some type of input.\n\n반면에 파이썬이 대화상자를 만드는 방법은 우리가 쉽게 사용할 수 있는 매우 간단한 함수가 있다.  \nWhile Python does have a way to create dialog boxes, there is a much simpler function that we can use.\n\n파이썬은 우리에게 함수를 제공해준다. 그 함수는 우리가 사용자에게 묻는 함수다. 데이터를 입력하고 문자열 형태의 데이터를 참조하는 리턴문을.  \nPython provides us with a function that allows us to ask a user to enter some data and returns a reference to the data in the form of a string.\n\n그 함수는 input이라고 불리운다.  \nThe function is called input.\n\n파이썬의 input 함수는 문자열로 이루어진 한개의 파라미터를 갖는다.  \nPython’s input function takes a single parameter that is a string.\n\n이 문자열은 종종 불리운다. 프롬프트라고. 왜냐하면 그것은 몇개의 유용한 글자 프롬프트를 갖고있다. 사용자가 문자열을 입력하는.  \nThis string is often called the prompt because it contains some helpful text prompting the user to enter something.\n\n예를 들어, 당신은 아마도 input을 아래와 같이 불렀을 것이다.  \nFor example, you might call input as follows:\n"
    },
    {
      "cell_type": "code",
      "execution_count": 1,
      "outputs": [],
      "source": "aName \u003d input(\u0027Please enter your name: \u0027)\n",
      "metadata": {
        "pycharm": {
          "metadata": false,
          "name": "#%%\n",
          "is_executing": false
        }
      }
    },
    {
      "cell_type": "markdown",
      "source": "프롬프트창 이후의 어떠한 사용자 타입이든 aName 변수에 저장될 것이다.    \nNow whatever the user types after the prompt will be stored in the aName variable.\n\ninput 함수를 사용함으로써, 우리는 쉽게 쓸 수 있다. 명령어를. 사용자에게 데이터를 넣고 데이터를 통합하라고. 더나은 프로세싱으로. 예를 들어, 두개의 문장에 따라, 첫번째는 요청한다 사용자에게 그들의 이름과 두번째는 제공된 문자열에 의해 간단한 프로세싱한 결과를 프린트한다.   \nUsing the input function, we can easily write instructions that will prompt the user to enter data and then incorporate that data into further processing. For example, in the following two statements, the first asks the user for their name and the second prints the result of some simple processing based on the string that is provided.\n",
      "metadata": {
        "pycharm": {
          "metadata": false,
          "name": "#%% md\n"
        }
      }
    },
    {
      "cell_type": "code",
      "execution_count": 3,
      "outputs": [
        {
          "name": "stdout",
          "text": [
            "Your name in all capitals is HUN and has length 3\n"
          ],
          "output_type": "stream"
        }
      ],
      "source": "aName \u003d input(\"Please enter yout name \")\nprint(\"Your name in all capitals is\", aName.upper(), \"and has length\", len(aName))\n",
      "metadata": {
        "pycharm": {
          "metadata": false,
          "name": "#%%\n",
          "is_executing": false
        }
      }
    },
    {
      "cell_type": "markdown",
      "source": "주의하는 것은 중요하다. 결과가 리턴되는것. input함수가 우리가 프롬프트창에 입력한 문자열을 정확한 문자열로 표현하는 것으로부터     \n-\u003e input 함수에서 우리가 프롬프트창에 입력한 문자열을 정확한 문자로 표현한 결과를 리턴하는 것은 중요하다.   \nIt is important to note that the value returned from the input function will be a string representing the exact characters that were entered after the prompt.\n\n만약 당신이 원한다면 이 문자열이 다른 타입으로, 당신은 타입 변환 expliiclty하게 제공해야한다.  \n-\u003e 만약 이 문자열이 다른 타입으로 해석되길 원한다면, 당신은 타입 변환을 명시적으로 제공해야만 한다.  \nIf you want this string interpreted as another type, you must provide the type conversion \u003cstrong\u003eexplicitly\u003c/strong\u003e.\n\n아래의 문장에서, 사용자에 의해 입력된 문자열은 변환된다. 실수로. 이후의 수학 프로세싱에 사용되기 위해.  \n-\u003e 아래의 문장에서, 사용자에 의해 입력된 문자열은 수학적인 프로세싱에 사용되기 위해 실수로 변환된다.   \nIn the statements below, the string that is entered by the user is converted to a float so that it can be used in further arithmetic processing.\n",
      "metadata": {
        "pycharm": {
          "metadata": false,
          "name": "#%% md\n"
        }
      }
    },
    {
      "cell_type": "code",
      "execution_count": 4,
      "outputs": [],
      "source": "sradius \u003d input(\"Plaease enter the radius of the circle\")\nradius \u003d float(sradius)\ndiameter \u003d 2 * radius\n",
      "metadata": {
        "pycharm": {
          "metadata": false,
          "name": "#%%\n",
          "is_executing": false
        }
      }
    }
  ],
  "metadata": {
    "language_info": {
      "codemirror_mode": {
        "name": "ipython",
        "version": 2
      },
      "file_extension": ".py",
      "mimetype": "text/x-python",
      "name": "python",
      "nbconvert_exporter": "python",
      "pygments_lexer": "ipython2",
      "version": "2.7.6"
    },
    "kernelspec": {
      "name": "python3",
      "language": "python",
      "display_name": "Python 3"
    }
  },
  "nbformat": 4,
  "nbformat_minor": 0
}