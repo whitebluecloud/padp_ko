{
  "cells": [
    {
      "cell_type": "markdown",
      "metadata": {
        "collapsed": true,
        "pycharm": {
          "name": "#%% md\n"
        }
      },
      "source": "Self Check\nWrite two Python functions to find the minimum number in a list. The first function should compare each number to every other number on the list. O(n2). The second function should be linear O(n).\n"
    },
    {
      "cell_type": "code",
      "execution_count": null,
      "outputs": [],
      "source": "def get_min_num1(arr):\n    \n    min_num \u003d arr[0]\n    for i in arr:\n        is_min_num \u003d True\n        for j in arr:    \n            if i \u003e j:\n                is_min_num \u003d False\n        if is_min_num:\n            min_num \u003d i\n    return min_num\n\ndef get_min_num2(arr):\n    min_num \u003d arr[0]\n    for i in arr:\n        if min_num \u003e i:\n            min_num \u003d i\n    return min_num\n        ",
      "metadata": {
        "pycharm": {
          "metadata": false,
          "name": "#%%\n"
        }
      }
    }
  ],
  "metadata": {
    "language_info": {
      "codemirror_mode": {
        "name": "ipython",
        "version": 2
      },
      "file_extension": ".py",
      "mimetype": "text/x-python",
      "name": "python",
      "nbconvert_exporter": "python",
      "pygments_lexer": "ipython2",
      "version": "2.7.6"
    },
    "kernelspec": {
      "name": "python3",
      "language": "python",
      "display_name": "Python 3"
    }
  },
  "nbformat": 4,
  "nbformat_minor": 0
}