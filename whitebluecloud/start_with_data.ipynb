{
  "cells": [
    {
      "cell_type": "markdown",
      "metadata": {
        "collapsed": true,
        "pycharm": {
          "name": "#%% md\n"
        }
      },
      "source": "1.8. 데이터를 활용해 시작하기\n\u003d\u003d\n\n우리는 파이썬이 OOP패러다임을 지원한다고 서술했다.  \nWe stated above that Python supports the object-oriented programming paradigm.\n\n이것은 의미한다. 파이썬이 고려된다고. 데이터가 문제풀이과정의 focal point가 된다고.  \nThis means that Python considers data to be the focal point of the problem-solving process.\n\n다른 어떠한 OOP언어뿐만아니라 파이썬에서, 우리는 클래스를 정의한다. 데이터가 무엇으로 보이는지 설명하고(상태) 무엇을 할 수 있는지(행동).  \nIn Python, as well as in any other object-oriented programming language, we define a class to be a description of what the data look like (the state) and what the data can do (the behavior).\n\n클래스들은 analogous한다. 데이터타입을 추상화하기위해. 왜냐하면 클래스의 사용자는 오직 데이터의 상태와 행동만 보기 때문이다.   \nClasses are analogous to abstract data types because a user of a class only sees the state and behavior of a data item.\n\n데이터는 OOP 패러다임에서는 객체라 불린다. 객체는 클래스의 instance이다.  \nData items are called objects in the object-oriented paradigm. An object is an instance of a class."
    }
  ],
  "metadata": {
    "language_info": {
      "codemirror_mode": {
        "name": "ipython",
        "version": 2
      },
      "file_extension": ".py",
      "mimetype": "text/x-python",
      "name": "python",
      "nbconvert_exporter": "python",
      "pygments_lexer": "ipython2",
      "version": "2.7.6"
    },
    "kernelspec": {
      "name": "python3",
      "language": "python",
      "display_name": "Python 3"
    }
  },
  "nbformat": 4,
  "nbformat_minor": 0
}