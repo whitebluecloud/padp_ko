{
  "cells": [
    {
      "cell_type": "markdown",
      "source": "1.5 왜 데이터구조와 추상데이터 타입을 공부해야 하는가?\n\u003d\u003d\n\n문제의 복잡도를 관리하기위해서, 문제해결과정 컴퓨터과학은 추상화를 사용한다. 그들이 \u0027big picture\u0027에 초점을 맞추도록 상세한 내용 없이 문제의 도메인 모델을 만들어서. 우리는 더 사용성 있고, 더 효과적으로 문제풀이 과정을. 이 모델들은 우리가 데이터를 묘사할 수 있게 해준다. 그 데이터는 우리의 알고리즘이 작동하게 해준다. 더 다양한 consistent한 방법으로 문제 자체에 단서로써.  \nTo manage the complexity of problems and the problem-solving process, computer scientists use abstractions to allow them to focus on the “big picture” without getting lost in the details. By creating models of the problem domain, we are able to utilize a better and more efficient problem-solving process. These models allow us to describe the data that our algorithms will manipulate in a much more consistent way with respect to the problem itself.\n\n일찍이, 우리는 언급한다. 과정의 추상화. 각 함수에서 상세를 감추는 과정이 우리나 고객이 그것을 고수준으로 불 수 있게 한다고. 우리는 우리의 주의를 비슷한 아이디어로 돌려서. 데이터추상화, 추상화데이터타입, 때때로 ADT라고 abbrevod 로지컬 설명이다. 우리가 어떻게 데이터를 보는지 명령어를 그들이 어떻게 구현될지 언급없이 허락되는지. 이것은 의미한다. 우리는 관련되어 있다. 데이터가 무엇을 나타내는지. 그것이 결국 어떻게 만들어지는지. 이러한 추상화레벨을 제공함으로써, 우리는 데이터를 캡슐화할 수 있다. 그 생각은 상세한 구현을 캡슐화하고, 우리는 사용자로부터 가질 수 있다. 이것을 정보숨김이라고 한다.  \nEarlier, we referred to procedural abstraction as a process that hides the details of a particular function to allow the user or client to view it at a very high level. We now turn our attention to a similar idea, that of data abstraction. An abstract data type, sometimes abbreviated ADT, is a logical description of how we view the data and the operations that are allowed without regard to how they will be implemented. This means that we are concerned only with what the data is representing and not with how it will eventually be constructed. By providing this level of abstraction, we are creating an encapsulation around the data. The idea is that by encapsulating the details of the implementation, we are hiding them from the user’s view. This is called information hiding.\n\n그림2는 추상화데이터와 그것이 어떻게 동작하는지 보여주는 그림이다. 사용자는 인터페이스와 상호작용하고, 추상화데이터타입에 의해 구현화되는 명령어를 사용한다. 이 구현은 한 층 더 깊게 감춘다. 사용자는 상세한 구현과는 관련이 없다.  \nFigure 2 shows a picture of what an abstract data type is and how it operates. The user interacts with the interface, using the operations that have been specified by the abstract data type. The abstract data type is the shell that the user interacts with. The implementation is hidden one level deeper. The user is not concerned with the details of the implementation.\n\n![Figure 2. adt](./img/adt.png)\n\n추상데이터타입구현, 종종 데이터구조라고 언급되는것은 필요하다. 우리가 데이터의 물리적 관점을 프로그래밍구조의 몇몇 컬렉션과 원시데이터타입. 우리가 일찍이 언급했듯. 이 두 관점의 분리는 우리의 문제를 위한 복잡한 데이터모델을 정의한다. 그 모델은 실제로 어떻게 만들지에 대한 상세한 지시없이. 이것은 데이터를 보는 구현독립을 제공한다. 보통 추상화타입을 구현하는데 다양한 방법이 있다. 이 구현독립은 프로그래머가 구현을 스위칭할 수 있게 한다. 데이터 상호작용 사용자가 변경할 필요없이 사용자느 문제해결과정만 포커싱할 수 있다.\nThe implementation of an abstract data type, often referred to as a data structure, will require that we provide a physical view of the data using some collection of programming constructs and primitive data types. As we discussed earlier, the separation of these two perspectives will allow us to define the complex data models for our problems without giving any indication as to the details of how the model will actually be built. This provides an implementation-independent view of the data. Since there will usually be many different ways to implement an abstract data type, this implementation independence allows the programmer to switch the details of the implementation without changing the way the user of the data interacts with it. The user can remain focused on the problem-solving process.",
      "metadata": {
        "pycharm": {
          "metadata": false,
          "name": "#%% md\n"
        }
      }
    }
  ],
  "metadata": {
    "language_info": {
      "codemirror_mode": {
        "name": "ipython",
        "version": 2
      },
      "file_extension": ".py",
      "mimetype": "text/x-python",
      "name": "python",
      "nbconvert_exporter": "python",
      "pygments_lexer": "ipython2",
      "version": "2.7.6"
    },
    "kernelspec": {
      "name": "python3",
      "language": "python",
      "display_name": "Python 3"
    },
    "stem_cell": {
      "cell_type": "raw",
      "source": "",
      "metadata": {
        "pycharm": {
          "metadata": false
        }
      }
    }
  },
  "nbformat": 4,
  "nbformat_minor": 0
}