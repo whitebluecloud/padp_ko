{
  "cells": [
    {
      "cell_type": "markdown",
      "metadata": {
        "collapsed": true,
        "pycharm": {
          "name": "#%% md\n"
        }
      },
      "source": "1.13.1. 분수 클래스\n\u003d\u003d\n\n사용자정의 클래스를 구현하는 상세의 흔한 예는 추상화 데이터 타입 분수를 구현하는 클래스를 만드는 것이다.   \nA very common example to show the details of implementing a user-defined class is to construct a class to implement the abstract data type Fraction.\n \n우리는 이미 파이썬이 우리가 사용할 많은 수학적인 클래스를 제공하는 것을 봤다.   \nWe have already seen that Python provides a number of numeric classes for our use.\n\n그러나 분수처럼 보이는 객체를 만드는 것이 적절할때가 있다.  \nThere are times, however, that it would be most appropriate to be able to create data objects that “look like” fractions.\n"
    },
    {
      "cell_type": "markdown",
      "source": "3/5와 같은 분수는 두 파트로 구성되어 있다.  \nA fraction such as 3/5 consists of two parts.\n \n분자로 알려진 상위 값은 어떠한 숫자도 될 수 있다.  \nThe top value, known as the numerator, can be any integer.\n \n분모로 불리우는 아래의 값은 0이상의 숫자가 될 수 있다. (음수 분수는 음수 분자이다.)    \nThe bottom value, called the denominator, can be any integer greater than 0 (negative fractions have a negative numerator).\n\n비록 어떠한 분수를 부동 소수점으로 추정되도록 만들 수 있지만, 이번 경우에 우리는 분수를 정확한 값으로 나타낼 것이다.  \nAlthough it is possible to create a floating point approximation for any fraction, in this case we would like to represent the fraction as an exact value.\n",
      "metadata": {
        "pycharm": {
          "metadata": false,
          "name": "#%% md\n"
        }
      }
    },
    {
      "cell_type": "markdown",
      "source": "분수를 위한 동작은 분수 데이터객가 다른 숫자값처럼 동작하도록 할 수 있다.   \nThe operations for the Fraction type will allow a Fraction data object to behave like any other numeric value.\n\n우리는 분수를 add, subtract, multiply, divide 할 필요가 있다.   \nWe need to be able to add, subtract, multiply, and divide fractions.\n\n우리는 표준 \"/\" 형태로 분수를 표현하기를 원한다. 예를 들어 3/5 처럼.  \nWe also want to be able to show fractions using the standard “slash” form, for example 3/5.\n \n게다가, 모든 분수 함수는 결과를 가져야 한다.  그 결과는 그것들의 가장 작은 용어로? 어떠한 계산이든, 가장 일반적인 형태로 끝이 난다.    \nIn addition, all fraction methods should return results in their lowest terms so that no matter what computation is performed, we always end up with the most common form.\n\n파이썬에서, 우리는 새로운 클래스를 정의한다. 이름을 제공함으로써. 그리고 함수 정의와 구문적으로 비슷한 정의 세트를 제공함으로써.  \nIn Python, we define a new class by providing a name and a set of method definitions that are syntactically similar to function definitions.\n\n예를 들어, \nFor this example,\n",
      "metadata": {
        "pycharm": {
          "metadata": false,
          "name": "#%% md\n"
        }
      }
    },
    {
      "cell_type": "code",
      "execution_count": null,
      "outputs": [],
      "source": "class Fraction:\n    #the methods go here",
      "metadata": {
        "pycharm": {
          "metadata": false,
          "name": "#%%\n"
        }
      }
    },
    {
      "cell_type": "markdown",
      "source": "\n우리에게 함수 정의를 위한 프레임워크를 제공한다.  \nprovides the framework for us to define the methods.\n \n첫번째 방법은 모든 클래스가 생성자를 제공해야 한다는 것이다.      \nThe first method that all classes should provide is the constructor.\n\n생성자는 데이터 객체가 만들어지는 방법을 정의 한다.  \nThe constructor defines the way in which data objects are created.\n\n분수 객체를 만들기 위해, 우리는 두가지 데이터를 제공할 필요가 있다. 분자와 분모.  \nTo create a Fraction object, we will need to provide two pieces of data, the numerator and the denominator.\n  \n파이썬에서, 생성자는 항상 __init__ 이라고 불리우고 List2에 나타낸다.  \nIn Python, the constructor method is always called __init__ (two underscores before and after init) and is shown in Listing 2.\n",
      "metadata": {
        "pycharm": {
          "metadata": false,
          "name": "#%% md\n"
        }
      }
    },
    {
      "cell_type": "code",
      "execution_count": null,
      "outputs": [],
      "source": "class Fraction:\n    def __init__(self, top, bottom):\n        self.num \u003d top\n        self.den \u003d bottom",
      "metadata": {
        "pycharm": {
          "metadata": false,
          "name": "#%%\n"
        }
      }
    },
    {
      "cell_type": "markdown",
      "source": "형식적인 매개변수 리스트는 3가지 아이템을 포함한다. (self, top, bottom). self는 특별한 파라미터다. 항상 객체 자신을 참조하는.  \nNotice that the formal parameter list contains three items (self, top, bottom). self is a special parameter that will always be used as a reference back to the object itself.\n\n그것은 첫번째 형식적인 파라미터여야만 한다. 그러나, 그것은 호출시에 실제 파라미터값을 주지는 않는다.     \nIt must always be the first formal parameter; however, it will never be given an actual parameter value upon invocation.\n\n전에 묘사했듯이, 분수는 두개의 상태데이터를 필요로 한다. 분자와 분모.  \nAs described earlier, fractions require two pieces of state data, the numerator and the denominator.\n \n생성자의 self.num은 분수 객체가 안의 데이터객체를 가진다고. 상태값의 부분인 숫자로.  \nThe notation self.num in the constructor defines the fraction object to have an internal data object called num as part of its state.\n \n이와 같이, self.den은 분모를 생성한다.  \nLikewise, self.den creates the denominator.\n \n두개의 형식 매개변수는 초기에 상태값에 할당되, 새로운 분수 객체가 그것의 시작값을 알 수 있도록 해준다.   \nThe values of the two formal parameters are initially assigned to the state, allowing the new fraction object to know its starting value.\n\n분수 클래스의 인스턴스를 만들려면 우리는 생성자를 호출해야 한다.   \nTo create an instance of the Fraction class, we must invoke the constructor.\n\n이것은 클래스의 이름을 사용함으로써 일어나고, 필요한 상태값을 위해 실제 값을 넘김으로써 일어난다. ( 우리는 절대 직접적으로 __ini__을 호출하지 않는다.)   \nThis happens by using the name of the class and passing actual values for the necessary state (note that we never directly invoke __init__).\n \n예를 들어, \nFor example,\n",
      "metadata": {
        "pycharm": {
          "metadata": false,
          "name": "#%% md\n"
        }
      }
    },
    {
      "cell_type": "code",
      "execution_count": null,
      "outputs": [],
      "source": "myfraction \u003d Fraction(3,5)",
      "metadata": {
        "pycharm": {
          "metadata": false,
          "name": "#%%\n"
        }
      }
    },
    {
      "cell_type": "markdown",
      "source": "myfraction이라고 불리우는 객체를 만든다. 그 객체는 분수 35를 나타낸다. 그림5는 이 객체를 구현함으로써 보여준다.  \ncreates an object called myfraction representing the fraction 35 (three-fifths). Figure 5 shows this object as it is now implemented.\n\n그림\n",
      "metadata": {
        "pycharm": {
          "metadata": false,
          "name": "#%% md\n"
        }
      }
    },
    {
      "cell_type": "markdown",
      "source": "우리가 해야할 다음 것은 행동을 구현하는 것이다. 추상화 데이터 타입이 필요한. 시작하기위해, 우리가 분수객체를 프린트하려고 할때 어떤일이 벌어질지 고려해보자.  \nThe next thing we need to do is implement the behavior that the abstract data type requires. To begin, consider what happens when we try to print a Fraction object.\n",
      "metadata": {
        "pycharm": {
          "metadata": false,
          "name": "#%% md\n"
        }
      }
    },
    {
      "cell_type": "code",
      "execution_count": 1,
      "outputs": [
        {
          "name": "stdout",
          "text": [
            "\u003c__main__.Fraction object at 0x10f719f98\u003e\n"
          ],
          "output_type": "stream"
        }
      ],
      "source": "class Fraction:\n    def __init__(self, top, bottom):\n        self.num \u003d top\n        self.den \u003d bottom\nmyf \u003d Fraction(3,5)\nprint(myf)",
      "metadata": {
        "pycharm": {
          "metadata": false,
          "name": "#%%\n",
          "is_executing": false
        }
      }
    },
    {
      "cell_type": "markdown",
      "source": "분수객체, myf, 는 이 프린트를 위한 요청이 어떻게 응답되는지 모른다.  \nThe fraction object, myf, does not know how to respond to this request to print.\n \n프린트 함수는 객체를 요구한다. 그 객체는 스스로 문자열로 바뀐다. 그 문자열이 출력에 써질 수 있도록.  \nThe print function requires that the object convert itself into a string so that the string can be written to the output.\n \nmyf의 선택은 실제적인 레퍼런스를 보여준다. 그 변수에 저장된. (주소값 자체).  \nThe only choice myf has is to show the actual reference that is stored in the variable (the address itself).\n \n우리는 그것을 원하지 않는다.  \nThis is not what we want.\n\n이 문제를 풀기위한 두가지 방법이 있다.  \nThere are two ways we can solve this problem.\n \n하나는 메서드를 정의하는 것이다. 그 메서드는 분수 객체가 문자열로 그 자체를 프린트하는 것이다.  \nOne is to define a method called show that will allow the Fraction object to print itself as a string.\n\n우리는 이 메서드를 Listing3을 통해 구현한다.  \nWe can implement this method as shown in Listing 3.\n \n만약 전처럼 우리가 분수객체를 만들면, 우리는 그것 자체를 요청할 수 있다, 다시말해, 적절한 포맷으로 그것을 출력할 수 있다.  \nIf we create a Fraction object as before, we can ask it to show itself, in other words, print itself in the proper format.\n \n불행히도, 이것은 일반적이지 않다.\nUnfortunately, this does not work in general.\n\n적절히 프린트 하기 위해, 우리는 분수클래스가 어떻게 문자열로 변환되는지 말할 필요가 있다.   \nIn order to make printing work properly, we need to tell the Fraction class how to convert itself into a string.\n\n이것은 프린트 함수다 이 작업을 하기 위한.  \nThis is what the print function needs in order to do its job.\n",
      "metadata": {
        "pycharm": {
          "metadata": false,
          "name": "#%% md\n"
        }
      }
    },
    {
      "cell_type": "code",
      "execution_count": 3,
      "outputs": [
        {
          "name": "stdout",
          "text": [
            "3 / 5\n\u003c__main__.Fraction object at 0x10fa88e48\u003e\n"
          ],
          "output_type": "stream"
        }
      ],
      "source": "class Fraction:\n    def __init__(self, top, bottom):\n        self.num \u003d top\n        self.den \u003d bottom\n    def show(self):\n        print(self.num, \u0027/\u0027, self.den)\n    \nmyf \u003d Fraction(3,5)\nmyf.show()\nprint(myf)\n",
      "metadata": {
        "pycharm": {
          "metadata": false,
          "name": "#%%\n",
          "is_executing": false
        }
      }
    },
    {
      "cell_type": "markdown",
      "source": "파이썬에서는, 모든 클래스는 표준메서드를 가지고 있다. 그 메서드는 제공되지만 적절하지 않게 수행될 수 있다. 이들중 하나는, __str__, 객체를 문자열로 변환해주는 메서드다.  \nIn Python, all classes have a set of standard methods that are provided but may not work properly. One of these, __str__, is the method to convert an object into a string. \n\n이 메서드의 기본 구현은 우리가 이미 본 인스턴스 주소 문자열을 리턴하는 것이다.   \nThe default implementation for this method is to return the instance address string as we have already seen. \n\n우리가 할 필요가 있는 것은 이 메서드를 위해 더 잘 구현하는 것이다.  \nWhat we need to do is provide a “better” implementation for this method. \n\n우리는 이 구현이 이전의 것을 오버라이딩하는 구현이라고 말하거나 그것이 메서드의 행동을 재정의한다고 말할 것이다.  \nWe will say that this implementation overrides the previous one, or that it redefines the method’s behavior.\n\n이것처럼, 우리는 단순히 메서드를 __str__이름으로 정의하고 그것에게 listing4와 같이 새로운 구현을 제공하는 것이다.  \nTo do this, we simply define a method with the name __str__ and give it a new implementation as shown in Listing 4.\n\n이 정의는 다른 정보가 필요하지 않다. 특수한 파라미터 self를 제외하고는.  \nThis definition does not need any other information except the special parameter self. \n\n이 메서드는 문자열 표현을 만들 것이다. 내부 상태데이터를 문자열로 바꾸고 / 문자를 문자열 사이에 문자열 결합을 통해 놓음으로써.   \nIn turn, the method will build a string representation by converting each piece of internal state data to a string and then placing a / character in between the strings using string concatenation.\n\n결과 문자열은 문자열 자체로 컨버팅되도록 요청된 분수객체로 언제든 반환될 것이다.  \nThe resulting string will be returned any time a Fraction object is asked to convert itself to a string.\n\n다양한 방법으로 이 함수는 사용된다.   \nNotice the various ways that this function is used.\n",
      "metadata": {
        "pycharm": {
          "metadata": false,
          "name": "#%% md\n"
        }
      }
    },
    {
      "cell_type": "code",
      "execution_count": null,
      "outputs": [],
      "source": "class Fraction:\n    def __init__(self, top, bottom):\n        self.num \u003d top\n        self.den \u003d bottom\n    def show(self):\n        print(self.num, \u0027/\u0027, self.den)\n    def __str__(self):\n        return str(self.num)+\u0027/\u0027+str(self.den)\nmyf \u003d Fraction(3,5)\nprint(myf)\nprint(\"I ate\", myf, \"of the pizza\")\nmyf.__str__()\nstr(myf)\n",
      "metadata": {
        "pycharm": {
          "metadata": false,
          "name": "#%%\n"
        }
      }
    },
    {
      "cell_type": "markdown",
      "source": "우리는 새로운 우리의 분수 클래스를 위해 많은 메서드를 오버라이딩할 수 있다.   \nWe can override many other methods for our new Fraction class.\n\n가장 중요한 것은 기본 알고리즘 동작이다.     \nSome of the most important of these are the basic arithmetic operations.\n \n우리는 두개의 분수 객체를 만들 것이다. 그리고 + 를 통해 그것을 더할 것이다.  \nWe would like to be able to create two Fraction objects and then add them together using the standard “+” notation.\n \n여기서, 만약 두개의 분수가 더해진다면 우리는 다음과 같은 것을 얻을 것이다.  \nAt this point, if we try to add two fractions, we get the following:\n",
      "metadata": {
        "pycharm": {
          "metadata": false,
          "name": "#%% md\n"
        }
      }
    },
    {
      "cell_type": "code",
      "execution_count": null,
      "outputs": [],
      "source": "class Fraction:\n    def __init__(self, top, bottom):\n        self.num \u003d top\n        self.den \u003d bottom\n    def show(self):\n        print(self.num, \u0027/\u0027, self.den)\n    def __str__(self):\n        return str(self.num)+\u0027/\u0027+str(self.den)\nf1 \u003d Fraction(1,4)\nf2 \u003d Fraction(1,2)\nf1 + f2\n",
      "metadata": {
        "pycharm": {
          "metadata": false,
          "name": "#%%\n"
        }
      }
    },
    {
      "cell_type": "markdown",
      "source": "만약 당신이 에러를 봤다면, 당신은 알 수 있다. + 연산자가 분수 피연산자를 이해하지 못하는 문제라는 것을.   \nIf you look closely at the error, you see that the problem is that the “+” operator does not understand the Fraction operands.\n\n우리는 고칠 수 있다. addition 메서드를 오버라이딩한 메서드를 가진 fraction 클래스를 제공함으로써.  \nWe can fix this by providing the Fraction class with a method that overrides the addition method.\n\n파이썬에서, 이 메서드는 __add__라고 불리우고 그것은 두개읭 파라미터가 필요하다. 첫째로, self는 항상 필요하고, 둘째로 다른 연산자가 필요하다. 예를 들어,  \nIn Python, this method is called __add__ and it requires two parameters. The first, self, is always needed, and the second represents the other operand in the expression. For example,\n",
      "metadata": {
        "pycharm": {
          "metadata": false,
          "name": "#%% md\n"
        }
      }
    },
    {
      "cell_type": "code",
      "execution_count": null,
      "outputs": [],
      "source": "f1.__add__(f2)\n",
      "metadata": {
        "pycharm": {
          "metadata": false,
          "name": "#%%\n"
        }
      }
    },
    {
      "cell_type": "markdown",
      "source": "이것은 분수객체 f1에 분수 객체 f2를 더하도록 요청한다. 표준 표현으로 f1+f2라고 쓸 수 있다.  \nwould ask the Fraction object f1 to add the Fraction object f2 to itself. This can be written in the standard notation, f1+f2.\n\n두 분수는 더해지기위해 같은 분모를 가져야 한다.  \nTwo fractions must have the same denominator to be added.\n \n같은 분모를 갖게하는 가장 쉬운 방법은 간단히 두개의 분모를 흔한 분모로서 사용하는 것이다. ab+cd\u003dadbd+cbbd\u003dad+cbbd 구현이 리스팅5에 나타난다.  \nThe easiest way to make sure they have the same denominator is to simply use the product of the two denominators as a common denominator so that ab+cd\u003dadbd+cbbd\u003dad+cbbd The implementation is shown in Listing 5. \n\n추가 함수는 새로운 객체를 리턴한다. 분자와 분모의 합으로 이루어진.  \nThe addition function returns a new Fraction object with the numerator and denominator of the sum.\n\n우리는 이 메서드를 사용할 수있다. 표준 수학 표현으로써. 분수를 포함하고, 덧셈의 결과를 할당하고, 그리고 그것의 결과를 출력하는데.  \nWe can use this method by writing a standard arithmetic expression involving fractions, assigning the result of the addition, and then printing our result.\n",
      "metadata": {
        "pycharm": {
          "metadata": false,
          "name": "#%% md\n"
        }
      }
    },
    {
      "cell_type": "code",
      "execution_count": null,
      "outputs": [],
      "source": "class Fraction:\n    def __init__(self, top, bottom):\n        self.num \u003d top\n        self.den \u003d bottom\n    def show(self):\n        print(self.num, \u0027/\u0027, self.den)\n    def __str__(self):\n        return str(self.num)+\u0027/\u0027+str(self.den)\n    def __add__(self, otherfraction):\n        newnum \u003d self.num*otherfraction.den + self.den*otherfraction.num\n        newden \u003d self.den * otherfraction.den\n        return Fraction(newnum,newden)\nf1\u003dFraction(1,4)\nf2\u003dFraction(1,2)\nf3\u003df1+f2\nprint(f3)\n",
      "metadata": {
        "pycharm": {
          "metadata": false,
          "name": "#%%\n"
        }
      }
    },
    {
      "cell_type": "markdown",
      "source": "추가 함수는 우리가 바라는대로 동작한다. 그러나 한가지 더 나은 방법이 있다. 6/8은 14+12의 정답이다. 그러나 \"가장낮은 용어\"는 아니다.  \nThe addition method works as we desire, but one thing could be better. Note that 6/8 is the correct result (14+12) but that it is not in the “lowest terms” representation.\n\n베스트 표현은 3/4이다.   \nThe best representation would be 3/4.\n\n우리의 결과가 항상 lowest terms이기 위해,  우리는 도우미 함수가 필요하다. 분수를 reduce 할 수 있는.  \nIn order to be sure that our results are always in the lowest terms, we need a helper function that knows how to reduce fractions. \n\n이 함수는 최대공약수, GCD가 필요하다.  \nThis function will need to look for the greatest common divisor, or GCD.\n\n우리는 분자와 분모를 나눌 수 있다. GCD로. 그리고 그 결과는 lowest terms가 될 수 있다.   \nWe can then divide the numerator and the denominator by the GCD and the result will be reduced to lowest terms.\n\n최대공약수를 찾는데 가장 잘 알려진 알고리즘은 유클리드 알고리즘이다. 그 알고리즘은 챕터8에서 논의할 것이다.   \nThe best-known algorithm for finding a greatest common divisor is Euclid’s Algorithm, which will be discussed in detail in Chapter 8.\n\n유클리드의 알고리즘은 두개의 정수 n이 m을 동일하게 나눈다면 m과 n의 최대공수는 n이라는 것이다.     \nEuclid’s Algorithm states that the greatest common divisor of two integers m and n is n if n divides m evenly.\n\n그러나, 만약 n이 m을 균등하게 나누지 못한다면, n의 최대공약수의 정답은 n에 의해 m을 나눈것이다.    \nHowever, if n does not divide m evenly, then the answer is the greatest common divisor of n and the remainder of m divided by n.\n\n우리는 상호작용 구현을 제공할것이다. (액티브코드1). 이 GCD알고리즘의 구현은 분모가 양수일때만 동작한다.  \nWe will simply provide an iterative implementation here (see ActiveCode 1). Note that this implementation of the GCD algorithm only works when the denominator is positive.\n\n이것은 우리의 분수 클래스가 접근할 수 있다. 왜냐하면, 음수 분수는 음수 분자에 의해 표현될 것이기 때문이다.   \nThis is acceptable for our fraction class because we have said that a negative fraction will be represented by a negative numerator.\n",
      "metadata": {
        "pycharm": {
          "metadata": false,
          "name": "#%% md\n"
        }
      }
    },
    {
      "cell_type": "code",
      "source": "def gcd(m,n):\n    while m%n !\u003d 0:\n        oldm \u003d m\n        oldn \u003d n\n        \n        m \u003d oldn\n        n \u003d oldm % oldn\n    return n\n\nprint(gcd(20,10))\n",
      "metadata": {
        "pycharm": {
          "metadata": false,
          "name": "#%%\n",
          "is_executing": false
        }
      },
      "execution_count": 4,
      "outputs": [
        {
          "name": "stdout",
          "text": [
            "10\n"
          ],
          "output_type": "stream"
        }
      ]
    },
    {
      "cell_type": "markdown",
      "source": "우리는 이 함수를 어떠한 분수를 감소하는데 사용할 수 있다.  \nNow we can use this function to help reduce any fraction.\n\n\nlowest terms에서 분수를 넣기 위해, 분자와 분모를 최대공약수로 나눌 것이다.  \nTo put a fraction in lowest terms, we will divide the numerator and the denominator by their greatest common divisor.\n\n그리고, 분수 6/8의 최대공약수는 2이다.  \nSo, for the fraction 6/8, the greatest common divisor is 2.\n\n2로 위아래를 나눈것은 새로운 분수 3/4를 만든다.  (리스트6 참고)   \nDividing the top and the bottom by 2 creates a new fraction, 3/4 (see Listing 6).\n ",
      "metadata": {
        "pycharm": {
          "metadata": false,
          "name": "#%% md\n"
        }
      }
    },
    {
      "cell_type": "code",
      "execution_count": null,
      "outputs": [],
      "source": "def __add__(self,otherfraction):\n    newnum \u003d self.num*otherfraction.den + self.den*otherfraction.num\n    newden \u003d self.den * otherfraction.den\n    common \u003d gcd(newnum,newden)\n    return Fraction(newnum//common,newden//common)\nf1\u003dFraction(1,4)\nf2\u003dFraction(1,2)\nf3\u003df1+f2\nprint(f3)\n",
      "metadata": {
        "pycharm": {
          "metadata": false,
          "name": "#%%\n"
        }
      }
    },
    {
      "cell_type": "markdown",
      "source": "그림\n\n우리의 분수 객체는 두개의 유용한 메서드를 가지고 있고 그림6같다.  \nOur Fraction object now has two very useful methods and looks like Figure 6.\n\n추가적인 메서드 그룹으로서 우리의 예제 분스 클래스는 두 분수를 서로 비교할 수 있도록 포함할 필요가 있다.   \nAn additional group of methods that we need to include in our example Fraction class will allow two fractions to compare themselves to one another. Assume we have two Fraction objects, f1 and f2. f1\u003d\u003df2 will only be True if they are references to the same object. Two different objects with the same numerators and denominators would not be equal under this implementation. This is called shallow equality (see Figure 7).\n\n그림\n\n__eq__ 메서드를 오버라이해 같은 참조가 아닌 같은 값에 의해 깊은 동등을 만들 수 있다????  \nWe can create deep equality (see Figure 7)–equality by the same value, not the same reference–by overriding the __eq__ method.\n\n__eq__ 메서드는 모든 크래스에서 이용할 수 있는 표준 메서드다.   \nThe __eq__ method is another standard method available in any class.\n \n__eq__ 메서드는 두개의 객체를 비교하고 만약 값이 같으면 True를 리턴한다. 그렇지 않으면 False를.  \nThe __eq__ method compares two objects and returns True if their values are the same, False otherwise.\n\n분스 클래스에서, 우리는 __eq__메서드를 구현할 수 있다. 두개의 분수를 다시 넣음으로써 그리고 분자를 비교함으로써.  \nIn the Fraction class, we can implement the __eq__ method by again putting the two fractions in common terms and then comparing the numerators (see Listing 7).\n\n오버라이딩 할 수 있는 다른 관계 연산자는 중요하다.  \nIt is important to note that there are other relational operators that can be overridden.\n \n예를 들어, __le__ 메서드는 이하나 동등 함수를 제공한다.  \nFor example, the __le__ method provides the less than or equal functionality.\n",
      "metadata": {
        "pycharm": {
          "metadata": false,
          "name": "#%% md\n"
        }
      }
    },
    {
      "cell_type": "code",
      "execution_count": null,
      "outputs": [],
      "source": "def __eq__(self, other):\n    firstnum \u003d self.num * other.den\n    secondnum \u003d other.num * self.den\n\n    return firstnum \u003d\u003d secondnum\n",
      "metadata": {
        "pycharm": {
          "metadata": false,
          "name": "#%%\n"
        }
      }
    },
    {
      "cell_type": "markdown",
      "source": "여기까지 완벽한 분수 클래스는 activecode2에 있다. 수학적이고 관계적인 메서드를 예제로 남겨둔다.  \nThe complete Fraction class, up to this point, is shown in ActiveCode 2. We leave the remaining arithmetic and relational methods as exercises.\n",
      "metadata": {
        "pycharm": {
          "metadata": false,
          "name": "#%% md\n"
        }
      }
    },
    {
      "cell_type": "code",
      "execution_count": null,
      "outputs": [],
      "source": "def gcd(m,n):\n    while m%n !\u003d 0:\n        oldm \u003d m\n        oldn \u003d n\n\n        m \u003d oldn\n        n \u003d oldm%oldn\n    return n\n\nclass Fraction:\n     def __init__(self,top,bottom):\n         self.num \u003d top\n         self.den \u003d bottom\n\n     def __str__(self):\n         return str(self.num)+\"/\"+str(self.den)\n\n     def show(self):\n         print(self.num,\"/\",self.den)\n\n     def __add__(self,otherfraction):\n         newnum \u003d self.num*otherfraction.den + \\\n                      self.den*otherfraction.num\n         newden \u003d self.den * otherfraction.den\n         common \u003d gcd(newnum,newden)\n         return Fraction(newnum//common,newden//common)\n\n     def __eq__(self, other):\n         firstnum \u003d self.num * other.den\n         secondnum \u003d other.num * self.den\n\n         return firstnum \u003d\u003d secondnum\n\nx \u003d Fraction(1,2)\ny \u003d Fraction(2,3)\nprint(x+y)\nprint(x \u003d\u003d y)\n\n",
      "metadata": {
        "pycharm": {
          "metadata": false,
          "name": "#%%\n"
        }
      }
    },
    {
      "cell_type": "markdown",
      "source": "self check\n\n연산자가 어떻게 파이썬 클래스로 구현되는지 이해하고 적절히 메서드를 어떻게 써야하는지,  *, /, -, 를 구현하기 위해. 역시 \u003e \u003c 도 구현해라.  \nTo make sure you understand how operators are implemented in Python classes, and how to properly write methods, write some methods to implement *, /, and - . Also implement comparison operators \u003e and \u003c",
      "metadata": {
        "pycharm": {
          "metadata": false,
          "name": "#%% md\n"
        }
      }
    }
  ],
  "metadata": {
    "language_info": {
      "codemirror_mode": {
        "name": "ipython",
        "version": 2
      },
      "file_extension": ".py",
      "mimetype": "text/x-python",
      "name": "python",
      "nbconvert_exporter": "python",
      "pygments_lexer": "ipython2",
      "version": "2.7.6"
    },
    "kernelspec": {
      "name": "python3",
      "language": "python",
      "display_name": "Python 3"
    }
  },
  "nbformat": 4,
  "nbformat_minor": 0
}