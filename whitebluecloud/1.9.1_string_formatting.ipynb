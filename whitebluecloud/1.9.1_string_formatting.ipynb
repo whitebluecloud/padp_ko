{
  "cells": [
    {
      "cell_type": "markdown",
      "metadata": {
        "collapsed": true,
        "pycharm": {
          "name": "#%% md\n"
        }
      },
      "source": "1.9.1 문자열 포매팅\n\u003d\u003d\n우리는 이미 print 함수가 매우 간단히 파이썬 프로그램을 통한 결과값을 제공한다는 것을 봤다.   \nWe have already seen that the print function provides a very simple way to output values from a Python program.\n\nprint는 0개 이상의 파라미터를 받고 그것들을 사용해 기본 구분자로서 한개의 _를 사용한다.   \nprint takes zero or more parameters and displays them using a single blank as the default separator.\n\nsep 매개변수를 세팅함으로써 각 문자열을 바꿀 수 있다.  \nIt is possible to change the separator character by setting the sep argument.\n\n추가로, 각 프린트는 기본적으로 새로운 라인의 문자열로 끝난다.  \nIn addition, each print ends with a newline character by default.\n\n이러한 행동?은 end 매개변수 세팅에 의해 바뀔 수 있다.  \nThis behavior can be changed by setting the end argument.\n\n이 변화들은 다음 세션에 있다.  \nThese variations are shown in the following session:\n"
    },
    {
      "cell_type": "code",
      "execution_count": 1,
      "outputs": [
        {
          "name": "stdout",
          "text": [
            "Hello\nHello World\nHello***World\nHello World***"
          ],
          "output_type": "stream"
        }
      ],
      "source": "print(\"Hello\")\nprint(\"Hello\",\"World\")\nprint(\"Hello\",\"World\", sep\u003d\"***\")\nprint(\"Hello\",\"World\", end\u003d\"***\")\n",
      "metadata": {
        "pycharm": {
          "metadata": false,
          "name": "#%%\n",
          "is_executing": false
        }
      }
    },
    {
      "cell_type": "markdown",
      "source": "출력의 모양을 보다 더 잘 제어하는 것은 유용하다.   \nIt is often useful to have more control over the look of your output.\n\n운좋게도, 파이썬은 포매팅 문자열이라는 대안을 제공한다.    \nFortunately, Python provides us with an alternative called formatted strings.\n \n서식이 지정된 문자열은 문자열에 삽입 될 변수의 자리 표시 자와 결합되는 단어 나 공백이 유지되는 템플릿입니다.    \nA formatted string is a template in which words or spaces that will remain constant are combined with placeholders for variables that will be inserted into the string.\n \n예를 들어, \nFor example,\n",
      "metadata": {
        "pycharm": {
          "metadata": false,
          "name": "#%% md\n"
        }
      }
    },
    {
      "cell_type": "code",
      "execution_count": 5,
      "outputs": [
        {
          "name": "stdout",
          "text": [
            "hun is 35 years old.\n"
          ],
          "output_type": "stream"
        }
      ],
      "source": "aName \u003d \"hee\"\nage \u003d 3\nprint(aName, \"is\", age, \"years old.\")\n",
      "metadata": {
        "pycharm": {
          "metadata": false,
          "name": "#%%\n",
          "is_executing": false
        }
      }
    },
    {
      "cell_type": "markdown",
      "source": "\nthe statment contains the words is and years old, but the name and the age will change depending on the variable values at the time of execution.\n \nUsing a formatted string, we write the previous statement as\n",
      "metadata": {
        "pycharm": {
          "metadata": false,
          "name": "#%% md\n"
        }
      }
    },
    {
      "cell_type": "code",
      "source": "aName \u003d \"hee\"\nage \u003d 3\nprint(\"%s is %d years old.\" % (aName, age))\n",
      "metadata": {
        "pycharm": {
          "metadata": false,
          "name": "#%%\n",
          "is_executing": false
        }
      },
      "execution_count": 6,
      "outputs": [
        {
          "name": "stdout",
          "text": [
            "hun is 35 years old.\n"
          ],
          "output_type": "stream"
        }
      ]
    },
    {
      "cell_type": "markdown",
      "source": "이 단순한 예제는 새로운 문자열 표현을 설명한다.  \nThis simple example illustrates a new string expression.\n \n% 연산자는 포매팅 연산자라고 불리우는 문자열 연산자다.  \nThe % operator is a string operator called the format operator.\n\n그 표현의 왼쪽은 템플릿이나 포매팅 문자열이고 오른쪽은 형식적인 문자열로 보유할 수 있는 값들의 컬렉션이다.  \nThe left side of the expression holds the template or format string, and the right side holds a collection of values that will be substituted into the format string.\n\n오른쪽 컬렉션의 값은 포매팅 문자열의 % 수와 일치한다.   \nNote that the number of values in the collection on the right side corresponds with the number of % characters in the format string.\n \n값은 컬력센여서 왼쪽에서 오른쪽순서로 가져와서 포맷문자열에 삽입된다.  \nValues are taken—in order, left to right—from the collection and inserted into the format string.\n\n더 상세한 포매팅 문자열의 두 측면을 봐보자.  \nLet’s look at both sides of this formatting expression in more detail.\n\n포맷 문자열은 하나 이상의 변환 스펙을 포함하고 있다.  \nThe format string may contain one or more conversion specifications.\n \n변환 문자는 포맷 연산자가 문자열의 해당 위치에 삽입될 값의 유형을 말해준다.  \nA conversion character tells the format operator what type of value is going to be inserted into that position in the string.\n \n아래의 예를 들어, %s 는 문자열을 지정하고, 반면에 %d는 정수를 지정한다.  \nIn the example above, the %s specifies a string, while the %d specifies an integer.\n\n다른 가능한 타입 스펙은 i, u, f, e, g, c, %이다. 테이블9는 다양한 타입 스펙을 요약한다.  \nOther possible type specifications include i, u, f, e, g, c, or %. Table 9 summarizes all of the various type specifications.\n\n문자|출력포맷\n---|-----\nd,i|정수\nu  |부호없는 정수\nf  |m.ddddd와 같은 실수\ne  |m.ddddde+/-xx와 같은 실수\nE  |m.ddddde+/-xx와 같은 실수\ng  |-4 미만이나 +5 이상은 %e. 그 외에는 %f\nc  |한개의 문자\ns  |문자열 또는 str 함수를 사용하여 문자열로 변환 할 수있는 모든 Python 데이터 객체\n%  |리터럴 문자 % 삽입\n\n포맷 문자에 더해, 당신은 역시 포매팅 수정자를 %d와 포맷 문자 사이에 포함할 수 있다.  \nIn addition to the format character, you can also include a format modifier between the % and the format character.\n\n포맷 수정자는 지정된 필드의 길이 값을 왼쪽정렬, 오른쪽 정렬에 사용할 수 있다.    \nFormat modifiers may be used to left-justify or right-justifiy the value with a specified field width.\n\n수정자는 필드의 폭을 소수점 이하의 자릿수와 함께 지정할 수 있다.   \nModifiers can also be used to specify the field width along with a number of digits after the decimal point.\n \n테이블10은 포맷 수정자를 설명한다.  \nTable 10 explains these format modifiers\n\n수정자|예제|설명\n----|---|---\nnumber|%20d|20의 길이 값\n-|%-20d|왼쪽의 너비만큼 20에 맞춤\n+|%+20d|오른쪽의 너비만큼 20에 맞춤\n0|%020d|20의 길이 값. 빈 값은 0으로 채운다.\n.|%20.2f|소수점 둘째자리와 20의 정수 값\n(name)|%(name)d|이름을 키로 사용해 사전에서 값을 가져온다.\n\n포맷 연산자의 오른쪽은 형식 문자에 삽입될 값의 컬렉션이다.   \nThe right side of the format operator is a collection of values that will be inserted into the format string.\n \n그 컬렉션은 튜플이거나 사전일 수 있다.  \nThe collection will be either a tuple or a dictionary.\n  \n만약 그 컬렉션이 튜플이면, 값은 위치의 순서에 맞춰 들어갈 것이다.  \nIf the collection is a tuple, the values are inserted in order of position.\n\n즉, 튜플의 첫번째 원소는 포맷 문자열의 첫 포맷문자열에 들어간다.   \nThat is, the first element in the tuple corresponds to the first format character in the format string.\n\n만약 그 컬렉션이 사전이면, 그 값은 그들의 키에 맞춰 들어간다.  \nIf the collection is a dictionary, the values are inserted according to their keys.\n \n이러한 경우 모든 포맷 문자들은 그 (name) 수정자를 키의 이름을 상세하는데 사용해야만 한다.   \nIn this case all format characters must use the (name) modifier to specify the name of the key.\n",
      "metadata": {
        "pycharm": {
          "metadata": false,
          "name": "#%% md\n"
        }
      }
    },
    {
      "cell_type": "code",
      "source": "price \u003d 24\nitem \u003d \"banana\"\nprint(\"The %s costs %d cents\" % (item, price))\nprint(\"The %+10s costs %5.2f cents\" % (item, price))\nprint(\"The %+10s costs %10.2f cents\" % (item, price))\nitemdict \u003d {\"item\":\"banana\", \"cost\":24}\nprint(\"The %(item)s costs %(cost)8.1f cents\" % itemdict)\n",
      "metadata": {
        "pycharm": {
          "metadata": false,
          "name": "#%%\n",
          "is_executing": false
        }
      },
      "execution_count": 4,
      "outputs": [
        {
          "name": "stdout",
          "text": [
            "The banana costs 24 cents\nThe     banana costs 24.00 cents\nThe     banana costs      24.00 cents\nThe banana costs     24.0 cents\n"
          ],
          "output_type": "stream"
        }
      ]
    },
    {
      "cell_type": "markdown",
      "source": "포맷 문자열, 포맷 수정자를 사용하는 형식 외에도 파이썬 문자열은 복잡한 형식 지을 구현하기 위해 새로운 포매팅 클래스와 함께 사용할 수 있는 형식 메서드가 포함되어 있습니다.    \nIn addition to format strings that use format characters and format modifiers, Python strings also include a format method that can be used in conjunction with a new Formatter class to implement complex string formatting.\n\n이 특징은 파이썬 라이브러리 레퍼런스 설명서에서 더 볼 수 있다.  \nMore about these features can be found in the Python library reference manual.\n",
      "metadata": {
        "pycharm": {
          "metadata": false,
          "name": "#%% md\n"
        }
      }
    }
  ],
  "metadata": {
    "language_info": {
      "codemirror_mode": {
        "name": "ipython",
        "version": 2
      },
      "file_extension": ".py",
      "mimetype": "text/x-python",
      "name": "python",
      "nbconvert_exporter": "python",
      "pygments_lexer": "ipython2",
      "version": "2.7.6"
    },
    "kernelspec": {
      "name": "python3",
      "language": "python",
      "display_name": "Python 3"
    }
  },
  "nbformat": 4,
  "nbformat_minor": 0
}