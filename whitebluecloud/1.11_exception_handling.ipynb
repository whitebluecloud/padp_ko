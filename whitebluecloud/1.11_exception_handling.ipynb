{
  "cells": [
    {
      "cell_type": "markdown",
      "metadata": {
        "collapsed": true,
        "pycharm": {
          "name": "#%% md\n"
        }
      },
      "source": "1.11_예외 처리\n\u003d\u003d\n프로그램을 작성할 때 일반적으로 발생하는 두 가지 유형의 오류가 있다.    \nThere are two types of errors that typically occur when writing programs.\n \n첫째로, 구문오류 알려진, 단순히 프로그래머가 구문이나 표현식의 구조를 잘못 이해했음을 의미합니다.  \nThe first, known as a syntax error, simply means that the programmer has made a mistake in the structure of a statement or expression.\n \n예를 들어, for문을 작성하고 콜론을 잊버리는 것은 올바르지 옳지 않다.   \nFor example, it is incorrect to write a for statement and forget the colon.\n"
    },
    {
      "cell_type": "code",
      "execution_count": 5,
      "outputs": [
        {
          "traceback": [
            "\u001b[0;36m  File \u001b[0;32m\"\u003cipython-input-5-1d63743465eb\u003e\"\u001b[0;36m, line \u001b[0;32m1\u001b[0m\n\u001b[0;31m    for i in range(10)\u001b[0m\n\u001b[0m                      ^\u001b[0m\n\u001b[0;31mSyntaxError\u001b[0m\u001b[0;31m:\u001b[0m invalid syntax\n"
          ],
          "ename": "SyntaxError",
          "evalue": "invalid syntax (\u003cipython-input-5-1d63743465eb\u003e, line 1)",
          "output_type": "error"
        }
      ],
      "source": "for i in range(10)\n",
      "metadata": {
        "pycharm": {
          "metadata": false,
          "name": "#%%\n",
          "is_executing": false
        }
      }
    },
    {
      "cell_type": "markdown",
      "source": "이 경우, 파이썬 인터프리터는 언어의 규칙을 따르지 않기 때문에 이 명령의 처리를 완료할 수 없다 것을 발견했다.   \nIn this case, the Python interpreter has found that it cannot complete the processing of this instruction since it does not conform to the rules of the language.\n\n구문 오류는 보통 더 빈번하다. 당신이 처음으로 언어를 배울때.   \nSyntax errors are usually more frequent when you are first learning a language.\n\n다른 타입의 에러는, 논리적 오류로 알려진, 프로그램은 실행되지만 잘못된 결과를 주는 상황을 denotes한다.  \nThe other type of error, known as a logic error, denotes a situation where the program executes but gives the wrong result.\n \n이것은 기본적인 알고리즘의 오류 또는 해당 알고리즘의 번역 오류로 인해 발생할 수 있다.   \nThis can be due to an error in the underlying algorithm or an error in your translation of that algorithm.\n \n경우에 따라, 논리 오류로 인해 0으 나눈거나 목록의 항목 인덱가 목록의 범위 밖에 있는 항목에 접근하려는 경우와 같은 매우 나쁜 상황이 발생할 수 있다.  \nIn some cases, logic errors lead to very bad situations such as trying to divide by zero or trying to access an item in a list where the index of the item is outside the bounds of the list.\n \n이 경우, 논리 오류로 인해 프로그램이 종료되는 런타임 오류가 발생할 수 있다.   \nIn this case, the logic error leads to a runtime error that causes the program to terminate.\n\n이 런타임 오류의 타입들은 통상적으로 exceptions 이라고 불리운다.   \nThese types of runtime errors are typically called exceptions.\n\n대부분, 프로그래머를 시작하는 것은 예외를 실행의 원인이 되는 치명적인 런타임 오류라고 생각하기만 한다.   \nMost of the time, beginning programmers simply think of exceptions as fatal runtime errors that cause the end of execution.\n\n그러나, 대부분의 프로그래밍 언어는 이러한 오류를 처리할 수 있는 방법을 제공하므로 프로그래머가 원하는 경우 개입할 수 있다.    \nHowever, most programming languages provide a way to deal with these errors that will allow the programmer to have some type of intervention if they so choose.\n \n게다가, 프로그래머는 프로그램 실행 상황에서 상황을 감지하면 예외를 만들 수 있다.   \nIn addition, programmers can create their own exceptions if they detect a situation in the program execution that warrants it.\n\n예외가 발생되면, 우리는 \u0027raised\u0027라고 말한다. 당신은 try 구문을 사용해 발생한 예외를 \"handle\"할 수 있다.    \nWhen an exception occurs, we say that it has been “raised.” You can “handle” the exception that has been raised by using a try statement.\n\n예를 들어, 사용자에게 정수를 요청한 다음 수학 라이브러리를 통해 제곱근 함수를 부는 다음 셰션을 고려하자.   \nFor example, consider the following session that asks the user for an integer and then calls the square root function from the math library.\n\n만약 사용자가 0이상의 값을 넣으면, print는 제곱근을 나타낼 것이다.  \nIf the user enters a value that is greater than or equal to 0, the print will show the square root.\n \n그러나, 만약 음수를 넣으면, 제곱근 함수는 ValueError 예외를 리포팅할 것이다.  \nHowever, if the user enters a negative value, the square root function will report a ValueError exception.\n",
      "metadata": {
        "pycharm": {
          "metadata": false,
          "name": "#%% md\n"
        }
      }
    },
    {
      "cell_type": "code",
      "execution_count": 2,
      "outputs": [
        {
          "traceback": [
            "\u001b[0;31m---------------------------------------------------------------------------\u001b[0m",
            "\u001b[0;31mValueError\u001b[0m                                Traceback (most recent call last)",
            "\u001b[0;32m\u003cipython-input-2-1a2b041ef215\u003e\u001b[0m in \u001b[0;36m\u003cmodule\u003e\u001b[0;34m\u001b[0m\n\u001b[1;32m      2\u001b[0m \u001b[0manumber\u001b[0m \u001b[0;34m\u003d\u001b[0m \u001b[0mint\u001b[0m\u001b[0;34m(\u001b[0m\u001b[0minput\u001b[0m\u001b[0;34m(\u001b[0m\u001b[0;34m\"Please enter an integer \"\u001b[0m\u001b[0;34m)\u001b[0m\u001b[0;34m)\u001b[0m\u001b[0;34m\u001b[0m\u001b[0m\n\u001b[1;32m      3\u001b[0m \u001b[0;34m\u001b[0m\u001b[0m\n\u001b[0;32m----\u003e 4\u001b[0;31m \u001b[0mprint\u001b[0m\u001b[0;34m(\u001b[0m\u001b[0mmath\u001b[0m\u001b[0;34m.\u001b[0m\u001b[0msqrt\u001b[0m\u001b[0;34m(\u001b[0m\u001b[0manumber\u001b[0m\u001b[0;34m)\u001b[0m\u001b[0;34m)\u001b[0m\u001b[0;34m\u001b[0m\u001b[0m\n\u001b[0m",
            "\u001b[0;31mValueError\u001b[0m: math domain error"
          ],
          "ename": "ValueError",
          "evalue": "math domain error",
          "output_type": "error"
        }
      ],
      "source": "import math\nanumber \u003d int(input(\"Please enter an integer \"))\nprint(math.sqrt(anumber))",
      "metadata": {
        "pycharm": {
          "metadata": false,
          "name": "#%% \n",
          "is_executing": false
        }
      }
    },
    {
      "cell_type": "markdown",
      "source": "우리는 예외를 처리할 수 있다. 프린트함수를 부를때. try 블록을 이용해.  \nWe can handle this exception by calling the print function from within a try block.\n\n예외 블록은 예외를 \"catches\"하고 예외가 발생하는 경우 사용자에게 메시지를 다시 인쇄한다.   \nA corresponding except block “catches” the exception and prints a message back to the user in the event that an exception occurs.\n\n예를 들어,  \nFor example:\n",
      "metadata": {
        "pycharm": {
          "metadata": false,
          "name": "#%% md\n"
        }
      }
    },
    {
      "cell_type": "code",
      "execution_count": 6,
      "outputs": [
        {
          "name": "stdout",
          "text": [
            "Bad Value for square root\nUsing absolute value instead\n4.795831523312719\n"
          ],
          "output_type": "stream"
        }
      ],
      "source": "try:\n    print(math.sqrt(anumber))\nexcept:\n    print(\"Bad Value for square root\")\n    print(\"Using absolute value instead\")\n    print(math.sqrt(abs(anumber)))",
      "metadata": {
        "pycharm": {
          "metadata": false,
          "name": "#%%\n",
          "is_executing": false
        }
      }
    },
    {
      "cell_type": "markdown",
      "source": "\n예외가 sqrt에 의해 발생한다는 사실을 알고 메시지를 사용자에게 다시 출력하고 절대값을 이용 음이 아닌 숫자의 제곱근을 가지는지 확인한다.  \nwill catch the fact that an exception is raised by sqrt and will instead print the messages back to the user and use the absolute value to be sure that we are taking the square root of a non-negative number.\n\n이것은 프로그램이 종료되지않고 다음 구문으로 진행된다.    \nThis means that the program will not terminate but instead will continue on to the next statements.\n\n프로그래머가 raise문을 사용해 런타임 예외를 발생시킬 수 있다.  \nIt is also possible for a programmer to cause a runtime exception by using the raise statement.\n \n예를 들어, 음수로 제곱근 함수를 호출하는 대신, 우리는 체크할 수 있다. 값을 검사하고 자신의 예외를 발생시킬 수 있었다.  \nFor example, instead of calling the square root function with a negative number, we could have checked the value first and then raised our own exception.\n\n코드 조각은 새로운 런타임예외 생성한 결과를 보여준다.   \nThe code fragment below shows the result of creating a new RuntimeError exception.\n\n프로그램은 여전히 종료되지만 종료를 발생시킨 예외는 프로그래머가 명시적으로 작성된 것이다.  \nNote that the program would still terminate but now the exception that caused the termination is something explicitly created by the programmer.    \n",
      "metadata": {
        "pycharm": {
          "metadata": false
        }
      }
    },
    {
      "cell_type": "code",
      "execution_count": 4,
      "outputs": [
        {
          "traceback": [
            "\u001b[0;31m---------------------------------------------------------------------------\u001b[0m",
            "\u001b[0;31mRuntimeError\u001b[0m                              Traceback (most recent call last)",
            "\u001b[0;32m\u003cipython-input-4-6eeb81c190da\u003e\u001b[0m in \u001b[0;36m\u003cmodule\u003e\u001b[0;34m\u001b[0m\n\u001b[1;32m      1\u001b[0m \u001b[0;32mif\u001b[0m \u001b[0manumber\u001b[0m \u001b[0;34m\u003c\u001b[0m \u001b[0;36m0\u001b[0m\u001b[0;34m:\u001b[0m\u001b[0;34m\u001b[0m\u001b[0m\n\u001b[0;32m----\u003e 2\u001b[0;31m     \u001b[0;32mraise\u001b[0m \u001b[0mRuntimeError\u001b[0m\u001b[0;34m(\u001b[0m\u001b[0;34m\"You can`t use a negative number\"\u001b[0m\u001b[0;34m)\u001b[0m\u001b[0;34m\u001b[0m\u001b[0m\n\u001b[0m\u001b[1;32m      3\u001b[0m \u001b[0;32melse\u001b[0m\u001b[0;34m:\u001b[0m\u001b[0;34m\u001b[0m\u001b[0m\n\u001b[1;32m      4\u001b[0m     \u001b[0mprint\u001b[0m\u001b[0;34m(\u001b[0m\u001b[0mmath\u001b[0m\u001b[0;34m.\u001b[0m\u001b[0msqrt\u001b[0m\u001b[0;34m(\u001b[0m\u001b[0manumber\u001b[0m\u001b[0;34m)\u001b[0m\u001b[0;34m)\u001b[0m\u001b[0;34m\u001b[0m\u001b[0m\n",
            "\u001b[0;31mRuntimeError\u001b[0m: You can`t use a negative number"
          ],
          "ename": "RuntimeError",
          "evalue": "You can`t use a negative number",
          "output_type": "error"
        }
      ],
      "source": "if anumber \u003c 0:\n    raise RuntimeError(\"You can`t use a negative number\")\nelse:\n    print(math.sqrt(anumber))\n",
      "metadata": {
        "pycharm": {
          "metadata": false,
          "name": "#%%\n",
          "is_executing": false
        }
      }
    },
    {
      "cell_type": "markdown",
      "source": "다양한 종류의 예외가 있다. RuntimeError 이외에 추가적으로 발생가능한.  \nThere are many kinds of exceptions that can be raised in addition to the RuntimeError shown above.\n\n파이썬 레퍼런스를 참고해라. 가능한 모든 예외타입목록과 어떻게 너가 그것을 만드는지.    \nSee the Python reference manual for a list of all the available exception types and for how to create your own.",
      "metadata": {
        "pycharm": {
          "metadata": false,
          "name": "#%% md\n"
        }
      }
    }
  ],
  "metadata": {
    "language_info": {
      "codemirror_mode": {
        "name": "ipython",
        "version": 2
      },
      "file_extension": ".py",
      "mimetype": "text/x-python",
      "name": "python",
      "nbconvert_exporter": "python",
      "pygments_lexer": "ipython2",
      "version": "2.7.6"
    },
    "kernelspec": {
      "name": "python3",
      "language": "python",
      "display_name": "Python 3"
    }
  },
  "nbformat": 4,
  "nbformat_minor": 0
}