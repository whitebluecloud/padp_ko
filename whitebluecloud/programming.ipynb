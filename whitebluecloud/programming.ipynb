{
  "cells": [
    {
      "cell_type": "markdown",
      "source": "1.4 컴퓨터과학이란?\n\u003d\u003d\n\n프로그래밍은 과정이다. 그 과정은 알고리즘과 그것을 표현하는 프로그래밍언어로 컴퓨터에 의해 실행되도록 하는 것이다.   \nProgramming is the process of taking an algorithm and encoding it into a notation, a programming language, so that it can be executed by a computer.\n \n비록 많은 프로그래밍언어와 다양한 타입의 컴퓨터언어가 존재해도, 중요한 첫걸음은 솔루션을 찾는 것이 필요하다.  \nAlthough many programming languages and many different types of computers exist, the important first step is the need to have the solution. \n\n알고리즘없이는 프로그램도 없다.  \nWithout an algorithm there can be no program.\n\n컴퓨터과학은 프로그래밍언어를 공부하는 것이 아니다.  \nComputer science is not the study of programming.\n  \n그러나, 프로그래밍은 컴퓨터과학자가 하는 것중 중요한 부분이다.  \nProgramming, however, is an important part of what a computer scientist does.\n\n프로그래밍은 종종 방법이다. 그 방법은 우리가 우리의 솔루션을 표현해 만드는 것이다.  \nProgramming is often the way that we create a representation for our solutions.\n\n그러므로, 이 언어표현과 그것을 만드는 과정은 원리의 기본요소일 수 있다.  \nTherefore, this language representation and the process of creating it becomes a fundamental part of the discipline.\n\n알고리즘은 의도된 결과를 생산해낼 필요가 있는 스텝의 세트로 나타낼 필요가 있는 문제의 해결책으로 묘사된다.    \nAlgorithms describe the solution to a problem in terms of the data needed to represent the problem instance and the set of steps necessary to produce the intended result.\n\n프로그래밍언어는 표기할 수 있는 방법으로 생산되야만한다. 프로세스와 데이터 둘다 표현할 수 있는 방법. 끝으로, 언어는 controll constructs와 데이터 타입을 생산한다.\nProgramming languages must provide a notational way to represent both the process and the data. To this end, languages provide control constructs and data types.\n\nController constructs는 알고리즘틱한 스텝이 모호하지 않은 방법으로 편리하게 표현되게 해준다.  \nControl constructs allow algorithmic steps to be represented in a convenient yet unambiguous way.\n\n최소한, 알고리즘은 구조가 요구된다. 그 구조는 일련의 과정으로 수행한다. 의사결정 선택과 반복문으로.   \nAt a minimum, algorithms require constructs that perform sequential processing, selection for decision-making, and iteration for repetitive control. \n\n언어가 이 기본적인 statements를 만들어냄에 따라 알고리즘은 나타날 수 있다.   \nAs long as the language provides these basic statements, it can be used for algorithm representation.\n\n모든 데이터는 이진수의 문자열로 표현된다.  \nAll data items in the computer are represented as strings of binary digits.\n\n이 문자들에 의미를 주기위해 우리는 데이터타입이 필요하다.  \nIn order to give these strings meaning, we need to have data types.\n\n데이터 타입은 인터프리터를 생산한다. 이 2진데이터를 위해 우리가 데이터를 생각할 수 있게. 문제를 풀 수 있는 단서를 make sense할 수 있게 이 저수준, 짜여진 데이터유형(때때로 기본데이터타입)을 제공한다. 알고리즘개발을 위해 블록을 만드는것.\nData types provide an interpretation for this binary data so that we can think about the data in terms that make sense with respect to the problem being solved. These low-level, built-in data types (sometimes called the primitive data types) provide the building blocks for algorithm development.\n\n예를 들어, 대부분의 프로그래밍언어는 숫자를 위한 데이터타입을 만든다.   \nFor example, most programming languages provide a data type for integers.\n\n컴퓨터의 메모리에 있는 이진수 문자열들은 integer로 해석될 수 있고 통상적인 의미로 우리는 흔히 integer와 연관짓는다.  \nStrings of binary digits in the computer’s memory can be interpreted as integers and given the typical meanings that we commonly associate with integers (e.g. 23, 654, and -19).\n\n게다가, 데이터타입은 역시 명령어들의 설명을 생산한다. 그 명령어는 데이터 데이터로 참여알 수 있다. integer로, +,-,*와 같은 명령어는 흔하다. 우리는 기대한다. 숫자타입의 데이터가 수학연산에 참여할 수 있다고. \nIn addition, a data type also provides a description of the operations that the data items can participate in. With integers, operations such as addition, subtraction, and multiplication are common. We have come to expect that numeric types of data can participate in these arithmetic operations.\n\n종종 발생된다 어려움이. 그 어려움은 사실이다. 문제와 그 해결책이 복잡하다고. 이 단순히 생산된언어구조와 데이터타입이 비록 확실히 복잡한 해결책을 충분히 표현하지 못한다 할지라도. 통상적으로 단점이 있다. 우리가 문제를 해결하는 과정에 있어서.  \nThe difficulty that often arises for us is the fact that problems and their solutions are very complex. These simple, language-provided constructs and data types, although certainly sufficient to represent complex solutions, are typically at a disadvantage as we work through the problem-solving process.\n\n우리는 필요하다. 복잡성을 해결하고 해결책을 만들어내도록 도울 수 있는 방법이.  \nWe need ways to control this complexity and assist with the creation of solutions.",
      "metadata": {
        "pycharm": {
          "metadata": false,
          "name": "#%% md\n",
          "is_executing": false
        }
      }
    }
  ],
  "metadata": {
    "language_info": {
      "codemirror_mode": {
        "name": "ipython",
        "version": 2
      },
      "file_extension": ".py",
      "mimetype": "text/x-python",
      "name": "python",
      "nbconvert_exporter": "python",
      "pygments_lexer": "ipython2",
      "version": "2.7.6"
    },
    "kernelspec": {
      "name": "python3",
      "language": "python",
      "display_name": "Python 3"
    },
    "stem_cell": {
      "cell_type": "raw",
      "source": "",
      "metadata": {
        "pycharm": {
          "metadata": false
        }
      }
    }
  },
  "nbformat": 4,
  "nbformat_minor": 0
}