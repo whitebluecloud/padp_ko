{
 "cells": [
  {
   "cell_type": "markdown",
   "metadata": {},
   "source": [
    "We often have a need to interact with users, either to get data or to provide some sort of result.\n",
    "* 우리는 종종 데이터를 얻거나 결과를 제공하기 위해 유저와의 상호작용을 할 필요가 있다. \n",
    "Most programs today use a dialog box as a way of asking the user to provide some type of input. \n",
    "* 현재 대부분의 프로그램들은 다이얼로그 박스를 사용하여 사용자에게 입력 유형을 제공하도록 요청합니다.\n",
    "While Python does have a way to create dialog boxes, there is a much simpler function that we can use. \n",
    "* 파이썬 다이얼로그 박스를 만드는 방법을 가지고 있지만, 더 간단하게 사용할 수 있는 함수가 있다.\n",
    "Python provides us with a function that allows us to ask a user to enter some data and returns a reference to the data in the form of a string.\n",
    "* 파이썬은 사용자에게 데이터를 입력하고 문자열 형태의 데이터에 대한 참조를 반환하는 함수를 제공한다.\n",
    "The function is called input.\n",
    "* 이 함수는 input 이라고 불린다.\n",
    "Python’s input function takes a single parameter that is a string. \n",
    "* 파이썬의 input 함수는 문자열 단일 파라미터 갖는다.\n",
    "This string is often called the prompt because it contains some helpful text prompting the user to enter something. \n",
    "* 이 문자열은 사용자가 무언가를 입력하도록 설득하는 유용한 텍스트를 포함하기 때문에 prompt 라고 불려진다.\n",
    "For example, you might call input as follows:\n",
    "* 에ㅖ를들면, 다음과 같이 입력을 호출 할 수 있다."
   ]
  },
  {
   "cell_type": "markdown",
   "metadata": {},
   "source": [
    "``` \n",
    "    aName = input('Please enter your name: ')\n",
    "```"
   ]
  },
  {
   "cell_type": "markdown",
   "metadata": {},
   "source": [
    "Now whatever the user types after the prompt will be stored in the aName variable.\n",
    "* 이제 prompt뒤에 사용자가 입력하는 모든것들은 aName 변수에 저장된다.\n",
    "Using the input function, we can easily write instructions that will prompt the user to enter data and then incorporate that data into further processing. \n",
    "* input 함수 사용은 사용자가 데이터 입력하고 그 데이터를 통합하는 설명을 쉽게 쓸수 있다.\n",
    "For example, in the following two statements, the first asks the user for their name and the second prints the result of some simple processing based on the string that is provided.\n",
    "* 예를들면, 아래의 두 문장에서, 첫번째로 사용자 이름을 묻고 두번째로 문자열 기반의 간단한 처리 결과 print를 제공된다."
   ]
  },
  {
   "cell_type": "code",
   "execution_count": 1,
   "metadata": {},
   "outputs": [
    {
     "name": "stdout",
     "output_type": "stream",
     "text": [
      "Please enter your name bosol\n",
      "Your name in all capitals is BOSOL and has length 5\n"
     ]
    }
   ],
   "source": [
    "aName = input(\"Please enter your name \")\n",
    "print(\"Your name in all capitals is\",aName.upper(),\n",
    "      \"and has length\", len(aName))"
   ]
  },
  {
   "cell_type": "markdown",
   "metadata": {},
   "source": [
    "It is important to note that the value returned from the input function will be a string representing the exact characters that were entered after the prompt.\n",
    "* input 함수로부터 반환된 값은 prompt 뒤에 입력된 정확한 문자열 string 표현이 된다는것에 유의해야한다.\n",
    "If you want this string interpreted as another type, you must provide the type conversion explicitly. \n",
    "* 이문자열을 다른 유형으로 해석하려면, 전환 유형을 명확하게 제공해야한다.\n",
    "In the statements below, the string that is entered by the user is converted to a float so that it can be used in further arithmetic processing.\n",
    "* 아래 문장에서, 사용자에게 입력된 문자열은 추가연산처리에 사용되도록 float으로 변환되었다. \n",
    "```\n",
    "sradius = input(\"Please enter the radius of the circle \")\n",
    "radius = float(sradius)\n",
    "diameter = 2 * radius\n",
    "```"
   ]
  },
  {
   "cell_type": "code",
   "execution_count": null,
   "metadata": {},
   "outputs": [],
   "source": []
  }
 ],
 "metadata": {
  "kernelspec": {
   "display_name": "Python 3",
   "language": "python",
   "name": "python3"
  },
  "language_info": {
   "codemirror_mode": {
    "name": "ipython",
    "version": 3
   },
   "file_extension": ".py",
   "mimetype": "text/x-python",
   "name": "python",
   "nbconvert_exporter": "python",
   "pygments_lexer": "ipython3",
   "version": "3.7.3"
  }
 },
 "nbformat": 4,
 "nbformat_minor": 2
}
