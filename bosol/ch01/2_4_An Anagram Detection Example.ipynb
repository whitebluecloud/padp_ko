{
 "cells": [
  {
   "cell_type": "markdown",
   "metadata": {},
   "source": [
    "Q-28) Given the following code fragment, what is its Big-O running time?\n",
    "\n",
    "test = 0\n",
    "for i in range(n):\n",
    "   for j in range(n):\n",
    "      test = test + i * j\n",
    "      \n",
    "A) (B) O(n^2)      "
   ]
  },
  {
   "cell_type": "markdown",
   "metadata": {},
   "source": [
    "Q-29) Given the following code fragment what is its Big-O running time?\n",
    "\n",
    "test = 0\n",
    "for i in range(n):\n",
    "   test = test + 1\n",
    "\n",
    "for j in range(n):\n",
    "   test = test - 1\n",
    "   \n",
    "(A) O(n)   "
   ]
  },
  {
   "cell_type": "markdown",
   "metadata": {},
   "source": [
    "Q-30) Given the following code fragment what is its Big-O running time?\n",
    "\n",
    "i = n\n",
    "while i > 0:\n",
    "   k = 2 + 2\n",
    "   i = i // 2\n",
    "\n",
    "A) (C) O(log n)"
   ]
  }
 ],
 "metadata": {
  "kernelspec": {
   "display_name": "Python 3",
   "language": "python",
   "name": "python3"
  },
  "language_info": {
   "codemirror_mode": {
    "name": "ipython",
    "version": 3
   },
   "file_extension": ".py",
   "mimetype": "text/x-python",
   "name": "python",
   "nbconvert_exporter": "python",
   "pygments_lexer": "ipython3",
   "version": "3.7.3"
  }
 },
 "nbformat": 4,
 "nbformat_minor": 2
}
