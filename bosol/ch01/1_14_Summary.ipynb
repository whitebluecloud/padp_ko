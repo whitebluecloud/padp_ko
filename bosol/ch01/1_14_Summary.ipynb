{
 "cells": [
  {
   "cell_type": "markdown",
   "metadata": {},
   "source": [
    "##### 1.14. Summary\n",
    "\n",
    "Computer science is the study of problem solving.    \n",
    "컴퓨터과학은 문제를 푸는 학습이다.   \n",
    "Computer science uses abstraction as a tool for representing both processes and data.   \n",
    "컴퓨터과학은 프로세스와 데이터 표현을 위해 툴로써 추상화를 사용한다.   \n",
    "Abstract data types allow programmers to manage the complexity of a problem domain by hiding the details of the data.    \n",
    "추상 데이터 형식을 사용하면 프로그래머는 데이터의 세부 정보를 숨김으로써 문제가있는 도메인의 복잡성을 관리 할 수 있다.    \n",
    "Python is a powerful, yet easy-to-use, object-oriented language.   \n",
    "파이썬은 파워풀하고, 쉽게 사용할수 있고 객체지향언어이다.   \n",
    "Lists, tuples, and strings are built in Python sequential collections.    \n",
    "리스트, 튜플, 문자열들은 파이썬의 순차컬렉션으로 내장되어있다.    \n",
    "Dictionaries and sets are nonsequential collections of data.    \n",
    "사전과 세트는 비순차적 데이터의 컬렉션이다.     \n",
    "Classes allow programmers to implement abstract data types.     \n",
    "클래스를 사용하면 프로그래머는 추상데이터타입을 구현할 수 있다.   \n",
    "Programmers can override standard methods as well as create new methods.    \n",
    "프로그래머는 새로운 메소드를 생성할 뿐만 아니라 표준메소드를 오버라이드 할 수 있다.   \n",
    "Classes can be organized into hierarchies.    \n",
    "클래스는 계층형 구조로 구성될 수 있다.     \n",
    "A class constructor should always invoke the constructor of its parent before continuing on with its own data and behavior.    \n",
    "클래스 생성자는 데이터와 동작을 지속하기전에 항상 부모의 생성자를 호출해야만 한다.    "
   ]
  },
  {
   "cell_type": "code",
   "execution_count": null,
   "metadata": {},
   "outputs": [],
   "source": []
  }
 ],
 "metadata": {
  "kernelspec": {
   "display_name": "Python 3",
   "language": "python",
   "name": "python3"
  },
  "language_info": {
   "codemirror_mode": {
    "name": "ipython",
    "version": 3
   },
   "file_extension": ".py",
   "mimetype": "text/x-python",
   "name": "python",
   "nbconvert_exporter": "python",
   "pygments_lexer": "ipython3",
   "version": "3.7.3"
  }
 },
 "nbformat": 4,
 "nbformat_minor": 2
}
