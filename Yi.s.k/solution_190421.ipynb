{
 "cells": [
  {
   "cell_type": "code",
   "execution_count": null,
   "metadata": {},
   "outputs": [],
   "source": [
    "def series_sum(n):\n",
    "    # Happy Coding ^_^\n",
    "    a = 1.00\n",
    "    b = 0.00\n",
    "    for i in range(0, n-1):\n",
    "        a = a + 3.00\n",
    "        b = b + (1.00/a)\n",
    "    if n == 0:\n",
    "        return \"%.2f\"%b\n",
    "    else :\n",
    "        c = \"%.2f\"%(1+b)\n",
    "        return c\n",
    "    "
   ]
  }
 ],
 "metadata": {
  "kernelspec": {
   "display_name": "Python 3",
   "language": "python",
   "name": "python3"
  },
  "language_info": {
   "codemirror_mode": {
    "name": "ipython",
    "version": 3
   },
   "file_extension": ".py",
   "mimetype": "text/x-python",
   "name": "python",
   "nbconvert_exporter": "python",
   "pygments_lexer": "ipython3",
   "version": "3.7.3"
  }
 },
 "nbformat": 4,
 "nbformat_minor": 2
}
