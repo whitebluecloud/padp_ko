{
 "cells": [
  {
   "cell_type": "code",
   "execution_count": null,
   "metadata": {},
   "outputs": [],
   "source": [
    "1.14. Summary\n",
    "1.14 요약\n",
    "Computer science is the study of problem solving.\n",
    "컴퓨터 과학은 문제를 해결의 연구이다.\n",
    "Computer science uses abstraction as a tool for representing both processes and data.\n",
    "컴퓨터 과학은 프로세스와 데이터를 나타내는 도구로서 추상화를 사용한다.\n",
    "Abstract data types allow programmers to manage the complexity of a problem domain by hiding the details of the data.\n",
    "추상 데이터 유형은 프로그래머가 데이터의 세부 사항을 숨김으로서 problem domain의 복잡성을 관리할 수 있게 해준다.\n",
    "Python is a powerful, yet easy-to-use, object-oriented language.\n",
    "파이썬은 강력하면서도 사용하기 쉬운 객체 지향 언어이다.\n",
    "Lists, tuples, and strings are built in Python sequential collections.\n",
    "리스트, 튜플, 그리고 문자열은 파이썬 순차 콜렉션에 내장되어있다.\n",
    "Dictionaries and sets are nonsequential collections of data.\n",
    "Dictionaries와 set들은 데이터의 비 순차적 집합이다.\n",
    "Classes allow programmers to implement abstract data types.\n",
    "클래스는 프로그래머가 추상 데이터 유형을 구현할 수 있게 해준다.\n",
    "Programmers can override standard methods as well as create new methods.\n",
    "프로그래머들은 새 메서드를 생성할 뿐 아니라 표준 메서드를 오버라이드 할 수도 있다.\n",
    "Classes can be organized into hierarchies.\n",
    "클래스는 계층 구조로 구성될 수 있다.\n",
    "A class constructor should always invoke the constructor of its parent before continuing on with its own data and behavior.\n",
    "클래스 생성자는 고유 데이터와 동작을 지속하기 전에 항상 부모의 생성자를 호출해야 한다."
   ]
  }
 ],
 "metadata": {
  "kernelspec": {
   "display_name": "Python 3",
   "language": "python",
   "name": "python3"
  },
  "language_info": {
   "codemirror_mode": {
    "name": "ipython",
    "version": 3
   },
   "file_extension": ".py",
   "mimetype": "text/x-python",
   "name": "python",
   "nbconvert_exporter": "python",
   "pygments_lexer": "ipython3",
   "version": "3.7.3"
  }
 },
 "nbformat": 4,
 "nbformat_minor": 2
}
