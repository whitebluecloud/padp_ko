{
 "cells": [
  {
   "cell_type": "code",
   "execution_count": null,
   "metadata": {},
   "outputs": [],
   "source": [
    "1.13. Object-Oriented Programming in Python: Defining Classes\n",
    "    파이썬의 객체 지향 프로그래밍 : 클래스 정의하기!\n",
    "We stated earlier that Python is an object-oriented programming language. So far, we have used a number of built-in classes to show examples of data and control structures. One of the most powerful features in an object-oriented programming language is the ability to allow a programmer (problem solver) to create new classes that model data that is needed to solve the problem.\n",
    "이전에 파이썬이 객체지향 언어라고 언급했다. 여태까지 데이터 및 컨트롤 구조의 예시를 보이기 위해 수많은 내부 클래스들을 사용해왔다. 객체 지향 프로그래밍 언어에서 가장 강력한 기능 중 하나는 프로그래머가 문제를 해결하는데에 필요한 데이터를 모델링하는 새로운 클래스들을 생성할 수 있게 하는 기능이다. \n",
    "Remember that we use abstract data types to provide the logical description of what a data object looks like (its state) and what it can do (its methods). By building a class that implements an abstract data type, a programmer can take advantage of the abstraction process and at the same time provide the details necessary to actually use the abstraction in a program. Whenever we want to implement an abstract data type, we will do so with a new class.\n",
    "데이터 객체가 어떻게 생겼는지(상태) 그리고 무얼 할 수 있는지(메서드)의 논리적 설명을 제공하기 위해  추상 데이터 타입을 사용한다는 것을 기억해라. 추상 데이터 타입을 구현하는 클래스를 작성함으로서, 프로그래머는 추상화 프로세스의 장점과 동시에 실제 프로그램에서 추상화를 사용하는데에 필요한 세부사항들을 얻을 수 있다. 추상 데이터 타입을 구현하고 싶을 때엔 언제든 새로운 클래스를 이용해 구현할 것이다."
   ]
  }
 ],
 "metadata": {
  "kernelspec": {
   "display_name": "Python 3",
   "language": "python",
   "name": "python3"
  },
  "language_info": {
   "codemirror_mode": {
    "name": "ipython",
    "version": 3
   },
   "file_extension": ".py",
   "mimetype": "text/x-python",
   "name": "python",
   "nbconvert_exporter": "python",
   "pygments_lexer": "ipython3",
   "version": "3.7.3"
  }
 },
 "nbformat": 4,
 "nbformat_minor": 2
}
