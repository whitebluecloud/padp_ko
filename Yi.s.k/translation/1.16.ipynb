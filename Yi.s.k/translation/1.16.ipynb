{
 "cells": [
  {
   "cell_type": "code",
   "execution_count": null,
   "metadata": {},
   "outputs": [],
   "source": [
    "1.16. Discussion Questions\n",
    "토론 질문\n",
    "Construct a class hierarchy for people on a college campus. Include faculty, staff, and students. What do they have in common? What distinguishes them from one another?\n",
    "대학 캠퍼스에 있는 사람들을 위한 계층 클래스를 구성하자. 교수진, 교직원 그리고 학생까지 포함해서. 이들의 공통점은 무엇인가? 구별되는 점은 무엇인가?\n",
    "Construct a class hierarchy for bank accounts.\n",
    "은행 계좌의 계층 클래스를 구성하자.\n",
    "Construct a class hierarchy for different types of computers.\n",
    "컴퓨터의 다른 유형에 대한 계층 클래스를 구성하자.\n",
    "Using the classes provided in the chapter, interactively construct a circuit and test it.\n",
    "챕터에서 제공된 클래스를 사용해서, 대화식으로 회로를 구성하고 테스트 해보자."
   ]
  }
 ],
 "metadata": {
  "kernelspec": {
   "display_name": "Python 3",
   "language": "python",
   "name": "python3"
  },
  "language_info": {
   "codemirror_mode": {
    "name": "ipython",
    "version": 3
   },
   "file_extension": ".py",
   "mimetype": "text/x-python",
   "name": "python",
   "nbconvert_exporter": "python",
   "pygments_lexer": "ipython3",
   "version": "3.7.3"
  }
 },
 "nbformat": 4,
 "nbformat_minor": 2
}
