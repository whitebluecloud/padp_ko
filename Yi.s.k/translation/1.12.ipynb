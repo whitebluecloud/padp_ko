{
 "cells": [
  {
   "cell_type": "code",
   "execution_count": 1,
   "metadata": {},
   "outputs": [
    {
     "ename": "SyntaxError",
     "evalue": "invalid syntax (<ipython-input-1-f11df8654a3c>, line 1)",
     "output_type": "error",
     "traceback": [
      "\u001b[0;36m  File \u001b[0;32m\"<ipython-input-1-f11df8654a3c>\"\u001b[0;36m, line \u001b[0;32m1\u001b[0m\n\u001b[0;31m    1.12. Defining Functions\u001b[0m\n\u001b[0m                           ^\u001b[0m\n\u001b[0;31mSyntaxError\u001b[0m\u001b[0;31m:\u001b[0m invalid syntax\n"
     ]
    }
   ],
   "source": [
    "1.12. Defining Functions\n",
    "The earlier example of procedural abstraction called upon a Python function called sqrt from the math module to compute the square root. \n",
    "In general, we can hide the details of any computation by defining a function. A function definition requires a name, a group of parameters, and a body. \n",
    "It may also explicitly return a value. For example, the simple function defined below returns the square of the value you pass into it.\n",
    "이전 절차적 추상화의 예제에서는 제곱근을 계산하기 위해 math 모듈에서 sqrt라는 파이썬 함수를 호추했다. \n",
    "일반적으로, 함수를 정의하여 모든 계산의 세부사항을 숨길 수 있다. 함수 정의에는 이름, 파라미터 그룹, 본문이 필요하다. \n",
    "또한 명시적으로 값을 반환할 수도 있다. 예를들어, 아래에 정의된 간단한 함수는 전달하는 값의 제곱을 반환한다.\n",
    "\n",
    ">>> def square(n):\n",
    "...    return n**2\n",
    "...\n",
    ">>> square(3)\n",
    "9\n",
    ">>> square(square(3))\n",
    "81\n",
    ">>>\n",
    "The syntax for this function definition includes the name, square, and a parenthesized list of formal parameters. For this function, n is the only formal parameter, which suggests that square needs only one piece of data to do its work. The details, hidden “inside the box,” simply compute the result of n**2 and return it. We can invoke or call the square function by asking the Python environment to evaluate it, passing an actual parameter value, in this case, 3. Note that the call to square returns an integer that can in turn be passed to another invocation.\n",
    "이 함수 정의에 대한 문법은 이름, 제곱(결과값), 그리고 정규 괄호 안에 있는 파라미터들을 포함한다. 이 함수에서 n은 유일한 정규 파라미터이고, 이는 square가 제 일을 하기 위해서는 데이터가 하나만 필요하다는 것을 의미한다. 상자안에 숨겨진 세부 사항들은 간단히 n**2의 결과를 계산하고 반환한다.  우리는 이 경우에 실제 파라미터값 3을 전달하면서 파이썬 환경에게 square 함수를 평가하게 하여 부르거나 호출할 수 있다. square를 호출하면 다른 호출로 전달될 수 있는 정수를 반환한다는 것을 명심해라. \n",
    "We could implement our own square root function by using a well-known technique called “Newton’s Method.” \n",
    "\"Newtons Method\"라고 불리는 잘 알려진 기술을 사용해서 우리만의 제곱근 함수를 구현할 수 있다.\n",
    "Newton’s Method for approximating square roots performs an iterative computation that converges on the correct value.\n",
    "제곱근을 근사하는 Newtons Method는 바른 값에 수렴하는 반복 계산을 수행한다.\n",
    "The equation newguess=12∗(oldguess+noldguess) takes a value n and repeatedly guesses the square root by making each newguess the oldguess in the subsequent iteration. \n",
    "방정식 newguess=12∗(oldguess+noldguess)는 값 n을 가지고 각 newguess를 다음 반복에서 oldguess로 만들어가며 반복해서 제곱근을 추정한다.\n",
    "The initial guess used here is n2. Listing 1 shows a function definition that accepts a value n and returns the square root of n after making 20 guesses.\n",
    "여기서 사용된 첫 추측값은 n2이다. Listing 1은 값 n을 가지고 20번 추정하여 n의 제곱근을 반환하는 합수의 정의를 보여준다.\n",
    "Again, the details of Newton’s Method are hidden inside the function definition and the user does not have to know anything about the implementation to use the function for its intended purpose.\n",
    "다시, Newtons Method의 세부사항들은 함수 정의 안에 숨겨져있고 사용자들은 함수를 의도된 목적대로 사용하기 위해 구현에 대해 아무것도 알 필요가 없다.\n",
    "Listing 1 also shows the use of the # character as a comment marker. Any characters that follow the # on a line are ignored.\n",
    "Listing 1은 또한 샵을 주석 마커로 사용하는 것도 보여준다. 한 줄에서 샵 뒤에 오는 모든 문자들은 무시된다.\n",
    "\n",
    "Listing 1\n",
    "\n",
    "def squareroot(n):\n",
    "    root = n/2    #initial guess will be 1/2 of n\n",
    "    for k in range(20):\n",
    "        root = (1/2)*(root + (n / root))\n",
    "\n",
    "    return root\n",
    ">>>squareroot(9)\n",
    "3.0\n",
    ">>>squareroot(4563)\n",
    "67.549981495186216\n",
    ">>>\n",
    "\n",
    "Self Check\n",
    "자가 점검\n",
    "Here’s a self check that really covers everything so far. You may have heard of the infinite monkey theorem? \n",
    "The theorem states that a monkey hitting keys at random on a typewriter keyboard for an infinite amount of time will almost surely type a given text, such as the complete works of William Shakespeare. \n",
    "Well, suppose we replace a monkey with a Python function. How long do you think it would take for a Python function to generate just one sentence of Shakespeare? \n",
    "The sentence we’ll shoot for is: “methinks it is like a weasel”\n",
    "이때까지 배운 모든 것을 아우르는 자가 점검이 있다. 무한 원숭이 이론에 대해 들어보았나? 이 이론은 원숭이가 무작위로 키보드를 무한한 시동안 친다면 셰익스피어의 완전한 작품처럼 특정한 글을 반드시 칠 수 있을 것이라 주장한다.\n",
    "음, 원숭이를 파이썬 함수라고 가정해보자. 파이썬 함수가 셰익스피어의 단 한구절을 생성하는데에 얼마나 걸릴 것이라고 생각하나?\n",
    "우리가 얻을 문장은 : methinks it is like a wease! 이다.\n",
    "You’re not going to want to run this one in the browser, so fire up your favorite Python IDE. \n",
    "The way we’ll simulate this is to write a function that generates a string that is 27 characters long by choosing random letters from the 26 letters in the alphabet plus the space. \n",
    "We’ll write another function that will score each generated string by comparing the randomly generated string to the goal.\n",
    "이걸 브라우저에서 실행하고싶지는 않을테니, 선호하는 파이썬IDE를실행해보자.\n",
    "시뮬래이션할 방법은 알파벳 문자 26개와 띄어쓰기로 27글자의 문자열을 생성하는 함수를 작성하는 것이다.\n",
    "무작위로 생성된 문자열과 목표를 비교하여 점수를 매기는 함수도 하나 작성하자.\n",
    "\n",
    "A third function will repeatedly call generate and score, then if 100% of the letters are correct we are done. \n",
    "If the letters are not correct then we will generate a whole new string.\n",
    "To make it easier to follow your program’s progress this third function should print out the best string generated so far and its score every 1000 tries.\n",
    "세번째 함수는 생성과 채점을 반복적으로 호출할 것이고, 모든 글자가 일치하면 끝이다.\n",
    "만약 글자가 일치하지 않으면 문자열 전체를 새로 생성한다.\n",
    "니 프로그램의 진행과정을 쉽게 따라가기 위해 이 세번째 함수는 1000회차마다 그때까지 생성된 최고의 문자열과 그 점수를 출력해야 한다.\n",
    "Self Check Challenge\n",
    "자가점건검 도전\n",
    "See if you can improve upon the program in the self check by keeping letters that are correct and only modifying one character in the best string so far. \n",
    "This is a type of algorithm in the class of ‘hill climbing’ algorithms, that is we only keep the result if it is better than the previous one.\n",
    "이때까지 최고의(최고점의) 문자열에서 맞는 글자는 그대로 두고 한 문자만 수정해서 자가점검의 프로그램을 개선시킬 수 있는지 봐라.\n",
    "이게 hill climbing알고리즘 수업이 있는 알고리즘 유형인데, 이전 알고리즘보다 결과가 좋을때에만 유지한다."
   ]
  },
  {
   "cell_type": "code",
   "execution_count": null,
   "metadata": {},
   "outputs": [],
   "source": []
  }
 ],
 "metadata": {
  "kernelspec": {
   "display_name": "Python 3",
   "language": "python",
   "name": "python3"
  },
  "language_info": {
   "codemirror_mode": {
    "name": "ipython",
    "version": 3
   },
   "file_extension": ".py",
   "mimetype": "text/x-python",
   "name": "python",
   "nbconvert_exporter": "python",
   "pygments_lexer": "ipython3",
   "version": "3.7.3"
  }
 },
 "nbformat": 4,
 "nbformat_minor": 2
}
