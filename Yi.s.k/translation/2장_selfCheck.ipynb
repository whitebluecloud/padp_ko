{
 "cells": [
  {
   "cell_type": "code",
   "execution_count": 20,
   "metadata": {},
   "outputs": [
    {
     "name": "stdout",
     "output_type": "stream",
     "text": [
      "0\n",
      "0\n"
     ]
    }
   ],
   "source": [
    "#2-3Write two Python functions to find the minimum number in a list. The first function should compare each number to every other number on the list. O(n2)\n",
    "#The second function should be linear O(n)\n",
    "def findMin(a):\n",
    "    minimum = a[0]\n",
    "    for i in a:\n",
    "        isMin = True\n",
    "        for j in a:\n",
    "            if i > j:\n",
    "                isMin = False\n",
    "        if(isMin):\n",
    "            minimum = i\n",
    "    return minimum\n",
    "\n",
    "def findMin2(a):\n",
    "    minimum = a[0]\n",
    "    for i in a:\n",
    "        if i < minimum:\n",
    "            minimum = i\n",
    "    return minimum\n",
    "\n",
    "print(findMin([10,3,8,0,2]))\n",
    "print(findMin2([10,3,8,0,2]))\n",
    "                \n",
    "#2-4-4\n",
    "#28번 : O(n^2) / 29번 : O(n) / 30번 : O(log(n))"
   ]
  },
  {
   "cell_type": "code",
   "execution_count": null,
   "metadata": {},
   "outputs": [],
   "source": []
  }
 ],
 "metadata": {
  "kernelspec": {
   "display_name": "Python 3",
   "language": "python",
   "name": "python3"
  },
  "language_info": {
   "codemirror_mode": {
    "name": "ipython",
    "version": 3
   },
   "file_extension": ".py",
   "mimetype": "text/x-python",
   "name": "python",
   "nbconvert_exporter": "python",
   "pygments_lexer": "ipython3",
   "version": "3.7.3"
  }
 },
 "nbformat": 4,
 "nbformat_minor": 2
}
