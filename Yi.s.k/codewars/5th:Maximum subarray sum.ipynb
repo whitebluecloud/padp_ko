{
 "cells": [
  {
   "cell_type": "code",
   "execution_count": 1,
   "metadata": {},
   "outputs": [
    {
     "name": "stdout",
     "output_type": "stream",
     "text": [
      "0\n"
     ]
    }
   ],
   "source": [
    "def maxSequence(arr):\n",
    "\t# ...\n",
    "    if(len(arr) > 0):\n",
    "        temp = [0] * len(arr)\n",
    "        temp[0] = arr[0]\n",
    "        for i in range(len(arr)):\n",
    "            temp[i] = max(0,temp[i-1]) + arr[i]\n",
    "        if(max(temp) >= 0):\n",
    "            return max(temp)\n",
    "        else:\n",
    "            return 0\n",
    "    else :\n",
    "        return 0\n",
    "    \n",
    "print(maxSequence([]))"
   ]
  },
  {
   "cell_type": "code",
   "execution_count": null,
   "metadata": {},
   "outputs": [],
   "source": []
  }
 ],
 "metadata": {
  "kernelspec": {
   "display_name": "Python 3",
   "language": "python",
   "name": "python3"
  },
  "language_info": {
   "codemirror_mode": {
    "name": "ipython",
    "version": 3
   },
   "file_extension": ".py",
   "mimetype": "text/x-python",
   "name": "python",
   "nbconvert_exporter": "python",
   "pygments_lexer": "ipython3",
   "version": "3.7.3"
  }
 },
 "nbformat": 4,
 "nbformat_minor": 2
}
