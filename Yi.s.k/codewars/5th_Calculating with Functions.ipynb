{
 "cells": [
  {
   "cell_type": "code",
   "execution_count": 1,
   "metadata": {},
   "outputs": [
    {
     "name": "stdout",
     "output_type": "stream",
     "text": [
      "15\n"
     ]
    }
   ],
   "source": [
    "def zero(n=\"\"):  return eval(\"0\" + n)\n",
    "def one(n=\"\"):   return eval(\"1\" + n)\n",
    "def two(n=\"\"):   return eval(\"2\" + n)\n",
    "def three(n=\"\"): return eval(\"3\" + n)\n",
    "def four(n=\"\"):  return eval(\"4\" + n)\n",
    "def five(n=\"\"):  return eval(\"5\" + n)\n",
    "def six(n=\"\"):   return eval(\"6\" + n)\n",
    "def seven(n=\"\"): return eval(\"7\" + n)\n",
    "def eight(n=\"\"): return eval(\"8\" + n)\n",
    "def nine(n=\"\"):  return eval(\"9\" + n)\n",
    "\n",
    "def plus(n):       return '+' + str(n)\n",
    "def minus(n):      return '-' + str(n)\n",
    "def times(n):      return '*' + str(n)\n",
    "def divided_by(n): return '//' + str(n)\n",
    "\n",
    "print(five(times(three())))"
   ]
  },
  {
   "cell_type": "code",
   "execution_count": null,
   "metadata": {},
   "outputs": [],
   "source": []
  }
 ],
 "metadata": {
  "kernelspec": {
   "display_name": "Python 3",
   "language": "python",
   "name": "python3"
  },
  "language_info": {
   "codemirror_mode": {
    "name": "ipython",
    "version": 3
   },
   "file_extension": ".py",
   "mimetype": "text/x-python",
   "name": "python",
   "nbconvert_exporter": "python",
   "pygments_lexer": "ipython3",
   "version": "3.7.3"
  }
 },
 "nbformat": 4,
 "nbformat_minor": 2
}
