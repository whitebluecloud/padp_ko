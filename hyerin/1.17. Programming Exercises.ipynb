{
 "cells": [
  {
   "cell_type": "markdown",
   "metadata": {},
   "source": [
    "- Implement the simple methods getNum and getDen that will return the numerator and denominator of a fraction.\n",
    "- 분수의 분모와 분자를 반환하는 getNum , getDen 메서드를 구현하라"
   ]
  },
  {
   "cell_type": "code",
   "execution_count": null,
   "metadata": {},
   "outputs": [],
   "source": [
    "class Fraction:\n",
    "        def __init__(self,top,bottom):\n",
    "        self.num = top\n",
    "        self.den = bottom\n",
    "\n",
    "        def getNum(self):\n",
    "            return self.num\n",
    "\n",
    "        def getDen(self):\n",
    "            return self.den"
   ]
  },
  {
   "cell_type": "markdown",
   "metadata": {},
   "source": [
    "- In many ways it would be better if all fractions were maintained in lowest terms right from the start.\n",
    "- 여러방면에서 분수가 처음부터 기약분수로 유지돼면 좋을것이다.\n",
    "- Modify the constructor for the Fraction class so that GCD is used to reduce fractions immediately. \n",
    "- 분수의 생성자를 수정해서 최대공약수를 사용해 분수를 바로 약분하게 만들어라.\n",
    "- Notice that this means the __add__ function no longer needs to reduce. \n",
    "- add함수는더이상 약분이 필요없다.\n",
    "- Make the necessary modifications.\n",
    "- 필요사항을 수정해라."
   ]
  },
  {
   "cell_type": "code",
   "execution_count": null,
   "metadata": {},
   "outputs": [],
   "source": [
    "def gcd(m,n):\n",
    "    while m%n != 0:\n",
    "        oldm = m\n",
    "        oldn = n\n",
    "\n",
    "        m = oldn\n",
    "        n = oldm%oldn\n",
    "    return n\n",
    "\n",
    "class Fraction:\n",
    "    def __init__(self,top,bottom):\n",
    "        common = gcd(top,bottom)\n",
    "        self.num = top // common\n",
    "        self.den = bottom // common"
   ]
  },
  {
   "cell_type": "markdown",
   "metadata": {},
   "source": [
    "- Implement the remaining simple arithmetic operators (__sub__, __mul__, and __truediv__).\n",
    "- 남은 산술연산들을 구현하라(빼기 더하기 나누기)"
   ]
  },
  {
   "cell_type": "code",
   "execution_count": 8,
   "metadata": {},
   "outputs": [
    {
     "name": "stdout",
     "output_type": "stream",
     "text": [
      "-7/20\n",
      "3/20\n",
      "5/12\n"
     ]
    }
   ],
   "source": [
    "def gcd(m,n):\n",
    "    while m%n != 0:\n",
    "        oldm = m\n",
    "        oldn = n\n",
    "        m = oldn\n",
    "        n = oldm%oldn\n",
    "    return n\n",
    "\n",
    "class Fraction :\n",
    "    def __init__(self,top,bottom):\n",
    "        common = gcd(top,bottom)\n",
    "        self.num = top // common\n",
    "        self.den = bottom // common\n",
    "        \n",
    "    def __str__(self):\n",
    "        return str(self.num)+\"/\"+str(self.den)\n",
    "    \n",
    "    def __add__(self,other):\n",
    "        newnum = self.num*other.den + self.den*other.num\n",
    "        newden = self.den * other.den\n",
    "        return Fraction(newnum,newden)\n",
    "    \n",
    "    def __sub__(self,other):\n",
    "        newnum = self.num*other.den - self.den*other.num\n",
    "        newden = self.den * other.den\n",
    "        return Fraction(newnum,newden)\n",
    "    \n",
    "    def __mul__(self,other):\n",
    "        newnum = self.num*other.num\n",
    "        newden = self.den*other.den\n",
    "        return Fraction(newnum,newden)\n",
    "    \n",
    "    def __truediv__(self,other):\n",
    "        newnum = self.num*other.den\n",
    "        newden = self.den*other.num\n",
    "        return Fraction(newnum,newden)\n",
    "    \n",
    "x = Fraction(1,4)\n",
    "y = Fraction(3,5)\n",
    "print(x - y)\n",
    "print(x * y)\n",
    "print(x / y)"
   ]
  },
  {
   "cell_type": "markdown",
   "metadata": {},
   "source": [
    "- Implement the remaining relational operators (__gt__, __ge__, __lt__, __le__, and __ne__)\n",
    "- 남은 비교연산자를 구현하라."
   ]
  },
  {
   "cell_type": "code",
   "execution_count": 10,
   "metadata": {},
   "outputs": [
    {
     "name": "stdout",
     "output_type": "stream",
     "text": [
      "False\n",
      "True\n",
      "False\n",
      "True\n",
      "False\n"
     ]
    }
   ],
   "source": [
    "def gcd(m,n):\n",
    "    while m%n != 0:\n",
    "        oldm = m\n",
    "        oldn = n\n",
    "        m = oldn\n",
    "        n = oldm%oldn\n",
    "    return n\n",
    "\n",
    "class Fraction :\n",
    "    def __init__(self,top,bottom):\n",
    "        common = gcd(top,bottom)\n",
    "        self.num = top // common\n",
    "        self.den = bottom // common\n",
    "        \n",
    "    def __str__(self):\n",
    "        return str(self.num)+\"/\"+str(self.den)\n",
    "         \n",
    "    def __eq__(self, other):\n",
    "        firstnum = self.num * other.den\n",
    "        secondnum = other.num * self.den\n",
    "        return firstnum == secondnum\n",
    "    \n",
    "    def __gt__(self, other):\n",
    "        firstnum = self.num * other.den\n",
    "        secondnum = other.num * self.den\n",
    "        return firstnum > secondnum\n",
    "    \n",
    "    def __ge__(self, other):\n",
    "        firstnum = self.num * other.den\n",
    "        secondnum = other.num * self.den\n",
    "        return firstnum >= secondnum\n",
    "    \n",
    "    def __lt__(self, other):\n",
    "        firstnum = self.num * other.den\n",
    "        secondnum = other.num * self.den\n",
    "        return firstnum < secondnum\n",
    "\n",
    "    def __le__(self, other):\n",
    "        firstnum = self.num * other.den\n",
    "        secondnum = other.num * self.den\n",
    "        return firstnum <= secondnum\n",
    "    \n",
    "    def __ne__(self, other):\n",
    "        firstnum = self.num * other.den\n",
    "        secondnum = other.num * self.den\n",
    "        return firstnum != secondnum\n",
    "    \n",
    "x = Fraction(1,4)\n",
    "y = Fraction(3,4)\n",
    "print(x > y)\n",
    "print(x >= y)\n",
    "print(x < y)\n",
    "print(x <= y)\n",
    "print(x != y)"
   ]
  },
  {
   "cell_type": "markdown",
   "metadata": {},
   "source": [
    "- Modify the constructor for the fraction class so that it checks to make sure that the numerator and denominator are both integers. \n",
    "- 분수클래스에서 분모 분자가 모두 정수임을 체크하도록 생성자를 수정해라.\n",
    "- If either is not an integer the constructor should raise an exception.\n",
    "- 정수가 아니면 생성자는 익셉션을 발생시켜야 한다."
   ]
  },
  {
   "cell_type": "code",
   "execution_count": 41,
   "metadata": {},
   "outputs": [],
   "source": [
    "class Fraction:\n",
    "        def __init__(self,top,bottom):   \n",
    "            if not(str(top).isdigit() and str(bottom).isdigit()):\n",
    "                raise RuntimeError(\"분모 분자에 정수를 입력하세요\")\n",
    "            self.num = top\n",
    "            self.den = bottom\n",
    "\n",
    "x = Fraction(1,2)\n"
   ]
  },
  {
   "cell_type": "markdown",
   "metadata": {},
   "source": [
    "- In the definition of fractions we assumed that negative fractions have a negative numerator and a positive denominator. \n",
    "- 우리는 음수분수는 음수의분자를 가지고 양수의 분모를 가진다고 정의했다.\n",
    "- Using a negative denominator would cause some of the relational operators to give incorrect results. \n",
    "- 음수분모를 사용하면 비교연산자 같은것에서 부정확한 결과를 낳을 수 있다.\n",
    "- In general, this is an unnecessary constraint. \n",
    "- 이것은 불필요한 제약이다.\n",
    "- Modify the constructor to allow the user to pass a negative denominator so that all of the operators continue to work properly.\n",
    "- 사용자가 음수분모를 넘겨도 연산이 잘 동작하도록 생성자를 수정하라."
   ]
  },
  {
   "cell_type": "code",
   "execution_count": 44,
   "metadata": {},
   "outputs": [
    {
     "name": "stdout",
     "output_type": "stream",
     "text": [
      "True\n"
     ]
    }
   ],
   "source": [
    "def gcd(m,n):\n",
    "    while m%n != 0:\n",
    "        oldm = m\n",
    "        oldn = n\n",
    "        m = oldn\n",
    "        n = oldm%oldn\n",
    "    return n\n",
    "\n",
    "class Fraction :\n",
    "    def __init__(self,top,bottom):\n",
    "        common = gcd(top,bottom)\n",
    "        if(bottom<=0):\n",
    "            top*-1\n",
    "        self.num = top // common\n",
    "        self.den = bottom // common\n",
    "        \n",
    "    def __str__(self):\n",
    "        return str(self.num)+\"/\"+str(self.den)\n",
    "         \n",
    "    def __eq__(self, other):\n",
    "        firstnum = self.num * other.den\n",
    "        secondnum = other.num * self.den\n",
    "        return firstnum == secondnum\n",
    "    \n",
    "    def __gt__(self, other):\n",
    "        firstnum = self.num * other.den\n",
    "        secondnum = other.num * self.den\n",
    "        return firstnum > secondnum\n",
    "    \n",
    "    def __ge__(self, other):\n",
    "        firstnum = self.num * other.den\n",
    "        secondnum = other.num * self.den\n",
    "        return firstnum >= secondnum\n",
    "    \n",
    "    def __lt__(self, other):\n",
    "        firstnum = self.num * other.den\n",
    "        secondnum = other.num * self.den\n",
    "        return firstnum < secondnum\n",
    "\n",
    "    def __le__(self, other):\n",
    "        firstnum = self.num * other.den\n",
    "        secondnum = other.num * self.den\n",
    "        return firstnum <= secondnum\n",
    "    \n",
    "    def __ne__(self, other):\n",
    "        firstnum = self.num * other.den\n",
    "        secondnum = other.num * self.den\n",
    "        return firstnum != secondnum\n",
    "    \n",
    "x=Fraction(1,-3)\n",
    "y=Fraction(2,-3)\n",
    "print(x>y)"
   ]
  },
  {
   "cell_type": "markdown",
   "metadata": {},
   "source": [
    " - Research the __radd__ method. How does it differ from __add__? When is it used? Implement __radd__.\n",
    "-  radd 메세드를 찾아봐라. add함수와 뭐가 다른가? 어떨때 사용하는가? radd를 구현하라."
   ]
  },
  {
   "cell_type": "code",
   "execution_count": 48,
   "metadata": {},
   "outputs": [
    {
     "name": "stdout",
     "output_type": "stream",
     "text": [
      "17/20\n"
     ]
    }
   ],
   "source": [
    "def gcd(m,n):\n",
    "    while m%n != 0:\n",
    "        oldm = m\n",
    "        oldn = n\n",
    "        m = oldn\n",
    "        n = oldm%oldn\n",
    "    return n\n",
    "\n",
    "class Fraction :\n",
    "    def __init__(self,top,bottom):\n",
    "        common = gcd(top,bottom)\n",
    "        self.num = top // common\n",
    "        self.den = bottom // common\n",
    "        \n",
    "    def __str__(self):\n",
    "        return str(self.num)+\"/\"+str(self.den)\n",
    "    \n",
    "    def __add__(self,other):\n",
    "        newnum = self.num*other.den + self.den*other.num\n",
    "        newden = self.den * other.den\n",
    "        return Fraction(newnum,newden)\n",
    "    \n",
    "    def __radd__(self,other):\n",
    "        return self.__add__(other);\n",
    "    \n",
    "x = Fraction(1,4)\n",
    "y = Fraction(3,5)\n",
    "print(Fraction.__radd__(x,y))"
   ]
  },
  {
   "cell_type": "code",
   "execution_count": 50,
   "metadata": {},
   "outputs": [
    {
     "name": "stdout",
     "output_type": "stream",
     "text": [
      "3/5\n"
     ]
    }
   ],
   "source": [
    "#Repeat the last question but this time consider the __iadd__ method.\n",
    "#iadd를 고려해서 이전질문을 반복해라.\n",
    "def gcd(m,n):\n",
    "    while m%n != 0:\n",
    "        oldm = m\n",
    "        oldn = n\n",
    "        m = oldn\n",
    "        n = oldm%oldn\n",
    "    return n\n",
    "\n",
    "class Fraction :\n",
    "    def __init__(self,top,bottom):\n",
    "        common = gcd(top,bottom)\n",
    "        self.num = top // common\n",
    "        self.den = bottom // common\n",
    "        \n",
    "    def __str__(self):\n",
    "        return str(self.num)+\"/\"+str(self.den)\n",
    "    \n",
    "    def __add__(self,other):\n",
    "        newnum = self.num*other.den + self.den*other.num\n",
    "        newden = self.den * other.den\n",
    "        return Fraction(newnum,newden)\n",
    "    \n",
    "    def __iadd__(self,other):\n",
    "        self = self.__add__(other);\n",
    "        return self\n",
    "\n",
    "x = Fraction(1,5)\n",
    "y = Fraction(2,5)\n",
    "x+=y\n",
    "print(x)"
   ]
  }
 ],
 "metadata": {
  "kernelspec": {
   "display_name": "Python 3",
   "language": "python",
   "name": "python3"
  },
  "language_info": {
   "codemirror_mode": {
    "name": "ipython",
    "version": 3
   },
   "file_extension": ".py",
   "mimetype": "text/x-python",
   "name": "python",
   "nbconvert_exporter": "python",
   "pygments_lexer": "ipython3",
   "version": "3.7.3"
  }
 },
 "nbformat": 4,
 "nbformat_minor": 2
}
