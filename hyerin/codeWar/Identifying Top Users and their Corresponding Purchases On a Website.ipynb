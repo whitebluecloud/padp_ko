{
 "cells": [
  {
   "cell_type": "code",
   "execution_count": 45,
   "metadata": {},
   "outputs": [
    {
     "name": "stdout",
     "output_type": "stream",
     "text": [
      "{'A042': 5, 'B004': 3, 'A025': 6}\n",
      "[('A025', 6), ('A042', 5), ('B004', 3)]\n"
     ]
    }
   ],
   "source": [
    "import operator\n",
    "\n",
    "def id_best_users(*args):\n",
    "    totList = []\n",
    "    userDict = dict()\n",
    "    \n",
    "    def isCommon(x):\n",
    "        cnt = 0;\n",
    "        for arg in args:\n",
    "            if arg.count(x)>0 :\n",
    "                cnt +=1\n",
    "        if cnt == len(args):\n",
    "            return True \n",
    "        else :\n",
    "            return False\n",
    "\n",
    "    for arg in args:\n",
    "        for a in arg:\n",
    "            if isCommon(a) and  not a in userDict  :\n",
    "                userDict[a] = 1\n",
    "            elif isCommon(a) and   a in userDict :\n",
    "                userDict[a] += 1\n",
    "                \n",
    "    sortedArr = sorted(userDict.items(), key=operator.itemgetter(1), reverse=True)            \n",
    "    print(sortedArr)\n",
    "\n",
    "a1 = ['A042', 'B004', 'A025', 'A042', 'C025']\n",
    "a2 = ['B009', 'B040', 'B004', 'A042', 'A025', 'A042']\n",
    "#a3 = ['A041', 'A026', 'B005']\n",
    "a3 = ['A042', 'A025', 'B004','A025','A025','A025']\n",
    "\n",
    "id_best_users(a1, a2,a3)\n",
    "\n",
    "    "
   ]
  },
  {
   "cell_type": "code",
   "execution_count": null,
   "metadata": {},
   "outputs": [],
   "source": []
  },
  {
   "cell_type": "code",
   "execution_count": null,
   "metadata": {},
   "outputs": [],
   "source": []
  }
 ],
 "metadata": {
  "kernelspec": {
   "display_name": "Python 3",
   "language": "python",
   "name": "python3"
  },
  "language_info": {
   "codemirror_mode": {
    "name": "ipython",
    "version": 3
   },
   "file_extension": ".py",
   "mimetype": "text/x-python",
   "name": "python",
   "nbconvert_exporter": "python",
   "pygments_lexer": "ipython3",
   "version": "3.7.3"
  }
 },
 "nbformat": 4,
 "nbformat_minor": 2
}
