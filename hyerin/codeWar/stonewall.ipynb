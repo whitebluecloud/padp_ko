{
 "cells": [
  {
   "cell_type": "code",
   "execution_count": 1,
   "metadata": {},
   "outputs": [
    {
     "data": {
      "text/plain": [
       "7"
      ]
     },
     "execution_count": 1,
     "metadata": {},
     "output_type": "execute_result"
    }
   ],
   "source": [
    "from pythonds.basic.stack import Stack\n",
    "\n",
    "def solution(H) :\n",
    "\n",
    "    s = Stack()\n",
    "    cnt = 0\n",
    "\n",
    "    for h in H:\n",
    "\n",
    "        while not s.isEmpty() and s.peek()>h :\n",
    "            s.pop()\n",
    "         \n",
    "        if s.isEmpty() or s.peek() < h :\n",
    "            s.push(h)\n",
    "            cnt+=1\n",
    "\n",
    "    return cnt\n",
    "\n",
    "H=[8,8,5,7,9,8,7,4,8]\n",
    "\n",
    "solution(H)\n",
    "\n"
   ]
  },
  {
   "cell_type": "code",
   "execution_count": null,
   "metadata": {},
   "outputs": [],
   "source": []
  }
 ],
 "metadata": {
  "kernelspec": {
   "display_name": "Python 3",
   "language": "python",
   "name": "python3"
  },
  "language_info": {
   "codemirror_mode": {
    "name": "ipython",
    "version": 3
   },
   "file_extension": ".py",
   "mimetype": "text/x-python",
   "name": "python",
   "nbconvert_exporter": "python",
   "pygments_lexer": "ipython3",
   "version": "3.7.3"
  }
 },
 "nbformat": 4,
 "nbformat_minor": 2
}
