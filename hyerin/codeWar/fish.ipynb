{
 "cells": [
  {
   "cell_type": "code",
   "execution_count": 22,
   "metadata": {},
   "outputs": [
    {
     "name": "stdout",
     "output_type": "stream",
     "text": [
      "2\n"
     ]
    }
   ],
   "source": [
    "from pythonds.basic.stack import Stack\n",
    "\n",
    "def solution(A,B) :\n",
    "    s = Stack()\n",
    "    if len(A) != len(B) :\n",
    "        raise RuntimeError(\"length error\")\n",
    "        \n",
    "    for i in range(len(A)) :\n",
    "        if i == 0 :\n",
    "            s.push(i)\n",
    "        else :\n",
    "            if B[s.peek()] == 0 :\n",
    "                s.push(i)\n",
    "            elif  B[i] == B[s.peek()] : \n",
    "                s.push(i)\n",
    "            elif  A[s.peek()] < A[i]: \n",
    "                for j in range(s.size()) :\n",
    "                    if A[s.peek()] <A[i] and B[s.peek()] != B[i] :\n",
    "                        s.pop()\n",
    "                    else :\n",
    "                        s.push(i)\n",
    "                        break\n",
    "\n",
    "    return s.size()\n",
    "    \n",
    "A = [4,3,2,1,5]\n",
    "B = [0,1,0,0,0]\n",
    "\n",
    "print(solution(A,B))"
   ]
  },
  {
   "cell_type": "code",
   "execution_count": null,
   "metadata": {},
   "outputs": [],
   "source": []
  }
 ],
 "metadata": {
  "kernelspec": {
   "display_name": "Python 3",
   "language": "python",
   "name": "python3"
  },
  "language_info": {
   "codemirror_mode": {
    "name": "ipython",
    "version": 3
   },
   "file_extension": ".py",
   "mimetype": "text/x-python",
   "name": "python",
   "nbconvert_exporter": "python",
   "pygments_lexer": "ipython3",
   "version": "3.7.3"
  }
 },
 "nbformat": 4,
 "nbformat_minor": 2
}
