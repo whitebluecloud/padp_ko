{
 "cells": [
  {
   "cell_type": "code",
   "execution_count": 40,
   "metadata": {},
   "outputs": [],
   "source": [
    "import math\n",
    "\n",
    "def checkLength(a,b):\n",
    "    if len(a.list) != len(b.list):\n",
    "        raise RuntimeError(\"벡터의 길이가 다릅니다.\")\n",
    "\n",
    "class Vector:\n",
    "    def __init__(self, list):\n",
    "        self.list = list\n",
    "        \n",
    "    def __str__(self):\n",
    "        return str(self.list).replace(\"[\",\"(\").replace(\"]\",\")\").replace(\" \", \"\")\n",
    "    \n",
    "    def add(self,other):\n",
    "        checkLength(self,other)\n",
    "        return  Vector([self.list[i]+other.list[i] for i in range(len(self.list))] )\n",
    "        \n",
    "    def subtract(self,other):\n",
    "        checkLength(self,other)\n",
    "        return Vector([self.list[i]-other.list[i] for i in range(len(self.list))] )\n",
    "    \n",
    "    def dot(self,other):\n",
    "        checkLength(self,other)\n",
    "        return sum([self.list[i]*other.list[i] for i in range(len(self.list))] )\n",
    "    \n",
    "    def norm(self):\n",
    "        return math.sqrt(sum([i**2for i in self.list]))\n",
    "    \n",
    "    def equals (self,other):\n",
    "        return self.list == other.list\n"
   ]
  }
 ],
 "metadata": {
  "kernelspec": {
   "display_name": "Python 3",
   "language": "python",
   "name": "python3"
  },
  "language_info": {
   "codemirror_mode": {
    "name": "ipython",
    "version": 3
   },
   "file_extension": ".py",
   "mimetype": "text/x-python",
   "name": "python",
   "nbconvert_exporter": "python",
   "pygments_lexer": "ipython3",
   "version": "3.7.3"
  }
 },
 "nbformat": 4,
 "nbformat_minor": 2
}
