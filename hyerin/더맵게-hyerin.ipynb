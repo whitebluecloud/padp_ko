{
 "cells": [
  {
   "cell_type": "code",
   "execution_count": 1,
   "metadata": {},
   "outputs": [
    {
     "name": "stdout",
     "output_type": "stream",
     "text": [
      "2\n"
     ]
    }
   ],
   "source": [
    "import heapq\n",
    "def solution(scoville, K):\n",
    "    \n",
    "    count = 0\n",
    "    heapq.heapify(scoville)\n",
    "    #print(scoville)\n",
    "    while True:\n",
    "        a = heapq.heappop(scoville)\n",
    "        if a >= K : \n",
    "            break\n",
    "        if len(scoville) == 0 :\n",
    "            return -1\n",
    "        b = heapq.heappop(scoville)\n",
    "        heapq.heappush(scoville, a+(b*2))\n",
    "        count += 1\n",
    "\n",
    "    return count\n",
    "\n",
    "print(solution([1, 2, 3, 9, 10, 12],7))"
   ]
  }
 ],
 "metadata": {
  "kernelspec": {
   "display_name": "Python 3",
   "language": "python",
   "name": "python3"
  },
  "language_info": {
   "codemirror_mode": {
    "name": "ipython",
    "version": 3
   },
   "file_extension": ".py",
   "mimetype": "text/x-python",
   "name": "python",
   "nbconvert_exporter": "python",
   "pygments_lexer": "ipython3",
   "version": "3.7.3"
  }
 },
 "nbformat": 4,
 "nbformat_minor": 2
}
