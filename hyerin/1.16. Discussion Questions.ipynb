{
 "cells": [
  {
   "cell_type": "markdown",
   "metadata": {},
   "source": [
    "- Construct a class hierarchy for people on a college campus. \n",
    "- 대학캠퍼스의 사람들의 계층구조를 만들어라.\n",
    "- Include faculty, staff, and students. What do they have in common?\n",
    "- 교수, 직원, 학생을 포함하라. 공통적으로 가지고 있는게 무엇인가?\n",
    "- What distinguishes them from one another?\n",
    "- 서로 다른점은 무엇인가?\n",
    "- Construct a class hierarchy for bank accounts.\n",
    "- 은행계좌의 클래스 계층구조를 만들어라.\n",
    "- Construct a class hierarchy for different types of computers.\n",
    "- 다른 종류의 컴퓨터들의 클래스 계층구조를 만들어라.\n",
    "- Using the classes provided in the chapter, interactively construct a circuit and test it.\n",
    "- 이번장에서 제공한 클래스들을 가지고, 회로를 만들어서 테스트 해봐라."
   ]
  }
 ],
 "metadata": {
  "kernelspec": {
   "display_name": "Python 3",
   "language": "python",
   "name": "python3"
  },
  "language_info": {
   "codemirror_mode": {
    "name": "ipython",
    "version": 3
   },
   "file_extension": ".py",
   "mimetype": "text/x-python",
   "name": "python",
   "nbconvert_exporter": "python",
   "pygments_lexer": "ipython3",
   "version": "3.7.3"
  }
 },
 "nbformat": 4,
 "nbformat_minor": 2
}
