{
 "cells": [
  {
   "cell_type": "markdown",
   "metadata": {},
   "source": [
    "- Computer science is the study of problem solving.\n",
    "- 컴퓨터 과학은 문제해결에 대한 공부이다.\n",
    "- Computer science uses abstraction as a tool for representing both processes and data.\n",
    "- 컴퓨터 과학은 프로세스나 데이터를 나타내는 도구로서 추상을 사용한다.\n",
    "- Abstract data types allow programmers to manage the complexity of a problem domain by hiding the details of the data.\n",
    "- 추상데이터는 프로그래머에게 데이터의 세부사항을 숨김으로서 복잡한 문제를 다룰 수 있게 해준다. \n",
    "- Python is a powerful, yet easy-to-use, object-oriented language.\n",
    "- 파이썬은 강력하고 사용하기 쉬운 객체지향언어이다. \n",
    "- Lists, tuples, and strings are built in Python sequential collections.\n",
    "- 리스트, 튜블 그리고 문자열은 파이썬 순차 컬렉션에 내장돼 있다.\n",
    "- Dictionaries and sets are nonsequential collections of data.\n",
    "- 딕셔너리와 셋은 비순차적인 콜렉션 데이터 이다. \n",
    "- Classes allow programmers to implement abstract data types.\n",
    "- 클래스는 프로그래머들에게 추상 데이터를 구현하게 해준다. \n",
    "- Programmers can override standard methods as well as create new methods.\n",
    "- 프로그래머는 표준 메서드를 오버라이드 해서 새로운 메서드를 만들 수 있다. \n",
    "- Classes can be organized into hierarchies.\n",
    "- 클랫는 계층구조를 가질 수 있다. \n",
    "- A class constructor should always invoke the constructor of its parent before continuing on with its own data and behavior.\n",
    "- 클래스 생성자는 고유 데이터와 기능을 계속하기 위해 이전에 부모 생성자가 호출되어야 한다. "
   ]
  }
 ],
 "metadata": {
  "kernelspec": {
   "display_name": "Python 3",
   "language": "python",
   "name": "python3"
  },
  "language_info": {
   "codemirror_mode": {
    "name": "ipython",
    "version": 3
   },
   "file_extension": ".py",
   "mimetype": "text/x-python",
   "name": "python",
   "nbconvert_exporter": "python",
   "pygments_lexer": "ipython3",
   "version": "3.7.3"
  }
 },
 "nbformat": 4,
 "nbformat_minor": 2
}
