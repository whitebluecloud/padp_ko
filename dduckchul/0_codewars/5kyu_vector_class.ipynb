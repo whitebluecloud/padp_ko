{
 "cells": [
  {
   "cell_type": "code",
   "execution_count": null,
   "metadata": {},
   "outputs": [],
   "source": [
    "import math\n",
    "class Vector:\n",
    "  # TODO: Finish the Vector class.\n",
    "  def __init__(self, array) : \n",
    "    self.vector = array\n",
    "\n",
    "  def __str__(self) :\n",
    "    list = [str(ele) for ele in self.vector]\n",
    "    return '('+ ','.join(list) + ')'\n",
    "\n",
    "  def equals(self, other_vec) :\n",
    "    if(self.vector == other_vec.vector) :\n",
    "      return True\n",
    "    else :\n",
    "      return False\n",
    "\n",
    "  def add(self, other_vec) :\n",
    "    if(len(self.vector) is not len(other_vec.vector)) :\n",
    "      raise Exception(\"길이가 달라여\")    \n",
    "    list = [ele + other_vec.vector[i] for i,ele in enumerate(self.vector)]\n",
    "    return Vector(list)\n",
    "\n",
    "  def subtract(self, other_vec) :\n",
    "    if(len(self.vector) is not len(other_vec.vector)) :\n",
    "      raise Exception(\"길이가 달라여\")    \n",
    "    list = [ele - other_vec.vector[i] for i,ele in enumerate(self.vector)]\n",
    "    return Vector(list)\n",
    "\n",
    "  def dot(self, other_vec) :\n",
    "    if(len(self.vector) is not len(other_vec)) :\n",
    "      raise Exception(\"길이가 달라여\")    \n",
    "    list = [ele * other_vec.vector[i] for i,ele in enumerate(self.vector)]\n",
    "    return sum(list)\n",
    "\n",
    "  def norm(self) :\n",
    "    list = [pow(ele,2) for ele in self.vector]\n",
    "    return math.sqrt(sum(list))"
   ]
  }
 ],
 "metadata": {
  "kernelspec": {
   "display_name": "Python 3",
   "language": "python",
   "name": "python3"
  },
  "language_info": {
   "codemirror_mode": {
    "name": "ipython",
    "version": 3
   },
   "file_extension": ".py",
   "mimetype": "text/x-python",
   "name": "python",
   "nbconvert_exporter": "python",
   "pygments_lexer": "ipython3",
   "version": "3.7.3"
  }
 },
 "nbformat": 4,
 "nbformat_minor": 2
}
