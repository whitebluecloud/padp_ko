{
 "cells": [
  {
   "cell_type": "markdown",
   "metadata": {},
   "source": [
    "# This time we want to write calculations using functions and get the results. Let's have a look at some examples:"
   ]
  },
  {
   "cell_type": "markdown",
   "metadata": {},
   "source": [
    "```\n",
    "seven(times(five())); # must return 35\n",
    "four(plus(nine())); # must return 13\n",
    "eight(minus(three())); # must return 5\n",
    "six(dividedBy(two())); # must return 3\n",
    "```"
   ]
  },
  {
   "cell_type": "markdown",
   "metadata": {},
   "source": [
    "# Requirements\n",
    "* There must be a function for each number from 0 (\"zero\") to 9 (\"nine\")\n",
    "* There must be a function for each of the following mathematical operations: plus, minus, times, dividedBy (divided_by in Ruby)\n",
    "* Each calculation consist of exactly one operation and two numbers\n",
    "* The most outer function represents the left operand, the most inner function represents the right operand\n",
    "* Divison should be integer division, e.g eight(dividedBy(three()))/eight(divided_by(three)) should return 2, not 2.666666..."
   ]
  },
  {
   "cell_type": "code",
   "execution_count": 5,
   "metadata": {},
   "outputs": [
    {
     "name": "stdout",
     "output_type": "stream",
     "text": [
      "3\n"
     ]
    }
   ],
   "source": [
    "oper = []\n",
    "    \n",
    "def pops(oper):\n",
    "    return eval(''.join([str(oper.pop()) for a in range(3)]))\n",
    "\n",
    "def zero(*f):\n",
    "    oper.append(0)\n",
    "    if len(oper) == 3 :\n",
    "        return pops(oper)\n",
    "    else :\n",
    "        return f\n",
    "    \n",
    "def one(*f):\n",
    "    oper.append(1)\n",
    "    if len(oper) == 3 :\n",
    "        return pops(oper)\n",
    "    else :\n",
    "        return f\n",
    "\n",
    "def two(*f):\n",
    "    oper.append(2)\n",
    "    if len(oper) == 3 :\n",
    "        return pops(oper)\n",
    "    else :\n",
    "        return f\n",
    "\n",
    "def three(*f):\n",
    "    oper.append(3)\n",
    "    if len(oper) == 3 :\n",
    "        return pops(oper)\n",
    "    else :\n",
    "        return f\n",
    "\n",
    "def four(*f):\n",
    "    oper.append(4)\n",
    "    if len(oper) == 3 :\n",
    "        return pops(oper)\n",
    "    else :\n",
    "        return f\n",
    "\n",
    "def five(*f):    \n",
    "    oper.append(5)\n",
    "    if len(oper) == 3 :\n",
    "        return pops(oper)\n",
    "    else :\n",
    "        return f\n",
    "\n",
    "def six(*f):\n",
    "    oper.append(6)\n",
    "    if len(oper) == 3 :\n",
    "        return pops(oper)\n",
    "    else :\n",
    "        return f\n",
    "\n",
    "def seven(*f):\n",
    "    oper.append(7)\n",
    "    if len(oper) == 3 :\n",
    "        return pops(oper)\n",
    "    else :\n",
    "        return f\n",
    "\n",
    "def eight(*f):\n",
    "    oper.append(8)\n",
    "    if len(oper) == 3 :\n",
    "        return pops(oper)\n",
    "    else :\n",
    "        return f\n",
    "\n",
    "def nine(*f):\n",
    "    oper.append(9)\n",
    "    if len(oper) == 3 :\n",
    "        return pops(oper)\n",
    "    else :\n",
    "        return f\n",
    "\n",
    "def times(*f):\n",
    "    oper.append(\"*\")\n",
    "    return f\n",
    "\n",
    "def plus(*f):\n",
    "    oper.append(\"+\")\n",
    "    return f\n",
    "\n",
    "def minus(*f):\n",
    "    oper.append(\"-\")\n",
    "    return f\n",
    "\n",
    "def divided_by(*f):\n",
    "    oper.append(\"//\")\n",
    "    return f\n",
    "\n",
    "seven(times(five())) # must return 35\n",
    "four(plus(nine())) # must return 13\n",
    "one(minus(three())) # must return 5\n",
    "six(divided_by(two())); # must return 3"
   ]
  }
 ],
 "metadata": {
  "kernelspec": {
   "display_name": "Python 3",
   "language": "python",
   "name": "python3"
  },
  "language_info": {
   "codemirror_mode": {
    "name": "ipython",
    "version": 3
   },
   "file_extension": ".py",
   "mimetype": "text/x-python",
   "name": "python",
   "nbconvert_exporter": "python",
   "pygments_lexer": "ipython3",
   "version": "3.7.3"
  }
 },
 "nbformat": 4,
 "nbformat_minor": 2
}
