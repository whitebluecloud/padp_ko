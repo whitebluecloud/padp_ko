{
 "cells": [
  {
   "cell_type": "markdown",
   "metadata": {},
   "source": [
    "## 6.7. Tree Traversals\n",
    "\n",
    "* Now that we have examined the basic functionality of our tree data structure, it is time to look at some additional usage patterns for trees. \n",
    "* 이제 우리는 트리 데이터 구조의 기본 기능을 살펴 보았고, 트리에서 추가적인 패턴을 살펴 보겠다.\n",
    "* These usage patterns can be divided into the three ways that we access the nodes of the tree. \n",
    "* 아래의 사용 패턴들은 세가지로 나눌수 있는데, 이것은 트리에서 노드를 접근하는 방식이다. \n",
    "* There are three commonly used patterns to visit all the nodes in a tree. \n",
    "* 트리에 있는 노드들을 모두 방문하기 위해서는 일반적으로 세가지 방식을 사용한다.\n",
    "* The difference between these patterns is the order in which each node is visited.\n",
    "* 이런 패턴들 사이의 다른 점은 노드를 방문하는 순서이다.\n",
    "* We call this visitation of the nodes a “traversal.” The three traversals we will look at are called preorder, inorder, and postorder. \n",
    "* 우리는 이런 노드 방문을 순회라고 한다. 세가지 순회 방법은 전위, 중위, 후위라고 한다.\n",
    "* Let’s start out by defining these three traversals more carefully, then look at some examples where these patterns are useful.\n",
    "* 이 세가지 트리 순회방법을 좀더 조심스럽게 정의해 보고, 이런 패턴들이 왜 사용되는지 살펴 볼 것이다.\n",
    "\n",
    "### preorder\n",
    "* In a preorder traversal, we visit the root node first, then recursively do a preorder traversal of the left subtree, followed by a recursive preorder traversal of the right subtree.\n",
    "* 전위 순회방법은 먼저 루트 노드를 방문하고 재귀적으로 왼쪽 서브트리를 전위로 순회하고, 이어서 오른쪽 서브트리를 순회한다.\n",
    "\n",
    "### inorder\n",
    "* In an inorder traversal, we recursively do an inorder traversal on the left subtree, visit the root node, and finally do a recursive inorder traversal of the right subtree.\n",
    "* 중위 순회 방법은 재귀적으로 중위 순회를 하며 왼쪽 서브트리, 루트노드, 오른쪽 서브트리를 순회하는 방식으로 진행된다. \n",
    "\n",
    "### postorder\n",
    "* In a postorder traversal, we recursively do a postorder traversal of the left subtree and the right subtree followed by a visit to the root node.\n",
    "\n",
    "* Let’s look at some examples that illustrate each of these three kinds of traversals. \n",
    "* First let’s look at the preorder traversal. \n",
    "* As an example of a tree to traverse, we will represent this book as a tree. \n",
    "* The book is the root of the tree, and each chapter is a child of the root. \n",
    "* Each section within a chapter is a child of the chapter, and each subsection is a child of its section, and so on. \n",
    "* Figure 5 shows a limited version of a book with only two chapters. \n",
    "* Note that the traversal algorithm works for trees with any number of children, but we will stick with binary trees for now."
   ]
  },
  {
   "cell_type": "markdown",
   "metadata": {},
   "source": [
    "* Suppose that you wanted to read this book from front to back. \n",
    "* The preorder traversal gives you exactly that ordering. \n",
    "* Starting at the root of the tree (the Book node) we will follow the preorder traversal instructions. \n",
    "* We recursively call preorder on the left child, in this case Chapter1. \n",
    "* We again recursively call preorder on the left child to get to Section 1.1. Since Section 1.1 has no children, we do not make any additional recursive calls. \n",
    "* When we are finished with Section 1.1, we move up the tree to Chapter 1. \n",
    "* At this point we still need to visit the right subtree of Chapter 1, which is Section 1.2. \n",
    "* As before we visit the left subtree, which brings us to Section 1.2.1, then we visit the node for Section 1.2.2. \n",
    "* With Section 1.2 finished, we return to Chapter 1. \n",
    "* Then we return to the Book node and follow the same procedure for Chapter 2.\n",
    "\n",
    "* The code for writing tree traversals is surprisingly elegant, largely because the traversals are written recursively. \n",
    "* Listing 2 shows the Python code for a preorder traversal of a binary tree.\n",
    "\n",
    "* You may wonder, what is the best way to write an algorithm like preorder traversal?\n",
    "* Should it be a function that simply uses a tree as a data structure, or should it be a method of the tree data structure itself? \n",
    "* Listing 2 shows a version of the preorder traversal written as an external function that takes a binary tree as a parameter. \n",
    "* The external function is particularly elegant because our base case is simply to check if the tree exists. \n",
    "* If the tree parameter is None, then the function returns without taking any action."
   ]
  },
  {
   "cell_type": "code",
   "execution_count": null,
   "metadata": {},
   "outputs": [],
   "source": [
    "# Listing 2\n",
    "\n",
    "def preorder(tree):\n",
    "    if tree:\n",
    "        print(tree.getRootVal())\n",
    "        preorder(tree.getLeftChild())\n",
    "        preorder(tree.getRightChild())\n"
   ]
  },
  {
   "cell_type": "markdown",
   "metadata": {},
   "source": [
    "* We can also implement preorder as a method of the BinaryTree class. \n",
    "* The code for implementing preorder as an internal method is shown in Listing 3.\n",
    "* Notice what happens when we move the code from internal to external. \n",
    "* In general, we just replace tree with self. However, we also need to modify the base case. \n",
    "* The internal method must check for the existence of the left and the right children before making the recursive call to preorder."
   ]
  },
  {
   "cell_type": "code",
   "execution_count": null,
   "metadata": {},
   "outputs": [],
   "source": [
    "# Listing 3\n",
    "\n",
    "def preorder(self):\n",
    "    print(self.key)\n",
    "    if self.leftChild:\n",
    "        self.leftChild.preorder()\n",
    "    if self.rightChild:\n",
    "        self.rightChild.preorder()"
   ]
  },
  {
   "cell_type": "markdown",
   "metadata": {},
   "source": [
    "* Which of these two ways to implement preorder is best? \n",
    "* The answer is that implementing preorder as an external function is probably better in this case. \n",
    "* The reason is that you very rarely want to just traverse the tree. \n",
    "* In most cases you are going to want to accomplish something else while using one of the basic traversal patterns. \n",
    "* In fact, we will see in the next example that the postorder traversal pattern follows very closely with the code we wrote earlier to evaluate a parse tree. \n",
    "* Therefore we will write the rest of the traversals as external functions.\n",
    "\n",
    "* The algorithm for the postorder traversal, shown in Listing 4, is nearly identical to preorder except that we move the call to print to the end of the function."
   ]
  },
  {
   "cell_type": "code",
   "execution_count": null,
   "metadata": {},
   "outputs": [],
   "source": [
    "# Listing 4\n",
    "\n",
    "def postorder(tree):\n",
    "    if tree != None:\n",
    "        postorder(tree.getLeftChild())\n",
    "        postorder(tree.getRightChild())\n",
    "        print(tree.getRootVal())"
   ]
  },
  {
   "cell_type": "markdown",
   "metadata": {},
   "source": [
    "* We have already seen a common use for the postorder traversal, namely evaluating a parse tree. \n",
    "* Look back at Listing 1 again. \n",
    "* What we are doing is evaluating the left subtree, evaluating the right subtree, and combining them in the root through the function call to an operator. \n",
    "* Assume that our binary tree is going to store only expression tree data. \n",
    "* Let’s rewrite the evaluation function, but model it even more closely on the postorder code in Listing 4 (see Listing 5)."
   ]
  },
  {
   "cell_type": "code",
   "execution_count": null,
   "metadata": {},
   "outputs": [],
   "source": [
    "# Listing 5\n",
    "\n",
    "def postordereval(tree):\n",
    "    opers = {'+':operator.add, '-':operator.sub, '*':operator.mul, '/':operator.truediv}\n",
    "    res1 = None\n",
    "    res2 = None\n",
    "    if tree:\n",
    "        res1 = postordereval(tree.getLeftChild())\n",
    "        res2 = postordereval(tree.getRightChild())\n",
    "        if res1 and res2:\n",
    "            return opers[tree.getRootVal()](res1,res2)\n",
    "        else:\n",
    "            return tree.getRootVal()"
   ]
  },
  {
   "cell_type": "markdown",
   "metadata": {},
   "source": [
    "* Notice that the form in Listing 4 is the same as the form in Listing 5, except that instead of printing the key at the end of the function, we return it. \n",
    "* This allows us to save the values returned from the recursive calls in lines 6 and 7. \n",
    "* We then use these saved values along with the operator on line 9.\n",
    "\n",
    "* The final traversal we will look at in this section is the inorder traversal. \n",
    "* In the inorder traversal we visit the left subtree, followed by the root, and finally the right subtree. \n",
    "* Listing 6 shows our code for the inorder traversal. \n",
    "* Notice that in all three of the traversal functions we are simply changing the position of the print statement with respect to the two recursive function calls."
   ]
  },
  {
   "cell_type": "code",
   "execution_count": null,
   "metadata": {},
   "outputs": [],
   "source": [
    "# Listing 6\n",
    "\n",
    "def inorder(tree):\n",
    "    if tree != None:\n",
    "        inorder(tree.getLeftChild())\n",
    "        print(tree.getRootVal())\n",
    "        inorder(tree.getRightChild())\n"
   ]
  },
  {
   "cell_type": "markdown",
   "metadata": {},
   "source": [
    "* If we perform a simple inorder traversal of a parse tree we get our original expression back, without any parentheses. \n",
    "* Let’s modify the basic inorder algorithm to allow us to recover the fully parenthesized version of the expression. \n",
    "* The only modifications we will make to the basic template are as follows: print a left parenthesis before the recursive call to the left subtree, and print a right parenthesis after the recursive call to the right subtree. \n",
    "* The modified code is shown in Listing 7."
   ]
  },
  {
   "cell_type": "code",
   "execution_count": null,
   "metadata": {},
   "outputs": [],
   "source": [
    "# Listing 7\n",
    "\n",
    "def printexp(tree):\n",
    "    sVal = \"\"\n",
    "    if tree:\n",
    "        sVal = '(' + printexp(tree.getLeftChild())\n",
    "        sVal = sVal + str(tree.getRootVal())\n",
    "        sVal = sVal + printexp(tree.getRightChild())+')'\n",
    "    return sVal"
   ]
  },
  {
   "cell_type": "markdown",
   "metadata": {},
   "source": [
    "* Notice that the printexp function as we have implemented it puts parentheses around each number. \n",
    "* While not incorrect, the parentheses are clearly not needed. \n",
    "* In the exercises at the end of this chapter you are asked to modify the printexp function to remove this set of parentheses."
   ]
  }
 ],
 "metadata": {
  "kernelspec": {
   "display_name": "Python 3",
   "language": "python",
   "name": "python3"
  },
  "language_info": {
   "codemirror_mode": {
    "name": "ipython",
    "version": 3
   },
   "file_extension": ".py",
   "mimetype": "text/x-python",
   "name": "python",
   "nbconvert_exporter": "python",
   "pygments_lexer": "ipython3",
   "version": "3.7.3"
  }
 },
 "nbformat": 4,
 "nbformat_minor": 2
}
