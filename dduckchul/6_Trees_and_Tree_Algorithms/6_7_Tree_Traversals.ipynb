{
 "cells": [
  {
   "cell_type": "markdown",
   "metadata": {},
   "source": [
    "## 6.7. Tree Traversals\n",
    "\n",
    "* Now that we have examined the basic functionality of our tree data structure, it is time to look at some additional usage patterns for trees. \n",
    "* 이제 우리는 트리 데이터 구조의 기본 기능을 살펴 보았고, 트리에서 추가적인 패턴을 살펴 보겠다.\n",
    "* These usage patterns can be divided into the three ways that we access the nodes of the tree. \n",
    "* 아래의 사용 패턴들은 세가지로 나눌수 있는데, 이것은 트리에서 노드를 접근하는 방식이다. \n",
    "* There are three commonly used patterns to visit all the nodes in a tree. \n",
    "* 트리에 있는 노드들을 모두 방문하기 위해서는 일반적으로 세가지 방식을 사용한다.\n",
    "* The difference between these patterns is the order in which each node is visited.\n",
    "* 이런 패턴들 사이의 다른 점은 노드를 방문하는 순서이다.\n",
    "* We call this visitation of the nodes a “traversal.” The three traversals we will look at are called preorder, inorder, and postorder. \n",
    "* 우리는 이런 노드 방문을 순회라고 한다. 세가지 순회 방법은 전위, 중위, 후위라고 한다.\n",
    "* Let’s start out by defining these three traversals more carefully, then look at some examples where these patterns are useful.\n",
    "* 이 세가지 트리 순회방법을 좀더 조심스럽게 정의해 보고, 이런 패턴들이 왜 사용되는지 살펴 볼 것이다.\n",
    "\n",
    "### preorder\n",
    "* In a preorder traversal, we visit the root node first, then recursively do a preorder traversal of the left subtree, followed by a recursive preorder traversal of the right subtree.\n",
    "* 전위 순회방법은 먼저 루트 노드를 방문하고 재귀적으로 왼쪽 서브트리를 전위로 순회하고, 이어서 오른쪽 서브트리를 순회한다.\n",
    "\n",
    "### inorder\n",
    "* In an inorder traversal, we recursively do an inorder traversal on the left subtree, visit the root node, and finally do a recursive inorder traversal of the right subtree.\n",
    "* 중위 순회 방법은 재귀적으로 중위 순회를 하며 왼쪽 서브트리, 루트노드, 오른쪽 서브트리를 순회하는 방식으로 진행된다. \n",
    "\n",
    "### postorder\n",
    "* In a postorder traversal, we recursively do a postorder traversal of the left subtree and the right subtree followed by a visit to the root node.\n",
    "* 후위 순회 방법은, 재귀적으로 후위 순회를 하며 왼쪽 서브트리, 오른쪽 서브트리, 루트를 방문한다.\n",
    "\n",
    "* Let’s look at some examples that illustrate each of these three kinds of traversals. \n",
    "* 이 세가지 종류의 순회를 도식화한 예제를 살펴보자.\n",
    "* First let’s look at the preorder traversal. \n",
    "* 먼저 전위 순회를 살펴보자.\n",
    "* As an example of a tree to traverse, we will represent this book as a tree. \n",
    "* 순회하는 트리의 예제로써, 우리는 이 책을 트리로 표현해 볼 것이다.\n",
    "* The book is the root of the tree, and each chapter is a child of the root. \n",
    "* 책은 트리의 루트이고, 각각의 챕터가 루트의 자식들이다.\n",
    "* Each section within a chapter is a child of the chapter, and each subsection is a child of its section, and so on. \n",
    "* 각 챕터 안의 섹션은 챕터의 자식이고, 각각의 서브 섹션들은 섹션의 자식이고 계속된다. \n",
    "* Figure 5 shows a limited version of a book with only two chapters. \n",
    "* Figure 5는 두개 챕터만 있는 책의 제한된 버전이다.\n",
    "* Note that the traversal algorithm works for trees with any number of children, but we will stick with binary trees for now.\n",
    "* 순회 알고리즘이 트리안의 자식의 수에 영향을 받지 않지만, 우리는 여기서 이진 트리에 관해서만 살펴 볼 것이다."
   ]
  },
  {
   "cell_type": "markdown",
   "metadata": {},
   "source": [
    "* Suppose that you wanted to read this book from front to back. \n",
    "* 당신이 이 책을 앞에서 뒤로 읽는다고 생각해 보자.\n",
    "* The preorder traversal gives you exactly that ordering.\n",
    "* 전위 순회법은 당신이 책을 읽는것과 정확히 동일한 방식으로 움직인다.\n",
    "* Starting at the root of the tree (the Book node) we will follow the preorder traversal instructions. \n",
    "* 트리의 루트로부터 시작해서 (Book node) 우리는 전위 순회 방법을 따를 것이다.\n",
    "* We recursively call preorder on the left child, in this case Chapter1. \n",
    "* 우리는 재귀적으로 호출하는 왼쪽 차일드에서 시작할 것이다. 여기서는 챕터 1이다.\n",
    "* We again recursively call preorder on the left child to get to Section 1.1. \n",
    "* 우리는 또다시 재귀적으로 왼쪽 차일드에서 시작해 Section 1.1을 얻을 것이다.\n",
    "* Since Section 1.1 has no children, we do not make any additional recursive calls.\n",
    "* 섹션 1.1이 자식이 없기 떄문에, 우리는 여기서 추가적인 재귀 호출이 일어나지는 않는다.\n",
    "* When we are finished with Section 1.1, we move up the tree to Chapter 1. \n",
    "* 우리가 섹션 1.1까지 책을 읽었다면, 챕터 1로 트리를 이동해보자.\n",
    "* At this point we still need to visit the right subtree of Chapter 1, which is Section 1.2. \n",
    "* 여기서, 우리는 챕터 1의 방문해야할 서브 트리들이 남아있다, 그것은 섹션 1.2이다.\n",
    "* As before we visit the left subtree, which brings us to Section 1.2.1, then we visit the node for Section 1.2.2. \n",
    "* 앞에서와 마찬가지로, 왼쪽 하위 트리를 방문하여, 1.2.1으로 이동한다, 그리고 1.2.2 섹션의 노드를 방문한다. \n",
    "* With Section 1.2 finished, we return to Chapter 1.\n",
    "* 섹션 1.2가 마무리 되면, 챕터 1로 돌아간다.\n",
    "* Then we return to the Book node and follow the same procedure for Chapter 2.\n",
    "* 그리고 우리가 북 노드로 돌아가서, Chapter2에서 동일한 절차를 밟는다.\n",
    "\n",
    "* The code for writing tree traversals is surprisingly elegant, largely because the traversals are written recursively.\n",
    "* 트리 순회를 위한 코드는 매우 고급지다, 왜냐하면대부분  순회가 재귀적으로 짜 있기 때문이다.\n",
    "* Listing 2 shows the Python code for a preorder traversal of a binary tree.\n",
    "* 리스팅 2는 이진 트리에서 전위 순회를 하는 파이썬 코드를 보여준다.\n",
    "\n",
    "* You may wonder, what is the best way to write an algorithm like preorder traversal?\n",
    "* 당신은 아마 어떤것이 전위 순회처럼 가장 좋은 알고리즘을 작성하는 것이 궁금할 수 있다.\n",
    "* Should it be a function that simply uses a tree as a data structure, or should it be a method of the tree data structure itself?\n",
    "* 트리를 데이터 구조로 사용하는 펑션으로 하는게 좋을것인가? 혹은 트리 데이터 구조 자체에 있는 메서드가 좋을것인가?\n",
    "\n",
    "* Listing 2 shows a version of the preorder traversal written as an external function that takes a binary tree as a parameter.\n",
    "* 리스팅 2는 전위 순회방식을 바이너리 트리를 외부 파라미터로 받아 동작하는 것으로 작성한다.\n",
    "* The external function is particularly elegant because our base case is simply to check if the tree exists.\n",
    "* 이런 외부 펑션은 일반적으로 부분적으로 고급지다 왜냐하면 우리의 base case는 트리가 있는지를 확인하는 것이기 떄문이다.\n",
    "* If the tree parameter is None, then the function returns without taking any action.\n",
    "* 만약 트리 파라미터가 none이라면, 펑션은 아무 액션도 하지 않는다."
   ]
  },
  {
   "cell_type": "code",
   "execution_count": 2,
   "metadata": {},
   "outputs": [],
   "source": [
    "# Listing 2\n",
    "\n",
    "def preorder(tree):\n",
    "    if tree:\n",
    "        print(tree.getRootVal())\n",
    "        preorder(tree.getLeftChild())\n",
    "        preorder(tree.getRightChild())"
   ]
  },
  {
   "cell_type": "markdown",
   "metadata": {},
   "source": [
    "* We can also implement preorder as a method of the BinaryTree class. \n",
    "* 우리는 또한 preorder를 이진 트리 클래스의 메서드로 구현할수 있다. \n",
    "* The code for implementing preorder as an internal method is shown in Listing 3.\n",
    "* preorder를 구현한 코드는 Listing 3에 나타나 있다.\n",
    "* Notice what happens when we move the code from internal to external.\n",
    "* 우리가 코드를 내부에서 외부로 바꾸면 어떻게 바뀌는 지 살펴보아라.\n",
    "* In general, we just replace tree with self. However, we also need to modify the base case. \n",
    "* 일반적으로, 우리는 트리를 self로 바꾸기만 하면 된다. 그러나, 우리는 base case 또한 수정해야만 한다.\n",
    "* The internal method must check for the existence of the left and the right children before making the recursive call to preorder.\n",
    "* 내부 메서드는 반드시 preorder에 대한 재귀 호출을 하기 전에 left와 right children이 있는지 확인 해야 한다."
   ]
  },
  {
   "cell_type": "code",
   "execution_count": 3,
   "metadata": {},
   "outputs": [],
   "source": [
    "# Listing 3\n",
    "\n",
    "def preorder(self):\n",
    "    print(self.key)\n",
    "    if self.leftChild:\n",
    "        self.leftChild.preorder()\n",
    "    if self.rightChild:\n",
    "        self.rightChild.preorder()"
   ]
  },
  {
   "cell_type": "markdown",
   "metadata": {},
   "source": [
    "* Which of these two ways to implement preorder is best? \n",
    "* 두 가지의 구현중 어떤것이 더 좋을까?\n",
    "* The answer is that implementing preorder as an external function is probably better in this case. \n",
    "* 여기서는 외부 펑션으로 preorder를 구현하는 것이 더 좋을 것이다.\n",
    "* The reason is that you very rarely want to just traverse the tree.\n",
    "* 그 이유는 아마 당신이 단순히 트리를 순회하는것만을 원하지는 않기 떄문이다.\n",
    "* In most cases you are going to want to accomplish something else while using one of the basic traversal patterns. \n",
    "* 대부분의 경우에서, 당신은 기본적 순회 패턴에서 어떤걸 하고자 할것이다.\n",
    "* In fact, we will see in the next example that the postorder traversal pattern follows very closely with the code we wrote earlier to evaluate a parse tree. \n",
    "* 사실, 우리는 다음 예제에서 후위 순회 패턴을 사용하는 것이 이전에 parse tree를 계산하는 것과 매우 유사한 코드를 갖고 있다는 것을 확인 할 것이다. \n",
    "* Therefore we will write the rest of the traversals as external functions.\n",
    "* 그러므로 우리는 나머지의 순회를 외부 펑션으로 작성할 것이다.\n",
    "\n",
    "* The algorithm for the postorder traversal, shown in Listing 4, is nearly identical to preorder except that we move the call to print to the end of the function.\n",
    "* Listing 4에 나와있는 후위 순회 알고리즘은, 마지막에 프린트를 하는것을 제외하고는 전위 순회 알고리즘과 유사하다."
   ]
  },
  {
   "cell_type": "code",
   "execution_count": 4,
   "metadata": {},
   "outputs": [],
   "source": [
    "# Listing 4\n",
    "\n",
    "def postorder(tree):\n",
    "    if tree != None:\n",
    "        postorder(tree.getLeftChild())\n",
    "        postorder(tree.getRightChild())\n",
    "        print(tree.getRootVal())"
   ]
  },
  {
   "cell_type": "markdown",
   "metadata": {},
   "source": [
    "* We have already seen a common use for the postorder traversal, namely evaluating a parse tree. \n",
    "* 우리는 이미 후위순회의 사용법을 봤다, 즉 parse tree를 계산하는 것이다 \n",
    "* Look back at Listing 1 again. \n",
    "* Listing 1을 다시 한번 보자.\n",
    "* What we are doing is evaluating the left subtree, evaluating the right subtree, and combining them in the root through the function call to an operator.\n",
    "* 우리가 했던 것은 왼쪽 서브트리를 계산하고, 오른쪽 서브트리를 계산하고 그것을 루트에 있는 연산자로 합친 것이다.\n",
    "* Assume that our binary tree is going to store only expression tree data.\n",
    "* 우리의 이진 트리가 트리 데이터의 표현만 저장할것이라고 가정해보자\n",
    "* Let’s rewrite the evaluation function, but model it even more closely on the postorder code in Listing 4 (see Listing 5).\n",
    "* 우리의 계산하는 펑션을 다시 작성해보고, postorder 코드에 좀더 가깝게 모델링 해보자."
   ]
  },
  {
   "cell_type": "code",
   "execution_count": null,
   "metadata": {},
   "outputs": [],
   "source": [
    "# Listing 5\n",
    "\n",
    "def postordereval(tree):\n",
    "    opers = {'+':operator.add, '-':operator.sub, '*':operator.mul, '/':operator.truediv}\n",
    "    res1 = None\n",
    "    res2 = None\n",
    "    if tree:\n",
    "        res1 = postordereval(tree.getLeftChild())\n",
    "        res2 = postordereval(tree.getRightChild())\n",
    "        if res1 and res2:\n",
    "            return opers[tree.getRootVal()](res1,res2)\n",
    "        else:\n",
    "            return tree.getRootVal()"
   ]
  },
  {
   "cell_type": "markdown",
   "metadata": {},
   "source": [
    "* Notice that the form in Listing 4 is the same as the form in Listing 5, except that instead of printing the key at the end of the function, we return it. \n",
    "* 리스팅 4 처럼 펑션에 끝에 키를 프린트 하는것 대신 반환하는 것을 제외하고는 리스팅 5와 유사한것에 주목해라, \n",
    "* This allows us to save the values returned from the recursive calls in lines 6 and 7.\n",
    "* 이것은 6라인과 7라인에서 재귀 호출에서 값을 저장할 수 있도록 해준다.  \n",
    "* We then use these saved values along with the operator on line 9.\n",
    "* 그리고 이 저장된 값들을 라인 9에서 오퍼레이터를 통해 계산한다.\n",
    "\n",
    "* The final traversal we will look at in this section is the inorder traversal.\n",
    "* 이 섹션의 마지막 순회로, 우리는 중위 순회를 살펴보 것이다\n",
    "* In the inorder traversal we visit the left subtree, followed by the root, and finally the right subtree. \n",
    "* 중위 순회에서는 먼저 왼쪽 서브트리를 방문하고, 루트를 방문하고, 마지막으로 오른쪽 서브 트리를 방문한다.\n",
    "* Listing 6 shows our code for the inorder traversal. \n",
    "* 리스팅 6은 중위 순회를 이용한 코드를 보여준다.\n",
    "* Notice that in all three of the traversal functions we are simply changing the position of the print statement with respect to the two recursive function calls.\n",
    "* 우리가 사용하는 모든 3가지 순회 펑션들은 모두 두가지 재귀 호출에 자리하는 print 구문만의 위치를 변경한것밖에 없다는 것에 주목해라"
   ]
  },
  {
   "cell_type": "code",
   "execution_count": 5,
   "metadata": {},
   "outputs": [],
   "source": [
    "# Listing 6\n",
    "\n",
    "def inorder(tree):\n",
    "    if tree != None:\n",
    "        inorder(tree.getLeftChild())\n",
    "        print(tree.getRootVal())\n",
    "        inorder(tree.getRightChild())\n"
   ]
  },
  {
   "cell_type": "markdown",
   "metadata": {},
   "source": [
    "* If we perform a simple inorder traversal of a parse tree we get our original expression back, without any parentheses. \n",
    "* 만약 parse tree를 위의 간단한 중위 순회한다면 괄호 없는 원래 표현식을 구할수 있다.\n",
    "* Let’s modify the basic inorder algorithm to allow us to recover the fully parenthesized version of the expression. \n",
    "* 기본적인 중위 알고리즘을 수정해 완전한 괄호있는 표현식을 반환하도록 수정해보자\n",
    "* The only modifications we will make to the basic template are as follows: \n",
    "* 기본 템플릿에서 수정이 필요한 유일한 점은 다음과 같다.\n",
    "* print a left parenthesis before the recursive call to the left subtree, and print a right parenthesis after the recursive call to the right subtree. \n",
    "* 왼쪽 괄호를 왼쪽 서브 트리의 재귀 호출전에 출력한다, 그리고 오른쪽 괄호를 오른쪽 서브 트리 재귀 호출이 끝난 후 출력한다.\n",
    "* The modified code is shown in Listing 7.\n",
    "* 수정된 코드를 Listing 7에 나타낸다."
   ]
  },
  {
   "cell_type": "code",
   "execution_count": 23,
   "metadata": {},
   "outputs": [
    {
     "data": {
      "text/plain": [
       "'(((1)-(5))+(4))'"
      ]
     },
     "execution_count": 23,
     "metadata": {},
     "output_type": "execute_result"
    }
   ],
   "source": [
    "# Listing 7\n",
    "\n",
    "class BinaryTree:\n",
    "    def __init__(self,rootObj):\n",
    "        self.key = rootObj\n",
    "        self.leftChild = None\n",
    "        self.rightChild = None\n",
    "\n",
    "    def insertLeft(self,newNode):\n",
    "        if self.leftChild == None:\n",
    "            self.leftChild = BinaryTree(newNode)\n",
    "        else:\n",
    "            t = BinaryTree(newNode)\n",
    "            t.leftChild = self.leftChild\n",
    "            self.leftChild = t\n",
    "\n",
    "    def insertRight(self,newNode):\n",
    "        if self.rightChild == None:\n",
    "            self.rightChild = BinaryTree(newNode)\n",
    "        else:\n",
    "            t = BinaryTree(newNode)\n",
    "            t.rightChild = self.rightChild\n",
    "            self.rightChild = t\n",
    "\n",
    "\n",
    "    def getRightChild(self):\n",
    "        return self.rightChild\n",
    "\n",
    "    def getLeftChild(self):\n",
    "        return self.leftChild\n",
    "\n",
    "    def setRootVal(self,obj):\n",
    "        self.key = obj\n",
    "\n",
    "    def getRootVal(self):\n",
    "        return self.key\n",
    "\n",
    "\n",
    "r = BinaryTree('+')\n",
    "r.insertLeft('1')\n",
    "r.insertRight('4')\n",
    "\n",
    "lc = r.getLeftChild()\n",
    "lc.insertLeft('1')\n",
    "lc.insertRight('5')\n",
    "lc.setRootVal('-')\n",
    "\n",
    "def printexp(tree):\n",
    "    sVal = \"\"\n",
    "    if tree:\n",
    "        sVal = '(' + printexp(tree.getLeftChild())\n",
    "        sVal = sVal + str(tree.getRootVal())\n",
    "        sVal = sVal + printexp(tree.getRightChild())+')'\n",
    "    return sVal\n",
    "\n",
    "printexp(r)"
   ]
  },
  {
   "cell_type": "markdown",
   "metadata": {},
   "source": [
    "* Notice that the printexp function as we have implemented it puts parentheses around each number. \n",
    "* 우리가 구현한 printexp 펑션은 각 숫자에 괄호를 넣는것에 주목해라.\n",
    "* While not incorrect, the parentheses are clearly not needed.\n",
    "* 만약 정확하지 않다면, 괄호들은 명백히 불필요한 것이다.\n",
    "* In the exercises at the end of this chapter you are asked to modify the printexp function to remove this set of parentheses.\n",
    "* 이 챕터의 끝에는 printexp 펑션을 수정해서 이 괄호 셋을 없엘것이다."
   ]
  }
 ],
 "metadata": {
  "kernelspec": {
   "display_name": "Python 3",
   "language": "python",
   "name": "python3"
  },
  "language_info": {
   "codemirror_mode": {
    "name": "ipython",
    "version": 3
   },
   "file_extension": ".py",
   "mimetype": "text/x-python",
   "name": "python",
   "nbconvert_exporter": "python",
   "pygments_lexer": "ipython3",
   "version": "3.7.3"
  }
 },
 "nbformat": 4,
 "nbformat_minor": 2
}
