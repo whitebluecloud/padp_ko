{
 "cells": [
  {
   "cell_type": "markdown",
   "metadata": {},
   "source": [
    "The basic operations we will implement for our binary heap are as follows:  \n",
    "바이너리 힙을 구현하기 위한 기본적인 오퍼레이션은 다음과 같다"
   ]
  },
  {
   "cell_type": "markdown",
   "metadata": {},
   "source": [
    "* BinaryHeap() creates a new, empty, binary heap.\n",
    "* 비어있는 새로운 바이너리 힙을 만든다.\n",
    "* insert(k) adds a new item to the heap.\n",
    "* 힙에 새로운 아이템을 추가한다\n",
    "* findMin() returns the item with the minimum key value, leaving item in the heap.\n",
    "* 최소 키 값을 반환하고 힙 안에 남겨둔다.\n",
    "* delMin() returns the item with the minimum key value, removing the item from the heap.\n",
    "* 최소 키 값을 반환하고 힙의 프론트에서 삭제한다.\n",
    "* isEmpty() returns true if the heap is empty, false otherwise.\n",
    "* 힙이 비어있으면 참, 아니면 거짓을 반환한다\n",
    "* size() returns the number of items in the heap.\n",
    "* 힙 안의 아이템 크기를 반환한다.\n",
    "* buildHeap(list) builds a new heap from a list of keys.\n",
    "* 키 값들로 새로운 힙을 만든다"
   ]
  },
  {
   "cell_type": "markdown",
   "metadata": {},
   "source": [
    "ActiveCode 1 demonstrates the use of some of the binary heap methods.  \n",
    "아래 코드는 바이너리 힙 메소드를 사용한 예제를 보여준다\n",
    "\n",
    "Notice that no matter the order that we add items to the heap, the smallest is removed each time.  \n",
    "힙에 아이템을 순차적으로 추가하지 않았음에도 최소값이 계속 반환되는 것을 볼수있다.\n",
    "\n",
    "We will now turn our attention to creating an implementation for this idea.  \n",
    "이제 우리는 이것을 구현하는데 집중할 것이다."
   ]
  },
  {
   "cell_type": "code",
   "execution_count": 1,
   "metadata": {},
   "outputs": [
    {
     "name": "stdout",
     "output_type": "stream",
     "text": [
      "3\n",
      "5\n",
      "7\n",
      "11\n"
     ]
    }
   ],
   "source": [
    "from pythonds.trees import BinHeap\n",
    "\n",
    "bh = BinHeap()\n",
    "bh.insert(5)\n",
    "bh.insert(7)\n",
    "bh.insert(3)\n",
    "bh.insert(11)\n",
    "\n",
    "print(bh.delMin())\n",
    "\n",
    "print(bh.delMin())\n",
    "\n",
    "print(bh.delMin())\n",
    "\n",
    "print(bh.delMin())\n"
   ]
  }
 ],
 "metadata": {
  "kernelspec": {
   "display_name": "Python 3",
   "language": "python",
   "name": "python3"
  },
  "language_info": {
   "codemirror_mode": {
    "name": "ipython",
    "version": 3
   },
   "file_extension": ".py",
   "mimetype": "text/x-python",
   "name": "python",
   "nbconvert_exporter": "python",
   "pygments_lexer": "ipython3",
   "version": "3.7.3"
  }
 },
 "nbformat": 4,
 "nbformat_minor": 2
}
