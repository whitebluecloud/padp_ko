{
 "cells": [
  {
   "cell_type": "markdown",
   "metadata": {},
   "source": [
    "## 6.18. Summary of Map ADT Implementations\n",
    "\n",
    "Over the past two chapters we have looked at several data structures that can be used to implement the map abstract data type. A binary Search on a list, a hash table, a binary search tree, and a balanced binary search tree. To conclude this section, let’s summarize the performance of each data structure for the key operations defined by the map ADT (see Table 1)."
   ]
  },
  {
   "cell_type": "markdown",
   "metadata": {},
   "source": [
    "Table 1: Comparing the Performance of Different Map Implementations\n",
    "\n",
    "| operation | Sorted List | Hash Table | Binary Search | Tree AVL Tree |\n",
    "|-----------|-------------|------------|---------------|---------------|\n",
    "| put       | O(n)        | O(1)       | O(n)          | O(log2n)      |\n",
    "| get       | O(log2n)    | O(1)       | O(n)          | O(log2n)      |\n",
    "| in        | O(log2n)    | O(1)       | O(n)          | O(log2n)      |\n",
    "| del       | O(n)        | O(1)       | O(n)          | O(log2n)      |"
   ]
  }
 ],
 "metadata": {
  "kernelspec": {
   "display_name": "Python 3",
   "language": "python",
   "name": "python3"
  },
  "language_info": {
   "codemirror_mode": {
    "name": "ipython",
    "version": 3
   },
   "file_extension": ".py",
   "mimetype": "text/x-python",
   "name": "python",
   "nbconvert_exporter": "python",
   "pygments_lexer": "ipython3",
   "version": "3.7.3"
  }
 },
 "nbformat": 4,
 "nbformat_minor": 2
}
