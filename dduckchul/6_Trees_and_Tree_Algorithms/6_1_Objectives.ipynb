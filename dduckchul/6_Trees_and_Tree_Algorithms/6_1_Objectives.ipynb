{
 "cells": [
  {
   "cell_type": "markdown",
   "metadata": {},
   "source": [
    "## 6.1. Objectives\n",
    "* To understand what a tree data structure is and how it is used.\n",
    "* 트리형 데이터 구조 이해하고 어떻게 쓰는지 알기\n",
    "* To see how trees can be used to implement a map data structure.\n",
    "* 트리가 Map 데이타 구조에 어떻게 사용될 수 있는지 보기\n",
    "* To implement trees using a list.\n",
    "* 트리를 list 이용해 만들기\n",
    "* To implement trees using classes and references.\n",
    "* 트리를 클래스와 레퍼런스 이용해 만들기\n",
    "* To implement trees as a recursive data structure.\n",
    "* 트리를 재귀 데이터 구조로 만들기\n",
    "* To implement a priority queue using a heap.\n",
    "* 힙을 사용해 프라이어티 큐 만들기"
   ]
  }
 ],
 "metadata": {
  "kernelspec": {
   "display_name": "Python 3",
   "language": "python",
   "name": "python3"
  },
  "language_info": {
   "codemirror_mode": {
    "name": "ipython",
    "version": 3
   },
   "file_extension": ".py",
   "mimetype": "text/x-python",
   "name": "python",
   "nbconvert_exporter": "python",
   "pygments_lexer": "ipython3",
   "version": "3.7.3"
  }
 },
 "nbformat": 4,
 "nbformat_minor": 2
}
