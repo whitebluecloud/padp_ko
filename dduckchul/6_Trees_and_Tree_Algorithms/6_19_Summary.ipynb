{
 "cells": [
  {
   "cell_type": "markdown",
   "metadata": {},
   "source": [
    "## 6.19. Summary\n",
    "In this chapter we have looked at the tree data structure.  \n",
    "\n",
    "The tree data structure enables us to write many interesting algorithms.  \n",
    "\n",
    "In this chapter we have looked at algorithms that use trees to do the following:  \n",
    "\n",
    "* A binary tree for parsing and evaluating expressions.\n",
    "* A binary tree for implementing the map ADT.\n",
    "* A balanced binary tree (AVL tree) for implementing the map ADT.\n",
    "* A binary tree to implement a min heap.\n",
    "* A min heap used to implement a priority queue."
   ]
  }
 ],
 "metadata": {
  "kernelspec": {
   "display_name": "Python 3",
   "language": "python",
   "name": "python3"
  },
  "language_info": {
   "codemirror_mode": {
    "name": "ipython",
    "version": 3
   },
   "file_extension": ".py",
   "mimetype": "text/x-python",
   "name": "python",
   "nbconvert_exporter": "python",
   "pygments_lexer": "ipython3",
   "version": "3.7.3"
  }
 },
 "nbformat": 4,
 "nbformat_minor": 2
}
