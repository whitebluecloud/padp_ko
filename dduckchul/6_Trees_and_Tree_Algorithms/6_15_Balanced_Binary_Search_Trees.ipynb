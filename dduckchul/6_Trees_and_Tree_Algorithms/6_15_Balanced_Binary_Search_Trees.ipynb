{
 "cells": [
  {
   "cell_type": "markdown",
   "metadata": {},
   "source": [
    "## 6.15. Balanced Binary Search Trees\n",
    "\n",
    "In the previous section we looked at building a binary search tree. \n",
    "\n",
    "As we learned, the performance of the binary search tree can degrade to O(n) for operations like get and put when the tree becomes unbalanced. \n",
    "\n",
    "In this section we will look at a special kind of binary search tree that automatically makes sure that the tree remains balanced at all times. This tree is called an AVL tree and is named for its inventors: G.M. Adelson-Velskii and E.M. Landis."
   ]
  },
  {
   "cell_type": "markdown",
   "metadata": {},
   "source": [
    "An AVL tree implements the Map abstract data type just like a regular binary search tree, the only difference is in how the tree performs. \n",
    "\n",
    "To implement our AVL tree we need to keep track of a balance factor for each node in the tree. \n",
    "\n",
    "We do this by looking at the heights of the left and right subtrees for each node. \n",
    "\n",
    "More formally, we define the balance factor for a node as the difference between the height of the left subtree and the height of the right subtree."
   ]
  },
  {
   "cell_type": "markdown",
   "metadata": {},
   "source": [
    "balanceFactor=height(leftSubTree)−height(rightSubTree)\n",
    "\n",
    "Using the definition for balance factor given above we say that a subtree is left-heavy if the balance factor is greater than zero. \n",
    "\n",
    "If the balance factor is less than zero then the subtree is right heavy. \n",
    "\n",
    "If the balance factor is zero then the tree is perfectly in balance. For purposes of implementing an AVL tree, and gaining the benefit of having a balanced tree we will define a tree to be in balance if the balance factor is -1, 0, or 1. \n",
    "\n",
    "Once the balance factor of a node in a tree is outside this range we will need to have a procedure to bring the tree back into balance. \n",
    "\n",
    "Figure 1 shows an example of an unbalanced, right-heavy tree and the balance factors of each node."
   ]
  }
 ],
 "metadata": {
  "kernelspec": {
   "display_name": "Python 3",
   "language": "python",
   "name": "python3"
  },
  "language_info": {
   "codemirror_mode": {
    "name": "ipython",
    "version": 3
   },
   "file_extension": ".py",
   "mimetype": "text/x-python",
   "name": "python",
   "nbconvert_exporter": "python",
   "pygments_lexer": "ipython3",
   "version": "3.7.3"
  }
 },
 "nbformat": 4,
 "nbformat_minor": 2
}
