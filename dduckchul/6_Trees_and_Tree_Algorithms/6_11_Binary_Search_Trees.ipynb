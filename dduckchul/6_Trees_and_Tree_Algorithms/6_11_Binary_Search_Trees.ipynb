{
 "cells": [
  {
   "cell_type": "markdown",
   "metadata": {},
   "source": [
    "We have already seen two different ways to get key-value pairs in a collection.  \n",
    "우리는 두가지 다른 종류의 키-밸류쌍을 갖는 컬렉션을 봤다.  \n",
    "\n",
    "Recall that these collections implement the map abstract data type.  \n",
    "이 컬렉션들이 맵 데이터 타입을 구현한것을 떠올려 보아라.  \n",
    "\n",
    "The two implementations of a map ADT we discussed were binary search on a list and hash tables.  \n",
    "우리가 이진 탐색에서 다뤘던 맵의 두가지 구현법은 리스트와 해시 테이블이었다.  \n",
    "\n",
    "In this section we will study binary search trees as yet another way to map from a key to a value.  \n",
    "이 섹션에서는 이진 탐색트리를 밸류의 키값으로 찾는것을 공부하게 될것이다.\n",
    "\n",
    "In this case we are not interested in the exact placement of items in the tree, but \n",
    "we are interested in using the binary tree structure to provide for efficient searching.  \n",
    "이 케이스에서 우리는 트리를 정확하게 위치하기 보다는 효율적인 탐색을 위한 이진 트리구조를 확인해 볼것이다."
   ]
  }
 ],
 "metadata": {
  "kernelspec": {
   "display_name": "Python 3",
   "language": "python",
   "name": "python3"
  },
  "language_info": {
   "codemirror_mode": {
    "name": "ipython",
    "version": 3
   },
   "file_extension": ".py",
   "mimetype": "text/x-python",
   "name": "python",
   "nbconvert_exporter": "python",
   "pygments_lexer": "ipython3",
   "version": "3.7.3"
  }
 },
 "nbformat": 4,
 "nbformat_minor": 2
}
