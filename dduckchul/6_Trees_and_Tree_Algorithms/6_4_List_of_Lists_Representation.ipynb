{
 "cells": [
  {
   "cell_type": "markdown",
   "metadata": {},
   "source": [
    "## 6.4. List of Lists Representation\n",
    "\n",
    "* In a tree represented by a list of lists, we will begin with Python’s list data structure and write the functions defined above.\n",
    "* 리스트들의 리스트로 표현되는 것처럼 우리는 파이선의 리스트 데이터 구조를 살펴보고 위에 정의된 펑션을 작성해 볼 것이다.\n",
    "* Although writing the interface as a set of operations on a list is a bit different from the other abstract data types we have implemented, it is interesting to do so because it provides us with a simple recursive data structure that we can look at and examine directly. \n",
    "* 비록 작성하는 인터페이스가 우리가 앞서 개발했던 추상 데이터 타입들과 약간 다르지만, 우리가 단순한 재귀 데이터 구조를 만들어 바로 확인할 수 있으므로 이걸 해보는 것이 재밌을것이다\n",
    "* In a list of lists tree, we will store the value of the root node as the first element of the list. \n",
    "* 리스트들의 트리안에서, 우리는 리스트의 처음 요소를 루트 노드로 정할것이다.\n",
    "* The second element of the list will itself be a list that represents the left subtree.\n",
    "* 리스트의 두번쨰 요소는 왼쪽 서브 트리를 나타낸다.\n",
    "* The third element of the list will be another list that represents the right subtree.\n",
    "* 리스트의 세번째 요소는 오른쪽 서브트리를 나타내는 다른 리스트이다.\n",
    "* To illustrate this storage technique, let’s look at an example.\n",
    "* 예제를 한번 살펴보자.\n",
    "* Figure 1 shows a simple tree and the corresponding list implementation.\n",
    "* Figure 1은 이 리스트를 이용해 구현한 간단한 트리를 보여준다."
   ]
  },
  {
   "cell_type": "code",
   "execution_count": 11,
   "metadata": {},
   "outputs": [],
   "source": [
    "myTree = ['a',   #root\n",
    "          ['b',  #left subtree\n",
    "               ['d', [], []],\n",
    "               ['e', [], []] \n",
    "          ],\n",
    "          ['c',  #right subtree\n",
    "               ['f', [], []],\n",
    "               [] \n",
    "          ]\n",
    "         ]"
   ]
  },
  {
   "cell_type": "markdown",
   "metadata": {},
   "source": [
    "* Notice that we can access subtrees of the list using standard list indexing.\n",
    "* 우리가 list indexing 을 사용해 서브트리에 접근할 수 있다는 것에 주목해라\n",
    "* The root of the tree is myTree[0], the left subtree of the root is myTree[1], and the right subtree is myTree[2].\n",
    "* 트리의 루트는 myTree[0]이고, 루트의 왼쪽 서브 트리는 myTree[1]이고, 오른쪽 서브트리는 myTree[2] 이다.\n",
    "* ActiveCode 1 illustrates creating a simple tree using a list.\n",
    "* ActiveCode 1은 리스트를 사용해 간단한 트리를 만들어 본 것이다.\n",
    "* Once the tree is constructed, we can access the root and the left and right subtrees.\n",
    "* 트리가 만들어지고 나면, 우리는 루트와 왼쪽, 오른쪽 서브트리에 접근 할 수 있다.\n",
    "* One very nice property of this list of lists approach is that the structure of a list representing a subtree adheres to the structure defined for a tree; \n",
    "* 리스트들의 리스트를 이용한 접근법의 한가지 멋진 요소는 리스트의 구조가 subtree를 구성하는 것과 연결되어 있는 것이다. \n",
    "* the structure itself is recursive! A subtree that has a root value and two empty lists is a leaf node.\n",
    "* 구조 그 자체가 재귀적이다, 서브트리는 루트 값을 가지고 있고, 리프 노드에 두가지 비어있는 노드를 가지고 있다.\n",
    "* Another nice feature of the list of lists approach is that it generalizes to a tree that has many subtrees. \n",
    "* 리스트의 리스트의 또다른 장점은 많은 서브 트리를 가지고 있어도 일반화 되는 것이다.\n",
    "* In the case where the tree is more than a binary tree, another subtree is just another list.\n",
    "* 이진 트리보다 더 많은 트리를 가지고 있다면, 또 다른 서브트리는 단지 다른 리스트일 뿐이다."
   ]
  },
  {
   "cell_type": "code",
   "execution_count": 12,
   "metadata": {},
   "outputs": [
    {
     "name": "stdout",
     "output_type": "stream",
     "text": [
      "['a', ['b', ['d', [], []], ['e', [], []]], ['c', ['f', [], []], []]]\n",
      "left subtree =  ['b', ['d', [], []], ['e', [], []]]\n",
      "root =  a\n",
      "right subtree =  ['c', ['f', [], []], []]\n"
     ]
    }
   ],
   "source": [
    "myTree = ['a', ['b', ['d',[],[]], ['e',[],[]] ], ['c', ['f',[],[]], []] ]\n",
    "print(myTree)\n",
    "print('left subtree = ', myTree[1])\n",
    "print('root = ', myTree[0])\n",
    "print('right subtree = ', myTree[2])"
   ]
  },
  {
   "cell_type": "markdown",
   "metadata": {},
   "source": [
    "* Let’s formalize this definition of the tree data structure by providing some functions that make it easy for us to use lists as trees.\n",
    "* 이제 이 트리 데이터 구조를 몇개 펑션을 제공하여 리스트를 트리처럼 사용할 수 있도록 일반화 해보자.\n",
    "* Note that we are not going to define a binary tree class.\n",
    "* 여기서 우리는 이진 트리를 정의하지는 않을것이다.\n",
    "* The functions we will write will just help us manipulate a standard list as though we are working with a tree.\n",
    "* 여기에 작성하는 펑션들은 단지 일반적인 리스트가 트리처럼 작업할수 있도록 작성되는 것이다."
   ]
  },
  {
   "cell_type": "code",
   "execution_count": 3,
   "metadata": {},
   "outputs": [],
   "source": [
    "def BinaryTree(r):\n",
    "    return [r, [], []]"
   ]
  },
  {
   "cell_type": "markdown",
   "metadata": {},
   "source": [
    "* The BinaryTree function simply constructs a list with a root node and two empty sublists for the children.\n",
    "* 바이너리 트리 펑션은 루트 노드와 두가지 자식들을 두개의 비어있는 서브리스트로 만든것이다. \n",
    "* To add a left subtree to the root of a tree, we need to insert a new list into the second position of the root list.\n",
    "* 왼쪽 서브트리를 트리의 루트로 추가하고, 우리는 루트 리스트의 두번째 위치에 새로운 리스트를 추가해야 한다.\n",
    "* We must be careful.\n",
    "* 여기서 조심해야 한다.\n",
    "* If the list already has something in the second position, we need to keep track of it and push it down the tree as the left child of the list we are adding.\n",
    "* 만약 리스트가 두번째 위치에 뭔가 있다면, 우리는 이것을 유지해야 한다. 그리고 왼쪽의 자식까지 내려가서 새로 삽입해야 한다.\n",
    "* Listing 1 shows the Python code for inserting a left child.\n",
    "* Listing 1은 왼쪽 child에 삽입하는 파이썬 코드를 나타낸다."
   ]
  },
  {
   "cell_type": "code",
   "execution_count": 13,
   "metadata": {},
   "outputs": [],
   "source": [
    "def insertLeft(root,newBranch):\n",
    "    t = root.pop(1)\n",
    "    if len(t) > 1:\n",
    "        root.insert(1,[newBranch,t,[]])\n",
    "    else:\n",
    "        root.insert(1,[newBranch, [], []])\n",
    "    return root"
   ]
  },
  {
   "cell_type": "markdown",
   "metadata": {},
   "source": [
    "* Notice that to insert a left child, we first obtain the (possibly empty) list that corresponds to the current left child.\n",
    "* 레프트 차일드에 넣는것에 주목하라, 우리는 처음에 현재의 왼쪽 차일드 리스트를 조회해본다 (아마 비어잇을거라 추측되는) \n",
    "* We then add the new left child, installing the old left child as the left child of the new one.\n",
    "* 그리고나서 새로운 레프트 차일드를 넣는다, 예전 left child는 새로운 레프트 차일드의 왼쪽 차일드에 넣는다.\n",
    "* This allows us to splice a new node into the tree at any position. \n",
    "* 이것은 새로운 노드를 트리의 어떤 위치에서도 넣을 수 있다.\n",
    "* The code for insertRight is similar to insertLeft and is shown in Listing 2.\n",
    "* insertRight 코드는 위의 insertLeft와 매우 유사하다."
   ]
  },
  {
   "cell_type": "code",
   "execution_count": 15,
   "metadata": {},
   "outputs": [],
   "source": [
    "def insertRight(root,newBranch):\n",
    "    t = root.pop(2)\n",
    "    if len(t) > 1:\n",
    "        root.insert(2,[newBranch,[],t])\n",
    "    else:\n",
    "        root.insert(2,[newBranch,[],[]])\n",
    "    return root"
   ]
  },
  {
   "cell_type": "markdown",
   "metadata": {},
   "source": [
    "* To round out this set of tree-making functions(see Listing 3), let’s write a couple of access functions for getting and setting the root value, as well as getting the left or right subtrees.\n",
    "* 이 트리 만드는 펑션들을 만들기 위해, 왼쪽 오른쪽 서브 트리를 만드는 것 처럼 루트 값을 찾고, 셋하는 펑션들을 만들어 보자"
   ]
  },
  {
   "cell_type": "code",
   "execution_count": 17,
   "metadata": {},
   "outputs": [],
   "source": [
    "def getRootVal(root):\n",
    "    return root[0]\n",
    "\n",
    "def setRootVal(root,newVal):\n",
    "    root[0] = newVal\n",
    "\n",
    "def getLeftChild(root):\n",
    "    return root[1]\n",
    "\n",
    "def getRightChild(root):\n",
    "    return root[2]\n"
   ]
  },
  {
   "cell_type": "markdown",
   "metadata": {},
   "source": [
    "* ActiveCode 2 exercises the tree functions we have just written. \n",
    "* ActiveCode 2는 우리가 작성한 트리 펑션들을 나타낸다,\n",
    "* You should try it out for yourself. \n",
    "* 한번 실행해보세여\n",
    "* One of the exercises asks you to draw the tree structure resulting from this set of calls.\n",
    "* 이 연습문제중 하나는 호출 결과를 그리는 트리를 나타내는 것이다."
   ]
  },
  {
   "cell_type": "code",
   "execution_count": 18,
   "metadata": {},
   "outputs": [
    {
     "name": "stdout",
     "output_type": "stream",
     "text": [
      "[5, [4, [], []], []]\n",
      "[3, [9, [4, [], []], []], [7, [], [6, [], []]]]\n",
      "[3, [9, [11, [4, [], []], []], []], [7, [], [6, [], []]]]\n",
      "[6, [], []]\n"
     ]
    }
   ],
   "source": [
    "def BinaryTree(r):\n",
    "    return [r, [], []]\n",
    "\n",
    "def insertLeft(root,newBranch):\n",
    "    t = root.pop(1)\n",
    "    if len(t) > 1:\n",
    "        root.insert(1,[newBranch,t,[]])\n",
    "    else:\n",
    "        root.insert(1,[newBranch, [], []])\n",
    "    return root\n",
    "\n",
    "def insertRight(root,newBranch):\n",
    "    t = root.pop(2)\n",
    "    if len(t) > 1:\n",
    "        root.insert(2,[newBranch,[],t])\n",
    "    else:\n",
    "        root.insert(2,[newBranch,[],[]])\n",
    "    return root\n",
    "\n",
    "def getRootVal(root):\n",
    "    return root[0]\n",
    "\n",
    "def setRootVal(root,newVal):\n",
    "    root[0] = newVal\n",
    "\n",
    "def getLeftChild(root):\n",
    "    return root[1]\n",
    "\n",
    "def getRightChild(root):\n",
    "    return root[2]\n",
    "\n",
    "r = BinaryTree(3)\n",
    "insertLeft(r,4)\n",
    "insertLeft(r,5)\n",
    "insertRight(r,6)\n",
    "insertRight(r,7)\n",
    "l = getLeftChild(r)\n",
    "print(l)\n",
    "\n",
    "setRootVal(l,9)\n",
    "print(r)\n",
    "insertLeft(l,11)\n",
    "print(r)\n",
    "print(getRightChild(getRightChild(r)))"
   ]
  }
 ],
 "metadata": {
  "kernelspec": {
   "display_name": "Python 3",
   "language": "python",
   "name": "python3"
  },
  "language_info": {
   "codemirror_mode": {
    "name": "ipython",
    "version": 3
   },
   "file_extension": ".py",
   "mimetype": "text/x-python",
   "name": "python",
   "nbconvert_exporter": "python",
   "pygments_lexer": "ipython3",
   "version": "3.7.3"
  }
 },
 "nbformat": 4,
 "nbformat_minor": 2
}
