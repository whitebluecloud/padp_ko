{
 "cells": [
  {
   "cell_type": "markdown",
   "metadata": {},
   "source": [
    "## 6.5. Nodes and References\n",
    "* Our second method to represent a tree uses nodes and references. \n",
    "* 우리의 두번째 트리를 표현하는 방법은 노드와 레퍼런스를 사용하는 것이다.\n",
    "* In this case we will define a class that has attributes for the root value, as well as the left and right subtrees. \n",
    "* 이 경우에, 우리는 루트 밸류를 표현하기 위한 클래스를 정의하고, 왼쪽과 오른쪽 서브 트리를 정의한다.\n",
    "* Since this representation more closely follows the object-oriented programming paradigm, we will continue to use this representation for the remainder of the chapter.\n",
    "* 이런 표현법이 객체 지향적 프로그래밍에 좀더 근접한 방법이고, 우리는 나머지 챕터에서 이 표현법을 사용할 것이다.\n",
    "\n",
    "* Using nodes and references, we might think of the tree as being structured like the one shown in Figure 2.\n",
    "* 노드와 레퍼런스를 사용해 우리는 트리를 Figure 2에 나온것 처럼 생각할 것이다."
   ]
  },
  {
   "cell_type": "markdown",
   "metadata": {},
   "source": [
    "* We will start out with a simple class definition for the nodes and references approach as shown in Listing 4. \n",
    "* 우리는 아래 Lisiting 4와 같이 표현한 간단한 클래스 표현을 통해 노드와 레퍼런스를 이용한 접근을 사용할 것이다.\n",
    "* The important thing to remember about this representation is that the attributes left and right will become references to other instances of the BinaryTree class.\n",
    "* 이 표현법을 사용하면서 기억해야할 중요한 것은 왼쪽과 오른쪽이 다른 이진 트리 클래스 인스턴스의 레퍼런스가 되는 것이다.\n",
    "* For example, when we insert a new left child into the tree we create another instance of BinaryTree and modify self.\n",
    "* 예를 들어, 우리가 새로운 왼쪽 차일드를 넣을때 우리는 다른 바이너리 트리의 인스턴스를 생성하고, 자신을 수정하여 왼쪽 차일드로 넣는다.\n",
    "* leftChild in the root to reference the new tree.\n",
    "* 루트의 왼쪽 차일드가 새로운 트리의 레퍼런스가 되는것이다. "
   ]
  },
  {
   "cell_type": "code",
   "execution_count": 1,
   "metadata": {},
   "outputs": [],
   "source": [
    "# Listing 4\n",
    "\n",
    "class BinaryTree:\n",
    "    def __init__(self,rootObj):\n",
    "        self.key = rootObj\n",
    "        self.leftChild = None\n",
    "        self.rightChild = None"
   ]
  },
  {
   "cell_type": "markdown",
   "metadata": {},
   "source": [
    "* Notice that in Listing 4, the constructor function expects to get some kind of object to store in the root. \n",
    "* 리스팅 4를 살펴보면, 생성자는 어떤 오브젝트를 루트에 저장해 놓고 있다. \n",
    "* Just like you can store any object you like in a list, the root object of a tree can be a reference to any object. \n",
    "* 리스트에 어떤 오브젝트도 집어넣은것 처럼 트리의 루트 오브젝트는 다른오브젝트의 레퍼런스가 될 수 있다.\n",
    "* For our early examples, we will store the name of the node as the root value. \n",
    "* 우리의 앞선 예제에서, 우리는 노드의 이름을 루트 값으로 저장해 놓았다.\n",
    "* Using nodes and references to represent the tree in Figure 2, we would create six instances of the BinaryTree class.\n",
    "* 노드와 레퍼런스를 사용한 트리에서, 우리는 6개의 인스턴스화된 이진 트리 클래스를 \n",
    "\n",
    "* Next let’s look at the functions we need to build the tree beyond the root node.\n",
    "* 다음으로 루트 노드 너머 있는 트리를 생성해야 한다.\n",
    "* To add a left child to the tree, we will create a new binary tree object and set the left attribute of the root to refer to this new object.\n",
    "* 왼쪽 자식을 추가하기 위해, 우리는 새로운 바이너리 트리를 만들고 루트의 왼쪽 attribute에 새로운 오브젝트를 넣어야 한다.\n",
    "* The code for insertLeft is shown in Listing 5.\n",
    "* insertLeft에 대한 코드가 아래 코드에 나타나 있다."
   ]
  },
  {
   "cell_type": "code",
   "execution_count": 2,
   "metadata": {},
   "outputs": [],
   "source": [
    "# Listing 5\n",
    "\n",
    "def insertLeft(self,newNode):\n",
    "    if self.leftChild == None:\n",
    "        self.leftChild = BinaryTree(newNode)\n",
    "    else:\n",
    "        t = BinaryTree(newNode)\n",
    "        t.leftChild = self.leftChild\n",
    "        self.leftChild = t"
   ]
  },
  {
   "cell_type": "markdown",
   "metadata": {},
   "source": [
    "* We must consider two cases for insertion. \n",
    "* 우리는 삽입시에 두가지 케이스를 고려해야 한다.\n",
    "* The first case is characterized by a node with no existing left child.\n",
    "* 첫번쨰 케이스는 왼쪽 차일드에 아무 노드도 없는 것이다.\n",
    "* When there is no left child, simply add a node to the tree.\n",
    "* 만약 왼쪽 차일드에 아무것도 없다면, 우리는 단순히 트리에 노드를 추가하면 된다.\n",
    "* The second case is characterized by a node with an existing left child. \n",
    "* 두번째 케이스는 레프트 차일드가 있는 경우이다.\n",
    "* In the second case, we insert a node and push the existing child down one level in the tree.\n",
    "* 두번쨰 경우에는, 우리는 노드를 넣은 후 존재하던 차일드를 트리에서 한단계 낮춰 넣는 것이다.\n",
    "* The second case is handled by the else statement on line 4 of Listing 5.\n",
    "* 두번쨰 경우는 Listing 5의 4라인에서 나타난다.\n",
    "\n",
    "* The code for insertRight must consider a symmetric set of cases.\n",
    "* insertRight 코드는 반드시 동일한 경우를 생각해야 한다.\n",
    "* There will either be no right child, or we must insert the node between the root and an existing right child.\n",
    "* 거기에 오른쪽 차일드가 없는 경우가 있을것이고 아니면 노드를 루트와 존재하는 오른쪽 차일드 사이에 넣게 될 것이다.\n",
    "* The insertion code is shown in Listing 6.\n",
    "* insertion 코드는 아래에 나타나 있다."
   ]
  },
  {
   "cell_type": "code",
   "execution_count": 3,
   "metadata": {},
   "outputs": [],
   "source": [
    "# Listing 6\n",
    "def insertRight(self,newNode):\n",
    "    if self.rightChild == None:\n",
    "        self.rightChild = BinaryTree(newNode)\n",
    "    else:\n",
    "        t = BinaryTree(newNode)\n",
    "        t.rightChild = self.rightChild\n",
    "        self.rightChild = t"
   ]
  },
  {
   "cell_type": "markdown",
   "metadata": {},
   "source": [
    "* To round out the definition for a simple binary tree data structure, we will write accessor methods (see Listing 7) for the left and right children, as well as the root values.\n",
    "* 간단한 바이너리 트리 데이터 구조를 만들기 위해 우리는 접근 메서드를 사용할 것이다. 루트에 접근하는것과 마찬가지로 왼쪽과 오른쪽 차일드에 접근하는것도 만들 것이다."
   ]
  },
  {
   "cell_type": "code",
   "execution_count": 4,
   "metadata": {},
   "outputs": [],
   "source": [
    "# Listing 7\n",
    "\n",
    "def getRightChild(self):\n",
    "    return self.rightChild\n",
    "\n",
    "def getLeftChild(self):\n",
    "    return self.leftChild\n",
    "\n",
    "def setRootVal(self,obj):\n",
    "    self.key = obj\n",
    "\n",
    "def getRootVal(self):\n",
    "    return self.key"
   ]
  },
  {
   "cell_type": "markdown",
   "metadata": {},
   "source": [
    "* Now that we have all the pieces to create and manipulate a binary tree, let’s use them to check on the structure a bit more. \n",
    "* 이제 우리는 바이너리 트리를 만들고 생성하기 위한 모든 것을 가지고 있다. 이제 저것을 사용하고 구조를 확인해 보자.\n",
    "* Let’s make a simple tree with node a as the root, and add nodes b and c as children. \n",
    "* root노드 a와 b, c를 차일드 노드로 추가해 보자.\n",
    "* ActiveCode 1 creates the tree and looks at the some of the values stored in key, left, and right. \n",
    "* ActiveCode 1은 트리를 만들고, 왼쪽, 오른쪽에 있는 키를 확인해 보자\n",
    "* Notice that both the left and right children of the root are themselves distinct instances of the BinaryTree class. \n",
    "* 오른쪽 왼쪽 차일드의 루트는 이진 트리 클래스와 다른 것임을 확인하라  \n",
    "* As we said in our original recursive definition for a tree, this allows us to treat any child of a binary tree as a binary tree itself.\n",
    "* 우리가 앞서 확인했던 트리의 재귀적 정의처럼, 어떤 바이너리 트리의 차일드도 바이너리 트리 자신처럼 동작한 다는 것을 알 수 있다."
   ]
  },
  {
   "cell_type": "code",
   "execution_count": 5,
   "metadata": {},
   "outputs": [
    {
     "name": "stdout",
     "output_type": "stream",
     "text": [
      "a\n",
      "None\n",
      "<__main__.BinaryTree object at 0x000002246DC52F98>\n",
      "b\n",
      "<__main__.BinaryTree object at 0x000002246DC465C0>\n",
      "c\n",
      "hello\n"
     ]
    }
   ],
   "source": [
    "class BinaryTree:\n",
    "    def __init__(self,rootObj):\n",
    "        self.key = rootObj\n",
    "        self.leftChild = None\n",
    "        self.rightChild = None\n",
    "\n",
    "    def insertLeft(self,newNode):\n",
    "        if self.leftChild == None:\n",
    "            self.leftChild = BinaryTree(newNode)\n",
    "        else:\n",
    "            t = BinaryTree(newNode)\n",
    "            t.leftChild = self.leftChild\n",
    "            self.leftChild = t\n",
    "\n",
    "    def insertRight(self,newNode):\n",
    "        if self.rightChild == None:\n",
    "            self.rightChild = BinaryTree(newNode)\n",
    "        else:\n",
    "            t = BinaryTree(newNode)\n",
    "            t.rightChild = self.rightChild\n",
    "            self.rightChild = t\n",
    "\n",
    "\n",
    "    def getRightChild(self):\n",
    "        return self.rightChild\n",
    "\n",
    "    def getLeftChild(self):\n",
    "        return self.leftChild\n",
    "\n",
    "    def setRootVal(self,obj):\n",
    "        self.key = obj\n",
    "\n",
    "    def getRootVal(self):\n",
    "        return self.key\n",
    "\n",
    "\n",
    "r = BinaryTree('a')\n",
    "print(r.getRootVal())\n",
    "print(r.getLeftChild())\n",
    "r.insertLeft('b')\n",
    "print(r.getLeftChild())\n",
    "print(r.getLeftChild().getRootVal())\n",
    "r.insertRight('c')\n",
    "print(r.getRightChild())\n",
    "print(r.getRightChild().getRootVal())\n",
    "r.getRightChild().setRootVal('hello')\n",
    "print(r.getRightChild().getRootVal())"
   ]
  }
 ],
 "metadata": {
  "kernelspec": {
   "display_name": "Python 3",
   "language": "python",
   "name": "python3"
  },
  "language_info": {
   "codemirror_mode": {
    "name": "ipython",
    "version": 3
   },
   "file_extension": ".py",
   "mimetype": "text/x-python",
   "name": "python",
   "nbconvert_exporter": "python",
   "pygments_lexer": "ipython3",
   "version": "3.7.3"
  }
 },
 "nbformat": 4,
 "nbformat_minor": 2
}
