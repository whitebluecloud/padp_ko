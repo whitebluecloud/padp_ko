{
 "cells": [
  {
   "cell_type": "markdown",
   "metadata": {},
   "source": [
    "With the implementation of a binary search tree now complete, we will do a quick analysis of the methods we have implemented.  \n",
    "이진 탐색트리에 대한 구현이 끝났으므로 우리가 구현한 것에대해 분석해보자.\n",
    "\n",
    "Let’s first look at the put method.  \n",
    "먼저 put 메서드를 살펴보자.\n",
    "\n",
    "The limiting factor on its performance is the height of the binary tree.  \n",
    "퍼포먼스를 결정하는 요소는 이진 트리의 높이이다.\n",
    "\n",
    "Recall from the vocabulary section that the height of a tree is the number of edges between the root and the deepest leaf node.  \n",
    "앞에 용어 설명에서 봤듯이 높이는 트리가 루트에서 가장 말단 노드까지 이어지는 edge의 수이다.\n",
    "\n",
    "The height is the limiting factor because when we are searching for the appropriate place to insert a node into the tree,   \n",
    "height가 제한 요소가 되는 것은 우리가 노드에 적절한 위치에 넣기 위해 트리를 탐색해야 하기 때문이다.\n",
    "\n",
    "we will need to do at most one comparison at each level of the tree.  \n",
    "우리는 이것을 트리의 각 레벨마다 비교해야한다."
   ]
  },
  {
   "cell_type": "markdown",
   "metadata": {},
   "source": [
    "What is the height of a binary tree likely to be?  \n",
    "이진 트리의 높이는 어떻게 될것인가?\n",
    "\n",
    "The answer to this question depends on how the keys are added to the tree.  \n",
    "이것의 답은 어떤 키들이 트리에 추가될 것인가에 따라서 이다.\n",
    "\n",
    "If the keys are added in a random order, the height of the tree is going to be around log2n where n is the number of nodes in the tree.  \n",
    "만약 키들이 랜덤한 순서에 따라 추가된다면, 트리의 높이는 대략 노드의 수에 맞춰 log2n이 될것이다.\n",
    "\n",
    "This is because if the keys are randomly distributed, about half of them will be less than the root and half will be greater than the root.  \n",
    "이것은 키가 랜덤하게 분포되어있다고 가정하며, 절반정도는 루트보다 크고 절반정도는 루트보다 작을것이라 가정하는 것이다.\n",
    "\n",
    "Remember that in a binary tree there is one node at the root, two nodes in the next level, and four at the next.  \n",
    "이진 트리는 루트에 하나의 노드가 있고 다음 레벨에 2개, 다다음 레벨에는 4개의 노드를 가지고 있다.\n",
    "\n",
    "The number of nodes at any particular level is 2d where d is the depth of the level.  특정한 레벨에 존재하는 노드의 수는 2^d이고, d는 레벨의 depth이다.\n",
    "\n",
    "The total number of nodes in a perfectly balanced binary tree is 2h+1−1, where h represents the height of the tree.  \n",
    "완전 균형 이진 트리의 노드 갯수는 2^(h+1)-1 개이고, h는 트리의 높이를 나타낸다."
   ]
  },
  {
   "cell_type": "markdown",
   "metadata": {},
   "source": [
    "A perfectly balanced tree has the same number of nodes in the left subtree as the right subtree.  \n",
    "완전 균형 트리는 왼쪽 서브트리와 오른쪽 섭트리의 노드 갯수가 같을 때이다.\n",
    "\n",
    "In a balanced binary tree, the worst-case performance of put is O(log2n), where n is the number of nodes in the tree.  \n",
    "균형 이진 트리에서는 put의 최악의 퍼포먼스가 O(log2n)이고 n은 트리안에 노드 갯수이다.\n",
    "\n",
    "Notice that this is the inverse relationship to the calculation in the previous paragraph.  \n",
    "이것은 이전 문단의 계산과 역의 관계를 가지고 있는 것이다.\n",
    "\n",
    "So log2n gives us the height of the tree, and represents the maximum number of comparisons that put will need to do as it searches for the proper place to insert a new node.  \n",
    "그러므로 log2n는 트리의 높이를 알려주고, 새로운 노드를 삽입하는데 필요한 최대 값을 알려준다."
   ]
  },
  {
   "cell_type": "markdown",
   "metadata": {},
   "source": [
    "Unfortunately it is possible to construct a search tree that has height n simply by inserting the keys in sorted order!  \n",
    "불행히도 정렬된 순서대로 키를 넣으면 n개의 높이로 트리가 생성된다.\n",
    "\n",
    "An example of such a tree is shown in Figure 6. In this case the performance of the put method is O(n).  \n",
    "이 트리의 예제가 figure 6에 나와있다. 이경우에 put 메소드의 성능은 O(n)이다.\n"
   ]
  },
  {
   "cell_type": "markdown",
   "metadata": {},
   "source": [
    "Now that you understand that the performance of the put method is limited by the height of the tree, you can probably guess that other methods, get, in, and del, are limited as well. \n",
    "이제 당신은 풋 메서드의 퍼포먼스가 트리의 높이에 따라 결정되어 있음을 알것이다.\n",
    "또한 다른 메서드인 겟이나 인, 딜리트도 이것과 같이 제한되어 있음을 알것이다.\n",
    "\n",
    "Since get searches the tree to find the key, in the worst case the tree is searched all the way to the bottom and no key is found. \n",
    "get이 트리 안에 있는 키를 찾으므로, 최악의 경우는 찾는 키가 맨 바닥에 있거나 찾는 키가 없는 경우이다.\n",
    "\n",
    "At first glance del might seem more complicated, since it may need to search for the successor before the deletion operation can complete. \n",
    "처음 볼때 딜리트가 조금 복잡해 보이겠지만, 이것은 successor를 찾고나서 지우는 오퍼레이션을 활용할 수 있을 것이다.\n",
    "\n",
    "But remember that the worst-case scenario to find the successor is also just the height of the tree which means that you would simply double the work. \n",
    "하지만 successor를 찾는것에 최악의 경우는 트리의 높이만큼 찾는것이다.\n",
    "\n",
    "Since doubling is a constant factor it does not change worst case."
   ]
  }
 ],
 "metadata": {
  "kernelspec": {
   "display_name": "Python 3",
   "language": "python",
   "name": "python3"
  },
  "language_info": {
   "codemirror_mode": {
    "name": "ipython",
    "version": 3
   },
   "file_extension": ".py",
   "mimetype": "text/x-python",
   "name": "python",
   "nbconvert_exporter": "python",
   "pygments_lexer": "ipython3",
   "version": "3.7.3"
  }
 },
 "nbformat": 4,
 "nbformat_minor": 2
}
