{
 "cells": [
  {
   "cell_type": "markdown",
   "metadata": {},
   "source": [
    "Before we look at the implementation, let’s review the interface provided by the map ADT.  \n",
    "구현을 살펴보기 전에, 맵 추상 데이터 타입의 인터페이스 부터 살펴보자.\n",
    "\n",
    "You will notice that this interface is very similar to the Python dictionary.  \n",
    "이 인터페이스가 파이썬의 딕셔너리와 매우 비슷한것을 알수 있을 것이다\n",
    "\n",
    "* Map() Create a new, empty map.  \n",
    "* 새로운 맵을 생성한다.\n",
    "\n",
    "* put(key,val) Add a new key-value pair to the map. \n",
    "* 새로운 키-밸류 쌍을 맵에 넣는다.\n",
    "* If the key is already in the map then replace the old value with the new value.\n",
    "* 만약 키가 이미 있다면 새로운 값으로 대체한다.\n",
    "\n",
    "* get(key) Given a key, return the value stored in the map or None otherwise.\n",
    "* 주어진 키로 맵에 저장된 값을 반환하거나 None을 반환한다.\n",
    "\n",
    "* del Delete the key-value pair from the map using a statement of the form del map[key].\n",
    "* 키-밸류 쌍을 맵에서 삭제한다.\n",
    "\n",
    "* len() Return the number of key-value pairs stored in the map.\n",
    "* 맵에 저장되어있는 키-밸류 쌍의 갯수를 반환한다.  \n",
    "* in Return True for a statement of the form key in map, if the given key is in the map.  \n",
    "* 제공된 키가 맵에 있는 경우 True를 리턴한다."
   ]
  }
 ],
 "metadata": {
  "kernelspec": {
   "display_name": "Python 3",
   "language": "python",
   "name": "python3"
  },
  "language_info": {
   "codemirror_mode": {
    "name": "ipython",
    "version": 3
   },
   "file_extension": ".py",
   "mimetype": "text/x-python",
   "name": "python",
   "nbconvert_exporter": "python",
   "pygments_lexer": "ipython3",
   "version": "3.7.3"
  }
 },
 "nbformat": 4,
 "nbformat_minor": 2
}
