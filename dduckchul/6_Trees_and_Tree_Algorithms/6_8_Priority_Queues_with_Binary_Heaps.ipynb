{
 "cells": [
  {
   "cell_type": "markdown",
   "metadata": {},
   "source": [
    "In earlier sections you learned about the first-in first-out data structure called a queue.  \n",
    "이전 섹션에서 선입선출 구조인 큐를 배웠다\n",
    "\n",
    "One important variation of a queue is called a priority queue.   \n",
    "큐의 중요한 형태중 하나는 우선순위 큐이다\n",
    "\n",
    "A priority queue acts like a queue in that you dequeue an item by removing it from the front.  \n",
    "우선순위 큐는 front에서 아이템을 지우는 형태의 큐이다\n",
    "\n",
    "However, in a priority queue the logical order of items inside a queue is determined by their priority.  \n",
    "우선순위 큐에서는 큐의 논리적인 순서가 우선순위에 의해 정해진다. \n",
    "\n",
    "The highest priority items are at the front of the queue and the lowest priority items are at the back.  \n",
    "높은 우선순위를 가진 아이템이 큐이 앞에 있고, 낮은 우선순위의 아이템들이 뒤에있다.\n",
    "\n",
    "Thus when you enqueue an item on a priority queue, the new item may move all the way to the front.  \n",
    "그러므로 우선순위 큐에 아이템을 등록할때 앞에서부터 이동하게 된다.\n",
    "\n",
    "We will see that the priority queue is a useful data structure for some of the graph algorithms we will study in the next chapter.  \n",
    "우리는 우선순위 큐가 다음 챕터에 나오는 그래프 알고리즘에서 많이 사용되는것을 알 수 있다."
   ]
  },
  {
   "cell_type": "markdown",
   "metadata": {},
   "source": [
    "You can probably think of a couple of easy ways to implement a priority queue using sorting functions and lists.  \n",
    "당신은 우선순위 큐를 구현하기 위해 리스트와 그 펑션들을 사용하면 쉽게 구현할것이라고 생각할 것이다.\n",
    "\n",
    "However, inserting into a list is O(n) and sorting a list is O(nlogn).  \n",
    "그러나, 리스트 안에 인서트 하는것은 O(n) 이고 정렬하는 것은 O(nlogn)이다.\n",
    "\n",
    "We can do better.  \n",
    "우리는 이것을 개선할 수 있다\n",
    "\n",
    "The classic way to implement a priority queue is using a data structure called a binary heap.  \n",
    "우선순위 큐를 구현하는 가장 기본적인 방법은 binary heap 이라고 불리는 데이터 구조를 사용하는 것이다.\n",
    "\n",
    "A binary heap will allow us both enqueue and dequeue items in O(logn)  \n",
    "바이너리 힙은 아이템을 넣고 뺄떄 모두 O(logn)이 소요된다."
   ]
  },
  {
   "cell_type": "markdown",
   "metadata": {},
   "source": [
    "The binary heap is interesting to study because when we diagram the heap it looks a lot like a tree, but when we implement it we use only a single list as an internal representation.  \n",
    "바이너리 힙은 흥미로워 보인다. 왜냐하면 힙의 구조가 트리와 매우 닮아 있지만, 이것을 내부적으로 구현할때는 하나의 리스트로 만들것이기 때문이다.\n",
    "\n",
    "The binary heap has two common variations: the min heap, in which the smallest key is always at the front, and the max heap, in which the largest key value is always at the front.  \n",
    "바이너리 힙은 두가지 일반적인 형태를 가지고 있다, 가장 작은 키가 항상 프론트에 있는 최소 힙, 가장 큰 키값이 프론트에 있는 최대 힙이다.\n",
    "\n",
    "In this section we will implement the min heap. We leave a max heap implementation as an exercise.  \n",
    "이 섹션에서는 우리가 최소 힙을 구현해 볼것이다. 우리는 최대 힙을 예제로 구현해 볼 것이다."
   ]
  }
 ],
 "metadata": {
  "kernelspec": {
   "display_name": "Python 3",
   "language": "python",
   "name": "python3"
  },
  "language_info": {
   "codemirror_mode": {
    "name": "ipython",
    "version": 3
   },
   "file_extension": ".py",
   "mimetype": "text/x-python",
   "name": "python",
   "nbconvert_exporter": "python",
   "pygments_lexer": "ipython3",
   "version": "3.7.3"
  }
 },
 "nbformat": 4,
 "nbformat_minor": 2
}
