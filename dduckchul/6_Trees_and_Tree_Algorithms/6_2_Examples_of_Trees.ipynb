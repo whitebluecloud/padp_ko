{
 "cells": [
  {
   "cell_type": "markdown",
   "metadata": {},
   "source": [
    "## 6.2. Examples of Trees\n",
    "\n",
    "* Now that we have studied linear data structures like stacks and queues and have some experience with recursion, we will look at a common data structure called the tree. \n",
    "* 우리는 앞에서 선형 데이터 구조인 스택과, 큐를 배웠고 또 재귀에 대해서도 배웠다. 이제 트리라고 불리는 일반적 데이터 구조를 살펴볼 것이다.\n",
    "* Trees are used in many areas of computer science, including operating systems, graphics, database systems, and computer networking.\n",
    "* 트리는 컴퓨터 과학에서 매우 많은 부분에 사용된다, OS, 그래픽, DB 시스템 그리고 컴퓨터 네트워킹 까지.\n",
    "* Tree data structures have many things in common with their botanical cousins. \n",
    "* 트리 데이터 구조는 진짜 식물 나무와 많은 공통점을 보유하고 있다.\n",
    "* A tree data structure has a root, branches, and leaves.\n",
    "* 트리 데이터 구조는 루트, 가지(브랜치), 잎사귀 들(리프) 가 있다\n",
    "* The difference between a tree in nature and a tree in computer science is that a tree data structure has its root at the top and its leaves on the bottom.\n",
    "* 트리 데이터 구조와 자연의 나무와 다른 점은 트리 데이터 구조의 루트는 맨 위에 있고, 리프가 가장 아래 있는 것이다."
   ]
  },
  {
   "cell_type": "markdown",
   "metadata": {},
   "source": [
    "* Before we begin our study of tree data structures, let’s look at a few common examples. \n",
    "* 트리 데이터 구조에 대해 배우기 전에, 몇몇 예제를 살펴보자.\n",
    "* Our first example of a tree is a classification tree from biology.\n",
    "* 트리의 첫 예제로는 생물학에서의 분류 트리를 보게 될 것이다.\n",
    "* Figure 1 shows an example of the biological classification of some animals.\n",
    "* Figure 1에서는 몇 동물들의 생물학적 분류를 보여준다.\n",
    "* From this simple example, we can learn about several properties of trees.\n",
    "* 이 예제에서, 우리는 트리의 몇몇 속성들을 알게 될 것이다.\n",
    "* The first property this example demonstrates is that trees are hierarchical.\n",
    "* 첫번째 이 예제가 나타나는 속성은 트리가 계층적이라는 것이다.\n",
    "* By hierarchical, we mean that trees are structured in layers with the more general things near the top and the more specific things near the bottom.\n",
    "* 계층적이라는것은, 트리가 층층이 쌓여있고, 일반적인것일수록 위에 있고,특징적인것은 아래에 있다는 것이다.\n",
    "* The top of the hierarchy is the Kingdom, the next layer of the tree (the “children” of the layer above) is the Phylum, then the Class, and so on.\n",
    "* 계층의 최상위에 있는것은 계이고, 다음에는 문, 강 그리고 계속된다.\n",
    "* However, no matter how deep we go in the classification tree, all the organisms are still animals.\n",
    "* 그러나, 분류 트리에서 아무리 깊게 들어간다고 해도, 모든 유기체들은 여전히 동물 안에 있다."
   ]
  },
  {
   "cell_type": "markdown",
   "metadata": {},
   "source": [
    "* Notice that you can start at the top of the tree and follow a path made of circles and arrows all the way to the bottom.\n",
    "* 트리의 최 상단에서 시작해서 동그라미와 화살표로 나타내는 경로들을 쭉 돌아봐라.\n",
    "* At each level of the tree we might ask ourselves a question and then follow the path that agrees with our answer.\n",
    "* 각 단계의 트리들이 우리에게 질문하고, 각 질문에 맞는 답변의 경로를 찾아가게 된다.\n",
    "* For example we might ask, “Is this animal a Chordate or an Arthropod?” If the answer is “Chordate” then we follow that path and ask, “Is this Chordate a Mammal?” If not, we are stuck (but only in this simplified example).\n",
    "* 예를들자면, 동물이 척삭동물인가? 절지동물인가? 그리고 척삭 동물이라면, 척삭동물이 포유류인가? 만약 그렇지 않다면 여기서 멈추게 된다. (여기선 단지 단순화된 예제이다.)\n",
    "* When we are at the Mammal level we ask, “Is this Mammal a Primate or a Carnivore?” We can keep following paths until we get to the very bottom of the tree where we have the common name.\n",
    "* 만약 포유류라고 한다면, 포유류가 영장류인가 육식 동물인가를 묻게된다. 우리는 이 경로를 트리의 가장 아래까지 따라갈 수 있을 것이다.\n",
    "\n",
    "* A second property of trees is that all of the children of one node are independent of the children of another node.\n",
    "* 트리의 두번째 요소는 한 자식 노드는 다른 노드의 자식과 독립적이라는 것이다.\n",
    "* For example, the Genus Felis has the children Domestica and Leo. \n",
    "* 예를들어, 고양이 속은 고양이와 사자의 칠드런을 가지고 있다.\n",
    "* The Genus Musca also has a child named Domestica, but it is a different node and is independent of the Domestica child of Felis.\n",
    "* 파리 속도 Domestica 라는 자식을 가지고 있지만, 이것은 다른 노드이고, Felis의 자식인 Domestica와 독립적이다.\n",
    "* This means that we can change the node that is the child of Musca without affecting the child of Felis.\n",
    "* 이것은 우리가 Felis의 자식에 영향을 끼치지 않고 Musca의 자식노드만 바꿀수 있는 것을 의미한다.\n",
    "\n",
    "* A third property is that each leaf node is unique.\n",
    "* 셋째 속성은 각각의 마지막 노드는 유니크 하다는것이다.\n",
    "* We can specify a path from the root of the tree to a leaf that uniquely identifies each species in the animal kingdom; for example, Animalia → Chordate → Mammal → Carnivora → Felidae → Felis → Domestica.\n",
    "* 우리는 트리의 루트로부터 리프에 이르기까지 경로를 특정지을수 있다. 이 경로는 동물계를에서 각각의 종들을 구분지을수 있는 것이다. 예를들어 집고양이는, 동물계, 척삭동물문, 포유강, 식육목, 고양잇과, 고양이속 집고양이 인것이다."
   ]
  },
  {
   "cell_type": "markdown",
   "metadata": {},
   "source": [
    "* The file system tree has much in common with the biological classification tree. You can follow a path from the root to any directory.\n",
    "* 파일 시스템 트리도 생물팍적 분류 트리와 매우 비슷한 점이 있다. 루트 디렉토리부터 어떤 디렉토리가지 경로를 따라갈 수 있다.\n",
    "* That path will uniquely identify that subdirectory (and all the files in it).\n",
    "* 경로는 유일하게 하위의 디렉토리를 구분지으며, 거기에 있는 파일도 마찬가지이다.\n",
    "* Another important property of trees, derived from their hierarchical nature, is that you can move entire sections of a tree (called a subtree) to a different position in the tree without affecting the lower levels of the hierarchy. \n",
    "* 다른 트리의 중요한 특징으로는, 트리의 하위 계층에 영향을 주지 않고, 서브트리라고 불리는 트리의 일부 영역을 트리의 다른 영역으로 옮길 수 있다는 것이다. \n",
    "* For example, we could take the entire subtree staring with /etc/, detach etc/ from the root and reattach it under usr/.\n",
    "* 예를들어, 우리는 /etc/로 시작되는 서브트리를 /etc/ 에서 떼어내 /usr/로 시작되는 곳에 다시 붙일 수 있다.\n",
    "* This would change the unique pathname to httpd from /etc/httpd to /usr/etc/httpd, but would not affect the contents or any children of the httpd directory.\n",
    "* 이것은 httpd로 가게 되는 유일한 경로를 /etc/httpd에서 /usr/etc/httpd로 옮기게 될수도 있으나, httpd 하위 디렉토리의 컨텐츠나 자식에 영향을 전혀 주지 않는다.\n",
    "\n",
    "* A final example of a tree is a web page.\n",
    "* 마지막 트리의 예제로는 웹페이지를 들 수 있다.\n",
    "* The following is an example of a simple web page written using HTML.\n",
    "* 다음은 HTML을 사용해 작성한 간단한 웹 페이지이다.\n",
    "* Figure 3 shows the tree that corresponds to each of the HTML tags used to create the page.\n",
    "* Figure 3은 각각의 HTML태그가 페이지를 만들기 위해 작성된 트리를 보여준다."
   ]
  },
  {
   "cell_type": "markdown",
   "metadata": {},
   "source": [
    "```\n",
    "<html xmlns=\"http://www.w3.org/1999/xhtml\"\n",
    "      xml:lang=\"en\" lang=\"en\">\n",
    "<head>\n",
    "    <meta http-equiv=\"Content-Type\"\n",
    "          content=\"text/html; charset=utf-8\" />\n",
    "    <title>simple</title>\n",
    "</head>\n",
    "<body>\n",
    "<h1>A simple web page</h1>\n",
    "<ul>\n",
    "    <li>List item one</li>\n",
    "    <li>List item two</li>\n",
    "</ul>\n",
    "<h2><a href=\"http://www.cs.luther.edu\">Luther CS </a><h2>\n",
    "</body>\n",
    "</html>\n",
    "```"
   ]
  },
  {
   "cell_type": "markdown",
   "metadata": {},
   "source": [
    "* The HTML source code and the tree accompanying the source illustrate another hierarchy. \n",
    "* HTML 소스 코드와 트리는 다른 계층 구조를 보여준다.\n",
    "* Notice that each level of the tree corresponds to a level of nesting inside the HTML tags. \n",
    "* 각 레벨의 트리가 안에 중첩되는 html tag와 대응 하고 있는것을 볼 수 있다.\n",
    "* The first tag in the source is <html> and the last is </html> \n",
    "* 소스의 가장 첫번쨰 태그는 <html>이고 마지막도 </html>이다. \n",
    "* All the rest of the tags in the page are inside the pair. \n",
    "* 모든 나머지 태그 또한 쌍으로 존재하고 있다.\n",
    "* If you check, you will see that this nesting property is true at all levels of the tree.\n",
    "* 이 중첩되는 요소는 트리의 모든 단계에서 참인것을 알수 있다."
   ]
  }
 ],
 "metadata": {
  "kernelspec": {
   "display_name": "Python 3",
   "language": "python",
   "name": "python3"
  },
  "language_info": {
   "codemirror_mode": {
    "name": "ipython",
    "version": 3
   },
   "file_extension": ".py",
   "mimetype": "text/x-python",
   "name": "python",
   "nbconvert_exporter": "python",
   "pygments_lexer": "ipython3",
   "version": "3.7.3"
  }
 },
 "nbformat": 4,
 "nbformat_minor": 2
}
