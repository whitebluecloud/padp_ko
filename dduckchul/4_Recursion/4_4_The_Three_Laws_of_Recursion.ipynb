{
 "cells": [
  {
   "cell_type": "markdown",
   "metadata": {},
   "source": [
    "Like the robots of Asimov, all recursive algorithms must obey three important laws:  \n",
    "Asimov의 로봇의 3원칙 처럼, 모든 재귀 문제는 반드시 다음 3가지 법칙을 따라야 한다:  \n",
    "\n",
    "1. A recursive algorithm must have a base case.\n",
    "1. A recursive algorithm must change its state and move toward the base case.\n",
    "1. A recursive algorithm must call itself, recursively.  \n",
    "\n",
    "1. 재귀적 알고리즘은 반드시 Base Case가 있어야 한다\n",
    "1. 재귀적 알고리즘은 자신의 상태를 바꾸며 Base Case를 향해야 한다\n",
    "1. 재귀적 알고리즘을 자신을 호출해야한다, 재귀적으로."
   ]
  },
  {
   "cell_type": "markdown",
   "metadata": {},
   "source": [
    "Let’s look at each one of these laws in more detail and see how it was used in the listsum algorithm.   \n",
    "이 법칙들을 좀더 자세히 살펴보고 이것이 listsum 알고리즘에서 어떻게 사용되었는지 보자.  \n",
    "First, a base case is the condition that allows the algorithm to stop recursing. \n",
    "먼저, base case는 재귀적인 알고리즘의 호출을 멈추는 조건이다.  \n",
    "A base case is typically a problem that is small enough to solve directly.  \n",
    "Base case는 매우 작아서 바로 풀수 있는 쉬운 문제이다.  \n",
    "In the listsum algorithm the base case is a list of length 1.  \n",
    "listsum 알고리즘의 base case는 리스트의 길이가 1일때 이다.  "
   ]
  },
  {
   "cell_type": "markdown",
   "metadata": {},
   "source": [
    "To obey the second law, we must arrange for a change of state that moves the algorithm toward the base case.  \n",
    "두번째 법칙을 따르지만, 우리는 base case를 향해 상태를 변화시켜야 한다.  \n",
    "A change of state means that some data that the algorithm is using is modified.  \n",
    "상태를 변화해야 한다는 것은 알고리즘을 사용한 데이터들이 수정된다는 말이다.  \n",
    "Usually the data that represents our problem gets smaller in some way.  \n",
    "보통 데이터는 문제가 점차 작아지고 있다는것을 나타낸다.  \n",
    "In the listsum algorithm our primary data structure is a list, so we must focus our state-changing efforts on the list.  \n",
    "listsum 알고리즘에서는, 기본적인 데이터 구조가 list였고, 우리는 리스트의 형태를 바꾸는데에 집중해야 한다.  \n",
    "Since the base case is a list of length 1, a natural progression toward the base case is to shorten the list.  \n",
    "알고리즘의 base case가 길이가 1인 리스트였으므로, base case를 향하는 진행방식은 리스트를 짧게 만드는 것이다.  \n",
    "This is exactly what happens on line 5 of ActiveCode 2 when we call listsum with a shorter list.  \n",
    "이것이 5라인에서 우리가 listsum을 호출할때 작아진 리스트를 받는 것이다. "
   ]
  },
  {
   "cell_type": "markdown",
   "metadata": {},
   "source": [
    "The final law is that the algorithm must call itself.  \n",
    "마지막 법칙은 알고리즘이 자기 자신을 호출하는 것이다.  \n",
    "This is the very definition of recursion.  \n",
    "이것은 재귀의 정의이기도 하다.  \n",
    "Recursion is a confusing concept to many beginning programmers.  \n",
    "재귀는 많은 초보 개발자들에게 매우 헷갈리는 개념이기도 하다.  \n",
    "As a novice programmer, you have learned that functions are good because you can take a large problem and break it up into smaller problems.  \n",
    "초보 개발자로써, 펑션이 좋은것은 큰 문제들을 작은 문제들로 나눌 수 있기 때문이라고 배웠을 것이다.  \n",
    "The smaller problems can be solved by writing a function to solve each problem. \n",
    "작은 문제들은 작은 각각 펑션을 호출하여 문제를 해결할 수 있다.  \n",
    "When we talk about recursion it may seem that we are talking ourselves in circles.  \n",
    "하지만, 재귀에 대해 말할때 계속 우리가 순환하는것처럼 보일 수 있다.  \n",
    "We have a problem to solve with a function, but that function solves the problem by calling itself!  \n",
    "왜냐하면 펑션을 호출하여 문제를 해결해야하는데, 펑션이 자기 자신을 호출하면서 문제를 해결 한다는게 이해가 안될 수 있다.  \n",
    "But the logic is not circular at all; the logic of recursion is an elegant expression of solving a problem by breaking it down into a smaller and easier problems.  \n",
    "하지만 로직은 순환하는 문제가 아니다. 재귀문제의 로직은 문제를 아주 작고 쉬운 문제로 나눠서 해결하는 고급진 문제 해결법이다."
   ]
  },
  {
   "cell_type": "markdown",
   "metadata": {},
   "source": [
    "In the remainder of this chapter we will look at more examples of recursion.  \n",
    "이 챕터를 기억해두고, 재귀의 다른 문제들을 찾아 볼 것이다.  \n",
    "In each case we will focus on designing a solution to a problem by using the three laws of recursion.  \n",
    "모든 문제들은 위 재귀의 세가지 원칙을 통해 문제를 해결할 것이다.  "
   ]
  },
  {
   "cell_type": "markdown",
   "metadata": {},
   "source": [
    "## Self Check\n",
    "\n",
    "### Q-36: How many recursive calls are made when computing the sum of the list [2,4,6,8,10]? C\n",
    "* (A) 6\n",
    "* (B) 5\n",
    "* (C) 4\n",
    "* (D) 3\n",
    "\n",
    "### Q-37: Suppose you are going to write a recusive function to calculate the factorial of a number. fact(n) returns n * n-1 * n-2 * ... Where the factorial of zero is definded to be 1. What would be the most appropriate base case? D\n",
    "* (A) n == 0\n",
    "* (B) n == 1\n",
    "* (C) n >= 0\n",
    "* (D) n <= 1\n"
   ]
  }
 ],
 "metadata": {
  "kernelspec": {
   "display_name": "Python 3",
   "language": "python",
   "name": "python3"
  },
  "language_info": {
   "codemirror_mode": {
    "name": "ipython",
    "version": 3
   },
   "file_extension": ".py",
   "mimetype": "text/x-python",
   "name": "python",
   "nbconvert_exporter": "python",
   "pygments_lexer": "ipython3",
   "version": "3.7.3"
  }
 },
 "nbformat": 4,
 "nbformat_minor": 2
}
