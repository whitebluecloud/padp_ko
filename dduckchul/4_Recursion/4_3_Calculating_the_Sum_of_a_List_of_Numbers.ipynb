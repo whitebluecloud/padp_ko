{
 "cells": [
  {
   "cell_type": "markdown",
   "metadata": {},
   "source": [
    "We will begin our investigation with a simple problem that you already know how to solve without using recursion.  \n",
    "우리는 재귀를 통해 풀지 않는 단순한 문제를 보게 될 것이다  \n",
    "Suppose that you want to calculate the sum of a list of numbers such as: [1,3,5,7,9]. \n",
    "리스트 안에 숫자들의 합을 계산한다고 가정해보자.  \n",
    "An iterative function that computes the sum is shown in ActiveCode 1.  \n",
    "반복문을 사용한 값은 아래코드에 나와있다.  \n",
    "The function uses an accumulator variable (theSum) to compute a running total of all the numbers in the list by starting with 0 and adding each number in the list.  \n",
    "이 펑션은 더하기 위한 변수를 사용하고, (theSum) 0부터 시작하여 리스트에 있는 모든 숫자를 더한다.  "
   ]
  },
  {
   "cell_type": "code",
   "execution_count": 1,
   "metadata": {},
   "outputs": [
    {
     "name": "stdout",
     "output_type": "stream",
     "text": [
      "25\n"
     ]
    }
   ],
   "source": [
    "def listsum(numList):\n",
    "    theSum = 0\n",
    "    for i in numList:\n",
    "        theSum = theSum + i\n",
    "    return theSum\n",
    "\n",
    "print(listsum([1,3,5,7,9]))"
   ]
  },
  {
   "cell_type": "markdown",
   "metadata": {},
   "source": [
    "Pretend for a minute that you do not have while loops or for loops.  \n",
    "while loop나 for loop가 없다고 생각해보자.  \n",
    "How would you compute the sum of a list of numbers?  \n",
    "어떻게 리스트 안의 숫자들을 더할 수 있을까?  \n",
    "If you were a mathematician you might start by recalling that addition is a function that is defined for two parameters, a pair of numbers.  \n",
    "만약 당신이 수학자라면, 덧셈이 한쌍의 숫자로 되어엤는 두가지 파라미터를 전달받고, 이를 재귀적으로 풀면 된다고 생각할 것이다.   \n",
    "To redefine the problem from adding a list to adding pairs of numbers, we could rewrite the list as a fully parenthesized expression.  \n",
    "리스트를 더하는 문제에서 한 쌍의 숫자를 더하는 문제로 재정의 하면, 우리는 리스트를 괄호처리된 표현으로 다시 작성할 수 있다.\n",
    "Such an expression looks like this:  \n",
    "아래와 같은 표현이 괄호화 처리를 사용한것이다  "
   ]
  },
  {
   "cell_type": "markdown",
   "metadata": {},
   "source": [
    "### ((((1+3)+5)+7)+9)"
   ]
  },
  {
   "cell_type": "markdown",
   "metadata": {},
   "source": [
    "We can also parenthesize the expression the other way around,  \n",
    "우리는 괄호 표현을 아래와 같이 다르게도 표현할 수 있다.  "
   ]
  },
  {
   "cell_type": "markdown",
   "metadata": {},
   "source": [
    "### (1+(3+(5+(7+9))))"
   ]
  },
  {
   "cell_type": "markdown",
   "metadata": {},
   "source": [
    "Notice that the innermost set of parentheses, (7+9), is a problem that we can solve without a loop or any special constructs.  \n",
    "가장 안쪽에 있는 괄호인 (7+9)는 우리가 반복이나 특별한 구현을 할 필요없이 해결할 수 있는 문제이다.  \n",
    "In fact, we can use the following sequence of simplifications to compute a final sum.  \n",
    "사실, 다음과 같은 단순한 순서를 이용해 최종 결과물을 계산할 수 있다.  "
   ]
  },
  {
   "cell_type": "markdown",
   "metadata": {},
   "source": [
    "### total= (1+(3+(5+(7+9))))\n",
    "### total= (1+(3+(5+16)))\n",
    "### total= (1+(3+21))\n",
    "### total= (1+24)\n",
    "### total= 25"
   ]
  },
  {
   "cell_type": "markdown",
   "metadata": {},
   "source": [
    "How can we take this idea and turn it into a Python program?  \n",
    "어떻게 이런 아이디어를 파이썬 프로그램으로 변환할수 있을까?\n",
    "First, let’s restate the sum problem in terms of Python lists.  \n",
    "먼저 덧셈문제를 파이썬 리스트 형태에서 다시 보자.\n",
    "We might say the the sum of the list numList is the sum of the first element of the list (numList[0]), and the sum of the numbers in the rest of the list (numList[1:]). \n",
    "리스트의 합인 numList는 리스트의 첫번쨰 요소와 그 나머지 리스트들의 합이라고 할 수 있다. \n",
    "To state it in a functional form:\n",
    "이것을 함수형태로 본다면 :"
   ]
  },
  {
   "cell_type": "markdown",
   "metadata": {},
   "source": [
    "### listSum(numList)=first(numList)+listSum(rest(numList))"
   ]
  },
  {
   "cell_type": "markdown",
   "metadata": {},
   "source": [
    "In this equation first(numList) returns the first element of the list and rest(numList) returns a list of everything but the first element.  \n",
    "위 방적식에서 first(numList)는 리스트의 첫번째 엘리먼트를 반환하고, rest(numList)는 리스트의 첫번째 엘리먼트를 제외한 모든 리스트를 반환한다.  \n",
    "This is easily expressed in Python as shown in ActiveCode 2.  \n",
    "이것은 아래 코드에서 간단하게 표현할 수 있다"
   ]
  },
  {
   "cell_type": "code",
   "execution_count": 2,
   "metadata": {},
   "outputs": [
    {
     "name": "stdout",
     "output_type": "stream",
     "text": [
      "25\n"
     ]
    }
   ],
   "source": [
    "def listsum(numList):\n",
    "    if len(numList) == 1:\n",
    "        return numList[0]\n",
    "    else:\n",
    "        return numList[0] + listsum(numList[1:])\n",
    "\n",
    "print(listsum([1,3,5,7,9]))"
   ]
  },
  {
   "cell_type": "markdown",
   "metadata": {},
   "source": [
    "There are a few key ideas in this listing to look at.  \n",
    "여기서 몇가지 살펴볼 중요한 아이디어들이 있다.  \n",
    "First, on line 2 we are checking to see if the list is one element long.  \n",
    "첫번쨰로, 2라인에서 리스트가 한개인지 확인한다.  \n",
    "This check is crucial and is our escape clause from the function.  \n",
    "이 확인은 매우 중요하고, 펑션에서 나갈수 있는 구문이 될것이다.  \n",
    "The sum of a list of length 1 is trivial; it is just the number in the list. \n",
    "길이가 1은 리스트의 합은 아주 간단하다; 리스트에 있는 숫자임.  \n",
    "Second, on line 5 our function calls itself! \n",
    "두번쨰로, 5번째 라인에서 펑션이 자기 자신을 호출한다  \n",
    "This is the reason that we call the listsum algorithm recursive.  \n",
    "우리가 이것이 listsum 알고리즘을 재귀적으로 풀었다는 것이다.  \n",
    "A recursive function is a function that calls itself.   \n",
    "재귀적인 펑션은 자기 자신을 호출하는 것이다.  \n",
    "Figure 1 shows the series of recursive calls that are needed to sum the list [1,3,5,7,9].  \n",
    "Figure 1에서 리스트[1,3,5,7,9]를 더하는 재귀 호출의 과정을 보여준다.  \n",
    "You should think of this series of calls as a series of simplifications.  \n",
    "아마 당신은 이 연속적인 호출들이 연속적인 단순화라고 생각할 수 있어야 한다.  \n",
    "Each time we make a recursive call we are solving a smaller problem, until we reach the point where the problem cannot get any smaller.  \n",
    "재귀적인 호출을 만들때에는, 작은 문제로 점차 나누어 문제가 더이상 작아질수 없을때까지 나누어야 한다.  "
   ]
  },
  {
   "cell_type": "markdown",
   "metadata": {},
   "source": [
    "When we reach the point where the problem is as simple as it can get, we begin to piece together the solutions of each of the small problems until the initial problem is solved.   \n",
    "문제를 최대한 단순화 할수 있는곳까지 단순화 했다면, 이 작은 문제들을 해결해 최초의 문제를 풀수 있도록 해결하면 딘다.\n",
    "Figure 2 shows the additions that are performed as listsum works its way backward through the series of calls.  \n",
    "Figure 2에서는 더하기들이 연속적인 호출들이 listsum이 동작하는 것처럼 역방향으로 동작하는것을 보여준다.\n",
    "When listsum returns from the topmost problem, we have the solution to the whole problem.  \n",
    "listsum이 가장 위에 있는 문제를 해결했다면, 우리는 전체 문제를 해결한 것이다."
   ]
  }
 ],
 "metadata": {
  "kernelspec": {
   "display_name": "Python 3",
   "language": "python",
   "name": "python3"
  },
  "language_info": {
   "codemirror_mode": {
    "name": "ipython",
    "version": 3
   },
   "file_extension": ".py",
   "mimetype": "text/x-python",
   "name": "python",
   "nbconvert_exporter": "python",
   "pygments_lexer": "ipython3",
   "version": "3.7.3"
  }
 },
 "nbformat": 4,
 "nbformat_minor": 2
}
