{
 "cells": [
  {
   "cell_type": "markdown",
   "metadata": {},
   "source": [
    "Recursion is a method of solving problems that involves breaking a problem down into smaller and smaller subproblems until you get to a small enough problem that it can be solved trivially.  \n",
    "재귀는 어떤 문제를 일반적인 문제로 풀어낼만큼 아주 작은 단위의 문제로 쪼개서 해결하는 방법이다\n",
    "Usually recursion involves a function calling itself.  \n",
    "보통 재귀는 자기 자신을 호출하는것을 포함하고 있다.  \n",
    "While it may not seem like much on the surface, recursion allows us to write elegant solutions to problems that may otherwise be very difficult to program.  \n",
    "이것은 겉으로 보이게 그렇지 않아보이지지만, 다른 방식으로 풀면 어렵지만 재귀를 사용하면 고급지게 문제를 풀수 있다."
   ]
  }
 ],
 "metadata": {
  "kernelspec": {
   "display_name": "Python 3",
   "language": "python",
   "name": "python3"
  },
  "language_info": {
   "codemirror_mode": {
    "name": "ipython",
    "version": 3
   },
   "file_extension": ".py",
   "mimetype": "text/x-python",
   "name": "python",
   "nbconvert_exporter": "python",
   "pygments_lexer": "ipython3",
   "version": "3.7.3"
  }
 },
 "nbformat": 4,
 "nbformat_minor": 2
}
