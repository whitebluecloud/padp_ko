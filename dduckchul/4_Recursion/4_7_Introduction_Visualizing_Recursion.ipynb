{
 "cells": [
  {
   "cell_type": "markdown",
   "metadata": {},
   "source": [
    "In the previous section we looked at some problems that were easy to solve using recursion;  \n",
    "이전 섹션에서는 재귀를 사용해 쉽게 해결할 수 있는 문제들을 확인했다.\n",
    "however, it can still be difficult to find a mental model or a way of visualizing what is happening in a recursive function.  \n",
    "그러나, 재귀 함수에서 일어나는 일을 시각적으로 확인하기엔 여전히 어려워보인다.  \n",
    "This can make recursion difficult for people to grasp. \n",
    "이것은 사람들에게 재귀를 이해하기 어렵게 만든다.  \n",
    "In this section we will look at a couple of examples of using recursion to draw some interesting pictures.  \n",
    "이 섹션에서는 몇개의 재미있는 그림들을 그려보며 재귀 호출의 방법을 알아보자.  \n",
    "As you watch these pictures take shape you will get some new insight into the recursive process that may be helpful in cementing your understanding of recursion.  \n",
    "이 그림들을 살펴보면 재귀적인 프로세스의 새로운 시각을 가져다 주며, 재귀를 이해하는데 도움이 될 것이다.  "
   ]
  },
  {
   "cell_type": "markdown",
   "metadata": {},
   "source": [
    "The tool we will use for our illustrations is Python’s turtle graphics module called turtle.  \n",
    "시각화에 쓸 도구는 터틀이라고 불리는 파이썬의 터틀 그래픽 모듈이다.  \n",
    "The turtle module is standard with all versions of Python and is very easy to use.  \n",
    "터틀 모듈은 모든 버전의 파이썬에서 표준이며, 매우 쓰기 쉽다.  \n",
    "The metaphor is quite simple. You can create a turtle and the turtle can move\n",
    "forward, backward, turn left, turn right, etc. The turtle can have its tail up or down.  \n",
    "사용법도 매우 간단하다, turtle을 만들고 turtle은 앞으로, 뒤로, 좌로, 우로 등등 움직일 수 있다.  \n",
    "When the turtle’s tail is down and the turtle moves it draws a line as it moves.  \n",
    "turtle의 꼬리가 donw이며, turtle이 움직일때 선을 그린다.  \n",
    "To increase the artistic value of the turtle you can change the width of the tail as well as the color of the ink the tail is dipped in.  \n",
    "turtle의 예술적 요소를 추가하기 위해 tail의 width를 변경할 수도 있고, tail의 색을 변경할 수도 있다.  "
   ]
  },
  {
   "cell_type": "markdown",
   "metadata": {},
   "source": [
    "Here is a simple example to illustrate some turtle graphics basics.  \n",
    "여기 간단한 turtle 그래픽의 예제가 있다.  \n",
    "We will use the turtle module to draw a spiral recursively.  \n",
    "우리는 터틀 모듈을 나선형으로 그리기 위해 사용할 것이다.  \n",
    "ActiveCode 1 shows how it is done.  \n",
    "ActiveCode 1은 이게 어떻게 그려지는지 나타낸다.  \n",
    "After importing the turtle module we create a turtle.  \n",
    "turtle을 임포팅하고나서 우리는 turtle을 만들것이다.  \n",
    "When the turtle is created it also creates a window for itself to draw in.  \n",
    "turtle이 만들어지면, 이것은 그릴수 있는 창도 만들것이다.  \n",
    "Next we define the drawSpiral function. \n",
    "다음으로, 우리는 drawSpiral 펑션을 정의할 것이다. \n",
    "The base case for this simple function is when the length of the line we want to draw, as given by the len parameter, is reduced to zero or less.  \n",
    "이 간단한 function의 base case는 그리고 싶은 선의 길이가 0적거나 같을 때이다.  \n",
    "If the length of the line is longer than zero we instruct the turtle to go forward by len units and then turn right 90 degrees.  \n",
    "만약 그려야할 선의 길이가 0보다 크다면 turtle이 직진하고 90도 오른쪽으로 가게 할것이다.  \n",
    "The recursive step is when we call drawSpiral again with a reduced length.  \n",
    "재귀 호출 단계는 drawSpiral을 다시한번 호출하고, 길이를 줄일것이다.  \n",
    "At the end of ActiveCode 1 you will notice that we call the function myWin.exitonclick(), this is a handy little method of the window that puts the turtle into a wait mode until you click inside the window, after which the program cleans up and exits.  \n",
    "ActiveCode의 끝에 myWin.exitonclick()를 선언했는데, 이것은 윈도우 안에서 클릭하면 프로그램이 종료되는 것이다.  "
   ]
  },
  {
   "cell_type": "code",
   "execution_count": 1,
   "metadata": {},
   "outputs": [],
   "source": [
    "import turtle\n",
    "\n",
    "myTurtle = turtle.Turtle()\n",
    "myWin = turtle.Screen()\n",
    "\n",
    "def drawSpiral(myTurtle, lineLen):\n",
    "    if lineLen > 0:\n",
    "        myTurtle.forward(lineLen)\n",
    "        myTurtle.right(90)\n",
    "        drawSpiral(myTurtle,lineLen-5)\n",
    "\n",
    "drawSpiral(myTurtle,100)\n",
    "myWin.exitonclick()"
   ]
  },
  {
   "cell_type": "markdown",
   "metadata": {},
   "source": [
    "That is really about all the turtle graphics you need to know in order to make some pretty impressive drawings. \n",
    "이것은 인상적인 그림을 그리기 위한 터틀 그래픽 코드의 전부이다.  \n",
    "For our next program we are going to draw a fractal tree.  \n",
    "다음 프로그램에서 우리는 프랙탈 트리를 만들것이다.  \n",
    "Fractals come from a branch of mathematics, and have much in common with recursion.  \n",
    "프랙탈은 수학의 한 가지로, 재귀와 매우 닮아있다.  \n",
    "The definition of a fractal is that when you look at it the fractal has the same basic shape no matter how much you magnify it.  \n",
    "프랙탈의 정이는 당신이 얼마나 그걸 늘린다 하더라도 똑같은 형태가 늘어나느 것이다.  \n",
    "Some examples from nature are the coastlines of continents, snowflakes, mountains, and even trees or shrubs.  \n",
    "자연에서 볼 수 있는 프랙탈의 형태는 대륙의 해안선, 눈송이, 산들, 그리고 나무들에서 볼 수 있다.  \n",
    "The fractal nature of many of these natural phenomenon makes it possible for programmers to generate very realistic looking scenery for computer generated movies.   \n",
    "이런 자연 현상에서 볼수 있는 프랙탈 구조는 프로그래머들이 컴퓨터 그래픽으로 매우 현실적인 자연 환경을 만들수 있도록 해준다.  \n",
    "In our next example we will generate a fractal tree.  \n",
    "다음 예제에서 우리는 프랙탈 트리를 만들어 볼 것이다.  "
   ]
  },
  {
   "cell_type": "markdown",
   "metadata": {},
   "source": [
    "To understand how this is going to work it is helpful to think of how we might describe a tree using a fractal vocabulary.  \n",
    "\n",
    "Remember that we said above that a fractal is something that looks the same at all different levels of magnification.  \n",
    "If we translate this to trees and shrubs we might say that even a small twig has the same shape and characteristics as a whole tree.  \n",
    "Using this idea we could say that a tree is a trunk, with a smaller tree going off to the right and another smaller tree going off to the left. \n",
    "If you think of this definition recursively it means that we will apply the recursive definition of a tree to both of the smaller left and right trees."
   ]
  },
  {
   "cell_type": "markdown",
   "metadata": {},
   "source": [
    "Let’s translate this idea to some Python code. Listing 1 shows how we can use our turtle to generate a fractal tree. Let’s look at the code a bit more closely. You will see that on lines 5 and 7 we are making a recursive call. On line 5 we make the recursive call right after the turtle turns to the right by 20 degrees; this is the right tree mentioned above. Then in line 7 the turtle makes another recursive call, but this time after turning left by 40 degrees. The reason the turtle must turn left by 40 degrees is that it needs to undo the original 20 degree turn to the right and then do an additional 20 degree turn to the left in order to draw the left tree. Also notice that each time we make a recursive call to tree we subtract some amount from the branchLen parameter; this is to make sure that the recursive trees get smaller and smaller. You should also recognize the initial if statement on line 2 as a check for the base case of branchLen getting too small."
   ]
  },
  {
   "cell_type": "code",
   "execution_count": 2,
   "metadata": {},
   "outputs": [],
   "source": [
    "# Listing 1\n",
    "def tree(branchLen,t):\n",
    "    if branchLen > 5:\n",
    "        t.forward(branchLen)\n",
    "        t.right(20)\n",
    "        tree(branchLen-15,t)\n",
    "        t.left(40)\n",
    "        tree(branchLen-10,t)\n",
    "        t.right(20)\n",
    "        t.backward(branchLen)"
   ]
  },
  {
   "cell_type": "markdown",
   "metadata": {},
   "source": [
    "The complete program for this tree example is shown in ActiveCode 2. Before you run the code think about how you expect to see the tree take shape. Look at the recursive calls and think about how this tree will unfold. Will it be drawn symmetrically with the right and left halves of the tree taking shape simultaneously? Will it be drawn right side first then left side?"
   ]
  },
  {
   "cell_type": "code",
   "execution_count": null,
   "metadata": {},
   "outputs": [],
   "source": [
    "import turtle\n",
    "\n",
    "def tree(branchLen,t):\n",
    "    if branchLen > 5:\n",
    "        t.forward(branchLen)\n",
    "        t.right(20)\n",
    "        tree(branchLen-15,t)\n",
    "        t.left(40)\n",
    "        tree(branchLen-15,t)\n",
    "        t.right(20)\n",
    "        t.backward(branchLen)\n",
    "\n",
    "def main():\n",
    "    t = turtle.Turtle()\n",
    "    myWin = turtle.Screen()\n",
    "    t.left(90)\n",
    "    t.up()\n",
    "    t.backward(100)\n",
    "    t.down()\n",
    "    t.color(\"green\")\n",
    "    tree(75,t)\n",
    "    myWin.exitonclick()\n",
    "\n",
    "main()"
   ]
  },
  {
   "cell_type": "markdown",
   "metadata": {},
   "source": [
    "Notice how each branch point on the tree corresponds to a recursive call, and notice how the tree is drawn to the right all the way down to its shortest twig. You can see this in Figure 1. Now, notice how the program works its way back up the trunk until the entire right side of the tree is drawn. You can see the right half of the tree in Figure 2. Then the left side of the tree is drawn, but not by going as far out to the left as possible. Rather, once again the entire right side of the left tree is drawn until we finally make our way out to the smallest twig on the left.\n"
   ]
  },
  {
   "cell_type": "markdown",
   "metadata": {},
   "source": [
    "This simple tree program is just a starting point for you, and you will notice that the tree does not look particularly realistic because nature is just not as symmetric as a computer program. The exercises at the end of the chapter will give you some ideas for how to explore some interesting options to make your tree look more realistic.\n"
   ]
  },
  {
   "cell_type": "markdown",
   "metadata": {},
   "source": [
    "## Self Check\n",
    "\n",
    "### Modify the recursive tree program using one or all of the following ideas:\n",
    "\n",
    "* Modify the thickness of the branches so that as the branchLen gets smaller, the line gets thinner.\n",
    "* Modify the color of the branches so that as the branchLen gets very short it is colored like a leaf.\n",
    "* Modify the angle used in turning the turtle so that at each branch point the angle is selected at random in some range. For example choose the angle between 15 and 45 degrees. Play around to see what looks good.\n",
    "* Modify the branchLen recursively so that instead of always subtracting the same amount you subtract a random amount in some range."
   ]
  }
 ],
 "metadata": {
  "kernelspec": {
   "display_name": "Python 3",
   "language": "python",
   "name": "python3"
  },
  "language_info": {
   "codemirror_mode": {
    "name": "ipython",
    "version": 3
   },
   "file_extension": ".py",
   "mimetype": "text/x-python",
   "name": "python",
   "nbconvert_exporter": "python",
   "pygments_lexer": "ipython3",
   "version": "3.7.3"
  }
 },
 "nbformat": 4,
 "nbformat_minor": 2
}
