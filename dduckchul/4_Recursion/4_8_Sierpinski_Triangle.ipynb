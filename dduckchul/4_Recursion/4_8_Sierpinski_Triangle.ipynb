{
 "cells": [
  {
   "cell_type": "markdown",
   "metadata": {},
   "source": [
    "* Another fractal that exhibits the property of self-similarity is the Sierpinski triangle. \n",
    "* 프랙탈의 자신을 닮는것을 보여주는 또다른 예제가 Sierpinski 삼각형이다.\n",
    "* An example is shown in Figure 3. \n",
    "* Figure 3에 이 예제가 나와있다.\n",
    "* The Sierpinski triangle illustrates a three-way recursive algorithm. \n",
    "* Sierpinski triangle은 세가지 재귀 알고리즘을 표현하고 있다.\n",
    "* The procedure for drawing a Sierpinski triangle by hand is simple. \n",
    "* Sierpinski 삼각형을 손으로 그리는 방법은 매우 간단하다.\n",
    "* Start with a single large triangle. \n",
    "* 먼저 큰 하나의 삼각형을 그리자.\n",
    "* Divide this large triangle into four new triangles by connecting the midpoint of each side. \n",
    "* 하나의 큰 삼각형을 4개의 삼각형으로 나누어 보자 (각 변의 가운데를 연결하면됨)\n",
    "* Ignoring the middle triangle that you just created, apply the same procedure to each of the three corner triangles. \n",
    "* 가운데 삼각형을 빼고, 각 코너부분의 3개 삼각형에서 위와 같은것을 반복해라\n",
    "* Each time you create a new set of triangles, you recursively apply this procedure to the three smaller corner triangles. \n",
    "* 각각 새로운 삼각형들을 만들때마다, 이것을 세개 코너 부분의 삼각형에서 반복하면 된다.\n",
    "* You can continue to apply this procedure indefinitely if you have a sharp enough pencil.\n",
    "* 가는 연필이있다면 이 작업을 무한히 반복할 수 있다.\n",
    "* Before you continue reading, you may want to try drawing the Sierpinski triangle yourself, using the method described.\n",
    "* 위에 글을 계속 읽기전에 아마 Sierpinski 삼각형을 그리길 원했을 수 있다."
   ]
  },
  {
   "cell_type": "markdown",
   "metadata": {},
   "source": [
    "* Since we can continue to apply the algorithm indefinitely, what is the base case? \n",
    "* 이 알고리즘을 계속 적용한다면, base case가 무엇일까?\n",
    "* We will see that the base case is set arbitrarily as the number of times we want to divide the triangle into pieces. \n",
    "* 우리는 base case는 우리가 삼각형을 나누기 원하는 숫자라는 것을 알게될것이다.\n",
    "* Sometimes we call this number the “degree” of the fractal. \n",
    "* 우리는 이런 숫자를 fractal의 degree 라고 부른다.\n",
    "* Each time we make a recursive call, we subtract 1 from the degree until we reach 0. \n",
    "* 반복적인 호출을 할 때마다, 우리는 degree에서 1을 빼서 0까지 반복한다.\n",
    "* When we reach a degree of 0, we stop making recursive calls. \n",
    "* degree가 0이 된다면, 우리는 재귀 호출을 멈출것이다.\n",
    "* The code that generated the Sierpinski Triangle in Figure 3 is shown in ActiveCode 1.\n",
    "* Figure3에 있는 Sierpinski 삼각형을 만드는 코드는 아래 ActiveCode 1에 나타나 있다.\n"
   ]
  },
  {
   "cell_type": "code",
   "execution_count": 1,
   "metadata": {},
   "outputs": [],
   "source": [
    "import turtle\n",
    "\n",
    "def drawTriangle(points,color,myTurtle):\n",
    "    myTurtle.fillcolor(color)\n",
    "    myTurtle.up()\n",
    "    myTurtle.goto(points[0][0],points[0][1])\n",
    "    myTurtle.down()\n",
    "    myTurtle.begin_fill()\n",
    "    myTurtle.goto(points[1][0],points[1][1])\n",
    "    myTurtle.goto(points[2][0],points[2][1])\n",
    "    myTurtle.goto(points[0][0],points[0][1])\n",
    "    myTurtle.end_fill()\n",
    "\n",
    "def getMid(p1,p2):\n",
    "    return ( (p1[0]+p2[0]) / 2, (p1[1] + p2[1]) / 2)\n",
    "\n",
    "def sierpinski(points,degree,myTurtle):\n",
    "    colormap = ['blue','red','green','white','yellow',\n",
    "                'violet','orange']\n",
    "    drawTriangle(points,colormap[degree],myTurtle)\n",
    "    if degree > 0:\n",
    "        sierpinski([points[0],\n",
    "                        getMid(points[0], points[1]),\n",
    "                        getMid(points[0], points[2])],\n",
    "                   degree-1, myTurtle)\n",
    "        sierpinski([points[1],\n",
    "                        getMid(points[0], points[1]),\n",
    "                        getMid(points[1], points[2])],\n",
    "                   degree-1, myTurtle)\n",
    "        sierpinski([points[2],\n",
    "                        getMid(points[2], points[1]),\n",
    "                        getMid(points[0], points[2])],\n",
    "                   degree-1, myTurtle)\n",
    "\n",
    "def main():\n",
    "    myTurtle = turtle.Turtle()\n",
    "    myWin = turtle.Screen()\n",
    "    myPoints = [[-100,-50],[0,100],[100,-50]]\n",
    "    sierpinski(myPoints,3,myTurtle)\n",
    "    myWin.exitonclick()\n",
    "\n",
    "main()"
   ]
  },
  {
   "cell_type": "markdown",
   "metadata": {},
   "source": [
    "* The program in ActiveCode 1 follows the ideas outlined above. \n",
    "* ActiveCode1의 프로그램은 위의 아이디어를 구현한 것이다.\n",
    "* The first thing sierpinski does is draw the outer triangle.\n",
    "* sierpinski에서 첫번째로 하는것은 바깥의 삼각형을 그리는 것이다.\n",
    "* Next, there are three recursive calls, one for each of the new corner triangles we get when we connect the midpoints. \n",
    "* 그리고 세개의 재귀 호출이 있다. 각각의 새로운 코너 삼각형은 우리가 가운데 점을 연결하여 만든것이다. \n",
    "* Once again we make use of the standard turtle module that comes with Python. \n",
    "* 다시 한번 우리는 turtle 모듈을 이사용하여 이것을 그릴것이다.\n",
    "* You can learn all the details of the methods available in the turtle module by using help('turtle') from the Python prompt.\n",
    "* python prompt에서 help('turtle')을 사용하면 더 자세한 사용법을 배울 수 있다."
   ]
  },
  {
   "cell_type": "markdown",
   "metadata": {},
   "source": [
    "* Look at the code and think about the order in which the triangles will be drawn. \n",
    "* 코드를 보고 어떤 순서대로 삼각형이 그려질것인지 생각해보자.\n",
    "* While the exact order of the corners depends upon how the initial set is specified, let’s assume that the corners are ordered lower left, top, lower right. \n",
    "* 어떤 코너의 삼각형이 그려지는지에 대한 순서는 최초의 셋이 정해질때이다. 코너 삼각형들이 왼쪽아래, 위, 오른쪽 아래 순서로 그려진다고 생각해보자.\n",
    "* Because of the way the sierpinski function calls itself, sierpinski works its way to the smallest allowed triangle in the lower-left corner, and then begins to fill out the rest of the triangles working back. \n",
    "* sierpinski function은 재귀적으로 본인을 호출하기 때문에, sierpinski는 삼각형의 가장 왼쪽에 있는 작은 삼각형부터 다 그리고, 돌아가서 나머지 삼각형들을 그릴것이다.\n",
    "* Then it fills in the triangles in the top corner by working toward the smallest, topmost triangle. \n",
    "* 그리고 윗쪽 코너의 가장 작은 삼각형들을 그리며 삼각형을 채울 것이다.\n",
    "* Finally, it fills in the lower-right corner, working its way toward the smallest triangle in the lower right.\n",
    "* 마지막으로 오른쪽 아래있는, 가장 오른쪽 아래 코너의 작은 삼각형을 채우며 그릴것이다."
   ]
  },
  {
   "cell_type": "markdown",
   "metadata": {},
   "source": [
    "* Sometimes it is helpful to think of a recursive algorithm in terms of a diagram of function calls. \n",
    "* 때때로 이것은 function call 할때 재귀적인 알고리즘을 생각할때 도움이 된다.\n",
    "* Figure 4 shows that the recursive calls are always made going to the left.\n",
    "* figure 4는 왼쪽 삼각형을 그릴때 일어나는 재귀 호출들을 나타낸다.\n",
    "* The active functions are outlined in black, and the inactive function calls are in gray. \n",
    "* 지금 실행중인 function은 까만색 선으로 그려져있고, 비활성화된 function 호출은 회색으로 그려져 있다.\n",
    "* The farther you go toward the bottom of Figure 4, the smaller the triangles. \n",
    "* Figure4의 가장 아래는 가장 작은 삼각형으로 생각하면 된다.\n",
    "* The function finishes drawing one level at a time; once it is finished with the bottom left it moves to the bottom middle, and so on.\n",
    "* function은 한 그림을 그릴때 한 레벨을 한번에 끝낸다. 가장 아래의 왼쪽이 끝났으면, 가운데, 오른쪽으로 계속 움직인다."
   ]
  },
  {
   "cell_type": "markdown",
   "metadata": {},
   "source": [
    "* The sierpinski function relies heavily on the getMid function.  \n",
    "* sierpinski function은 getMid function에 매우 의존적이다. \n",
    "* getMid takes as arguments two endpoints and returns the point halfway between them.\n",
    "* getMid는 두개의 끝점 인자를 밭고 그것들의 가운데 점을 반환한다.\n",
    "* In addition, ActiveCode 1 has a function that draws a filled triangle using the begin_fill and end_fill turtle methods.\n",
    "* 거기에 ActiveCode는 turtle의 메서드인 begin_fill과 end_fill을 사용해 삼각형의 색상을 칠한다."
   ]
  }
 ],
 "metadata": {
  "kernelspec": {
   "display_name": "Python 3",
   "language": "python",
   "name": "python3"
  },
  "language_info": {
   "codemirror_mode": {
    "name": "ipython",
    "version": 3
   },
   "file_extension": ".py",
   "mimetype": "text/x-python",
   "name": "python",
   "nbconvert_exporter": "python",
   "pygments_lexer": "ipython3",
   "version": "3.7.3"
  }
 },
 "nbformat": 4,
 "nbformat_minor": 2
}
