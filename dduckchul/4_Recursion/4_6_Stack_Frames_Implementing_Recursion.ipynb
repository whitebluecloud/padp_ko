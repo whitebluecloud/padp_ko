{
 "cells": [
  {
   "cell_type": "markdown",
   "metadata": {},
   "source": [
    "Suppose that instead of concatenating the result of the recursive call to toStr with the string from convertString, we modified our algorithm to push the strings onto a stack prior to making the recursive call.  \n",
    "재귀호출의 결과로 스트링을 합치는 것이 아니라, 재귀 호출의 결과를 스택에 저장하는 것으로 알고리즘을 수정해보자.  \n",
    "The code for this modified algorithm is shown in ActiveCode 1.  \n",
    "이를 수정한 결과가 아래 코드에 나타나 있다.  "
   ]
  },
  {
   "cell_type": "code",
   "execution_count": 1,
   "metadata": {},
   "outputs": [
    {
     "name": "stdout",
     "output_type": "stream",
     "text": [
      "5AD\n"
     ]
    }
   ],
   "source": [
    "from pythonds.basic.stack import Stack\n",
    "\n",
    "rStack = Stack()\n",
    "\n",
    "def toStr(n,base):\n",
    "    convertString = \"0123456789ABCDEF\"\n",
    "    while n > 0:\n",
    "        if n < base:\n",
    "            rStack.push(convertString[n])\n",
    "        else:\n",
    "            rStack.push(convertString[n % base])\n",
    "        n = n // base\n",
    "    res = \"\"\n",
    "    while not rStack.isEmpty():\n",
    "        res = res + str(rStack.pop())\n",
    "    return res\n",
    "print(toStr(1453,16))\n",
    "\n",
    "#Converting an Integer to a String Using a Stack (lst_recstack)"
   ]
  },
  {
   "cell_type": "markdown",
   "metadata": {},
   "source": [
    "Each time we make a call to toStr, we push a character on the stack.  \n",
    "매번 toStr을 호출할 때마다, 스택에 한 글자를 넣는다.  \n",
    "Returning to the previous example we can see that after the fourth call to toStr the stack would look like Figure 5.  \n",
    "이전 예제처럼 4번쨰 toStr의 호출후에 스택안은 Figure 5와 같이 나타나진다.  \n",
    "Notice that now we can simply pop the characters off the stack and concatenate them into the final result, \"1010\".  \n",
    "그리고 나서 단순하게 스택에서 pop을 사용해 합치면 결과값 \"1010\"이 나오는것을 확인할 수 있다.  "
   ]
  },
  {
   "cell_type": "markdown",
   "metadata": {},
   "source": [
    "The previous example gives us some insight into how Python implements a recursive function call.  \n",
    "이전 예제는 어떻게 파이썬이 재귀 펑션을 호출하는지에 대한 시각을 갖게 해준다.  \n",
    "When a function is called in Python, a stack frame is allocated to handle the local variables of the function.  \n",
    "파이썬에서 function을 호출하게 되면, function에 지역변수를 할당해주기 위해 stack frame이할당 된다.  \n",
    "When the function returns, the return value is left on top of the stack for the calling function to access.  \n",
    "function이 리턴되면, 리턴값이 스택의 맨 위에 남아있다.  \n",
    "Figure 6 illustrates the call stack after the return statement on line 4.  \n",
    "Figure 6이 return 한 이후 스택의 모습을 보여준다.  "
   ]
  },
  {
   "cell_type": "markdown",
   "metadata": {},
   "source": [
    "Notice that the call to toStr(2//2,2) leaves a return value of \"1\" on the stack.  \n",
    "toStr(2//2, 2)가 스택의 맨 위에 1의 값을 남긴다.  \n",
    "This return value is then used in place of the function call (toStr(1,2)) in the expression \"1\" + convertString[2%2], which will leave the string \"10\" on the top of the stack.  \n",
    "이 리턴값은 toStr(1,2)를 호출하여 \"1\" + convertString[2%2] \"10\"을 스택의 맨 위에 놓는다.  \n",
    "In this way, the Python call stack takes the place of the stack we used explicitly in Listing 4.  \n",
    "이처럼 파이썬은 Listing 4에서 명시하여 스택을 사용한 것 처럼 스택을 호출한다.  \n",
    "In our list summing example, you can think of the return value on the stack taking the place of an accumulator variable.  \n",
    "list를 더하는 예제에서도, accumulator 변수가 스택에 있다는것을 알 수 있다.  "
   ]
  },
  {
   "cell_type": "markdown",
   "metadata": {},
   "source": [
    "The stack frames also provide a scope for the variables used by the function.  \n",
    "스택 프레임은 또한 펑션에서 사용하는 변수의 scope를 제공한다.  \n",
    "Even though we are calling the same function over and over, each call creates a new scope for the variables that are local to the function.  \n",
    "비록 똑같은 펑션을 호출 할지라도, 각각의 호출은 펑션 안에서만 사용되는 지역변수를 만든다."
   ]
  }
 ],
 "metadata": {
  "kernelspec": {
   "display_name": "Python 3",
   "language": "python",
   "name": "python3"
  },
  "language_info": {
   "codemirror_mode": {
    "name": "ipython",
    "version": 3
   },
   "file_extension": ".py",
   "mimetype": "text/x-python",
   "name": "python",
   "nbconvert_exporter": "python",
   "pygments_lexer": "ipython3",
   "version": "3.7.3"
  }
 },
 "nbformat": 4,
 "nbformat_minor": 2
}
