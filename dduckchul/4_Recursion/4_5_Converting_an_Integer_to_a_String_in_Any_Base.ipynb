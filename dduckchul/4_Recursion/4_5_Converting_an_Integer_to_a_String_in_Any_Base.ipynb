{
 "cells": [
  {
   "cell_type": "markdown",
   "metadata": {},
   "source": [
    "Suppose you want to convert an integer to a string in some base between binary and hexadecimal.  \n",
    "당신이 정수형을 2진수나 16진수형태의 문자열로 바꾸고싶다고 가정해보자.  \n",
    "For example, convert the integer 10 to its string representation in decimal as \"10\", or to its string representation in binary as \"1010\".  \n",
    "예를들어, 정수형 10을 10진수로 표현하면 10이고, 2진수로 표현하면 \"1010\" 이 된다.  \n",
    "While there are many algorithms to solve this problem, including the algorithm discussed in the stack section, the recursive formulation of the problem is very elegant.  \n",
    "이 문제를 해결하기위해 앞서 스택에서 배웠던 알고리즘을 포함한 많은 알고리즘이 있으나, 재귀를 사용한 문제해결법은 매우 고급지다.  "
   ]
  },
  {
   "cell_type": "markdown",
   "metadata": {},
   "source": [
    "Let’s look at a concrete example using base 10 and the number 769.  \n",
    "지수가 10인 769를 예로 들어보자.  \n",
    "Suppose we have a sequence of characters corresponding to the first 10 digits, like convString = \"0123456789\".  \n",
    "10개의 숫자에 대응하고 있는 문자들이 있다고 가정하자, \"012345789\"  \n",
    "It is easy to convert a number less than 10 to its string equivalent by looking it up in the sequence.  \n",
    "10보다 작은 숫자로 변환하기 위한것은 매우 쉽다. 단순하게 시퀀스에서 일치하는 숫자를 찾으면 되는것이다.  \n",
    "For example, if the number is 9, then the string is convString[9] or \"9\".  \n",
    "예를들어, 숫자가 9라면, convString[9]는 \"9\"가 될것이다.  \n",
    "If we can arrange to break up the number 769 into three single-digit numbers, 7, 6, and 9, then converting it to a string is simple.  \n",
    "만약 우리가 769를 3개의 10진수로 나타내면 스트링으로 \"7\",\"6\",\"9\"를 표현하기는 매우 쉽다.  \n",
    "A number less than 10 sounds like a good base case.  \n",
    "10보다 작은 수는 base case에 적합하다.  "
   ]
  },
  {
   "cell_type": "markdown",
   "metadata": {},
   "source": [
    "Knowing what our base is suggests that the overall algorithm will involve three components:  \n",
    "우리의 기본적인 알고리즘은 다음과같은 3개의 구성으로 되어있다.  \n",
    "1. Reduce the original number to a series of single-digit numbers.  \n",
    "1, 원래 숫자를 연속된 개별 숫자들 (10진수)로 변환하기\n",
    "1. Convert the single digit-number to a string using a lookup.\n",
    "1. 개별 숫자들을 string에서 위치를 통해 찾아보기\n",
    "1. Concatenate the single-digit strings together to form the final result.\n",
    "1. 개별 숫자로 나타낸 스트링을 묶어서 결과값으로 보여주기"
   ]
  },
  {
   "cell_type": "markdown",
   "metadata": {},
   "source": [
    "The next step is to figure out how to change state and make progress toward the base case.   \n",
    "다음 단계는 어떻게 상태를 변화시키고 base case로 향하는지이다.  \n",
    "Since we are working with an integer, let’s consider what mathematical operations might reduce a number.  \n",
    "우리는 정수형 숫자를 가지고 있으므로, 숫자를 줄이기 위해선 어떤 수학적 연산이 필요한지 생각해보자.  \n",
    "The most likely candidates are division and subtraction.  \n",
    "가장 적합한 후보들은 나누기와 빼기이다.  \n",
    "While subtraction might work, it is unclear what we should subtract from what.  \n",
    "빼기는 아마 동작할것이지만, 어떤것을 빼줘야할지 불명확하다.  \n",
    "Integer division with remainders gives us a clear direction.  \n",
    "정수형의 나누기와 나머지들이 정확한 방향을 나타내준다.  \n",
    "Let’s look at what happens if we divide a number by the base we are trying to convert to.  \n",
    "우리가 지수로 숫자를 나누게 되면 어떤일이 일어나는지 확인해보자."
   ]
  },
  {
   "cell_type": "markdown",
   "metadata": {},
   "source": [
    "Using integer division to divide 769 by 10, we get 76 with a remainder of 9. \n",
    "정수의 나눗셈을 사용해 769를 10으로 나누면 76과 9가 남는다.  \n",
    "This gives us two good results. \n",
    "이것은 우리에게 좋은 두가지 결과를 나타내준다.\n",
    "First, the remainder is a number less than our base that can be converted to a string immediately by lookup. \n",
    "첫번째로 나머지는 우리의 지수보다 낮으므로, 즉시 스트링에서 변환할 수 있다.\n",
    "Second, we get a number that is smaller than our original and moves us toward the base case of having a single number less than our base.  \n",
    "두번째로 최초의 숫자보다 낮은 숫자를 가지므로, 지수보다 낮은 숫자로 구성된 base case로 나아갈 수 있다.  \n",
    "Now our job is to convert 76 to its string representation.  \n",
    "우리의 새로운 잡은 76을 문자열로 변환하는 것이다.  \n",
    "Again we will use integer division plus remainder to get results of 7 and 6 respectively.  \n",
    "또다시, 우리는 정수형 몫 7과 나머지 6을 가진다.  \n",
    "Finally, we have reduced the problem to converting 7, which we can do easily since it satisfies the base case condition of n<base, where base=10. \n",
    "마침내 우리는 7만 가지게끔 문제를 줄였고, 이것은 지수보다 숫자가 낮은 best case를 만족시킨다. \n",
    "The series of operations we have just performed is illustrated in Figure 3. \n",
    "이 연속된 연산은 Figure 3에 잘 나타나있다.  \n",
    "Notice that the numbers we want to remember are in the remainder boxes along the right side of the diagram.  \n",
    "우리가 알고싶은 숫자들은 표의 우측 remainder box들에 있다."
   ]
  },
  {
   "cell_type": "markdown",
   "metadata": {},
   "source": [
    "ActiveCode 1 shows the Python code that implements the algorithm outlined above for any base between 2 and 16.  \n",
    "아래 코드에 2에서 16사이의 어느 지수로도 변환 할수 있는 알고르짐을 구현했다."
   ]
  },
  {
   "cell_type": "code",
   "execution_count": 1,
   "metadata": {},
   "outputs": [
    {
     "name": "stdout",
     "output_type": "stream",
     "text": [
      "5AD\n"
     ]
    }
   ],
   "source": [
    "def toStr(n,base):\n",
    "    convertString = \"0123456789ABCDEF\"\n",
    "    if n < base:\n",
    "        return convertString[n]\n",
    "    else:\n",
    "        return toStr(n//base,base) + convertString[n%base]\n",
    "\n",
    "print(toStr(1453,16))"
   ]
  },
  {
   "cell_type": "markdown",
   "metadata": {},
   "source": [
    "Notice that in line 3 we check for the base case where n is less than the base we are converting to.  \n",
    "3번째 라인에서 우리는 base case를 체크하여 n이 지수보다 낮은지를 확인할것이다.  \n",
    "When we detect the base case, we stop recursing and simply return the string from the convertString sequence.  \n",
    "만약 우리가 base case에 있다면, 재귀를 그만하고 convertString한 스트링을 반환할것이다.  \n",
    "In line 6 we satisfy both the second and third laws–by making the recursive call and by reducing the problem size–using division.  \n",
    "6라인에서 우리는 두번째와 세번쨰 법칙을 만족시킨다. 재귀 호출하기와 문제를 줄이는 방법 구현하기.  \n",
    "\n",
    "Let’s trace the algorithm again; this time we will convert the number 10 to its base 2 string representation (\"1010\").  \n",
    "알고리즘을 다시 따라가보자, 이번에는 10이라는 숫자를 2진법으로 나타내는 \"1010\"으로 바꿀것이다.  "
   ]
  },
  {
   "cell_type": "markdown",
   "metadata": {},
   "source": [
    "Figure 4 shows that we get the results we are looking for, but it looks like the digits are in the wrong order. \n",
    "4번쨰 그림에서 우리가 원하는 결과를 볼 수 있다, 그러나 숫자들이 잘못된 순서대로 나오는것 처럼 보인다.  \n",
    "The algorithm works correctly because we make the recursive call first on line 6, then we add the string representation of the remainder.  \n",
    "하지만 이 알고리즘은 작동하는데, 6라인에서 재귀를 호출하고나서 remainder를 스트링으로 변환하기 때문이다.  \n",
    "If we reversed returning the convertString lookup and returning the toStr call, the resulting string would be backward!  \n",
    "만약 convertString을 리턴하고나서 재귀를 호출한다면 스트링의 결과값은 반대로 나올것이다.  \n",
    "But by delaying the concatenation operation until after the recursive call has returned, we get the result in the proper order.  \n",
    "그러나 재귀 호출이 끝나고나서 글자를 결합하는 작업을 함으로써, 우리는 올바른 순서대로 결과를 얻을 수 있다.\n",
    "This should remind you of our discussion of stacks back in the previous chapter.  \n",
    "이전 챕터에서 스택 형태로 함수가 호출된다는것을 기억나게 한다."
   ]
  },
  {
   "cell_type": "markdown",
   "metadata": {},
   "source": [
    "## Self Check\n",
    "\n",
    "### Write a function that takes a string as a parameter and returns a new string that is the reverse of the old string.\n",
    "\n",
    "\n",
    "### Write a function that takes a string as a parameter and returns True if the string is a palindrome, False otherwise. Remember that a string is a palindrome if it is spelled the same both forward and backward. For example: radar is a palindrome. for bonus points palindromes can also be phrases, but you need to remove the spaces and punctuation before checking. for example: madam i’m adam is a palindrome. Other fun palindromes include:"
   ]
  }
 ],
 "metadata": {
  "kernelspec": {
   "display_name": "Python 3",
   "language": "python",
   "name": "python3"
  },
  "language_info": {
   "codemirror_mode": {
    "name": "ipython",
    "version": 3
   },
   "file_extension": ".py",
   "mimetype": "text/x-python",
   "name": "python",
   "nbconvert_exporter": "python",
   "pygments_lexer": "ipython3",
   "version": "3.7.3"
  }
 },
 "nbformat": 4,
 "nbformat_minor": 2
}
