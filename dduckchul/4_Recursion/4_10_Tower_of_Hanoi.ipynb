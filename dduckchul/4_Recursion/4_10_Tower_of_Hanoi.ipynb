{
 "cells": [
  {
   "cell_type": "markdown",
   "metadata": {},
   "source": [
    "* The Tower of Hanoi puzzle was invented by the French mathematician Edouard Lucas in 1883. \n",
    "* 하노이 탑 퍼즐은 프랑스 수학자인 Edouard Lucas가 1883년에 개발했다.\n",
    "* He was inspired by a legend that tells of a Hindu temple where the puzzle was presented to young priests. \n",
    "* 그는 힌두 사원의 젊은 승려들에게 들은 전설에서 영감을 받아 퍼즐을 만들었다. \n",
    "* At the beginning of time, the priests were given three poles and a stack of 64 gold disks, each disk a little smaller than the one beneath it. \n",
    "* 처음에, 승려들은 3개의 기둥과 64개의 금으로된 원반이 있었고, 각각의 디스크들은 그것보다 아래에 더 작은 디스크들이 있었다.\n",
    "* Their assignment was to transfer all 64 disks from one of the three poles to another, with two important constraints.\n",
    "* 그들의 목표는 64개의 디스크를 셋중에 하나에서 다른 하나로 옮기는것이었다, 두개의 중요한 제약을 가지고.\n",
    "* They could only move one disk at a time, and they could never place a larger disk on top of a smaller one.\n",
    "* 그들은 한번에 하나의 디스크만 움직일 수 있다, 그리고 큰 디스크를 작은 디스크 위에 놓을수 없다.\n",
    "* The priests worked very efficiently, day and night, moving one disk every second. \n",
    "* 승려들이 매우 효율적으로 밤낮으로 움직이며, 하나 디스크를 1초에 하나씩 움직였다.\n",
    "* When they finished their work, the legend said, the temple would crumble into dust and the world would vanish.\n",
    "* 전설에 따르면, 그들이 일을 마치면 사원이 먼지가 될것이고, 세계가 멸망할것이라고 한다."
   ]
  },
  {
   "cell_type": "markdown",
   "metadata": {},
   "source": [
    "* Although the legend is interesting, you need not worry about the world ending any time soon. \n",
    "* 이 전설이 매우 흥미롭지만, 세계가 멸망할 걱정을 하지 않아도 된다.\n",
    "* The number of moves required to correctly move a tower of 64 disks is 2^64−1=18,446,744,073,709,551,615. \n",
    "* 이 64개 디스크를 옮기기 위해서는 2의 64승 -1 만큼 움직여야 한다 (대략 1800경)\n",
    "* At a rate of one move per second, that is 584,942,417,355 years! Clearly there is more to this puzzle than meets the eye.\n",
    "* 이걸 1초에 한번씩 움직이면 5천8백억년이 지나야 한다. 분명히 여기에 퍼즐보다 더 눈에 띄는 점이 있다."
   ]
  },
  {
   "cell_type": "markdown",
   "metadata": {},
   "source": [
    "* Figure 1 shows an example of a configuration of disks in the middle of a move from the first peg to the third. \n",
    "* 1번 그림에 1번 막대에서 3번 막대로 디스크를 옮기기 위한 예제가 있다.\n",
    "* Notice that, as the rules specify, the disks on each peg are stacked so that smaller disks are always on top of the larger disks.\n",
    "* 룰에 정해진 대로, 각각의 막대마다 디스크들을 위로 올라갈수록 작은 디스크가 와야한다.\n",
    "* If you have not tried to solve this puzzle before, you should try it now. \n",
    "* 만약 이 퍼즐을 푼적이 없다면, 지금 한번 풀어보라.\n",
    "* You do not need fancy disks and poles–a pile of books or pieces of paper will work.\n",
    "* 디스크나, 막대기들은 필요없고 종이들 가지고 풀수 있을 것이다."
   ]
  },
  {
   "cell_type": "markdown",
   "metadata": {},
   "source": [
    "* How do we go about solving this problem recursively? \n",
    "* 재귀적으로 어떻게 이 문제를 풀수 있을 것인가?\n",
    "* How would you go about solving this problem at all?\n",
    "* 이 문제를 어떻게 풀어갈 것인가?\n",
    "* What is our base case? \n",
    "* Base Case가 어떤것인가?\n",
    "* Let’s think about this problem from the bottom up.\n",
    "* 이 문제를 바닥에서 부터 살펴보자.\n",
    "* Suppose you have a tower of five disks, originally on peg one.\n",
    "* 1번 막대에 5개 디스크로 이뤄진 타워를 가정해보자.\n",
    "* If you already knew how to move a tower of four disks to peg two, you could then easily move the bottom disk to peg three, and then move the tower of four from peg two to peg three.\n",
    "* 만약 네개 디스크를 두번째 막대기에 쌓는 방법을 알고 있다면, 맨 아래 디스크를 3번째 막대기로 이동하고, 두번째 막대에 있는 디스크 타워들을 세번째 막대로 옮기면 된다.\n",
    "* But what if you do not know how to move a tower of height four? \n",
    "* 하지만 4개 타워를 옮기는 방법을 모른다면 어떻게할까?\n",
    "* Suppose that you knew how to move a tower of height three to peg three; then it would be easy to move the fourth disk to peg two and move the three from peg three on top of it. \n",
    "* 3개 타워를 먼저 3번째 막대로 옮기는 것을 생각해보자, 그렇다면 4번째 디스크를 2번째 막대로 옮기고 3번째 막대에 있는 3개 타워를 2번째 막대로 옮기는것을 하면 된다.\n",
    "* But what if you do not know how to move a tower of three? \n",
    "* 하지만 3개 타워를 옮기는 법을 모른다면?\n",
    "* How about moving a tower of two disks to peg two and then moving the third disk to peg three, and then moving the tower of height two on top of it?\n",
    "* 2개 디스크를 2번째 막대에 옮기고, 세번째 디스크를 3번째 막대로 옮긴후 두개 디스크를 3번째 막대로 옮기면 된다.\n",
    "* But what if you still do not know how to do this? Surely you would agree that moving a single disk to peg three is easy enough, trivial you might even say. \n",
    "* 하지만 여전히 이것을 모른다면 어떻게될까? 아마 디스크 한개를 3번째 막대로 옮기는것은 굉장히 쉬울것이다.\n",
    "* This sounds like a base case in the making.\n",
    "* 이것은 base case가 만들어 진것으로 보인다."
   ]
  },
  {
   "cell_type": "markdown",
   "metadata": {},
   "source": [
    "* Here is a high-level outline of how to move a tower from the starting pole, to the goal pole, using an intermediate pole:\n",
    "* 여기 어떻게 타워를 시작하는 막대에서 목적지 막대로 이동하는 방법의 개요가 있다. 중간 막대를 사용하는 것이다.\n",
    "\n",
    "1. Move a tower of height-1 to an intermediate pole, using the final pole.\n",
    "  * height-1의 타워를 중간 막대로 옮긴다. (목적지 막대를 사용하면 됨)\n",
    "2. Move the remaining disk to the final pole.\n",
    "  * 남아 있는 디스크를 목적지 막대로 옮긴다.\n",
    "3. Move the tower of height-1 from the intermediate pole to the final pole using the original pole.\n",
    "  * height-1의 타워를 중간 막대에서 최종 막대로 옮긴다. (원래 막대를 사용하여)\n"
   ]
  },
  {
   "cell_type": "markdown",
   "metadata": {},
   "source": [
    "* As long as we always obey the rule that the larger disks remain on the bottom of the stack, we can use the three steps above recursively, treating any larger disks as though they were not even there.\n",
    "* 우리가 스택의 맨 밑바닥에는 큰 디스크가 남아있어야 한다는 규칙을 따른다면, 위 3가지 단계를 반복하면 더 큰 디스크를 없는것 처럼 처리할 수 있다.\n",
    "* The only thing missing from the outline above is the identification of a base case.\n",
    "* 위에 개요에서 유일하게 빠진 것은 base case를 식별하는 것이다.\n",
    "* The simplest Tower of Hanoi problem is a tower of one disk. \n",
    "* 하노이 타워 퍼즐의 가장 간단한 문제는 1개의 디스크로 이뤄진 문제이다.\n",
    "* In this case, we need move only a single disk to its final destination.\n",
    "* 이 경우 우리는 목적지로 하나의 디스크만 이동하면 된다.\n",
    "* A tower of one disk will be our base case. \n",
    "* 한개 디스크 타워가 우리의 base case가 될 것이다.\n",
    "* In addition, the steps outlined above move us toward the base case by reducing the height of the tower in steps 1 and 3. \n",
    "* 게다가, 위에서 언급한 개요는 타워의 heigth를 1에서 3을 반복했을때 하나씩 줄어들게 한다.\n",
    "* Listing 1 shows the Python code to solve the Tower of Hanoi puzzle.\n",
    "* Listing 1는 하노이 타워 퍼즐을 푸는 파이썬 코드를 보여준다."
   ]
  },
  {
   "cell_type": "code",
   "execution_count": 1,
   "metadata": {},
   "outputs": [],
   "source": [
    "# listing 1\n",
    "\n",
    "def moveTower(height,fromPole, toPole, withPole):\n",
    "    if height >= 1:\n",
    "        moveTower(height-1,fromPole,withPole,toPole)\n",
    "        moveDisk(fromPole,toPole)\n",
    "        moveTower(height-1,withPole,toPole,fromPole)\n"
   ]
  },
  {
   "cell_type": "markdown",
   "metadata": {},
   "source": [
    "* Notice that the code in Listing 1 is almost identical to the English description.\n",
    "* 리스팅 1에 나와있는 코드가 영어의 설명과 거의 일치한다는 것을 유의해라.\n",
    "* The key to the simplicity of the algorithm is that we make two different recursive calls, one on line 3 and a second on line 5. \n",
    "* 두가지 다른 재귀 호출 하는 알고리즘은 3번째 줄과 5번째 줄에 있다.\n",
    "* On line 3 we move all but the bottom disk on the initial tower to an intermediate pole. \n",
    "* 3번쨰 줄에서는 맨 아래의 디스크를 제외하고 중간 막대로 모든 타워를 옮긴다.\n",
    "* The next line simply moves the bottom disk to its final resting place. \n",
    "* 다음 라인에서는 단순하게 바닥 디스크를 마지막 존재할 곳으로 옮긴다.\n",
    "* Then on line 5 we move the tower from the intermediate pole to the top of the largest disk. \n",
    "* 그리고 5번쨰 라인에서는 중간 막대에 있는 타워를 가장 큰 디스크 위로 이동한다.\n",
    "* The base case is detected when the tower height is 0; in this case there is nothing to do, so the moveTower function simply returns. \n",
    "* base case는 타워의 높이가 0일때 된다. base case에서는 움직일것이 아무것도 없으므로 moveTower function이 바로 리턴된다.\n",
    "* The important thing to remember about handling the base case this way is that simply returning from moveTower is what finally allows the moveDisk function to be called.\n",
    "* base case를 다룰때 가장 중요하게 기억할 것은 moveTower가 리턴되고 나서 moveDisk function이 호출 된다는 것이다."
   ]
  },
  {
   "cell_type": "markdown",
   "metadata": {},
   "source": [
    "* The function moveDisk, shown in Listing 2, is very simple. All it does is print out that it is moving a disk from one pole to another. \n",
    "* 리스팅 2에 나와있는 moveDisk function은 매우 간단하다. 이것은 디스크를 하나의 막대에서 다른 막대로 옮기는 것을 나타낸다.\n",
    "* If you type in and run the moveTower program you can see that it gives you a very efficient solution to the puzzle.\n",
    "* 만약 moveTower를 작성하고 실행한다면, 퍼즐의 매우 간단하고 효율적인 해결책을 준다."
   ]
  },
  {
   "cell_type": "code",
   "execution_count": 2,
   "metadata": {},
   "outputs": [],
   "source": [
    "# Listing 2\n",
    "\n",
    "def moveDisk(fp,tp):\n",
    "    print(\"moving disk from\",fp,\"to\",tp)"
   ]
  },
  {
   "cell_type": "markdown",
   "metadata": {},
   "source": [
    "* The program in ActiveCode 1 provides the entire solution for three disks.\n",
    "* 아래 ActiveCode 1은 3개 디스크의 전체 솔루션을 제공한다\n"
   ]
  },
  {
   "cell_type": "code",
   "execution_count": 3,
   "metadata": {},
   "outputs": [
    {
     "name": "stdout",
     "output_type": "stream",
     "text": [
      "moving disk from A to B\n",
      "moving disk from A to C\n",
      "moving disk from B to C\n",
      "moving disk from A to B\n",
      "moving disk from C to A\n",
      "moving disk from C to B\n",
      "moving disk from A to B\n"
     ]
    }
   ],
   "source": [
    "def moveTower(height,fromPole, toPole, withPole):\n",
    "    if height >= 1:\n",
    "        moveTower(height-1,fromPole,withPole,toPole)\n",
    "        moveDisk(fromPole,toPole)\n",
    "        moveTower(height-1,withPole,toPole,fromPole)\n",
    "\n",
    "def moveDisk(fp,tp):\n",
    "    print(\"moving disk from\",fp,\"to\",tp)\n",
    "\n",
    "moveTower(3,\"A\",\"B\",\"C\")\n",
    "\n",
    "# Solving Tower of Hanoi Recursively (hanoi)"
   ]
  },
  {
   "cell_type": "markdown",
   "metadata": {},
   "source": [
    "* Now that you have seen the code for both moveTower and moveDisk, you may be wondering why we do not have a data structure that explicitly keeps track of what disks are on what poles. \n",
    "* 이제 moveTower와 moveDisk 코드를 봤으므로, 왜 우리가 폴에 어떤 디스크가 있는지에 대한 기록을 하지 않는데 대한 데이터 구조가 없는지 궁금할 수 있다.\n",
    "* Here is a hint: if you were going to explicitly keep track of the disks, you would probably use three Stack objects, one for each pole. \n",
    "* 여기 힌트가 있다. 만약 명시적으로 이 디스크들을 기록하고 싶다면, 각자의 폴마다 스택을 구현하면 된다.\n",
    "* The answer is that Python provides the stacks that we need implicitly through the call stack.\n",
    "* 이 답은 파이썬의 콜 스택을 통해 암시적으로 스택을 사용하기 떄문이다."
   ]
  }
 ],
 "metadata": {
  "kernelspec": {
   "display_name": "Python 3",
   "language": "python",
   "name": "python3"
  },
  "language_info": {
   "codemirror_mode": {
    "name": "ipython",
    "version": 3
   },
   "file_extension": ".py",
   "mimetype": "text/x-python",
   "name": "python",
   "nbconvert_exporter": "python",
   "pygments_lexer": "ipython3",
   "version": "3.7.3"
  }
 },
 "nbformat": 4,
 "nbformat_minor": 2
}
