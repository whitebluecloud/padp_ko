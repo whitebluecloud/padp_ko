{
 "cells": [
  {
   "cell_type": "markdown",
   "metadata": {},
   "source": [
    "The goals for this chapter are as follows:  \n",
    "이 챕터의 목표는 아래와 같다 :  \n",
    "\n",
    "To understand that complex problems that may otherwise be difficult to solve may have a simple recursive solution.  \n",
    "다른 방식으로 풀면 복잡한 문제들이 재귀문제로 간단히 풀수 있는 문제일수 있다는것 이해하기  \n",
    "To learn how to formulate programs recursively.  \n",
    "어떻게 프로그램을 재귀로 풀수있는지 배우기  \n",
    "To understand and apply the three laws of recursion.  \n",
    "세가지 재귀의 법칙을 이해하고 적용하기  \n",
    "To understand recursion as a form of iteration.  \n",
    "재귀를 이터레이션의 한가지 형태로 이해하기  \n",
    "To implement the recursive formulation of a problem.  \n",
    "문제의 재귀 표현을 구현하기  \n",
    "To understand how recursion is implemented by a computer system.  \n",
    "재귀가 어떻게 컴퓨터 시스템에 구현되는지 이해하기  "
   ]
  }
 ],
 "metadata": {
  "kernelspec": {
   "display_name": "Python 3",
   "language": "python",
   "name": "python3"
  },
  "language_info": {
   "codemirror_mode": {
    "name": "ipython",
    "version": 3
   },
   "file_extension": ".py",
   "mimetype": "text/x-python",
   "name": "python",
   "nbconvert_exporter": "python",
   "pygments_lexer": "ipython3",
   "version": "3.7.3"
  }
 },
 "nbformat": 4,
 "nbformat_minor": 2
}
