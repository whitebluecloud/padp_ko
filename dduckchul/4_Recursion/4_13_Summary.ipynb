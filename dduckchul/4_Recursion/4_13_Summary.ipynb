{
 "cells": [
  {
   "cell_type": "markdown",
   "metadata": {},
   "source": [
    "* In this chapter we have looked at examples of several recursive algorithms. \n",
    "* 이 챕터에서는 몇개의 재귀 알고리즘을 살펴봤다.\n",
    "* These algorithms were chosen to expose you to several different problems where recursion is an effective problem-solving technique.\n",
    "* 몇개의 문제들은 재귀를 사용하면 효율적으로 문제를 풀수 있다는 것을 알수 있었다. \n",
    "* The key points to remember from this chapter are as follows:\n",
    "* 이 챕터에서 기억해 둘것은 다음과 같다:\n",
    "\n",
    "* All recursive algorithms must have a base case.\n",
    "* 모든 재귀 알고리즘이 base case를 가지고 있다\n",
    "* A recursive algorithm must change its state and make progress toward the base case.\n",
    "* 재귀 알고리즘은 자신의 상태를 바꾸며 base case로 향해야 한다.\n",
    "* A recursive algorithm must call itself (recursively).\n",
    "* 재귀 알고리즘은 반드시 자신을 재귀적으로 호출해야 한다.\n",
    "* Recursion can take the place of iteration in some cases.\n",
    "* 재귀는 반복문을 대체할 수도 있다.\n",
    "* Recursive algorithms often map very naturally to a formal expression of the problem you are trying to solve.\n",
    "* 재귀 알고리즘은 종종 문제의 자연스러운 표현법이 되기도 한다.  \n",
    "* Recursion is not always the answer. Sometimes a recursive solution may be more computationally expensive than an alternative algorithm.\n",
    "* 재귀가 항상 정답은 아니다. 때때로 재귀를 통한 해결책이 다른 알고리즘보다 훨씬 더 비용이 많이 드는 계산을 할수 있다."
   ]
  }
 ],
 "metadata": {
  "kernelspec": {
   "display_name": "Python 3",
   "language": "python",
   "name": "python3"
  },
  "language_info": {
   "codemirror_mode": {
    "name": "ipython",
    "version": 3
   },
   "file_extension": ".py",
   "mimetype": "text/x-python",
   "name": "python",
   "nbconvert_exporter": "python",
   "pygments_lexer": "ipython3",
   "version": "3.7.3"
  }
 },
 "nbformat": 4,
 "nbformat_minor": 2
}
