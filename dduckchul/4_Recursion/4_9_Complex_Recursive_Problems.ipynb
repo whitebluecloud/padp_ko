{
 "cells": [
  {
   "cell_type": "markdown",
   "metadata": {},
   "source": [
    "In the previous sections we looked at some problems that are relatively easy to solve and some graphically interesting problems that can help us gain a mental model of what is happening in a recursive algorithm.  \n",
    "이전 섹션에서는 재귀 알고리즘을 사용하여 쉽게 풀수 있고, 시각적으로 흥미로운 문제들을 살펴보았다.  \n",
    "In this section we will look at some problems that are really difficult to solve using an iterative programming style but are very elegant and easy to solve using recursion.  \n",
    "이 섹션에서는 몇몇 반복문을 사용하면 매우 풀기 어렵지만, 재귀를 사용하면 아주 고급지게 해결할 수 있는 문제들을 보여줄 것이다.  \n",
    "We will finish up by looking at a deceptive problem that at first looks like it has an elegant recursive solution but in fact does not.  \n",
    "마지막에는 속임수 문제를 봐서 처음 재귀 솔루션을 사용하면 아주 아름답게 풀리는것 같지만 사실 안그런 문제들을 볼것이다.  "
   ]
  }
 ],
 "metadata": {
  "kernelspec": {
   "display_name": "Python 3",
   "language": "python",
   "name": "python3"
  },
  "language_info": {
   "codemirror_mode": {
    "name": "ipython",
    "version": 3
   },
   "file_extension": ".py",
   "mimetype": "text/x-python",
   "name": "python",
   "nbconvert_exporter": "python",
   "pygments_lexer": "ipython3",
   "version": "3.7.3"
  }
 },
 "nbformat": 4,
 "nbformat_minor": 2
}
