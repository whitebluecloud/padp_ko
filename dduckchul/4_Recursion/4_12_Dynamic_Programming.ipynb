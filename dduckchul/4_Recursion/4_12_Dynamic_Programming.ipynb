{
 "cells": [
  {
   "cell_type": "markdown",
   "metadata": {},
   "source": [
    "* Many programs in computer science are written to optimize some value; \n",
    "* 컴퓨터 과학의 많은 프로그램들은 값을 최적화 하기 위해 사용된다.\n",
    "* for example, find the shortest path between two points, find the line that best fits a set of points, or find the smallest set of objects that satisfies some criteria. \n",
    "* 예를들어, 두 점의 가장 짧은 경로를 찾는다거나, 점들을 가장 잘 설명해주는 선을 찾아준다거나, 조건을 만족하는 가장 작은 오브젝트 셋들을 찾는 것이다.\n",
    "* There are many strategies that computer scientists use to solve these problems. \n",
    "* 위 문제를 위해 컴퓨터 과학자들이 사용하는 방법은 매우 많이 있다.\n",
    "* One of the goals of this book is to expose you to several different problem solving strategies. \n",
    "* 이 책의 목표중 하나는 문제를 해결하기 위해 많은 방법을 설명해 주는 것이다.\n",
    "* Dynamic programming is one strategy for these types of optimization problems.\n",
    "* 동적 프로그래밍 또한 이런 최적화 문제를 해결하는데 하나의 전략이다."
   ]
  },
  {
   "cell_type": "markdown",
   "metadata": {},
   "source": [
    "* A classic example of an optimization problem involves making change using the fewest coins. \n",
    "* 최적화 문제의 고전적인 예제는 가장 적게 동전을 사용하여 거스름돈 주기이다.\n",
    "* Suppose you are a programmer for a vending machine manufacturer. \n",
    "* 만약 당신이 자판이회사의 프로그래머라고 생각해 보자\n",
    "* Your company wants to streamline effort by giving out the fewest possible coins in change for each transaction. \n",
    "* 회사는 각 거래마다 효율적으로 가장 적은 동전을 사용해 거스름돈을 주고싶어한다.\n",
    "* Suppose a customer puts in a dollar bill and purchases an item for 37 cents. \n",
    "* 만약 고객이 1달러를 넣고 37센트짜리 물건을 샀다고 생각해보자.\n",
    "* What is the smallest number of coins you can use to make change?\n",
    "* 몇개의 동전을 사용하면 잔돈을 거슬러줄때 가장 적은 동전을 쓸수 있을까?\n",
    "* The answer is six coins: two quarters, one dime, and three pennies. \n",
    "* 정답은 6개 코인이다. 25센트 2개, 10센트하나, 1센트 3개이다.\n",
    "* How did we arrive at the answer of six coins? \n",
    "* 어떻게 이 정답에 도달했는가?\n",
    "* We start with the largest coin in our arsenal (a quarter) and use as many of those as possible, then we go to the next lowest coin value and use as many of those as possible. \n",
    "* 먼저 우리는 가장 큰 동전부터 시작해 최대한 많이 사용하고, 다음 작은 가치의 동전을 많이 사용하는 방식을 이용한다.\n",
    "* This first approach is called a greedy method because we try to solve as big a piece of the problem as possible right away.\n",
    "* 이 첫번쨰 방식을 greedy 메소드라고 하는데 왜냐하면 이 문제를 해결할때 문제의 큰 문제를 바로 해결하려고 하기 때문이다."
   ]
  },
  {
   "cell_type": "markdown",
   "metadata": {},
   "source": [
    "* The greedy method works fine when we are using U.S. coins, but suppose that your company decides to deploy its vending machines in Lower Elbonia where, in addition to the usual 1, 5, 10, and 25 cent coins they also have a 21 cent coin.\n",
    "* 이 greedy 메소드는 미국 동전을 대상으로 할때는 잘 먹히지만, 회사가 자판기를 Lower Elbonia에 설치한다고 가정해보자. 거기는 1,5,10,25센트 코인도 있지만 21센트 코인도 있다.\n",
    "* In this instance our greedy method fails to find the optimal solution for 63 cents in change.\n",
    "* 이 경우에는 우리의 greedy 메소드가 63센트를 거슬러줄때 최적화에 실패할 것이다.\n",
    "* With the addition of the 21 cent coin the greedy method would still find the solution to be six coins. \n",
    "* 21센트 코인을 추가함에도, greedy 메소드는 여전히 6개 동전을 줄것이다.\n",
    "* However, the optimal answer is three 21 cent pieces.\n",
    "* 그러나 문제의 최적값은 21센트 동전 3개이다."
   ]
  },
  {
   "cell_type": "markdown",
   "metadata": {},
   "source": [
    "* Let’s look at a method where we could be sure that we would find the optimal answer to the problem. \n",
    "* 문제에 대해 최적의 답을 찾을수 있는 방법을 살펴보자.\n",
    "* Since this section is about recursion, you may have guessed that we will use a recursive solution. \n",
    "* 이 섹션이 재귀에 관련한 섹션이기 때문에, 재귀문제로 풀어볼것이라 추측할 수 있다.\n",
    "* Let’s start with identifying the base case. \n",
    "* base case를 확인하는 것으로 시작해보자.\n",
    "* If we are trying to make change for the same amount as the value of one of our coins, the answer is easy, one coin.\n",
    "* 만약 우리가 잔돈을 동일한 가치의 동전으로 가지고 있다면 답은 쉽다, 코인 1개이다."
   ]
  },
  {
   "cell_type": "markdown",
   "metadata": {},
   "source": [
    "* If the amount does not match we have several options. \n",
    "* 만약 이 값이 맞지 않는다면 우리는 다양한 옵션을 가지고 있다.\n",
    "* What we want is the minimum of a penny plus the number of coins needed to make change for the original amount minus a penny, or a nickel plus the number of coins needed to make change for the original amount minus five cents, or a dime plus the number of coins needed to make change for the original amount minus ten cents, and so on. \n",
    "* 우리가 원하는것은 원래 금액에서 1페니를 빼고 필요한 만큼의 동전수를 더하거나, 원래 금액에서 5센트를 빼고 필요한 만큼의 동전수를 더하거나, 10센트, 25센트를 빼고 필요한 만큼의 동전 수를 더하는 것이다.\n",
    "* So the number of coins needed to make change for the original amount can be computed according to the following:\n",
    "* 그래서 우리가 잔돈을 거슬러 주기 위한 동전의 숫자를 계산하는공식은 아래와 같다"
   ]
  },
  {
   "cell_type": "markdown",
   "metadata": {},
   "source": [
    "numCoins=min(1+numCoins(originalamount−1)1+numCoins(originalamount−5)1+numCoins(originalamount−10)1+numCoins(originalamount−25))"
   ]
  },
  {
   "cell_type": "markdown",
   "metadata": {},
   "source": [
    "* The algorithm for doing what we have just described is shown in Listing 7. \n",
    "* 이것을 계산하기 위한 알고리즘은 리스팅 7에 나와있다. \n",
    "* In line 3 we are checking our base case; that is, we are trying to make change in the exact amount of one of our coins. \n",
    "* 3라인에서 우리의 base case를 체크한다. 그것은 우리의 코인중 하나와 잔돈이 똑같은 것이다.\n",
    "* If we do not have a coin equal to the amount of change, we make recursive calls for each different coin value less than the amount of change we are trying to make. \n",
    "* 만약 우리가 잔돈과 가지고 있는 코인이 같지 않다면, 각각의 코인 가치와 맞는 재귀 호출을 하게 된다.\n",
    "* Line 6 shows how we filter the list of coins to those less than the current value of change using a list comprehension.\n",
    "* 6라인에서는 list comprehension을 사용해 잔돈보다 작은 코인들의 리스트를 만드는것을 보여준다.\n",
    "* The recursive call also reduces the total amount of change we need to make by the value of the coin selected.\n",
    "* 재귀 호출은 선택한 코인의 가치에 따라 잔돈의 양을 줄여준다.\n",
    "* The recursive call is made in line 7. \n",
    "* 이 재귀 호출은 7 라인에서 일어난다.\n",
    "* Notice that on that same line we add 1 to our number of coins to account for the fact that we are using a coin. \n",
    "* 우리가 코인을 사용할때 numCoin에 1을 더해주는것에 유의해라\n",
    "* Just adding 1 is the same as if we had made a recursive call asking where we satisfy the base case condition immediately.\n",
    "* 1을 더하는 것은 base condition을 충족시키는 것인지 확인하는것과 같다."
   ]
  },
  {
   "cell_type": "code",
   "execution_count": 1,
   "metadata": {},
   "outputs": [
    {
     "name": "stdout",
     "output_type": "stream",
     "text": [
      "6\n"
     ]
    }
   ],
   "source": [
    "# Listing 7\n",
    "\n",
    "def recMC(coinValueList,change):\n",
    "    minCoins = change\n",
    "    if change in coinValueList:\n",
    "        return 1\n",
    "    else:\n",
    "        for i in [c for c in coinValueList if c <= change]:\n",
    "            numCoins = 1 + recMC(coinValueList,change-i)\n",
    "            if numCoins < minCoins:\n",
    "                minCoins = numCoins\n",
    "    return minCoins\n",
    "\n",
    "print(recMC([1,5,10,25],63))"
   ]
  },
  {
   "cell_type": "markdown",
   "metadata": {},
   "source": [
    "* The trouble with the algorithm in Listing 7 is that it is extremely inefficient. \n",
    "* 리스팅7 알고리즘의 문제점은 이게 극히 비효율적이라는 것이다.\n",
    "* In fact, it takes 67,716,925 recursive calls to find the optimal solution to the 4 coins, 63 cents problem! \n",
    "* 사실, 4가지 코인으로 63센트 거슬러주기 문제를 이것은 67백만 번정도의 재귀호출을 통해 해결한다.\n",
    "* To understand the fatal flaw in our approach look at Figure 5, which illustrates a small fraction of the 377 function calls needed to find the optimal set of coins to make change for 26 cents.\n",
    "* 이것의 결정적인 흠을 이해하기 위해 figure 5를 확인해 보자. 이 그림은 26센트를 거슬러 주기 위해 377번의 재귀 호출이 필요하다."
   ]
  },
  {
   "cell_type": "markdown",
   "metadata": {},
   "source": [
    "* Each node in the graph corresponds to a call to recMC. \n",
    "* 그래프 안의 각 노드들은 recMc를 call 하는 것에 대응한다.\n",
    "* The label on the node indicates the amount of change for which we are computing the number of coins. \n",
    "* 노드의 라벨은 잔돈의 양을 나타낸다.\n",
    "* The label on the arrow indicates the coin that we just used. \n",
    "* 화살표의 라벨은 우리가 사용한 코인을 나타낸다.\n",
    "* By following the graph we can see the combination of coins that got us to any point in the graph. \n",
    "* 그래프를 따라가면, 우리가 사용한 코인의 조합을 볼 수 있다.\n",
    "* The main problem is that we are re-doing too many calculations.\n",
    "* 가장 큰 문제는 우리가 너무 많은 계산을 반복하고 있다는 점이다.\n",
    "* For example, the graph shows that the algorithm would recalculate the optimal number of coins to make change for 15 cents at least three times.\n",
    "* 예를 들어, 그래프는 15센트를 계산하기 위해 최소 3번은 계산해야 한다.\n",
    "* Each of these computations to find the optimal number of coins for 15 cents itself takes 52 function calls. \n",
    "* 각각의 계산을 통해 코인의 최적 수를 계산하기 위해서는 52번의 펑션 호출이 필요하다.\n",
    "* Clearly we are wasting a lot of time and effort recalculating old results.\n",
    "* 명백히 이것은 이전 결과물들을 계산하기 위해 많은 시간과 노력을 낭비하고 있는것을 보여준다."
   ]
  },
  {
   "cell_type": "markdown",
   "metadata": {},
   "source": [
    "* The key to cutting down on the amount of work we do is to remember some of the past results so we can avoid recomputing results we already know. \n",
    "* 이런 우리가 이미 알고있는 결과를 다시 계산하는것 같이 쓸데없는 일을 줄이기위해 할수 있는 방법들이 있다.\n",
    "* A simple solution is to store the results for the minimum number of coins in a table when we find them. \n",
    "* 간단한 해결책은 우리가 최소 코인의 수를 계산해낸다면 그 값을 저장해 두는 것이다.\n",
    "* Then before we compute a new minimum, we first check the table to see if a result is already known. \n",
    "* 그러면 우리는 먼저 이 결과값을 비교해 체크할수 있을 것이다.\n",
    "* If there is already a result in the table, we use the value from the table rather than recomputing. \n",
    "* 만약 이 결과값을 이미 갖고 있다면, 다시 계산하는 것 보다 이 값을 사용할 것이다.\n",
    "* ActiveCode 1 shows a modified algorithm to incorporate our table lookup scheme.\n",
    "* ActiveCode 1는 테이블을 살펴보는 수정된 알고리즘을 사용한다"
   ]
  },
  {
   "cell_type": "code",
   "execution_count": 2,
   "metadata": {},
   "outputs": [
    {
     "name": "stdout",
     "output_type": "stream",
     "text": [
      "6\n"
     ]
    }
   ],
   "source": [
    "def recDC(coinValueList,change,knownResults):\n",
    "    minCoins = change\n",
    "    if change in coinValueList:\n",
    "        knownResults[change] = 1\n",
    "        return 1\n",
    "    elif knownResults[change] > 0:\n",
    "        return knownResults[change]\n",
    "    else:\n",
    "        for i in [c for c in coinValueList if c <= change]:\n",
    "            numCoins = 1 + recDC(coinValueList, change-i, knownResults)\n",
    "            if numCoins < minCoins:\n",
    "                minCoins = numCoins\n",
    "                knownResults[change] = minCoins\n",
    "    return minCoins\n",
    "\n",
    "print(recDC([1,5,10,25],63,[0]*64))"
   ]
  },
  {
   "cell_type": "markdown",
   "metadata": {},
   "source": [
    "* Notice that in line 6 we have added a test to see if our table contains the minimum number of coins for a certain amount of change. \n",
    "* 6 라인에서 잔돈의 값에 따라 필요한 최소 코인의 양을 저장해 놓는것을 확인해라.\n",
    "* If it does not, we compute the minimum recursively and store the computed minimum in the table. \n",
    "* 만약 최소 코인의 양이 없다면, 재귀 호출을 최소화하여 최소값을 미리 테이블에 저장해 둘 것이다.\n",
    "* Using this modified algorithm reduces the number of recursive calls we need to make for the four coin, 63 cent problem to 221 calls!\n",
    "* 이 수정된 알고리즘을 사용한다면, 4가지 코인을 사용해 63센트 문제를 해결하는것은 221번만 호출하면 된다."
   ]
  },
  {
   "cell_type": "markdown",
   "metadata": {},
   "source": [
    "* Although the algorithm in AcitveCode 1 is correct, it looks and feels like a bit of a hack. \n",
    "* 비록 ActiveCode1의 알고리즘이 정확하지만, 약간 복잡하고 어려워 보인다.\n",
    "* Also, if we look at the knownResults lists we can see that there are some holes in the table. \n",
    "* 또한, knownResults 리스트를 살펴보면 살펴보면 테이블에 구멍이 보이는것을 확인할 수 있다.\n",
    "* In fact the term for what we have done is not dynamic programming but rather we have improved the performance of our program by using a technique known as “memoization,” or more commonly called “caching.”\n",
    "* 사실 우리가 한것은 동적 프로그래밍이 아니라, memoization 혹은 캐싱이라고 불리는 테크닉을 사용하여 프로그램의 성능을 향상시킨 것이다."
   ]
  },
  {
   "cell_type": "markdown",
   "metadata": {},
   "source": [
    "* A truly dynamic programming algorithm will take a more systematic approach to the problem. \n",
    "* 진짜 동적 프로그래밍 알고리즘은 문제에 대해 좀더 체계적인 접근을 사용한다.\n",
    "* Our dynamic programming solution is going to start with making change for one cent and systematically work its way up to the amount of change we require. \n",
    "* 우리의 동적 프로그래밍 해결책은 1센트 부터 시작해 우리가 필요한 잔돈의 양까지 체계적으로 계산할 것이다.\n",
    "* This guarantees us that at each step of the algorithm we already know the minimum number of coins needed to make change for any smaller amount.\n",
    "* 이것은 각 단계의 알고리즘에서 더 작은 금액을 변경하는데 필요한 코인을 수를 미리 알고 있는 것을 보증하는 것이다.\n",
    "\n",
    "* Let’s look at how we would fill in a table of minimum coins to use in making change for 11 cents.\n",
    "* 11센트 거스름돈을 주는데 필요한 최소 코인을 테이블에 기록하는 것을 보자.\n",
    "* Figure 4 illustrates the process. \n",
    "* Figure 4가 프로세스를 보여주고 있다.\n",
    "* We start with one cent. \n",
    "* 1센트로 시작하자\n",
    "* The only solution possible is one coin (a penny).\n",
    "* 유일한 해결책은 1페니 동전 하나이다.\n",
    "* The next row shows the minimum for one cent and two cents.\n",
    "* 다음행은 1센트와 2센트의 최소값을 보여준다.\n",
    "* Again, the only solution is two pennies. \n",
    "* 마찬가지로 해결책은 1페니 동전 2개이다.\n",
    "* The fifth row is where things get interesting. \n",
    "* 이제 5번째 행이 재밌어지는 부분이다.\n",
    "* Now we have two options to consider, five pennies or one nickel. \n",
    "* 이제 우리는 두가지 옵션을 놓고 고민할 수 있다. 1센트 1개와 5센트 하나.\n",
    "* How do we decide which is best? We consult the table and see that the number of coins needed to make change for four cents is four, plus one more penny to make five, equals five coins. \n",
    "* 어떤것이 최적이라고 결정할수 있을까? 우리가 테이블을 만들고, 4센트 잔돈을 거슬러주는데는 4개가 필요하고, 1페니를 추가하면 5개이므로 5개 동전이다.\n",
    "* Or we can look at zero cents plus one more nickel to make five cents equals 1 coin. Since the minimum of one and five is one we store 1 in the table.\n",
    "* 아니면 0 센트와 1개의 5센트 동전은 1개 동전이 필요하다. 1과 5중에 최소값은 1이기 때문에, 1을 테이블에 기록한다.\n",
    "* Fast forward again to the end of the table and consider 11 cents. \n",
    "* 테이블의 끝으로 돌아가 11센트를 놓고 생각해보자\n",
    "* Figure 5 shows the three options that we have to consider:\n",
    "* Figure 5는 우리가 생각할 수 있는 세가지 옵션을 보여준다.\n",
    "\n",
    "* A penny plus the minimum number of coins to make change for 11−1=10 cents (1)\n",
    "* 페니 + 10센트를 거슬러주기 위한 최소 동전 1\n",
    "* A nickel plus the minimum number of coins to make change for 11−5=6 cents (2)\n",
    "* 5센트 + 6센트를 거슬러주기 위한 최소 동전 2\n",
    "* A dime plus the minimum number of coins to make change for 11−10=1 cent (1)\n",
    "* 10센트 + 1센트를 거슬러 주기 위한 최소 동전 1\n",
    "\n",
    "* Either option 1 or 3 will give us a total of two coins which is the minimum number of coins for 11 cents.\n",
    "* 1~3의 옵션중에 11을 거슬러 주기 위한 최소 동전의 수는 2이다\n",
    "\n",
    "* Listing 8 is a dynamic programming algorithm to solve our change-making problem. \n",
    "* Listing 8은 동적 프로그래밍 알고리즘을 사용해 잔돈을 거슬러주는 문제를 해결한 것이다.\n",
    "* dpMakeChange takes three parameters: a list of valid coin values, the amount of change we want to make, and a list of the minimum number of coins needed to make each value. \n",
    "* dpMakeChange는 세개의 파라미터를 받는다, 유효한 동전의 값들, 거슬러주기 원하는 잔돈의 양, 그리고 각 값의 최소 코인의 수 이다.\n",
    "* When the function is done minCoins will contain the solution for all values from 0 to the value of change.\n",
    "* function이 종료되면 minCoins는 0부터 값까지에 대한 결과값을 가지고 있다."
   ]
  },
  {
   "cell_type": "code",
   "execution_count": 5,
   "metadata": {},
   "outputs": [],
   "source": [
    "# Listing 8\n",
    "\n",
    "def dpMakeChange(coinValueList,change,minCoins):\n",
    "    for cents in range(change+1):\n",
    "        coinCount = cents\n",
    "        for j in [c for c in coinValueList if c <= cents]:\n",
    "            if minCoins[cents-j] + 1 < coinCount:\n",
    "                coinCount = minCoins[cents-j]+1\n",
    "        minCoins[cents] = coinCount\n",
    "    return minCoins[change]"
   ]
  },
  {
   "cell_type": "markdown",
   "metadata": {},
   "source": [
    "* Note that dpMakeChange is not a recursive function, even though we started with a recursive solution to this problem. \n",
    "* 우리가 이 문제를 해결하기 위해 재귀 호출로 출발 했지만, dpMakeChange는 재귀호출 함수가 아니라는 것을 주목하라\n",
    "* It is important to realize that just because you can write a recursive solution to a problem does not mean it is the best or most efficient solution.\n",
    "* 단순하게 재귀 호출로 문제를 해결하는 것이 문제를 해결하는데 최적이나 최고의 방법이 아니라는것을 깨닫는것이 중요하다.\n",
    "* The bulk of the work in this function is done by the loop that starts on line 4. \n",
    "* 이 펑션의 작업을 하는것은 4라인에서 시작하는 반복문이다.\n",
    "* In this loop we consider using all possible coins to make change for the amount specified by cents. \n",
    "* 이 반복문에서 모든 가능한 수의 잔돈에 따른 필요한 최소 동전을 저장해둔다.\n",
    "* Like we did for the 11 cent example above, we remember the minimum value and store it in our minCoins list.\n",
    "* 위 예제에서 11센트를 계산한 것 처럼 minCoins 리스트에 최소 값을 저장해둔다.\n",
    "\n",
    "* Although our making change algorithm does a good job of figuring out the minimum number of coins, it does not help us make change since we do not keep track of the coins we use. \n",
    "* 비록 우리의 잔돈 거슬러주는 알고리즘이 최소 동전의 갯수를 알아내는데는 도움을 주지만, 어떤 동전을 사용하는지는 기록하지 않는다.\n",
    "* We can easily extend dpMakeChange to keep track of the coins used by simply remembering the last coin we add for each entry in the minCoins table.\n",
    "* 이것은 dpMakeChange를 쉽게 extends하여 minCoins table에 마지막엔 어떤 동전을 사용했는지 기록해 주면 된다\n",
    "* If we know the last coin added, we can simply subtract the value of the coin to find a previous entry in the table that tells us the last coin we added to make that amount. \n",
    "* 만약 우리가 마지막에 사용한 코인을 기록하면 이전단계의 테이블을 찾아서 어떤 코인들을 사용했는지 알 수 있다.\n",
    "* We can keep tracing back through the table until we get to the beginning.\n",
    "* 테이블을 계속 추적하면 처음 값부터 모두 사용한 코인을 알수 있을 것이다.\n",
    "\n",
    "* ActiveCode 2 shows the dpMakeChange algorithm modified to keep track of the coins used, along with a function printCoins that walks backward through the table to print out the value of each coin used. \n",
    "* ActiveCode 2는 dpMakeChange 변경한 알고리즘을 사용해 사용한 코인을 기록하고 printCoins를 호출해 각각 어떤 코인을 사용했는지 역순으로 알려준다. \n",
    "* This shows the algorithm in action solving the problem for our friends in Lower Elbonia. \n",
    "* 이것은 Lower Elbonia에 있는 친구들에게 문제 해결하는 방법도 알려준다.\n",
    "* The first two lines of main set the amount to be converted and create the list of coins used. The next two lines create the lists we need to store the results.\n",
    "* 처음 main에 있는 처음 두 라인이 거스름돈의 양을 세팅하고, 어떤 코인을 사용할수 있는지 보여준다.\n",
    "* coinsUsed is a list of the coins used to make change, and coinCount is the minimum number of coins used to make change for the amount corresponding to the position in the list.\n",
    "* coinsUsed는 이 잔돈을 만들떄 어떤 동전을 사용했는지, 그리고 coinCount는 리스트에 있는 최소 코인의 수를 나타내 준다.\n",
    "\n",
    "* Notice that the coins we print out come directly from the coinsUsed array. \n",
    "* 우리가 출력하는 코인들은 coinsUsed array에서 바로 출력한 것을 알아두어라.\n",
    "* For the first call we start at array position 63 and print 21. \n",
    "* 처음 호출하는 부분은 array의 63위치에서 21을 출력하는 것이다.\n",
    "* Then we take 63−21=42 and look at the 42nd element of the list.\n",
    "* 그리고 리스트의 63-21인 42번째 엘리먼트를 출력한다.\n",
    "\n",
    "* Once again we find a 21 stored there. \n",
    "* 다시 한번 여기서 21이 저장되어있다.\n",
    "* Finally, element 21 of the array also contains 21, giving us the three 21 cent pieces.\n",
    "* 마지막으로, 21번째 어레이의 엘리먼트도 21이므로 21센트가 세번 출력된다."
   ]
  },
  {
   "cell_type": "code",
   "execution_count": 4,
   "metadata": {},
   "outputs": [
    {
     "name": "stdout",
     "output_type": "stream",
     "text": [
      "Making change for 63 requires\n",
      "3 coins\n",
      "They are:\n",
      "21\n",
      "21\n",
      "21\n",
      "The used list is as follows:\n",
      "[1, 1, 1, 1, 1, 5, 1, 1, 1, 1, 10, 1, 1, 1, 1, 5, 1, 1, 1, 1, 10, 21, 1, 1, 1, 25, 1, 1, 1, 1, 5, 10, 1, 1, 1, 10, 1, 1, 1, 1, 5, 10, 21, 1, 1, 10, 21, 1, 1, 1, 25, 1, 10, 1, 1, 5, 10, 1, 1, 1, 10, 1, 10, 21]\n"
     ]
    }
   ],
   "source": [
    "def dpMakeChange(coinValueList,change,minCoins,coinsUsed):\n",
    "    for cents in range(change+1):\n",
    "        coinCount = cents\n",
    "        newCoin = 1\n",
    "        for j in [c for c in coinValueList if c <= cents]:\n",
    "            if minCoins[cents-j] + 1 < coinCount:\n",
    "                coinCount = minCoins[cents-j]+1\n",
    "                newCoin = j\n",
    "        minCoins[cents] = coinCount\n",
    "        coinsUsed[cents] = newCoin\n",
    "    return minCoins[change]\n",
    "\n",
    "def printCoins(coinsUsed,change):\n",
    "    coin = change\n",
    "    while coin > 0:\n",
    "        thisCoin = coinsUsed[coin]\n",
    "        print(thisCoin)\n",
    "        coin = coin - thisCoin\n",
    "\n",
    "def main():\n",
    "    amnt = 63\n",
    "    clist = [1,5,10,21,25]\n",
    "    coinsUsed = [0]*(amnt+1)\n",
    "    coinCount = [0]*(amnt+1)\n",
    "\n",
    "    print(\"Making change for\",amnt,\"requires\")\n",
    "    print(dpMakeChange(clist,amnt,coinCount,coinsUsed),\"coins\")\n",
    "    print(\"They are:\")\n",
    "    printCoins(coinsUsed,amnt)\n",
    "    print(\"The used list is as follows:\")\n",
    "    print(coinsUsed)\n",
    "\n",
    "main()"
   ]
  }
 ],
 "metadata": {
  "kernelspec": {
   "display_name": "Python 3",
   "language": "python",
   "name": "python3"
  },
  "language_info": {
   "codemirror_mode": {
    "name": "ipython",
    "version": 3
   },
   "file_extension": ".py",
   "mimetype": "text/x-python",
   "name": "python",
   "nbconvert_exporter": "python",
   "pygments_lexer": "ipython3",
   "version": "3.7.3"
  }
 },
 "nbformat": 4,
 "nbformat_minor": 2
}
