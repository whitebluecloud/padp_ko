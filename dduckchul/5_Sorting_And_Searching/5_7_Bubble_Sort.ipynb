{
 "cells": [
  {
   "cell_type": "markdown",
   "metadata": {},
   "source": [
    "## 5.7. The Bubble Sort\n",
    "\n",
    "* The bubble sort makes multiple passes through a list. \n",
    "* It compares adjacent items and exchanges those that are out of order. \n",
    "* Each pass through the list places the next largest value in its proper place. In essence, each item “bubbles” up to the location where it belongs.\n",
    "\n",
    "* Figure 1 shows the first pass of a bubble sort. \n",
    "* The shaded items are being compared to see if they are out of order. \n",
    "* If there are n items in the list, then there are n−1 pairs of items that need to be compared on the first pass. \n",
    "* It is important to note that once the largest value in the list is part of a pair, it will continually be moved along until the pass is complete."
   ]
  },
  {
   "cell_type": "markdown",
   "metadata": {},
   "source": [
    "* At the start of the second pass, the largest value is now in place. \n",
    "* There are n−1 items left to sort, meaning that there will be n−2 pairs. Since each pass places the next largest value in place, the total number of passes necessary will be n−1. \n",
    "* After completing the n−1 passes, the smallest item must be in the correct position with no further processing required. \n",
    "* ActiveCode 1 shows the complete bubbleSort function. It takes the list as a parameter, and modifies it by exchanging items as necessary.\n",
    "\n",
    "* The exchange operation, sometimes called a “swap,” is slightly different in Python than in most other programming languages. \n",
    "* Typically, swapping two elements in a list requires a temporary storage location (an additional memory location). A code fragment such as will exchange the ith and jth items in the list.\n",
    "* Without the temporary storage, one of the values would be overwritten."
   ]
  },
  {
   "cell_type": "code",
   "execution_count": null,
   "metadata": {},
   "outputs": [],
   "source": [
    "temp = alist[i]\n",
    "alist[i] = alist[j]\n",
    "alist[j] = temp\n"
   ]
  },
  {
   "cell_type": "markdown",
   "metadata": {},
   "source": [
    "* In Python, it is possible to perform simultaneous assignment. \n",
    "* The statement a,b=b,a will result in two assignment statements being done at the same time (see Figure 2). \n",
    "* Using simultaneous assignment, the exchange operation can be done in one statement.\n",
    "\n",
    "* Lines 5-7 in ActiveCode 1 perform the exchange of the i and (i+1)th items using the three–step procedure described earlier. \n",
    "* Note that we could also have used the simultaneous assignment to swap the items.\n",
    "\n",
    "* The following activecode example shows the complete bubbleSort function working on the list shown above."
   ]
  },
  {
   "cell_type": "code",
   "execution_count": null,
   "metadata": {},
   "outputs": [],
   "source": [
    "def bubbleSort(alist):\n",
    "    for passnum in range(len(alist)-1,0,-1):\n",
    "        for i in range(passnum):\n",
    "            if alist[i]>alist[i+1]:\n",
    "                temp = alist[i]\n",
    "                alist[i] = alist[i+1]\n",
    "                alist[i+1] = temp\n",
    "\n",
    "alist = [54,26,93,17,77,31,44,55,20]\n",
    "bubbleSort(alist)\n",
    "print(alist)"
   ]
  },
  {
   "cell_type": "markdown",
   "metadata": {},
   "source": [
    "* To analyze the bubble sort, we should note that regardless of how the items are arranged in the initial list, n−1 passes will be made to sort a list of size n. \n",
    "* Table 1 shows the number of comparisons for each pass. \n",
    "* The total number of comparisons is the sum of the first n−1 integers. \n",
    "* Recall that the sum of the first n integers is 12n2+12n. The sum of the first n−1 integers is 12n2+12n−n, which is 12n2−12n. \n",
    "* This is still O(n2) comparisons. \n",
    "* In the best case, if the list is already ordered, no exchanges will be made. \n",
    "* However, in the worst case, every comparison will cause an exchange. \n",
    "* On average, we exchange half of the time."
   ]
  },
  {
   "cell_type": "markdown",
   "metadata": {},
   "source": [
    "* A bubble sort is often considered the most inefficient sorting method since it must exchange items before the final location is known. \n",
    "* These “wasted” exchange operations are very costly. \n",
    "* However, because the bubble sort makes passes through the entire unsorted portion of the list, it has the capability to do something most sorting algorithms cannot. \n",
    "* In particular, if during a pass there are no exchanges, then we know that the list must be sorted. \n",
    "* A bubble sort can be modified to stop early if it finds that the list has become sorted. \n",
    "* This means that for lists that require just a few passes, a bubble sort may have an advantage in that it will recognize the sorted list and stop. \n",
    "* ActiveCode 2 shows this modification, which is often referred to as the short bubble."
   ]
  },
  {
   "cell_type": "code",
   "execution_count": null,
   "metadata": {},
   "outputs": [],
   "source": [
    "def shortBubbleSort(alist):\n",
    "    exchanges = True\n",
    "    passnum = len(alist)-1\n",
    "    while passnum > 0 and exchanges:\n",
    "        exchanges = False\n",
    "        for i in range(passnum):\n",
    "            if alist[i]>alist[i+1]:\n",
    "                exchanges = True\n",
    "                temp = alist[i]\n",
    "                alist[i] = alist[i+1]\n",
    "                alist[i+1] = temp\n",
    "        passnum = passnum-1\n",
    "\n",
    "alist=[20,30,40,90,50,60,70,80,100,110]\n",
    "shortBubbleSort(alist)\n",
    "print(alist)"
   ]
  },
  {
   "cell_type": "markdown",
   "metadata": {},
   "source": [
    "### Self Check\n",
    "\n",
    "* Q-2: Suppose you have the following list of numbers to sort: [19, 1, 9, 7, 3, 10, 13, 15, 8, 12] which list represents the partially sorted list after three complete passes of bubble sort?\n",
    "\n",
    "* A. [1, 9, 19, 7, 3, 10, 13, 15, 8, 12]\n",
    "* B. [1, 3, 7, 9, 10, 8, 12, 13, 15, 19]\n",
    "* C. [1, 7, 3, 9, 10, 13, 8, 12, 15, 19]\n",
    "* D. [1, 9, 19, 7, 3, 10, 13, 15, 8, 12]\n"
   ]
  }
 ],
 "metadata": {
  "kernelspec": {
   "display_name": "Python 3",
   "language": "python",
   "name": "python3"
  },
  "language_info": {
   "codemirror_mode": {
    "name": "ipython",
    "version": 3
   },
   "file_extension": ".py",
   "mimetype": "text/x-python",
   "name": "python",
   "nbconvert_exporter": "python",
   "pygments_lexer": "ipython3",
   "version": "3.7.3"
  }
 },
 "nbformat": 4,
 "nbformat_minor": 2
}
