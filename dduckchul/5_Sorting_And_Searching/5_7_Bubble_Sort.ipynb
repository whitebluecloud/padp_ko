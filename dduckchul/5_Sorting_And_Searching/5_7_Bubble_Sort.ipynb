{
 "cells": [
  {
   "cell_type": "markdown",
   "metadata": {},
   "source": [
    "## 5.7. The Bubble Sort\n",
    "## 5.7. 버블 소트\n",
    "\n",
    "* The bubble sort makes multiple passes through a list.\n",
    "* 버블 소트는 리스트를 걸쳐 많은 과정을 거친다.\n",
    "* It compares adjacent items and exchanges those that are out of order.\n",
    "* 이것은 인접한 아이템들을 비교하고, 이것들이 올바른 순서대로 있지 않다면 바꾼다.\n",
    "* Each pass through the list places the next largest value in its proper place. \n",
    "* 각 리스트를 통한 단계들은 다음으로 큰 값을 적절한 위치에 놓게 된다. \n",
    "* In essence, each item “bubbles” up to the location where it belongs.\n",
    "* 본질적으로 각각의 아이템들이 버블로 묶여 정렬될 위치로 향하게 된다.\n",
    "\n",
    "* Figure 1 shows the first pass of a bubble sort. \n",
    "* Figure 1이 버블 소트의 첫번쨰 단계를 보여준다.\n",
    "* The shaded items are being compared to see if they are out of order.\n",
    "* 회색으로 칠해진 아이템들이 이것들이 올바른 순서대로 되어있는지 비교하는 아이템들이다.\n",
    "* If there are n items in the list, then there are n−1 pairs of items that need to be compared on the first pass. \n",
    "* 만약 리스트에 n 개의 아이템들이 있다면, 첫번째 단계에서는 확인해야할 n-1개의 쌍이 있다.\n",
    "* It is important to note that once the largest value in the list is part of a pair, it will continually be moved along until the pass is complete.\n",
    "* 만약 리스트에서 가장 큰 밸류가 비교 쌍에 일부가 되었다면 이 단계가 끝날떄까지 계속 움직이는 것에 주목해라."
   ]
  },
  {
   "cell_type": "markdown",
   "metadata": {},
   "source": [
    "* At the start of the second pass, the largest value is now in place. \n",
    "* 두번째 비교단계부터는 가장 큰 값이 제대로 된 위치에 위치하고 있을것이다.\n",
    "* There are n−1 items left to sort, meaning that there will be n−2 pairs. \n",
    "* 그러므로 정렬해야할 아이템의 수는 n-1개가 있을것이고, n-2개의 비교해야할 쌍이 존재하는 것이다.\n",
    "* Since each pass places the next largest value in place, the total number of passes necessary will be n−1. \n",
    "* 각각의 단계들이 다음으로 큰 수를 올바른 위치에 두기 떄문에, 총 거쳐야할 단계들은 n-1번이다.\n",
    "* After completing the n−1 passes, the smallest item must be in the correct position with no further processing required.\n",
    "* n-1번 단계를 마치고 난 후, 가장 작은 아이템은 이미 자기 위치에 있기 때문에, 더이상 비교가 필요없다.\n",
    "* ActiveCode 1 shows the complete bubbleSort function. \n",
    "* ActiveCode1에서는 완성된 버블소트 펑션을 작성했다.\n",
    "* It takes the list as a parameter, and modifies it by exchanging items as necessary.\n",
    "* 여기서는 리스트를 파라미터로 받고, 아이템을 교환하며 수정한다.\n",
    "\n",
    "* The exchange operation, sometimes called a “swap,” is slightly different in Python than in most other programming languages. \n",
    "* 교환하는 작업인 swap은 대부분의 프로그래밍 랭기지들과 살짝 다르게 일어난다.\n",
    "* Typically, swapping two elements in a list requires a temporary storage location (an additional memory location). A code fragment such as will exchange the ith and jth items in the list.\n",
    "* 일반적으로, 리스트에서 두가지 요소들을 교환할때는 일시적인 저장 장소가 필요하다 (추가적인 메모리 저장장치). 아래 코드가 i번째와 j번째 아이템을 교환할때의 코드 조각이다.\n",
    "* Without the temporary storage, one of the values would be overwritten.\n",
    "* 임시 저장 장소가 없이는, 이 값들중 하나가 덮어써질 것이다."
   ]
  },
  {
   "cell_type": "code",
   "execution_count": 7,
   "metadata": {},
   "outputs": [],
   "source": [
    "alist = [1,2]\n",
    "i = 0\n",
    "j = 1\n",
    "\n",
    "temp = alist[i]\n",
    "alist[i] = alist[j]\n",
    "alist[j] = temp"
   ]
  },
  {
   "cell_type": "markdown",
   "metadata": {},
   "source": [
    "* In Python, it is possible to perform simultaneous assignment. \n",
    "* 파이썬에서는, 동시에 할당하는것이 가능하다.\n",
    "* The statement a,b=b,a will result in two assignment statements being done at the same time (see Figure 2). \n",
    "* a,b = b,a의 구문은 두개의 할당문이 동시에 할당되는것을 보여준다.\n",
    "* Using simultaneous assignment, the exchange operation can be done in one statement.\n",
    "* 동시 할당문을 이용해서, 교환하는 작업은 한 구문으로 작성될 수 있다.\n",
    "\n",
    "* Lines 5-7 in ActiveCode 1 perform the exchange of the i and (i+1)th items using the three–step procedure described earlier. \n",
    "* ActiveCode1의 5-8 라인은 i와 i+1번쨰의 아이템을 위의 표현한 세단계 교환을 통해서 이뤄낸다.\n",
    "* Note that we could also have used the simultaneous assignment to swap the items.\n",
    "* 이처럼 여기서 동시 할당문을 사용해 아이템을 스왑할수 있다.\n",
    "\n",
    "* The following activecode example shows the complete bubbleSort function working on the list shown above.\n",
    "* 다음 activecode 예제는 위 리스트를 버블소트 코드로 풀어낸 예제이다."
   ]
  },
  {
   "cell_type": "code",
   "execution_count": 9,
   "metadata": {},
   "outputs": [
    {
     "name": "stdout",
     "output_type": "stream",
     "text": [
      "[17, 20, 26, 31, 44, 54, 55, 77, 93]\n"
     ]
    }
   ],
   "source": [
    "def bubbleSort(alist):\n",
    "    for passnum in range(len(alist)-1,0,-1):\n",
    "        for i in range(passnum):\n",
    "            if alist[i]>alist[i+1]:\n",
    "                alist[i],alist[i+1] = alist[i+1],alist[i]\n",
    "                \"\"\"\n",
    "                temp = alist[i]\n",
    "                alist[i] = alist[i+1]\n",
    "                alist[i+1] = temp\n",
    "                \"\"\"\n",
    "alist = [54,26,93,17,77,31,44,55,20]\n",
    "bubbleSort(alist)\n",
    "print(alist)"
   ]
  },
  {
   "cell_type": "markdown",
   "metadata": {},
   "source": [
    "* To analyze the bubble sort, we should note that regardless of how the items are arranged in the initial list, n−1 passes will be made to sort a list of size n. \n",
    "* 버블 소트를 분석하기 위해, 우리는 몇개의 아이템이 처음 리스트에 있던지, 리스트 사이즈가 n인리스트를 정렬하기 위해서는 n-1번의 단계들이 필요하다는것을 알았다. \n",
    "* Table 1 shows the number of comparisons for each pass. \n",
    "* 테이블 1은 각 단계마다 일어나는 비교 숫자를 보여준다.\n",
    "* The total number of comparisons is the sum of the first n−1 integers.\n",
    "* 총 비교 갯수는 첫번째 n-1 부터 1까지의 합이다.\n",
    "* Recall that the sum of the first n integers is 1/2*n^2 +1/2n. \n",
    "* 처음 n개의 정수들의 합이 1/2*n^2 +1/2n 인것을 기억해라.\n",
    "* The sum of the first n−1 integers is 1/2*n^2+1/2*n−n, which is 1/2*n^2−1/2*n. \n",
    "* n-1개 정수의 합은 1/2*n^2−1/2*n 이다.\n",
    "* This is still O(n^2) comparisons. \n",
    "* 이것은 여전히 O(n^2) 의 비교이다.\n",
    "* In the best case, if the list is already ordered, no exchanges will be made.\n",
    "* best case에서는, 리스트가 이미 정렬되어있다면, 아무런 교환도 일어나지 않을것이다.\n",
    "* However, in the worst case, every comparison will cause an exchange. \n",
    "* 반면에 worst case에서는 모든 비교들이 교환을 일으킬것이다.\n",
    "* On average, we exchange half of the time.\n",
    "* 평균적으로는, 절반정도를 교환할 것이다."
   ]
  },
  {
   "cell_type": "markdown",
   "metadata": {},
   "source": [
    "* A bubble sort is often considered the most inefficient sorting method since it must exchange items before the final location is known.\n",
    "* 버블 소트는 종종 가장 비효율적인 메서드라고 알려져있는데, 이것은 반드시 아이템을 마지막이라고 알려진 장소까지 비교해야하기 떄문이다.\n",
    "* These “wasted” exchange operations are very costly.\n",
    "* 이런 낭비되는 교환들은 매우 비용이 소모된다.\n",
    "* However, because the bubble sort makes passes through the entire unsorted portion of the list, it has the capability to do something most sorting algorithms cannot.\n",
    "* 그러나, 버블 소트가 정렬되지 않은 모든 부분의 단계를 거치기 때문에, 몇개의 알고리즘들이 하지 못하는 것들을 할 수 있다.\n",
    "* In particular, if during a pass there are no exchanges, then we know that the list must be sorted. \n",
    "* 일반적으로, 만약 비교단계에서 교환이 일어나지 않는다면, 정렬되어있음을 알 수 있다.\n",
    "* A bubble sort can be modified to stop early if it finds that the list has become sorted. \n",
    "* 버블 소트는 리스트가 정렬되어 있다는것을 알면 미리 멈출 수 있다.\n",
    "* This means that for lists that require just a few passes, a bubble sort may have an advantage in that it will recognize the sorted list and stop. \n",
    "* 이것은 리스트가 몇번의 단계만 거치면, 이것이 정렬된 리스트인지 알고 멈출수 있다는 것이다.\n",
    "* ActiveCode 2 shows this modification, which is often referred to as the short bubble.\n",
    "* ACtiveCode 2는 이 수정사항을 반영한 것이고, 이것은 short bubble이라고 종종 일컬어진다."
   ]
  },
  {
   "cell_type": "code",
   "execution_count": 12,
   "metadata": {},
   "outputs": [
    {
     "name": "stdout",
     "output_type": "stream",
     "text": [
      "8\n",
      "7\n",
      "[20, 30, 40, 50, 60, 70, 80, 90, 100, 110]\n"
     ]
    }
   ],
   "source": [
    "def shortBubbleSort(alist):\n",
    "    exchanges = True\n",
    "    passnum = len(alist)-1\n",
    "    while passnum > 0 and exchanges:\n",
    "        exchanges = False\n",
    "        for i in range(passnum):\n",
    "            if alist[i]>alist[i+1]:\n",
    "                exchanges = True\n",
    "                temp = alist[i]\n",
    "                alist[i] = alist[i+1]\n",
    "                alist[i+1] = temp\n",
    "        passnum = passnum-1\n",
    "        print(passnum)\n",
    "\n",
    "alist=[20,30,40,90,50,60,70,80,100,110]\n",
    "shortBubbleSort(alist)\n",
    "print(alist)"
   ]
  },
  {
   "cell_type": "markdown",
   "metadata": {},
   "source": [
    "### Self Check\n",
    "\n",
    "* Q-2: Suppose you have the following list of numbers to sort: [19, 1, 9, 7, 3, 10, 13, 15, 8, 12] which list represents the partially sorted list after three complete passes of bubble sort? B\n",
    "\n",
    "* A. [1, 9, 19, 7, 3, 10, 13, 15, 8, 12]\n",
    "* B. [1, 3, 7, 9, 10, 8, 12, 13, 15, 19]\n",
    "* C. [1, 7, 3, 9, 10, 13, 8, 12, 15, 19]\n",
    "* D. [1, 9, 19, 7, 3, 10, 13, 15, 8, 12]\n"
   ]
  }
 ],
 "metadata": {
  "kernelspec": {
   "display_name": "Python 3",
   "language": "python",
   "name": "python3"
  },
  "language_info": {
   "codemirror_mode": {
    "name": "ipython",
    "version": 3
   },
   "file_extension": ".py",
   "mimetype": "text/x-python",
   "name": "python",
   "nbconvert_exporter": "python",
   "pygments_lexer": "ipython3",
   "version": "3.7.3"
  }
 },
 "nbformat": 4,
 "nbformat_minor": 2
}
