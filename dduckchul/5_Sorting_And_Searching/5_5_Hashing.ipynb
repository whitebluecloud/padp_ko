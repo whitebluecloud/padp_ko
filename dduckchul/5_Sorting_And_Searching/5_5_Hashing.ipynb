{
 "cells": [
  {
   "cell_type": "markdown",
   "metadata": {},
   "source": [
    "## 5.5. Hashing\n",
    "## 5.5. 해싱\n",
    "\n",
    "* In previous sections we were able to make improvements in our search algorithms by taking advantage of information about where items are stored in the collection with respect to one another.\n",
    "* 이전 섹션들에서 우리는 저장된 아이템이 다른것들과 연관되어 저장된 컬렉션에 있다는 정보를 이용해 탐색 알고리즘을 개선할 수 있었다.\n",
    "* For example, by knowing that a list was ordered, we could search in logarithmic time using a binary search. \n",
    "* 예를들어, 리스트가 정렬되어있음 알았기떄문에, 우리는 이진탐색을 log시간으로 수행할 수 있었다.\n",
    "* In this section we will attempt to go one step further by building a data structure that can be searched in O(1) time. \n",
    "* 이 섹션에서는 한단계 더 나아가 O(1)시간으로 찾을 수 있는 데이터 구조를 만들 것이다.\n",
    "* This concept is referred to as hashing.\n",
    "* 이 개념을 해싱이라고 한다.\n",
    "\n",
    "* In order to do this, we will need to know even more about where the items might be when we go to look for them in the collection. \n",
    "* 이것을 하기 위해, 우리는 아이템을 컬렉션에서 찾을때 아이템이 어디에 있어야 하는지에 대해 알아야 한다.\n",
    "* If every item is where it should be, then the search can use a single comparison to discover the presence of an item. \n",
    "* 만약 모든 아이템이 있어야 할 자리에 존재한다면, 탐색은 한번의 비교를 통해 아이템을 찾을수 있을 것이다.\n",
    "* We will see, however, that this is typically not the case.\n",
    "* 우리는 이것을 살펴보겠지만, 이것은 일반적인 케이스는 아니다.\n",
    "\n",
    "* A hash table is a collection of items which are stored in such a way as to make it easy to find them later.\n",
    "* 해시 테이블은 나중에 찾기 쉽게 만들기 위해 아이템들을 저장해두는 컬렉션이다.\n",
    "* Each position of the hash table, often called a slot, can hold an item and is named by an integer value starting at 0. \n",
    "* 슬롯이라고 불리는 해시 테이블의 각각의 위치는 아이템을 저장할 수 있고, 정수형 값 0부터 시작하는 이름을 갖고 있다.\n",
    "\n",
    "* For example, we will have a slot named 0, a slot named 1, a slot named 2, and so on. \n",
    "* 예를들어, 우리는 0번, 1번, 2번 슬롯들을 가지고 있다고 해보자.\n",
    "* Initially, the hash table contains no items so every slot is empty.\n",
    "* 최초로, 해쉬 테이블은 모든 슬롯이 빈값을 가지고 있다.\n",
    "* We can implement a hash table by using a list with each element initialized to the special Python value None. \n",
    "* 우리는 해시 테이블을 None값을 가지고 있는 파이썬 리스트로 구현할 수 있다.\n",
    "* Figure 4 shows a hash table of size m=11. In other words, there are m slots in the table, named 0 through 10.\n",
    "* Figure 4는 해시 테이블의 크기가 11인 예제를 보여주고 있다. 다른말로, 이름이 0부터 10까지인 m개의 슬롯이 있는 것이다.\n",
    "\n",
    "* The mapping between an item and the slot where that item belongs in the hash table is called the hash function.\n",
    "* 아이템과 슬롯은 해시 펑션이라는 것으로 매핑될 것이다.\n",
    "* The hash function will take any item in the collection and return an integer in the range of slot names, between 0 and m-1. \n",
    "* 해시 펑션은 컬렉션의 어떤 아이템을 받아서 컬렉션에 넣고 0에서 m-1사이의 슬롯 이름을 반환할 것이다.\n",
    "* Assume that we have the set of integer items 54, 26, 93, 17, 77, and 31. \n",
    "* 54, 26, 93, 17, 77, 31의 정수 셋이 있다고 가정해 보자.\n",
    "* Our first hash function, sometimes referred to as the “remainder method,” simply takes an item and divides it by the table size, returning the remainder as its hash value (h(item)=item%11). \n",
    "* remainder 메소드라고 일컬어지는 우리의 첫 해시 펑션은 아이템을 가져다가 테이블의 사이즈로 나누고, 나머지값을 해시 밸류로 사용한다.\n",
    "* Table 4 gives all of the hash values for our example items. \n",
    "* Table 4는 예제값들의 모든 해시 값을 보여준다.\n",
    "* Note that this remainder method (modulo arithmetic) will typically be present in some form in all hash functions, since the result must be in the range of slot names.\n",
    "* remainder 메소드(모듈로 연산)은 일반적으로 모든 해시 펑션에서 같은 값을 나타낼 것이다. 결과 값은 슬롯의 이름 범위 안에 있어야 한다."
   ]
  },
  {
   "cell_type": "markdown",
   "metadata": {},
   "source": [
    "## Table 4: Simple Hash Function Using Remainders\n",
    "\n",
    "| Item | Hash Value |\n",
    "|------|------------|\n",
    "| 54   | 10         |\n",
    "| 26   | 4          |\n",
    "| 93   | 5          |\n",
    "| 17   | 6          |\n",
    "| 77   | 0          |\n",
    "| 31   | 9          |\n"
   ]
  },
  {
   "cell_type": "markdown",
   "metadata": {},
   "source": [
    "* Once the hash values have been computed, we can insert each item into the hash table at the designated position as shown in Figure 5. \n",
    "* 해시 값이 계산되고나면, 각각의 Figure5의 그림처럼 해시 테이블 안에 계산된 값의 위치로 넣을 수 있다.\n",
    "* Note that 6 of the 11 slots are now occupied. \n",
    "* 11개 중에 6개 슬롯이 이제 차있는 것을 볼 수 있다.\n",
    "* This is referred to as the load factor, and is commonly denoted by λ=numberofitems/tablesize.\n",
    "* 이것은 load factor라고 일컬어지며, 이것은 아이템수 / 테이블 크기로 계산된다.\n",
    "* For this example, λ=6/11.\n",
    "* 이 예제에서는 6/11이다.\n",
    "\n",
    "* Now when we want to search for an item, we simply use the hash function to compute the slot name for the item and then check the hash table to see if it is present.\n",
    "* 이제 우리가 아이템을 찾고자 한다면, 해시 펑션을 이용해 슬롯 이름을 계산해내고, 해시 테이블에 해당하는 값이 있는지를 살펴보면 된다.\n",
    "* This searching operation is O(1), since a constant amount of time is required to compute the hash value and then index the hash table at that location.\n",
    "* 이 탐색 연산은 O(1)의 복잡도를 나타낸다, 여기서 상수 값은 해시 값을 계산하기 위한 시간과, 해시 테이블에서 해당 위치에 접근하는 시간이 된다.\n",
    "* If everything is where it should be, we have found a constant time search algorithm.\n",
    "* 모든 것이 있어야할 장소에 있는다면, 탐색 알고리즘에서 상수의 시간으로 찾을수 있다.\n",
    "\n",
    "* You can probably already see that this technique is going to work only if each item maps to a unique location in the hash table. \n",
    "* 당신은 이미 이 테크닉이 각각의 아이템이 해시 테이블에서 유니크한 장소에 있어야 한다는 것을 알 수 있다. \n",
    "* For example, if the item 44 had been the next item in our collection, it would have a hash value of 0 (44%11==0). \n",
    "* 예를들어, 아이템 44가 우리 컬렉션 안에 있다면 해시 값은 0이된다.\n",
    "* Since 77 also had a hash value of 0, we would have a problem. \n",
    "* 77 또한 해시 값이 0이기떄문에, 우리는 문제를 갖게된다.\n",
    "* According to the hash function, two or more items would need to be in the same slot. \n",
    "* 해시 펑션에 의하면, 두개 혹은 그 이상의 같은 슬롯에 있을 수 있다.\n",
    "* This is referred to as a collision (it may also be called a “clash”). \n",
    "* 이것은 collision혹은 clash라고 불린다.\n",
    "* Clearly, collisions create a problem for the hashing technique. \n",
    "* 명확히, collisions는 해시 테크닉에서 문제를 발생시킨다.\n",
    "* We will discuss them in detail later.\n",
    "* 우리는 이것을 나중에 다룰 것이다."
   ]
  }
 ],
 "metadata": {
  "kernelspec": {
   "display_name": "Python 3",
   "language": "python",
   "name": "python3"
  },
  "language_info": {
   "codemirror_mode": {
    "name": "ipython",
    "version": 3
   },
   "file_extension": ".py",
   "mimetype": "text/x-python",
   "name": "python",
   "nbconvert_exporter": "python",
   "pygments_lexer": "ipython3",
   "version": "3.7.3"
  }
 },
 "nbformat": 4,
 "nbformat_minor": 2
}
