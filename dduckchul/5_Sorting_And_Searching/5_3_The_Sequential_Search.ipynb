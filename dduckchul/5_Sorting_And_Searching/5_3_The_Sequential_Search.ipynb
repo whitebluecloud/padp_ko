{
 "cells": [
  {
   "cell_type": "markdown",
   "metadata": {},
   "source": [
    "## 5.3 The Sequential Search\n",
    "## 5.3 순차적인 탐색\n",
    "\n",
    "* When data items are stored in a collection such as a list, we say that they have a linear or sequential relationship. \n",
    "* 데이터 아이템이 리스트 컬렉션 형태로 존재한다면, 그것들이 선형 혹은 순차적인 관계를 가지고 있다고 할수있다.\n",
    "* Each data item is stored in a position relative to the others. \n",
    "* 각각의 데이터 아이템들은 다른 것들과 비교하여 상대적인 위치에 존재한다.\n",
    "* In Python lists, these relative positions are the index values of the individual items.\n",
    "* 파이썬 리스트에서 이 상대적인 위치들은 각각의 아이템들의 index 값들이다.\n",
    "* Since these index values are ordered, it is possible for us to visit them in sequence. \n",
    "* 이 index 값들이 정렬되어 있기 때문에, 우리는 이것들을 순차적으로 볼수 있다.\n",
    "* This process gives rise to our first searching technique, the sequential search.\n",
    "* 이 프로세스는 우리에게 첫번째 탐색 기술인 순차적 탐색을 알려줄수 있다.\n",
    "\n",
    "* Figure 1 shows how this search works. \n",
    "* Figure 1 는 이 탐색이 어떻게 동작하는지 보여준다.\n",
    "* Starting at the first item in the list, we simply move from item to item, following the underlying sequential ordering until we either find what we are looking for or run out of items.\n",
    "* 리스트의 첫번째 아이템부터 시작해서 우리는 단순하게 아이템에서 다른 아이템으로 이동할 것이다. 리스트에서 숨겨져있는 순차적 순서를 따르며 우리는 더이상 다른 아이템이 없을때까지 이동할 것이다.\n",
    "\n",
    "* If we run out of items, we have discovered that the item we were searching for was not present.\n",
    "* 만약 아이템이 다 떨어졌다면, 우리가 찾는 아이템이 없었다는 것을 알게될 것이다.\n",
    "\n",
    "* The Python implementation for this algorithm is shown in CodeLens 1. \n",
    "* 이 알고리즘을 구현한것이 아래에 있다.\n",
    "* The function needs the list and the item we are looking for and returns a boolean value as to whether it is present. \n",
    "* 이 펑션은 리스트와 찾고자하는 어떤 아이템이 필요하다, 그리고 이것이 존재하는지에 대한 boolean 값을 반환할 것이다.\n",
    "* The boolean variable found is initialized to False and is assigned the value True if we discover the item in the list.\n",
    "* 이 found 불린 변수는 최초에 False 로 초기화 될것이고, 리스트에서 찾는 아이템을 찾는다면 True로 바꿀것이다."
   ]
  },
  {
   "cell_type": "code",
   "execution_count": 1,
   "metadata": {},
   "outputs": [
    {
     "name": "stdout",
     "output_type": "stream",
     "text": [
      "False\n",
      "True\n"
     ]
    }
   ],
   "source": [
    "def sequentialSearch(alist, item):\n",
    "    pos = 0\n",
    "    found = False\n",
    "\n",
    "    while pos < len(alist) and not found:\n",
    "        if alist[pos] == item:\n",
    "            found = True\n",
    "        else:\n",
    "            pos = pos+1\n",
    "\n",
    "    return found\n",
    "\n",
    "testlist = [1, 2, 32, 8, 17, 19, 42, 13, 0]\n",
    "print(sequentialSearch(testlist, 3))\n",
    "print(sequentialSearch(testlist, 13))\n",
    "\n",
    "#Sequential Search of an Unordered List (search1)"
   ]
  },
  {
   "cell_type": "markdown",
   "metadata": {},
   "source": [
    "## 5.3.1. Analysis of Sequential Search\n",
    "## 5.3.1. 순차 탐색 분석\n",
    "\n",
    "* To analyze searching algorithms, we need to decide on a basic unit of computation. \n",
    "* 탐색 알고리즘을 분석하기 위해, 우리는 먼저 계산에 있어 기본적인 단위를 정해야 한다.\n",
    "* Recall that this is typically the common step that must be repeated in order to solve the problem.\n",
    "* 이것은 우리가 문제를 해결하기 위해 반복적으로 해야하는 일반적인 행동임을 기억해라. \n",
    "* For searching, it makes sense to count the number of comparisons performed. \n",
    "* 탐색에서는, 비교를 몇번 했는지 세는것이 알고리즘을 분석하기에 적당하다.\n",
    "* Each comparison may or may not discover the item we are looking for.\n",
    "* 각각의 비교는 우리가 찾는 아이템을 찾았을수도, 찾지 않았을수도 있다.\n",
    "* In addition, we make another assumption here. \n",
    "* 추가적으로 우리는 여기서 다른 가정을 하나 더하겠다.\n",
    "* The list of items is not ordered in any way. \n",
    "* 리스트에 있는 아이템들은 어떤 방식이든지 정렬되어있지 않다.\n",
    "* The items have been placed randomly into the list. \n",
    "* 리스트에 있는 아이템들은 랜덤하게 위치하고 있다.\n",
    "* In other words, the probability that the item we are looking for is in any particular position is exactly the same for each position of the list.\n",
    "* 다른말로, 우리가 찾고자하는 아이템을 찾을 확률은 리스트의 어떤 위치에서도 똑같은 확률을 갖고있다.\n",
    "\n",
    "* If the item is not in the list, the only way to know it is to compare it against every item present.\n",
    "* 만약 리스트에 아이템이 없다면, 유일하게 이것을 알 수 있는 방법은 모든 아이템을 비교하는 것이다.\n",
    "* If there are n items, then the sequential search requires n comparisons to discover that the item is not there. \n",
    "* 만약 n개의 아이템이 있다면, 순차적 탐색은 아이템이 없을때는 n번을 비교하게 될것이다.\n",
    "* In the case where the item is in the list, the analysis is not so straightforward.\n",
    "* 아이템이 리스트 안에 있다면, 분석은 이렇게 간단하지 않을것이다.\n",
    "* There are actually three different scenarios that can occur. \n",
    "* 이 경우에는 발생할 수 있는 다른 3가지 시나리오가 존재한다.\n",
    "* In the best case we will find the item in the first place we look, at the beginning of the list. \n",
    "* best case에서는 맨처음 비교할때 우리가 찾는 아이템이 나오는 것이다.\n",
    "* We will need only one comparison.\n",
    "* 이때는 한번만 비교하면 된다.\n",
    "* In the worst case, we will not discover the item until the very last comparison, the nth comparison.\n",
    "* worst case의 경우에는 맨 마지막 비교 할때까지 발견하지 못하는 것이고, n번째 비교를 하게 되는 것이다.\n",
    "\n",
    "* What about the average case? On average, we will find the item about halfway into the list; \n",
    "* 평균적인 경우는 어떻게 될까? 평균적으로, 아마 리스트의 반정도를 탐색하면 찾을수 있을 것이다.\n",
    "* that is, we will compare against n/2 items. \n",
    "* 우리는 n/2 번 비교하게 되는 것이다.\n",
    "* Recall, however, that as n gets large, the coefficients, no matter what they are, become insignificant in our approximation, so the complexity of the sequential search, is O(n). \n",
    "* 그러나 n의 계수들은 어떤 값이 나온다 하더라도, n이 점차 커지면 계수는 의미가 없어진다, 따라서 순차적 탐색의 복잡도는 O(n)이다.\n",
    "* Table 1 summarizes these results.\n",
    "* 아래 표가 이 결과들을 요약해 준다."
   ]
  },
  {
   "cell_type": "markdown",
   "metadata": {},
   "source": [
    "## Table 1: Comparisons Used in a Sequential Search of an Unordered List\n",
    "| Case                | Best Case | Worst Case | Average Case |\n",
    "|---------------------|-----------|------------|--------------|\n",
    "| item is present     | 1         | n          | n/2          |\n",
    "| item is not present | n         | n          | n            |"
   ]
  },
  {
   "cell_type": "markdown",
   "metadata": {},
   "source": [
    "* We assumed earlier that the items in our collection had been randomly placed so that there is no relative order between the items. \n",
    "* 우리는 이전에 아이템들이 컬렉션에 랜덤하게 위치하여 아이템들 사이에 관계가 없다고 가정했다.\n",
    "* What would happen to the sequential search if the items were ordered in some way? \n",
    "* 하지만 순차적인 정렬이 어떤식으로 정렬되어있다면 어떻게 될것인가?\n",
    "* Would we be able to gain any efficiency in our search technique?\n",
    "* 우리의 탐색 기술에 효율적이 될것인가?\n",
    "\n",
    "* Assume that the list of items was constructed so that the items were in ascending order, from low to high.\n",
    "* 우리가 리스트의 아이템들을 오름차순으로 있다고 가정해보자 (낮은순에서 높은순으로)\n",
    "* If the item we are looking for is present in the list, the chance of it being in any one of the n positions is still the same as before. \n",
    "* 만약 우리가 찾는 아이템이 리스트에 있다면, n번째 포지션에 있는 아이템을 찾을 확률은 이전과 같다.\n",
    "* We will still have the same number of comparisons to find the item. \n",
    "* 우리는 아이템을 찾기 위해 같은 수의 비교를 할 것이다.\n",
    "* However, if the item is not present there is a slight advantage.\n",
    "* 그러나 아이템이 존재하지 않는다면 약간 유리한 점이 있다\n",
    "* Figure 2 shows this process as the algorithm looks for the item 50. \n",
    "* Figure 2는 50을 찾기위한 알고리즘을 나타내고 있다.\n",
    "* Notice that items are still compared in sequence until 54.\n",
    "* 순차적으로 54까지는 비교하고 있다.\n",
    "* At this point, however, we know something extra. \n",
    "* 이 지점에서 그러나, 우리는 추가적으로 어떤점을 알고있다.\n",
    "* Not only is 54 not the item we are looking for, but no other elements beyond 54 can work either since the list is sorted.\n",
    "* 54가 우리가 찾는 아이템이 아닐 뿐더러, 리스트가 정렬 되어있기 때문에, 54뒤에있는 어떤 아이템들도 찾는 아이템이 아닌것이다.\n",
    "* In this case, the algorithm does not have to continue looking through all of the items to report that the item was not found. \n",
    "* 이 경우에는 알고리즘이 모든 아이템을 살펴 볼 필요없이 이 아이템이 없다는 것을 알 수 있다.\n",
    "* It can stop immediately. \n",
    "* 이 경우 바로 멈추면 된다.\n",
    "* CodeLens 2 shows this variation of the sequential search function.\n",
    "* 코드렌즈 2에서 이 순차적 탐색 펑션을 보여준다"
   ]
  },
  {
   "cell_type": "code",
   "execution_count": 1,
   "metadata": {},
   "outputs": [
    {
     "name": "stdout",
     "output_type": "stream",
     "text": [
      "False\n",
      "True\n"
     ]
    }
   ],
   "source": [
    "def orderedSequentialSearch(alist, item):\n",
    "    pos = 0\n",
    "    found = False\n",
    "    stop = False\n",
    "    while pos < len(alist) and not found and not stop:\n",
    "        if alist[pos] == item:\n",
    "            found = True\n",
    "        else:\n",
    "            if alist[pos] > item:\n",
    "                stop = True\n",
    "            else:\n",
    "                pos = pos+1\n",
    "\n",
    "    return found\n",
    "\n",
    "testlist = [0, 1, 2, 8, 13, 17, 19, 32, 42,]\n",
    "print(orderedSequentialSearch(testlist, 3))\n",
    "print(orderedSequentialSearch(testlist, 13))\n",
    "\n",
    "# Sequential Search of an Ordered List (search2)"
   ]
  },
  {
   "cell_type": "markdown",
   "metadata": {},
   "source": [
    "* Table 2 summarizes these results. \n",
    "* Table 2가 이 결과값들을 요약해 준다\n",
    "* Note that in the best case we might discover that the item is not in the list by looking at only one item. \n",
    "* 아이템이 없을때의 best case가 리스트의 전체를 살펴 보는것이 아니라 한번만 탐색하는 것을 보아라.\n",
    "* On average, we will know after looking through only n/2 items. \n",
    "* 평균적으로는, n/2 개의 아이템만 살펴볼 것이다.\n",
    "* However, this technique is still O(n). \n",
    "* 그러나, 이 방법은 여전히 복잡도가 O(n)이다.\n",
    "* In summary, a sequential search is improved by ordering the list only in the case where we do not find the item.\n",
    "* 요약하자면 순차적 탐색은 리스트가 정렬 되어 있으면, 아이템이 없는 경우에 더 나은 탐색을 할 수 있다."
   ]
  },
  {
   "cell_type": "markdown",
   "metadata": {},
   "source": [
    "## Table 2: Comparisons Used in Sequential Search of an Ordered List\n",
    "\n",
    "| item is present  | 1 | n | n2 |\n",
    "|------------------|---|---|----|\n",
    "| item not present | 1 | n | n2 |"
   ]
  },
  {
   "cell_type": "markdown",
   "metadata": {},
   "source": [
    "### Self Check\n",
    "\n",
    "#### Q-1: Suppose you are doing a sequential search of the list [15, 18, 2, 19, 18, 0, 8, 14, 19, 14]. How many comparisons would you need to do in order to find the key 18?\n",
    "* A. 5\n",
    "* B. 10\n",
    "* C. 4\n",
    "* D. 2\n",
    "\n",
    "#### Q-1 리스트 [15, 18, 2, 19, 18, 0, 8, 14, 19, 14]에서 순차적 탐색을 하고 있다고 가정하자. 몇번의 비교를 통해 18을 찾을 수 있나? (D)\n",
    "\n",
    "### Q-2: Suppose you are doing a sequential search of the ordered list [3, 5, 6, 8, 11, 12, 14, 15, 17, 18]. How many comparisons would you need to do in order to find the key 13?\n",
    "* A. 10\n",
    "* B. 5\n",
    "* C. 7\n",
    "* D. 6\n",
    "\n",
    "#### Q-2 : 정렬된 리스트 [3, 5, 6, 8, 11, 12, 14, 15, 17, 18]에서 순차적 탐색을 하고 있다고 가정하자. 몇번의 비교를 통해 13이 있는지 알수 있나? (C)\n"
   ]
  }
 ],
 "metadata": {
  "kernelspec": {
   "display_name": "Python 3",
   "language": "python",
   "name": "python3"
  },
  "language_info": {
   "codemirror_mode": {
    "name": "ipython",
    "version": 3
   },
   "file_extension": ".py",
   "mimetype": "text/x-python",
   "name": "python",
   "nbconvert_exporter": "python",
   "pygments_lexer": "ipython3",
   "version": "3.7.3"
  }
 },
 "nbformat": 4,
 "nbformat_minor": 2
}
