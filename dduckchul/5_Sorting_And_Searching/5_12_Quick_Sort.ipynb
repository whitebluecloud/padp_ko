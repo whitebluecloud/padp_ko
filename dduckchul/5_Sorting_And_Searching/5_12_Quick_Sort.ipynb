{
 "cells": [
  {
   "cell_type": "markdown",
   "metadata": {},
   "source": [
    "## 5.12. The Quick Sort\n",
    "* The quick sort uses divide and conquer to gain the same advantages as the merge sort, while not using additional storage. \n",
    "* As a trade-off, however, it is possible that the list may not be divided in half. \n",
    "* When this happens, we will see that performance is diminished.\n",
    "\n",
    "* A quick sort first selects a value, which is called the pivot value. \n",
    "* Although there are many different ways to choose the pivot value, we will simply use the first item in the list. \n",
    "* The role of the pivot value is to assist with splitting the list. \n",
    "* The actual position where the pivot value belongs in the final sorted list, commonly called the split point, will be used to divide the list for subsequent calls to the quick sort.\n",
    "\n",
    "* Figure 12 shows that 54 will serve as our first pivot value. \n",
    "* Since we have looked at this example a few times already, we know that 54 will eventually end up in the position currently holding 31. \n",
    "* The partition process will happen next. It will find the split point and at the same time move other items to the appropriate side of the list, either less than or greater than the pivot value."
   ]
  },
  {
   "cell_type": "markdown",
   "metadata": {},
   "source": [
    "* Partitioning begins by locating two position markers—let’s call them leftmark and rightmark—at the beginning and end of the remaining items in the list (positions 1 and 8 in Figure 13). \n",
    "* The goal of the partition process is to move items that are on the wrong side with respect to the pivot value while also converging on the split point. \n",
    "* Figure 13 shows this process as we locate the position of 54."
   ]
  },
  {
   "cell_type": "markdown",
   "metadata": {},
   "source": [
    "* We begin by incrementing leftmark until we locate a value that is greater than the pivot value. \n",
    "* We then decrement rightmark until we find a value that is less than the pivot value. \n",
    "* At this point we have discovered two items that are out of place with respect to the eventual split point. \n",
    "* For our example, this occurs at 93 and 20. Now we can exchange these two items and then repeat the process again.\n",
    "\n",
    "* At the point where rightmark becomes less than leftmark, we stop. \n",
    "* The position of rightmark is now the split point. \n",
    "* The pivot value can be exchanged with the contents of the split point and the pivot value is now in place (Figure 14). \n",
    "* In addition, all the items to the left of the split point are less than the pivot value, and all the items to the right of the split point are greater than the pivot value. \n",
    "* The list can now be divided at the split point and the quick sort can be invoked recursively on the two halves."
   ]
  },
  {
   "cell_type": "markdown",
   "metadata": {},
   "source": [
    "* The quickSort function shown in ActiveCode 1 invokes a recursive function, quickSortHelper. \n",
    "* quickSortHelper begins with the same base case as the merge sort. \n",
    "* If the length of the list is less than or equal to one, it is already sorted. \n",
    "* If it is greater, then it can be partitioned and recursively sorted. \n",
    "* The partition function implements the process described earlier."
   ]
  },
  {
   "cell_type": "code",
   "execution_count": 1,
   "metadata": {},
   "outputs": [
    {
     "name": "stdout",
     "output_type": "stream",
     "text": [
      "[17, 20, 26, 31, 44, 54, 55, 77, 93]\n"
     ]
    }
   ],
   "source": [
    "def quickSort(alist):\n",
    "    quickSortHelper(alist,0,len(alist)-1)\n",
    "\n",
    "def quickSortHelper(alist,first,last):\n",
    "    if first<last:\n",
    "\n",
    "        splitpoint = partition(alist,first,last)\n",
    "\n",
    "        quickSortHelper(alist,first,splitpoint-1)\n",
    "        quickSortHelper(alist,splitpoint+1,last)\n",
    "\n",
    "\n",
    "def partition(alist,first,last):\n",
    "    pivotvalue = alist[first]\n",
    "\n",
    "    leftmark = first+1\n",
    "    rightmark = last\n",
    "\n",
    "    done = False\n",
    "    while not done:\n",
    "\n",
    "        while leftmark <= rightmark and alist[leftmark] <= pivotvalue:\n",
    "            leftmark = leftmark + 1\n",
    "\n",
    "        while alist[rightmark] >= pivotvalue and rightmark >= leftmark:\n",
    "            rightmark = rightmark -1\n",
    "\n",
    "        if rightmark < leftmark:\n",
    "            done = True\n",
    "        else:\n",
    "            temp = alist[leftmark]\n",
    "            alist[leftmark] = alist[rightmark]\n",
    "            alist[rightmark] = temp\n",
    "\n",
    "    temp = alist[first]\n",
    "    alist[first] = alist[rightmark]\n",
    "    alist[rightmark] = temp\n",
    "\n",
    "\n",
    "    return rightmark\n",
    "\n",
    "alist = [54,26,93,17,77,31,44,55,20]\n",
    "quickSort(alist)\n",
    "print(alist)"
   ]
  },
  {
   "cell_type": "markdown",
   "metadata": {},
   "source": [
    "* To analyze the quickSort function, note that for a list of length n, if the partition always occurs in the middle of the list, there will again be logn divisions. \n",
    "* In order to find the split point, each of the n items needs to be checked against the pivot value. \n",
    "* The result is nlogn. \n",
    "* In addition, there is no need for additional memory as in the merge sort process.\n",
    "\n",
    "* Unfortunately, in the worst case, the split points may not be in the middle and can be very skewed to the left or the right, leaving a very uneven division. \n",
    "* In this case, sorting a list of n items divides into sorting a list of 0 items and a list of n−1 items. \n",
    "* Then sorting a list of n−1 divides into a list of size 0 and a list of size n−2, and so on. The result is an O(n2) sort with all of the overhead that recursion requires.\n",
    "\n",
    "* We mentioned earlier that there are different ways to choose the pivot value. \n",
    "* In particular, we can attempt to alleviate some of the potential for an uneven division by using a technique called median of three. \n",
    "* To choose the pivot value, we will consider the first, the middle, and the last element in the list. \n",
    "* In our example, those are 54, 77, and 20. \n",
    "* Now pick the median value, in our case 54, and use it for the pivot value (of course, that was the pivot value we used originally). \n",
    "* The idea is that in the case where the the first item in the list does not belong toward the middle of the list, the median of three will choose a better “middle” value. \n",
    "* This will be particularly useful when the original list is somewhat sorted to begin with. \n",
    "* We leave the implementation of this pivot value selection as an exercise."
   ]
  },
  {
   "cell_type": "markdown",
   "metadata": {},
   "source": [
    "### Self Check\n",
    "\n",
    "* Q-2: Given the following list of numbers [14, 17, 13, 15, 19, 10, 3, 16, 9, 12] which answer shows the contents of the list after the second partitioning according to the quicksort algorithm?\n",
    "\n",
    "* A. [9, 3, 10, 13, 12]\n",
    "* B. [9, 3, 10, 13, 12, 14]\n",
    "* C. [9, 3, 10, 13, 12, 14, 17, 16, 15, 19]\n",
    "* D. [9, 3, 10, 13, 12, 14, 19, 16, 15, 17]\n",
    "\n",
    "* Q-3: Given the following list of numbers [1, 20, 11, 5, 2, 9, 16, 14, 13, 19] what would be the first pivot value using the median of 3 method?\n",
    "\n",
    "* A. 1\n",
    "* B. 9\n",
    "* C. 16\n",
    "* D. 19\n",
    "\n",
    "* Q-4: Which of the following sort algorithms are guaranteed to be O(n log n) even in the worst case?\n",
    "\n",
    "* A. Shell Sort\n",
    "* B. Quick Sort\n",
    "* C. Merge Sort\n",
    "* D. Insertion Sort"
   ]
  }
 ],
 "metadata": {
  "kernelspec": {
   "display_name": "Python 3",
   "language": "python",
   "name": "python3"
  },
  "language_info": {
   "codemirror_mode": {
    "name": "ipython",
    "version": 3
   },
   "file_extension": ".py",
   "mimetype": "text/x-python",
   "name": "python",
   "nbconvert_exporter": "python",
   "pygments_lexer": "ipython3",
   "version": "3.7.3"
  }
 },
 "nbformat": 4,
 "nbformat_minor": 2
}
