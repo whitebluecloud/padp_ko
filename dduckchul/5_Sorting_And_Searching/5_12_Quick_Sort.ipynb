{
 "cells": [
  {
   "cell_type": "markdown",
   "metadata": {},
   "source": [
    "## 5.12. The Quick Sort\n",
    "* The quick sort uses divide and conquer to gain the same advantages as the merge sort, while not using additional storage. \n",
    "* 퀵소트는 머지소트와 비슷하게 분할 정복 알고리즘을 사용하는데, 추가적 저장 공간을 필요로 하지 않는다.\n",
    "* As a trade-off, however, it is possible that the list may not be divided in half. \n",
    "* 그러나 그 상충관계로, 리스트가 절반으로 나눠지지 않을 숟 있다.\n",
    "* When this happens, we will see that performance is diminished.\n",
    "* 이것이 나타나면 성능이 저하되는것을 알 수 있다.\n",
    "\n",
    "* A quick sort first selects a value, which is called the pivot value.\n",
    "* 먼저 퀵소트는 한개의 값을 선택한다, 이 값은 피벗 값이라고 불린다.\n",
    "* Although there are many different ways to choose the pivot value, we will simply use the first item in the list. \n",
    "* 이 피벗 값을 선택하기 위한 많은 방법들이 있찌만, 우리는 단순히 리스트에서 첫번쨰 아이템을 선택하겠다.\n",
    "* The role of the pivot value is to assist with splitting the list.\n",
    "* 피벗 값의 역활은 리스트를 분할하는 것이다.\n",
    "* The actual position where the pivot value belongs in the final sorted list, commonly called the split point, will be used to divide the list for subsequent calls to the quick sort.\n",
    "* 피벗 값이 위치하는 실제 위치는 퀵소트를 호출하며 리스트를 나눌때 사용된다. \n",
    "\n",
    "* Figure 12 shows that 54 will serve as our first pivot value. \n",
    "* Figure 12에서 54가 우리의 첫 피벗 값으로 정해진것을 알 수 있다\n",
    "* Since we have looked at this example a few times already, we know that 54 will eventually end up in the position currently holding 31. \n",
    "* 몇번의 예제에서 알 수 이썼듯이, 우리는 54가 최종적으로 지금 31이 있는 위치에 있을것이라는 것을 알고 있다.\n",
    "* The partition process will happen next. \n",
    "* 나눠지는 프로세스가 다음에 일어날 것이다.\n",
    "* It will find the split point and at the same time move other items to the appropriate side of the list, either less than or greater than the pivot value.\n",
    "* 이것은 스플릿 지점을 찾고, 동시에 다른 아이템들을 피벗 밸류보다 작거나 큼에 따라서 리스트의 적절한 위치에 이동할 것이다."
   ]
  },
  {
   "cell_type": "markdown",
   "metadata": {},
   "source": [
    "* Partitioning begins by locating two position markers—let’s call them leftmark and rightmark—at the beginning and end of the remaining items in the list (positions 1 and 8 in Figure 13).\n",
    "* 파티셔닝이 두개의 포지션 마커에서 일어날 것이다. 우리는 이것을 leftmark와 rightmark라고 할 것이다. 이것은 54를 제외한 나머지 아이템들의 시작과 끝이다 (인덱스 1과 8)\n",
    "* The goal of the partition process is to move items that are on the wrong side with respect to the pivot value while also converging on the split point. \n",
    "* 파티션 프로세스의 최종 목표는 피벗 밸류와 비교해 잘못된 위치에 있는 아이템들을 옮기는 것이다.\n",
    "* Figure 13 shows this process as we locate the position of 54.\n",
    "* Figure 13은 이 프로세스를 54가 위치한 것에서 보여 주고 있다."
   ]
  },
  {
   "cell_type": "markdown",
   "metadata": {},
   "source": [
    "* We begin by incrementing leftmark until we locate a value that is greater than the pivot value. \n",
    "* 우리는 leftmark를 증가하며 피벗 밸류보다 선택된 값이 큰지를 비교할 것이다.\n",
    "* We then decrement rightmark until we find a value that is less than the pivot value. \n",
    "* 또한 우리는 rightmark를 줄여나가며 피벗 값보다 작은지를 찾을 것이다.\n",
    "* At this point we have discovered two items that are out of place with respect to the eventual split point. \n",
    "* 또한 우리는 두개의 아이템들이 잘못된 위치에 있는지도 확인할 것이다.\n",
    "* For our example, this occurs at 93 and 20. \n",
    "* 우리의 예제에서, 이것은 93과 20에서 나올 수 있다.\n",
    "* Now we can exchange these two items and then repeat the process again.\n",
    "* 우리는 이 두개 아이템을 바꾼후 위 프로세스를 반복할 것이다.\n",
    "\n",
    "* At the point where rightmark becomes less than leftmark, we stop.\n",
    "* rightmark 가 leftmark 보다 더 적어진다면, 멈출것이다.\n",
    "* The position of rightmark is now the split point. \n",
    "* 이제 rightmark의 위치가 split point가 되는 것이다.\n",
    "* The pivot value can be exchanged with the contents of the split point and the pivot value is now in place (Figure 14). \n",
    "* 피벗 값이 이제 splitpoint의 값과 변경되고, 피벗 밸류가 정렬된 위치에 위치하게 된다.\n",
    "* In addition, all the items to the left of the split point are less than the pivot value, and all the items to the right of the split point are greater than the pivot value. \n",
    "* 추가적으로 스플릿 포인트에서 왼쪽 아이템들은 피벗값보다 모두 작고, 오른쪽 아이템들은 모두 피벗 값보다 크다.\n",
    "* The list can now be divided at the split point and the quick sort can be invoked recursively on the two halves.\n",
    "* 리스트가 이제 스플릿 포인트에서 나눠지고 두 절반에 대해서 quick sort가 일어난다."
   ]
  },
  {
   "cell_type": "markdown",
   "metadata": {},
   "source": [
    "* The quickSort function shown in ActiveCode 1 invokes a recursive function, quickSortHelper. \n",
    "* 퀵소트 펑션이 아래 코드에 나와있고, quicksortHelper라는 재귀적 펑션을 호출한다.\n",
    "* quickSortHelper begins with the same base case as the merge sort. \n",
    "* quickSortHelper는 머지소트와 같은 base case로 시작한다.\n",
    "* If the length of the list is less than or equal to one, it is already sorted.\n",
    "* 리스트의 길이가 1보다 같거나 작다면, 이미 정렬된 것이다\n",
    "* If it is greater, then it can be partitioned and recursively sorted.\n",
    "* 만약 크다면, 파티션으로 나누고 재귀적으로 정렬된다.\n",
    "* The partition function implements the process described earlier.\n",
    "* 파티션 펑션은 위에 설명한것 처럼 구현되어있다."
   ]
  },
  {
   "cell_type": "code",
   "execution_count": 1,
   "metadata": {},
   "outputs": [
    {
     "name": "stdout",
     "output_type": "stream",
     "text": [
      "[17, 20, 26, 31, 44, 54, 55, 77, 93]\n"
     ]
    }
   ],
   "source": [
    "def quickSort(alist):\n",
    "    quickSortHelper(alist,0,len(alist)-1)\n",
    "\n",
    "def quickSortHelper(alist,first,last):\n",
    "    if first<last:\n",
    "\n",
    "        splitpoint = partition(alist,first,last)\n",
    "\n",
    "        quickSortHelper(alist,first,splitpoint-1)\n",
    "        quickSortHelper(alist,splitpoint+1,last)\n",
    "\n",
    "\n",
    "def partition(alist,first,last):\n",
    "    pivotvalue = alist[first]\n",
    "\n",
    "    leftmark = first+1\n",
    "    rightmark = last\n",
    "\n",
    "    done = False\n",
    "    while not done:\n",
    "\n",
    "        while leftmark <= rightmark and alist[leftmark] <= pivotvalue:\n",
    "            leftmark = leftmark + 1\n",
    "\n",
    "        while alist[rightmark] >= pivotvalue and rightmark >= leftmark:\n",
    "            rightmark = rightmark -1\n",
    "\n",
    "        if rightmark < leftmark:\n",
    "            done = True\n",
    "        else:\n",
    "            temp = alist[leftmark]\n",
    "            alist[leftmark] = alist[rightmark]\n",
    "            alist[rightmark] = temp\n",
    "\n",
    "    temp = alist[first]\n",
    "    alist[first] = alist[rightmark]\n",
    "    alist[rightmark] = temp\n",
    "\n",
    "\n",
    "    return rightmark\n",
    "\n",
    "alist = [54,26,93,17,77,31,44,55,20]\n",
    "quickSort(alist)\n",
    "print(alist)"
   ]
  },
  {
   "cell_type": "markdown",
   "metadata": {},
   "source": [
    "* To analyze the quickSort function, note that for a list of length n, if the partition always occurs in the middle of the list, there will again be logn divisions. \n",
    "* 퀵소트 펑션을 분석해봤을떄, n길이의 리스트에서 만약 파티션이 리스트의 가운데에서 일어난다면, logn만큼 나눠질 것이다.\n",
    "* In order to find the split point, each of the n items needs to be checked against the pivot value. \n",
    "* 만약 스플릿 포인트를 찾기 위해서는 n개의 아이템들이 피벗 값과 비교할 것이다.\n",
    "* The result is nlogn. \n",
    "* 결과적으로 nlogn의 수행시간을 갖는다.\n",
    "* In addition, there is no need for additional memory as in the merge sort process.\n",
    "* 추가적으로 머지 소트 과정에서는 추가적인 메모리가필요하지 않다.\n",
    "\n",
    "* Unfortunately, in the worst case, the split points may not be in the middle and can be very skewed to the left or the right, leaving a very uneven division.\n",
    "* 불행히도 worst case에서는, 스플릿 포인트가 가운데 있지 않고, 매우 왼쪽이나 오른쪽에 치우쳐서 잘 나눠지지 않을것이다.\n",
    "* In this case, sorting a list of n items divides into sorting a list of 0 items and a list of n−1 items. \n",
    "* 이 경우에는, n개의 아이템이 나눠질때 n-1개의 아이템과 0개의 정렬된 리스트로 나눠질 것이다. \n",
    "* Then sorting a list of n−1 divides into a list of size 0 and a list of size n−2, and so on. \n",
    "* 또한 n-1개의 정렬된 리스트는 사이즈가 0인 리스트와 사이즈가 n-2개인 리스트로 나눠진다. 이렇게 계속 반복될 것이다.\n",
    "* The result is an O(n^2) sort with all of the overhead that recursion requires.\n",
    "* 이것은 O(n^2)의 수행하는 정렬이 될것이다.\n",
    "\n",
    "* We mentioned earlier that there are different ways to choose the pivot value. \n",
    "* 우리는 앞서 피벗 밸류를 고를때 많은 방법이 있다는것을 언급했다.\n",
    "* In particular, we can attempt to alleviate some of the potential for an uneven division by using a technique called median of three. \n",
    "* 더 자세히는, 우리는 3개의 중간값을 고르는 기술을 사용해 이것을 좀 완화할 수 있다\n",
    "* To choose the pivot value, we will consider the first, the middle, and the last element in the list.\n",
    "* 피벗 밸류를 선택하기 위해, 우리는 첫번쨰, 가운데, 그리고 리스트의 마지막 값을 고를 것이다.\n",
    "* In our example, those are 54, 77, and 20. \n",
    "* 여기 예제에서는 54,77,20이다.\n",
    "* Now pick the median value, in our case 54, and use it for the pivot value (of course, that was the pivot value we used originally).\n",
    "* 그리고 이 값중 중간값을 고르고 (여기선 54) 이것을 피벗 값으로 사용하는 것이다. \n",
    "* The idea is that in the case where the the first item in the list does not belong toward the middle of the list, the median of three will choose a better “middle” value. \n",
    "* 이 아이디어는 리스트의 첫번쨰 아이템을 리스트의 가운데로 가정하는것보다 더 나은 중간 값을 선정할 수 있을 것이다.\n",
    "* This will be particularly useful when the original list is somewhat sorted to begin with. \n",
    "* 이것은 원본 리스트가 어느정도 정렬 되어있을때 특히 유용하다\n",
    "* We leave the implementation of this pivot value selection as an exercise.\n",
    "* 이 피벗 밸류를 선택하는 구현은 exercise에 남겨놨다."
   ]
  },
  {
   "cell_type": "markdown",
   "metadata": {},
   "source": [
    "### Self Check\n",
    "\n",
    "* Q-2: Given the following list of numbers [14, 17, 13, 15, 19, 10, 3, 16, 9, 12] which answer shows the contents of the list after the second partitioning according to the quicksort algorithm?\n",
    "\n",
    "* A. [9, 3, 10, 13, 12]\n",
    "* B. [9, 3, 10, 13, 12, 14]\n",
    "* C. [9, 3, 10, 13, 12, 14, 17, 16, 15, 19]\n",
    "* D. [9, 3, 10, 13, 12, 14, 19, 16, 15, 17]\n",
    "\n",
    "* Q-3: Given the following list of numbers [1, 20, 11, 5, 2, 9, 16, 14, 13, 19] what would be the first pivot value using the median of 3 method?\n",
    "\n",
    "* A. 1\n",
    "* B. 9\n",
    "* C. 16\n",
    "* D. 19\n",
    "\n",
    "* Q-4: Which of the following sort algorithms are guaranteed to be O(n log n) even in the worst case?\n",
    "\n",
    "* A. Shell Sort\n",
    "* B. Quick Sort\n",
    "* C. Merge Sort\n",
    "* D. Insertion Sort"
   ]
  }
 ],
 "metadata": {
  "kernelspec": {
   "display_name": "Python 3",
   "language": "python",
   "name": "python3"
  },
  "language_info": {
   "codemirror_mode": {
    "name": "ipython",
    "version": 3
   },
   "file_extension": ".py",
   "mimetype": "text/x-python",
   "name": "python",
   "nbconvert_exporter": "python",
   "pygments_lexer": "ipython3",
   "version": "3.7.3"
  }
 },
 "nbformat": 4,
 "nbformat_minor": 2
}
