{
 "cells": [
  {
   "cell_type": "markdown",
   "metadata": {},
   "source": [
    "## 5.1. Objectives\n",
    "\n",
    "* To be able to explain and implement sequential search and binary search.\n",
    "* 순차적인 탐색과 이진탐색을 이해하고 구현하기\n",
    "\n",
    "* To be able to explain and implement selection sort, bubble sort, merge sort, quick sort, insertion sort, and shell sort.\n",
    "* 선택 정렬, 버블 정렬, 머지 정렬, 퀵 정렬, 삽입 정렬, 쉘 정렬을 설명하고 구현하기\n",
    "\n",
    "* To understand the idea of hashing as a search technique.\n",
    "* 탐색하는 기술로써 해싱 이해하기\n",
    "\n",
    "* To introduce the map abstract data type.\n",
    "* 추상 맵 데이터 타입 소개하기\n",
    "\n",
    "* To implement the map abstract data type using hashing.\n",
    "* 해싱을 사용해 맵 데이터 타입을 구현하기"
   ]
  }
 ],
 "metadata": {
  "kernelspec": {
   "display_name": "Python 3",
   "language": "python",
   "name": "python3"
  },
  "language_info": {
   "codemirror_mode": {
    "name": "ipython",
    "version": 3
   },
   "file_extension": ".py",
   "mimetype": "text/x-python",
   "name": "python",
   "nbconvert_exporter": "python",
   "pygments_lexer": "ipython3",
   "version": "3.7.3"
  }
 },
 "nbformat": 4,
 "nbformat_minor": 2
}
