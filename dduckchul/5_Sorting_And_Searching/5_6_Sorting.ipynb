{
 "cells": [
  {
   "cell_type": "markdown",
   "metadata": {},
   "source": [
    "## 5.6. Sorting\n",
    "\n",
    "* Sorting is the process of placing elements from a collection in some kind of order. * For example, a list of words could be sorted alphabetically or by length. \n",
    "* A list of cities could be sorted by population, by area, or by zip code. \n",
    "* We have already seen a number of algorithms that were able to benefit from having a sorted list (recall the final anagram example and the binary search)."
   ]
  },
  {
   "cell_type": "markdown",
   "metadata": {},
   "source": [
    "* There are many, many sorting algorithms that have been developed and analyzed. \n",
    "* This suggests that sorting is an important area of study in computer science.\n",
    "* Sorting a large number of items can take a substantial amount of computing resources. \n",
    "* Like searching, the efficiency of a sorting algorithm is related to the number of items being processed. \n",
    "* For small collections, a complex sorting method may be more trouble than it is worth. \n",
    "* The overhead may be too high. \n",
    "* On the other hand, for larger collections, we want to take advantage of as many improvements as possible. \n",
    "* In this section we will discuss several sorting techniques and compare them with respect to their running time."
   ]
  },
  {
   "cell_type": "markdown",
   "metadata": {},
   "source": [
    "* Before getting into specific algorithms, we should think about the operations that can be used to analyze a sorting process. \n",
    "* First, it will be necessary to compare two values to see which is smaller (or larger). \n",
    "* In order to sort a collection, it will be necessary to have some systematic way to compare values to see if they are out of order. \n",
    "* The total number of comparisons will be the most common way to measure a sort procedure. \n",
    "* Second, when values are not in the correct position with respect to one another, it may be necessary to exchange them. \n",
    "* This exchange is a costly operation and the total number of exchanges will also be important for evaluating the overall efficiency of the algorithm."
   ]
  }
 ],
 "metadata": {
  "kernelspec": {
   "display_name": "Python 3",
   "language": "python",
   "name": "python3"
  },
  "language_info": {
   "codemirror_mode": {
    "name": "ipython",
    "version": 3
   },
   "file_extension": ".py",
   "mimetype": "text/x-python",
   "name": "python",
   "nbconvert_exporter": "python",
   "pygments_lexer": "ipython3",
   "version": "3.7.3"
  }
 },
 "nbformat": 4,
 "nbformat_minor": 2
}
