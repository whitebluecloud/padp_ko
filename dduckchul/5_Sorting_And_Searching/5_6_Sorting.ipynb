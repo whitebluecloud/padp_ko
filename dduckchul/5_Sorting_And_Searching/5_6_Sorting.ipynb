{
 "cells": [
  {
   "cell_type": "markdown",
   "metadata": {},
   "source": [
    "## 5.6. Sorting\n",
    "## 5.6. 정렬\n",
    "\n",
    "* Sorting is the process of placing elements from a collection in some kind of order.\n",
    "* 정렬은 요소들을 컬렉션안에서 어떤 종류로 정렬하는 과정이다.\n",
    "* For example, a list of words could be sorted alphabetically or by length.\n",
    "* 예를들어, 단어의 리스트들은 알파벳순 혹은 길이순으로 정렬할 수 있다.\n",
    "* A list of cities could be sorted by population, by area, or by zip code. \n",
    "* 도시들의 리스트는 인구순이나, 지역순 혹은 우편번호순으로 정렬될 수 있다.\n",
    "* We have already seen a number of algorithms that were able to benefit from having a sorted list (recall the final anagram example and the binary search).\n",
    "* 우리는 이미 정렬된 리스트가 가지는 이득을 봤다 (이진 탐색의 예를 떠올려봐라)"
   ]
  },
  {
   "cell_type": "markdown",
   "metadata": {},
   "source": [
    "* There are many, many sorting algorithms that have been developed and analyzed. \n",
    "* 이미 개발되고, 분석된 정렬 알고리즘들은 수 없이 많다. \n",
    "* This suggests that sorting is an important area of study in computer science.\n",
    "* 여기서는 컴퓨터 과학을 공부함에 있어 정렬이 중요하다는 것을 알려준다.\n",
    "* Sorting a large number of items can take a substantial amount of computing resources. \n",
    "* 큰 갯수의 아이템을 정렬하는 것은 많은 컴퓨팅 자원을 필요로 한다. \n",
    "* Like searching, the efficiency of a sorting algorithm is related to the number of items being processed. \n",
    "* 탐색과 같이. 정렬 알고리즘의 효율성은 아이템이 몇번이나 처리되는지에대한 수에 연관되어 있다.\n",
    "* For small collections, a complex sorting method may be more trouble than it is worth.\n",
    "* 작은 컬렉션들에서는, 복잡한 정렬 메서드가 더 문제가 될것이다.\n",
    "* The overhead may be too high.\n",
    "* 그것의 오버헤드가 더 클것이기 때문이다.\n",
    "* On the other hand, for larger collections, we want to take advantage of as many improvements as possible.\n",
    "* 반면에, 큰 컬렉션들에 대해서 우리는 가능한 많은 효율성을 원할 것이다.\n",
    "* In this section we will discuss several sorting techniques and compare them with respect to their running time.\n",
    "* 이 섹션에서는 몇가지의 정렬 테크닉을 논하고, 그것들의 수행 시간을 비교해 볼 것이다."
   ]
  },
  {
   "cell_type": "markdown",
   "metadata": {},
   "source": [
    "* Before getting into specific algorithms, we should think about the operations that can be used to analyze a sorting process.\n",
    "* 특정한 알고리즘들을 다루기 전에, 우리는 정렬 프로세스 과정을 분석할때 쓰는 동작들에 대해 생각할 필요가 있다.\n",
    "* First, it will be necessary to compare two values to see which is smaller (or larger). \n",
    "* 먼저, 어떤게 더 작은지 비교할 두 가지 값이 있어야 할 것이다.\n",
    "* In order to sort a collection, it will be necessary to have some systematic way to compare values to see if they are out of order. \n",
    "* 컬렉션을 정렬하기 위해, 값들이 정확히 정렬되었는지 비교할수 있는 방법이 필요하다.\n",
    "* The total number of comparisons will be the most common way to measure a sort procedure. \n",
    "* 비교의 총 숫자가 정렬 프로시져를 비교하는데 가장 일반적인 방법이다.\n",
    "* Second, when values are not in the correct position with respect to one another, it may be necessary to exchange them. \n",
    "* 두번째로, 값들이 올바른 다른것과 비교했을때 올바른 위치에 있지 않을경우, 그것들을 바꿔야 할 것이다.\n",
    "* This exchange is a costly operation and the total number of exchanges will also be important for evaluating the overall efficiency of the algorithm.\n",
    "* 이 교환 작업들은 비용이 드는 작업이고, 모든 교환의 숫자가 알고리즘의 전체적 효율성을 비교하는데 중요한 도구가 될것이다."
   ]
  }
 ],
 "metadata": {
  "kernelspec": {
   "display_name": "Python 3",
   "language": "python",
   "name": "python3"
  },
  "language_info": {
   "codemirror_mode": {
    "name": "ipython",
    "version": 3
   },
   "file_extension": ".py",
   "mimetype": "text/x-python",
   "name": "python",
   "nbconvert_exporter": "python",
   "pygments_lexer": "ipython3",
   "version": "3.7.3"
  }
 },
 "nbformat": 4,
 "nbformat_minor": 2
}
