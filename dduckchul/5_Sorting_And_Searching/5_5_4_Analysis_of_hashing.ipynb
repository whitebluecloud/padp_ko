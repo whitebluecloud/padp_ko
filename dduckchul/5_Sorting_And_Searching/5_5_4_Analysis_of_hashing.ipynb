{
 "cells": [
  {
   "cell_type": "markdown",
   "metadata": {},
   "source": [
    "## 5.5.4. Analysis of Hashing\n",
    "## 5.5.4. 해싱 분석하기\n",
    "\n",
    "* We stated earlier that in the best case hashing would provide a O(1), constant time search technique. \n",
    "* 앞서 언급한것 처럼, 해싱의 best case는 O(1)이며, 탐색에 상수 시간이 소요된다.\n",
    "* However, due to collisions, the number of comparisons is typically not so simple.\n",
    "* 그러나 실제로는 충돌과 같이 비교하게 되는 수가 간단하지 않다.\n",
    "* Even though a complete analysis of hashing is beyond the scope of this text, we can state some well-known results that approximate the number of comparisons necessary to search for an item.\n",
    "* 비록 완전한 해싱 분석은 이 장의 범위를 벗어난 것이긴 하지만, 우리는 몇몇 잘 알려진 결과값을 통해 아이템을 찾기위해 필요한 비교를 추측할 수 있다.\n",
    "\n",
    "* The most important piece of information we need to analyze the use of a hash table is the load factor, λ. Conceptually, if λ is small, then there is a lower chance of collisions, meaning that items are more likely to be in the slots where they belong.\n",
    "* 해시 테이블에서 우리가 살펴볼 가장 중요한 정보는 load factor이다, 개념적으로 λ가 작다면 충돌의 확률이 적고, 그 아이템이 있어야할 슬롯에 존재할 확률이 높다는것을 의미한다.\n",
    "* If λ is large, meaning that the table is filling up, then there are more and more collisions.\n",
    "* 만약 λ 이 크다면, 테이블이 많이 차있는것을 의미하고, 많은 충돌이 있을 것이다.\n",
    "* This means that collision resolution is more difficult, requiring more comparisons to find an empty slot.\n",
    "* 이것은 충돌 해결이 더 어렵고, 비어있는 슬롯을 찾는데 더 많은 비교가 필요하다는 것을 의미한다.\n",
    "* With chaining, increased collisions means an increased number of items on each chain.\n",
    "* 체이닝을 사용했을때는, 늘어난 충돌은 각 아이템의 체인이 늘어나는것을 의미한다.\n",
    "\n",
    "* As before, we will have a result for both a successful and an unsuccessful search.\n",
    "* 이전에는, 우리는 성공적인 탐색과 성공적이지 않은 탐색 결과 둘다 있었다.\n",
    "* For a successful search using open addressing with linear probing, the average number of comparisons is approximately 1/2(1+1/(1−λ)) and an unsuccessful search gives 1/2(1+(1/(1−λ))^2) \n",
    "* If we are using chaining, the average number of comparisons is 1+λ2 for the successful case, and simply λ comparisons if the search is unsuccessful.\n",
    "* 오픈 어드레싱과 선형 탐색을 활용한 성공적인 검색으로, 평균적인 비교 숫자는 대략 1/2(1+1/(1−λ)) 이고, 성공하지 못한 검색은 1/2(1+(1/(1−λ))^2) 이다.\n",
    "* 만약 체이닝을 사용한다면, 평균적인 비교 숫자는 성공 케이스의 숫자는 1+λ2이고, 검색하지 못한다면  λ이다.\n"
   ]
  }
 ],
 "metadata": {
  "kernelspec": {
   "display_name": "Python 3",
   "language": "python",
   "name": "python3"
  },
  "language_info": {
   "codemirror_mode": {
    "name": "ipython",
    "version": 3
   },
   "file_extension": ".py",
   "mimetype": "text/x-python",
   "name": "python",
   "nbconvert_exporter": "python",
   "pygments_lexer": "ipython3",
   "version": "3.7.3"
  }
 },
 "nbformat": 4,
 "nbformat_minor": 2
}
