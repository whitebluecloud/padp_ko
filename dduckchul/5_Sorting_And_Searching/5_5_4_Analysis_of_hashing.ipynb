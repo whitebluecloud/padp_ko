{
 "cells": [
  {
   "cell_type": "markdown",
   "metadata": {},
   "source": [
    "## 5.5.4. Analysis of Hashing\n",
    "* We stated earlier that in the best case hashing would provide a O(1), constant time search technique. \n",
    "* However, due to collisions, the number of comparisons is typically not so simple. \n",
    "* Even though a complete analysis of hashing is beyond the scope of this text, we can state some well-known results that approximate the number of comparisons necessary to search for an item.\n",
    "\n",
    "* The most important piece of information we need to analyze the use of a hash table is the load factor, λ. Conceptually, if λ is small, then there is a lower chance of collisions, meaning that items are more likely to be in the slots where they belong. \n",
    "* If λ is large, meaning that the table is filling up, then there are more and more collisions. \n",
    "* This means that collision resolution is more difficult, requiring more comparisons to find an empty slot.\n",
    "* With chaining, increased collisions means an increased number of items on each chain.\n",
    "\n",
    "* As before, we will have a result for both a successful and an unsuccessful search. \n",
    "* For a successful search using open addressing with linear probing, the average number of comparisons is approximately 12(1+11−λ) and an unsuccessful search gives 12(1+(11−λ)2) If we are using chaining, the average number of comparisons is 1+λ2 for the successful case, and simply λ comparisons if the search is unsuccessful."
   ]
  }
 ],
 "metadata": {
  "kernelspec": {
   "display_name": "Python 3",
   "language": "python",
   "name": "python3"
  },
  "language_info": {
   "codemirror_mode": {
    "name": "ipython",
    "version": 3
   },
   "file_extension": ".py",
   "mimetype": "text/x-python",
   "name": "python",
   "nbconvert_exporter": "python",
   "pygments_lexer": "ipython3",
   "version": "3.7.3"
  }
 },
 "nbformat": 4,
 "nbformat_minor": 2
}
