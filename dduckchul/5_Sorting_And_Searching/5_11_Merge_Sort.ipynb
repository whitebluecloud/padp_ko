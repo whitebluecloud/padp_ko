{
 "cells": [
  {
   "cell_type": "markdown",
   "metadata": {},
   "source": [
    "## 5.11. The Merge Sort\n",
    "\n",
    "* We now turn our attention to using a divide and conquer strategy as a way to improve the performance of sorting algorithms. \n",
    "* The first algorithm we will study is the merge sort. Merge sort is a recursive algorithm that continually splits a list in half. \n",
    "* If the list is empty or has one item, it is sorted by definition (the base case).\n",
    "* If the list has more than one item, we split the list and recursively invoke a merge sort on both halves. \n",
    "* Once the two halves are sorted, the fundamental operation, called a merge, is performed. \n",
    "* Merging is the process of taking two smaller sorted lists and combining them together into a single, sorted, new list. \n",
    "* Figure 10 shows our familiar example list as it is being split by mergeSort. \n",
    "* Figure 11 shows the simple lists, now sorted, as they are merged back together."
   ]
  },
  {
   "cell_type": "markdown",
   "metadata": {},
   "source": [
    "* The mergeSort function shown in ActiveCode 1 begins by asking the base case question. \n",
    "* If the length of the list is less than or equal to one, then we already have a sorted list and no more processing is necessary. \n",
    "* If, on the other hand, the length is greater than one, then we use the Python slice operation to extract the left and right halves. \n",
    "* It is important to note that the list may not have an even number of items. \n",
    "* That does not matter, as the lengths will differ by at most one."
   ]
  },
  {
   "cell_type": "code",
   "execution_count": 1,
   "metadata": {},
   "outputs": [
    {
     "name": "stdout",
     "output_type": "stream",
     "text": [
      "Splitting  [54, 26, 93, 17, 77, 31, 44, 55, 20]\n",
      "Splitting  [54, 26, 93, 17]\n",
      "Splitting  [54, 26]\n",
      "Splitting  [54]\n",
      "Merging  [54]\n",
      "Splitting  [26]\n",
      "Merging  [26]\n",
      "Merging  [26, 54]\n",
      "Splitting  [93, 17]\n",
      "Splitting  [93]\n",
      "Merging  [93]\n",
      "Splitting  [17]\n",
      "Merging  [17]\n",
      "Merging  [17, 93]\n",
      "Merging  [17, 26, 54, 93]\n",
      "Splitting  [77, 31, 44, 55, 20]\n",
      "Splitting  [77, 31]\n",
      "Splitting  [77]\n",
      "Merging  [77]\n",
      "Splitting  [31]\n",
      "Merging  [31]\n",
      "Merging  [31, 77]\n",
      "Splitting  [44, 55, 20]\n",
      "Splitting  [44]\n",
      "Merging  [44]\n",
      "Splitting  [55, 20]\n",
      "Splitting  [55]\n",
      "Merging  [55]\n",
      "Splitting  [20]\n",
      "Merging  [20]\n",
      "Merging  [20, 55]\n",
      "Merging  [20, 44, 55]\n",
      "Merging  [20, 31, 44, 55, 77]\n",
      "Merging  [17, 20, 26, 31, 44, 54, 55, 77, 93]\n",
      "[17, 20, 26, 31, 44, 54, 55, 77, 93]\n"
     ]
    }
   ],
   "source": [
    "def mergeSort(alist):\n",
    "    print(\"Splitting \",alist)\n",
    "    if len(alist)>1:\n",
    "        mid = len(alist)//2\n",
    "        lefthalf = alist[:mid]\n",
    "        righthalf = alist[mid:]\n",
    "\n",
    "        mergeSort(lefthalf)\n",
    "        mergeSort(righthalf)\n",
    "\n",
    "        i=0\n",
    "        j=0\n",
    "        k=0\n",
    "        while i < len(lefthalf) and j < len(righthalf):\n",
    "            if lefthalf[i] <= righthalf[j]:\n",
    "                alist[k]=lefthalf[i]\n",
    "                i=i+1\n",
    "            else:\n",
    "                alist[k]=righthalf[j]\n",
    "                j=j+1\n",
    "            k=k+1\n",
    "\n",
    "        while i < len(lefthalf):\n",
    "            alist[k]=lefthalf[i]\n",
    "            i=i+1\n",
    "            k=k+1\n",
    "\n",
    "        while j < len(righthalf):\n",
    "            alist[k]=righthalf[j]\n",
    "            j=j+1\n",
    "            k=k+1\n",
    "    print(\"Merging \",alist)\n",
    "\n",
    "alist = [54,26,93,17,77,31,44,55,20]\n",
    "mergeSort(alist)\n",
    "print(alist)"
   ]
  },
  {
   "cell_type": "markdown",
   "metadata": {},
   "source": [
    "* Once the mergeSort function is invoked on the left half and the right half (lines 8–9), it is assumed they are sorted. \n",
    "* The rest of the function (lines 11–31) is responsible for merging the two smaller sorted lists into a larger sorted list. \n",
    "* Notice that the merge operation places the items back into the original list (alist) one at a time by repeatedly taking the smallest item from the sorted lists.\n",
    "* Note that the statement lefthalf[i] <= righthalf[j] ensures that the algorithm is stable. \n",
    "* A stable algorithm maintains the order of duplicate items in a list and is preferred in most cases.\n",
    "\n",
    "* The mergeSort function has been augmented with a print statement (line 2) to show the contents of the list being sorted at the start of each invocation. \n",
    "* There is also a print statement (line 32) to show the merging process. \n",
    "* The transcript shows the result of executing the function on our example list. \n",
    "* Note that the list with 44, 55, and 20 will not divide evenly. \n",
    "* The first split gives [44] and the second gives [55,20]. \n",
    "* It is easy to see how the splitting process eventually yields a list that can be immediately merged with other sorted lists."
   ]
  },
  {
   "cell_type": "markdown",
   "metadata": {},
   "source": [
    "* In order to analyze the mergeSort function, we need to consider the two distinct processes that make up its implementation. \n",
    "* First, the list is split into halves. \n",
    "* We already computed (in a binary search) that we can divide a list in half logn times where n is the length of the list. \n",
    "* The second process is the merge. \n",
    "* Each item in the list will eventually be processed and placed on the sorted list.\n",
    "* So the merge operation which results in a list of size n requires n operations. \n",
    "* The result of this analysis is that logn splits, each of which costs n for a total of nlogn operations. A merge sort is an O(nlogn) algorithm.\n",
    "\n",
    "* Recall that the slicing operator is O(k) where k is the size of the slice. \n",
    "* In order to guarantee that mergeSort will be O(nlogn) we will need to remove the slice operator. \n",
    "* Again, this is possible if we simply pass the starting and ending indices along with the list when we make the recursive call. We leave this as an exercise.\n",
    "\n",
    "* It is important to notice that the mergeSort function requires extra space to hold the two halves as they are extracted with the slicing operations. \n",
    "* This additional space can be a critical factor if the list is large and can make this sort problematic when working on large data sets."
   ]
  },
  {
   "cell_type": "markdown",
   "metadata": {},
   "source": [
    "### Self Check\n",
    "\n",
    "* Q-2: Given the following list of numbers: [21, 1, 26, 45, 29, 28, 2, 9, 16, 49, 39, 27, 43, 34, 46, 40] which answer illustrates the list to be sorted after 3 recursive calls to mergesort?\n",
    "\n",
    "* A. [16, 49, 39, 27, 43, 34, 46, 40]\n",
    "* B. [21,1]\n",
    "* C. [21, 1, 26, 45]\n",
    "* D. [21]"
   ]
  },
  {
   "cell_type": "markdown",
   "metadata": {},
   "source": [
    "* Q-3: Given the following list of numbers: [21, 1, 26, 45, 29, 28, 2, 9, 16, 49, 39, 27, 43, 34, 46, 40] which answer illustrates the first two lists to be merged?\n",
    "\n",
    "* A. [21, 1] and [26, 45]\n",
    "* B. [[1, 2, 9, 21, 26, 28, 29, 45] and [16, 27, 34, 39, 40, 43, 46, 49]\n",
    "* C. [21] and [1]\n",
    "* D. [9] and [16]"
   ]
  }
 ],
 "metadata": {
  "kernelspec": {
   "display_name": "Python 3",
   "language": "python",
   "name": "python3"
  },
  "language_info": {
   "codemirror_mode": {
    "name": "ipython",
    "version": 3
   },
   "file_extension": ".py",
   "mimetype": "text/x-python",
   "name": "python",
   "nbconvert_exporter": "python",
   "pygments_lexer": "ipython3",
   "version": "3.7.3"
  }
 },
 "nbformat": 4,
 "nbformat_minor": 2
}
