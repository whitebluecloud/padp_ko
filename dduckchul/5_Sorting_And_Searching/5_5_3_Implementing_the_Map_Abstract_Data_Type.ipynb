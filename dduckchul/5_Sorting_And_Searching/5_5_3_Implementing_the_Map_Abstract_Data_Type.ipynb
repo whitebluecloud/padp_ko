{
 "cells": [
  {
   "cell_type": "markdown",
   "metadata": {},
   "source": [
    "## 5.5.3. Implementing the Map Abstract Data Type\n",
    "* One of the most useful Python collections is the dictionary. \n",
    "* Recall that a dictionary is an associative data type where you can store key–data pairs. \n",
    "* The key is used to look up the associated data value. We often refer to this idea as a map.\n",
    "\n",
    "* The map abstract data type is defined as follows. \n",
    "* The structure is an unordered collection of associations between a key and a data value. \n",
    "* The keys in a map are all unique so that there is a one-to-one relationship between a key and a value. \n",
    "* The operations are given below.\n",
    "\n",
    "* Map() Create a new, empty map. It returns an empty map collection.\n",
    "* put(key,val) Add a new key-value pair to the map. If the key is already in the map then replace the old value with the new value.\n",
    "* get(key) Given a key, return the value stored in the map or None otherwise.\n",
    "* del Delete the key-value pair from the map using a statement of the form del map[key].\n",
    "* len() Return the number of key-value pairs stored in the map.\n",
    "* in Return True for a statement of the form key in map, if the given key is in the map, False otherwise.\n",
    "\n",
    "* One of the great benefits of a dictionary is the fact that given a key, we can look up the associated data value very quickly. \n",
    "* In order to provide this fast look up capability, we need an implementation that supports an efficient search. \n",
    "* We could use a list with sequential or binary search but it would be even better to use a hash table as described above since looking up an item in a hash table can approach O(1) performance.\n",
    "\n",
    "* In Listing 2 we use two lists to create a HashTable class that implements the Map abstract data type. \n",
    "* One list, called slots, will hold the key items and a parallel list, called data, will hold the data values.\n",
    "* When we look up a key, the corresponding position in the data list will hold the associated data value. \n",
    "* We will treat the key list as a hash table using the ideas presented earlier. \n",
    "* Note that the initial size for the hash table has been chosen to be 11. \n",
    "* Although this is arbitrary, it is important that the size be a prime number so that the collision resolution algorithm can be as efficient as possible."
   ]
  },
  {
   "cell_type": "code",
   "execution_count": 1,
   "metadata": {},
   "outputs": [],
   "source": [
    "# Listing 2\n",
    "\n",
    "class HashTable:\n",
    "    def __init__(self):\n",
    "        self.size = 11\n",
    "        self.slots = [None] * self.size\n",
    "        self.data = [None] * self.size"
   ]
  },
  {
   "cell_type": "markdown",
   "metadata": {},
   "source": [
    "* hashfunction implements the simple remainder method. \n",
    "* The collision resolution technique is linear probing with a “plus 1” rehash function. \n",
    "* The put function (see Listing 3) assumes that there will eventually be an empty slot unless the key is already present in the self.slots. \n",
    "* It computes the original hash value and if that slot is not empty, iterates the rehash function until an empty slot occurs. \n",
    "* If a nonempty slot already contains the key, the old data value is replaced with the new data value. Dealing with the situation where there are no empty slots left is an exercise."
   ]
  },
  {
   "cell_type": "code",
   "execution_count": null,
   "metadata": {},
   "outputs": [],
   "source": [
    "# Listing 3\n",
    "\n",
    "def put(self,key,data):\n",
    "    hashvalue = self.hashfunction(key,len(self.slots))\n",
    "\n",
    "    if self.slots[hashvalue] == None:\n",
    "        self.slots[hashvalue] = key\n",
    "        self.data[hashvalue] = data\n",
    "    else:\n",
    "        if self.slots[hashvalue] == key:\n",
    "            self.data[hashvalue] = data  #replace\n",
    "        else:\n",
    "            nextslot = self.rehash(hashvalue,len(self.slots))\n",
    "            while self.slots[nextslot] != None and \\\n",
    "                      self.slots[nextslot] != key:\n",
    "        nextslot = self.rehash(nextslot,len(self.slots))\n",
    "\n",
    "            if self.slots[nextslot] == None:\n",
    "                self.slots[nextslot]=key\n",
    "                self.data[nextslot]=data\n",
    "            else:\n",
    "                self.data[nextslot] = data #replace\n",
    "\n",
    "def hashfunction(self,key,size):\n",
    "     return key%size\n",
    "\n",
    "def rehash(self,oldhash,size):\n",
    "    return (oldhash+1)%size"
   ]
  },
  {
   "cell_type": "markdown",
   "metadata": {},
   "source": [
    "* Likewise, the get function (see Listing 4) begins by computing the initial hash value. \n",
    "* If the value is not in the initial slot, rehash is used to locate the next possible position. \n",
    "* Notice that line 15 guarantees that the search will terminate by checking to make sure that we have not returned to the initial slot. \n",
    "* If that happens, we have exhausted all possible slots and the item must not be present.\n",
    "\n",
    "* The final methods of the HashTable class provide additional dictionary functionality. \n",
    "* We overload the __getitem__ and __setitem__ methods to allow access using``[]``. \n",
    "* This means that once a HashTable has been created, the familiar index operator will be available. \n",
    "* We leave the remaining methods as exercises."
   ]
  },
  {
   "cell_type": "code",
   "execution_count": null,
   "metadata": {},
   "outputs": [],
   "source": [
    "# Listing 4\n",
    "def get(self,key):\n",
    "    startslot = self.hashfunction(key,len(self.slots))\n",
    "\n",
    "    data = None\n",
    "    stop = False\n",
    "    found = False\n",
    "    position = startslot\n",
    "    while self.slots[position] != None and  \\\n",
    "                       not found and not stop:\n",
    "        if self.slots[position] == key:\n",
    "            found = True\n",
    "            data = self.data[position]\n",
    "        else:\n",
    "            position=self.rehash(position,len(self.slots))\n",
    "            if position == startslot:\n",
    "                stop = True\n",
    "    return data\n",
    "\n",
    "def __getitem__(self,key):\n",
    "    return self.get(key)\n",
    "\n",
    "def __setitem__(self,key,data):\n",
    "    self.put(key,data)"
   ]
  },
  {
   "cell_type": "markdown",
   "metadata": {},
   "source": [
    "* The following session shows the HashTable class in action.\n",
    "* First we will create a hash table and store some items with integer keys and string data values.\n"
   ]
  },
  {
   "cell_type": "code",
   "execution_count": null,
   "metadata": {},
   "outputs": [],
   "source": [
    "H=HashTable()\n",
    "H[54]=\"cat\"\n",
    "H[26]=\"dog\"\n",
    "H[93]=\"lion\"\n",
    "H[17]=\"tiger\"\n",
    "H[77]=\"bird\"\n",
    "H[31]=\"cow\"\n",
    "H[44]=\"goat\"\n",
    "H[55]=\"pig\"\n",
    "H[20]=\"chicken\"\n",
    "H.slots\n",
    "H.data"
   ]
  },
  {
   "cell_type": "markdown",
   "metadata": {},
   "source": [
    "* Next we will access and modify some items in the hash table. \n",
    "* Note that the value for the key 20 is being replaced."
   ]
  },
  {
   "cell_type": "code",
   "execution_count": null,
   "metadata": {},
   "outputs": [],
   "source": [
    "H[20]\n",
    "H[17]\n",
    "H[20]='duck'\n",
    "H[20]\n",
    "H.data\n",
    "print(H[99])"
   ]
  },
  {
   "cell_type": "markdown",
   "metadata": {},
   "source": [
    "* The complete hash table example can be found in ActiveCode 1."
   ]
  },
  {
   "cell_type": "code",
   "execution_count": null,
   "metadata": {},
   "outputs": [],
   "source": [
    "class HashTable:\n",
    "    def __init__(self):\n",
    "        self.size = 11\n",
    "        self.slots = [None] * self.size\n",
    "        self.data = [None] * self.size\n",
    "\n",
    "    def put(self,key,data):\n",
    "        hashvalue = self.hashfunction(key,len(self.slots))\n",
    "\n",
    "        if self.slots[hashvalue] == None:\n",
    "            self.slots[hashvalue] = key\n",
    "            self.data[hashvalue] = data\n",
    "        else:\n",
    "            if self.slots[hashvalue] == key:\n",
    "                self.data[hashvalue] = data  #replace\n",
    "            else:\n",
    "                nextslot = self.rehash(hashvalue,len(self.slots))\n",
    "                while self.slots[nextslot] != None and \\\n",
    "                          self.slots[nextslot] != key:\n",
    "                nextslot = self.rehash(nextslot,len(self.slots))\n",
    "\n",
    "            if self.slots[nextslot] == None:\n",
    "                self.slots[nextslot]=key\n",
    "                self.data[nextslot]=data\n",
    "            else:\n",
    "                self.data[nextslot] = data #replace\n",
    "\n",
    "    def hashfunction(self,key,size):\n",
    "         return key%size\n",
    "\n",
    "    def rehash(self,oldhash,size):\n",
    "        return (oldhash+1)%size\n",
    "\n",
    "    def get(self,key):\n",
    "        startslot = self.hashfunction(key,len(self.slots))\n",
    "\n",
    "        data = None\n",
    "        stop = False\n",
    "        found = False\n",
    "        position = startslot\n",
    "        while self.slots[position] != None and  \\\n",
    "                           not found and not stop:\n",
    "            if self.slots[position] == key:\n",
    "                found = True\n",
    "                data = self.data[position]\n",
    "            else:\n",
    "                position=self.rehash(position,len(self.slots))\n",
    "                if position == startslot:\n",
    "                    stop = True\n",
    "        return data\n",
    "\n",
    "    def __getitem__(self,key):\n",
    "        return self.get(key)\n",
    "\n",
    "    def __setitem__(self,key,data):\n",
    "        self.put(key,data)\n",
    "\n",
    "H=HashTable()\n",
    "H[54]=\"cat\"\n",
    "H[26]=\"dog\"\n",
    "H[93]=\"lion\"\n",
    "H[17]=\"tiger\"\n",
    "H[77]=\"bird\"\n",
    "H[31]=\"cow\"\n",
    "H[44]=\"goat\"\n",
    "H[55]=\"pig\"\n",
    "H[20]=\"chicken\"\n",
    "print(H.slots)\n",
    "print(H.data)\n",
    "\n",
    "print(H[20])\n",
    "\n",
    "print(H[17])\n",
    "H[20]='duck'\n",
    "print(H[20])\n",
    "print(H[99])\n"
   ]
  }
 ],
 "metadata": {
  "kernelspec": {
   "display_name": "Python 3",
   "language": "python",
   "name": "python3"
  },
  "language_info": {
   "codemirror_mode": {
    "name": "ipython",
    "version": 3
   },
   "file_extension": ".py",
   "mimetype": "text/x-python",
   "name": "python",
   "nbconvert_exporter": "python",
   "pygments_lexer": "ipython3",
   "version": "3.7.3"
  }
 },
 "nbformat": 4,
 "nbformat_minor": 2
}
