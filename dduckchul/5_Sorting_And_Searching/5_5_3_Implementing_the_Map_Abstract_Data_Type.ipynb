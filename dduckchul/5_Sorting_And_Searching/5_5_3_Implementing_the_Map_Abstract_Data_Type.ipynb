{
 "cells": [
  {
   "cell_type": "markdown",
   "metadata": {},
   "source": [
    "## 5.5.3. Implementing the Map Abstract Data Type\n",
    "## 5.5.3 맵 추상 데이터 타입 구현하기\n",
    "* One of the most useful Python collections is the dictionary. \n",
    "* 파이선의 가장 사용하기 좋은 컬렉션중 하나는 Dictionary이다.\n",
    "* Recall that a dictionary is an associative data type where you can store key–data pairs.\n",
    "* 딕셔너리 형은 키-데이터 쌍의 연관있는 데이터 유형임을 기억해라.\n",
    "* The key is used to look up the associated data value. We often refer to this idea as a map.\n",
    "* 키는 연관되어 있는 데이터 값을 찾기 위해 사용된다. 우리는 종종 이것을 map이라고 말하기도 한다.\n",
    "\n",
    "* The map abstract data type is defined as follows. \n",
    "* map 추상 데이터 타입은 아래와 같이 정의된다.\n",
    "* The structure is an unordered collection of associations between a key and a data value. \n",
    "* 구조는 키와 데이터 쌍으로 연결된 정렬되지 않은 컬렉션이다.\n",
    "* The keys in a map are all unique so that there is a one-to-one relationship between a key and a value. \n",
    "* 맵 안에 있는 키들은 모두 유일하며, 키와 값의 관계는 1대1관계이다.\n",
    "* The operations are given below.\n",
    "* 오퍼레이션은 다음과 같다\n",
    "\n",
    "* Map() Create a new, empty map. It returns an empty map collection.\n",
    "* Map() 는 새로운, 비어있는 맵을 만든다, 이것은 빈 맵 컬렉션을 반환한다.\n",
    "* put(key,val) Add a new key-value pair to the map. If the key is already in the map then replace the old value with the new value.\n",
    "* put(key,val)은 새로운 키 밸류 쌍을 맵에 추가한다. 만약 키가 이미 존재한다면 이전 값을 새로운 값으로 바꾼다.\n",
    "* get(key) Given a key, return the value stored in the map or None otherwise.\n",
    "* get(key) 는 주어진 키에 맞는 값을 반환하거나, 없으면 None을 반환한다.\n",
    "* del Delete the key-value pair from the map using a statement of the form del map[key].\n",
    "* del은 키밸류 쌍을 맵에서 지운다\n",
    "* len() Return the number of key-value pairs stored in the map.\n",
    "* len()은 맵에 저장되어있는 키-밸류 쌍의 저장된 수를 반환한다\n",
    "* in Return True for a statement of the form key in map, if the given key is in the map, False otherwise.\n",
    "* in은 맵에 해당하는 key가 있다면 True를 반환한다. 그렇지 않다면 False를 반환한다.\n",
    "\n",
    "* One of the great benefits of a dictionary is the fact that given a key, we can look up the associated data value very quickly. \n",
    "* 딕셔너리의 큰 강점중 하나는 주어진 키를 통해 연관된 데이터를 매우 빠르게 찾을수 있는 것이다.\n",
    "* In order to provide this fast look up capability, we need an implementation that supports an efficient search. \n",
    "* 빠르게 찾아볼 수 있는 능력을 통해, 우리는 효율적인 탐색을 구현할 것이다.\n",
    "* We could use a list with sequential or binary search but it would be even better to use a hash table as described above since looking up an item in a hash table can approach O(1) performance.\n",
    "* 우리는 리스트를 사용해 순차적이나, 이진 탐색을 구현했지만 hash table을 사용하여 위에 나와있는 것 처럼 찾는것을 구현한다면, O(1)의 속도로 해시 테이블에 접근할 수 있다.\n",
    "\n",
    "* In Listing 2 we use two lists to create a HashTable class that implements the Map abstract data type.\n",
    "* 리스팅 2에서 두개의 리스트를 사용해 해시테이블 클래스를 만들고, Map 추상 데이터 타입을 구현하는 것을 볼수있다.\n",
    "* One list, called slots, will hold the key items and a parallel list, called data, will hold the data values.\n",
    "* 슬롯으로 불리는 하나의 리스트는 키를 저장할 것이다. 그리고 병렬 리스트인 데이터는 데이터 값을 들고 있을 것이다.\n",
    "* When we look up a key, the corresponding position in the data list will hold the associated data value. \n",
    "* 우리가 키를 찾을때 대응하는 위치의 데이터가 데이터 값을 갖고 있을 것이다.\n",
    "* We will treat the key list as a hash table using the ideas presented earlier.\n",
    "* 우리는 이전에 설명한 아이디어 들로 키를 해시 테이블에서 다룰 것이다.\n",
    "* Note that the initial size for the hash table has been chosen to be 11.\n",
    "* 해시 테이블의 최초 사이즈로는 11을 정할 것이다.\n",
    "* Although this is arbitrary, it is important that the size be a prime number so that the collision resolution algorithm can be as efficient as possible.\n",
    "* 비록 이것이 임의의 숫자이지만 사이즈는 소수여야하고, 충돌 해결 알고리즘이 최대한 효율적이여야 한다."
   ]
  },
  {
   "cell_type": "code",
   "execution_count": 11,
   "metadata": {},
   "outputs": [],
   "source": [
    "# Listing 2\n",
    "\n",
    "class HashTable:\n",
    "    def __init__(self):\n",
    "        self.size = 11\n",
    "        self.slots = [None] * self.size\n",
    "        self.data = [None] * self.size"
   ]
  },
  {
   "cell_type": "markdown",
   "metadata": {},
   "source": [
    "* hashfunction implements the simple remainder method.\n",
    "* 해시 펑션은 단순한 remainder 메소드를 통해 구현할 것이다.\n",
    "* The collision resolution technique is linear probing with a “plus 1” rehash function.\n",
    "* 충돌 해결 테크닉은 선형탐색에서 +1 재 해싱 펑션을 사용해 할것이다.\n",
    "* The put function (see Listing 3) assumes that there will eventually be an empty slot unless the key is already present in the self.slots. \n",
    "* put 펑션은 비어있는 슬롯이 있을거라고 가정한다. (키가 self.slot에 이미 있다고 해도)\n",
    "* It computes the original hash value and if that slot is not empty, iterates the rehash function until an empty slot occurs. \n",
    "* 이것은 원래의 해시 값을 계산하고, 슬롯이 비어지 않으면 리해시 펑션을 반복해 비어있는 슬롯이 나올때까지 반복한다.\n",
    "* If a nonempty slot already contains the key, the old data value is replaced with the new data value. \n",
    "* 만약 비어있지 않은 슬롯이 키를 가지고 있다면, 이전 데이터 값은 새로운 데이터 값으로 변경된다.\n",
    "* Dealing with the situation where there are no empty slots left is an exercise.\n",
    "* 비어있는 슬롯이 없는 상황을 다루는 것은 연습문제로 두었다"
   ]
  },
  {
   "cell_type": "code",
   "execution_count": 12,
   "metadata": {},
   "outputs": [],
   "source": [
    "# Listing 3\n",
    "\n",
    "def put(self,key,data):\n",
    "    hashvalue = self.hashfunction(key,len(self.slots))\n",
    "\n",
    "    if self.slots[hashvalue] == None:\n",
    "        self.slots[hashvalue] = key\n",
    "        self.data[hashvalue] = data\n",
    "    else:\n",
    "        if self.slots[hashvalue] == key:\n",
    "            self.data[hashvalue] = data  #replace\n",
    "        else:\n",
    "            nextslot = self.rehash(hashvalue,len(self.slots))\n",
    "            while self.slots[nextslot] != None and \\\n",
    "                      self.slots[nextslot] != key:\n",
    "                nextslot = self.rehash(nextslot,len(self.slots))\n",
    "\n",
    "            if self.slots[nextslot] == None:\n",
    "                self.slots[nextslot]=key\n",
    "                self.data[nextslot]=data\n",
    "            else:\n",
    "                self.data[nextslot] = data #replace\n",
    "\n",
    "def hashfunction(self,key,size):\n",
    "     return key%size\n",
    "\n",
    "def rehash(self,oldhash,size):\n",
    "    return (oldhash+1)%size"
   ]
  },
  {
   "cell_type": "markdown",
   "metadata": {},
   "source": [
    "* Likewise, the get function (see Listing 4) begins by computing the initial hash value.\n",
    "* 이와같이, get 펑션은 처음 해시 값을 계산하는 것부터 시작한다.\n",
    "* If the value is not in the initial slot, rehash is used to locate the next possible position. \n",
    "* 만약 값이 최초 슬롯에 없다면, 다음 가능한 위치를 가리키기 위해 리해싱 한다.\n",
    "* Notice that line 15 guarantees that the search will terminate by checking to make sure that we have not returned to the initial slot. \n",
    "* 15라인은 최초 슬롯에 돌아갔는지 체크하여 탐색을 종료하는것을 보증한다.\n",
    "* If that happens, we have exhausted all possible slots and the item must not be present.\n",
    "* 만약 이것이 일어난다면, 모든 가능한 슬롯을 사용하고 아이템은 없어야 한다.\n",
    "* The final methods of the HashTable class provide additional dictionary functionality. \n",
    "* 해시 테이블의 마지막 메서드는 추가적인 사전적 기능이다.\n",
    "* We overload the __getitem__ and __setitem__ methods to allow access using``[]``. \n",
    "* 우리는 getitem과 setitem을 구현하여 [] 을 사용해 접근 가능하게 해준다.\n",
    "* This means that once a HashTable has been created, the familiar index operator will be available. \n",
    "* We leave the remaining methods as exercises.\n",
    "* 이것은 해시 테이블이 만들어질때, 친근한 인덱스 오퍼레이터를 사용할수 있도록 해준다.\n",
    "* 우리는 남은 메서드를 연습문제로 남겨두었다."
   ]
  },
  {
   "cell_type": "code",
   "execution_count": 13,
   "metadata": {},
   "outputs": [],
   "source": [
    "# Listing 4\n",
    "def get(self,key):\n",
    "    startslot = self.hashfunction(key,len(self.slots))\n",
    "\n",
    "    data = None\n",
    "    stop = False\n",
    "    found = False\n",
    "    position = startslot\n",
    "    while self.slots[position] != None and  \\\n",
    "                       not found and not stop:\n",
    "        if self.slots[position] == key:\n",
    "            found = True\n",
    "            data = self.data[position]\n",
    "        else:\n",
    "            position=self.rehash(position,len(self.slots))\n",
    "            if position == startslot:\n",
    "                stop = True\n",
    "    return data\n",
    "\n",
    "def __getitem__(self,key):\n",
    "    return self.get(key)\n",
    "\n",
    "def __setitem__(self,key,data):\n",
    "    self.put(key,data)"
   ]
  },
  {
   "cell_type": "markdown",
   "metadata": {},
   "source": [
    "* The following session shows the HashTable class in action.\n",
    "* 다음 세션은 해시 테이블 클래스를 나타낸다.\n",
    "* First we will create a hash table and store some items with integer keys and string data values.\n",
    "* 먼저 우리는 해시 테이블을 만들고 정수형 키와 문자열 데이터로 이뤄진 몇몇 아이템을 저장해 둘것이다."
   ]
  },
  {
   "cell_type": "code",
   "execution_count": 19,
   "metadata": {},
   "outputs": [
    {
     "data": {
      "text/plain": [
       "['bird',\n",
       " 'goat',\n",
       " 'pig',\n",
       " 'chicken',\n",
       " 'dog',\n",
       " 'lion',\n",
       " 'tiger',\n",
       " None,\n",
       " None,\n",
       " 'cow',\n",
       " 'cat']"
      ]
     },
     "execution_count": 19,
     "metadata": {},
     "output_type": "execute_result"
    }
   ],
   "source": [
    "H=HashTable()\n",
    "H[54]=\"cat\"\n",
    "H[26]=\"dog\"\n",
    "H[93]=\"lion\"\n",
    "H[17]=\"tiger\"\n",
    "H[77]=\"bird\"\n",
    "H[31]=\"cow\"\n",
    "H[44]=\"goat\"\n",
    "H[55]=\"pig\"\n",
    "H[20]=\"chicken\"\n",
    "H.slots\n",
    "H.data"
   ]
  },
  {
   "cell_type": "markdown",
   "metadata": {},
   "source": [
    "* Next we will access and modify some items in the hash table.\n",
    "* 다음으로, 우리는 몇몇 아이템에 접근해 수정할 것이다.\n",
    "* Note that the value for the key 20 is being replaced.\n",
    "* 20으로 된 키가 교체되는것을 주의해라"
   ]
  },
  {
   "cell_type": "code",
   "execution_count": 20,
   "metadata": {},
   "outputs": [
    {
     "name": "stdout",
     "output_type": "stream",
     "text": [
      "None\n"
     ]
    }
   ],
   "source": [
    "H[20]\n",
    "H[17]\n",
    "H[20]='duck'\n",
    "H[20]\n",
    "H.data\n",
    "print(H[99])"
   ]
  },
  {
   "cell_type": "markdown",
   "metadata": {},
   "source": [
    "* The complete hash table example can be found in ActiveCode 1.\n",
    "* 완전한 해시 테이블의 예제는 ActiveCode 1에 있다."
   ]
  },
  {
   "cell_type": "code",
   "execution_count": 17,
   "metadata": {},
   "outputs": [
    {
     "name": "stdout",
     "output_type": "stream",
     "text": [
      "[77, 44, 55, 20, 26, 93, 17, None, None, 31, 54]\n",
      "['bird', 'goat', 'pig', 'chicken', 'dog', 'lion', 'tiger', None, None, 'cow', 'cat']\n",
      "chicken\n",
      "tiger\n",
      "duck\n",
      "None\n"
     ]
    }
   ],
   "source": [
    "class HashTable:\n",
    "    def __init__(self):\n",
    "        self.size = 11\n",
    "        self.slots = [None] * self.size\n",
    "        self.data = [None] * self.size\n",
    "\n",
    "    def put(self,key,data):\n",
    "        hashvalue = self.hashfunction(key,len(self.slots))\n",
    "\n",
    "        if self.slots[hashvalue] == None:\n",
    "            self.slots[hashvalue] = key\n",
    "            self.data[hashvalue] = data\n",
    "        else:\n",
    "            if self.slots[hashvalue] == key:\n",
    "                self.data[hashvalue] = data  #replace\n",
    "            else:\n",
    "                nextslot = self.rehash(hashvalue,len(self.slots))\n",
    "                while self.slots[nextslot] != None and \\\n",
    "                          self.slots[nextslot] != key:\n",
    "                    nextslot = self.rehash(nextslot,len(self.slots))\n",
    "            if self.slots[nextslot] == None:\n",
    "                self.slots[nextslot]=key\n",
    "                self.data[nextslot]=data\n",
    "            else:\n",
    "                self.data[nextslot] = data #replace\n",
    "\n",
    "    def hashfunction(self,key,size):\n",
    "         return key%size\n",
    "\n",
    "    def rehash(self,oldhash,size):\n",
    "        return (oldhash+1)%size\n",
    "\n",
    "    def get(self,key):\n",
    "        startslot = self.hashfunction(key,len(self.slots))\n",
    "\n",
    "        data = None\n",
    "        stop = False\n",
    "        found = False\n",
    "        position = startslot\n",
    "        while self.slots[position] != None and  \\\n",
    "                           not found and not stop:\n",
    "            if self.slots[position] == key:\n",
    "                found = True\n",
    "                data = self.data[position]\n",
    "            else:\n",
    "                position=self.rehash(position,len(self.slots))\n",
    "                if position == startslot:\n",
    "                    stop = True\n",
    "        return data\n",
    "\n",
    "    def __getitem__(self,key):\n",
    "        return self.get(key)\n",
    "\n",
    "    def __setitem__(self,key,data):\n",
    "        self.put(key,data)\n",
    "\n",
    "H=HashTable()\n",
    "H[54]=\"cat\"\n",
    "H[26]=\"dog\"\n",
    "H[93]=\"lion\"\n",
    "H[17]=\"tiger\"\n",
    "H[77]=\"bird\"\n",
    "H[31]=\"cow\"\n",
    "H[44]=\"goat\"\n",
    "H[55]=\"pig\"\n",
    "H[20]=\"chicken\"\n",
    "print(H.slots)\n",
    "print(H.data)\n",
    "\n",
    "print(H[20])\n",
    "\n",
    "print(H[17])\n",
    "H[20]='duck'\n",
    "print(H[20])\n",
    "print(H[99])\n"
   ]
  }
 ],
 "metadata": {
  "kernelspec": {
   "display_name": "Python 3",
   "language": "python",
   "name": "python3"
  },
  "language_info": {
   "codemirror_mode": {
    "name": "ipython",
    "version": 3
   },
   "file_extension": ".py",
   "mimetype": "text/x-python",
   "name": "python",
   "nbconvert_exporter": "python",
   "pygments_lexer": "ipython3",
   "version": "3.7.3"
  }
 },
 "nbformat": 4,
 "nbformat_minor": 2
}
