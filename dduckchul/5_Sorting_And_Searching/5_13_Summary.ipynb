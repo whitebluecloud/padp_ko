{
 "cells": [
  {
   "cell_type": "markdown",
   "metadata": {},
   "source": [
    "# 5.13. Summary\n",
    "* A sequential search is O(n) for ordered and unordered lists.\n",
    "\n",
    "* A binary search of an ordered list is O(logn) in the worst case.\n",
    "\n",
    "* Hash tables can provide constant time searching.\n",
    "\n",
    "* A bubble sort, a selection sort, and an insertion sort are O(n2) algorithms.\n",
    "\n",
    "* A shell sort improves on the insertion sort by sorting incremental sublists. It falls between O(n) and O(n2).\n",
    "\n",
    "* A merge sort is O(nlogn), but requires additional space for the merging process.\n",
    "\n",
    "* A quick sort is O(nlogn), but may degrade to O(n2) if the split points are not near the middle of the list. It does not require additional space."
   ]
  }
 ],
 "metadata": {
  "kernelspec": {
   "display_name": "Python 3",
   "language": "python",
   "name": "python3"
  },
  "language_info": {
   "codemirror_mode": {
    "name": "ipython",
    "version": 3
   },
   "file_extension": ".py",
   "mimetype": "text/x-python",
   "name": "python",
   "nbconvert_exporter": "python",
   "pygments_lexer": "ipython3",
   "version": "3.7.3"
  }
 },
 "nbformat": 4,
 "nbformat_minor": 2
}
