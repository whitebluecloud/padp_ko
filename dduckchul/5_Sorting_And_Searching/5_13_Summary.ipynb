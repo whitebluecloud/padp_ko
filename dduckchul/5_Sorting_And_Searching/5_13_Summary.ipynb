{
 "cells": [
  {
   "cell_type": "markdown",
   "metadata": {},
   "source": [
    "# 5.13. Summary\n",
    "* A sequential search is O(n) for ordered and unordered lists.\n",
    "* 순차적인 탐색은 정렬 되어있던 되어있지 않던 O(n)의 시간이 걸린다.\n",
    "\n",
    "* A binary search of an ordered list is O(logn) in the worst case.\n",
    "* 정렬된 리스트의 이진 탐색은 O(logn)이 소요된다.\n",
    "\n",
    "* Hash tables can provide constant time searching.\n",
    "* 해시 테이블은 탐색에 상수의 시간이 소요된다.\n",
    "\n",
    "* A bubble sort, a selection sort, and an insertion sort are O(n2) algorithms.\n",
    "* 버블소트, 선택소트, 삽입정렬은 O(n^2)의 시간이 소요되는 알고리즘이다.\n",
    "\n",
    "* A shell sort improves on the insertion sort by sorting incremental sublists. It falls between O(n) and O(n2).\n",
    "* 쉘소트는 insertion sort를 개선하고 이것은 O(n)과 O(n^2) 사이의 시간이 소요된다.\n",
    "\n",
    "* A merge sort is O(nlogn), but requires additional space for the merging process.\n",
    "* 머지 소트는 O(nlogn)이 소요되지만, 머징하는 과정에서 추가적인 공간이 필요하다.\n",
    "\n",
    "* A quick sort is O(nlogn), but may degrade to O(n2) if the split points are not near the middle of the list. It does not require additional space.\n",
    "* 퀵소트는 O(nlogn)으로 수행될것이지만, 스플릿 포인트가 리스트의 가운데 있지 않다면 O(n^2)이 소요될 수도 있다. 이것은 추가적 공간이 필요하지 않다."
   ]
  }
 ],
 "metadata": {
  "kernelspec": {
   "display_name": "Python 3",
   "language": "python",
   "name": "python3"
  },
  "language_info": {
   "codemirror_mode": {
    "name": "ipython",
    "version": 3
   },
   "file_extension": ".py",
   "mimetype": "text/x-python",
   "name": "python",
   "nbconvert_exporter": "python",
   "pygments_lexer": "ipython3",
   "version": "3.7.3"
  }
 },
 "nbformat": 4,
 "nbformat_minor": 2
}
