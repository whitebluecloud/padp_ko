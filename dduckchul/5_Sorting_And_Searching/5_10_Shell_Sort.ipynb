{
 "cells": [
  {
   "cell_type": "markdown",
   "metadata": {},
   "source": [
    "# 5.10. The Shell Sort\n",
    "# 5.10. 쉘 소트\n",
    "\n",
    "* The shell sort, sometimes called the “diminishing increment sort,” improves on the insertion sort by breaking the original list into a number of smaller sublists, each of which is sorted using an insertion sort. \n",
    "* 쉘 정렬은 떄때로 \"diminishing increment sort\" 라고 불리는데, insertion sort를 개선하여 원래 리스트를 작은 서브리스트 들로 나눈다음, 각각을 삽입 정렬 하는 것이다.\n",
    "* The unique way that these sublists are chosen is the key to the shell sort.\n",
    "* 이 독특한 방법인 서브리스트를 선택하는 방식이 쉘 소트의 핵심이다.\n",
    "* Instead of breaking the list into sublists of contiguous items, the shell sort uses an increment i, sometimes called the gap, to create a sublist by choosing all items that are i items apart.\n",
    "* 연속되는 아이템을 여러개의 서브리스트로 나누는 대신에, 쉘소트는 i를 증가해가며 (이것은 Gap이라고도 불린다), 모든 아이템이 선택되고 i만큼 떨어져 있는 서브리스트를 만든다.\n",
    "\n",
    "* This can be seen in Figure 6. \n",
    "* Figure 6에서 이것을 확인할 수 있다.\n",
    "* This list has nine items. \n",
    "* 이 리스트는 9개의 아이템을 가지고 있다.\n",
    "* If we use an increment of three, there are three sublists, each of which can be sorted by an insertion sort.\n",
    "* 만약 우리가 3개만큼 증가한다면 3개의 서브리스트를 가지고, 각각 리스트들은 insertion sort로 정렬할 수 있다.\n",
    "* After completing these sorts, we get the list shown in Figure 7.\n",
    "* 이 정렬을 행한 다음의 리스트는 figure 7과 같다.\n",
    "* Although this list is not completely sorted, something very interesting has happened. \n",
    "* 비록 이 리스트가 완전히 정렬되어 있지는 않지만, 매우 흥미로운 현상이 일어난다.\n",
    "* By sorting the sublists, we have moved the items closer to where they actually belong.\n",
    "* 서브 리스트를 정렬 함으로써, 우리는 아이템들을 실제로 존재하는 위치와 가깝게 만들었다."
   ]
  },
  {
   "cell_type": "markdown",
   "metadata": {},
   "source": [
    "* Figure 8 shows a final insertion sort using an increment of one; in other words, a standard insertion sort. \n",
    "* Figure 8은 최종 삽입정렬을 1의 증가로 말한것이다. 즉 평범한 insertion sort를 수행한 것이다.\n",
    "* Note that by performing the earlier sublist sorts, we have now reduced the total number of shifting operations necessary to put the list in its final order. \n",
    "* 우리가 이전에 수행한 sublist의 정렬로 인해, 우리는 최종적으로 리스트를 정렬할때 shifting 작업을 적게 수행하여 작업할 수 있을 것이다.\n",
    "* For this case, we need only four more shifts to complete the process.\n",
    "* 이 경우에는, 우리는 4번의 프로세스만 추가로 더 수행하면 된다."
   ]
  },
  {
   "cell_type": "markdown",
   "metadata": {},
   "source": [
    "* We said earlier that the way in which the increments are chosen is the unique feature of the shell sort. \n",
    "* 우리는 이전에 쉘 소트의 독특한 특징이 몇번의 increment를 정하는것이다라고 했다.\n",
    "* The function shown in ActiveCode 1 uses a different set of increments. \n",
    "* 아래 코드에서는 increment의 수를 다르게 해보았다.\n",
    "* In this case, we begin with n/2 sublists. \n",
    "* 이번에는 n/2개 서브 리스트가 있는 경우로 시작해 보자.\n",
    "* On the next pass, n/4 sublists are sorted. Eventually, a single list is sorted with the basic insertion sort. \n",
    "* 다음 단계에서, n/4 개의 서브리스트 들이 정렬되었을 것이다. 최종적으로, 한개의 리스트가 기본적인 삽입 정렬을 수행할 것이다.\n",
    "* Figure 9 shows the first sublists for our example using this increment.\n",
    "* Figure 9는 여기서 사용한 increment에서 첫번째 서브 리스트를 보여준다/\n",
    "\n",
    "* The following invocation of the shellSort function shows the partially sorted lists after each increment, with the final sort being an insertion sort with an increment of one.\n",
    "* 다음의 쉘소트 펑션은 부분적으로 정렬된 리스트가 각각의 increment마다 수행될 것이다, 마지막 정렬은 1의 increment를 가지는 삽입정렬이 된다."
   ]
  },
  {
   "cell_type": "code",
   "execution_count": 1,
   "metadata": {},
   "outputs": [
    {
     "name": "stdout",
     "output_type": "stream",
     "text": [
      "After increments of size 4 The list is [20, 26, 44, 17, 54, 31, 93, 55, 77]\n",
      "After increments of size 2 The list is [20, 17, 44, 26, 54, 31, 77, 55, 93]\n",
      "After increments of size 1 The list is [17, 20, 26, 31, 44, 54, 55, 77, 93]\n",
      "[17, 20, 26, 31, 44, 54, 55, 77, 93]\n"
     ]
    }
   ],
   "source": [
    "def shellSort(alist):\n",
    "    sublistcount = len(alist)//2\n",
    "    while sublistcount > 0:\n",
    "\n",
    "        for startposition in range(sublistcount):\n",
    "            gapInsertionSort(alist,startposition,sublistcount)\n",
    "\n",
    "        print(\"After increments of size\",sublistcount, \"The list is\",alist)\n",
    "\n",
    "        sublistcount = sublistcount // 2\n",
    "\n",
    "def gapInsertionSort(alist,start,gap):\n",
    "    for i in range(start+gap,len(alist),gap):\n",
    "\n",
    "        currentvalue = alist[i]\n",
    "        position = i\n",
    "\n",
    "        while position>=gap and alist[position-gap]>currentvalue:\n",
    "            alist[position]=alist[position-gap]\n",
    "            position = position-gap\n",
    "\n",
    "        alist[position]=currentvalue\n",
    "\n",
    "alist = [54,26,93,17,77,31,44,55,20]\n",
    "shellSort(alist)\n",
    "print(alist)"
   ]
  },
  {
   "cell_type": "markdown",
   "metadata": {},
   "source": [
    "* At first glance you may think that a shell sort cannot be better than an insertion sort, since it does a complete insertion sort as the last step.\n",
    "* 처음 봤을떄 당신은 아마 쉘 소트가 삽입 정렬보다 좋지 못할것이라 생각할것이다. 왜냐면 마지막 단계에서 완전한 삽입 정렬을 한번 수행하기 때문에.\n",
    "* It turns out, however, that this final insertion sort does not need to do very many comparisons (or shifts) since the list has been pre-sorted by earlier incremental insertion sorts, as described above. \n",
    "* 그러나, 마지막 삽입정렬은 많은 비교나 이동이 필요하지 않다 왜냐면 위에 설명한 서브리스트로 정렬을 계속 수형하기 때문임.\n",
    "* In other words, each pass produces a list that is “more sorted” than the previous one. \n",
    "* 다른 말로 표현하자면, 각 단계에서 조금더 정렬된 리스트를 만들어낸다. \n",
    "* This makes the final pass very efficient.\n",
    "* 이것은 마지막 단계를 매우 효율적이게 해준다.\n",
    "\n",
    "* Although a general analysis of the shell sort is well beyond the scope of this text, we can say that it tends to fall somewhere between O(n) and O(n^2), based on the behavior described above. \n",
    "* 쉘 소트에 대한 분석은 이 텍스트에서 다룰수 없는 부분이긴 하지만, 위 설명에 따르면 쉘소트는 O(n)과 O(n^2) 사이 어딘가에 위치할것이라고 할 수 있다.\n",
    "* For the increments shown in Listing 5, the performance is O(n^2).\n",
    "* 리스팅 5에 나온 increment로, 퍼포먼스는 O(n^2) 이다.\n",
    "* By changing the increment, for example using 2k−1 (1, 3, 7, 15, 31, and so on), a shell sort can perform at O(n32).\n",
    "* increment를 바꿈에 따라서, 예를들어 2^k-1의 increment를 사용한다면, shell sort는 O(n^3/2)로 동작한다."
   ]
  },
  {
   "cell_type": "markdown",
   "metadata": {},
   "source": [
    "### Self Check\n",
    "\n",
    "* Q-2: Given the following list of numbers: [5, 16, 20, 12, 3, 8, 9, 17, 19, 7] Which answer illustrates the contents of the list after all swapping is complete for a gap size of 3?\n",
    "\n",
    "* A. [5, 3, 8, 7, 16, 19, 9, 17, 20, 12]\n",
    "* B. [3, 7, 5, 8, 9, 12, 19, 16, 20, 17]\n",
    "* C. [3, 5, 7, 8, 9, 12, 16, 17, 19, 20]\n",
    "* D. [5, 16, 20, 3, 8, 12, 9, 17, 20, 7]"
   ]
  }
 ],
 "metadata": {
  "kernelspec": {
   "display_name": "Python 3",
   "language": "python",
   "name": "python3"
  },
  "language_info": {
   "codemirror_mode": {
    "name": "ipython",
    "version": 3
   },
   "file_extension": ".py",
   "mimetype": "text/x-python",
   "name": "python",
   "nbconvert_exporter": "python",
   "pygments_lexer": "ipython3",
   "version": "3.7.3"
  }
 },
 "nbformat": 4,
 "nbformat_minor": 2
}
