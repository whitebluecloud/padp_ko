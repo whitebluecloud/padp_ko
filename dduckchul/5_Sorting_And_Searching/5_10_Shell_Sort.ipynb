{
 "cells": [
  {
   "cell_type": "markdown",
   "metadata": {},
   "source": [
    "# 5.10. The Shell Sort\n",
    "* The shell sort, sometimes called the “diminishing increment sort,” improves on the insertion sort by breaking the original list into a number of smaller sublists, each of which is sorted using an insertion sort. \n",
    "* The unique way that these sublists are chosen is the key to the shell sort. \n",
    "* Instead of breaking the list into sublists of contiguous items, the shell sort uses an increment i, sometimes called the gap, to create a sublist by choosing all items that are i items apart.\n",
    "\n",
    "* This can be seen in Figure 6. This list has nine items. If we use an increment of three, there are three sublists, each of which can be sorted by an insertion sort.\n",
    "* After completing these sorts, we get the list shown in Figure 7. \n",
    "* Although this list is not completely sorted, something very interesting has happened. \n",
    "* By sorting the sublists, we have moved the items closer to where they actually belong."
   ]
  },
  {
   "cell_type": "markdown",
   "metadata": {},
   "source": [
    "* Figure 8 shows a final insertion sort using an increment of one; in other words, a standard insertion sort. \n",
    "* Note that by performing the earlier sublist sorts, we have now reduced the total number of shifting operations necessary to put the list in its final order. \n",
    "* For this case, we need only four more shifts to complete the process."
   ]
  },
  {
   "cell_type": "markdown",
   "metadata": {},
   "source": [
    "* We said earlier that the way in which the increments are chosen is the unique feature of the shell sort. \n",
    "* The function shown in ActiveCode 1 uses a different set of increments. \n",
    "* In this case, we begin with n2 sublists. \n",
    "* On the next pass, n4 sublists are sorted. Eventually, a single list is sorted with the basic insertion sort. \n",
    "* Figure 9 shows the first sublists for our example using this increment.\n",
    "\n",
    "* The following invocation of the shellSort function shows the partially sorted lists after each increment, with the final sort being an insertion sort with an increment of one."
   ]
  },
  {
   "cell_type": "code",
   "execution_count": 1,
   "metadata": {},
   "outputs": [
    {
     "name": "stdout",
     "output_type": "stream",
     "text": [
      "After increments of size 4 The list is [20, 26, 44, 17, 54, 31, 93, 55, 77]\n",
      "After increments of size 2 The list is [20, 17, 44, 26, 54, 31, 77, 55, 93]\n",
      "After increments of size 1 The list is [17, 20, 26, 31, 44, 54, 55, 77, 93]\n",
      "[17, 20, 26, 31, 44, 54, 55, 77, 93]\n"
     ]
    }
   ],
   "source": [
    "def shellSort(alist):\n",
    "    sublistcount = len(alist)//2\n",
    "    while sublistcount > 0:\n",
    "\n",
    "        for startposition in range(sublistcount):\n",
    "            gapInsertionSort(alist,startposition,sublistcount)\n",
    "\n",
    "        print(\"After increments of size\",sublistcount, \"The list is\",alist)\n",
    "\n",
    "        sublistcount = sublistcount // 2\n",
    "\n",
    "def gapInsertionSort(alist,start,gap):\n",
    "    for i in range(start+gap,len(alist),gap):\n",
    "\n",
    "        currentvalue = alist[i]\n",
    "        position = i\n",
    "\n",
    "        while position>=gap and alist[position-gap]>currentvalue:\n",
    "            alist[position]=alist[position-gap]\n",
    "            position = position-gap\n",
    "\n",
    "        alist[position]=currentvalue\n",
    "\n",
    "alist = [54,26,93,17,77,31,44,55,20]\n",
    "shellSort(alist)\n",
    "print(alist)"
   ]
  },
  {
   "cell_type": "markdown",
   "metadata": {},
   "source": [
    "* At first glance you may think that a shell sort cannot be better than an insertion sort, since it does a complete insertion sort as the last step. \n",
    "* It turns out, however, that this final insertion sort does not need to do very many comparisons (or shifts) since the list has been pre-sorted by earlier incremental insertion sorts, as described above. \n",
    "* In other words, each pass produces a list that is “more sorted” than the previous one. \n",
    "* This makes the final pass very efficient.\n",
    "\n",
    "* Although a general analysis of the shell sort is well beyond the scope of this text, we can say that it tends to fall somewhere between O(n) and O(n2), based on the behavior described above. \n",
    "* For the increments shown in Listing 5, the performance is O(n2). \n",
    "* By changing the increment, for example using 2k−1 (1, 3, 7, 15, 31, and so on), a shell sort can perform at O(n32)."
   ]
  },
  {
   "cell_type": "markdown",
   "metadata": {},
   "source": [
    "### Self Check\n",
    "\n",
    "* Q-2: Given the following list of numbers: [5, 16, 20, 12, 3, 8, 9, 17, 19, 7] Which answer illustrates the contents of the list after all swapping is complete for a gap size of 3?\n",
    "\n",
    "* A. [5, 3, 8, 7, 16, 19, 9, 17, 20, 12]\n",
    "* B. [3, 7, 5, 8, 9, 12, 19, 16, 20, 17]\n",
    "* C. [3, 5, 7, 8, 9, 12, 16, 17, 19, 20]\n",
    "* D. [5, 16, 20, 3, 8, 12, 9, 17, 20, 7]"
   ]
  }
 ],
 "metadata": {
  "kernelspec": {
   "display_name": "Python 3",
   "language": "python",
   "name": "python3"
  },
  "language_info": {
   "codemirror_mode": {
    "name": "ipython",
    "version": 3
   },
   "file_extension": ".py",
   "mimetype": "text/x-python",
   "name": "python",
   "nbconvert_exporter": "python",
   "pygments_lexer": "ipython3",
   "version": "3.7.3"
  }
 },
 "nbformat": 4,
 "nbformat_minor": 2
}
