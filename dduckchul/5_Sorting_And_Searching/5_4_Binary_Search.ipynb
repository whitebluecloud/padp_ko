{
 "cells": [
  {
   "cell_type": "markdown",
   "metadata": {},
   "source": [
    "## 5.4 Binary Search\n",
    "## 5.4 이진 탐색\n",
    "\n",
    "* It is possible to take greater advantage of the ordered list if we are clever with our comparisons. \n",
    "* 우리가 좀더 똑똑하게 비교할 수 있다면 정렬된 리스트에서 큰 이득을 얻을 수 있다.\n",
    "* In the sequential search, when we compare against the first item, there are at most n−1 more items to look through if the first item is not what we are looking for. \n",
    "* 순차적 탐색에서, 우리가 첫번째 아이템을 비교했을때 찾는 아이템이 나오지 않았다면, 우리가 앞으로 더 찾아야할 아이템이 많게는 n-1개 더 있는 것이다.\n",
    "* Instead of searching the list in sequence, a binary search will start by examining the middle item. \n",
    "* 리스트에서 순차적으로 탐색하는 것대신, 이진 탐색은 가운데 있는 아이템을 확인하며 시작할것이다.\n",
    "* If that item is the one we are searching for, we are done. \n",
    "* 만약 가운데 아이템이 우리가 찾는 아이템이면, 우린 다 한것이다.\n",
    "* If it is not the correct item, we can use the ordered nature of the list to eliminate half of the remaining items. \n",
    "* 만약 이것이 찾는 아이템이 아니라면, 정렬된 리스트의 특성을 사용해 나머지 아이템의 반을 없에버릴 수 있다.\n",
    "* If the item we are searching for is greater than the middle item, we know that the entire lower half of the list as well as the middle item can be eliminated from further consideration. \n",
    "* 만약 찾고자 하는 아이템이 가운데 아이템보다 크다면, 우리는 이것보다 적은 나머지 절반 리스트는 우리의 고려대상에서 제거될 수 있는것을 알수 있다\n",
    "* The item, if it is in the list, must be in the upper half.\n",
    "* 만약 아이템이 리스트 안에 있다면, 반드시 큰 절반 안에 있을 것이다.\n",
    "\n",
    "* We can then repeat the process with the upper half. \n",
    "* 우리는 이것을 큰 절반 안에서 반복 할 수 있다.\n",
    "* Start at the middle item and compare it against what we are looking for. \n",
    "* 가운데 아이템에서 시작해서, 우리가 찾고자 하는 아이템까지 반복할것이다.\n",
    "* Again, we either find it or split the list in half, therefore eliminating another large part of our possible search space. \n",
    "* 또다시, 우리는 이것을 찾았거나, 리스트를 반으로 나누면서 우리가 찾고자 하는 영역을 점차 출여나갈것이다.\n",
    "* Figure 3 shows how this algorithm can quickly find the value 54. \n",
    "* Figure 3은 54를 찾는 방법을 보여줄 것이다.\n",
    "* The complete function is shown in CodeLens 3.\n",
    "* 완성된 펑션은 아래 CodeLens3에 있다."
   ]
  },
  {
   "cell_type": "code",
   "execution_count": 2,
   "metadata": {},
   "outputs": [
    {
     "name": "stdout",
     "output_type": "stream",
     "text": [
      "False\n",
      "True\n"
     ]
    }
   ],
   "source": [
    "def binarySearch(alist, item):\n",
    "    first = 0\n",
    "    last = len(alist)-1\n",
    "    found = False\n",
    "\n",
    "    while first<=last and not found:\n",
    "        midpoint = (first + last)//2\n",
    "        if alist[midpoint] == item:\n",
    "            found = True\n",
    "        else:\n",
    "            if item < alist[midpoint]:\n",
    "                last = midpoint-1\n",
    "            else:\n",
    "                first = midpoint+1\n",
    "\n",
    "    return found\n",
    "\n",
    "testlist = [0, 1, 2, 8, 13, 17, 19, 32, 42,]\n",
    "print(binarySearch(testlist, 3))\n",
    "print(binarySearch(testlist, 13))\n",
    "\n",
    "# Binary Search of an Ordered List (search3)"
   ]
  },
  {
   "cell_type": "markdown",
   "metadata": {},
   "source": [
    "* Before we move on to the analysis, we should note that this algorithm is a great example of a divide and conquer strategy. \n",
    "* 분석으로 넘어가기 전에, 이 알고리즘은 분할 정복 전략의 훌륭한 예제라는 것을 알아야 한다.\n",
    "* Divide and conquer means that we divide the problem into smaller pieces, solve the smaller pieces in some way, and then reassemble the whole problem to get the result. \n",
    "* 분할과 정복은 우리가 문제를 아무 작은 조각으로 나누어, 이 작은 문제들을 해결하고 다시 합치면 전체 문제를 해결 할 수 있다는 것을 의미한다.\n",
    "* When we perform a binary search of a list, we first check the middle item. \n",
    "* 우리가 리스트에서 이진 탐색을 수행할때, 맨 처음에 가운데 아이템을 체크한다.\n",
    "* If the item we are searching for is less than the middle item, we can simply perform a binary search of the left half of the original list.\n",
    "* 만약 찾고자 하는 아이템이 가운데 아이템보다 작다면, 원래 리스트의 왼쪽 반에서 이진탐색을 수행하면 된다.\n",
    "* Likewise, if the item is greater, we can perform a binary search of the right half. \n",
    "* 이와같이, 만약 아이템이 더 크다면, 오른쪽 반에서 이진 탐색을 수행하면 된다.\n",
    "* Either way, this is a recursive call to the binary search function passing a smaller list. \n",
    "* 양쪽 모두 더 작은 리스트를 넘기면서 이진탐색을 재귀적으로 수행하면 된다.\n",
    "* CodeLens 4 shows this recursive version.\n",
    "* CodeLens 4는 이것의 재귀버전을 보여준다."
   ]
  },
  {
   "cell_type": "code",
   "execution_count": 3,
   "metadata": {},
   "outputs": [
    {
     "name": "stdout",
     "output_type": "stream",
     "text": [
      "False\n",
      "True\n"
     ]
    }
   ],
   "source": [
    "def binarySearch(alist, item):\n",
    "    if len(alist) == 0:\n",
    "        return False\n",
    "    else:\n",
    "        midpoint = len(alist)//2\n",
    "        if alist[midpoint]==item:\n",
    "            return True\n",
    "        else:\n",
    "            if item<alist[midpoint]:\n",
    "                return binarySearch(alist[:midpoint],item)\n",
    "            else:\n",
    "                return binarySearch(alist[midpoint+1:],item)\n",
    "\n",
    "testlist = [0, 1, 2, 8, 13, 17, 19, 32, 42,]\n",
    "print(binarySearch(testlist, 3))\n",
    "print(binarySearch(testlist, 13))\n",
    "\n",
    "# A Binary Search--Recursive Version (search4)"
   ]
  },
  {
   "cell_type": "markdown",
   "metadata": {},
   "source": [
    "## 5.4.1. Analysis of Binary Search\n",
    "## 5.4.1. 이진 탐색 분석\n",
    "\n",
    "* To analyze the binary search algorithm, we need to recall that each comparison eliminates about half of the remaining items from consideration.\n",
    "* 이진 탐색 알고리즘을 분석하기 위해, 우리는 각각의 비교를 수행하면서 우리의 고려대상에서 반을 없에는 것을 떠올려 볼 필요가 있다.\n",
    "* What is the maximum number of comparisons this algorithm will require to check the entire list? \n",
    "* 모든 리스트를 체크하기 위해서 최대 몇번의 비교가 필요할까?\n",
    "* If we start with n items, about n/2 items will be left after the first comparison. \n",
    "* n개의 아이템으로 시작하면, 맨 처음 비교에서 n/2개의 아이템이 남을 것이다.\n",
    "* After the second comparison, there will be about n/4. \n",
    "* 두번째 비교후에는 n/4개가 될것이다\n",
    "* Then n/8, n/16, and so on. How many times can we split the list? \n",
    "* 그리고 n/8개, n/16개 등등을 계속될것이다. 우리가 몇번이나 리스트를 나눌 수 있을 것인가?\n",
    "* Table 3 helps us to see the answer.\n",
    "* 3번 표에서 답을 알수 있을 것이다"
   ]
  },
  {
   "cell_type": "markdown",
   "metadata": {},
   "source": [
    "##  Table 3: Tabular Analysis for a Binary Search¶\n",
    "| Comparisons | Approximate Number of Items Left |\n",
    "|-------------|----------------------------------|\n",
    "| 1           | n/2                              |\n",
    "| 2           | n/4                              |\n",
    "| 3           | n/8                              |\n",
    "| …          |                                  |\n",
    "| i           | n/2^i                            |\n"
   ]
  },
  {
   "cell_type": "markdown",
   "metadata": {},
   "source": [
    "* When we split the list enough times, we end up with a list that has just one item. \n",
    "* 우리가 리스트를 충분히 나눴다면, 한개의 아이템만 있는 리스트가 나올것이다.\n",
    "* Either that is the item we are looking for or it is not. \n",
    "* 그것이 우리가 찾는것이거나, 우리가 찾는게 아닐수도 있다.\n",
    "* Either way, we are done. \n",
    "* 어느쪽이든, 우리는 다 한것이다.\n",
    "* The number of comparisons necessary to get to this point is i where n/2^i=1. \n",
    "* 이 지점까지 가기 위한 비교의 수는 n/2^i = 1이 되는 지점이다.\n",
    "* Solving for i gives us i=logn. \n",
    "* i는 logn이 될것이다.\n",
    "* The maximum number of comparisons is logarithmic with respect to the number of items in the list. \n",
    "* 비교의 최대 숫자는 리스트 안에 있는 아이템의 숫자에 따른 로그숫자가 될것이다.\n",
    "* Therefore, the binary search is O(logn).\n",
    "* 그러므로, 이진 탐색은 O(logn)의 복잡도를 지닌다.\n",
    "\n",
    "* One additional analysis issue needs to be addressed.\n",
    "* 추가적인 분석이 더 필요하다.\n",
    "* In the recursive solution shown above, the recursive call,\n",
    "* 위의 재귀적 해결책에서 나타나듯이,\n",
    "\n",
    "``` python\n",
    "binarySearch(alist[:midpoint],item)\n",
    "```\n",
    "\n",
    "* uses the slice operator to create the left half of the list that is then passed to the next invocation (similarly for the right half as well).\n",
    "* 위 호출에는 slice 연산자를 사용해 다음 호출시에 왼쪽 절반을 호출하고 있다. (오른쪽 절반을 넘길때도 비슷함)\n",
    "* The analysis that we did above assumed that the slice operator takes constant time. \n",
    "* 위의 슬라이스 연산자는 상수의 시간을 가진다고 가정했다.\n",
    "* However, we know that the slice operator in Python is actually O(k).\n",
    "* 그러나, 우리는 파이썬의 slice 연산자가 O(k)의 시간을 가진다는 것을 알고있다.\n",
    "* This means that the binary search using slice will not perform in strict logarithmic time. \n",
    "* 이것은 우리가 slice를 사용한 이진 탐색이 log시간으로 수행되지 않는다는 것을 나타난다.\n",
    "* Luckily this can be remedied by passing the list along with the starting and ending indices.\n",
    "* 다행히도 이것은 리스트의 시작 지점과 종료 지점을 전달하면 해결할 수 있다.\n",
    "* The indices can be calculated as we did in Listing 3. \n",
    "* 이 인다이스는 Listing 3에서 계산 할 수 있다.\n",
    "* We leave this implementation as an exercise.\n",
    "* 이것은 이후 exercise에서 구현할 것이다.\n",
    "\n",
    "* Even though a binary search is generally better than a sequential search, it is important to note that for small values of n, the additional cost of sorting is probably not worth it.\n",
    "* 비록 이진 탐색이 일반적으로 순차적인 탐색보다 나은 방법이지만, n이 작은 수라면 정렬을 하기 위한 추가적인 비용이 필요 없을 가능성이 크다.\n",
    "* In fact, we should always consider whether it is cost effective to take on the extra work of sorting to gain searching benefits. \n",
    "* 사실, 우리는 항상 정렬하기 위한 추가적인 비용이 탐색에 드는 비용보다 더 많이 드는지 고려해야한다.\n",
    "* If we can sort once and then search many times, the cost of the sort is not so significant. \n",
    "* 만약 우리가 한번 정렬만 하고 탐색을 많이한다면, 정렬을 위한 비용은 크지 않다.\n",
    "* However, for large lists, sorting even once can be so expensive that simply performing a sequential search from the start may be the best choice.\n",
    "* 그러나, 큰 리스트에 있어서 한번 정렬을 사용하는것은 매우 비용이 크기 때문에, 차라리 순차적인 탐색을 수행하는 것이 좋은 선택일 수 있다.\n"
   ]
  },
  {
   "cell_type": "markdown",
   "metadata": {},
   "source": [
    "### Self Check\n",
    "#### Q-1: Suppose you have the following sorted list [3, 5, 6, 8, 11, 12, 14, 15, 17, 18] and are using the recursive binary search algorithm. Which group of numbers correctly shows the sequence of comparisons used to find the key 8.\n",
    "* A. 11, 5, 6, 8\n",
    "* B. 12, 6, 11, 8\n",
    "* C. 3, 5, 6, 8\n",
    "* D. 18, 12, 6, 8\n",
    "\n",
    "#### Q-1 : 정렬된 리스트 [3, 5, 6, 8, 11, 12, 14, 15, 17, 18]가 있고, 재귀적 이진 탐색 알고리즘을 사용한다고 하자, key 8을 찾을떄 비교하는 값들의 그룹은 어떨까? B\n",
    "\n",
    "#### Q-2: Suppose you have the following sorted list [3, 5, 6, 8, 11, 12, 14, 15, 17, 18] and are using the recursive binary search algorithm. Which group of numbers correctly shows the sequence of comparisons used to search for the key 16?\n",
    "* A. 11, 14, 17\n",
    "* B. 18, 17, 15\n",
    "* C. 14, 17, 15\n",
    "* D. 12, 17, 15\n",
    "\n",
    "#### Q-2 정렬된 리스트 [3, 5, 6, 8, 11, 12, 14, 15, 17, 18]가 있고, 재귀적 이진 탐색 알고리즘을 사용한다고 하자, key 16을 찾을때 비교하는 값들의 그룹은? D"
   ]
  }
 ],
 "metadata": {
  "kernelspec": {
   "display_name": "Python 3",
   "language": "python",
   "name": "python3"
  },
  "language_info": {
   "codemirror_mode": {
    "name": "ipython",
    "version": 3
   },
   "file_extension": ".py",
   "mimetype": "text/x-python",
   "name": "python",
   "nbconvert_exporter": "python",
   "pygments_lexer": "ipython3",
   "version": "3.7.3"
  }
 },
 "nbformat": 4,
 "nbformat_minor": 2
}
