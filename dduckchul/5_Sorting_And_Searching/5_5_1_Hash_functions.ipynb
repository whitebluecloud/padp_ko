{
 "cells": [
  {
   "cell_type": "markdown",
   "metadata": {},
   "source": [
    "## 5.5.1. Hash Functions\n",
    "* Given a collection of items, a hash function that maps each item into a unique slot is referred to as a perfect hash function. \n",
    "* If we know the items and the collection will never change, then it is possible to construct a perfect hash function (refer to the exercises for more about perfect hash functions). \n",
    "* Unfortunately, given an arbitrary collection of items, there is no systematic way to construct a perfect hash function. \n",
    "* Luckily, we do not need the hash function to be perfect to still gain performance efficiency.\n",
    "\n",
    "* One way to always have a perfect hash function is to increase the size of the hash table so that each possible value in the item range can be accommodated. \n",
    "* This guarantees that each item will have a unique slot. \n",
    "* Although this is practical for small numbers of items, it is not feasible when the number of possible items is large. \n",
    "* For example, if the items were nine-digit Social Security numbers, this method would require almost one billion slots. \n",
    "* If we only want to store data for a class of 25 students, we will be wasting an enormous amount of memory.\n",
    "\n",
    "* Our goal is to create a hash function that minimizes the number of collisions, is easy to compute, and evenly distributes the items in the hash table. \n",
    "* There are a number of common ways to extend the simple remainder method. \n",
    "* We will consider a few of them here.\n",
    "\n",
    "* The folding method for constructing hash functions begins by dividing the item into equal-size pieces (the last piece may not be of equal size). \n",
    "* These pieces are then added together to give the resulting hash value. \n",
    "* For example, if our item was the phone number 436-555-4601, we would take the digits and divide them into groups of 2 (43,65,55,46,01). \n",
    "* After the addition, 43+65+55+46+01, we get 210. If we assume our hash table has 11 slots, then we need to perform the extra step of dividing by 11 and keeping the remainder. \n",
    "* In this case 210 % 11 is 1, so the phone number 436-555-4601 hashes to slot 1.\n",
    "* Some folding methods go one step further and reverse every other piece before the addition. \n",
    "* For the above example, we get 43+56+55+64+01=219 which gives 219 % 11=10.\n",
    "\n",
    "* Another numerical technique for constructing a hash function is called the mid-square method. \n",
    "* We first square the item, and then extract some portion of the resulting digits. \n",
    "* For example, if the item were 44, we would first compute 442=1,936. By extracting the middle two digits, 93, and performing the remainder step, we get 5 (93 % 11). \n",
    "* Table 5 shows items under both the remainder method and the mid-square method. \n",
    "* You should verify that you understand how these values were computed."
   ]
  },
  {
   "cell_type": "markdown",
   "metadata": {},
   "source": [
    "## Table 5: Comparison of Remainder and Mid-Square Methods¶\n",
    "\n",
    "| Item | Remainder | Mid-Square |\n",
    "|------|-----------|------------|\n",
    "| 54   | 10        | 3          |\n",
    "| 26   | 4         | 7          |\n",
    "| 93   | 5         | 9          |\n",
    "| 17   | 6         | 8          |\n",
    "| 77   | 0         | 4          |\n",
    "| 31   | 9         | 6          |\n"
   ]
  },
  {
   "cell_type": "markdown",
   "metadata": {},
   "source": [
    "* We can also create hash functions for character-based items such as strings. \n",
    "* The word “cat” can be thought of as a sequence of ordinal values."
   ]
  },
  {
   "cell_type": "code",
   "execution_count": null,
   "metadata": {},
   "outputs": [],
   "source": [
    "ord('c')\n",
    "ord('a')\n",
    "ord('t')"
   ]
  },
  {
   "cell_type": "markdown",
   "metadata": {},
   "source": [
    "* We can then take these three ordinal values, add them up, and use the remainder method to get a hash value (see Figure 6). \n",
    "* Listing 1 shows a function called hash that takes a string and a table size and returns the hash value in the range from 0 to tablesize-1."
   ]
  },
  {
   "cell_type": "code",
   "execution_count": null,
   "metadata": {},
   "outputs": [],
   "source": [
    "# Listing 1\n",
    "\n",
    "def hash(astring, tablesize):\n",
    "    sum = 0\n",
    "    for pos in range(len(astring)):\n",
    "        sum = sum + ord(astring[pos])\n",
    "\n",
    "    return sum%tablesize"
   ]
  },
  {
   "cell_type": "markdown",
   "metadata": {},
   "source": [
    "* It is interesting to note that when using this hash function, anagrams will always be given the same hash value. \n",
    "* To remedy this, we could use the position of the character as a weight. \n",
    "* Figure 7 shows one possible way to use the positional value as a weighting factor. \n",
    "* The modification to the hash function is left as an exercise.\n",
    "\n",
    "* You may be able to think of a number of additional ways to compute hash values for items in a collection. \n",
    "* The important thing to remember is that the hash function has to be efficient so that it does not become the dominant part of the storage and search process. \n",
    "* If the hash function is too complex, then it becomes more work to compute the slot name than it would be to simply do a basic sequential or binary search as described earlier. \n",
    "* This would quickly defeat the purpose of hashing."
   ]
  }
 ],
 "metadata": {
  "kernelspec": {
   "display_name": "Python 3",
   "language": "python",
   "name": "python3"
  },
  "language_info": {
   "codemirror_mode": {
    "name": "ipython",
    "version": 3
   },
   "file_extension": ".py",
   "mimetype": "text/x-python",
   "name": "python",
   "nbconvert_exporter": "python",
   "pygments_lexer": "ipython3",
   "version": "3.7.3"
  }
 },
 "nbformat": 4,
 "nbformat_minor": 2
}
