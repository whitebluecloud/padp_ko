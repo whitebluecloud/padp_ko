{
 "cells": [
  {
   "cell_type": "markdown",
   "metadata": {},
   "source": [
    "## 5.5.1. Hash Functions\n",
    "* Given a collection of items, a hash function that maps each item into a unique slot is referred to as a perfect hash function.\n",
    "* 주어진 아이템들의 컬렉션으로, 해시 펑션으로 아이템들이 고유한 슬롯에 각각 들어가있는것이 완전한 해시 펑션이라고 불린다. \n",
    "* If we know the items and the collection will never change, then it is possible to construct a perfect hash function (refer to the exercises for more about perfect hash functions). \n",
    "* 만약 우리가 아이템과 컬렉션이 영원히 변하지 않을것을 알고있다면, 완벽한 해시 펑션을 구현할 수 있다 (연습문제에 완전한 해시펑션에 대해 더 나와있다)\n",
    "* Unfortunately, given an arbitrary collection of items, there is no systematic way to construct a perfect hash function. \n",
    "* 불행히도, 임의의 아이템들이 있는 컬렉션으로는, 완벽한 해시 펑션을 구축할 방법이 없다.\n",
    "* Luckily, we do not need the hash function to be perfect to still gain performance efficiency.\n",
    "* 하지만 다행히도, 우리는 완전한 해시펑션이 대신, 효율성을 얻을수 있는 방법이 있다. \n",
    "\n",
    "* One way to always have a perfect hash function is to increase the size of the hash table so that each possible value in the item range can be accommodated.\n",
    "* 완벽한 해시 펑션을 얻을수 있는 한가지 방법은 해시 테이블의 크기를 늘려서 아이템을 담을수 있는 크기를 늘리는 것이다.\n",
    "* This guarantees that each item will have a unique slot. \n",
    "* 이것은 각각의 아이템들이 고유한 슬롯을 가지고 있는것을 보장한다.\n",
    "* Although this is practical for small numbers of items, it is not feasible when the number of possible items is large. \n",
    "* 비록 이것은 작은 수의 아이템에서는 실용적이지만, 아이템들이 많아지면 이것은 실행 할 수 없다.\n",
    "* For example, if the items were nine-digit Social Security numbers, this method would require almost one billion slots. \n",
    "* 예를들어, 아이템이 9자리수의 비밀 번호라고 한다면, 이 메서드는 10억개의 슬롯이 필요하다.\n",
    "* If we only want to store data for a class of 25 students, we will be wasting an enormous amount of memory.\n",
    "* 만약 우리가 25명의 학생 데이터를 저장하느넋이라면 이것은 메모리를 엄청나게 낭비하는 행동이다.\n",
    "\n",
    "* Our goal is to create a hash function that minimizes the number of collisions, is easy to compute, and evenly distributes the items in the hash table. \n",
    "* 우리의 목표는 충돌을 최소화 할수있는 해시 펑션을 만들고, 쉽게 계산할 수 있고 심지어 해시 테이블 안에 아이템들을 분배할수 있는 것이다.\n",
    "* There are a number of common ways to extend the simple remainder method. \n",
    "* 간단한 remainder 메소드를 구현할수 있는 몇가지 방법이 있다.\n",
    "\n",
    "* We will consider a few of them here.\n",
    "* 우리는 여기서 몇가지를 살펴볼 것이다.\n",
    "\n",
    "* The folding method for constructing hash functions begins by dividing the item into equal-size pieces (the last piece may not be of equal size). \n",
    "* 해시 펑션을 만들때 폴딩 메서드는 아이템을 동일한 사이즈의 조각으로 나누는 것이다 (마지막 조각은 동일한 사이즈가 아닐 수 있다)\n",
    "* These pieces are then added together to give the resulting hash value.\n",
    "* 이 조각들은 그리고 더해져서 해시 값으로 변환된다.\n",
    "* For example, if our item was the phone number 436-555-4601, we would take the digits and divide them into groups of 2 (43,65,55,46,01). \n",
    "* 예를 들어, 만약 아이템이 전화번호 436-555-4601 이었다면, 이것들을 2개씩 그룹지어 나눌수 있다.\n",
    "* After the addition, 43+65+55+46+01, we get 210. If we assume our hash table has 11 slots, then we need to perform the extra step of dividing by 11 and keeping the remainder. \n",
    "* 이것들을 더하면 210이 나온다, 만약 우리가 해시 테이블을 11개 슬롯으로 정했다면, 11로 나누는 추가적인 작업을 하고, 나머지를 갖고있으면 된다.\n",
    "* In this case 210 % 11 is 1, so the phone number 436-555-4601 hashes to slot 1.\n",
    "* 이 경우에는 210 % 11은 1이고, 전화번호 435-555-4601은 1번 슬롯에 해싱된다.\n",
    "* Some folding methods go one step further and reverse every other piece before the addition.\n",
    "* 몇몇 폴딩 메서드는 한단계 더나가서, 더하기 전에 모든 조각들을 거꾸로 뒤집는 작업을 하기도 한다.\n",
    "* For the above example, we get 43+56+55+64+01=219 which gives 219 % 11=10.\n",
    "* 위를 예제로 들면, 219로 나오고, 219%11=10이 된다.\n",
    "\n",
    "* Another numerical technique for constructing a hash function is called the mid-square method. \n",
    "* 해시 펑션을 만들기 위한 다른 방법은 가운데 제곱 메서드 이다.\n",
    "* We first square the item, and then extract some portion of the resulting digits.\n",
    "* 먼저 아이템을 제곱하고, 결과값의 부분을 추출하는 것이다.\n",
    "* For example, if the item were 44, we would first compute 44^2=1,936. By extracting the middle two digits, 93, and performing the remainder step, we get 5 (93 % 11). \n",
    "* 예를들어 아이템이 44였다면, 먼저 44^2를 계산하여 1936이 나오고, 이것의 가운데 두자리인 93을 추출한다, 그리고 나머지를 나눠서 93 % 11 인 5를 얻게된다.\n",
    "* Table 5 shows items under both the remainder method and the mid-square method.\n",
    "* 테이블 5는 mid-sqaure 메서드를 이용해 remainder를 얻은 것이다\n",
    "* You should verify that you understand how these values were computed.\n",
    "* 이 값들이 어떻게 계산되었는지 이해하면서 검증해 보아라"
   ]
  },
  {
   "cell_type": "markdown",
   "metadata": {},
   "source": [
    "## Table 5: Comparison of Remainder and Mid-Square Methods¶\n",
    "\n",
    "| Item | Remainder | Mid-Square |\n",
    "|------|-----------|------------|\n",
    "| 54   | 10        | 3          |\n",
    "| 26   | 4         | 7          |\n",
    "| 93   | 5         | 9          |\n",
    "| 17   | 6         | 8          |\n",
    "| 77   | 0         | 4          |\n",
    "| 31   | 9         | 6          |\n"
   ]
  },
  {
   "cell_type": "markdown",
   "metadata": {},
   "source": [
    "* We can also create hash functions for character-based items such as strings.\n",
    "* 또한 우리는 문자열 같은 문자 기반의 아이템을 해시 펑션으로 만들 수 있다.\n",
    "* The word “cat” can be thought of as a sequence of ordinal values.\n",
    "* cat 이라는 단어는 서수 값들의 순차적인 값이라 생각 할 수있다."
   ]
  },
  {
   "cell_type": "code",
   "execution_count": 3,
   "metadata": {},
   "outputs": [
    {
     "data": {
      "text/plain": [
       "116"
      ]
     },
     "execution_count": 3,
     "metadata": {},
     "output_type": "execute_result"
    }
   ],
   "source": [
    "# 문자열의 unicode값 구하는 펑션\n",
    "ord('c')\n",
    "ord('a')\n",
    "ord('t')"
   ]
  },
  {
   "cell_type": "markdown",
   "metadata": {},
   "source": [
    "* We can then take these three ordinal values, add them up, and use the remainder method to get a hash value (see Figure 6).\n",
    "* 이 세가지 숫자 값들을 가지고 더한후, remainder 메서들을 사용해 해시 값을 구할 수 있다.\n",
    "* Listing 1 shows a function called hash that takes a string and a table size and returns the hash value in the range from 0 to tablesize-1.\n",
    "* Listing 1에서 스트링과 테이블 사이즈를 가지고 해시 값을 구하는 펑션을 나타낸다."
   ]
  },
  {
   "cell_type": "code",
   "execution_count": 4,
   "metadata": {},
   "outputs": [],
   "source": [
    "# Listing 1\n",
    "\n",
    "def hash(astring, tablesize):\n",
    "    sum = 0\n",
    "    for pos in range(len(astring)):\n",
    "        sum = sum + ord(astring[pos])\n",
    "\n",
    "    return sum%tablesize"
   ]
  },
  {
   "cell_type": "markdown",
   "metadata": {},
   "source": [
    "* It is interesting to note that when using this hash function, anagrams will always be given the same hash value. \n",
    "* 이 해시 펑션의 흥미로운 점은 anagram을 사용하면 항상 같은 해시 값이 나오는것이다. \n",
    "* To remedy this, we could use the position of the character as a weight. \n",
    "* 이걸 고치기 위해서, 문자의 위치를 가중치로 사용할 수 있다.\n",
    "* Figure 7 shows one possible way to use the positional value as a weighting factor. \n",
    "* 7번 그림이 가중치 값을 사용한 방법을 보여준 것이다\n",
    "* The modification to the hash function is left as an exercise.\n",
    "* 이 해시 펑션을 수정하는 것은 연습문제에 있다\n",
    "\n",
    "* You may be able to think of a number of additional ways to compute hash values for items in a collection.\n",
    "* 아마 당신은 컬렉션의 해시 값을 구할떄 여러가지 방법들을 생각할 수 있을 것이다.\n",
    "* The important thing to remember is that the hash function has to be efficient so that it does not become the dominant part of the storage and search process. \n",
    "* 가장 중요하게 기억할 것은 해시 펑션은 효율적이여야 하고, 이것이 저장과 탐색 프로세스에서 중요한 부분이 되서는 안되는 것이다.\n",
    "* If the hash function is too complex, then it becomes more work to compute the slot name than it would be to simply do a basic sequential or binary search as described earlier.\n",
    "* 만약 해시 펑션이 너무 복잡하다면, 슬롯을 계산할때 더 많은 작업이 소요될 것이고, 이전에 설명했던 순차탐색이나 이진 탐색보다 더 많은 시간이 소요될 것이다.\n",
    "* This would quickly defeat the purpose of hashing.\n",
    "* 이것은 해싱의 목적을 없에는 것이나 마찬가지이다."
   ]
  }
 ],
 "metadata": {
  "kernelspec": {
   "display_name": "Python 3",
   "language": "python",
   "name": "python3"
  },
  "language_info": {
   "codemirror_mode": {
    "name": "ipython",
    "version": 3
   },
   "file_extension": ".py",
   "mimetype": "text/x-python",
   "name": "python",
   "nbconvert_exporter": "python",
   "pygments_lexer": "ipython3",
   "version": "3.7.3"
  }
 },
 "nbformat": 4,
 "nbformat_minor": 2
}
