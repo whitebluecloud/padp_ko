{
 "cells": [
  {
   "cell_type": "markdown",
   "metadata": {},
   "source": [
    "## 5.8. The Selection Sort\n",
    "\n",
    "* The selection sort improves on the bubble sort by making only one exchange for every pass through the list. \n",
    "* 셀렉션 정렬은 버블 소트에서 발전하여 리스트를 거치는 단계에서 딱 한번 바꾸는 작업을 하는 것이다.\n",
    "* In order to do this, a selection sort looks for the largest value as it makes a pass and, after completing the pass, places it in the proper location.\n",
    "* 이것을 하기 위해서, 셀렉션 소트는 이 단계에서 가장 큰 값을 찾고, 이 단계가 끝나면 적절한 위치에 이 값을 놓아야 한다.\n",
    "* As with a bubble sort, after the first pass, the largest item is in the correct place. \n",
    "* 버블 소트와 같이, 첫번째 단계가 지나면 가장 큰 아이템이 올바른 위치에 있을 것이다.\n",
    "* After the second pass, the next largest is in place. \n",
    "* 두번째 단계를 지나면, 다음 큰 값이 위치에 있을 것이다.\n",
    "* This process continues and requires n−1 passes to sort n items, since the final item must be in place after the (n−1) st pass.\n",
    "* 이 과정들이 계속되고 n개의 아이템을 정렬하기 위해 n-1번의 과정을 필요로 할 것이다.\n",
    "* 마지막 아이템은 n-1 번째 단계를 지나고나서 위치하게 될 것이다.\n",
    "\n",
    "* Figure 3 shows the entire sorting process. \n",
    "* Figure 3에서 전체 정렬 프로세스를 보여준다.\n",
    "* On each pass, the largest remaining item is selected and then placed in its proper location. \n",
    "* 각각의 단계마다, 가장 큰 값이 선택되고, 적절한 위치에 놓여진다.\n",
    "* The first pass places 93, the second pass places 77, the third places 55, and so on. The function is shown in ActiveCode 1.\n",
    "* 첫번째 단계에서는 93을 놓고, 두번째는 77, 세번째는 55, 그리고 계속된다.\n",
    "* 이 펑션이 아래 코드에 나타나 있다."
   ]
  },
  {
   "cell_type": "code",
   "execution_count": 1,
   "metadata": {},
   "outputs": [
    {
     "name": "stdout",
     "output_type": "stream",
     "text": [
      "[17, 20, 26, 31, 44, 54, 55, 77, 93]\n"
     ]
    }
   ],
   "source": [
    "def selectionSort(alist):\n",
    "    for fillslot in range(len(alist)-1,0,-1):\n",
    "        positionOfMax=0\n",
    "        for location in range(1,fillslot+1):\n",
    "            if alist[location]>alist[positionOfMax]:\n",
    "                positionOfMax = location\n",
    "\n",
    "        temp = alist[fillslot]\n",
    "        alist[fillslot] = alist[positionOfMax]\n",
    "        alist[positionOfMax] = temp\n",
    "\n",
    "alist = [54,26,93,17,77,31,44,55,20]\n",
    "selectionSort(alist)\n",
    "print(alist)"
   ]
  },
  {
   "cell_type": "markdown",
   "metadata": {},
   "source": [
    "* You may see that the selection sort makes the same number of comparisons as the bubble sort and is therefore also O(n^2). \n",
    "* 아마 당신은 셀렉션 소트가 버블 소트와 똑같은 수의 비교를 하고있고, 그러므로 O(n^2) 만큼의 시간이 소요된다는것을 알수 있을 것이다.\n",
    "* However, due to the reduction in the number of exchanges, the selection sort typically executes faster in benchmark studies.\n",
    "* 그러나, 교환하는 숫자가 줄어듦으로 인해서, 선택 정렬은 일반적으로 더 빠르다고 알려져 있다.\n",
    "* In fact, for our list, the bubble sort makes 20 exchanges, while the selection sort makes only 8.\n",
    "* 실제로도, 우리 리스트에서 버블 소트는 20번 바꾸는데 셀렉션 소트는 8번만 바꾼다."
   ]
  },
  {
   "cell_type": "markdown",
   "metadata": {},
   "source": [
    "### Self Check\n",
    "\n",
    "* Q-2: Suppose you have the following list of numbers to sort: [11, 7, 12, 14, 19, 1, 6, 18, 8, 20] which list represents the partially sorted list after three complete passes of selection sort?\n",
    "\n",
    "* A. [7, 11, 12, 1, 6, 14, 8, 18, 19, 20]\n",
    "* B. [7, 11, 12, 14, 19, 1, 6, 18, 8, 20]\n",
    "* C. [11, 7, 12, 14, 1, 6, 8, 18, 19, 20]\n",
    "* D. [11, 7, 12, 14, 8, 1, 6, 18, 19, 20]"
   ]
  }
 ],
 "metadata": {
  "kernelspec": {
   "display_name": "Python 3",
   "language": "python",
   "name": "python3"
  },
  "language_info": {
   "codemirror_mode": {
    "name": "ipython",
    "version": 3
   },
   "file_extension": ".py",
   "mimetype": "text/x-python",
   "name": "python",
   "nbconvert_exporter": "python",
   "pygments_lexer": "ipython3",
   "version": "3.7.3"
  }
 },
 "nbformat": 4,
 "nbformat_minor": 2
}
