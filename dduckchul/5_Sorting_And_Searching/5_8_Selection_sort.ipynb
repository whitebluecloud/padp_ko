{
 "cells": [
  {
   "cell_type": "markdown",
   "metadata": {},
   "source": [
    "## 5.8. The Selection Sort\n",
    "\n",
    "* The selection sort improves on the bubble sort by making only one exchange for every pass through the list. \n",
    "* In order to do this, a selection sort looks for the largest value as it makes a pass and, after completing the pass, places it in the proper location. \n",
    "* As with a bubble sort, after the first pass, the largest item is in the correct place. \n",
    "* After the second pass, the next largest is in place. \n",
    "* This process continues and requires n−1 passes to sort n items, since the final item must be in place after the (n−1) st pass.\n",
    "\n",
    "* Figure 3 shows the entire sorting process. \n",
    "* On each pass, the largest remaining item is selected and then placed in its proper location. \n",
    "* The first pass places 93, the second pass places 77, the third places 55, and so on. The function is shown in ActiveCode 1."
   ]
  },
  {
   "cell_type": "code",
   "execution_count": null,
   "metadata": {},
   "outputs": [],
   "source": [
    "def selectionSort(alist):\n",
    "    for fillslot in range(len(alist)-1,0,-1):\n",
    "        positionOfMax=0\n",
    "        for location in range(1,fillslot+1):\n",
    "            if alist[location]>alist[positionOfMax]:\n",
    "                positionOfMax = location\n",
    "\n",
    "        temp = alist[fillslot]\n",
    "        alist[fillslot] = alist[positionOfMax]\n",
    "        alist[positionOfMax] = temp\n",
    "\n",
    "alist = [54,26,93,17,77,31,44,55,20]\n",
    "selectionSort(alist)\n",
    "print(alist)"
   ]
  },
  {
   "cell_type": "markdown",
   "metadata": {},
   "source": [
    "You may see that the selection sort makes the same number of comparisons as the bubble sort and is therefore also O(n2). However, due to the reduction in the number of exchanges, the selection sort typically executes faster in benchmark studies. In fact, for our list, the bubble sort makes 20 exchanges, while the selection sort makes only 8.\n",
    "\n"
   ]
  },
  {
   "cell_type": "markdown",
   "metadata": {},
   "source": [
    "### Self Check\n",
    "\n",
    "* Q-2: Suppose you have the following list of numbers to sort: [11, 7, 12, 14, 19, 1, 6, 18, 8, 20] which list represents the partially sorted list after three complete passes of selection sort?\n",
    "\n",
    "* A. [7, 11, 12, 1, 6, 14, 8, 18, 19, 20]\n",
    "* B. [7, 11, 12, 14, 19, 1, 6, 18, 8, 20]\n",
    "* C. [11, 7, 12, 14, 1, 6, 8, 18, 19, 20]\n",
    "* D. [11, 7, 12, 14, 8, 1, 6, 18, 19, 20]"
   ]
  }
 ],
 "metadata": {
  "kernelspec": {
   "display_name": "Python 3",
   "language": "python",
   "name": "python3"
  },
  "language_info": {
   "codemirror_mode": {
    "name": "ipython",
    "version": 3
   },
   "file_extension": ".py",
   "mimetype": "text/x-python",
   "name": "python",
   "nbconvert_exporter": "python",
   "pygments_lexer": "ipython3",
   "version": "3.7.3"
  }
 },
 "nbformat": 4,
 "nbformat_minor": 2
}
