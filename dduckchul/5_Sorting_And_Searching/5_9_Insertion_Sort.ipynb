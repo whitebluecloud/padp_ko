{
 "cells": [
  {
   "cell_type": "markdown",
   "metadata": {},
   "source": [
    "## 5.9. The Insertion Sort\n",
    "* The insertion sort, although still O(n^2), works in a slightly different way. \n",
    "* 삽입정렬은 마찬가지로 O(n^2)로 동작하지만, 살짝 다르게 동작한다.\n",
    "* It always maintains a sorted sublist in the lower positions of the list.\n",
    "* 삽임정렬은 항상 리스트의 최하단 부분에 정렬된 서브 리스트를 지니고 있다.\n",
    "* Each new item is then “inserted” back into the previous sublist such that the sorted sublist is one item larger. \n",
    "* 각 단계에서 새로운 아이템들이 이전 서브리스트의 뒤에 삽입되고, 정렬된 서브리스트들이 커진다.\n",
    "* Figure 4 shows the insertion sorting process. The shaded items represent the ordered sublists as the algorithm makes each pass.\n",
    "* Figure 4는 삽입정렬 프로세스를 보여준다. 회색으로 색칠된 아이템들이 각 단계마다 정렬된 섭 리스트를 표현해준다."
   ]
  },
  {
   "cell_type": "markdown",
   "metadata": {},
   "source": [
    "* We begin by assuming that a list with one item (position 0) is already sorted.\n",
    "* 우리는 한개 아이템 있는 리스트가 정렬되어있다는 가정에서 시작할것이다.\n",
    "* On each pass, one for each item 1 through n−1, the current item is checked against those in the already sorted sublist. \n",
    "* 각 단계마다, 1번부터 n-1번 아이템까지 현재 아이템은 이미 정렬된 서브 리스트와 비교할 것이다.\n",
    "* As we look back into the already sorted sublist, we shift those items that are greater to the right.\n",
    "* 우리가 이미 정렬된 서브리스트에서, 더 큰 아이템이라면 오른쪽으로 위치하게 할것이다.\n",
    "* When we reach a smaller item or the end of the sublist, the current item can be inserted.\n",
    "* 우리가 더 적은 아이템이나, 서브리스트의 끝에 도달한다면 아이템이 삽입 될 것이다.\n",
    "\n",
    "* Figure 5 shows the fifth pass in detail. \n",
    "* Figure 5는 삽입정렬의 5번쨰 단계를 자세히 나타난 것이다.\n",
    "* At this point in the algorithm, a sorted sublist of five items consisting of 17, 26, 54, 77, and 93 exists.\n",
    "* 알고리즘의 단계에서 정렬된 서브리스트의 5개 아이템은 17,26,54,77,93 이 될것이다.\n",
    "* We want to insert 31 back into the already sorted items. \n",
    "* 우리는 31을 이 정렬된 아이템에 넣고싶다.\n",
    "* The first comparison against 93 causes 93 to be shifted to the right.\n",
    "* 93과의 첫번쨰 비교에서 93이 크기떄문에 오른쪽으로 밀려난다\n",
    "* 77 and 54 are also shifted.\n",
    "* 77과 54도 마찬가지로 밀려난다.\n",
    "* When the item 26 is encountered, the shifting process stops and 31 is placed in the open position. \n",
    "* 26을 만나면, 밀어내는 프로세스는 멈추고, 31이 그 비어있는 공간에 들어가게 된다.\n",
    "* Now we have a sorted sublist of six items.\n",
    "* 이제 우리는 6개의 정렬된 서브리스트를 갖게된다."
   ]
  },
  {
   "cell_type": "markdown",
   "metadata": {},
   "source": [
    "* The implementation of insertionSort (ActiveCode 1) shows that there are again n−1 passes to sort n items. \n",
    "* 삽입정렬의 구현체는 또 n개의 아이템을 정렬하기 위해 n-1번이 필요한것을 나타낸다.\n",
    "* The iteration starts at position 1 and moves through position n−1, as these are the items that need to be inserted back into the sorted sublists. \n",
    "* 반복문이 1에서부터 n-1까지 움직이고, 이 아이템들은 정렬된 서브리스트로 삽입된다.\n",
    "* Line 8 performs the shift operation that moves a value up one position in the list, making room behind it for the insertion. \n",
    "* 8라인은 밀어내는 오퍼레이션을 나타내고, 삽입하기전 빈공간을 만들어낸다.\n",
    "* Remember that this is not a complete exchange as was performed in the previous algorithms.\n",
    "* 이것은 이전 알고리즘들과 비교해 완벽하게 교환하는 알고리즘이 아니라는 것을 기억해두어라.\n",
    "\n",
    "* The maximum number of comparisons for an insertion sort is the sum of the first n−1 integers. \n",
    "* 삽입 정렬의 비교 최대값은 첫번쨰 n-1의 합이다.\n",
    "* Again, this is O(n^2). \n",
    "* 마찬가지로 이것은 O(n^2)이다\n",
    "* However, in the best case, only one comparison needs to be done on each pass. This would be the case for an already sorted list.\n",
    "* 그러나, bestCase에서는 각 단계별로 한번의 비교만 하면 된다. 이것은 이미 정렬된 리스트에서 확인할 수 있을 것이다.\n",
    "\n",
    "* One note about shifting versus exchanging is also important.\n",
    "* 한가지 더 중요한 점은, 밀어내기와 교환하기의 다른 점이다.\n",
    "* In general, a shift operation requires approximately a third of the processing work of an exchange since only one assignment is performed. \n",
    "* 일반적으로 밀어내는 오퍼레이션은 대략 1/3정도의 프로세싱 작업만 필요하다 왜냐면 한번의 할당 작업만이 일어나기 때문.\n",
    "\n",
    "* In benchmark studies, insertion sort will show very good performance.\n",
    "* 벤치마크 스터디에서는 삽입 정렬이 매우 좋은 효율을 나타내는것을 보여준다."
   ]
  },
  {
   "cell_type": "code",
   "execution_count": 1,
   "metadata": {},
   "outputs": [
    {
     "name": "stdout",
     "output_type": "stream",
     "text": [
      "[17, 20, 26, 31, 44, 54, 55, 77, 93]\n"
     ]
    }
   ],
   "source": [
    "def insertionSort(alist):\n",
    "    for index in range(1,len(alist)):\n",
    "\n",
    "        currentvalue = alist[index]\n",
    "        position = index\n",
    "\n",
    "        while position>0 and alist[position-1]>currentvalue:\n",
    "            alist[position]=alist[position-1]\n",
    "            position = position-1\n",
    "\n",
    "        alist[position]=currentvalue\n",
    "\n",
    "alist = [54,26,93,17,77,31,44,55,20]\n",
    "insertionSort(alist)\n",
    "print(alist)"
   ]
  },
  {
   "cell_type": "markdown",
   "metadata": {},
   "source": [
    "### Self Check\n",
    "\n",
    "* Q-2: Suppose you have the following list of numbers to sort: [15, 5, 4, 18, 12, 19, 14, 10, 8, 20] which list represents the partially sorted list after three complete passes of insertion sort?\n",
    "\n",
    "* A. [4, 5, 12, 15, 14, 10, 8, 18, 19, 20]\n",
    "* B. [15, 5, 4, 10, 12, 8, 14, 18, 19, 20]\n",
    "* C. [4, 5, 15, 18, 12, 19, 14, 10, 8, 20]\n",
    "* D. [15, 5, 4, 18, 12, 19, 14, 8, 10, 20]"
   ]
  }
 ],
 "metadata": {
  "kernelspec": {
   "display_name": "Python 3",
   "language": "python",
   "name": "python3"
  },
  "language_info": {
   "codemirror_mode": {
    "name": "ipython",
    "version": 3
   },
   "file_extension": ".py",
   "mimetype": "text/x-python",
   "name": "python",
   "nbconvert_exporter": "python",
   "pygments_lexer": "ipython3",
   "version": "3.7.3"
  }
 },
 "nbformat": 4,
 "nbformat_minor": 2
}
