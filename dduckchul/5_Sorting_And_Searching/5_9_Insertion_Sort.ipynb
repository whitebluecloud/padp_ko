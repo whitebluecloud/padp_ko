{
 "cells": [
  {
   "cell_type": "markdown",
   "metadata": {},
   "source": [
    "## 5.9. The Insertion Sort\n",
    "* The insertion sort, although still O(n2), works in a slightly different way. \n",
    "* It always maintains a sorted sublist in the lower positions of the list. \n",
    "* Each new item is then “inserted” back into the previous sublist such that the sorted sublist is one item larger. \n",
    "* Figure 4 shows the insertion sorting process. The shaded items represent the ordered sublists as the algorithm makes each pass."
   ]
  },
  {
   "cell_type": "markdown",
   "metadata": {},
   "source": [
    "* We begin by assuming that a list with one item (position 0) is already sorted. \n",
    "* On each pass, one for each item 1 through n−1, the current item is checked against those in the already sorted sublist. \n",
    "* As we look back into the already sorted sublist, we shift those items that are greater to the right. \n",
    "* When we reach a smaller item or the end of the sublist, the current item can be inserted.\n",
    "\n",
    "* Figure 5 shows the fifth pass in detail. At this point in the algorithm, a sorted sublist of five items consisting of 17, 26, 54, 77, and 93 exists. \n",
    "* We want to insert 31 back into the already sorted items. \n",
    "* The first comparison against 93 causes 93 to be shifted to the right. \n",
    "* 77 and 54 are also shifted.\n",
    "* When the item 26 is encountered, the shifting process stops and 31 is placed in the open position. \n",
    "* Now we have a sorted sublist of six items."
   ]
  },
  {
   "cell_type": "markdown",
   "metadata": {},
   "source": [
    "* The implementation of insertionSort (ActiveCode 1) shows that there are again n−1 passes to sort n items. \n",
    "* The iteration starts at position 1 and moves through position n−1, as these are the items that need to be inserted back into the sorted sublists. \n",
    "* Line 8 performs the shift operation that moves a value up one position in the list, making room behind it for the insertion. \n",
    "* Remember that this is not a complete exchange as was performed in the previous algorithms.\n",
    "\n",
    "* The maximum number of comparisons for an insertion sort is the sum of the first n−1 integers. \n",
    "* Again, this is O(n2). \n",
    "* However, in the best case, only one comparison needs to be done on each pass. This would be the case for an already sorted list.\n",
    "\n",
    "* One note about shifting versus exchanging is also important. \n",
    "* In general, a shift operation requires approximately a third of the processing work of an exchange since only one assignment is performed. \n",
    "* In benchmark studies, insertion sort will show very good performance."
   ]
  },
  {
   "cell_type": "code",
   "execution_count": 1,
   "metadata": {},
   "outputs": [
    {
     "name": "stdout",
     "output_type": "stream",
     "text": [
      "[17, 20, 26, 31, 44, 54, 55, 77, 93]\n"
     ]
    }
   ],
   "source": [
    "def insertionSort(alist):\n",
    "    for index in range(1,len(alist)):\n",
    "\n",
    "        currentvalue = alist[index]\n",
    "        position = index\n",
    "\n",
    "        while position>0 and alist[position-1]>currentvalue:\n",
    "            alist[position]=alist[position-1]\n",
    "            position = position-1\n",
    "\n",
    "        alist[position]=currentvalue\n",
    "\n",
    "alist = [54,26,93,17,77,31,44,55,20]\n",
    "insertionSort(alist)\n",
    "print(alist)"
   ]
  },
  {
   "cell_type": "markdown",
   "metadata": {},
   "source": [
    "### Self Check\n",
    "\n",
    "* Q-2: Suppose you have the following list of numbers to sort: [15, 5, 4, 18, 12, 19, 14, 10, 8, 20] which list represents the partially sorted list after three complete passes of insertion sort?\n",
    "\n",
    "* A. [4, 5, 12, 15, 14, 10, 8, 18, 19, 20]\n",
    "* B. [15, 5, 4, 10, 12, 8, 14, 18, 19, 20]\n",
    "* C. [4, 5, 15, 18, 12, 19, 14, 10, 8, 20]\n",
    "* D. [15, 5, 4, 18, 12, 19, 14, 8, 10, 20]"
   ]
  }
 ],
 "metadata": {
  "kernelspec": {
   "display_name": "Python 3",
   "language": "python",
   "name": "python3"
  },
  "language_info": {
   "codemirror_mode": {
    "name": "ipython",
    "version": 3
   },
   "file_extension": ".py",
   "mimetype": "text/x-python",
   "name": "python",
   "nbconvert_exporter": "python",
   "pygments_lexer": "ipython3",
   "version": "3.7.3"
  }
 },
 "nbformat": 4,
 "nbformat_minor": 2
}
