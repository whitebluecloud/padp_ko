{
 "cells": [
  {
   "cell_type": "markdown",
   "metadata": {},
   "source": [
    "# 5.5.2. Collision Resolution\n",
    "\n",
    "* We now return to the problem of collisions. \n",
    "* 이제 우리는 충돌에 관련한 문제로 되돌아 가보자.\n",
    "* When two items hash to the same slot, we must have a systematic method for placing the second item in the hash table. \n",
    "* 두개의 아이템이 같은 슬롯에 있다면, 우리는 반드시 해시 테이블에 두번째 있는 아이템에 대한 메서드가 있어야 한다.\n",
    "* This process is called collision resolution. \n",
    "* 이 프로세스를 충돌 해결이라고 한다.\n",
    "* As we stated earlier, if the hash function is perfect, collisions will never occur. \n",
    "* 우리가 앞서 언급했듯이, 해시 펑션이 완벽하다면, 충돌은 절대 일어나지 않을 것이다.\n",
    "* However, since this is often not possible, collision resolution becomes a very important part of hashing.\n",
    "* 하지만, 해시 펑션은 종종 완벽하지 않기떄문에, 충돌 해결은 해싱에서 매우 중요한 부분이다.\n",
    "\n",
    "* One method for resolving collisions looks into the hash table and tries to find another open slot to hold the item that caused the collision. \n",
    "* 충돌 해결하기 위한 한가지 방법은 해시테이블을 살펴봐서 충돌이 일어난 아이템을 다른 슬롯에 넣는 것이다.\n",
    "* A simple way to do this is to start at the original hash value position and then move in a sequential manner through the slots until we encounter the first slot that is empty. \n",
    "* 이것을 해결하기 위한 간단한 방법으로는 원래 해시값 위치에서 시작해서  순차적인 방법으로 이동하여 맨 처음 비어있는 슬롯으로 이동하는 것이다.\n",
    "* Note that we may need to go back to the first slot (circularly) to cover the entire hash table.\n",
    "* 전체 해시 테이블을 사용하기 위해 맨 처음 슬롯으로 순환하여 돌아갈수 있음을 주목해라.\n",
    "* This collision resolution process is referred to as open addressing in that it tries to find the next open slot or address in the hash table. \n",
    "* 이 충돌 해결 프로세스는 오픈 어드레싱이라고 하며, 이것은 해시 테이블에 다른 비어있는 슬롯을 찾는다.\n",
    "* By systematically visiting each slot one at a time, we are performing an open addressing technique called linear probing.\n",
    "* 각각 슬롯을 한번에 하나씩 방문하기 떄문에, 오픈 어드레싱 기술을 선형 탐사라고 한다.\n",
    "\n",
    "* Figure 8 shows an extended set of integer items under the simple remainder method hash function (54,26,93,17,77,31,44,55,20). \n",
    "* Figure 8은 정수 값의 셋을 간단한 해시펑션을 이용한 것이다.\n",
    "* Table 4 above shows the hash values for the original items.\n",
    "* 위의 Table4 에서 이 아이템들의 해시 값들을 볼 수 있다.\n",
    "* Figure 5 shows the original contents.\n",
    "* Figure 5는 원래의 아이템 값들을 보여준다.\n",
    "* When we attempt to place 44 into slot 0, a collision occurs.\n",
    "* 우리가 44를 0번 슬롯에 넣으려고 시도할때, 충돌이 발생한다.\n",
    "* Under linear probing, we look sequentially, slot by slot, until we find an open position.\n",
    "* 선형 탐사에서는 우리는 순차적으로, 슬롯 하나하나씩 보며 비어있는지 확인한다.\n",
    "* In this case, we find slot 1.\n",
    "* 이 예제에서는 슬롯 1을 볼 수 있다.\n",
    "\n",
    "* Again, 55 should go in slot 0 but must be placed in slot 2 since it is the next open position. \n",
    "* 마찬가지로, 55는 0번 슬롯에 있어야겠지만 다음 비어있는 포지션인 2번 슬롯에 위치할 것이다.\n",
    "* The final value of 20 hashes to slot 9. \n",
    "* 마지막 값인 20은 9번 슬롯에 가야한다. \n",
    "* Since slot 9 is full, we begin to do linear probing.\n",
    "* 0번 슬롯이 가득 차 있으므로 선형 탐사를 시작한다.\n",
    "* We visit slots 10, 0, 1, and 2, and finally find an empty slot at position 3.\n",
    "* 우리는 이미 10번, 0번, 1번, 2번 슬롯을 사용했으므로 최종적으로 비어있는 슬롯은 3번째 위치한다."
   ]
  },
  {
   "cell_type": "markdown",
   "metadata": {},
   "source": [
    "* Once we have built a hash table using open addressing and linear probing, it is essential that we utilize the same methods to search for items.\n",
    "* 한번 오픈 어드레싱과 선형 탐사를 통해 해시 테이블을 만드렁ㅆ다면, 같은 메서드를 사용해 아이템을 찾는것은 필수적이다.\n",
    "* Assume we want to look up the item 93. When we compute the hash value, we get 5. Looking in slot 5 reveals 93, and we can return True.\n",
    "* 만약 우리가 아이템 93을 찾고싶다면, 해시 값을 사용해 계산한다면 5를 찾을 수 있다. 5번슬롯을 찾았을때 93이 나오므로 True를 반환한다.\n",
    "* What if we are looking for 20? Now the hash value is 9, and slot 9 is currently holding 31.\n",
    "* 만약 20을 찾는다면? 이제 해시 값은 9이고, 현재 9번 슬롯은 31을 들고 있다.\n",
    "* We cannot simply return False since we know that there could have been collisions.\n",
    "* 우리는 단순하게 False를 리턴할수 없다. 왜냐하면 충돌이 있었기 때문에.\n",
    "* We are now forced to do a sequential search, starting at position 10, looking until either we find the item 20 or we find an empty slot.\n",
    "* 우리는 이제 순차적인 탐색을 해야하고, 10번부터 시작해 item 20을 찾거나 빈 슬롯을 찾게 될 것이다.\n",
    "\n",
    "* A disadvantage to linear probing is the tendency for clustering; items become clustered in the table. \n",
    "* 선형 탐색의 단점이라고 한다면 클러스터링 경향이 있는 것이다. 아이템들이 테이블에 클러스터링 되는 것이다.\n",
    "* This means that if many collisions occur at the same hash value, a number of surrounding slots will be filled by the linear probing resolution. \n",
    "* 이것은 만약 몇개의 해시 값에 충돌이 많이 발생한다면, 이 주변의 슬롯들은 선형 탐색 값들에의해 채워질 것이다.\n",
    "* This will have an impact on other items that are being inserted, as we saw when we tried to add the item 20 above. \n",
    "* 이것은 다른 아이템들이 넣어질떄 영향이 있을 것이다, 위에서 20을 넣을때 시도한것을 봤듯이.\n",
    "* A cluster of values hashing to 0 had to be skipped to finally find an open position. \n",
    "* 해싱 값이 0이 된 값들이 스킵되고 오픈 포지션에 들어간다.\n",
    "* This cluster is shown in Figure 9.\n",
    "* 이 클러스터는 Figure 9에 나타나 있다."
   ]
  },
  {
   "cell_type": "markdown",
   "metadata": {},
   "source": [
    "* One way to deal with clustering is to extend the linear probing technique so that instead of looking sequentially for the next open slot, we skip slots, \n",
    "* 이 선형 탐색 기술의 클러스터링을 해결하기 위한 방법으로는 선형적으로 다음 슬롯을 찾는게 아니라 슬롯을 스킵하는 것이다.\n",
    "* thereby more evenly distributing the items that have caused collisions.\n",
    "* 이렇게 되면 충돌이 일어난 아이템을 좀더 분산시킬 수 있다.\n",
    "* This will potentially reduce the clustering that occurs. \n",
    "* 이것은 클러스터링을 줄이게될 가능성이 높아진다.\n",
    "* Figure 10 shows the items when collision resolution is done with a “plus 3” probe.\n",
    "* Figure 10에서 +3을 통해 충돌 해결한 것을 나타낸다.\n",
    "* This means that once a collision occurs, we will look at every third slot until we find one that is empty.\n",
    "* 이것은 한번 충돌이 일어날떄, 우리는 3번째 슬롯을 계속 비어있는 슬롯을 찾을때까지 확인하는 것이다. "
   ]
  },
  {
   "cell_type": "markdown",
   "metadata": {},
   "source": [
    "* The general name for this process of looking for another slot after a collision is rehashing.\n",
    "* 이런 충돌이 일어났을때 다른 슬롯을 찾는것을 rehashing이라고 부른다.\n",
    "* With simple linear probing, the rehash function is newhashvalue=rehash(oldhashvalue) where rehash(pos)=(pos+1)%sizeoftable. \n",
    "* 간단한 선형 탐색을 가지고 리해시 펑션은 newhashvalue = rehash(oldhashvalue)와 같다.\n",
    "* The “plus 3” rehash can be defined as rehash(pos)=(pos+3)%sizeoftable. \n",
    "* +3은 rehash(pos)=(pos+3)%sizeoftable로 rehash 할 수 있다.\n",
    "* In general, rehash(pos)=(pos+skip)%sizeoftable. \n",
    "* 일반적으로, rehash는 (pos+skip)%sizeoftable. 이다.\n",
    "* It is important to note that the size of the “skip” must be such that all the slots in the table will eventually be visited. \n",
    "* skip의 사이즈는 테이블을 모두 방문할 수 있는 skip할수 있는 수임을 중요하게 보아라.\n",
    "* Otherwise, part of the table will be unused. \n",
    "* 그렇지 않다면, 테이블의 일부분은 사용하지 않게 될 것이다.\n",
    "* To ensure this, it is often suggested that the table size be a prime number. \n",
    "* 이것을 보증하기 위해, 테이블 사이즈는 보통 소수 숫자로 만드는것을 권장한다.\n",
    "* This is the reason we have been using 11 in our examples.\n",
    "* 이것이 우리가 예제에서 11을 썼던 이유이다."
   ]
  },
  {
   "cell_type": "markdown",
   "metadata": {},
   "source": [
    "* A variation of the linear probing idea is called quadratic probing. \n",
    "* 선형 탐색의 다른 유형으로는 2차 탐색이다.\n",
    "* Instead of using a constant “skip” value, we use a rehash function that increments the hash value by 1, 3, 5, 7, 9, and so on. \n",
    "* skip 값을 사용하는것 대신에 우리는 rehash 펑션을 사용해 해시 값을 1,3,5,7,9 등등으로 늘리는 것이다.\n",
    "* This means that if the first hash value is h, the successive values are h+1, h+4, h+9, h+16, and so on.\n",
    "* 이것은, 처음 해시 값이 h라면, 성공적인 값은 h+1, h+4, h+9등등 으로 계산되는 것이다.\n",
    "* In other words, quadratic probing uses a skip consisting of successive perfect squares.\n",
    "* 다른 말로, 2차 탐색은 완전 제곱으로 이뤄진다고 말할 수 있다.\n",
    "* Figure 11 shows our example values after they are placed using this technique.\n",
    "* Figure 11은 이 기술을 이용한 예제를 나타낸다."
   ]
  },
  {
   "cell_type": "markdown",
   "metadata": {},
   "source": [
    "* An alternative method for handling the collision problem is to allow each slot to hold a reference to a collection (or chain) of items. \n",
    "* 충돌문제를 다룰 수 있는 대안적인 방법은 각각의 슬롯이 아이템들의 컬렉션 (혹은 체인)의 레퍼런스를 들고있는 것이다.\n",
    "* Chaining allows many items to exist at the same location in the hash table. \n",
    "* 체이닝은 많은 아이템들을 해시 테이블의 같은 위치에 존재할수 있다.\n",
    "* When collisions happen, the item is still placed in the proper slot of the hash table.\n",
    "* 만약 충돌이 일어난다면, 아이템은 여전히 해시 테이블의 적절한 위치에 존재할 것이다.\n",
    "* As more and more items hash to the same location, the difficulty of searching for the item in the collection increases. \n",
    "* 같은 위치에 아이템들이 더 추가된다면, 컬렉션에 있는 아이템을 찾는 난이도는 어려워질 것이다.\n",
    "* Figure 12 shows the items as they are added to a hash table that uses chaining to resolve collisions.\n",
    "* Figure 12 는 체이닝 충돌 해결 방식을 사용한 해시 테이블을 보여준다."
   ]
  },
  {
   "cell_type": "markdown",
   "metadata": {},
   "source": [
    "* When we want to search for an item, we use the hash function to generate the slot where it should reside. \n",
    "* 만약 우리가 아이템을 찾을때, 우리는 해시 펑션을 사용해 그것이 어디 있었는지를 찾아낸다.\n",
    "* Since each slot holds a collection, we use a searching technique to decide whether the item is present. \n",
    "* 각각의 슬롯이 컬렉션을 들고있기 때문에, 우리는 아이템이 있는지 탐색 테크닉을 사용한다.\n",
    "* The advantage is that on the average there are likely to be many fewer items in each slot, so the search is perhaps more efficient. \n",
    "* 이것의 장점은 각각의 슬롯에 적은 아이템만 저장해두고 있기 때문에, 탐색이 더욱 효율적이 될것이라 생각한다.\n",
    "* We will look at the analysis for hashing at the end of this section.\n",
    "* 이 섹션에 끝에서 해싱에 대한 분석을 살펴 볼 것이다."
   ]
  },
  {
   "cell_type": "markdown",
   "metadata": {},
   "source": [
    "## Self Check\n",
    "\n",
    "### Q-1: In a hash table of size 13 which index positions would the following two keys map to? 27, 130\n",
    "* A. 1, 10\n",
    "* B. 13, 0\n",
    "* C. 1, 0\n",
    "* D. 2, 3\n",
    "### Q-1 : 사이즈가 13인 해시테이블에서 다음 두가지 값들의 인덱스 포지션은? C\n",
    "\n",
    "\n",
    "### Q-2: Suppose you are given the following set of keys to insert into a hash table that holds exactly 11 values: 113 , 117 , 97 , 100 , 114 , 108 , 116 , 105 , 99 Which of the following best demonstrates the contents of the hash table after all the keys have been inserted using linear probing? B\n",
    "* A. 100, __, __, 113, 114, 105, 116, 117, 97, 108, 99\n",
    "* B. 99, 100, __, 113, 114, __, 116, 117, 105, 97, 108\n",
    "* C. 100, 113, 117, 97, 14, 108, 116, 105, 99, __, __\n",
    "* D. 117, 114, 108, 116, 105, 99, __, __, 97, 100, 113"
   ]
  }
 ],
 "metadata": {
  "kernelspec": {
   "display_name": "Python 3",
   "language": "python",
   "name": "python3"
  },
  "language_info": {
   "codemirror_mode": {
    "name": "ipython",
    "version": 3
   },
   "file_extension": ".py",
   "mimetype": "text/x-python",
   "name": "python",
   "nbconvert_exporter": "python",
   "pygments_lexer": "ipython3",
   "version": "3.7.3"
  }
 },
 "nbformat": 4,
 "nbformat_minor": 2
}
