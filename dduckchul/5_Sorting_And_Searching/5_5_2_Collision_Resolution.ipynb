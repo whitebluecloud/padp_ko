{
 "cells": [
  {
   "cell_type": "markdown",
   "metadata": {},
   "source": [
    "# 5.5.2. Collision Resolution\n",
    "\n",
    "* We now return to the problem of collisions. \n",
    "* When two items hash to the same slot, we must have a systematic method for placing the second item in the hash table. \n",
    "* This process is called collision resolution. \n",
    "* As we stated earlier, if the hash function is perfect, collisions will never occur. \n",
    "* However, since this is often not possible, collision resolution becomes a very important part of hashing.\n",
    "\n",
    "* One method for resolving collisions looks into the hash table and tries to find another open slot to hold the item that caused the collision. \n",
    "* A simple way to do this is to start at the original hash value position and then move in a sequential manner through the slots until we encounter the first slot that is empty. \n",
    "* Note that we may need to go back to the first slot (circularly) to cover the entire hash table. \n",
    "* This collision resolution process is referred to as open addressing in that it tries to find the next open slot or address in the hash table. \n",
    "* By systematically visiting each slot one at a time, we are performing an open addressing technique called linear probing.\n",
    "\n",
    "* Figure 8 shows an extended set of integer items under the simple remainder method hash function (54,26,93,17,77,31,44,55,20). \n",
    "* Table 4 above shows the hash values for the original items. \n",
    "* Figure 5 shows the original contents. When we attempt to place 44 into slot 0, a collision occurs. \n",
    "* Under linear probing, we look sequentially, slot by slot, until we find an open position. \n",
    "* In this case, we find slot 1.\n",
    "\n",
    "* Again, 55 should go in slot 0 but must be placed in slot 2 since it is the next open position. \n",
    "* The final value of 20 hashes to slot 9. \n",
    "* Since slot 9 is full, we begin to do linear probing. \n",
    "* We visit slots 10, 0, 1, and 2, and finally find an empty slot at position 3."
   ]
  },
  {
   "cell_type": "markdown",
   "metadata": {},
   "source": [
    "* Once we have built a hash table using open addressing and linear probing, it is essential that we utilize the same methods to search for items. \n",
    "* Assume we want to look up the item 93. When we compute the hash value, we get 5. Looking in slot 5 reveals 93, and we can return True. \n",
    "* What if we are looking for 20? Now the hash value is 9, and slot 9 is currently holding 31.\n",
    "* We cannot simply return False since we know that there could have been collisions. \n",
    "* We are now forced to do a sequential search, starting at position 10, looking until either we find the item 20 or we find an empty slot.\n",
    "\n",
    "* A disadvantage to linear probing is the tendency for clustering; items become clustered in the table. \n",
    "* This means that if many collisions occur at the same hash value, a number of surrounding slots will be filled by the linear probing resolution. \n",
    "* This will have an impact on other items that are being inserted, as we saw when we tried to add the item 20 above. \n",
    "* A cluster of values hashing to 0 had to be skipped to finally find an open position. \n",
    "* This cluster is shown in Figure 9."
   ]
  },
  {
   "cell_type": "markdown",
   "metadata": {},
   "source": [
    "* One way to deal with clustering is to extend the linear probing technique so that instead of looking sequentially for the next open slot, we skip slots, \n",
    "* thereby more evenly distributing the items that have caused collisions. \n",
    "* This will potentially reduce the clustering that occurs. \n",
    "* Figure 10 shows the items when collision resolution is done with a “plus 3” probe. \n",
    "* This means that once a collision occurs, we will look at every third slot until we find one that is empty."
   ]
  },
  {
   "cell_type": "markdown",
   "metadata": {},
   "source": [
    "* The general name for this process of looking for another slot after a collision is rehashing. \n",
    "* With simple linear probing, the rehash function is newhashvalue=rehash(oldhashvalue) where rehash(pos)=(pos+1)%sizeoftable. \n",
    "* The “plus 3” rehash can be defined as rehash(pos)=(pos+3)%sizeoftable. \n",
    "* In general, rehash(pos)=(pos+skip)%sizeoftable. \n",
    "* It is important to note that the size of the “skip” must be such that all the slots in the table will eventually be visited. \n",
    "* Otherwise, part of the table will be unused. \n",
    "* To ensure this, it is often suggested that the table size be a prime number. \n",
    "* This is the reason we have been using 11 in our examples."
   ]
  },
  {
   "cell_type": "markdown",
   "metadata": {},
   "source": [
    "* A variation of the linear probing idea is called quadratic probing. \n",
    "* Instead of using a constant “skip” value, we use a rehash function that increments the hash value by 1, 3, 5, 7, 9, and so on. \n",
    "* This means that if the first hash value is h, the successive values are h+1, h+4, h+9, h+16, and so on. \n",
    "* In other words, quadratic probing uses a skip consisting of successive perfect squares. \n",
    "* Figure 11 shows our example values after they are placed using this technique."
   ]
  },
  {
   "cell_type": "markdown",
   "metadata": {},
   "source": [
    "* An alternative method for handling the collision problem is to allow each slot to hold a reference to a collection (or chain) of items. \n",
    "* Chaining allows many items to exist at the same location in the hash table. \n",
    "* When collisions happen, the item is still placed in the proper slot of the hash table. \n",
    "* As more and more items hash to the same location, the difficulty of searching for the item in the collection increases. \n",
    "* Figure 12 shows the items as they are added to a hash table that uses chaining to resolve collisions."
   ]
  },
  {
   "cell_type": "markdown",
   "metadata": {},
   "source": [
    "* When we want to search for an item, we use the hash function to generate the slot where it should reside. \n",
    "* Since each slot holds a collection, we use a searching technique to decide whether the item is present. \n",
    "* The advantage is that on the average there are likely to be many fewer items in each slot, so the search is perhaps more efficient. \n",
    "* We will look at the analysis for hashing at the end of this section."
   ]
  },
  {
   "cell_type": "markdown",
   "metadata": {},
   "source": [
    "## Self Check\n",
    "\n",
    "### Q-1: In a hash table of size 13 which index positions would the following two keys map to? 27, 130\n",
    "* A. 1, 10\n",
    "* B. 13, 0\n",
    "* C. 1, 0\n",
    "* D. 2, 3\n",
    "\n",
    "### Q-2: Suppose you are given the following set of keys to insert into a hash table that holds exactly 11 values: 113 , 117 , 97 , 100 , 114 , 108 , 116 , 105 , 99 Which of the following best demonstrates the contents of the hash table after all the keys have been inserted using linear probing?\n",
    "* A. 100, __, __, 113, 114, 105, 116, 117, 97, 108, 99\n",
    "* B. 99, 100, __, 113, 114, __, 116, 117, 105, 97, 108\n",
    "* C. 100, 113, 117, 97, 14, 108, 116, 105, 99, __, __\n",
    "* D. 117, 114, 108, 116, 105, 99, __, __, 97, 100, 113"
   ]
  }
 ],
 "metadata": {
  "kernelspec": {
   "display_name": "Python 3",
   "language": "python",
   "name": "python3"
  },
  "language_info": {
   "codemirror_mode": {
    "name": "ipython",
    "version": 3
   },
   "file_extension": ".py",
   "mimetype": "text/x-python",
   "name": "python",
   "nbconvert_exporter": "python",
   "pygments_lexer": "ipython3",
   "version": "3.7.3"
  }
 },
 "nbformat": 4,
 "nbformat_minor": 2
}
