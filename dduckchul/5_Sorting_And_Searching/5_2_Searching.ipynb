{
 "cells": [
  {
   "cell_type": "markdown",
   "metadata": {},
   "source": [
    "* We will now turn our attention to some of the most common problems that arise in computing, those of searching and sorting. \n",
    "* 이제 우리는 컴퓨팅 하면서 일반적인 문제들인 탐색과 정렬에 관한 문제들을 알아보자.\n",
    "* In this section we will study searching. We will return to sorting later in the chapter. \n",
    "* 여기 섹션에서 우리는 탐색을 공부하고, 이후 챕터에서는 정렬에 관해 볼것이다.\n",
    "* Searching is the algorithmic process of finding a particular item in a collection of items. \n",
    "* 탐색은 아이템들의 컬렉션에서 특정한 아이템을 찾는 알고리즘 과정이다.\n",
    "* A search typically answers either True or False as to whether the item is present.\n",
    "* 탐색은 일반적으로 아이템이 존재하는지 여부에 따라서 True 혹은 False를 반환한다.\n",
    "* On occasion it may be modified to return where the item is found. \n",
    "* 때떄로 아이템을 찾았으면, 컬렉션을 수정할때도 있다.\n",
    "* For our purposes here, we will simply concern ourselves with the question of membership.\n",
    "* 여기서 탐색을 위해, 우리는 간단하게 멤버 문제를 생각해볼 것이다.\n",
    "* In Python, there is a very easy way to ask whether an item is in a list of items. \n",
    "* 파이썬에서는, 아이템들이 리스트 안에 있는지 찾는 간단한 방법이 있다.\n",
    "* We use the in operator.\n",
    "* 우리는 in 연산자를 사용할 것이다"
   ]
  },
  {
   "cell_type": "code",
   "execution_count": 1,
   "metadata": {},
   "outputs": [
    {
     "name": "stdout",
     "output_type": "stream",
     "text": [
      "False\n"
     ]
    },
    {
     "data": {
      "text/plain": [
       "True"
      ]
     },
     "execution_count": 1,
     "metadata": {},
     "output_type": "execute_result"
    }
   ],
   "source": [
    "print(15 in [3,5,2,4,1])\n",
    "\n",
    "3 in [3,5,2,4,1]"
   ]
  },
  {
   "cell_type": "markdown",
   "metadata": {},
   "source": [
    "* Even though this is easy to write, an underlying process must be carried out to answer the question. \n",
    "* 비록 이것은 쓰기 간단하지만, 질문에 답하기위해 숨겨져 있는 프로세스들을 알아야한다.\n",
    "* It turns out that there are many different ways to search for the item. \n",
    "* 아이템을 탐색하기 위해서는 많은 방법들이 존재한다.\n",
    "* What we are interested in here is how these algorithms work and how they compare to one another.\n",
    "* 여기서 우리가 흥미를 갖고 봐야할 점은 이 알고리즘들이 어떻게 동작하고, 다른 알고리즘과 비교하면 어떤지 이다."
   ]
  }
 ],
 "metadata": {
  "kernelspec": {
   "display_name": "Python 3",
   "language": "python",
   "name": "python3"
  },
  "language_info": {
   "codemirror_mode": {
    "name": "ipython",
    "version": 3
   },
   "file_extension": ".py",
   "mimetype": "text/x-python",
   "name": "python",
   "nbconvert_exporter": "python",
   "pygments_lexer": "ipython3",
   "version": "3.7.3"
  }
 },
 "nbformat": 4,
 "nbformat_minor": 2
}
