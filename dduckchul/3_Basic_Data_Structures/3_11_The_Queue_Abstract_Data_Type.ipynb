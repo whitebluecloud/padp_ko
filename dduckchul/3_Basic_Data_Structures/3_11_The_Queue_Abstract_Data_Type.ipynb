{
 "cells": [
  {
   "cell_type": "markdown",
   "metadata": {},
   "source": [
    "# 3.11. The Queue Abstract Data Type\n",
    "# 3.11. 큐 추상 데이터 타입\n",
    "\n",
    "* The queue abstract data type is defined by the following structure and operations.\n",
    "* 큐 추상 데이터 타입은 다음과 같은 구조와, 연산을 가지고 있다.\n",
    "* A queue is structured, as described above, as an ordered collection of items which are added at one end, called the “rear,” and removed from the other end, called the “front.”\n",
    "* 큐는 위에 말한대로, 순차적인 컬렉션이고. rear라 불리는 end에 아이템이 추가되고 front라 불리는 앞에서 데이터가 제거된다.\n",
    "* Queues maintain a FIFO ordering property. The queue operations are given below.\n",
    "* 큐는 선입선출 순서대로 유지되고. 큐의 연산은 아래와 같이 수행된다.\n",
    "\n",
    "* Queue() creates a new queue that is empty. It needs no parameters and returns an empty queue.\n",
    "* Queue()는 비어있는 큐를 생성한다. 파라미터는 필요없고 비어있는 큐를 반환함.\n",
    "* enqueue(item) adds a new item to the rear of the queue. It needs the item and returns nothing.\n",
    "* enqueue(item)은 큐의 rear에 새로운 아이템을 추가한다. item이 필요하고 리턴 없음\n",
    "* dequeue() removes the front item from the queue. It needs no parameters and returns the item. The queue is modified.\n",
    "* dequeue는 큐의 맨 앞 front에 있는 아이템을 제거한다. 파라미터 필요없고 item을 반환함. queue가 수정된다.\n",
    "* isEmpty() tests to see whether the queue is empty. It needs no parameters and returns a boolean value.\n",
    "* isEmpty()는 큐가 비어있는지 확인한다. 파라미터는 필요없고 불린값을 반환한다.\n",
    "* size() returns the number of items in the queue. It needs no parameters and returns an integer.\n",
    "* size()는 큐에 아이템이 몇개나 있는지 확인한다. 파라미터는 필요없고 정수형을 반환한다.\n",
    "\n",
    "* As an example, if we assume that q is a queue that has been created and is currently empty, then Table 1 shows the results of a sequence of queue operations.\n",
    "* 이 예제로, 우리는 q가 큐 객체로 비어있음을 가정하고 Table1에서 큐 오퍼레이션을 수행했을때 그 결과를 보여준다\n",
    "* The queue contents are shown such that the front is on the right. 4 was the first item enqueued so it is the first item returned by dequeue.\n",
    "* 큐의 컨텐츠는 프론트가 오른쪽에 있음을 보여준다. 4 가 처음 들어온 아이템이고, deque 했을때 가장 먼저 리턴된다.\n"
   ]
  },
  {
   "cell_type": "markdown",
   "metadata": {},
   "source": [
    "| Queue Operation | Queue Contents | Return Value |\n",
    "|-----------------|----------------| -------------|\n",
    "| q.isEmpty() | [] | True |\n",
    "| q.enqueue(4) | [4] | |\t \n",
    "| q.enqueue('dog') | ['dog',4]\t| | \n",
    "| q.enqueue(True) | [True,'dog',4] | |\t \n",
    "| q.size() | [True,'dog',4] | 3 |\n",
    "| q.isEmpty() | [True,'dog',4] | False |\n",
    "| q.enqueue(8.4) | [8.4,True,'dog',4] | |\t \n",
    "| q.dequeue() | [8.4,True,'dog'] | 4 |\n",
    "| q.dequeue() | [8.4,True] | 'dog' |\n",
    "| q.size() | [8.4,True] | 2 |"
   ]
  }
 ],
 "metadata": {
  "kernelspec": {
   "display_name": "Python 3",
   "language": "python",
   "name": "python3"
  },
  "language_info": {
   "codemirror_mode": {
    "name": "ipython",
    "version": 3
   },
   "file_extension": ".py",
   "mimetype": "text/x-python",
   "name": "python",
   "nbconvert_exporter": "python",
   "pygments_lexer": "ipython3",
   "version": "3.7.3"
  }
 },
 "nbformat": 4,
 "nbformat_minor": 2
}
