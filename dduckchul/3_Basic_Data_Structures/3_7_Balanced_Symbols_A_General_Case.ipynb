{
 "cells": [
  {
   "cell_type": "markdown",
   "metadata": {},
   "source": [
    "# 3.7. Balanced Symbols (A General Case)¶\n",
    "# 3.7 균형잡힌 기호 (일반적인 경우)\n",
    "\n",
    "* The balanced parentheses problem shown above is a specific case of a more general situation that arises in many programming languages. \n",
    "* 위에 나와있는 균형잡힌 괄호 문제는 많은 프로그래밍 언어에서 나타나는 특정한 케이스이다.\n",
    "* The general problem of balancing and nesting different kinds of opening and closing symbols occurs frequently. \n",
    "* 더 일반적으로는 중첩되는것과 균형잡힌 기호들이 서로 다른 종류의 여는 괄호와 닫는 괄호로 이뤄져 있는것이다.\n",
    "* For example, in Python square brackets, [ and ], are used for lists; curly braces, { and }, are used for dictionaries; and parentheses, ( and ), are used for tuples and arithmetic expressions.\n",
    "* 예를들어 파이썬의 대괄호는 보통 리스트를 표현할떄 사용된다, 중괄호는 dictionary형을 표현할떄 사용하고, 소괄호는 튜플이나 수학표현을 사용할때 사용된다.\n",
    "* It is possible to mix symbols as long as each maintains its own open and close relationship. Strings of symbols such as\n",
    "* 이런 기호들을 섞어서 열고 닫고 하는 작업을 할수도 있다. 아래와 같은 문자열  \n",
    "\n",
    "```python\n",
    "{ { ( [ ] [ ] ) } ( ) }\n",
    "\n",
    "[ [ { { ( ( ) ) } } ] ]\n",
    "\n",
    "[ ] [ ] [ ] ( ) { }\n",
    "```\n",
    "\n",
    "* are properly balanced in that not only does each opening symbol have a corresponding closing symbol, but the types of symbols match as well.\n",
    "* 은 여는 괄호와 닫는 괄호가 대응할 뿐만아니라 각 기호의 종류끼리도 일치한다.\n",
    "* Compare those with the following strings that are not balanced:\n",
    "* 아래의 균형되지 않은 문자열들과 비교해 보아라\n",
    "\n",
    "```python\n",
    "( [ ) ]\n",
    "\n",
    "( ( ( ) ] ) )\n",
    "\n",
    "[ { ( ) ]\n",
    "```\n",
    "\n",
    "* The simple parentheses checker from the previous section can easily be extended to handle these new types of symbols. \n",
    "* 이전 섹션에서 구현했단 간단한 괄호 체커는 이런 유형의 기호를 추가해준다면 간단하게 구현할 수 있다.\n",
    "* Recall that each opening symbol is simply pushed on the stack to wait for the matching closing symbol to appear later in the sequence.\n",
    "* 스택에 푸쉬된 여는 기호들이 나중에 순차적으로 닫는 기호가 나올것이라고 기대함을 기억해 두어라. \n",
    "* When a closing symbol does appear, the only difference is that we must check to be sure that it correctly matches the type of the opening symbol on top of the stack. \n",
    "* 만약 닫는 괄호가 나타나면 이전 코드와 달라진 것은 스택의 맨 위 여는 괄호가 닫는 괄호와 일치하는지만 판단하면 될 것이다.\n",
    "* If the two symbols do not match, the string is not balanced. \n",
    "* 만약 두 기호가 일치하지 않는다면, 문자열은 균형잡히지 않는것이다.\n",
    "* Once again, if the entire string is processed and nothing is left on the stack, the string is correctly balanced.\n",
    "* 또한, 만약 전체 문자열이 전부 프로세스되고, 스택에 남는것이 없다면, 문자열이 균형잡혔다고 볼 수 있다.\n",
    "\n",
    "* The Python program to implement this is shown in ActiveCode 1. \n",
    "* 위를 구현한 파이썬 프로그램은 아래에 나타나 있다.\n",
    "\n",
    "* The only change appears in line 16 where we call a helper function, matches, to assist with symbol-matching.\n",
    "* 유일하게 이전 코드와 바뀐점은 16라인에 helper function을 호출할때, 여는 괄호가 닫는 괄호가 일치하는지를 판단하는 것이다.\n",
    "\n",
    "* Each symbol that is removed from the stack must be checked to see that it matches the current closing symbol. \n",
    "* 각각의 기호는 스택에서 제거될때 닫는 기호와 일치하는지 판단해야 한다.\n",
    "* If a mismatch occurs, the boolean variable balanced is set to False.\n",
    "* 만약 불일치 한다면, 불린 값이 False로 반환될 것이다"
   ]
  },
  {
   "cell_type": "code",
   "execution_count": 1,
   "metadata": {},
   "outputs": [
    {
     "name": "stdout",
     "output_type": "stream",
     "text": [
      "True\n",
      "False\n"
     ]
    }
   ],
   "source": [
    "from pythonds.basic.stack import Stack\n",
    "\n",
    "def parChecker(symbolString):\n",
    "    s = Stack()\n",
    "    balanced = True\n",
    "    index = 0\n",
    "    while index < len(symbolString) and balanced:\n",
    "        symbol = symbolString[index]\n",
    "        if symbol in \"([{\":\n",
    "            s.push(symbol)\n",
    "        else:\n",
    "            if s.isEmpty():\n",
    "                balanced = False\n",
    "            else:\n",
    "                top = s.pop()\n",
    "                if not matches(top,symbol):\n",
    "                       balanced = False\n",
    "        index = index + 1\n",
    "    if balanced and s.isEmpty():\n",
    "        return True\n",
    "    else:\n",
    "        return False\n",
    "\n",
    "def matches(open,close):\n",
    "    opens = \"([{\"\n",
    "    closers = \")]}\"\n",
    "    return opens.index(open) == closers.index(close)\n",
    "\n",
    "\n",
    "print(parChecker('{{([][])}()}'))\n",
    "print(parChecker('[{()]'))"
   ]
  },
  {
   "cell_type": "markdown",
   "metadata": {},
   "source": [
    "* These two examples show that stacks are very important data structures for the processing of language constructs in computer science. \n",
    "* 이 두개의 스택의 예제들은 프로그래밍 언어의 생성자에서 매우 중요한 역할을 한다.\n",
    "* Almost any notation you can think of has some type of nested symbol that must be matched in a balanced order. \n",
    "* 대부분 당신이 생각할수 있는것들은 모두 중첩된 기호로 구성되어 있고, 균형잡힌 순서대로 있다는것을 알수 있을 것이다.\n",
    "* There are a number of other important uses for stacks in computer science. We will continue to explore them in the next sections.\n",
    "* 이 밖에도 컴퓨터 사이언스에서 스택을 이용한 중요한 구현들이 있다.\n",
    "* 이 다음 섹션에서 그것들을 살펴볼 것이다"
   ]
  }
 ],
 "metadata": {
  "kernelspec": {
   "display_name": "Python 3",
   "language": "python",
   "name": "python3"
  },
  "language_info": {
   "codemirror_mode": {
    "name": "ipython",
    "version": 3
   },
   "file_extension": ".py",
   "mimetype": "text/x-python",
   "name": "python",
   "nbconvert_exporter": "python",
   "pygments_lexer": "ipython3",
   "version": "3.7.3"
  }
 },
 "nbformat": 4,
 "nbformat_minor": 2
}
