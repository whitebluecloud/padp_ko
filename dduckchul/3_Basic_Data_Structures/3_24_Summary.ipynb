{
 "cells": [
  {
   "cell_type": "markdown",
   "metadata": {},
   "source": [
    "# 3.24. Summary\n",
    "# 3.24. 요약\n",
    "\n",
    "* Linear data structures maintain their data in an ordered fashion.\n",
    "* 선형 데이터 구조는 데이터들을 순서대로 보관한다.\n",
    "* Stacks are simple data structures that maintain a LIFO, last-in first-out, ordering.\n",
    "* 스택은 후입선출구조의 단순한 데이터 구조이다\n",
    "* The fundamental operations for a stack are push, pop, and isEmpty.\n",
    "* 스택의 필수적인 오퍼레이션은 push, pop, isEmpty이다.\n",
    "* Queues are simple data structures that maintain a FIFO, first-in first-out, ordering.\n",
    "* 큐는 선입 선출구조의 단순한 데이터 구조이다.\n",
    "* The fundamental operations for a queue are enqueue, dequeue, and isEmpty.\n",
    "* 큐의 필수적인 오퍼레이션은 큐, 엔큐, 디큐, isEmpty이다\n",
    "* Prefix, infix, and postfix are all ways to write expressions.\n",
    "* 전위, 중위, 후위 표현법은 모두 표현을 나태니기 위해 사용하는 방법이다\n",
    "* Stacks are very useful for designing algorithms to evaluate and translate expressions. \n",
    "* 스택은 위 표현법을 평가하고 사용하기 위해 매우 유용한 알고리즘이다\n",
    "* Stacks can provide a reversal characteristic.\n",
    "* 스택은 반대 방향의 특징을 가지고 있다\n",
    "* Queues can assist in the construction of timing simulations.\n",
    "* 큐는 시간에 해당하는 시뮬레이션을 구성할때 도움 줄 수 있다\n",
    "* Simulations use random number generators to create a real-life situation and allow us to answer “what if” types of questions.\n",
    "* 시뮬레이션은 랜덤 번호 생성기를 사용하여 실생활의 시츄에이션을 만들고, 만약 이런일이 생긴다면 이라는 질문에 답이 될 수 있다.\n",
    "* Deques are data structures that allow hybrid behavior like that of stacks and queues.\n",
    "* Deques는 스택과 큐 모두를 가질수 있는 하이브리드 형태의 구조이다\n",
    "* The fundamental operations for a deque are addFront, addRear, removeFront, removeRear, and isEmpty.\n",
    "* Deque의 필수적인 오퍼레이션은 addFront, addRear, removeFront, removeRear, isEmpty이다\n",
    "* Lists are collections of items where each item holds a relative position.\n",
    "* 리스트는 상대적인 위치를 가지고있는 아이템들의 집합이다\n",
    "* A linked list implementation maintains logical order without requiring physical storage requirements.\n",
    "* 링크드 리스트는 논리적인 순서를 가지고 있을필요가 없다\n",
    "* Modification to the head of the linked list is a special case.\n",
    "* 링크드 리스트의 헤드를 변경하는 것은 특별 케이스이다."
   ]
  }
 ],
 "metadata": {
  "kernelspec": {
   "display_name": "Python 3",
   "language": "python",
   "name": "python3"
  },
  "language_info": {
   "codemirror_mode": {
    "name": "ipython",
    "version": 3
   },
   "file_extension": ".py",
   "mimetype": "text/x-python",
   "name": "python",
   "nbconvert_exporter": "python",
   "pygments_lexer": "ipython3",
   "version": "3.7.3"
  }
 },
 "nbformat": 4,
 "nbformat_minor": 2
}
