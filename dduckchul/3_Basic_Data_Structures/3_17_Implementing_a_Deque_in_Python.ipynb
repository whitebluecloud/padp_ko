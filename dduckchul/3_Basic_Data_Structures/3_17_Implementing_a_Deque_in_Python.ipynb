{
 "cells": [
  {
   "cell_type": "markdown",
   "metadata": {},
   "source": [
    "# 3.17. Implementing a Deque in Python¶\n",
    "# 3.17. 파이썬에서 디큐 구현하기\n",
    "\n",
    "* As we have done in previous sections, we will create a new class for the implementation of the abstract data type deque.\n",
    "* 이전 섹션들에서 구현한것처럼. 디큐 타입을 구현한 새 클래스를 만들어보자\n",
    "* Again, the Python list will provide a very nice set of methods upon which to build the details of the deque. \n",
    "* 또다시 리스트는 이런 디큐의 세부사항을 구현하기 좋기떄문에 리스트를 사용할것이다.\n",
    "* Our implementation (Listing 1) will assume that the rear of the deque is at position 0 in the list.\n",
    "* Listing1 에 나와있는 구현체는 디큐의 rear는 리스트에서 0번에 위치한다고 가정할것이다."
   ]
  },
  {
   "cell_type": "code",
   "execution_count": 1,
   "metadata": {},
   "outputs": [],
   "source": [
    "# Listing 1\n",
    "\n",
    "class Deque:\n",
    "    def __init__(self):\n",
    "        self.items = []\n",
    "\n",
    "    def isEmpty(self):\n",
    "        return self.items == []\n",
    "\n",
    "    def addFront(self, item):\n",
    "        self.items.append(item)\n",
    "\n",
    "    def addRear(self, item):\n",
    "        self.items.insert(0,item)\n",
    "\n",
    "    def removeFront(self):\n",
    "        return self.items.pop()\n",
    "\n",
    "    def removeRear(self):\n",
    "        return self.items.pop(0)\n",
    "\n",
    "    def size(self):\n",
    "        return len(self.items)"
   ]
  },
  {
   "cell_type": "markdown",
   "metadata": {},
   "source": [
    "* In removeFront we use the pop method to remove the last element from the list.\n",
    "* removeFront는 리스트의 마지막 요소를 pop하는것으로 구현할 것이다\n",
    "* However, in removeRear, the pop(0) method must remove the first element of the list. \n",
    "* 그러나 removeRear는 pop(0)을 사용해 리스트의 처음 엘리먼트를 제거할 것이다\n",
    "* Likewise, we need to use the insert method (line 12) in addRear since the append method assumes the addition of a new element to the end of the list.\n",
    "* 마찬가지로, 12라인에 있는것처럼 addRear는 insert메소드를 사용해 0번 위치에서 엘리먼트를 추가해 리스트의 맨 처음에 엘리먼트를 추가할 것이다\n",
    "\n",
    "* CodeLens 1 shows the Deque class in action as we perform the sequence of operations from Table 1.\n",
    "* 아래코드가 앞에 테이블 1에서 사용했던 액션들을 보여준다."
   ]
  },
  {
   "cell_type": "code",
   "execution_count": 2,
   "metadata": {},
   "outputs": [
    {
     "name": "stdout",
     "output_type": "stream",
     "text": [
      "True\n",
      "4\n",
      "False\n",
      "8.4\n",
      "True\n"
     ]
    }
   ],
   "source": [
    "d=Deque()\n",
    "print(d.isEmpty())\n",
    "d.addRear(4)\n",
    "d.addRear('dog')\n",
    "d.addFront('cat')\n",
    "d.addFront(True)\n",
    "print(d.size())\n",
    "print(d.isEmpty())\n",
    "d.addRear(8.4)\n",
    "print(d.removeRear())\n",
    "print(d.removeFront())"
   ]
  },
  {
   "cell_type": "markdown",
   "metadata": {},
   "source": [
    "* You can see many similarities to Python code already described for stacks and queues.\n",
    "* 스택과 큐에서 이미 설명했던것과 많은 비슷한 코드를 보았을것이다.\n",
    "* You are also likely to observe that in this implementation adding and removing items from the front is O(1) whereas adding and removing from the rear is O(n).\n",
    "* 또한 아이템의 추가 삭제를 관찰하며 front에 아이템을 추가, 삭제하면 O(1)이고 rear에 아이템을 추가 삭제하면 O(n)의 시간이 걸리는것을 볼수 있다.\n",
    "* This is to be expected given the common operations that appear for adding and removing items. \n",
    "* 이것은 아이템을 추가 삭제하는데 기본 오퍼레이션을 사용하기 때문이다.\n",
    "* Again, the important thing is to be certain that we know where the front and rear are assigned in the implementation.\n",
    "* 다시한번, 여기서 중요한것은 구현에서 어디가 프론트이고, 어디를 rear로 정해놓은것을 확실히 하는 것이다."
   ]
  }
 ],
 "metadata": {
  "kernelspec": {
   "display_name": "Python 3",
   "language": "python",
   "name": "python3"
  },
  "language_info": {
   "codemirror_mode": {
    "name": "ipython",
    "version": 3
   },
   "file_extension": ".py",
   "mimetype": "text/x-python",
   "name": "python",
   "nbconvert_exporter": "python",
   "pygments_lexer": "ipython3",
   "version": "3.7.3"
  }
 },
 "nbformat": 4,
 "nbformat_minor": 2
}
