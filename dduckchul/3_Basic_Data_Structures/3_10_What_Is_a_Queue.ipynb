{
 "cells": [
  {
   "cell_type": "markdown",
   "metadata": {},
   "source": [
    "# 3.1. What Is a Queue?\n",
    "# 3.10. 큐란?\n",
    "\n",
    "* A queue is an ordered collection of items where the addition of new items happens \n",
    "at one end, called the “rear,” and the removal of existing items occurs at the other end, commonly called the “front.” \n",
    "* 큐란 순차적인 컬렉션이며, 새로운 아이템이 rear라고 불리는 끝에 추가되고 그 반대 front라고 불리는 곳에서 아이템이 지워지는 것이다.\n",
    "* As an element enters the queue it starts at the rear and makes its way toward the front, waiting until that time when it is the next element to be removed.\n",
    "* 어떤 요소가 큐에 들어가면 rear에 들어가서 front로 이동하고, 다음 요소가 지워질때까지 그만큼 시간이 소요된다.\n",
    "\n",
    "* The most recently added item in the queue must wait at the end of the collection. \n",
    "* 가장 최근에 큐에 들어간 아이템이 컬렉션의 맨 마지막에서 기다리고 있다.\n",
    "* The item that has been in the collection the longest is at the front. \n",
    "* 컬렉션에서 가장 오래 기다리고 있었던것은 프론트에 있다\n",
    "* This ordering principle is sometimes called FIFO, first-in first-out. It is also known as “first-come first-served.”\n",
    "* 이 오더링 규칙은 선입선출로 불린다.\n",
    "\n",
    "* The simplest example of a queue is the typical line that we all participate in from time to time.\n",
    "* 간단한 큐의 예제는 우리가 시간의 흐름대로 기다리는것을 들 수 있다\n",
    "* We wait in a line for a movie, we wait in the check-out line at a grocery store, and we wait in the cafeteria line (so that we can pop the tray stack). \n",
    "* 영화관이나, 식료품점, 식당에서 줄을 서서 기다린다.\n",
    "* Well-behaved lines, or queues, are very restrictive in that they have only one way in and only one way out.\n",
    "* 줄이나 큐는 1개의 출/입구가 있을 뿐이다\n",
    "* There is no jumping in the middle and no leaving before you have waited the necessary amount of time to get to the front.\n",
    "* 가운데로 점프하는 것이나 front로 가기 전에 벗어나는 것은 없다\n",
    "* Figure 1 shows a simple queue of Python data objects.\n",
    "* 1번 그림이 파이썬 데이터 오브젝트가 Queue에 있을떄를 나타낸다.\n",
    "\n",
    "* Computer science also has common examples of queues. \n",
    "* 컴퓨터 사이언스는 마찬가지로 큐의 예제를 가지고 있다\n",
    "* Our computer laboratory has 30 computers networked with a single printer. \n",
    "* 우리 컴퓨터 랩실은 30개 컴퓨터가 1대의 네트워크 연결된 프린터가 있다\n",
    "* When students want to print, their print tasks “get in line” with all the other printing tasks that are waiting. \n",
    "* 만약에 학생들이 프린트를 한다면, 프린트작업은 다른 프린트작업들에 이어 줄을 서게 될것\n",
    "* The first task in is the next to be completed. \n",
    "* 가장 처음 들어온 태스크가 다음에 처리될것\n",
    "* If you are last in line, you must wait for all the other tasks to print ahead of you. \n",
    "* 만약 마지막에 들어온것이라면 다른 태스크가 처리될때까지 기다려야한다\n",
    "* We will explore this interesting example in more detail later.\n",
    "* 이것에 대한 재밌는 예제를 추후에 다룰것이다\n",
    "\n",
    "* In addition to printing queues, operating systems use a number of different queues to control processes within a computer. \n",
    "* 프린팅 큐와 더불어 os에서는 컴퓨터안에서 다양하게 큐를 사용하고 있다.\n",
    "* The scheduling of what gets done next is typically based on a queuing algorithm that tries to execute programs as quickly as possible and serve as many users as it can. \n",
    "* 다음에 수행할것을 정하는것은 큐잉 알고리즘에 따라 구성되어 있고, 이것은 많은 유저들이 프로그램을 이용할수 있게 한다\n",
    "* Also, as we type, sometimes keystrokes get ahead of the characters that appear on the screen. \n",
    "* 또한 우리가 타이핑할때 keystrokes가 화면에 나타난다.\n",
    "* This is due to the computer doing other work at that moment. \n",
    "* 이것은 컴퓨터가 그떄 다른 일을 하고 있기 때문이다\n",
    "* The keystrokes are being placed in a queue-like buffer so that they can eventually be displayed on the screen in the proper order.\n",
    "* keystrokes가 큐 같은 버퍼에 있기 때문에, 우리는 적절한 순서대로 화면에 표시되는것을 볼수 있음\n",
    "\n"
   ]
  }
 ],
 "metadata": {
  "kernelspec": {
   "display_name": "Python 3",
   "language": "python",
   "name": "python3"
  },
  "language_info": {
   "codemirror_mode": {
    "name": "ipython",
    "version": 3
   },
   "file_extension": ".py",
   "mimetype": "text/x-python",
   "name": "python",
   "nbconvert_exporter": "python",
   "pygments_lexer": "ipython3",
   "version": "3.7.3"
  }
 },
 "nbformat": 4,
 "nbformat_minor": 2
}
