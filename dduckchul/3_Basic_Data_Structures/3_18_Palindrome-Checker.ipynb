{
 "cells": [
  {
   "cell_type": "markdown",
   "metadata": {},
   "source": [
    "# 3.18. Palindrome-Checker\n",
    "# 3.18. 회문 확인기\n",
    "\n",
    "* An interesting problem that can be easily solved using the deque data structure is the classic palindrome problem.\n",
    "* 우리가 디큐 데이터 구조로 간단하게 풀수 있는 문제는 회문인지 확인하는 기능이다\n",
    "* A palindrome is a string that reads the same forward and backward, for example, radar, toot, and madam. \n",
    "* 회문은 앞으로 읽으나 뒤로 읽으나 똑같이 읽을수있는 문자열이다.\n",
    "* 예를들어 radar, toot, madam이 있다.\n",
    "* We would like to construct an algorithm to input a string of characters and check whether it is a palindrome.\n",
    "* 우리는 문자열이 회문인지를 체크하는 알고리즘을 만들것이다.\n",
    "\n",
    "* The solution to this problem will use a deque to store the characters of the string. \n",
    "* 이 문제를 해결하기 위해 문자열을 deque에 저장할 것이다\n",
    "* We will process the string from left to right and add each character to the rear of the deque. At this point, the deque will be acting very much like an ordinary queue.\n",
    "* 우리는 스트링을 왼쪽에서 오른쪽으로 디큐의 rear에 저장할것이다. 디큐는 보통의 queue 처럼 동작할것이다.\n",
    "* However, we can now make use of the dual functionality of the deque.\n",
    "* 그러나 우리는 디큐의 두가지 기능을 사용할 수 있다\n",
    "* The front of the deque will hold the first character of the string and the rear of the deque will hold the last character (see Figure 2).\n",
    "* 디큐의 front는 디큐의 rear와 동일한 글자를 들고있을 것이다\n",
    "\n",
    "* Since we can remove both of them directly, we can compare them and continue only if they match.\n",
    "* 단순하게 우리는 둘을 비교하여 그들이 일치하는지 비교한다\n",
    "* If we can keep matching first and the last items, we will eventually either run out of characters or be left with a deque of size 1 depending on whether the length of the original string was even or odd. \n",
    "* 만약 우리가 첫 아이템과 마지막 아이템을 계속 비교해가다보면 디큐의 사이즈가 1이 남을것이다 이것은 처음 문자가 홀수개였는지 짝수개 였는지에 따라 다르다.\n",
    "* In either case, the string must be a palindrome. The complete function for palindrome-checking appears in ActiveCode 1.\n",
    "* 두가지 케이스에서, 스트링은 반드시 회문이어야 한다.\n",
    "* 회문 확인하는 펑션은 아래에서 확인 할 수 있다."
   ]
  },
  {
   "cell_type": "code",
   "execution_count": 3,
   "metadata": {},
   "outputs": [
    {
     "name": "stdout",
     "output_type": "stream",
     "text": [
      "False\n",
      "True\n",
      "True\n"
     ]
    }
   ],
   "source": [
    "from pythonds.basic.deque import Deque\n",
    "\n",
    "def palchecker(aString):\n",
    "    chardeque = Deque()\n",
    "\n",
    "    for ch in aString:\n",
    "        chardeque.addRear(ch)\n",
    "\n",
    "    stillEqual = True\n",
    "\n",
    "    while chardeque.size() > 1 and stillEqual:\n",
    "        first = chardeque.removeFront()\n",
    "        last = chardeque.removeRear()\n",
    "        if first != last:\n",
    "            stillEqual = False\n",
    "\n",
    "    return stillEqual\n",
    "\n",
    "print(palchecker(\"lsdkjfskf\"))\n",
    "print(palchecker(\"radar\"))\n",
    "print(palchecker(\"소주 만병만 주소\"))"
   ]
  }
 ],
 "metadata": {
  "kernelspec": {
   "display_name": "Python 3",
   "language": "python",
   "name": "python3"
  },
  "language_info": {
   "codemirror_mode": {
    "name": "ipython",
    "version": 3
   },
   "file_extension": ".py",
   "mimetype": "text/x-python",
   "name": "python",
   "nbconvert_exporter": "python",
   "pygments_lexer": "ipython3",
   "version": "3.7.3"
  }
 },
 "nbformat": 4,
 "nbformat_minor": 2
}
