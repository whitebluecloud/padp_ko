{
 "cells": [
  {
   "cell_type": "markdown",
   "metadata": {},
   "source": [
    "# 3.4. The Stack Abstract Data Type\n",
    "# 3.4. 스택 추상 데이터 타입\n",
    "\n",
    "* The stack abstract data type is defined by the following structure and operations.\n",
    "* 스택 추상 데이터 타입은 다음의 구조와 연산으로 규정된다\n",
    "* A stack is structured, as described above, as an ordered collection of items where items are added to and removed from the end called the “top.” \n",
    "* 스택은 top이라는 곳에서 아이템의 추가와 삭제가 이뤄지는 ordered 컬렉션이다.\n",
    "* Stacks are ordered LIFO. The stack operations are given below.\n",
    "* 스택은 후입 선출이고 스택의 오퍼레이션은 다음과 같다"
   ]
  },
  {
   "cell_type": "markdown",
   "metadata": {},
   "source": [
    "* Stack() creates a new stack that is empty. It needs no parameters and returns an empty stack.\n",
    "* 스택은 빈 스택을 만든다, 빈 스택을 만드는데는 파라미터 불필요\n",
    "* push(item) adds a new item to the top of the stack. It needs the item and returns nothing.\n",
    "* 푸시는 스택의 탑에 새로운 아이템을 추가한다, 아이템이 필요하고 리턴은 없어도됨\n",
    "* pop() removes the top item from the stack. It needs no parameters and returns the item. The stack is modified.\n",
    "* pop은 스택의 탑에서 아이템을 제거한다 이것은 파라미터 없어도 되고 아이템을 반환한다. 스택은 수정된다\n",
    "* peek() returns the top item from the stack but does not remove it. It needs no parameters. The stack is not modified. \n",
    "* peek 은 탑의 가장 상위 아이템을 보여준다. 스택은 제거하지 않는다 파라미터도 필요없고 스택도 수정되지 않는다\n",
    "* isEmpty() tests to see whether the stack is empty. It needs no parameters and returns a boolean value.\n",
    "* isempty는 스택이 비어있는지 보여준다. 파라미터가 필요없고 불린 값을 반환한다.\n",
    "* size() returns the number of items on the stack. It needs no parameters and returns an integer.\n",
    "* size는 스택에 있는 아이템의 수를 반환한다. 파라미터가 필요없고 정수형을 반환한다.\n",
    "* For example, if s is a stack that has been created and starts out empty, then Table 1 shows the results of a sequence of stack operations. \n",
    "* 예를들어 스택이 만들어지고 비어있는 채로 시작하게 되면 Table1처럼 실행할떄 결과값을 보여준다, \n",
    "* Under stack contents, the top item is listed at the far right.\n",
    "* 스택의 컨텐츠에서 top item은 맨 오른쪽에 위치한다"
   ]
  },
  {
   "cell_type": "markdown",
   "metadata": {},
   "source": [
    "| Stack Operation | Stack Contents | Return Value |\n",
    "------------------|----------------|----------------|\n",
    "|s.isEmpty()|[]|True|\n",
    "|s.push(4)|[4]|\t|\n",
    "|s.push('dog')|[4,'dog']| |\t \n",
    "|s.peek()|[4,'dog']|'dog'|\n",
    "|s.push(True)|[4,'dog',True]| |\t \n",
    "|s.size()|[4,'dog',True]|3|\n",
    "|s.isEmpty()|[4,'dog',True]|False|\n",
    "|s.push(8.4)|[4,'dog',True,8.4]| |\t \n",
    "|s.pop()|[4,'dog',True]|8.4|\n",
    "|s.pop()|[4,'dog']|True|\n",
    "|s.size()|[4,'dog']|2|"
   ]
  }
 ],
 "metadata": {
  "kernelspec": {
   "display_name": "Python 3",
   "language": "python",
   "name": "python3"
  },
  "language_info": {
   "codemirror_mode": {
    "name": "ipython",
    "version": 3
   },
   "file_extension": ".py",
   "mimetype": "text/x-python",
   "name": "python",
   "nbconvert_exporter": "python",
   "pygments_lexer": "ipython3",
   "version": "3.7.3"
  }
 },
 "nbformat": 4,
 "nbformat_minor": 2
}
