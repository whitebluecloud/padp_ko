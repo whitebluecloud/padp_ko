{
 "cells": [
  {
   "cell_type": "markdown",
   "metadata": {},
   "source": [
    "# 3.16. The Deque Abstract Data Type\n",
    "# 3.16. 디큐 추상 데이터 타입\n",
    "\n",
    "* The deque abstract data type is defined by the following structure and operations.\n",
    "* 디큐 추상 데이터 타입은 다음의 구조와 연산을 할수 있다\n",
    "* A deque is structured, as described above, as an ordered collection of items where items are added and removed from either end, either front or rear. \n",
    "* 디큐는 앞에서 언급한것처럼 순서정해진 아이템의 컬렉션이고, 아이템들은 양 ends인 front나 rear에서 추가 혹은 삭제될 수 있다.\n",
    "* The deque operations are given below.\n",
    "* 디큐의 연산은 아래에 나와있는것 처럼 할수 있음.\n",
    "\n",
    "* Deque() creates a new deque that is empty. It needs no parameters and returns an empty deque.\n",
    "* Deque() 는 새로운 비어있는 디큐 오브젝트를 만들고, 파라미터가 필요없다. 비어있는 새 deque를 반환한다.\n",
    "* addFront(item) adds a new item to the front of the deque. It needs the item and returns nothing.\n",
    "* addFront(item)은 새로운 아이템을 디큐의 front에 추가한다. 아이템이 필요하고 아무것도 반환하지 않는다.\n",
    "* addRear(item) adds a new item to the rear of the deque. It needs the item and returns nothing.\n",
    "* addRear는 디큐의 rear에 아이템을 추가한다. item이 필요하고 아무것도 반환하지 않는다.\n",
    "* removeFront() removes the front item from the deque. It needs no parameters and returns the item. The deque is modified.\n",
    "* removeFront()는 디큐의 front에서 아이템을 삭제한다. 파라미터는 필요하지 않고 item을 반환한다. deque는 수정된다.\n",
    "* removeRear() removes the rear item from the deque. It needs no parameters and returns the item. The deque is modified.\n",
    "* removeRear()는 디큐의 rear에서 아이템을 제거한다. 파라미터는 필요하지 않고 item을 반환한다. deque는 수정된다.\n",
    "* isEmpty() tests to see whether the deque is empty. It needs no parameters and returns a boolean value.\n",
    "* isEmpty()는 디큐가 비어있는지 확인해보는 것이다. 파라미터는 필요없고, boolean값을 반환한다.\n",
    "* size() returns the number of items in the deque. It needs no parameters and returns an integer.\n",
    "* size()는 디큐 안에있는 요소의 수를 반환한다. 파라미터는 필요없고 integer값을 반환한다\n",
    "\n",
    "* As an example, if we assume that d is a deque that has been created and is currently empty, then Table {dequeoperations} shows the results of a sequence of deque operations. \n",
    "* 예제로, d를 디큐로 만들어서 디큐의 연산과정을 보여준다.\n",
    "* Note that the contents in front are listed on the right. \n",
    "* front는 리스트의 오른쪽에 있는것을 참고해라\n",
    "* It is very important to keep track of the front and the rear as you move items in and out of the collection as things can get a bit confusing.\n",
    "* front와 rear에서 컬렉션의 아이템을 추가 삭제할수 있기때문에 헷갈릴수 있는것을 조심해라 \n"
   ]
  },
  {
   "cell_type": "markdown",
   "metadata": {},
   "source": [
    "| Deque Operation | Deque Contents | Return Value |\n",
    "| --------------- | -------------- | ------------ |\n",
    "| d.isEmpty() | [] | True |\n",
    "| d.addRear(4) | [4] | |\t \n",
    "| d.addRear('dog') | ['dog',4,] | |\t \n",
    "| d.addFront('cat') | ['dog',4,'cat'] | | \n",
    "| d.addFront(True) | ['dog',4,'cat',True] | | \t \n",
    "| d.size() | ['dog',4,'cat',True] | 4 |\n",
    "| d.isEmpty() | ['dog',4,'cat',True] | False | \n",
    "| d.addRear(8.4) | [8.4,'dog',4,'cat',True] | |\t \n",
    "| d.removeRear() |['dog',4,'cat',True] | 8.4 |\n",
    "| d.removeFront() | ['dog',4,'cat'] | True |"
   ]
  }
 ],
 "metadata": {
  "kernelspec": {
   "display_name": "Python 3",
   "language": "python",
   "name": "python3"
  },
  "language_info": {
   "codemirror_mode": {
    "name": "ipython",
    "version": 3
   },
   "file_extension": ".py",
   "mimetype": "text/x-python",
   "name": "python",
   "nbconvert_exporter": "python",
   "pygments_lexer": "ipython3",
   "version": "3.7.3"
  }
 },
 "nbformat": 4,
 "nbformat_minor": 2
}
