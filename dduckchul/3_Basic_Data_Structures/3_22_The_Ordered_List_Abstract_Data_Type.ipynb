{
 "cells": [
  {
   "cell_type": "markdown",
   "metadata": {},
   "source": [
    "# 3.22. The Ordered List Abstract Data Type\n",
    "# 3.22. 순서 있는 추상 데이터 타입\n",
    "\n",
    "* We will now consider a type of list known as an ordered list. \n",
    "* 이제는 순서 있는 리스트 유형을 생각해 볼 것이다.\n",
    "* For example, if the list of integers shown above were an ordered list (ascending order), then it could be written as 17, 26, 31, 54, 77, and 93. \n",
    "* 예를 들어, 만약 위에 있었던 정수 리스트들이 순서 있는 리스트였다면 (오름차순) 17, 26, 31, 54, 77, 93 순이 되었을 것이다 \n",
    "* Since 17 is the smallest item, it occupies the first position in the list.\n",
    "* 17이 가장 작은 수 이기 떄문에, 리스트의 맨 처음을 차지할 것이다\n",
    "* Likewise, since 93 is the largest, it occupies the last position.\n",
    "* 마찬가지로 93이 가장 크므로 마지막 위치를 차지할 것이다\n",
    "\n",
    "* The structure of an ordered list is a collection of items where each item holds a relative position that is based upon some underlying characteristic of the item. \n",
    "* 순서가 있는 리스트 구조는 아이템의 특징에 따라 상대적인 위치를 아이템이 들고 있는 것이다.\n",
    "* The ordering is typically either ascending or descending and we assume that list items have a meaningful comparison operation that is already defined. \n",
    "* 순서는 보통 오름차순 혹은 내림차순 이며, 리스트의 아이템들을 비교가능하여, 순서를 매길수 있도록 이미 정의 되었을 것이다.\n",
    "* Many of the ordered list operations are the same as those of the unordered list.\n",
    "* 많은 순서 있는 리스트의 연산들은 순서 없는 리스트와 비슷하다\n",
    "* OrderedList() creates a new ordered list that is empty. It needs no parameters and returns an empty list.\n",
    "* OrderedList() 는 새로운 순서있는 리스트를 만들고, 비어있다. 이것은 파라미가 필요없고 빈 리스트를 반환한다.\n",
    "* add(item) adds a new item to the list making sure that the order is preserved. \n",
    "* add(item) 은 새로운 아이템을 리스트에 추가하고, 순서는 유지된다.\n",
    "* It needs the item and returns nothing. Assume the item is not already in the list.\n",
    "* 아이템이 필요하고 반환값은 아무것도 없다. 아이템이 리스트에 없다고 가정할 것이다.\n",
    "* remove(item) removes the item from the list. It needs the item and modifies the list. Assume the item is present in the list.\n",
    "* remove(item)은 리스트에 아이템을 삭제할 것이다. item이 필요하고, 리스트를 수정한다. 아이템은 리스트에 있다고 가정한다.\n",
    "* search(item) searches for the item in the list. It needs the item and returns a boolean value.\n",
    "* search(item)은 리스트 안의 아이템을 찾는다. item이 필요하고, boolean값을 반환한다.\n",
    "* isEmpty() tests to see whether the list is empty. It needs no parameters and returns a boolean value.\n",
    "* isEmpty()는 리스트가 비어있는지 확인한다. 파라미터는 필요 없고 boolean값을 반환한다.\n",
    "* size() returns the number of items in the list. It needs no parameters and returns an integer.\n",
    "* size()는 리스트 안의 아이템 숫자를 반환한다. 파라미터는 필요없고 정수를 반환한다.\n",
    "* index(item) returns the position of item in the list. It needs the item and returns the index. Assume the item is in the list.\n",
    "* index(item)은 리스트 안의 아이템이 몇번째인지 반환한다. 아이템이 필요하고, index를 반환한다. 아이템은 리스트안에 있다고 가정한다. \n",
    "* pop() removes and returns the last item in the list. It needs nothing and returns an item. Assume the list has at least one item.\n",
    "* pop() 은 리스트의 마지막 아이템을 지우고 반환한다. 아무것도 필요하지 않고 item을 반환한다. 리스트는 최소한 한가지 아이템이 있다고 가정한다.\n",
    "* pop(pos) removes and returns the item at position pos. It needs the position and returns the item. Assume the item is in the list.\n",
    "* pop(pos)는 선택한 위치에 있는 아이템을 지우고 반환한다. position이 필요하고, 아이템을 반환한다. item이 리스트 안에 있다고 가정한다."
   ]
  }
 ],
 "metadata": {
  "kernelspec": {
   "display_name": "Python 3",
   "language": "python",
   "name": "python3"
  },
  "language_info": {
   "codemirror_mode": {
    "name": "ipython",
    "version": 3
   },
   "file_extension": ".py",
   "mimetype": "text/x-python",
   "name": "python",
   "nbconvert_exporter": "python",
   "pygments_lexer": "ipython3",
   "version": "3.7.3"
  }
 },
 "nbformat": 4,
 "nbformat_minor": 2
}
