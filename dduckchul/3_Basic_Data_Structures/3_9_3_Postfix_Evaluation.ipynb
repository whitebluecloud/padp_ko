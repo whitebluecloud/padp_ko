{
 "cells": [
  {
   "cell_type": "markdown",
   "metadata": {},
   "source": [
    "# 3.9.3. Postfix Evaluation\n",
    "# 3.9.3. 후위 표현법 계산하기\n",
    "\n",
    "* As a final stack example, we will consider the evaluation of an expression that is already in postfix notation. \n",
    "* 마지막 스택의 예제로 후위 표현식을 구현한것을 계산해볼 것이다\n",
    "* In this case, a stack is again the data structure of choice. \n",
    "* 이 경우에 스택이 데이터 구조로 다시 쓰일것이다.\n",
    "* However, as you scan the postfix expression, it is the operands that must wait, not the operators as in the conversion algorithm above.\n",
    "* 그러나, 후위 표현식에서 본 알고리즘과 다르게 피연산자들이 연산되지 않고 저장되어 있어야 한다.\n",
    "* Another way to think about the solution is that whenever an operator is seen on the input, the two most recent operands will be used in the evaluation.\n",
    "* 이런 문제의 해결책은 INPUT에 연산자가 들어왔을때 가장 최신 피연산자들이 계산되는것이다\n",
    "\n",
    "* To see this in more detail, consider the postfix expression 4 5 6 * +. \n",
    "* 좀더 자세히 들어가서, 4 5 6 * +. 후위 표현식을 생각해 보자.\n",
    "* As you scan the expression from left to right, you first encounter the operands 4 and 5. \n",
    "* 표현식을 왼쪽에서 오른쪽으로 읽었을때 만 처음 피연산자 4와 5가 보일것이다.\n",
    "* At this point, you are still unsure what to do with them until you see the next symbol.\n",
    "* 여기서는 아직 이것들을 가지고 다음 기호가 나오기 전까지 어떻게 해야될지 모를것이다\n",
    "* Placing each on the stack ensures that they are available if an operator comes next.\n",
    "* 연산자가 다음에 올때까지 스택에 계속 넣을것\n",
    "\n",
    "* In this case, the next symbol is another operand. So, as before, push it and check the next symbol.\n",
    "* 이 경우에는 다음 기호가 또 다른 피연산자이다. 그러므로 스택에 푸쉬하고 다음 기호를 확인해볼것\n",
    "* Now we see an operator, *. This means that the two most recent operands need to be used in a multiplication operation. \n",
    "* 이제 연산자 *를 확인 할 수 있을것이다. 이것은 가장 치근의 두개 연산자가 곱셈연산이 필요한것을 알려준다.\n",
    "* By popping the stack twice, we can get the proper operands and then perform the multiplication (in this case getting the result 30).\n",
    "* 스택에서 팝을 두번하면, 우리는 적절한 피연산자들을 얻을 수 있고 곱셈연산을 수행할수 있다. (여기서 값은 30이 된다)\n",
    "\n",
    "* We can now handle this result by placing it back on the stack so that it can be used as an operand for the later operators in the expression. \n",
    "* 이제 이 결과값을 다시 스택에 푸쉬하여 다음에 있을 연산의 연산자로 사용하자\n",
    "* When the final operator is processed, there will be only one value left on the stack. \n",
    "* 마지막 연산자가 수행되면 스택에는 1개의 값만 있을것이다.\n",
    "* Pop and return it as the result of the expression. Figure 10 shows the stack contents as this entire example expression is being processed.\n",
    "* POP하고 이것의 결과값을 반환하라. Figure10에 이 과정이 나와있다.\n",
    "\n",
    "* Figure 11 shows a slightly more complex example, 7 8 + 3 2 + /. \n",
    "* Figure 11에는 좀더 복잡한 예제가 나와있다. 7 8 + 3 2 + /.\n",
    "* There are two things to note in this example. \n",
    "* 이 예제에는 두가지 주목할 점이 있다\n",
    "* First, the stack size grows, shrinks, and then grows again as the subexpressions are evaluated. \n",
    "* 먼저 스택의 사이즈가 커지고, 줄고, 다시 커지는것을 계산이 일어날때마다 반복된다.\n",
    "* Second, the division operation needs to be handled carefully. \n",
    "* 둘째로 나누기 연산은 조심스럽게 이뤄져야 한다.\n",
    "* Recall that the operands in the postfix expression are in their original order since postfix changes only the placement of operators. \n",
    "* 후위 표현법의 피연산자들은 연산 순서대로 써져있음을 상기하라\n",
    "* When the operands for the division are popped from the stack, they are reversed.\n",
    "* 나누기를 위한 피연산자들이 스택에서 pop되면 이것들은 저장된다.\n",
    "* Since division is not a commutative operator, in other words 15/5 is not the same as 5/15, we must be sure that the order of the operands is not switched.\n",
    "* 나누기는 순서를 바꾸면 성립되지 않는 연산자이므로 (15/5와 5/15가 다름)\n",
    "* 우리는 반드시 피연산자들의 순서가 바뀌지 않게끔 해야한다.\n",
    "\n",
    "* Assume the postfix expression is a string of tokens delimited by spaces. \n",
    "* 후위 표현식이 스페이스로 구분된 문자열으로 가장하자\n",
    "* The operators are *, /, +, and - and the operands are assumed to be single-digit integer values. The output will be an integer result.\n",
    "* 연산자들은 *, /, +, -이고 피연산자들은 1자리수의 정수형 값이다.\n",
    "* 결과값은 정수형이 될것이다.\n",
    "\n",
    "1. Create an empty stack called operandStack.\n",
    "* operandStack이라는 빈 스택을 만들기\n",
    "2. Convert the string to a list by using the string method split.\n",
    "* 문자열에서 split메소드 사용하여 리스트로 만들어 주기\n",
    "3. Scan the token list from left to right.\n",
    "* 위 리스트를 왼쪽 오른쪽 순서대로 읽어라\n",
    "  * If the token is an operand, convert it from a string to an integer and push the value onto the operandStack.\n",
    "  * 만약 토큰이 피연산자면, 문자열을 정수형으로 변환하고 operandStack으로 푸쉬해라\n",
    "  * If the token is an operator, *, /, +, or -, it will need two operands. Pop the operandStack twice. The first pop is the second operand and the second pop is the first operand. Perform the arithmetic operation. Push the result back on the operandStack.\n",
    "  * 만약 토큰이 연산자라면, 두개의 피연산자가 필요할 것이다 operandStack을 두번 pop해라. 처음 pop된 피연산자가 두번쨰 피연산자이고 두번쨰 pop된 피연산자가 첫번쨰 피연산자이다. 계산하고 결과값을 다시 스택에 넣을것\n",
    "4. When the input expression has been completely processed, the result is on the stack. Pop the operandStack and return the value.\n",
    "* input이 모두 프로세싱되면, 결과값이 stack에 있을것이다.\n",
    "* operandStack을 pop하고 결과값을 반환하라.\n",
    "\n",
    "* The complete function for the evaluation of postfix expressions is shown in ActiveCode 2. \n",
    "* 이를 구현한 코드가 아래에 있다\n",
    "* To assist with the arithmetic, a helper function doMath is defined that will take two operands and an operator and then perform the proper arithmetic operation.\n",
    "* 계산을 돕기위해, doMath라는 펑션을 사용해 두개 피 연산자와 연산자를 계산하는것을 정의했다"
   ]
  },
  {
   "cell_type": "code",
   "execution_count": 1,
   "metadata": {},
   "outputs": [
    {
     "name": "stdout",
     "output_type": "stream",
     "text": [
      "3.0\n"
     ]
    }
   ],
   "source": [
    "from pythonds.basic.stack import Stack\n",
    "\n",
    "def postfixEval(postfixExpr):\n",
    "    operandStack = Stack()\n",
    "    tokenList = postfixExpr.split()\n",
    "\n",
    "    for token in tokenList:\n",
    "        if token in \"0123456789\":\n",
    "            operandStack.push(int(token))\n",
    "        else:\n",
    "            operand2 = operandStack.pop()\n",
    "            operand1 = operandStack.pop()\n",
    "            result = doMath(token,operand1,operand2)\n",
    "            operandStack.push(result)\n",
    "    return operandStack.pop()\n",
    "\n",
    "def doMath(op, op1, op2):\n",
    "    if op == \"*\":\n",
    "        return op1 * op2\n",
    "    elif op == \"/\":\n",
    "        return op1 / op2\n",
    "    elif op == \"+\":\n",
    "        return op1 + op2\n",
    "    else:\n",
    "        return op1 - op2\n",
    "\n",
    "print(postfixEval('7 8 + 3 2 + /'))\n"
   ]
  },
  {
   "cell_type": "markdown",
   "metadata": {},
   "source": [
    "* It is important to note that in both the postfix conversion and the postfix evaluation programs we assumed that there were no errors in the input expression.\n",
    "* 후위 표현식 변환과 계싼 프로그램들은 input에 에러가 없다는것을 가증하고 만든것이다\n",
    "* Using these programs as a starting point, you can easily see how error detection and reporting can be included. We leave this as an exercise at the end of the chapter.\n",
    "* 만약 이걸 처음부터 만든다면 에러를 감지하는것이 포함될것이다.\n",
    "* 이것은 챕터에 끝에서 해볼수 있을것"
   ]
  },
  {
   "cell_type": "code",
   "execution_count": 12,
   "metadata": {},
   "outputs": [],
   "source": [
    "from pythonds.basic.stack import Stack\n",
    "\n",
    "def infixToPostfix(infixexpr):\n",
    "    prec = {}\n",
    "    prec[\"**\"] = 4\n",
    "    prec[\"*\"] = 3\n",
    "    prec[\"/\"] = 3\n",
    "    prec[\"+\"] = 2\n",
    "    prec[\"-\"] = 2\n",
    "    prec[\"(\"] = 1\n",
    "    opStack = Stack()\n",
    "    postfixList = []\n",
    "    tokenList = infixexpr.split()\n",
    "\n",
    "    for token in tokenList:\n",
    "        if token in \"ABCDEFGHIJKLMNOPQRSTUVWXYZ\" or token in \"0123456789\":\n",
    "            postfixList.append(token)\n",
    "        elif token == '(':\n",
    "            opStack.push(token)\n",
    "        elif token == ')':\n",
    "            topToken = opStack.pop()\n",
    "            while topToken != '(':\n",
    "                postfixList.append(topToken)\n",
    "                topToken = opStack.pop()\n",
    "        else:\n",
    "            while (not opStack.isEmpty()) and \\\n",
    "               (prec[opStack.peek()] >= prec[token]):\n",
    "                  postfixList.append(opStack.pop())\n",
    "            opStack.push(token)\n",
    "\n",
    "    while not opStack.isEmpty():\n",
    "        postfixList.append(opStack.pop())\n",
    "    return \" \".join(postfixList)"
   ]
  },
  {
   "cell_type": "markdown",
   "metadata": {},
   "source": [
    "## self check\n",
    "\n",
    "* Without using the activecode infixToPostfix function, convert the following expression to postfix 10 + 3 * 5 / (16 - 4)  \n",
    "* 10 3 5 * 16 4 - / +\n",
    "\n",
    "* What is the result of evaluating the following: 17 10 + 3 * 9 / == \n",
    "* 9\n",
    "\n",
    "* Modify the infixToPostfix function so that it can convert the following expression: 5 * 3 ** (4 - 2) Paste the answer here:  "
   ]
  },
  {
   "cell_type": "code",
   "execution_count": 14,
   "metadata": {},
   "outputs": [
    {
     "name": "stdout",
     "output_type": "stream",
     "text": [
      "5 3 4 2 - ** *\n"
     ]
    }
   ],
   "source": [
    "print(infixToPostfix(\"5 * 3 ** ( 4 - 2 )\"))"
   ]
  }
 ],
 "metadata": {
  "kernelspec": {
   "display_name": "Python 3",
   "language": "python",
   "name": "python3"
  },
  "language_info": {
   "codemirror_mode": {
    "name": "ipython",
    "version": 3
   },
   "file_extension": ".py",
   "mimetype": "text/x-python",
   "name": "python",
   "nbconvert_exporter": "python",
   "pygments_lexer": "ipython3",
   "version": "3.7.3"
  }
 },
 "nbformat": 4,
 "nbformat_minor": 2
}
