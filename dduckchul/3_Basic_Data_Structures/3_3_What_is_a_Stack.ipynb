{
 "cells": [
  {
   "cell_type": "markdown",
   "metadata": {},
   "source": [
    "# 3.3. What is a Stack?\n",
    "# 3.3. 스택이란?\n",
    "\n",
    "* A stack (sometimes called a “push-down stack”) is an ordered collection of items where the addition of new items and the removal of existing items always takes place at the same end. \n",
    "* 스택이란 (push-down stack으로 불리기도함) 새로운 요소들이 ends에서 추가되고 삭제되는 구조이다\n",
    "* This end is commonly referred to as the “top.” The end opposite the top is known as the “base.”\n",
    "* 이 end는 보통 top 이라고 부른다. top의 반대는 base라고 부른다.\n",
    "\n",
    "* The base of the stack is significant since items stored in the stack that are closer to the base represent those that have been in the stack the longest.\n",
    "* 스택의 base는 스택에서 base에 가까울수록 가장 오래있었던 요소임을 나타낸다.\n",
    "* The most recently added item is the one that is in position to be removed first.\n",
    "* 가장 최근에 추가된 요소는 가장 먼저 없어진다.\n",
    "* This ordering principle is sometimes called LIFO, last-in first-out. \n",
    "* 이런 오더 방법을 후입선출 이라고 부른다\n",
    "* It provides an ordering based on length of time in the collection.\n",
    "* 이것은 컬렉션의 오더링을 시간에 따라 할수있게 한다.\n",
    "* Newer items are near the top, while older items are near the base.\n",
    "* 새로운 요소들은 TOP에 가깝고 옛날 요소들은 BASE에 가깝다."
   ]
  },
  {
   "cell_type": "markdown",
   "metadata": {},
   "source": [
    "* Many examples of stacks occur in everyday situations. \n",
    "* 많은 스택의 예제들이 매일 일어난다.\n",
    "* Almost any cafeteria has a stack of trays or plates where you take the one at the top, uncovering a new tray or plate for the next customer in line.\n",
    "* 대부분의 식당들이 tray나 접시들을 스택을 쌓아두어서 위로부터 다음 손님이 꺼내갈 수 있게 한다.\n",
    "* Imagine a stack of books on a desk (Figure 1). \n",
    "* 책상에 쌓인 책을 생각해보라\n",
    "* The only book whose cover is visible is the one on top.\n",
    "* 맨 위에있는 책의 책커버만 보일것이다\n",
    "* To access others in the stack, we need to remove the ones that are sitting on top of them.\n",
    "* 스택의 다른것에 접근하기 위해서는 맨 위에있는것을 삭제해야 될것이다.\n",
    "* Figure 2 shows another stack. This one contains a number of primitive Python data objects.\n",
    "* figure2는 다른 스택을 표현하고 있다. 이것은 파이썬의 primitive 데이터 오브젝트를 표현한다."
   ]
  },
  {
   "cell_type": "markdown",
   "metadata": {},
   "source": [
    "* One of the most useful ideas related to stacks comes from the simple observation of items as they are added and then removed.\n",
    "* 스택의 가장 유용한 사용법은 그 아이템들이 추가되고 지워지는 방법에 있다. \n",
    "* Assume you start out with a clean desktop. Now place books one at a time on top of each other.\n",
    "* 깨끗한 책상을 가정하고, 책을 그 위에 계속 쌓아보아라\n",
    "* You are constructing a stack. Consider what happens when you begin removing books.\n",
    "* 지금 당신은 스택을 만들고 있다. 만약 이 책을 치울때를 가정해보아라.\n",
    "* The order that they are removed is exactly the reverse of the order that they were placed. \n",
    "* 이것들이 제거되는 순서는 정확하게 쌓은 순서에 반대이다.\n",
    "* Stacks are fundamentally important, as they can be used to reverse the order of items. \n",
    "* 스택은 기본적으로 아이템들의 역방향으로 오더링 할떄 중요하게 사용된다.\n",
    "* The order of insertion is the reverse of the order of removal. \n",
    "* 삽입 순서의 반대가 제거 순서이다.\n",
    "* Figure 3 shows the Python data object stack as it was created and then again as items are removed. Note the order of the objects.\n",
    "* figure3이 파이썬 데이터 오브젝트 스택이 만들어지고 아이템이 꺼내지는것을 나타낸다. 순서에 주목할것."
   ]
  },
  {
   "cell_type": "markdown",
   "metadata": {},
   "source": [
    "* Considering this reversal property, you can perhaps think of examples of stacks that occur as you use your computer.\n",
    "* 이 반대의 구성요소를 생각해면 당신의 컴퓨터 사용할때 몇몇 예제를 알수 있을 것이다.\n",
    "* For example, every web browser has a Back button.\n",
    "* 예를들어 모든 웹 브라우저는 뒤로가기 버튼이 있다.\n",
    "* As you navigate from web page to web page, those pages are placed on a stack (actually it is the URLs that are going on the stack).\n",
    "* 만약 웹페이지를 이동한다면 그 페이지들은 stack으로 쌓이게 된다\n",
    "* The current page that you are viewing is on the top and the first page you looked at is at the base.\n",
    "* 지금 당신이 보고 있는 페이지가 TOP이고 맨 처음 본 페이지가 base이다\n",
    "* If you click on the Back button, you begin to move in reverse order through the pages.\n",
    "* 당신이 뒤로가기 버튼을 누른다면 지금까지 거쳐왔던 페이지의 반대방향으로 움직일 것이다."
   ]
  }
 ],
 "metadata": {
  "kernelspec": {
   "display_name": "Python 3",
   "language": "python",
   "name": "python3"
  },
  "language_info": {
   "codemirror_mode": {
    "name": "ipython",
    "version": 3
   },
   "file_extension": ".py",
   "mimetype": "text/x-python",
   "name": "python",
   "nbconvert_exporter": "python",
   "pygments_lexer": "ipython3",
   "version": "3.7.3"
  }
 },
 "nbformat": 4,
 "nbformat_minor": 2
}
