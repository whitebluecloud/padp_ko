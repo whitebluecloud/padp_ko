{
 "cells": [
  {
   "cell_type": "markdown",
   "metadata": {},
   "source": [
    "# 3.8. Converting Decimal Numbers to Binary Numbers\n",
    "# 3.8 10진수를 2진수로 바꾸기\n",
    "\n",
    "* In your study of computer science, you have probably been exposed in one way or another to the idea of a binary number. \n",
    "* 당신이 컴퓨터 사이언스를 공부하면서, 아마 이진수에 대한 아이디어들을 경험해 봤을 것이다.\n",
    "* Binary representation is important in computer science since all values stored within a computer exist as a string of binary digits, a string of 0s and 1s. \n",
    "* 이진 표기법은 컴퓨터 과학에서 매우 중요하다. 왜냐하면 컴퓨터가 문자열을 이진 숫자로 저장해 두기 때문에 (스트링에서 0과 1로 저장해둠)\n",
    "* Without the ability to convert back and forth between common representations and binary numbers, we would need to interact with computers in very awkward ways.\n",
    "* 일반적인 표현과 이진 표현법을 변환하는 작업 없이 우리가 컴퓨터와 상호작용하기는 매우 어려울 것이다\n",
    "\n",
    "* Integer values are common data items. They are used in computer programs and computation all the time.\n",
    "* 정수형 값들은 매우 흔한 데이터이다. 이들은 컴퓨터 프로그램과, 연산작용에서 흔히 사용된다.\n",
    "* We learn about them in math class and of course represent them using the decimal number system, or base 10. \n",
    "* 우리는 이것들을 math 클래스에서 배웠고, 10진수를 사용해서 나타냄을 알수 있다.\n",
    "* The decimal number 233(10) and its corresponding binary equivalent 11101001(2) are interpreted respectively as\n",
    "* 10진수의 233과 그에 상응하는 2진수 11101001은 아래와 같이 표현된다.\n",
    "\n",
    "> 2×10^2+3×10^1+3×100\n",
    "> and\n",
    "> 1×2^7+1×2^6+1×2^5+0×2^4+1×2^3+0×2^2+0×2^1+1×2^0\n",
    "\n",
    "* But how can we easily convert integer values into binary numbers? The answer is an algorithm called “Divide by 2” that uses a stack to keep track of the digits for the binary result.\n",
    "* 어떻게하면 정수형을 이진수로 쉽게 바꿀수 있을까? 답은 2로 나누기라는 알고리즘을 사용하면 된다. 2로 나눈값들을 스택으로 저장해 두어 이진수로 갖고있는 것이다.\n",
    "* The Divide by 2 algorithm assumes that we start with an integer greater than 0.\n",
    "* 2로 나누기 알고리즘은 0보다 큰 정수형을 가정한다.\n",
    "* A simple iteration then continually divides the decimal number by 2 and keeps track of the remainder.\n",
    "* 단순한 반복문이 10진수를 계속 나누고 나머지값을 기록해 둔다.\n",
    "* The first division by 2 gives information as to whether the value is even or odd. An even value will have a remainder of 0. \n",
    "* 첫번째 2를 나눈 값이 홀수인지 짝수인지에 따라서 값이 나오게 될것이다. 짝수값은 나머지가 0이 될것이다\n",
    "* It will have the digit 0 in the ones place. \n",
    "* 이것은 해당하는 위치에 0값을 갖게 될것이다.\n",
    "* An odd value will have a remainder of 1 and will have the digit 1 in the ones place.\n",
    "* 홀수 값은 1의 나머지가 있고, 그 위치에 1의 값을 갖게 될 것이다.\n",
    "* We think about building our binary number as a sequence of digits; the first remainder we compute will actually be the last digit in the sequence. \n",
    "* 우리는 이진수를 digit의 순서대로 갖고있음을 알게 될 것이다. 첫번째 나머지가 순서에서 마지막 digit이 될것이다.\n",
    "* As shown in Figure 5, we again see the reversal property that signals that a stack is likely to be the appropriate data structure for solving the problem.\n",
    "* Figure5에 있는 것처럼 나와있는것처럼 우리는 또다시 역순서의 프로퍼티를 갖고있는것은 스택이 이 문제를 해결하기 위해 가장 적절한 데이터 구조임을 알 수 있다.\n",
    "* The Python code in ActiveCode 1 implements the Divide by 2 algorithm.\n",
    "* 아래의 파이썬 코드가 2로 나누기 알고리즘을 구현한 것이다\n",
    "* The function divideBy2 takes an argument that is a decimal number and repeatedly divides it by 2. \n",
    "* 2로 나누기 펑션은 10진수를 인자로 받고 반복해서 2로 나누고 있다\n",
    "* Line 7 uses the built-in modulo operator, %, to extract the remainder and line 8 then pushes it on the stack. \n",
    "* 7번 라인은 빌트인 모듈로 연산자인 %를 사용하여 나머지를 추출하고 스택으로 푸쉬한다.\n",
    "* After the division process reaches 0, a binary string is constructed in lines 11-13. Line 11 creates an empty string. \n",
    "* 나누기 과정이 0에 도달하면, 이진수 문자열을 11-13라인에서 만든다. 11라인은 빈 문자열을 생성하는 것\n",
    "* The binary digits are popped from the stack one at a time and appended to the right-hand end of the string. The binary string is then returned.\n",
    "* 이진수는 스택에서 하나씩 팝되며, 시간의 역순으로 뽑아진다.\n"
   ]
  },
  {
   "cell_type": "code",
   "execution_count": 1,
   "metadata": {},
   "outputs": [
    {
     "name": "stdout",
     "output_type": "stream",
     "text": [
      "101010\n"
     ]
    }
   ],
   "source": [
    "from pythonds.basic.stack import Stack\n",
    "\n",
    "def divideBy2(decNumber):\n",
    "    remstack = Stack()\n",
    "\n",
    "    while decNumber > 0:\n",
    "        rem = decNumber % 2\n",
    "        remstack.push(rem)\n",
    "        decNumber = decNumber // 2\n",
    "\n",
    "    binString = \"\"\n",
    "    while not remstack.isEmpty():\n",
    "        binString = binString + str(remstack.pop())\n",
    "\n",
    "    return binString\n",
    "\n",
    "print(divideBy2(42))\n"
   ]
  },
  {
   "cell_type": "markdown",
   "metadata": {},
   "source": [
    "* The algorithm for binary conversion can easily be extended to perform the conversion for any base. \n",
    "* 이 2진수로 변환하는 알고리즘은 몇진수로 변환하든 쉽게 바꿀수 있다.\n",
    "* In computer science it is common to use a number of different encodings. \n",
    "* 컴퓨터 사이언스에서는 숫자를 몇가지 다른 인코딩으로 쉽게 변환할 수 있다.\n",
    "* The most common of these are binary, octal (base 8), and hexadecimal (base 16).\n",
    "* 이것들중 가장 자주 사용하는것들은 2진, 8진, 16진수이다.\n",
    "\n",
    "* The decimal number 233 and its corresponding octal and hexadecimal equivalents 351(8) and E9(16) are interpreted as\n",
    "* 10진수 233에 대응하는 8진수 351과 16진수 E9는 아래와 같이 표현된다\n",
    "\n",
    "> 3×8^2+5×8^1+1×8^0\n",
    "> and\n",
    "> 14×16^1+9×16^0\n",
    "\n",
    "* The function divideBy2 can be modified to accept not only a decimal value but also a base for the intended conversion. \n",
    "* 2로 나누기 펑션은 다른 숫자 기반으로도 수정될 수 있다\n",
    "* The “Divide by 2” idea is simply replaced with a more general “Divide by base.”\n",
    "* 2로 나누기 아이디어는 base로 나누기라는 아이디어로 쉽게 바꿀 수 있다.\n",
    "* A new function called baseConverter, shown in ActiveCode 2, takes a decimal number and any base between 2 and 16 as parameters. \n",
    "* 아래와 같이 baseConverter라는 펑션을 사용하면, 10진수를 받아서 2~16사이의 정수를 받아서 지수로 표현한다.\n",
    "* The remainders are still pushed onto the stack until the value being converted becomes 0. \n",
    "* 나머지는 stack으로 푸쉬 될 것이고, 0이 될때까지 변환될 것이다.\n",
    "* The same left-to-right string construction technique can be used with one slight change. Base 2 through base 10 numbers need a maximum of 10 digits, so the typical digit characters 0, 1, 2, 3, 4, 5, 6, 7, 8, and 9 work fine. \n",
    "* 스트링을 만드는 구조는 여전히 같을 것이다. 10진수 까지는 0부터 9까지의 숫자로 표현할 수 있으므로 괜찮을것이다 \n",
    "* The problem comes when we go beyond base 10.\n",
    "* 문제는 지수가 10 이상일 때이다.\n",
    "* We can no longer simply use the remainders, as they are themselves represented as two-digit decimal numbers.\n",
    "* 우리는 더이상 나머지가 두자리수 이상이 되었기 때문에 단순하게 사용할 수 없다\n",
    "* Instead we need to create a set of digits that can be used to represent those remainders beyond 9.\n",
    "* 대신 우리는 digit들의 셋을 만들어서 9가 넘는 나머지들을 표현하고자 한다"
   ]
  },
  {
   "cell_type": "code",
   "execution_count": 4,
   "metadata": {},
   "outputs": [
    {
     "name": "stdout",
     "output_type": "stream",
     "text": [
      "11001\n",
      "19\n",
      "1D\n"
     ]
    }
   ],
   "source": [
    "from pythonds.basic.stack import Stack\n",
    "\n",
    "def baseConverter(decNumber,base):\n",
    "    digits = \"0123456789ABCDEF\"\n",
    "\n",
    "    remstack = Stack()\n",
    "\n",
    "    while decNumber > 0:\n",
    "        rem = decNumber % base\n",
    "        remstack.push(rem)\n",
    "        decNumber = decNumber // base\n",
    "\n",
    "    newString = \"\"\n",
    "    while not remstack.isEmpty():\n",
    "        newString = newString + digits[remstack.pop()]\n",
    "\n",
    "    return newString\n",
    "\n",
    "print(baseConverter(25,2))\n",
    "print(baseConverter(25,16))\n",
    "print(baseConverter(29,16))\n"
   ]
  },
  {
   "cell_type": "markdown",
   "metadata": {},
   "source": [
    "* A solution to this problem is to extend the digit set to include some alphabet characters. \n",
    "* 이 문제를 해결하기 위한 해결법으로는 알파벳 철자를 숫자 대신에 넣는것이다\n",
    "* For example, hexadecimal uses the ten decimal digits along with the first six alphabet characters for the 16 digits. \n",
    "* 예를들어 16진수는 10이 넘는 수를 처음 알파벳 6자리로 대체한다.\n",
    "* To implement this, a digit string is created (line 4 in Listing 6) that stores the digits in their corresponding positions.\n",
    "* 이를 구현하기 위해 digitString을 정의해서 그것에 위치에 맞는 문자를 만들어 놓는 것이다\n",
    "* 0 is at position 0, 1 is at position 1, A is at position 10, B is at position 11, and so on. \n",
    "* 0은 0 위치에, 1은 1 위치에, A는 10 위치에, B는 11위치에 그리고 이어서 16까지 계속된다\n",
    "* When a remainder is removed from the stack, it can be used to index into the digit string and the correct resulting digit can be appended to the answer. \n",
    "* 나머지가 스택에서 POP될때 인덱스를 사용해서 digitString의 인덱스에서 알맞는 문자를 꺼낸다\n",
    "* For example, if the remainder 13 is removed from the stack, the digit D is appended to the resulting string.\n",
    "* 예를들어 13의 나머지는 스트링에서 D로 반환됨\n"
   ]
  },
  {
   "cell_type": "markdown",
   "metadata": {},
   "source": [
    "## Self Check\n",
    "\n",
    "* What is value of 25 expressed as an octal number - 31(8)\n",
    "\n",
    "* What is value of 256 expressed as a hexidecimal number - 100(16)\n",
    "\n",
    "* What is value of 26 expressed in base 26 - 10(26)"
   ]
  }
 ],
 "metadata": {
  "kernelspec": {
   "display_name": "Python 3",
   "language": "python",
   "name": "python3"
  },
  "language_info": {
   "codemirror_mode": {
    "name": "ipython",
    "version": 3
   },
   "file_extension": ".py",
   "mimetype": "text/x-python",
   "name": "python",
   "nbconvert_exporter": "python",
   "pygments_lexer": "ipython3",
   "version": "3.7.3"
  }
 },
 "nbformat": 4,
 "nbformat_minor": 2
}
