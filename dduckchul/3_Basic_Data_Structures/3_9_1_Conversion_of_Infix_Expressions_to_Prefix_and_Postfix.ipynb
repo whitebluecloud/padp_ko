{
 "cells": [
  {
   "cell_type": "markdown",
   "metadata": {},
   "source": [
    "* So far, we have used ad hoc methods to convert between infix expressions and the equivalent prefix and postfix expression notations.\n",
    "* 지금까지 우리는 중위 표현법을 전위 표현법과 후위 표현법으로 변경하는 방법을 살펴보았다.\n",
    "* As you might expect, there are algorithmic ways to perform the conversion that allow any expression of any complexity to be correctly transformed.\n",
    "* 당신이 추측하는대로, 이 변환과정을 수행하는 데는 알고리즘적인 방법이 존재한다.\n",
    "\n",
    "* The first technique that we will consider uses the notion of a fully parenthesized expression that was discussed earlier.\n",
    "* 첫번쨰 방법으로는, 처음에 논의 했던대로 완전히 괄호로 이루어진 표현법을 사용하는 것이다.\n",
    "* Recall that A + B * C can be written as (A + (B * C)) to show explicitly that the multiplication has precedence over the addition. \n",
    "* A + B * C 가 (A + (B * C)) 로 표현될 수 있는것은 명시적으로 곱셈이 덧셈보다 더 연산 우선순위를 가진다는것을 나타낸다.\n",
    "* On closer observation, however, you can see that each parenthesis pair also denotes the beginning and the end of an operand pair with the corresponding operator in the middle.\n",
    "* 좀더 자세히 보자면, 각각의 괄호 쌍이 연산자와 더불어 피연산자의 시작과 끝에 있는것을 알 수 있다.\n",
    "\n",
    "* Look at the right parenthesis in the subexpression (B * C) above.\n",
    "* (B * C) 표현법에서 오른쪽 괄호쪽을 보아라\n",
    "* If we were to move the multiplication symbol to that position and remove the matching left parenthesis, giving us B C *, we would in effect have converted the subexpression to postfix notation. \n",
    "* 만약 곱셈 기호를 오른쪽으로 이동하고 해당하는 왼쪽 괄호를 지운다면, B C *가 될것이다 이렇게 되면 안쪽 괄호의 표현법을 후위 표현법으로 바꾼것이다.\n",
    "* If the addition operator were also moved to its corresponding right parenthesis position and the matching left parenthesis were removed, the complete postfix expression would result (see Figure 6).\n",
    "* 만약 덧셈 기호 역시 그에 대응하는 오른쪽 괄호로 이동하고 왼쪽 갈호를 지운다면 완벽한 후위 표현법을 얻을 수 있다.\n",
    "\n",
    "* If we do the same thing but instead of moving the symbol to the position of the right parenthesis, we move it to the left, we get prefix notation (see Figure 7). \n",
    "* 이와 같은 작업을 반복하는 것처럼, 오른쪽에 있는 괄호 대신 왼쪽의 괄호로 옮겨본면, 우리는 전위 표현법을 얻게 될 것이다\n",
    "* The position of the parenthesis pair is actually a clue to the final position of the enclosed operator.\n",
    "* 괄호 쌍의 위치는 그것을 에워싸는 연산자의 위치에 대한 열쇠가 된다\n",
    "\n",
    "* So in order to convert an expression, no matter how complex, to either prefix or postfix notation, fully parenthesize the expression using the order of operations.\n",
    "* 따라서 표현법을 변한한다면, 얼마나 그것이 복잡하던지, prefix나 postfix 기법을 사용하던지 완전히 괄호처리된 표현법은 연산자의 순서를 사용한다. \n",
    "* Then move the enclosed operator to the position of either the left or the right parenthesis depending on whether you want prefix or postfix notation.\n",
    "* 그리고 에워싸는 연산자가 왼쪽에 위치하는지 오른쪽에 위치하는지는 전위표현법인지 후위 표현법에 따른지인지 나와있다.\n",
    "\n",
    "* Here is a more complex expression: (A + B) * C - (D - E) * (F + G). Figure 8 shows the conversion to postfix and prefix notations."
   ]
  }
 ],
 "metadata": {
  "kernelspec": {
   "display_name": "Python 3",
   "language": "python",
   "name": "python3"
  },
  "language_info": {
   "codemirror_mode": {
    "name": "ipython",
    "version": 3
   },
   "file_extension": ".py",
   "mimetype": "text/x-python",
   "name": "python",
   "nbconvert_exporter": "python",
   "pygments_lexer": "ipython3",
   "version": "3.7.3"
  }
 },
 "nbformat": 4,
 "nbformat_minor": 2
}
