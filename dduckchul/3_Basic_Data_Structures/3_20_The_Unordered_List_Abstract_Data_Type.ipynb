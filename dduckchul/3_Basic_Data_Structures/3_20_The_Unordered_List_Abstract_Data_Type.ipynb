{
 "cells": [
  {
   "cell_type": "markdown",
   "metadata": {},
   "source": [
    "# 3.20. The Unordered List Abstract Data Type\n",
    "# 3.20. 순서 정해지지 않은 리스트의 추상 데이터 타입\n",
    "\n",
    "* The structure of an unordered list, as described above, is a collection of items where each item holds a relative position with respect to the others. \n",
    "* 순서 정해지지 않은 리스트의 구조는 위에서 봤던것과 같이 아이템들이 서로 상대적인 위치에 존재하는 아이템의 컬렉션이다.\n",
    "* Some possible unordered list operations are given below.\n",
    "* 순서 정해지지 않은 리스트의 오퍼레이션은 아래와 같다"
   ]
  },
  {
   "cell_type": "markdown",
   "metadata": {},
   "source": [
    "* List() creates a new list that is empty. It needs no parameters and returns an empty list.\n",
    "* List() 는 비어있는 리스트를 생성, 파라미터 필요없고 빈 리스트를 만든다.\n",
    "* add(item) adds a new item to the list. It needs the item and returns nothing. Assume the item is not already in the list.\n",
    "* add(Item)은 리스트에 새로운 아이템을 추가한다. 아이템이 필요하고 리턴값은 없다.\n",
    "* remove(item) removes the item from the list. It needs the item and modifies the list. Assume the item is present in the list.\n",
    "* remove(item)은 리스트에서 아이템을 제거한다. 아이템이 필요하고 리스트를 수정한다.\n",
    "* 아이템은 리스트 안에 있다고 가정한다.\n",
    "* search(item) searches for the item in the list. It needs the item and returns a boolean value.\n",
    "* search(item)은 리스트 안에 들어있는 아이템을 찾는다, 아이템이 필요하고 boolean값을 반환한다.\n",
    "* isEmpty() tests to see whether the list is empty. It needs no parameters and returns a boolean value.\n",
    "* isEmpty()는  리스트가 비어있는지 확인한다. 파라미터 필요없고 boolean값을 반환한다.\n",
    "* size() returns the number of items in the list. It needs no parameters and returns an integer.\n",
    "* size()는 리스트 안에 들어있는 아이템의 숫자를 반환한다.\n",
    "* 파라미터는 필요없고 정수형을 반환한다.\n",
    "* append(item) adds a new item to the end of the list making it the last item in the collection.\n",
    "* append(item)은 리스트의 끝에 새로운 아이템을 추가하고, 그것을 컬렉션의 마지막 아이템이라고 가리킨다.\n",
    "* It needs the item and returns nothing. Assume the item is not already in the list.\n",
    "* 이것은 아이템이 필요하고 리턴값은 없다. 아이템은 이미 리스트에 없다고 가정한다.\n",
    "* index(item) returns the position of item in the list. It needs the item and returns the index. Assume the item is in the list.\n",
    "* index(item)은 아이템의 인덱스 포지션을 반환한다. 아이템이 필요하고 index를 반환한다. 아이템이 리스트 안에 있다고 가정한다.\n",
    "* insert(pos,item) adds a new item to the list at position pos. It needs the item and returns nothing. Assume the item is not already in the list and there are enough existing items to have position pos.\n",
    "* insert(post,item)은 pos라는 위치에 아이템을 추가한다.\n",
    "* 아이템이 필요하고, 반환값은 없다. 아이템이 이미 리스트에 있지 않다고 가정하고. 포지션값 pos가 있을만큼 충분한 아이템이 존재한다고 하자.\n",
    "* pop() removes and returns the last item in the list. It needs nothing and returns an item. Assume the list has at least one item.\n",
    "* pop()은 리스트의 마지막 아이템을 반환한다. 아무것도 필요하지 않고 item을 리턴한다.리스트가 최소 하나를 갖고있다고 가정하자.\n",
    "* pop(pos) removes and returns the item at position pos. It needs the position and returns the item. Assume the item is in the list.\n",
    "* pop(pos)는 포지션 위치에 있는 아이템을 반환하다. 위치값이 필요하고, 아이템을 리턴한다. 아이템이 리스트 안에 있다고 가정하자."
   ]
  }
 ],
 "metadata": {
  "kernelspec": {
   "display_name": "Python 3",
   "language": "python",
   "name": "python3"
  },
  "language_info": {
   "codemirror_mode": {
    "name": "ipython",
    "version": 3
   },
   "file_extension": ".py",
   "mimetype": "text/x-python",
   "name": "python",
   "nbconvert_exporter": "python",
   "pygments_lexer": "ipython3",
   "version": "3.7.3"
  }
 },
 "nbformat": 4,
 "nbformat_minor": 2
}
