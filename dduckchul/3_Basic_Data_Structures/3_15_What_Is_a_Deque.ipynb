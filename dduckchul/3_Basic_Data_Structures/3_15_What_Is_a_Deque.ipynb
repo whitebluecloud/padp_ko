{
 "cells": [
  {
   "cell_type": "markdown",
   "metadata": {},
   "source": [
    "# 3.15. What Is a Deque?\n",
    "# 3.15. 디큐란?\n",
    "\n",
    "* A deque, also known as a double-ended queue, is an ordered collection of items similar to the queue. \n",
    "* deque는 double-ended 큐로도 알려져있으며, 큐와 비슷한 순차적 컬렉션이다\n",
    "* It has two ends, a front and a rear, and the items remain positioned in the collection. \n",
    "* 이것은 두개의 ends를 가지고 있으며, front와 rear로 나타낸다. 그리고 아이템들은 컬력션에 위치한다.\n",
    "* What makes a deque different is the unrestrictive nature of adding and removing items. \n",
    "* 디큐를 다른것과 다르게 하는것은 아이템의 추가 삭제를 제한하지 않는것이다.\n",
    "* New items can be added at either the front or the rear. \n",
    "* 새로운 아이템은 front나 rear에 추가할 수있다.\n",
    "* Likewise, existing items can be removed from either end. \n",
    "* 마찬가지로 아이템은 양 end에서 제거될 수있다.\n",
    "* In a sense, this hybrid linear structure provides all the capabilities of stacks and queues in a single data structure. \n",
    "* 요약하자면 한 데이터 구조에서 스택이나 큐를 모두 사용할 수 있는 선형 구조의 하이브리드 형태인것이다\n",
    "* Figure 1 shows a deque of Python data objects.\n",
    "* Figure 1에서 파이썬 오브젝트의 디큐된것을 볼 수 있다\n",
    "\n",
    "* It is important to note that even though the deque can assume many of the characteristics of stacks and queues, it does not require the LIFO and FIFO orderings that are enforced by those data structures. \n",
    "* 비록 디큐는 스택과 큐의 특징을 모두 가지고 있지만, 후입선출이나 선입선출 같은 오더링을 강제하고 있지 않다.\n",
    "* It is up to you to make consistent use of the addition and removal operations.\n",
    "* 이것은 추가와 삭제 오퍼레이션을 구현할 당신에 따라 달려있음\n"
   ]
  }
 ],
 "metadata": {
  "kernelspec": {
   "display_name": "Python 3",
   "language": "python",
   "name": "python3"
  },
  "language_info": {
   "codemirror_mode": {
    "name": "ipython",
    "version": 3
   },
   "file_extension": ".py",
   "mimetype": "text/x-python",
   "name": "python",
   "nbconvert_exporter": "python",
   "pygments_lexer": "ipython3",
   "version": "3.7.3"
  }
 },
 "nbformat": 4,
 "nbformat_minor": 2
}
