{
 "cells": [
  {
   "cell_type": "markdown",
   "metadata": {},
   "source": [
    "# 3.13. Simulation: Hot Potato¶\n",
    "# 3.13. 뜨거운 감자 게임\n",
    "\n",
    "* One of the typical applications for showing a queue in action is to simulate a real situation that requires data to be managed in a FIFO manner. \n",
    "* 큐 동작을 실제 상황으로 시뮬레이션 해보기 위한 것들은 선입선출 방식으로 데이터가 다뤄져야 하는 것들이다.\n",
    "* To begin, let’s consider the children’s game Hot Potato. \n",
    "* 예제로 어린이들의 뜨거운 감자게임을 예를 들어보자\n",
    "* In this game (see Figure 2) children line up in a circle and pass an item from neighbor to neighbor as fast as they can.\n",
    "* 이 게임에서는 아이들이 둥글게 앉아서 어떤 아이템을 옆으로 최대한 빠르게 전달하는 것이다\n",
    "* At a certain point in the game, the action is stopped and the child who has the item (the potato) is removed from the circle. Play continues until only one child is left.\n",
    "* 특정한 시점에서, 옆으로 전달하는것은 중지되고 감자를 쥐고있는 사람이 서클에서 빠지게 된다. 이 놀이는 한명만 남을때까지 계속된다.\n",
    "\n",
    "* This game is a modern-day equivalent of the famous Josephus problem.\n",
    "* 이 게임은 최근의 Josephus problem과 동일하다\n",
    "* Based on a legend about the famous first-century historian Flavius Josephus, the story is told that in the Jewish revolt against Rome, Josephus and 39 of his comrades held out against the Romans in a cave. \n",
    "* 1세기의 유명한 사학자인 Flavius Josephus의 일화에서 기반한 이 문제는 조셉과 39명의 동료들이 로마병들을 동굴에서 상대했다.\n",
    "* With defeat imminent, they decided that they would rather die than be slaves to the Romans.\n",
    "* 패배가 임박한 시점에서 그들은 로마의 노예가 되는것보다 차라리 죽기를 결심했다 \n",
    "* They arranged themselves in a circle. \n",
    "* 그들은 원형으로 둘러싸고\n",
    "* One man was designated as number one, and proceeding clockwise they killed every seventh man. \n",
    "* 한명이 1번이고 계속 시계방향으로 돌면서 7번째인 사람을 죽였다\n",
    "* Josephus, according to the legend, was among other things an accomplished mathematician. \n",
    "* 전설에 따르면 조셉은 다른사람보다 더 뛰어난 수학자였다.\n",
    "* He instantly figured out where he ought to sit in order to be the last to go. \n",
    "* 그는 즉시 계산하여 맨 마지막 1명이 될 자리에 앉았고.\n",
    "* When the time came, instead of killing himself, he joined the Roman side. You can find many different versions of this story. Some count every third man and some allow the last man to escape on a horse. In any case, the idea is the same.\n",
    "* 스스로 죽는대신에 로마인의 편으로 합류했다.\n",
    "* 당신은 이 이야기의 많은 다양한 버전을 알수 있다.\n",
    "* 매 3명마다 죽은 버전, 마지막사람이 말을 타고 달아난 버전이 있는데\n",
    "* 그중 어떤버전이라도 원리는 똑같다.\n",
    "\n",
    "* We will implement a general simulation of Hot Potato. Our program will input a list of names and a constant, call it “num,” to be used for counting. \n",
    "* 우리는 이 일반적인 뜨거운 감자게임을 구현해 볼것이다.\n",
    "* 우리 프로그램은 이름 리스트와 상수를 넣고, 이것을 num으로 부를것이다 (카운트를 위한)\n",
    "* It will return the name of the last person remaining after repetitive counting by num. What happens at that point is up to you.\n",
    "* 이것은 num에 쓰여진 수만큼 반복해서 제거해 마지막 남은 사람의 이름을 리턴할것이다.\n",
    "\n",
    "* To simulate the circle, we will use a queue (see Figure 3). \n",
    "* 원을 가정하여 우리는 큐를 사용할 것이다.\n",
    "* Assume that the child holding the potato will be at the front of the queue.\n",
    "* 감자를 들고있는사람이 큐의 맨 앞에 위치할것이다.\n",
    "* Upon passing the potato, the simulation will simply dequeue and then immediately enqueue that child, putting her at the end of the line.\n",
    "* 감자를 전달하는 행위는 단순하게 dequeue를 이용하고, 즉시 enqueue 해 다시 집어넣으면 된다.\n",
    "* She will then wait until all the others have been at the front before it will be her turn again.\n",
    "* 그리고 다른사람에 front에서 다 처리 되면 다시 자신의 차례가 될것이다.\n",
    "* After num dequeue/enqueue operations, the child at the front will be removed permanently and another cycle will begin. \n",
    "* num 에 따라 dequeue/enqueue 오퍼레이션을 한 이후 맨 앞의 아이가 영구히 제거될것이고 다른 회차가 반복될것이다.\n",
    "* This process will continue until only one name remains (the size of the queue is 1). 이 행위는 맨 마지막 사람이 남을때까지 반복될것이다.\n",
    "\n",
    "* The program is shown in ActiveCode 1. A call to the hotPotato function using 7 as the counting constant returns Susan.\n",
    "* 아래 동작하는 코드를 hotPotato라고 정의했다, 7을 쓰면 susan이 리턴됨\n"
   ]
  },
  {
   "cell_type": "code",
   "execution_count": 1,
   "metadata": {},
   "outputs": [
    {
     "name": "stdout",
     "output_type": "stream",
     "text": [
      "Susan\n"
     ]
    }
   ],
   "source": [
    "from pythonds.basic.queue import Queue\n",
    "\n",
    "def hotPotato(namelist, num):\n",
    "    simqueue = Queue()\n",
    "    for name in namelist:\n",
    "        simqueue.enqueue(name)\n",
    "\n",
    "    while simqueue.size() > 1:\n",
    "        for i in range(num):\n",
    "            simqueue.enqueue(simqueue.dequeue())\n",
    "\n",
    "        simqueue.dequeue()\n",
    "\n",
    "    return simqueue.dequeue()\n",
    "\n",
    "print(hotPotato([\"Bill\",\"David\",\"Susan\",\"Jane\",\"Kent\",\"Brad\"],7))\n"
   ]
  },
  {
   "cell_type": "markdown",
   "metadata": {},
   "source": [
    "* Note that in this example the value of the counting constant is greater than the number of names in the list.\n",
    "* 이 예제가 리스트 안의 이름의 수보다 카운팅하는 것이 더 많음을 주목하라\n",
    "* This is not a problem since the queue acts like a circle and counting continues back at the beginning until the value is reached.\n",
    "* 이것은 큐가 원처럼 동작하고, 계속 카운트 될것이므로 문제가 되지 않는다.\n",
    "* Also, notice that the list is loaded into the queue such that the first name on the list will be at the front of the queue.\n",
    "* 또한 리스트가 계속 큐에 집어넣어지면서 가장 첫번째 이름이 큐의 front가 될것이다\n",
    "* Bill in this case is the first item in the list and therefore moves to the front of the queue.\n",
    "* 이 경우에는 빌이 가장 리스트의 처음이고, 큐의 맨 앞으로 이동하게 된다\n",
    "* A variation of this implementation, described in the exercises, allows for a random counter.\n",
    "* 이 구현의 바리에이션으로 뒤 exercise에서 설명한대로 random 카운터를 설정할수도 있다."
   ]
  }
 ],
 "metadata": {
  "kernelspec": {
   "display_name": "Python 3",
   "language": "python",
   "name": "python3"
  },
  "language_info": {
   "codemirror_mode": {
    "name": "ipython",
    "version": 3
   },
   "file_extension": ".py",
   "mimetype": "text/x-python",
   "name": "python",
   "nbconvert_exporter": "python",
   "pygments_lexer": "ipython3",
   "version": "3.7.3"
  }
 },
 "nbformat": 4,
 "nbformat_minor": 2
}
