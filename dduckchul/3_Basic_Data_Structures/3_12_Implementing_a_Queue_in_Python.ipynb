{
 "cells": [
  {
   "cell_type": "markdown",
   "metadata": {},
   "source": [
    "# 3.12. Implementing a Queue in Python\n",
    "# 3.12. 파이썬에서 큐 구현하기\n",
    "\n",
    "* It is again appropriate to create a new class for the implementation of the abstract data type queue.\n",
    "* 이제 큐 데이터 타입을 위해 새로운 클래스를 구현할때가 되었다\n",
    "* As before, we will use the power and simplicity of the list collection to build the internal representation of the queue.\n",
    "* 이전처럼, 우리는 간단하게 리스트 컬렉션을 이용해 queue를 구현해 볼 것이다\n",
    "\n",
    "* We need to decide which end of the list to use as the rear and which to use as the front. \n",
    "* 우리는 어디가 리스트의 end이고 어떤곳이 front인지 정할 필요가 있다\n",
    "* The implementation shown in Listing 1 assumes that the rear is at position 0 in the list.\n",
    "* Listing 1로 나와있는 아래 구현은 rear가 리스트의 0번 포지션을 가정한다.\n",
    "* This allows us to use the insert function on lists to add new elements to the rear of the queue. \n",
    "* 이것은 리스트의 insert function을 사용해 새로운 엘리먼트를 큐의 rear에 추가한것으로 구현할 수 있다\n",
    "* The pop operation can be used to remove the front element (the last element of the list). Recall that this also means that enqueue will be O(n) and dequeue will be O(1).\n",
    "* pop 연산은 front element를 제거하는데 사용된다. 이는 enqueue할떄는 O(n)의 시간이 소요될 것이고, deque에는 O(1)이 소요됨을 기억할것"
   ]
  },
  {
   "cell_type": "code",
   "execution_count": 1,
   "metadata": {},
   "outputs": [],
   "source": [
    "# Listing 1\n",
    "\n",
    "class Queue:\n",
    "    def __init__(self):\n",
    "        self.items = []\n",
    "\n",
    "    def isEmpty(self):\n",
    "        return self.items == []\n",
    "\n",
    "    def enqueue(self, item):\n",
    "        self.items.insert(0,item)\n",
    "\n",
    "    def dequeue(self):\n",
    "        return self.items.pop()\n",
    "\n",
    "    def size(self):\n",
    "        return len(self.items)\n",
    "\n"
   ]
  },
  {
   "cell_type": "markdown",
   "metadata": {},
   "source": [
    "* CodeLens 1 shows the Queue class in action as we perform the sequence of operations from Table 1.\n",
    "* 앞서 있었던 Table1에서의 작업들을 수행한것이다\n",
    "* Further manipulation of this queue would give the following results:\n",
    "* 큐에서의 조작이 다음과 같은 결과를 보여준다"
   ]
  },
  {
   "cell_type": "code",
   "execution_count": 6,
   "metadata": {},
   "outputs": [
    {
     "name": "stdout",
     "output_type": "stream",
     "text": [
      "3\n",
      "False\n",
      "4\n",
      "dog\n",
      "2\n"
     ]
    }
   ],
   "source": [
    "q=Queue()\n",
    "q.enqueue(4)\n",
    "q.enqueue('dog')\n",
    "q.enqueue(True)\n",
    "\n",
    "print(q.size())\n",
    "print(q.isEmpty())\n",
    "q.enqueue(8.4)\n",
    "print(q.dequeue())\n",
    "print(q.dequeue())\n",
    "print(q.size())"
   ]
  },
  {
   "cell_type": "markdown",
   "metadata": {},
   "source": [
    "## Self Check\n",
    "\n",
    "* Q-33: Suppose you have the following series of queue operations.\n",
    "\n",
    "``` python\n",
    "q = Queue()\n",
    "q.enqueue('hello')\n",
    "q.enqueue('dog')\n",
    "q.enqueue(3)\n",
    "q.dequeue()\n",
    "```\n",
    "* What items are left on the queue? (B)\n",
    "\n",
    "* (A) 'hello', 'dog'\n",
    "* (B) 'dog', 3\n",
    "* (C) 'hello', 3\n",
    "* (D) 'hello', 'dog', 3\n"
   ]
  }
 ],
 "metadata": {
  "kernelspec": {
   "display_name": "Python 3",
   "language": "python",
   "name": "python3"
  },
  "language_info": {
   "codemirror_mode": {
    "name": "ipython",
    "version": 3
   },
   "file_extension": ".py",
   "mimetype": "text/x-python",
   "name": "python",
   "nbconvert_exporter": "python",
   "pygments_lexer": "ipython3",
   "version": "3.7.3"
  }
 },
 "nbformat": 4,
 "nbformat_minor": 2
}
