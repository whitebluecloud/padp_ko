{
 "cells": [
  {
   "cell_type": "markdown",
   "metadata": {},
   "source": [
    "# 3.19. Lists\n",
    "# 3.19. 리스트"
   ]
  },
  {
   "cell_type": "markdown",
   "metadata": {},
   "source": [
    "* Throughout the discussion of basic data structures, we have used Python lists to implement the abstract data types presented.\n",
    "* 기초적인 데이터 구조에 대한 이야기를 해오면서 우리는 추상 데이터 타입을 구현할때마다 파이썬 리스트를 사용했다.\n",
    "* The list is a powerful, yet simple, collection mechanism that provides the programmer with a wide variety of operations.\n",
    "* 리스트는 강력하면서도, 단순한 컬렉션 메커니즘을 가져서 프로그래머가 다양한 동작을 수행할 수 있도록 도와준다.\n",
    "* However, not all programming languages include a list collection. \n",
    "* 그러나 모든 프로그래밍 언어가 리스트 컬렉션을 가지고 있는 것은 아니다.\n",
    "* In these cases, the notion of a list must be implemented by the programmer.\n",
    "* 이 때에는 프로그래머가 리스트형을 구현해야한다."
   ]
  },
  {
   "cell_type": "markdown",
   "metadata": {},
   "source": [
    "* A list is a collection of items where each item holds a relative position with respect to the others.\n",
    "* 리스트는 서로 다른 아이템들이 다른 아이템들과 상대적인 위치에 있는 아이템의 컬렉션이다.\n",
    "* More specifically, we will refer to this type of list as an unordered list. \n",
    "* 더 정확하게 우리는 이런 형태의 리스트를 순서가 정해져있지 않은 리스트라고 부르겠다.\n",
    "* We can consider the list as having a first item, a second item, a third item, and so on. \n",
    "* 또한 우리는 리스트가 처음 아이템, 두번쨰 아이템, 세번째 아이템등등을 가지고 있다고 생각한다.\n",
    "* We can also refer to the beginning of the list (the first item) or the end of the list (the last item).\n",
    "* 또한 리스트의 처음(첫번쨰 아이템)과 리스트의 끝(마지막 아이템)을 참조할 수 있다. \n",
    "* For simplicity we will assume that lists cannot contain duplicate items.\n",
    "* 단순함을 위해 우리는 리스트가 중복 아이템이 없다고 가정하자."
   ]
  },
  {
   "cell_type": "markdown",
   "metadata": {},
   "source": [
    "* For example, the collection of integers 54, 26, 93, 17, 77, and 31 might represent a simple unordered list of exam scores.\n",
    "* 예를 들어 정수형의 컬렉션인 54,26,93,17,77,31가 순차적이지 않은 시험 성적을 나타낸다고 가정하자.\n",
    "* Note that we have written them as comma-delimited values, a common way of showing the list structure. Of course, Python would show this list as [54,26,93,17,77,31].\n",
    "* 이것들을 컴마 구분자로 작성했는데, 이것이 리스트형 구조를 가장 간단하게 표현하는 것이다. 물론 파이썬은 이것을 리스트형으로 나타낼 수 있다."
   ]
  }
 ],
 "metadata": {
  "kernelspec": {
   "display_name": "Python 3",
   "language": "python",
   "name": "python3"
  },
  "language_info": {
   "codemirror_mode": {
    "name": "ipython",
    "version": 3
   },
   "file_extension": ".py",
   "mimetype": "text/x-python",
   "name": "python",
   "nbconvert_exporter": "python",
   "pygments_lexer": "ipython3",
   "version": "3.7.3"
  }
 },
 "nbformat": 4,
 "nbformat_minor": 2
}
