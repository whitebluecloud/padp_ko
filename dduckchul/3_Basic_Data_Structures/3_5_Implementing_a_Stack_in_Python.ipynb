{
 "cells": [
  {
   "cell_type": "markdown",
   "metadata": {},
   "source": [
    "# 3.5. Implementing a Stack in Python\n",
    "# 3.5. 파이썬으로 스택 구현하기\n",
    "\n",
    "* Now that we have clearly defined the stack as an abstract data type we will turn our attention to using Python to implement the stack.\n",
    "* 이제 스택의 추상 데이터 타입을 정의해서 우리가 스택을 구현해 볼 떄이다.\n",
    "* Recall that when we give an abstract data type a physical implementation we refer to the implementation as a data structure.\n",
    "* 주어진 추상 데이터 타입을 모르겠다 실제로 구현했을떄 우리가 데이터 구조라고 부를 수 있다.\n",
    "\n",
    "* As we described in Chapter 1, in Python, as in any object-oriented programming language, the implementation of choice for an abstract data type such as a stack is the creation of a new class.\n",
    "* 챕터 1에서 말했듯이, 파이썬에서 추상 데이터 타입을 구현할때는 stack 을 새로운 클래스로 만들면 된다\n",
    "* The stack operations are implemented as methods. \n",
    "* 스택의 오퍼레이션들은 메소드로 구현한다.\n",
    "* Further, to implement a stack, which is a collection of elements, it makes sense to utilize the power and simplicity of the primitive collections provided by Python. We will use a list.\n",
    "* 추가적으로 스택을 구현하기 위해 (이것들은 요소들의 컬렉션으로 되어있음) 파이썬에서 간단하게 구현한 컬렉션을 사용하는것이 좋을것이다. 우리는 리스트를 사용하겠다.\n",
    "\n",
    "* Recall that the list class in Python provides an ordered collection mechanism and a set of methods. For example, if we have the list [2,5,3,6,7,4], we need only to decide which end of the list will be considered the top of the stack and which will be the base. \n",
    "* 파이썬의 리스트 클래스는 ordered 컬렉션 메커니즘이고 몇개의 메소드로 이루어져 있다. 예를들어, [2,5,3,6,7,4]같은 리스트가 있으면 우리는 스택의 top과 base만 어디인지 정해주면 될것이다.\n",
    "* Once that decision is made, the operations can be implemented using the list methods such as append and pop.\n",
    "* 이런 결정이 되었으면, 리스트 메소드의 append와 pop을 사용하면 오퍼레이션을 구현할 수 있다.\n",
    "\n",
    "* The following stack implementation (ActiveCode 1) assumes that the end of the list will hold the top element of the stack. \n",
    "* 다음 스택의 구현들은 리스트의 끝이 stack의 top 엘리먼트라고 가정하는 것이다.\n",
    "* As the stack grows (as push operations occur), new items will be added on the end of the list. \n",
    "* 스택이 커질수록(push가 일어날수록) 새로운 아이템들이 리스트의 끝으로 갈것이다.\n",
    "* pop operations will manipulate that same end.\n",
    "* pop 오퍼레이션도 동일하게 이뤄질 것이다."
   ]
  },
  {
   "cell_type": "code",
   "execution_count": 4,
   "metadata": {},
   "outputs": [],
   "source": [
    "class Stack:\n",
    "    def __init__(self):\n",
    "        self.items = []\n",
    "\n",
    "    def isEmpty(self):\n",
    "        return self.items == []\n",
    "\n",
    "    def push(self, item):\n",
    "        self.items.append(item)\n",
    "\n",
    "    def pop(self):\n",
    "        return self.items.pop()\n",
    "\n",
    "    def peek(self):\n",
    "        return self.items[len(self.items)-1]\n",
    "\n",
    "    def size(self):\n",
    "        return len(self.items)"
   ]
  },
  {
   "cell_type": "markdown",
   "metadata": {},
   "source": [
    "* Remember that nothing happens when we click the run button other than the definition of the class.\n",
    "* 클래스를 정의했을뿐 run 했을떄 아무일도 안일어날것임\n",
    "* We must create a Stack object and then use it. \n",
    "* stack 오브젝트를 만들었으면 사용하면 된다.\n",
    "* ActiveCode 2 shows the Stack class in action as we perform the sequence of operations from Table 1. \n",
    "* 아래 코드는 스택클래스의 사용을 그대로 한것이다.\n",
    "* Notice that the definition of the Stack class is imported from the pythonds module.\n",
    "* 스택 클래스가 pythonds 모듈을 썼음을 주의해라\n",
    "\n",
    "* Note\n",
    "\n",
    "* The pythonds module contains implementations of all data structures discussed in this book. \n",
    "* pythonds 모듈에는 이 책에 모두 다뤄진 데이터 구조들을 구현하고있다.\n",
    "* It is structured according to the sections: basic, trees, and graphs. The module can be downloaded from pythonworks.org.\n",
    "* 다른 섹션인 basic, trees, graphs에도 있다. 이 모듈은 저기서 다운받으면 됨"
   ]
  },
  {
   "cell_type": "code",
   "execution_count": 2,
   "metadata": {},
   "outputs": [
    {
     "name": "stdout",
     "output_type": "stream",
     "text": [
      "True\n",
      "dog\n",
      "3\n",
      "False\n",
      "8.4\n",
      "True\n",
      "2\n"
     ]
    }
   ],
   "source": [
    "from pythonds.basic.stack import Stack\n",
    "\n",
    "s=Stack()\n",
    "\n",
    "print(s.isEmpty())\n",
    "s.push(4)\n",
    "s.push('dog')\n",
    "print(s.peek())\n",
    "s.push(True)\n",
    "print(s.size())\n",
    "print(s.isEmpty())\n",
    "s.push(8.4)\n",
    "print(s.pop())\n",
    "print(s.pop())\n",
    "print(s.size())"
   ]
  },
  {
   "cell_type": "markdown",
   "metadata": {},
   "source": [
    "* It is important to note that we could have chosen to implement the stack using a list where the top is at the beginning instead of at the end. \n",
    "* 스택을 구현하는 것은 리스트를 사용해 리스트의 끝을 top으로 지정해 주면 끝이었다.\n",
    "* In this case, the previous pop and append methods would no longer work and we would have to index position 0 (the first item in the list) explicitly using pop and insert. \n",
    "* 이 케이스에서 이전의 pop은 인덱스의 [0]번 포지션에서 명시적으로 팝과 인서트를 해주고 있다.\n",
    "* The implementation is shown in CodeLens 1."
   ]
  },
  {
   "cell_type": "code",
   "execution_count": 11,
   "metadata": {},
   "outputs": [
    {
     "name": "stdout",
     "output_type": "stream",
     "text": [
      "true\n"
     ]
    }
   ],
   "source": [
    "class Stack:\n",
    "    def __init__(self):\n",
    "        self.items = []\n",
    "\n",
    "    def isEmpty(self):\n",
    "        return self.items == []\n",
    "\n",
    "    def push(self, item):\n",
    "        self.items.insert(0,item)\n",
    "\n",
    "    def pop(self):\n",
    "         return self.items.pop(0)\n",
    "\n",
    "    def peek(self):\n",
    "        return self.items[0]\n",
    "\n",
    "    def size(self):\n",
    "        return len(self.items)\n",
    "\n",
    "s = Stack()\n",
    "s.push('hello')\n",
    "s.push('true')\n",
    "print(s.pop())"
   ]
  },
  {
   "cell_type": "markdown",
   "metadata": {},
   "source": [
    "* This ability to change the physical implementation of an abstract data type while maintaining the logical characteristics is an example of abstraction at work.\n",
    "* 이런 추상 데이터 타입을 구현하는것이 데이터 타입의 특징을 나타내 준다.\n",
    "* However, even though the stack will work either way, if we consider the performance of the two implementations, there is definitely a difference.\n",
    "* 그러나 이 스택이 동작하지만, 두개의 구현의 퍼포먼스가 다를것이다.\n",
    "* Recall that the append and pop() operations were both O(1). \n",
    "* append와 pop 오퍼레이션이 O(1) 이었던것을 기억해라\n",
    "* This means that the first implementation will perform push and pop in constant time no matter how many items are on the stack. \n",
    "* 이것은 첫번째 구현한 스택이 push나 pop을 해도 얼마나 스택이 길어지던 constant한 시간이 소요됨을 나타낸다.\n",
    "* The performance of the second implementation suffers in that the insert(0) and pop(0) operations will both require O(n) for a stack of size n. \n",
    "* 두번째 구현의 속도는 insert(0)과 pop(0)을 사용하므로 둘다 stack size의 n만큼 시간이 소요된다. O(n)\n",
    "* Clearly, even though the implementations are logically equivalent, they would have very different timings when performing benchmark testing.\n",
    "* 명확하게 두개의 구현이 논리적으로 동일하여도 이것들을 벤치마크 테스트 하면 다른 시간이 소요된다."
   ]
  },
  {
   "cell_type": "markdown",
   "metadata": {},
   "source": [
    "# Self Check\n",
    "\n",
    "## Q-34: Given the following sequence of stack operations, what is the top item on the stack when the sequence is complete? (C)\n",
    "```\n",
    "m = Stack()\n",
    "m.push('x')\n",
    "m.push('y')\n",
    "m.pop()\n",
    "m.push('z')\n",
    "m.peek()\n",
    "```\n",
    "* (A) 'x'\n",
    "* (B) 'y'\n",
    "* (C) 'z'\n",
    "* (D) The stack is empty\n",
    "\n",
    "## Q-35: Given the following sequence of stack operations, what is the top item on the stack when the sequence is complete? (A)\n",
    "```\n",
    "m = Stack()\n",
    "m.push('x')\n",
    "m.push('y')\n",
    "m.push('z')\n",
    "while not m.isEmpty():\n",
    "   m.pop()\n",
    "   m.pop()\n",
    "```\n",
    "* (A) 'x'\n",
    "* (B) the stack is empty\n",
    "* (C) an error will occur\n",
    "* (D) 'z'\n",
    "\n",
    "## Write a function revstring(mystr) that uses a stack to reverse the characters in a string."
   ]
  },
  {
   "cell_type": "code",
   "execution_count": 10,
   "metadata": {},
   "outputs": [
    {
     "name": "stdout",
     "output_type": "stream",
     "text": [
      "['l', 'u', 'h', 'c', 'k', 'c', 'u', 'd', 'd']\n"
     ]
    }
   ],
   "source": [
    "def revstring(mystr) :\n",
    "    stackstr = Stack()\n",
    "    for char in mystr :\n",
    "        stackstr.push(char)\n",
    "        \n",
    "    return [stackstr.pop() for i in range(stackstr.size())] \n",
    "    \n",
    "a = revstring(\"dduckchul\")\n",
    "print(a)"
   ]
  }
 ],
 "metadata": {
  "kernelspec": {
   "display_name": "Python 3",
   "language": "python",
   "name": "python3"
  },
  "language_info": {
   "codemirror_mode": {
    "name": "ipython",
    "version": 3
   },
   "file_extension": ".py",
   "mimetype": "text/x-python",
   "name": "python",
   "nbconvert_exporter": "python",
   "pygments_lexer": "ipython3",
   "version": "3.7.3"
  }
 },
 "nbformat": 4,
 "nbformat_minor": 2
}
