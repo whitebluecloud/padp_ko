{
 "cells": [
  {
   "cell_type": "markdown",
   "metadata": {},
   "source": [
    "# 3.2. What Are Linear Structures?\n",
    "# 3.2 선형 데이터 구조란?\n",
    "\n",
    "* We will begin our study of data structures by considering four simple but very powerful concepts. \n",
    "* 우리는 데이터 구조에 대해 간단하지만 강력한것을 생각할 것이다.\n",
    "* Stacks, queues, deques, and lists are examples of data collections whose items are ordered depending on how they are added or removed. \n",
    "* 스택, 큐, 디큐는 데이터 컬렉션들의 예제이다. 어떻게 추가되고 삭제되느냐에 따라서 결정되는\n",
    "* Once an item is added, it stays in that position relative to the other elements that came before and came after it.\n",
    "* 하나 요소가 추가되면 그것은 다른 요소들과 연관되어 위치가 결정된다.\n",
    "* Collections such as these are often referred to as linear data structures.\n",
    "* 이런 컬렉션들은 선형 데이터 구조라고 한다"
   ]
  },
  {
   "cell_type": "markdown",
   "metadata": {},
   "source": [
    "* Linear structures can be thought of as having two ends. \n",
    "* 선형 데이터 구조는 두가지 끝이 있다고 생각할 수있다.\n",
    "* Sometimes these ends are referred to as the “left” and the “right” or in some cases the “front” and the “rear.”\n",
    "* 이것들은 left, right 로 표현되기도 하고, front, rear로 표현되기도 한다\n",
    "* You could also call them the “top” and the “bottom.” The names given to the ends are not significant.\n",
    "* 또한 이것을 top과 bottom 으로 부를 수 있는데 이런 end를 표현하는 이름들이 중요한 것은 아니다\n",
    "* What distinguishes one linear structure from another is the way in which items are added and removed, in particular the location where these additions and removals occur.\n",
    "* 하나의 선형 데이터 구조를 다른 것과 구별하는 것은 요소들이 추가 / 삭제되는 것이다. 더 자세하게는 어떤곳에서 아이템이 추가되고 삭제되느냐 이다.\n",
    "* For example, a structure might allow new items to be added at only one end. Some structures might allow items to be removed from either end.\n",
    "* 예를 들어 어떤 구조는 오직 ends에만 추가될것이다. 다른 구조는 ends에서 삭제도 담당할 것이다.\n",
    "\n",
    "* These variations give rise to some of the most useful data structures in computer science. They appear in many algorithms and can be used to solve a variety of important problems.\n",
    "* 이런 요소들은 컴퓨터 사이언스에서 가장 유용한 구조들이다. 이것들은 다양한 문제들을 해결하기 위해 나타난다."
   ]
  }
 ],
 "metadata": {
  "kernelspec": {
   "display_name": "Python 3",
   "language": "python",
   "name": "python3"
  },
  "language_info": {
   "codemirror_mode": {
    "name": "ipython",
    "version": 3
   },
   "file_extension": ".py",
   "mimetype": "text/x-python",
   "name": "python",
   "nbconvert_exporter": "python",
   "pygments_lexer": "ipython3",
   "version": "3.7.3"
  }
 },
 "nbformat": 4,
 "nbformat_minor": 2
}
