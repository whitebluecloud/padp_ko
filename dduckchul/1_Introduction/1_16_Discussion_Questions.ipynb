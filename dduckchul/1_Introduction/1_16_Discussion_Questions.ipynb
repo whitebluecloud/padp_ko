{
 "cells": [
  {
   "cell_type": "markdown",
   "metadata": {},
   "source": [
    "# 1.16. Discussion Questions\n",
    "# 1.16. 논의할 문제들\n",
    "* Construct a class hierarchy for people on a college campus. Include faculty, staff, and students.\n",
    "* 대학교 캠퍼스내의 사람들의 계층적 클래스를 구성하라, 학부, 스탭, 학생들을 포함해라.\n",
    "* What do they have in common? What distinguishes them from one another?\n",
    "* 공통적으로 갖고있는게 어떤것인가? 하나와 다른 하나를 구분하는것은 어떤 것인가?\n",
    "* Construct a class hierarchy for bank accounts.\n",
    "* 은행 계좌와 관련한 계층적 클래스를 구성하라\n",
    "* Construct a class hierarchy for different types of computers.\n",
    "* 다른 종류의 컴퓨터들의 계층적 클래스를 구축하라\n",
    "* Using the classes provided in the chapter, interactively construct a circuit and test it.\n",
    "* 챕터에 제공된 클래스를 사용하여 회로를 만들고 테스트 해보라."
   ]
  }
 ],
 "metadata": {
  "kernelspec": {
   "display_name": "Python 3",
   "language": "python",
   "name": "python3"
  },
  "language_info": {
   "codemirror_mode": {
    "name": "ipython",
    "version": 3
   },
   "file_extension": ".py",
   "mimetype": "text/x-python",
   "name": "python",
   "nbconvert_exporter": "python",
   "pygments_lexer": "ipython3",
   "version": "3.7.3"
  }
 },
 "nbformat": 4,
 "nbformat_minor": 2
}
