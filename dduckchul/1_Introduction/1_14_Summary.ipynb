{
 "cells": [
  {
   "cell_type": "markdown",
   "metadata": {},
   "source": [
    "## 1.14. Summary\n",
    "## 1.14. 요약\n",
    "* Computer science is the study of problem solving.\n",
    "* 컴퓨터 과학은 문제 해결에 관련한 연구이다.\n",
    "* Computer science uses abstraction as a tool for representing both processes and data.\n",
    "* 컴퓨터 과학은 프로세스와, 데이터에서 추상화를 사용한다.\n",
    "* Abstract data types allow programmers to manage the complexity of a problem domain by hiding the details of the data.\n",
    "* 추상 데이터 타입은 프로그래머들에게 데이터를 다루를 자세한것은 뒷편으로두고, 복잡한 문제 해결에 집중할수 있게 한다. \n",
    "* Python is a powerful, yet easy-to-use, object-oriented language.\n",
    "* 파이썬은 강력하고, 사용하기 쉬운 객체 지향적 언어이다.\n",
    "* Lists, tuples, and strings are built in Python sequential collections.\n",
    "* 리스트와 튜플, 문자열은 파이썬이 제공하는 순차적 컬렉션이다.\n",
    "* Dictionaries and sets are nonsequential collections of data.\n",
    "* 딕셔너리와 셋은 비 순차적 컬렉션이다.\n",
    "* Classes allow programmers to implement abstract data types.\n",
    "* 클래스는 프로그래머 들에게 추상 데이터 타입을 구현할수 있게 한다.\n",
    "* Programmers can override standard methods as well as create new methods.\n",
    "* 프로그래머들은 새로운 메소드들을 만들수도 있고, 일반적 메소드들을 오버라이딩 할수도 있다.\n",
    "* Classes can be organized into hierarchies.\n",
    "* 클래스들은 계층적으로 구성할수 있다.\n",
    "* A class constructor should always invoke the constructor of its parent before continuing on with its own data and behavior.\n",
    "* 클래스 생성자는 자신의 데이터를 부르기 전에 자신의 부모 생성자들을 불러온다."
   ]
  }
 ],
 "metadata": {
  "kernelspec": {
   "display_name": "Python 3",
   "language": "python",
   "name": "python3"
  },
  "language_info": {
   "codemirror_mode": {
    "name": "ipython",
    "version": 3
   },
   "file_extension": ".py",
   "mimetype": "text/x-python",
   "name": "python",
   "nbconvert_exporter": "python",
   "pygments_lexer": "ipython3",
   "version": "3.7.3"
  }
 },
 "nbformat": 4,
 "nbformat_minor": 2
}
