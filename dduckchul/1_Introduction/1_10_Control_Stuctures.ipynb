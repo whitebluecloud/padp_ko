{
 "cells": [
  {
   "cell_type": "markdown",
   "metadata": {
    "collapsed": true
   },
   "source": [
    "# 1.10. Control Structures\n",
    "# 1.10. 제어 구조\n",
    "\n",
    "* As we noted earlier, algorithms require two important control structures: iteration and selection. \n",
    "* 앞서 언급했듯이, 알고리즘은 두가지 중요한 제어 구조를 가지고 있다 : 반복과 선택\n",
    "* Both of these are supported by Python in various forms. \n",
    "* 이 두개는 파이썬에서 다양한 형태로 제공하고 있다. \n",
    "* The programmer can choose the statement that is most useful for the given circumstance.\n",
    "* 프로그래머들은 주어진 조건에서 구문들중 가장 유용한것을 선택하면 된다. \n",
    "\n",
    "* For iteration, Python provides a standard while statement and a very powerful for statement. \n",
    "* 반복문에서, 파이썬은 매우 강력한 구문인 while 구문을 제공한다.  \n",
    "* The while statement repeats a body of code as long as a condition is true. For example,\n",
    "* while 구문은 조건문이 true 라면 계속 코드안을 반복한다. 예를 들어,"
   ]
  },
  {
   "cell_type": "code",
   "execution_count": 5,
   "metadata": {},
   "outputs": [
    {
     "name": "stdout",
     "output_type": "stream",
     "text": [
      "Hello, world\n",
      "Hello, world\n",
      "Hello, world\n",
      "Hello, world\n",
      "Hello, world\n"
     ]
    }
   ],
   "source": [
    "counter = 1\n",
    "while counter <= 5:\n",
    "    print(\"Hello, world\")\n",
    "    counter = counter + 1"
   ]
  },
  {
   "cell_type": "markdown",
   "metadata": {},
   "source": [
    "* prints out the phrase “Hello, world” five times. \n",
    "* 위 코드는 \"Hello, world\"라는 구문을 다섯번 출력한다. \n",
    "* The condition on the while statement is evaluated at the start of each repetition. \n",
    "* while 문에서 조건은 반복문이 시작할 때마다 다시 확인한다.\n",
    "* If the condition is True, the body of the statement will execute. \n",
    "* 만약 조건이 참이라면, while안에 있는 구문이 실행될 것이다. \n",
    "* It is easy to see the structure of a Python while statement due to the mandatory indentation pattern that the language enforces.\n",
    "* 파이썬의 while 구문은 파이썬이 indention 패턴을 필수적으로 사용하고 있기 때문에 쉽게 파악할 수 있을 것이다.  \n",
    "\n",
    "* The while statement is a very general purpose iterative structure that we will use in a number of different algorithms. \n",
    "* while 구문은 매우 일반적인 반복문으로써, 매우 다양한 알고리즘의 사용할 것이다.  \n",
    "* In many cases, a compound condition will control the iteration. A fragment such as\n",
    "* 많은 경우에, 결합 조건이 반복문을 제어할것이다. 아래와 같은 구문은\n"
   ]
  },
  {
   "cell_type": "code",
   "execution_count": 2,
   "metadata": {},
   "outputs": [
    {
     "ename": "SyntaxError",
     "evalue": "unexpected EOF while parsing (<ipython-input-2-92f285671c05>, line 1)",
     "output_type": "error",
     "traceback": [
      "\u001b[0;36m  File \u001b[0;32m\"<ipython-input-2-92f285671c05>\"\u001b[0;36m, line \u001b[0;32m1\u001b[0m\n\u001b[0;31m    while counter <= 10 and not done:\u001b[0m\n\u001b[0m                                     ^\u001b[0m\n\u001b[0;31mSyntaxError\u001b[0m\u001b[0;31m:\u001b[0m unexpected EOF while parsing\n"
     ]
    }
   ],
   "source": [
    "while counter <= 10 and not done:"
   ]
  },
  {
   "cell_type": "markdown",
   "metadata": {},
   "source": [
    "* would cause the body of the statement to be executed only in the case where both parts of the condition are satisfied.\n",
    "* 두 가지의 조건을 모두 만족시킬 때만 실행될 것이다.\n",
    "* The value of the variable counter would need to be less than or equal to 10 and the value of the variable done would need to be False (not False is True) so that True and True results in True.\n",
    "* 변수 카운터는 10보다 적거나 같아야 되고, done 이라는 변수는 False 여야 한다 (not False가 True이기 때문에) 따라서, True and True는 True로 나온다.  \n",
    "\n",
    "* Even though this type of construct is very useful in a wide variety of situations, another iterative structure, the for statement, can be used in conjunction with many of the Python collections.  \n",
    "* 이런 유형의 구조가 다양한 상황에서 매우 유용하지만, 다른 반복구조인 for 구문 또한 파이썬 컬렉션들과 함께 사용하고 있다.\n",
    "* The for statement can be used to iterate over the members of a collection, so long as the collection is a sequence. So, for example,\n",
    "* for 구문은 컬렉션의 구성요소들을 반복하기 위해 사용된다."
   ]
  },
  {
   "cell_type": "code",
   "execution_count": 6,
   "metadata": {},
   "outputs": [
    {
     "name": "stdout",
     "output_type": "stream",
     "text": [
      "1\n",
      "3\n",
      "6\n",
      "2\n",
      "5\n"
     ]
    }
   ],
   "source": [
    "for item in [1,3,6,2,5]:\n",
    "    print(item)"
   ]
  },
  {
   "cell_type": "markdown",
   "metadata": {},
   "source": [
    "* assigns the variable item to be each successive value in the list [1,3,6,2,5]. \n",
    "* 위는 item 변수를 리스트 안의 연이은 값들로 할당하고, \n",
    "* The body of the iteration is then executed. This works for any collection that is a sequence (lists, tuples, and strings).\n",
    "* 반복문의 안을 실행한다. 이것은 모든 시퀀스로 이뤄진 컬렉션들에서 사용할 수 있다. (리스트, 튜플, 문자열)\n",
    "\n",
    "* A common use of the for statement is to implement definite iteration over a range of values. The statement\n"
   ]
  },
  {
   "cell_type": "code",
   "execution_count": 7,
   "metadata": {},
   "outputs": [
    {
     "name": "stdout",
     "output_type": "stream",
     "text": [
      "0\n",
      "1\n",
      "4\n",
      "9\n",
      "16\n"
     ]
    }
   ],
   "source": [
    "for item in range(5):\n",
    "    print(item**2)"
   ]
  },
  {
   "cell_type": "markdown",
   "metadata": {},
   "source": [
    "* will perform the print function five times. \n",
    "* 위 구문은 프린트 펑션을 5회 수행할 것이다.  \n",
    "* The range function will return a range object representing the sequence 0,1,2,3,4 and each value will be assigned to the variable item. \n",
    "* 레인지 펑션은 0,1,2,3,4 시퀀스를 표현하는 레인지 객체를 리턴하고, 각 값은 변수 item에 할당될 것이다. \n",
    "* This value is then squared and printed.\n",
    "* 이 값은 제곱 될것이고, 프린트 된다. \n",
    "\n",
    "* The other very useful version of this iteration structure is used to process each character of a string. \n",
    "* 이 반복 구문의 유용한 사용법으로는 문자열의 문자들을 반복하는 것이다.  \n",
    "* The following code fragment iterates over a list of strings and for each string processes each character by appending it to a list. \n",
    "* 다음 코드조각은 문자열들의 리스트를 반복하며, 리스트에 각각의 문자들을 추가할 것이다.\n",
    "* The result is a list of all the letters in all of the words.\n",
    "* 이 결과값은 모든 단어에있는 철자들의 리스트가 될것이다. "
   ]
  },
  {
   "cell_type": "code",
   "execution_count": 3,
   "metadata": {},
   "outputs": [
    {
     "name": "stdout",
     "output_type": "stream",
     "text": [
      "['c', 'a', 't', 'd', 'o', 'g', 'r', 'a', 'b', 'b', 'i', 't']\n"
     ]
    }
   ],
   "source": [
    "wordlist = ['cat','dog','rabbit']\n",
    "letterlist = [ ]\n",
    "for aword in wordlist:\n",
    "    for aletter in aword:\n",
    "        letterlist.append(aletter)\n",
    "print(letterlist)"
   ]
  },
  {
   "cell_type": "markdown",
   "metadata": {},
   "source": [
    "* Selection statements allow programmers to ask questions and then, based on the result, perform different actions. \n",
    "* 선택 구문은 프로그래머들에게 문제를 내고, 결과 값에 기반하여 다른 행동을 할수 있게 해준다.  \n",
    "* Most programming languages provide two versions of this useful construct: the ifelse and the if.  \n",
    "* 대부분의 프로그래밍 언어에서는 두가지 버전의 유용한 구조를 제공한다, if else와 if \n",
    "* A simple example of a binary selection uses the ifelse statement.\n",
    "* 다음 예제는 ifelse 구문을 사용하여 이진 선택을 구현한 예제이다."
   ]
  },
  {
   "cell_type": "code",
   "execution_count": 8,
   "metadata": {},
   "outputs": [
    {
     "name": "stdout",
     "output_type": "stream",
     "text": [
      "Sorry, value is negative\n"
     ]
    }
   ],
   "source": [
    "n = -1\n",
    "if n<0:\n",
    "   print(\"Sorry, value is negative\")\n",
    "else:\n",
    "   print(math.sqrt(n))"
   ]
  },
  {
   "cell_type": "markdown",
   "metadata": {},
   "source": [
    "* In this example, the object referred to by n is checked to see if it is less than zero. \n",
    "* 이 예제에서 n에 있는 객체가 0보다 작은지 확인한다. \n",
    "* If it is, a message is printed stating that it is negative. \n",
    "* 만약 그렇다면, 음수라는 메시지가 출력된다. \n",
    "* If it is not, the statement performs the else clause and computes the square root.\n",
    "* 만약 그렇지 않다면, else 절의 구문을 수행하고, 루트값을 구한다. \n",
    "\n",
    "* Selection constructs, as with any control construct, can be nested so that the result of one question helps decide whether to ask the next. \n",
    "* 선택구조는 문제의 결과에 중첩하여 사용할수 있어서 그 다음 질문을 할지 결정 할 수 있다.  \n",
    "* For example, assume that score is a variable holding a reference to a score for a computer science test.\n",
    "* 예를 들어, score 변수가 컴퓨터 공학 시험 결과를 들고있다고 하자.  "
   ]
  },
  {
   "cell_type": "code",
   "execution_count": 9,
   "metadata": {},
   "outputs": [
    {
     "name": "stdout",
     "output_type": "stream",
     "text": [
      "D\n"
     ]
    }
   ],
   "source": [
    "score = 60\n",
    "if score >= 90:\n",
    "   print('A')\n",
    "else:\n",
    "   if score >=80:\n",
    "      print('B')\n",
    "   else:\n",
    "      if score >= 70:\n",
    "         print('C')\n",
    "      else:\n",
    "         if score >= 60:\n",
    "            print('D')\n",
    "         else:\n",
    "            print('F')"
   ]
  },
  {
   "cell_type": "markdown",
   "metadata": {},
   "source": [
    "* This fragment will classify a value called score by printing the letter grade earned. \n",
    "* 이 코드는 score값을 철자로 바꿔 분류할 것이다.\n",
    "* If the score is greater than or equal to 90, the statement will print A.\n",
    "* score가 90보다 크거나 같다면 구문에서 A를 프린트할 것이다. \n",
    "* If it is not (else), the next question is asked. If the score is greater than or equal to 80 then it must be between 80 and 89 since the answer to the first question was false. \n",
    "* 만약 그렇지 않다면, 다음 질문으로 넘어간다. 만약 스코어가 80보다 크거나 같다면, 아마 80에서 89사이의 값일 것이다.\n",
    "* In this case print B is printed. \n",
    "* 이 경우에는 B가 출력될 것이다.\n",
    "* You can see that the Python indentation pattern helps to make sense of the association between if and else without requiring any additional syntactic elements.\n",
    "* 또한 위에서 파이썬의 인덴션 패턴이 다른 문법적 요소가 없어도 if else간의 관계를 이해해주는데 도움 되는것을 볼수 있다\n",
    "\n",
    "* An alternative syntax for this type of nested selection uses the elif keyword. \n",
    "* 중첩된 선택 구문의 대안으로 elif 구문이 있다. \n",
    "* The else and the next if are combined so as to eliminate the need for additional nesting levels. \n",
    "* else 그리고 다음 if가 결합된다면 중첩된 단계를 제거할 수 있을 것이다.\n",
    "* Note that the final else is still necessary to provide the default case if all other conditions fail.\n",
    "* 마지막 else 구문은 다른 조건문에서 실패할경우 필요하기 때문에 필수적이라는것을 명심하라."
   ]
  },
  {
   "cell_type": "code",
   "execution_count": 10,
   "metadata": {},
   "outputs": [
    {
     "name": "stdout",
     "output_type": "stream",
     "text": [
      "D\n"
     ]
    }
   ],
   "source": [
    "if score >= 90:\n",
    "   print('A')\n",
    "elif score >=80:\n",
    "   print('B')\n",
    "elif score >= 70:\n",
    "   print('C')\n",
    "elif score >= 60:\n",
    "   print('D')\n",
    "else:\n",
    "   print('F')"
   ]
  },
  {
   "cell_type": "markdown",
   "metadata": {},
   "source": [
    "* Python also has a single way selection construct, the if statement. \n",
    "* 파이썬은 한개의 선택 구조인 if 구문도 가지고 있다. \n",
    "* With this statement, if the condition is true, an action is performed. \n",
    "* 이 구문에서는, if 조건문이 true 라면 수행된다. \n",
    "* In the case where the condition is false, processing simply continues on to the next statement after the if. \n",
    "* 만약 조건문이 false 라면, if 다음에 있는 구문으로 계속 진행될 것이다.\n",
    "* For example, the following fragment will first check to see if the value of a variable n is negative. \n",
    "* 예를들어, 다음 코드는 i가 음수인지를 판별할 것이다. \n",
    "* If it is, then it is modified by the absolute value function. Regardless, the next action is to compute the square root.\n",
    "* 만약 그렇다면, 절대값 펑션을 이용해 값을 바꿀것이고, 음수던 양수던간에 다음 액션인 루트값을 수행 할 것이다. "
   ]
  },
  {
   "cell_type": "code",
   "execution_count": 12,
   "metadata": {},
   "outputs": [
    {
     "name": "stdout",
     "output_type": "stream",
     "text": [
      "1.0\n"
     ]
    }
   ],
   "source": [
    "import math\n",
    "if n<0:\n",
    "   n = abs(n)\n",
    "print(math.sqrt(n))"
   ]
  },
  {
   "cell_type": "markdown",
   "metadata": {},
   "source": [
    "## Self Check\n",
    "\n",
    "* Test your understanding of what we have covered so far by trying the following exercise. Modify the code from Activecode 8 so that the final list only contains a single copy of each letter."
   ]
  },
  {
   "cell_type": "code",
   "execution_count": 13,
   "metadata": {},
   "outputs": [
    {
     "name": "stdout",
     "output_type": "stream",
     "text": [
      "['c', 'a', 't', 'd', 'o', 'g', 'r', 'b', 'i']\n"
     ]
    }
   ],
   "source": [
    "# 위 레터 리스트에서 넣기 전에 itertor 하면서 철자 있는지 확인\n",
    "# the answer is: ['c', 'a', 't', 'd', 'o', 'g', 'r', 'b', 'i']\n",
    "wordlist = ['cat','dog','rabbit']\n",
    "letterlist = [ ]\n",
    "for aword in wordlist:\n",
    "    for aletter in aword:\n",
    "        if (aletter not in letterlist) :\n",
    "            letterlist.append(aletter)            \n",
    "print(letterlist)"
   ]
  },
  {
   "cell_type": "markdown",
   "metadata": {},
   "source": [
    "* Returning to lists, there is an alternative method for creating a list that uses iteration and selection constructs known as a list comprehension.\n",
    "* 리스트로 돌아가서, list comprehension이라고 알려진 리스트 생성 방법이 있다.\n",
    "* A list comprehension allows you to easily create a list based on some processing or selection criteria. \n",
    "* list comprehension은 선택 조건을 사용해 간단히 리스트를 만들 수 있다.\n",
    "* For example, if we would like to create a list of the first 10 perfect squares, we could use a for statement:\n",
    "* 예제로 10까지 제곱을 구하면, for 구문을 사용하여 다음과 같이 표현할 수 있다."
   ]
  },
  {
   "cell_type": "code",
   "execution_count": 14,
   "metadata": {},
   "outputs": [
    {
     "data": {
      "text/plain": [
       "[1, 4, 9, 16, 25, 36, 49, 64, 81, 100]"
      ]
     },
     "execution_count": 14,
     "metadata": {},
     "output_type": "execute_result"
    }
   ],
   "source": [
    "sqlist=[]\n",
    "for x in range(1,11):\n",
    "    sqlist.append(x*x)\n",
    "sqlist"
   ]
  },
  {
   "cell_type": "markdown",
   "metadata": {},
   "source": [
    "* Using a list comprehension, we can do this in one step as\n",
    "* list comprehension을 사용하면 이것을 한방에 표현할 수 있다."
   ]
  },
  {
   "cell_type": "code",
   "execution_count": 15,
   "metadata": {},
   "outputs": [
    {
     "data": {
      "text/plain": [
       "[1, 4, 9, 16, 25, 36, 49, 64, 81, 100]"
      ]
     },
     "execution_count": 15,
     "metadata": {},
     "output_type": "execute_result"
    }
   ],
   "source": [
    "sqlist=[x*x for x in range(1,11)]\n",
    "sqlist"
   ]
  },
  {
   "cell_type": "markdown",
   "metadata": {},
   "source": [
    "* The variable x takes on the values 1 through 10 as specified by the for construct. The value of x*x is then computed and added to the list that is being constructed. The general syntax for a list comprehension also allows a selection criteria to be added so that only certain items get added. For example,"
   ]
  },
  {
   "cell_type": "code",
   "execution_count": 16,
   "metadata": {},
   "outputs": [
    {
     "data": {
      "text/plain": [
       "[1, 9, 25, 49, 81]"
      ]
     },
     "execution_count": 16,
     "metadata": {},
     "output_type": "execute_result"
    }
   ],
   "source": [
    "sqlist=[x*x for x in range(1,11) if x%2 != 0]\n",
    "sqlist"
   ]
  },
  {
   "cell_type": "markdown",
   "metadata": {},
   "source": [
    "* This list comprehension constructed a list that only contained the squares of the odd numbers in the range from 1 to 10. \n",
    "* 이것은 1부터 10의 제곱중에 오직 홀수로만 이뤄진 요소들의 리스트이다. \n",
    "* Any sequence that supports iteration can be used within a list comprehension to construct a new list. \n",
    "* iteration을 제공하는 아무 시퀀스나 list comprehension을 사용한 리스트 생성을 사용할 수 있다."
   ]
  },
  {
   "cell_type": "code",
   "execution_count": 17,
   "metadata": {},
   "outputs": [
    {
     "data": {
      "text/plain": [
       "['C', 'M', 'P', 'R', 'H', 'N', 'S', 'N']"
      ]
     },
     "execution_count": 17,
     "metadata": {},
     "output_type": "execute_result"
    }
   ],
   "source": [
    "[ch.upper() for ch in 'comprehension' if ch not in 'aeiou']"
   ]
  },
  {
   "cell_type": "markdown",
   "metadata": {},
   "source": [
    "## Self Check\n",
    "\n",
    "* Test your understanding of list comprehensions by redoing Activecode 8 using list comprehensions. For an extra challenge, see if you can figure out how to remove the duplicates."
   ]
  },
  {
   "cell_type": "code",
   "execution_count": 18,
   "metadata": {},
   "outputs": [
    {
     "data": {
      "text/plain": [
       "['c', 'a', 't', 'd', 'o', 'g', 'r', 'a', 'b', 'b', 'i', 't']"
      ]
     },
     "execution_count": 18,
     "metadata": {},
     "output_type": "execute_result"
    }
   ],
   "source": [
    "# the answer is: ['c', 'a', 't', 'd', 'o', 'g', 'r', 'a', 'b', 'b', 'i', 't']\n",
    "wordlist = [word[i] for word in ['cat','dog','rabbit'] for i in range(len(word))]\n",
    "wordlist"
   ]
  }
 ],
 "metadata": {
  "kernelspec": {
   "display_name": "Python 3",
   "language": "python",
   "name": "python3"
  },
  "language_info": {
   "codemirror_mode": {
    "name": "ipython",
    "version": 3
   },
   "file_extension": ".py",
   "mimetype": "text/x-python",
   "name": "python",
   "nbconvert_exporter": "python",
   "pygments_lexer": "ipython3",
   "version": "3.7.3"
  }
 },
 "nbformat": 4,
 "nbformat_minor": 1
}
