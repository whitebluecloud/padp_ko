{
 "cells": [
  {
   "cell_type": "markdown",
   "metadata": {},
   "source": [
    "* Research the __repr__ method. How does it differ from __str__? When is it used? Implement __repr__.\n"
   ]
  },
  {
   "cell_type": "markdown",
   "metadata": {},
   "source": [
    "repr 메소드는 str과 마찬가지로 객체를 문자열로 출력해주는 것,\n",
    "다만 repr은 파이썬에서 인터프리터가 인식할수 있는 문자열로 출력해줌\n",
    "(str은 사용자가 알아먹을수 있게 약식으로만 출력)"
   ]
  },
  {
   "cell_type": "code",
   "execution_count": 1,
   "metadata": {},
   "outputs": [
    {
     "name": "stdout",
     "output_type": "stream",
     "text": [
      "2019-05-07 01:35:23.193445\n",
      "datetime.datetime(2019, 5, 7, 1, 35, 23, 193445)\n",
      "2019-05-06 22:27:19.577357\n"
     ]
    }
   ],
   "source": [
    "import datetime\n",
    "today = datetime.datetime.now()\n",
    "\n",
    "print(str(today))\n",
    "print(repr(today))\n",
    "\n",
    "check = datetime.datetime(2019, 5, 6, 22, 27, 19, 577357)\n",
    "print(str(check))"
   ]
  },
  {
   "cell_type": "markdown",
   "metadata": {},
   "source": [
    "* Research other types of gates that exist (such as NAND, NOR, and XOR). Add them to the circuit hierarchy. How much additional coding did you need to do?"
   ]
  },
  {
   "cell_type": "code",
   "execution_count": 2,
   "metadata": {},
   "outputs": [
    {
     "name": "stdout",
     "output_type": "stream",
     "text": [
      "Enter Pin A input for gate G1-->0\n",
      "Enter Pin B input for gate G1-->1\n",
      "Enter Pin A input for gate G2-->0\n",
      "Enter Pin B input for gate G2-->1\n",
      "1\n"
     ]
    }
   ],
   "source": [
    "class LogicGate:\n",
    "\n",
    "    def __init__(self,n):\n",
    "        self.name = n\n",
    "        self.output = None\n",
    "\n",
    "    def getName(self):\n",
    "        return self.name\n",
    "\n",
    "    def getOutput(self):\n",
    "        self.output = self.performGateLogic()\n",
    "        return self.output\n",
    "\n",
    "\n",
    "class BinaryGate(LogicGate):\n",
    "\n",
    "    def __init__(self,n):\n",
    "        LogicGate.__init__(self,n)\n",
    "\n",
    "        self.pinA = None\n",
    "        self.pinB = None\n",
    "\n",
    "    def getPinA(self):\n",
    "        if self.pinA == None:\n",
    "            return int(input(\"Enter Pin A input for gate \"+self.getName()+\"-->\"))\n",
    "        else:\n",
    "            return self.pinA.getFrom().getOutput()\n",
    "\n",
    "    def getPinB(self):\n",
    "        if self.pinB == None:\n",
    "            return int(input(\"Enter Pin B input for gate \"+self.getName()+\"-->\"))\n",
    "        else:\n",
    "            return self.pinB.getFrom().getOutput()\n",
    "\n",
    "    def setNextPin(self,source):\n",
    "        if self.pinA == None:\n",
    "            self.pinA = source\n",
    "        else:\n",
    "            if self.pinB == None:\n",
    "                self.pinB = source\n",
    "            else:\n",
    "                print(\"Cannot Connect: NO EMPTY PINS on this gate\")\n",
    "\n",
    "\n",
    "class AndGate(BinaryGate):\n",
    "\n",
    "    def __init__(self,n):\n",
    "        BinaryGate.__init__(self,n)\n",
    "\n",
    "    def performGateLogic(self):\n",
    "\n",
    "        a = self.getPinA()\n",
    "        b = self.getPinB()\n",
    "        if a==1 and b==1:\n",
    "            return 1\n",
    "        else:\n",
    "            return 0\n",
    "\n",
    "class NandGate(BinaryGate):\n",
    "\n",
    "    def __init__(self,n):\n",
    "        BinaryGate.__init__(self,n)\n",
    "\n",
    "    def performGateLogic(self):\n",
    "\n",
    "        a = self.getPinA()\n",
    "        b = self.getPinB()\n",
    "        if a==1 and b==1:\n",
    "            return 0\n",
    "        else:\n",
    "            return 1        \n",
    "        \n",
    "class OrGate(BinaryGate):\n",
    "\n",
    "    def __init__(self,n):\n",
    "        BinaryGate.__init__(self,n)\n",
    "\n",
    "    def performGateLogic(self):\n",
    "\n",
    "        a = self.getPinA()\n",
    "        b = self.getPinB()\n",
    "        if a ==1 or b==1:\n",
    "            return 1\n",
    "        else:\n",
    "            return 0\n",
    "        \n",
    "class NorGate(BinaryGate):\n",
    "\n",
    "    def __init__(self,n):\n",
    "        BinaryGate.__init__(self,n)\n",
    "\n",
    "    def performGateLogic(self):\n",
    "\n",
    "        a = self.getPinA()\n",
    "        b = self.getPinB()\n",
    "        if a ==1 or b==1:\n",
    "            return 0\n",
    "        else:\n",
    "            return 1\n",
    "\n",
    "class XorGate(BinaryGate):\n",
    "\n",
    "    def __init__(self,n):\n",
    "        BinaryGate.__init__(self,n)\n",
    "\n",
    "    def performGateLogic(self):\n",
    "\n",
    "        a = self.getPinA()\n",
    "        b = self.getPinB()\n",
    "        if a ==0 and b==1 or a== 1 and b == 0:\n",
    "            return 1\n",
    "        else:\n",
    "            return 0\n",
    "        \n",
    "class UnaryGate(LogicGate):\n",
    "\n",
    "    def __init__(self,n):\n",
    "        LogicGate.__init__(self,n)\n",
    "\n",
    "        self.pin = None\n",
    "\n",
    "    def getPin(self):\n",
    "        if self.pin == None:\n",
    "            return int(input(\"Enter Pin input for gate \"+self.getName()+\"-->\"))\n",
    "        else:\n",
    "            return self.pin.getFrom().getOutput()\n",
    "\n",
    "    def setNextPin(self,source):\n",
    "        if self.pin == None:\n",
    "            self.pin = source\n",
    "        else:\n",
    "            print(\"Cannot Connect: NO EMPTY PINS on this gate\")\n",
    "\n",
    "\n",
    "class NotGate(UnaryGate):\n",
    "\n",
    "    def __init__(self,n):\n",
    "        UnaryGate.__init__(self,n)\n",
    "\n",
    "    def performGateLogic(self):\n",
    "        if self.getPin():\n",
    "            return 0\n",
    "        else:\n",
    "            return 1\n",
    "\n",
    "\n",
    "class Connector:\n",
    "\n",
    "    def __init__(self, fgate, tgate):\n",
    "        self.fromgate = fgate\n",
    "        self.togate = tgate\n",
    "\n",
    "        tgate.setNextPin(self)\n",
    "\n",
    "    def getFrom(self):\n",
    "        return self.fromgate\n",
    "\n",
    "    def getTo(self):\n",
    "        return self.togate\n",
    "\n",
    "g1 = AndGate(\"G1\")\n",
    "g2 = AndGate(\"G2\")\n",
    "g3 = OrGate(\"G3\")\n",
    "g4 = NotGate(\"G4\")\n",
    "c1 = Connector(g1,g3)\n",
    "c2 = Connector(g2,g3)\n",
    "c3 = Connector(g3,g4)\n",
    "print(g4.getOutput())    "
   ]
  },
  {
   "cell_type": "markdown",
   "metadata": {},
   "source": [
    "* The most simple arithmetic circuit is known as the half-adder. Research the simple half-adder circuit. Implement this circuit."
   ]
  },
  {
   "cell_type": "code",
   "execution_count": 3,
   "metadata": {},
   "outputs": [
    {
     "name": "stdout",
     "output_type": "stream",
     "text": [
      "Enter Pin A input for gate H1-->0\n",
      "Enter Pin B input for gate H1-->1\n"
     ]
    },
    {
     "data": {
      "text/plain": [
       "(1, 0)"
      ]
     },
     "execution_count": 3,
     "metadata": {},
     "output_type": "execute_result"
    }
   ],
   "source": [
    "class Half_Adder(BinaryGate): \n",
    "    def __init__(self,n):\n",
    "        BinaryGate.__init__(self,n)\n",
    "\n",
    "    def performGateLogic(self):\n",
    "        a = self.getPinA()\n",
    "        b = self.getPinB()\n",
    "        \n",
    "        # xor\n",
    "        if a ==0 and b==1 or a== 1 and b == 0:\n",
    "            a1 = 1\n",
    "        else:\n",
    "            a1 = 0\n",
    "        \n",
    "        # and\n",
    "        if a ==1 and b ==1 :\n",
    "            a2 = 1\n",
    "        else  :\n",
    "            a2 = 0\n",
    "            \n",
    "        return (a1,a2)\n",
    "\n",
    "h1 = Half_Adder(\"H1\")\n",
    "h1.getOutput()"
   ]
  },
  {
   "cell_type": "markdown",
   "metadata": {},
   "source": [
    "* Now extend that circuit and implement an 8 bit full-adder."
   ]
  },
  {
   "cell_type": "code",
   "execution_count": 5,
   "metadata": {},
   "outputs": [
    {
     "name": "stdout",
     "output_type": "stream",
     "text": [
      "input your first binary string  01\n",
      "input your second binary string 10\n",
      "1st string of bits is : 01, (1)\n",
      "2nd string of bits is : 10, (2)\n",
      "summarized is         : 011, (3)\n"
     ]
    }
   ],
   "source": [
    "# boolean binary string adder\n",
    "# 대신 다른거 갖고왔씀 ㅠ..\n",
    "def rjust_lenght(s1, s2, fill='0'):\n",
    "    l1, l2 = len(s1), len(s2)\n",
    "    if l1 > l2:\n",
    "        s2 = s2.rjust(l1, fill)\n",
    "    elif l2 > l1:\n",
    "        s1 = s1.rjust(l2, fill)\n",
    "    return (s1, s2)\n",
    "\n",
    "def get_input():\n",
    "    bits_a = input('input your first binary string  ')\n",
    "    bits_b = input('input your second binary string ')\n",
    "    return rjust_lenght(bits_a, bits_b)\n",
    "\n",
    "def xor(bit_a, bit_b):\n",
    "    A1 = bit_a and (not bit_b)\n",
    "    A2 = (not bit_a) and bit_b\n",
    "    return int(A1 or A2)\n",
    "\n",
    "def half_adder(bit_a, bit_b):\n",
    "    return (xor(bit_a, bit_b), bit_a and bit_b)\n",
    "\n",
    "def full_adder(bit_a, bit_b, carry=0):\n",
    "    sum1, carry1 = half_adder(bit_a, bit_b)\n",
    "    sum2, carry2 = half_adder(sum1, carry)\n",
    "    return (sum2, carry1 or carry2)\n",
    "\n",
    "def binary_string_adder(bits_a, bits_b):\n",
    "    carry = 0\n",
    "    result = ''\n",
    "    for i in range(len(bits_a)-1 , -1, -1):\n",
    "        summ, carry = full_adder(int(bits_a[i]), int(bits_b[i]), carry)\n",
    "        result += str(summ)\n",
    "    result += str(carry)\n",
    "    return result[::-1]\n",
    "\n",
    "def main():\n",
    "    bits_a, bits_b = get_input()\n",
    "    print('1st string of bits is : {}, ({})'.format(bits_a, int(bits_a, 2)))\n",
    "    print('2nd string of bits is : {}, ({})'.format(bits_b, int(bits_b, 2)))\n",
    "    result = binary_string_adder(bits_a, bits_b)\n",
    "    print('summarized is         : {}, ({})'.format(result, int(result, 2)))\n",
    "\n",
    "if __name__ == '__main__':\n",
    "    main()"
   ]
  },
  {
   "cell_type": "markdown",
   "metadata": {},
   "source": [
    "* The circuit simulation shown in this chapter works in a backward direction. In other words, given a circuit, the output is produced by working back through the input values, which in turn cause other outputs to be queried. This continues until external input lines are found, at which point the user is asked for values. Modify the implementation so that the action is in the forward direction; upon receiving inputs the circuit produces an output."
   ]
  },
  {
   "cell_type": "code",
   "execution_count": null,
   "metadata": {},
   "outputs": [],
   "source": []
  },
  {
   "cell_type": "markdown",
   "metadata": {},
   "source": [
    "* Design a class to represent a playing card. Now design a class to represent a deck of cards. Using these two classes, implement a favorite card game."
   ]
  },
  {
   "cell_type": "code",
   "execution_count": 75,
   "metadata": {},
   "outputs": [
    {
     "name": "stdout",
     "output_type": "stream",
     "text": [
      "11\n",
      "BLACK JACK!!\n",
      "YOU LOSE : 24\n"
     ]
    }
   ],
   "source": [
    "from random import shuffle\n",
    "class Card :\n",
    "    def __init__(self, num, shape) :\n",
    "        self.num = num\n",
    "        self.shape = shape\n",
    "        \n",
    "    def getNum(self):\n",
    "        return self.num\n",
    "    \n",
    "    def getShape(self):\n",
    "        return self.shape\n",
    "    \n",
    "    def __str__(self):\n",
    "        return \"num : \" + str(self.num) + \" shape : \" + str(self.shape)\n",
    "    \n",
    "class Deck(Card):\n",
    "    def __init__(self):\n",
    "        self.shape_list = [\"clover\", \"heart\", \"diamond\", \"club\"]\n",
    "        self.num_list = range(1,14)\n",
    "        self.cards = [Card(num,shape) for shape in self.shape_list for num in self.num_list]\n",
    "    \n",
    "    def shuffle(self) :\n",
    "        shuffle(self.cards)\n",
    "                \n",
    "    def give_card(self) :\n",
    "        return self.cards.pop(0)\n",
    "\n",
    "class BlackJack(Deck):\n",
    "    def __init__(self):\n",
    "        Deck.__init__(self)\n",
    "        self.shuffle()\n",
    "        self.my_hands = list()\n",
    "        self.opp_hands = list()\n",
    "\n",
    "    def calculate(self) :\n",
    "        score = 0\n",
    "\n",
    "        for card in self.my_hands :\n",
    "            if card.getNum() == 1 and score < 11 :\n",
    "                score += 11\n",
    "                continue\n",
    "            if card.getNum() > 10 :\n",
    "                score += 10\n",
    "                continue\n",
    "            score += card.getNum()\n",
    "            \n",
    "        # 판정 하기\n",
    "        if score == 21 :\n",
    "            print(\"BLACK JACK!!\")\n",
    "        elif score > 21 :\n",
    "            print(\"YOU LOSE : \" + str(score)) \n",
    "        else :\n",
    "            print(score)\n",
    "            \n",
    "    def to_my_hands(self):\n",
    "        self.my_hands.append(self.give_card())\n",
    "        self.calculate()\n",
    "        \n",
    "b = BlackJack()\n",
    "b.to_my_hands()\n",
    "b.to_my_hands()\n",
    "b.to_my_hands()"
   ]
  },
  {
   "cell_type": "markdown",
   "metadata": {},
   "source": [
    "* Find a Sudoku puzzle in the local newspaper. Write a program to solve the puzzle."
   ]
  },
  {
   "cell_type": "code",
   "execution_count": null,
   "metadata": {},
   "outputs": [],
   "source": []
  }
 ],
 "metadata": {
  "kernelspec": {
   "display_name": "Python 3",
   "language": "python",
   "name": "python3"
  },
  "language_info": {
   "codemirror_mode": {
    "name": "ipython",
    "version": 3
   },
   "file_extension": ".py",
   "mimetype": "text/x-python",
   "name": "python",
   "nbconvert_exporter": "python",
   "pygments_lexer": "ipython3",
   "version": "3.7.3"
  }
 },
 "nbformat": 4,
 "nbformat_minor": 2
}
