{
 "cells": [
  {
   "cell_type": "code",
   "execution_count": 35,
   "metadata": {},
   "outputs": [
    {
     "data": {
      "text/plain": [
       "{'score': 0.03571428571428571, 'sentence': 'szfuvxwvlpvguwbscbeqnfdgvupn'}"
      ]
     },
     "execution_count": 35,
     "metadata": {},
     "output_type": "execute_result"
    }
   ],
   "source": [
    "import random\n",
    "import string\n",
    "\n",
    "sentence = 'methinks it is like a weasel'\n",
    "\n",
    "def monkey(n) :\n",
    "    charset = string.ascii_lowercase \n",
    "    charset += ' '\n",
    "    monkey_typing = [random.choice(charset) for x in range(0,n)]\n",
    "    return ''.join(monkey_typing)\n",
    "\n",
    "def score(gen, cor) :\n",
    "    loop = len(gen)\n",
    "    matched = 0\n",
    "    for i in range(0, loop) :\n",
    "        if gen[i] == cor[i] :\n",
    "            matched += 1\n",
    "    return matched/loop\n",
    "\n",
    "def infinite_monkey() :\n",
    "    random_sentence = monkey(28)\n",
    "    return {\"sentence\":random_sentence,\"score\":score(random_sentence,sentence)}\n",
    "\n",
    "infinite_monkey()\n",
    " "
   ]
  }
 ],
 "metadata": {
  "kernelspec": {
   "display_name": "Python 3",
   "language": "python",
   "name": "python3"
  },
  "language_info": {
   "codemirror_mode": {
    "name": "ipython",
    "version": 3
   },
   "file_extension": ".py",
   "mimetype": "text/x-python",
   "name": "python",
   "nbconvert_exporter": "python",
   "pygments_lexer": "ipython3",
   "version": "3.7.3"
  }
 },
 "nbformat": 4,
 "nbformat_minor": 2
}
