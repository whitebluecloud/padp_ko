{
 "cells": [
  {
   "cell_type": "code",
   "execution_count": 14,
   "metadata": {},
   "outputs": [],
   "source": [
    "from fractions import Fraction"
   ]
  },
  {
   "cell_type": "markdown",
   "metadata": {},
   "source": [
    "# 1.17. Programming Exercises\n",
    "# 1.17. 프로그래밍 예제\n",
    "* 1. Implement the simple methods getNum and getDen that will return the numerator and denominator of a fraction.\n",
    "* 1. 분수에서, 분자를 반환하는 getNum과 분모를 반환하는 getDen이라는 메소드를 구현하여라."
   ]
  },
  {
   "cell_type": "code",
   "execution_count": null,
   "metadata": {},
   "outputs": [],
   "source": []
  },
  {
   "cell_type": "markdown",
   "metadata": {},
   "source": [
    "* 2. In many ways it would be better if all fractions were maintained in lowest terms right from the start. \n",
    "* 2. 모든 분수들이 최소의 텀으로 유지되면 좋을 것이다.\n",
    "* Modify the constructor for the Fraction class so that GCD is used to reduce fractions immediately. \n",
    "* Fraction class의 생성자를 수정하여 GCD가 Fraction을 바로 줄일수 있도록 하여라.\n",
    "* Notice that this means the __add__ function no longer needs to reduce. Make the necessary modifications.\n",
    "* 이것은 __add__ 펑션이 reduce를 하지 않는것과 같다. 필요한 수정을 하도록"
   ]
  },
  {
   "cell_type": "code",
   "execution_count": null,
   "metadata": {},
   "outputs": [],
   "source": []
  },
  {
   "cell_type": "markdown",
   "metadata": {},
   "source": [
    "* 3. Implement the remaining simple arithmetic operators (__sub__, __mul__, and __truediv__).\n",
    "* 3.나머지 수학연산인 __sub__, __mul__, __truediv__를 구현하라"
   ]
  },
  {
   "cell_type": "code",
   "execution_count": null,
   "metadata": {},
   "outputs": [],
   "source": []
  },
  {
   "cell_type": "markdown",
   "metadata": {},
   "source": [
    "* 4. Implement the remaining relational operators (__gt__, __ge__, __lt__, __le__, and __ne__)\n",
    "* 4. 나머지 관계 연산자들인 __gt__, __ge__, __lt__, __le__, __ne__를 구현하라"
   ]
  },
  {
   "cell_type": "code",
   "execution_count": null,
   "metadata": {},
   "outputs": [],
   "source": []
  },
  {
   "cell_type": "markdown",
   "metadata": {},
   "source": [
    "* 5. Modify the constructor for the fraction class so that it checks to make sure that the numerator and denominator are both integers. \n",
    "* 5.Fraction class의 생성자를 수정하여 분모와 분자가 모두 integer인지를 검증하라.\n",
    "* If either is not an integer the constructor should raise an exception.\n",
    "* 만약 생성자가 integer로 이뤄져 있지 않다면 exception을 발생시켜라."
   ]
  },
  {
   "cell_type": "code",
   "execution_count": null,
   "metadata": {},
   "outputs": [],
   "source": []
  },
  {
   "cell_type": "markdown",
   "metadata": {},
   "source": [
    "* 6. In the definition of fractions we assumed that negative fractions have a negative numerator and a positive denominator.\n",
    "* 6. 분수의 정의에서, 음의 분수는 음의 분자와 양의 분모를 갖고있다고 가정한다.\n",
    "* Using a negative denominator would cause some of the relational operators to give incorrect results. In general, this is an unnecessary constraint. \n",
    "* 음의 분모를 사용하는 것은 몇몇 관계 연산자에게 부정확한 결과를 가져오지만, 일반적으로 이것은 불필요한 제약이다.\n",
    "* Modify the constructor to allow the user to pass a negative denominator so that all of the operators continue to work properly.\n",
    "* 생성자를 수정하여 음의 분모를 넘겨도 모든 연산자들이 제대로 동작할수 있게 수정하라"
   ]
  },
  {
   "cell_type": "code",
   "execution_count": null,
   "metadata": {},
   "outputs": [],
   "source": []
  },
  {
   "cell_type": "markdown",
   "metadata": {},
   "source": [
    "* 7. Research the __radd__ method. How does it differ from __add__? When is it used? Implement __radd__.\n",
    "* 7. __radd__ 메소드를 알아봐라, __add__와 어떤것이 다른가? 그것은 언제 사용하는가? __radd__를 구현하라\n"
   ]
  },
  {
   "cell_type": "code",
   "execution_count": null,
   "metadata": {},
   "outputs": [],
   "source": []
  },
  {
   "cell_type": "markdown",
   "metadata": {},
   "source": [
    "* 8. Repeat the last question but this time consider the __iadd__ method.\n",
    "* 8. 위의 문제와 같이 __iadd__메소드를 풀어봐라"
   ]
  },
  {
   "cell_type": "code",
   "execution_count": null,
   "metadata": {},
   "outputs": [],
   "source": []
  }
 ],
 "metadata": {
  "kernelspec": {
   "display_name": "Python 3",
   "language": "python",
   "name": "python3"
  },
  "language_info": {
   "codemirror_mode": {
    "name": "ipython",
    "version": 3
   },
   "file_extension": ".py",
   "mimetype": "text/x-python",
   "name": "python",
   "nbconvert_exporter": "python",
   "pygments_lexer": "ipython3",
   "version": "3.7.3"
  }
 },
 "nbformat": 4,
 "nbformat_minor": 2
}
