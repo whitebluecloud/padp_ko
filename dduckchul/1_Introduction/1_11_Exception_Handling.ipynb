{
 "cells": [
  {
   "cell_type": "markdown",
   "metadata": {
    "collapsed": true
   },
   "source": [
    "# 1.11. Exception Handling\n",
    "* There are two types of errors that typically occur when writing programs. \n",
    "* 프로그램을 작성할때 일반적으로 두가지의 에러가 발생 할 수 있다. \n",
    "* The first, known as a syntax error, simply means that the programmer has made a mistake in the structure of a statement or expression. \n",
    "* 첫번째 구문에러는, 구문이나 표현 구조에 프로그래머가 실수했을때 발생한다. \n",
    "* For example, it is incorrect to write a for statement and forget the colon.\n",
    "* 예를들어, 구문을 작성하고 colon을 잊어버렸을때 발생한다."
   ]
  },
  {
   "cell_type": "code",
   "execution_count": 1,
   "metadata": {},
   "outputs": [
    {
     "ename": "SyntaxError",
     "evalue": "invalid syntax (<ipython-input-1-6f7914dd2e9a>, line 1)",
     "output_type": "error",
     "traceback": [
      "\u001b[0;36m  File \u001b[0;32m\"<ipython-input-1-6f7914dd2e9a>\"\u001b[0;36m, line \u001b[0;32m1\u001b[0m\n\u001b[0;31m    for i in range(10)\u001b[0m\n\u001b[0m                      ^\u001b[0m\n\u001b[0;31mSyntaxError\u001b[0m\u001b[0;31m:\u001b[0m invalid syntax\n"
     ]
    }
   ],
   "source": [
    "for i in range(10)"
   ]
  },
  {
   "cell_type": "markdown",
   "metadata": {},
   "source": [
    "* In this case, the Python interpreter has found that it cannot complete the processing of this instruction since it does not conform to the rules of the language. \n",
    "* 위와 같은 경우 파이썬 인터프리터는 언어의 규칙을 지키지 않았으므로, 동작을 완료할 수 없다.\n",
    "* Syntax errors are usually more frequent when you are first learning a language.\n",
    "* 문법 에러는 당신이 처음 언어를 배웠을때 더 자주 발생한다. "
   ]
  },
  {
   "cell_type": "markdown",
   "metadata": {},
   "source": [
    "* The other type of error, known as a logic error, denotes a situation where the program executes but gives the wrong result. \n",
    "* 다른 유형의 오류로는, 로직에러가 있다. 이것은 프로그램은 실행되지만, 잘못된 결과값을 출력할때를 일컫는다.\n",
    "* This can be due to an error in the underlying algorithm or an error in your translation of that algorithm. \n",
    "* 이것은 기본이 되는 알고리즘 상의 에러일 수도 있고, 어떤 알고리즘을 프로그래밍으로 변환할때 에러일 수도 있다. \n",
    "* In some cases, logic errors lead to very bad situations such as trying to divide by zero or trying to access an item in a list where the index of the item is outside the bounds of the list. \n",
    "* 몇가지 사례로, 로직 에러는 0으로 나누기를 한다거나, list의 인덱스 밖의 요소를 접근한다던지 아주 좋지않은 상황을 야기할 수 있다.\n",
    "* In this case, the logic error leads to a runtime error that causes the program to terminate. These types of runtime errors are typically called exceptions.\n",
    "* 이런 상황에서, 로직 에러는 런타임 에러를 발생시켜 프로그램이 꺼지게한다. 이런 런타임 에러들은 보통 exception이라고 부른다."
   ]
  },
  {
   "cell_type": "markdown",
   "metadata": {},
   "source": [
    "* Most of the time, beginning programmers simply think of exceptions as fatal runtime errors that cause the end of execution. \n",
    "* 대부분의 시간동안, 프로그래머들은 단순히 익셉션을 실행을 종료시키는 치명적인 런타임 에러로만 생각했다.\n",
    "* However, most programming languages provide a way to deal with these errors that will allow the programmer to have some type of intervention if they so choose. \n",
    "* 그러나, 대부분의 프로그래밍 언어들은 프로그래머가 이 에러들을 이용해 추가적인 동작을 할수 있게끔 만들어져 있다.\n",
    "* In addition, programmers can create their own exceptions if they detect a situation in the program execution that warrants it.\n",
    "* 게다가, 프로그래머들은 자신의 익셉션을 만들어서 특정 상황에서도 프로그래밍이 실행 될수있게 보장할 수 있다."
   ]
  },
  {
   "cell_type": "markdown",
   "metadata": {},
   "source": [
    "* When an exception occurs, we say that it has been “raised.” You can “handle” the exception that has been raised by using a try statement. \n",
    "* 만약 익셉션이 발생한다면, 우리는 그것이 raised 되었다고 말한다. 우리는 try 구문을 사용한다면 이 익셉션을 handle 할 수도 있다.\n",
    "* For example, consider the following session that asks the user for an integer and then calls the square root function from the math library. \n",
    "* 예를들어 다음과 같이 유저에게 정수형을 요구하여 math 라이브러리에서 루트 펑션을 호출하는 기능을 만들었다 생각해보자. \n",
    "* If the user enters a value that is greater than or equal to 0, the print will show the square root. \n",
    "* 만약 유저가 0보다 큰 값을 입력한다면 루트값을 나타내줄 것이다. \n",
    "* However, if the user enters a negative value, the square root function will report a ValueError exception.\n",
    "* 그러나 유저가 음수의 값을 입력한다면, 루트 펑션은 ValueErrorException을 발생시킬것이다."
   ]
  },
  {
   "cell_type": "code",
   "execution_count": 2,
   "metadata": {},
   "outputs": [
    {
     "name": "stdout",
     "output_type": "stream",
     "text": [
      "Please enter an integer -1\n"
     ]
    }
   ],
   "source": [
    "anumber = int(input(\"Please enter an integer \"))"
   ]
  },
  {
   "cell_type": "code",
   "execution_count": 3,
   "metadata": {},
   "outputs": [
    {
     "ename": "NameError",
     "evalue": "name 'math' is not defined",
     "output_type": "error",
     "traceback": [
      "\u001b[0;31m---------------------------------------------------------------------------\u001b[0m",
      "\u001b[0;31mNameError\u001b[0m                                 Traceback (most recent call last)",
      "\u001b[0;32m<ipython-input-3-4d7bfe75e35f>\u001b[0m in \u001b[0;36m<module>\u001b[0;34m()\u001b[0m\n\u001b[0;32m----> 1\u001b[0;31m \u001b[0mprint\u001b[0m\u001b[0;34m(\u001b[0m\u001b[0mmath\u001b[0m\u001b[0;34m.\u001b[0m\u001b[0msqrt\u001b[0m\u001b[0;34m(\u001b[0m\u001b[0manumber\u001b[0m\u001b[0;34m)\u001b[0m\u001b[0;34m)\u001b[0m\u001b[0;34m\u001b[0m\u001b[0;34m\u001b[0m\u001b[0m\n\u001b[0m",
      "\u001b[0;31mNameError\u001b[0m: name 'math' is not defined"
     ]
    }
   ],
   "source": [
    "print(math.sqrt(anumber))"
   ]
  },
  {
   "cell_type": "markdown",
   "metadata": {},
   "source": [
    "* We can handle this exception by calling the print function from within a try block. \n",
    "* 우리는 이런 exception을 try블록 안에 print 펑션을 위치시켜 제어할 수 있다.\n",
    "* A corresponding except block “catches” the exception and prints a message back to the user in the event that an exception occurs. For example:\n",
    "* except 블록에 대응하는 것이 exception을 캐치하고, 유저에게 익셉션이 발생한 메시지를 제공할 수 있다."
   ]
  },
  {
   "cell_type": "code",
   "execution_count": 4,
   "metadata": {},
   "outputs": [
    {
     "name": "stdout",
     "output_type": "stream",
     "text": [
      "Bad Value for square root\n",
      "Using absolute value instead\n"
     ]
    },
    {
     "ename": "NameError",
     "evalue": "name 'math' is not defined",
     "output_type": "error",
     "traceback": [
      "\u001b[0;31m---------------------------------------------------------------------------\u001b[0m",
      "\u001b[0;31mNameError\u001b[0m                                 Traceback (most recent call last)",
      "\u001b[0;32m<ipython-input-4-751734b905f2>\u001b[0m in \u001b[0;36m<module>\u001b[0;34m()\u001b[0m\n\u001b[1;32m      1\u001b[0m \u001b[0;32mtry\u001b[0m\u001b[0;34m:\u001b[0m\u001b[0;34m\u001b[0m\u001b[0;34m\u001b[0m\u001b[0m\n\u001b[0;32m----> 2\u001b[0;31m    \u001b[0mprint\u001b[0m\u001b[0;34m(\u001b[0m\u001b[0mmath\u001b[0m\u001b[0;34m.\u001b[0m\u001b[0msqrt\u001b[0m\u001b[0;34m(\u001b[0m\u001b[0manumber\u001b[0m\u001b[0;34m)\u001b[0m\u001b[0;34m)\u001b[0m\u001b[0;34m\u001b[0m\u001b[0;34m\u001b[0m\u001b[0m\n\u001b[0m\u001b[1;32m      3\u001b[0m \u001b[0;32mexcept\u001b[0m\u001b[0;34m:\u001b[0m\u001b[0;34m\u001b[0m\u001b[0;34m\u001b[0m\u001b[0m\n",
      "\u001b[0;31mNameError\u001b[0m: name 'math' is not defined",
      "\nDuring handling of the above exception, another exception occurred:\n",
      "\u001b[0;31mNameError\u001b[0m                                 Traceback (most recent call last)",
      "\u001b[0;32m<ipython-input-4-751734b905f2>\u001b[0m in \u001b[0;36m<module>\u001b[0;34m()\u001b[0m\n\u001b[1;32m      4\u001b[0m    \u001b[0mprint\u001b[0m\u001b[0;34m(\u001b[0m\u001b[0;34m\"Bad Value for square root\"\u001b[0m\u001b[0;34m)\u001b[0m\u001b[0;34m\u001b[0m\u001b[0;34m\u001b[0m\u001b[0m\n\u001b[1;32m      5\u001b[0m    \u001b[0mprint\u001b[0m\u001b[0;34m(\u001b[0m\u001b[0;34m\"Using absolute value instead\"\u001b[0m\u001b[0;34m)\u001b[0m\u001b[0;34m\u001b[0m\u001b[0;34m\u001b[0m\u001b[0m\n\u001b[0;32m----> 6\u001b[0;31m    \u001b[0mprint\u001b[0m\u001b[0;34m(\u001b[0m\u001b[0mmath\u001b[0m\u001b[0;34m.\u001b[0m\u001b[0msqrt\u001b[0m\u001b[0;34m(\u001b[0m\u001b[0mabs\u001b[0m\u001b[0;34m(\u001b[0m\u001b[0manumber\u001b[0m\u001b[0;34m)\u001b[0m\u001b[0;34m)\u001b[0m\u001b[0;34m)\u001b[0m\u001b[0;34m\u001b[0m\u001b[0;34m\u001b[0m\u001b[0m\n\u001b[0m",
      "\u001b[0;31mNameError\u001b[0m: name 'math' is not defined"
     ]
    }
   ],
   "source": [
    "try:\n",
    "   print(math.sqrt(anumber))\n",
    "except:\n",
    "   print(\"Bad Value for square root\")\n",
    "   print(\"Using absolute value instead\")\n",
    "   print(math.sqrt(abs(anumber)))"
   ]
  },
  {
   "cell_type": "markdown",
   "metadata": {},
   "source": [
    "* will catch the fact that an exception is raised by sqrt and will instead print the messages back to the user and use the absolute value to be sure that we are taking the square root of a non-negative number. \n",
    "* 위 코드는 루트 펑션에서 익셉션이 발생했다는것을 캐치하고, 대신 유저에게 메시지를 주고, 음수가 아닌 절대값을 이용하여 루트 펑션을 이용한 값을 제공할 것이다. \n",
    "* This means that the program will not terminate but instead will continue on to the next statements.\n",
    "* 이것은 프로그램이 종료되지 않고, 다음 구문들을 계속 실행할수 있다는것을 보여준다. \n",
    "\n",
    "*It is also possible for a programmer to cause a runtime exception by using the raise statement. \n",
    "* 이것은 또한 프로그래머에게 raise 구문을 이용해 런타임 익셉션을 발생시킬수도 있다는것을 나타낸다. \n",
    "* For example, instead of calling the square root function with a negative number, we could have checked the value first and then raised our own exception. \n",
    "* 예를들어, 음수로 루트 펑션을 호출하는 것 대신에 우리는 먼저 값을 체크하고, 우리가 만든 익셉션을 발생시킬수 있는 것이다.\n",
    "* The code fragment below shows the result of creating a new RuntimeError exception.\n",
    "* 아래 코드는 새로운 런타임 에러 익셉션을 만드는것을 보여준다. \n",
    "* Note that the program would still terminate but now the exception that caused the termination is something explicitly created by the programmer.\n",
    "* 프로그램이 종료되긴하지만, 우리가 만든 익셉션이 동작한다는것을 기억하라."
   ]
  },
  {
   "cell_type": "code",
   "execution_count": 5,
   "metadata": {},
   "outputs": [
    {
     "ename": "RuntimeError",
     "evalue": "You can't use a negative number",
     "output_type": "error",
     "traceback": [
      "\u001b[0;31m---------------------------------------------------------------------------\u001b[0m",
      "\u001b[0;31mRuntimeError\u001b[0m                              Traceback (most recent call last)",
      "\u001b[0;32m<ipython-input-5-c2dee6db69a9>\u001b[0m in \u001b[0;36m<module>\u001b[0;34m()\u001b[0m\n\u001b[1;32m      1\u001b[0m \u001b[0;32mif\u001b[0m \u001b[0manumber\u001b[0m \u001b[0;34m<\u001b[0m \u001b[0;36m0\u001b[0m\u001b[0;34m:\u001b[0m\u001b[0;34m\u001b[0m\u001b[0;34m\u001b[0m\u001b[0m\n\u001b[0;32m----> 2\u001b[0;31m     \u001b[0;32mraise\u001b[0m \u001b[0mRuntimeError\u001b[0m\u001b[0;34m(\u001b[0m\u001b[0;34m\"You can't use a negative number\"\u001b[0m\u001b[0;34m)\u001b[0m\u001b[0;34m\u001b[0m\u001b[0;34m\u001b[0m\u001b[0m\n\u001b[0m\u001b[1;32m      3\u001b[0m \u001b[0;32melse\u001b[0m\u001b[0;34m:\u001b[0m\u001b[0;34m\u001b[0m\u001b[0;34m\u001b[0m\u001b[0m\n\u001b[1;32m      4\u001b[0m     \u001b[0mprint\u001b[0m\u001b[0;34m(\u001b[0m\u001b[0mmath\u001b[0m\u001b[0;34m.\u001b[0m\u001b[0msqrt\u001b[0m\u001b[0;34m(\u001b[0m\u001b[0manumber\u001b[0m\u001b[0;34m)\u001b[0m\u001b[0;34m)\u001b[0m\u001b[0;34m\u001b[0m\u001b[0;34m\u001b[0m\u001b[0m\n",
      "\u001b[0;31mRuntimeError\u001b[0m: You can't use a negative number"
     ]
    }
   ],
   "source": [
    "if anumber < 0:\n",
    "    raise RuntimeError(\"You can't use a negative number\")\n",
    "else:\n",
    "    print(math.sqrt(anumber))"
   ]
  },
  {
   "cell_type": "markdown",
   "metadata": {},
   "source": [
    "* There are many kinds of exceptions that can be raised in addition to the RuntimeError shown above.\n",
    "* 런타임 에러와 더불어 발생할수 있는 수많은 익셉션들이 있다.\n",
    "* See the Python reference manual for a list of all the available exception types and for how to create your own.\n",
    "* 파이썬 레퍼런스를 참고하여 가능한 익셉션 타입들과, 자신의 익셉션을 어떻게 만들수 있는지 참고하여라."
   ]
  }
 ],
 "metadata": {
  "kernelspec": {
   "display_name": "Python 3",
   "language": "python",
   "name": "python3"
  },
  "language_info": {
   "codemirror_mode": {
    "name": "ipython",
    "version": 3
   },
   "file_extension": ".py",
   "mimetype": "text/x-python",
   "name": "python",
   "nbconvert_exporter": "python",
   "pygments_lexer": "ipython3",
   "version": "3.7.3"
  }
 },
 "nbformat": 4,
 "nbformat_minor": 1
}
