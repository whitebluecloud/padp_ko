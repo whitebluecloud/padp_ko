{
 "cells": [
  {
   "cell_type": "markdown",
   "metadata": {
    "collapsed": true
   },
   "source": [
    "# 1.9. Input and Output\n",
    "# 1.9. 입력과 출력\n",
    "* We often have a need to interact with users, either to get data or to provide some sort of result.  \n",
    "* 우리는 종종 데이터나 결과값을 얻기위해 사용자와 상호작용 할 필요가 생긴다.  \n",
    "* Most programs today use a dialog box as a way of asking the user to provide some type of input.  \n",
    "* 오늘 날 사용하는 프로그램들은, 보통 유저에게 어떤 입력값을 받기위해 대화상자를 이용한다.  \n",
    "* While Python does have a way to create dialog boxes, there is a much simpler function that we can use.  \n",
    "* 파이썬은 대화 상자를 만드는 방법을 제공하고 있지만, 우리는 훨씬 간단한 펑션을 사용할 수 있다.  \n",
    "* Python provides us with a function that allows us to ask a user to enter some data and returns a reference to the data in the form of a string. The function is called input.  \n",
    "* 파이썬은 유저가 어떤 데이터를 입력하게 하여, 문자열 형태로 반환해주는 기능이 있다. 이 기능을 input 이라고 한다.  \n",
    "* Python’s input function takes a single parameter that is a string.  \n",
    "* 파이썬의 인풋 기능은 하나의 파라미터를 받는데, 그것은 문자열이다.  \n",
    "* This string is often called the prompt because it contains some helpful text prompting the user to enter something. For example, you might call input as follows:  \n",
    "* 이 문자열은 프롬프트라고 불리는데, 그 이유는 이것을 입력할때 어떤 도움이 되는 텍스트를 제공해 주기 떄문에, 예를들어 당신은 INPUT을 아래와 같이 호출할 것이다."
   ]
  },
  {
   "cell_type": "code",
   "execution_count": null,
   "metadata": {},
   "outputs": [],
   "source": [
    "aName = input('Please enter your name: ')"
   ]
  },
  {
   "cell_type": "markdown",
   "metadata": {},
   "source": [
    "* Now whatever the user types after the prompt will be stored in the aName variable.  \n",
    "* 이제 사용자가 프롬프트 뒤에 타이핑하는 것들은 aName 변수에 저장될 것이다.  \n",
    "* Using the input function, we can easily write instructions that will prompt the user to enter data and then incorporate that data into further processing.  \n",
    "* 인풋 기능을 사용하면, 쉽게 유저가 데이터를 입력할수 있도록 도움말을 주고, 그 데이터를 추후 과정에 사용할수 있게 된다.  \n",
    "For example, in the following two statements, the first asks the user for their name and the second prints the result of some simple processing based on the string that is provided.\n",
    "* 아래 두 구문에서 보듯이, 처음에는 유저가 이름을 입력하게 하고, 두번째에서 입력한 문자열을 기반으로 간단한 처리를 거친 결과값을 프린트 한것을 볼 수 있다. "
   ]
  },
  {
   "cell_type": "code",
   "execution_count": 2,
   "metadata": {
    "collapsed": true
   },
   "outputs": [
    {
     "ename": "StdinNotImplementedError",
     "evalue": "raw_input was called, but this frontend does not support input requests.",
     "traceback": [
      "\u001b[0;31m---------------------------------------------------------------------------\u001b[0m",
      "\u001b[0;31mStdinNotImplementedError\u001b[0m                  Traceback (most recent call last)",
      "\u001b[0;32m<ipython-input-2-b3b6a2bb7004>\u001b[0m in \u001b[0;36m<module>\u001b[0;34m()\u001b[0m\n\u001b[0;32m----> 1\u001b[0;31m \u001b[0maName\u001b[0m \u001b[0;34m=\u001b[0m \u001b[0minput\u001b[0m\u001b[0;34m(\u001b[0m\u001b[0;34m\"Please enter your name \"\u001b[0m\u001b[0;34m)\u001b[0m\u001b[0;34m\u001b[0m\u001b[0;34m\u001b[0m\u001b[0m\n\u001b[0m\u001b[1;32m      2\u001b[0m print(\"Your name in all capitals is\",aName.upper(),\n\u001b[1;32m      3\u001b[0m       \"and has length\", len(aName))\n",
      "\u001b[0;32mC:\\Users\\DDuck\\AppData\\Local\\Programs\\Python\\Python37\\lib\\site-packages\\ipykernel\\kernelbase.py\u001b[0m in \u001b[0;36mraw_input\u001b[0;34m(self, prompt)\u001b[0m\n\u001b[1;32m    846\u001b[0m         \u001b[0;32mif\u001b[0m \u001b[0;32mnot\u001b[0m \u001b[0mself\u001b[0m\u001b[0;34m.\u001b[0m\u001b[0m_allow_stdin\u001b[0m\u001b[0;34m:\u001b[0m\u001b[0;34m\u001b[0m\u001b[0;34m\u001b[0m\u001b[0m\n\u001b[1;32m    847\u001b[0m             raise StdinNotImplementedError(\n\u001b[0;32m--> 848\u001b[0;31m                 \u001b[0;34m\"raw_input was called, but this frontend does not support input requests.\"\u001b[0m\u001b[0;34m\u001b[0m\u001b[0;34m\u001b[0m\u001b[0m\n\u001b[0m\u001b[1;32m    849\u001b[0m             )\n\u001b[1;32m    850\u001b[0m         return self._input_request(str(prompt),\n",
      "\u001b[0;31mStdinNotImplementedError\u001b[0m: raw_input was called, but this frontend does not support input requests."
     ],
     "output_type": "error"
    }
   ],
   "source": [
    "aName = input(\"Please enter your name \")\n",
    "print(\"Your name in all capitals is\",aName.upper(),\n",
    "      \"and has length\", len(aName))"
   ]
  },
  {
   "cell_type": "markdown",
   "metadata": {},
   "source": [
    "* It is important to note that the value returned from the input function will be a string representing the exact characters that were entered after the prompt.  \n",
    "* 인풋 펑션으로부터 리턴된 값은 프롬프트 뒤에 입력된 문자열임을 꼭 명심해라.  \n",
    "* If you want this string interpreted as another type, you must provide the type conversion explicitly. \n",
    "* 만약 당신이 이 스트링을 다른 타입으로 받고 싶다면, 반드시 타입 컨버전을 명시적으로 사용해야 한다.  \n",
    "* In the statements below, the string that is entered by the user is converted to a float so that it can be used in further arithmetic processing.  \n",
    "* 아래 구문에서 보듯이, 유저가 입력한 문자열이 float형 데이터로 변환되었고, 그 데이터를 수학 계산에 사용할 수 있다.  "
   ]
  },
  {
   "cell_type": "code",
   "execution_count": 1,
   "metadata": {
    "collapsed": true
   },
   "outputs": [
    {
     "ename": "StdinNotImplementedError",
     "evalue": "raw_input was called, but this frontend does not support input requests.",
     "traceback": [
      "\u001b[0;31m---------------------------------------------------------------------------\u001b[0m",
      "\u001b[0;31mStdinNotImplementedError\u001b[0m                  Traceback (most recent call last)",
      "\u001b[0;32m<ipython-input-1-71861125cdc9>\u001b[0m in \u001b[0;36m<module>\u001b[0;34m()\u001b[0m\n\u001b[0;32m----> 1\u001b[0;31m \u001b[0msradius\u001b[0m \u001b[0;34m=\u001b[0m \u001b[0minput\u001b[0m\u001b[0;34m(\u001b[0m\u001b[0;34m\"Please enter the radius of the circle \"\u001b[0m\u001b[0;34m)\u001b[0m\u001b[0;34m\u001b[0m\u001b[0;34m\u001b[0m\u001b[0m\n\u001b[0m\u001b[1;32m      2\u001b[0m \u001b[0mradius\u001b[0m \u001b[0;34m=\u001b[0m \u001b[0mfloat\u001b[0m\u001b[0;34m(\u001b[0m\u001b[0msradius\u001b[0m\u001b[0;34m)\u001b[0m\u001b[0;34m\u001b[0m\u001b[0;34m\u001b[0m\u001b[0m\n\u001b[1;32m      3\u001b[0m \u001b[0mdiameter\u001b[0m \u001b[0;34m=\u001b[0m \u001b[0;36m2\u001b[0m \u001b[0;34m*\u001b[0m \u001b[0mradius\u001b[0m\u001b[0;34m\u001b[0m\u001b[0;34m\u001b[0m\u001b[0m\n",
      "\u001b[0;32mC:\\Users\\DDuck\\AppData\\Local\\Programs\\Python\\Python37\\lib\\site-packages\\ipykernel\\kernelbase.py\u001b[0m in \u001b[0;36mraw_input\u001b[0;34m(self, prompt)\u001b[0m\n\u001b[1;32m    846\u001b[0m         \u001b[0;32mif\u001b[0m \u001b[0;32mnot\u001b[0m \u001b[0mself\u001b[0m\u001b[0;34m.\u001b[0m\u001b[0m_allow_stdin\u001b[0m\u001b[0;34m:\u001b[0m\u001b[0;34m\u001b[0m\u001b[0;34m\u001b[0m\u001b[0m\n\u001b[1;32m    847\u001b[0m             raise StdinNotImplementedError(\n\u001b[0;32m--> 848\u001b[0;31m                 \u001b[0;34m\"raw_input was called, but this frontend does not support input requests.\"\u001b[0m\u001b[0;34m\u001b[0m\u001b[0;34m\u001b[0m\u001b[0m\n\u001b[0m\u001b[1;32m    849\u001b[0m             )\n\u001b[1;32m    850\u001b[0m         return self._input_request(str(prompt),\n",
      "\u001b[0;31mStdinNotImplementedError\u001b[0m: raw_input was called, but this frontend does not support input requests."
     ],
     "output_type": "error"
    }
   ],
   "source": [
    "sradius = input(\"Please enter the radius of the circle \")\n",
    "radius = float(sradius)\n",
    "diameter = 2 * radius"
   ]
  },
  {
   "cell_type": "markdown",
   "metadata": {},
   "source": [
    "# 1.9.1. String Formatting\n",
    "# 1.9.1. 문자열 포매팅\n",
    "* We have already seen that the print function provides a very simple way to output values from a Python program.  \n",
    "* 앞서 우리는 프린트 펑션이 파이썬 프로그램에서 값을 출력할때 간단하게 사용할수 있는것을 보았다.  \n",
    "* print takes zero or more parameters and displays them using a single blank as the default separator.  \n",
    "* 프린트는 0개나 그 이상의 파라미터를 사용해 \n",
    "* It is possible to change the separator character by setting the sep argument.  \n",
    "* \n",
    "* In addition, each print ends with a newline character by default. \n",
    "* This behavior can be changed by setting the end argument. These variations are shown in the following session:"
   ]
  },
  {
   "cell_type": "code",
   "execution_count": 5,
   "metadata": {},
   "outputs": [
    {
     "name": "stdout",
     "output_type": "stream",
     "text": [
      "Hello\nHello World\nHello***World\nHello World***"
     ]
    }
   ],
   "source": [
    "print(\"Hello\")\n",
    "print(\"Hello\",\"World\")\n",
    "print(\"Hello\",\"World\", sep=\"***\")\n",
    "print(\"Hello\",\"World\", end=\"***\")"
   ]
  },
  {
   "cell_type": "markdown",
   "metadata": {},
   "source": [
    "* It is often useful to have more control over the look of your output.  \n",
    "* 위의 예제들은 출력값의 형태를 조종하려고 할때 유용하다.  \n",
    "* Fortunately, Python provides us with an alternative called formatted strings. \n",
    "* 다행히도, 파이썬은 포맷 문자열이라고 불리는 것을 제공한다.\n",
    "* A formatted string is a template in which words or spaces that will remain constant are combined with placeholders for variables that will be inserted into the string.  \n",
    "* 포맷 문자열은 단어나 공백들이 상수로 존재하여 변수들과 함께 사용하여 문자열로 변환할 수 있는 문자열의 템플릿을 말한다.\n",
    "* For example, the statement\n",
    "* 예를들어, 다음 구문  "
   ]
  },
  {
   "cell_type": "code",
   "execution_count": 6,
   "metadata": {
    "collapsed": true
   },
   "outputs": [
    {
     "ename": "NameError",
     "evalue": "name 'aName' is not defined",
     "traceback": [
      "\u001b[0;31m---------------------------------------------------------------------------\u001b[0m",
      "\u001b[0;31mNameError\u001b[0m                                 Traceback (most recent call last)",
      "\u001b[0;32m<ipython-input-6-765147fa7357>\u001b[0m in \u001b[0;36m<module>\u001b[0;34m()\u001b[0m\n\u001b[0;32m----> 1\u001b[0;31m \u001b[0mprint\u001b[0m\u001b[0;34m(\u001b[0m\u001b[0maName\u001b[0m\u001b[0;34m,\u001b[0m \u001b[0;34m\"is\"\u001b[0m\u001b[0;34m,\u001b[0m \u001b[0mage\u001b[0m\u001b[0;34m,\u001b[0m \u001b[0;34m\"years old.\"\u001b[0m\u001b[0;34m)\u001b[0m\u001b[0;34m\u001b[0m\u001b[0;34m\u001b[0m\u001b[0m\n\u001b[0m",
      "\u001b[0;31mNameError\u001b[0m: name 'aName' is not defined"
     ],
     "output_type": "error"
    }
   ],
   "source": [
    "print(aName, \"is\", age, \"years old.\")"
   ]
  },
  {
   "cell_type": "markdown",
   "metadata": {},
   "source": [
    "* contains the words is and years old, but the name and the age will change depending on the variable values at the time of execution. \n",
    "* \n",
    "Using a formatted string, we write the previous statement as"
   ]
  },
  {
   "cell_type": "code",
   "execution_count": null,
   "metadata": {},
   "outputs": [],
   "source": [
    "print(\"%s is %d years old.\" % (aName, age))"
   ]
  },
  {
   "cell_type": "markdown",
   "metadata": {},
   "source": [
    "* This simple example illustrates a new string expression.  \n",
    "* The % operator is a string operator called the format operator. \n",
    "* The left side of the expression holds the template or format string, and the right side holds a collection of values that will be substituted into the format string. \n",
    "* Note that the number of values in the collection on the right side corresponds with the number of % characters in the format string. \n",
    "* Values are taken—in order, left to right—from the collection and inserted into the format string."
   ]
  },
  {
   "cell_type": "markdown",
   "metadata": {},
   "source": [
    "* Let’s look at both sides of this formatting expression in more detail.  \n",
    "* 이제 포맷 표현법의 두가지 방법을 좀더 자세히 살펴보자.  \n",
    "* The format string may contain one or more conversion specifications.  \n",
    "* 포맷 문자열은 한개나 그 이상의 변환 방법이 있다.  \n",
    "* A conversion character tells the format operator what type of value is going to be inserted into that position in the string.  \n",
    "* 컨버전 문자는 연산자에게 어떤 유형의 값이 문자열에 들어갈것인지 정해준다.  \n",
    "* In the example above, the %s specifies a string, while the %d specifies an integer.  \n",
    "* 아래 예제에서, %s는 문자열을 특정하고, %d는 정수를 특정한다.  \n",
    "* Other possible type specifications include i, u, f, e, g, c, or %.  \n",
    "* 다른 유형의 변환법은 i,u,f,e,g,c,%가 있다.  \n",
    "* Table 9 summarizes all of the various type specifications.  \n",
    "* 표에서는 모든 유형의 타입 변환법을 보여준다.  "
   ]
  },
  {
   "cell_type": "markdown",
   "metadata": {},
   "source": [
    "| Character | Output Format                                                                                  |\n",
    "|-----------|------------------------------------------------------------------------------------------------|\n",
    "| d, i      | Integer                                                                                        |\n",
    "| u         | Unsigned integer                                                                               |\n",
    "| f         | Floating point as m.ddddd                                                                      |\n",
    "| e         | Floating point as m.ddddde+/-xx                                                                |\n",
    "| E         | Floating point as m.dddddE+/-xx                                                                |\n",
    "| g         | Use %e for exponents less than −4 or greater than +5, otherwise use %f                         |\n",
    "| c         | Single character                                                                               |\n",
    "| s         | String, or any Python data object that can be converted to a string by using the str function. |\n",
    "| %         | Insert a literal % character                                                                   |"
   ]
  },
  {
   "cell_type": "markdown",
   "metadata": {},
   "source": [
    "* In addition to the format character, you can also include a format modifier between the % and the format character.  \n",
    "* 포맷 문자뿐만 아니라, 포맷 모디파이어를 %와 포맷 문자 사이에 넣을 수 있다.  \n",
    "* Format modifiers may be used to left-justify or right-justifiy the value with a specified field width.  \n",
    "* 포맷 모디파이어는 정해진 너비의 왼쪽 정렬이나 오른쪽을 할떄 사용한다.  \n",
    "* Modifiers can also be used to specify the field width along with a number of digits after the decimal point.  \n",
    "* 모디파이어는 숫자나 소숫점 자리수를 특정할때도 쓰인다.\n",
    "* Table 10 explains these format modifiers"
   ]
  },
  {
   "cell_type": "markdown",
   "metadata": {},
   "source": [
    "| Modifier | Example  | Description                                                                                      |\n",
    "|----------|----------|--------------------------------------------------------------------------------------------------|\n",
    "| number   | %20d     | Put the value in a field width of 20                                                             |\n",
    "| -        | %-20d    | Put the value in a field 20 characters wide, left-justified                                      |\n",
    "| +        | %+20d    | Put the value in a field 20 characters wide, right-justified                                     |\n",
    "| 0        | %020d    | Put the value in a field 20 characters wide, fill in with leading zeros.                         |\n",
    "| .        | %20.2f   | Put the value in a field 20 characters wide with 2 characters to the right of the decimal point. |\n",
    "| (name)   | %(name)d | Get the value from the supplied dictionary using name as the key.                                |"
   ]
  },
  {
   "cell_type": "markdown",
   "metadata": {},
   "source": [
    "* The right side of the format operator is a collection of values that will be inserted into the format string.  \n",
    "* 포맷 오퍼레이터의 오른쪽은 포맷 스트링에 들어갈 값들의 컬렉션 이다.\n",
    "* The collection will be either a tuple or a dictionary. \n",
    "* 컬렉션은 튜플이나 딕셔너리 형이다.\n",
    "* If the collection is a tuple, the values are inserted in order of position. \n",
    "* 컬렉션이 튜플형이라면, 값들은 위치순서대로 들어간다.\n",
    "* That is, the first element in the tuple corresponds to the first format character in the format string. \n",
    "* 즉, 튜플의 첫번째 요소가 포맷 문자열의 첫번째 포맷 캐릭터에 대응된다는 것이다. \n",
    "* If the collection is a dictionary, the values are inserted according to their keys.\n",
    "* 만약 컬렉션이 딕셔너리 라면, 값들은 그 키에 따라 들어간다.  \n",
    "* In this case all format characters must use the (name) modifier to specify the name of the key.\n",
    "* 이 경우에는 모든 포맷 캐릭터에 키 값이 지정되어야 한다. "
   ]
  },
  {
   "cell_type": "code",
   "execution_count": null,
   "metadata": {},
   "outputs": [],
   "source": [
    "price = 24\n",
    "item = \"banana\"\n",
    "print(\"The %s costs %d cents\"%(item,price))\n",
    "print(\"The %+10s costs %5.2f cents\"%(item,price))\n",
    "print(\"The %+10s costs %10.2f cents\"%(item,price))\n",
    "itemdict = {\"item\":\"banana\",\"cost\":24}\n",
    "print(\"The %(item)s costs %(cost)7.1f cents\"%itemdict)"
   ]
  },
  {
   "cell_type": "markdown",
   "metadata": {},
   "source": [
    "* In addition to format strings that use format characters and format modifiers, Python strings also include a format method that can be used in conjunction with a new Formatter class to implement complex string formatting. \n",
    "* 포맷 캐릭터와 포맷 모디파이어를 사용하는 포맷 스트링 뿐만아니라, 파이썬 문자열은 좀더 복잫반 문자열 포맷팅을 사용하기 위한 formatter 클래스를 포함하고 있다. \n",
    "* More about these features can be found in the Python library reference manual.\n",
    "* 이런 기능들은 파이썬 라이브러리 레퍼런스를 참고할것. "
   ]
  }
 ],
 "metadata": {
  "kernelspec": {
   "display_name": "Python 2",
   "language": "python",
   "name": "python2"
  },
  "language_info": {
   "codemirror_mode": {
    "name": "ipython",
    "version": 2
   },
   "file_extension": ".py",
   "mimetype": "text/x-python",
   "name": "python",
   "nbconvert_exporter": "python",
   "pygments_lexer": "ipython2",
   "version": "2.7.6"
  }
 },
 "nbformat": 4,
 "nbformat_minor": 0
}
