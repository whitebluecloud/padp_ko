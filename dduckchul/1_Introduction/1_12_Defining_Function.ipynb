{
 "cells": [
  {
   "cell_type": "markdown",
   "metadata": {},
   "source": [
    "# 1.12. Defining Functions\n",
    "# 1.12 Function 정의하기\n",
    "* The earlier example of procedural abstraction called upon a Python function called sqrt from the math module to compute the square root. \n",
    "* 이전 예제에서 수학 모듈에서 제곱근을 구하기위해 sqrt라는 파이선 펑션을 호출했다.\n",
    "* In general, we can hide the details of any computation by defining a function.\n",
    "* 일반적으로, 우리는 Function을 정의하여 이런 자세한 계산과정들을 감출 수 있따.\n",
    "* A function definition requires a name, a group of parameters, and a body. \n",
    "* Function을 정의할떄는 이름과, 파라미터들, 코드의 body부분이 필요하다\n",
    "* It may also explicitly return a value.\n",
    "* Function은 또한 명시적으로 어떤 값을 반환한다.\n",
    "* For example, the simple function defined below returns the square of the value you pass into it. \n",
    "* 그 예제로, 아래 정의된 function은 당신이 전달한 값의 제곱을 반환할 것이다."
   ]
  },
  {
   "cell_type": "code",
   "execution_count": 1,
   "metadata": {},
   "outputs": [
    {
     "data": {
      "text/plain": [
       "81"
      ]
     },
     "execution_count": 1,
     "metadata": {},
     "output_type": "execute_result"
    }
   ],
   "source": [
    "def square(n):\n",
    "    return n**2"
   ]
  },
  {
   "cell_type": "code",
   "execution_count": 2,
   "metadata": {},
   "outputs": [
    {
     "data": {
      "text/plain": [
       "9"
      ]
     },
     "execution_count": 2,
     "metadata": {},
     "output_type": "execute_result"
    }
   ],
   "source": [
    "square(3)"
   ]
  },
  {
   "cell_type": "code",
   "execution_count": 3,
   "metadata": {},
   "outputs": [
    {
     "data": {
      "text/plain": [
       "81"
      ]
     },
     "execution_count": 3,
     "metadata": {},
     "output_type": "execute_result"
    }
   ],
   "source": [
    "square(square(3))"
   ]
  },
  {
   "cell_type": "markdown",
   "metadata": {},
   "source": [
    "* The syntax for this function definition includes the name, square, and a parenthesized list of formal parameters.\n",
    "* 이 Function을 사용하는 문법은 square라는 Function의 이름과 괄호 안에 들어간 파라미터들을 사용하면 된다.\n",
    "* For this function, n is the only formal parameter, which suggests that square needs only one piece of data to do its work.\n",
    "* 이 Function에서, n은 하나의 파라미터이고, square라는 펑션이 동작하기에는 단 한개의 데이터만 있으면 된다는것을 나타낸다.\n",
    "* The details, hidden “inside the box,” simply compute the result of n**2 and return it. \n",
    "* 감춰진 코드 안의 로직은 단순하게 n제곱을 한후 반환하는 것이다.\n",
    "* We can invoke or call the square function by asking the Python environment to evaluate it, passing an actual parameter value, in this case, 3.\n",
    "* 우리는 square function을 실제로 호출해 사용해 볼 수있다. 위에 예제에서는 3을 넣어보았다.\n",
    "* Note that the call to square returns an integer that can in turn be passed to another invocation.\n",
    "* square를 호출하는것이 정수값을 반환하고 이 반환값이 다시 호출하는데 쓸수 있다는 것에 주목해라."
   ]
  },
  {
   "cell_type": "markdown",
   "metadata": {},
   "source": [
    "* We could implement our own square root function by using a well-known technique called “Newton’s Method.” \n",
    "* 우리는 Newton's Method 라고 알려진 제곱근 방정식으로 우리만의 제곱근 function을 구현 할 수도 있다.\n",
    "* Newton’s Method for approximating square roots performs an iterative computation that converges on the correct value.\n",
    "* Newton's Method 는 반복 계산을 사용해 정확한 값에 근사한 값을 얻어내는 방법이다.\n",
    "* The equation newguess=12∗(oldguess+noldguess) takes a value n and repeatedly guesses the square root by making each newguess the oldguess in the subsequent iteration. \n",
    "* 다음의 방정식은 주어진 n값에 대해 반복적으로 제곱근 연산을 해 oldguess에 이전 newguess값을 대입하며 newguess를 계산한다.\n",
    "* The initial guess used here is n2. \n",
    "* 가장 최초의 추측값은 n/2 이다.\n",
    "* Listing 1 shows a function definition that accepts a value n and returns the square root of n after making 20 guesses.\n",
    "* 1번 예제는 주어진 n값에 대해 n의 제곱근 값을 20번의 반복을 통해 되돌려주는 function을 보여준다.\n",
    "* Again, the details of Newton’s Method are hidden inside the function definition and the user does not have to know anything about the implementation to use the function for its intended purpose. \n",
    "* 다시한번 말하지만, 뉴턴의 Method의 상세한 코드는 유저에게 감춰져있고, 유저는 이 기능을 사용하기위해 어떤로직도 알 필요가 없다.\n",
    "* Listing 1 also shows the use of the # character as a comment marker. Any characters that follow the # on a line are ignored.\n",
    "* 1번 예제는 은 # 문자가 주석을 나타내는 것도 알 수 있다. # 다음에 온 같은 줄의 어떤 문자라도 주석처리 된다.\n"
   ]
  },
  {
   "cell_type": "code",
   "execution_count": 4,
   "metadata": {},
   "outputs": [],
   "source": [
    "#Listing 1\n",
    "def squareroot(n):\n",
    "    root = n/2    #initial guess will be 1/2 of n\n",
    "    for k in range(20):\n",
    "        root = (1/2)*(root + (n / root))\n",
    "\n",
    "    return root"
   ]
  },
  {
   "cell_type": "code",
   "execution_count": 5,
   "metadata": {},
   "outputs": [
    {
     "data": {
      "text/plain": [
       "3.0"
      ]
     },
     "execution_count": 5,
     "metadata": {},
     "output_type": "execute_result"
    }
   ],
   "source": [
    "squareroot(9)"
   ]
  },
  {
   "cell_type": "code",
   "execution_count": 6,
   "metadata": {},
   "outputs": [
    {
     "data": {
      "text/plain": [
       "67.54998149518622"
      ]
     },
     "execution_count": 6,
     "metadata": {},
     "output_type": "execute_result"
    }
   ],
   "source": [
    "squareroot(4563)"
   ]
  },
  {
   "cell_type": "markdown",
   "metadata": {},
   "source": [
    "## Self Check\n",
    "\n",
    "* Here’s a self check that really covers everything so far. \n",
    "* 여기 위내용에 모든것을 담은 셀프 체크가 있다. \n",
    "* You may have heard of the infinite monkey theorem?\n",
    "* 혹시 무한 원숭이 정리에 대해 들어본 적이 있나?\n",
    "* The theorem states that a monkey hitting keys at random on a typewriter keyboard for an infinite amount of time will almost surely type a given text, such as the complete works of William Shakespeare.\n",
    "* 이 이론은 원숭이가 무한의 시간이 있다고 가정했을때 무작위로 타자를 쳤을때 윌리엄 셰익스피어의 작품들을 언젠가는 확실히 칠것이다 라는 것이다.\n",
    "* Well, suppose we replace a monkey with a Python function. \n",
    "* 여기서 원숭이를 파이썬 펑션으로 대신 생각해보자.\n",
    "* How long do you think it would take for a Python function to generate just one sentence of Shakespeare? The sentence we’ll shoot for is: “methinks it is like a weasel”\n",
    "* 파이썬 펑션이 셰익스피어 작품에 있는 한 문장을 생성하기위해 얼마나 시간이 걸릴거라고 생각하는가? 우리가 완성할 문장은 “methinks it is like a weasel”이다.\n",
    "\n",
    "* You’re not going to want to run this one in the browser, so fire up your favorite Python IDE. \n",
    "* 이것을 브라우저 안에서 실행하지 말아라, 파이썬 IDE에서 실행하길 바란다.\n",
    "* The way we’ll simulate this is to write a function that generates a string that is 27 characters long by choosing random letters from the 26 letters in the alphabet plus the space.\n",
    "* 이 펑션을 시물레이션 하기위해 알파벳 26자 + 공백을 무작위로 생성해 문자열로 반환할 function이 필요하다.  \n",
    "* We’ll write another function that will score each generated string by comparing the randomly generated string to the goal.\n",
    "* 우리는 정답과 무작위로 생성된 스트링을 비교해 점수로 만들 펑션을 또 하나 만들것이다.\n",
    "\n",
    "* A third function will repeatedly call generate and score, then if 100% of the letters are correct we are done.\n",
    "* 세번째 펑션은 반복으로 만들고, 스코어를 출력하는것이다. 그리고 100% 맞으면 끝낼것이다.\n",
    "* If the letters are not correct then we will generate a whole new string.\n",
    "* 만약 철자들이 일치하지 않으면 우리는 전체 문자열을 만들것이다.\n",
    "* To make it easier to follow your program’s progress this third function should print out the best string generated so far and its score every 1000 tries.\n",
    "* 이 프로그램의 3번째 기능을 쉽게 진행하기 위해서 매 1000번째마다 스트링을 출력하고, 점수를 출력하길 추천한다."
   ]
  },
  {
   "cell_type": "markdown",
   "metadata": {},
   "source": [
    "### Self Check Challenge\n",
    "\n",
    "* See if you can improve upon the program in the self check by keeping letters that are correct and only modifying one character in the best string so far. \n",
    "* 이 프로그램을 개선하기 위해 한글자가 맞으면 그 글자를 저장하는 로직을 만들어라.\n",
    "* This is a type of algorithm in the class of ‘hill climbing’ algorithms, that is we only keep the result if it is better than the previous one.\n",
    "* 이런 유형의 알고리즘을 등산하기 알고리즘이라고 하고, 이전 수행값을 가지고 있다면 이전보다 훨씬 나은 결과값이 나온다는것을 나타난다.\n"
   ]
  }
 ],
 "metadata": {
  "kernelspec": {
   "display_name": "Python 3",
   "language": "python",
   "name": "python3"
  },
  "language_info": {
   "codemirror_mode": {
    "name": "ipython",
    "version": 3
   },
   "file_extension": ".py",
   "mimetype": "text/x-python",
   "name": "python",
   "nbconvert_exporter": "python",
   "pygments_lexer": "ipython3",
   "version": "3.7.3"
  }
 },
 "nbformat": 4,
 "nbformat_minor": 2
}
