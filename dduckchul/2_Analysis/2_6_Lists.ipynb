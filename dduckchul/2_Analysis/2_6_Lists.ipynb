{
 "cells": [
  {
   "cell_type": "markdown",
   "metadata": {},
   "source": [
    "# 2.6. Lists\n",
    "* The designers of Python had many choices to make when they implemented the list data structure. \n",
    "* 파이썬의 디자이너들은 그들이 리스트 자료구조를 구현할떄 많은 선택을 했다\n",
    "* Each of these choices could have an impact on how fast list operations perform. \n",
    "* 이런 선택들은 리스트 오퍼레이션이 어떻게 빨리 수행하는지에 영향을 주었다\n",
    "* To help them make the right choices they looked at the ways that people would most commonly use the list data structure and they optimized their implementation of a list so that the most common operations were very fast.\n",
    "* 올바른 선택 하기위해 어떻게 사람들이 리스트 구조를 많이 사용하는지를 관찰했고, 리스트 구현을 그에따라 최적화 시키므로써, 일반적 동작들이 빠르게 구현되었다.\n",
    "* Of course they also tried to make the less common operations fast, but when a tradeoff had to be made the performance of a less common operation was often sacrificed in favor of the more common operation.\n",
    "* 물론 적게 사용하는 동작들을 빠르게 만드려는 노력도 했지만, 적게 사용하는 동작들을 빠르게 하기위해 상충되는 부분이 있어 이런 부분은 희생되었다."
   ]
  },
  {
   "cell_type": "markdown",
   "metadata": {},
   "source": [
    "* Two common operations are indexing and assigning to an index position. \n",
    "* 자주 사용하는 두개의 동작들은 인덱싱과, 인덱스 위치에 넣기이다.\n",
    "* Both of these operations take the same amount of time no matter how large the list becomes. When an operation like this is independent of the size of the list they are O(1).\n",
    "* 이 오퍼레이션들은 리스트가 얼마나 크던지 동일한 시간이 소요된다. 이것들은 리스트의 사이즈와 독립적으로 소요시간이 O(1)이다"
   ]
  },
  {
   "cell_type": "markdown",
   "metadata": {},
   "source": [
    "* Another very common programming task is to grow a list. \n",
    "* 또 다른 매우 흔한 프로그래밍 은 리스트를 늘리는 것이다.\n",
    "* There are two ways to create a longer list. You can use the append method or the concatenation operator. The append method is O(1). \n",
    "* 더 긴 리스트를 만드는 방법은 두가지가 있다. Append 메소드를 사용하는 것과 concat 연산자를 사용하는 것이다. append 메소드는 O(1)의 시간이 걸린다.\n",
    "* However, the concatenation operator is O(k) where k is the size of the list that is being concatenated. \n",
    "* 그러나 concat 연산자는 O(k)의 시간이 걸리고 k는 리스트의 사이즈에 따라 다른 시간이 소요된다.\n",
    "* This is important for you to know because it can help you make your own programs more efficient by choosing the right tool for the job.\n",
    "* 이것은 당신의 프로그램을 얼마나 효율적으로 만드느냐와 연관되어 있는것임으로 중요하다."
   ]
  },
  {
   "cell_type": "markdown",
   "metadata": {},
   "source": [
    "* Let’s look at four different ways we might generate a list of n numbers starting with 0.\n",
    "* 0부터 시작하는 리스트 만드는 네가지 방법을 살펴보자\n",
    "* First we’ll try a for loop and create the list by concatenation, then we’ll use append rather than concatenation. \n",
    "* 우선 반복문과 concat이용하여 리스트 만드는 법을 사용해보자, 이후에 concat보다 append 사용해 만들것이다.\n",
    "* Next, we’ll try creating the list using list comprehension and finally, and perhaps the most obvious way, using the range function wrapped by a call to the list constructor.\n",
    "* 그 다음으로 list comprehenshion을 이용하여 리스트를 만들고, 마지막으로 리스트 생성자에 range function을 이용해 리스트를 만들어볼 것이다\n",
    "* Listing 3 shows the code for making our list four different ways.\n",
    "* Listing 3에서 위의 코드를 구현했다"
   ]
  },
  {
   "cell_type": "code",
   "execution_count": 7,
   "metadata": {},
   "outputs": [],
   "source": [
    "# Listing 3\n",
    "import timeit\n",
    "\n",
    "def test1():\n",
    "    l = []\n",
    "    for i in range(1000):\n",
    "        l = l + [i]\n",
    "\n",
    "def test2():\n",
    "    l = []\n",
    "    for i in range(1000):\n",
    "        l.append(i)\n",
    "\n",
    "def test3():\n",
    "    l = [i for i in range(1000)]\n",
    "\n",
    "def test4():\n",
    "    l = list(range(1000))"
   ]
  },
  {
   "cell_type": "markdown",
   "metadata": {},
   "source": [
    "* To capture the time it takes for each of our functions to execute we will use Python’s timeit module. \n",
    "* 위 네가지 펑션에 걸리는 시간 측정을 위해 파이썬의 timeit 모듈을 사용할것이다.\n",
    "* The timeit module is designed to allow Python developers to make cross-platform timing measurements by running functions in a consistent environment and using timing mechanisms that are as similar as possible across operating systems.\n",
    "* timeit 모듈은 파이썬 개발자들에게 크로스 플랫폼 시간 측정 도구를 제공해주는 것이다. (OS에서의 시간측정처럼)\n",
    "\n",
    "* To use timeit you create a Timer object whose parameters are two Python statements. \n",
    "* timeit 모듈을 사용하기 위해 timer 객체를 사용하자.\n",
    "* The first parameter is a Python statement that you want to time; the second parameter is a statement that will run once to set up the test. \n",
    "* 첫번째 파라미터는 시간을 측정하고 싶은 파이썬 구문이다, 두번째 파라미터는 테스트 시작할때의 구문이다\n",
    "* The timeit module will then time how long it takes to execute the statement some number of times. By default timeit will try to run the statement one million times. \n",
    "* timeit 모듈은 동일 구문을 몇번 수행 하는데 걸리는 시간을 측정한다 기본값은 100만번이다. \n",
    "* When its done it returns the time as a floating point value representing the total number of seconds. \n",
    "* 종료되면 총 소요시간을 초단위로 리턴한다.\n",
    "* However, since it executes the statement a million times you can read the result as the number of microseconds to execute the test one time. \n",
    "* 그러나 100만번을 실행할것이지만 당신에게 주어지는건 한번 테스트에 걸린 소요시간이다\n",
    "* You can also pass timeit a named parameter called number that allows you to specify how many times the test statement is executed. The following session shows how long it takes to run each of our test functions 1000 times.\n",
    "* timeit 에 number 라는 이름의 파라미터를 제공하면 몇번이나 테스트를 수행할지 계산한다. 아래에서는 1000번으로 할것이다."
   ]
  },
  {
   "cell_type": "code",
   "execution_count": 10,
   "metadata": {},
   "outputs": [
    {
     "name": "stdout",
     "output_type": "stream",
     "text": [
      "concat  1.2562212100001489 milliseconds\n",
      "append  0.08193970100001025 milliseconds\n",
      "comprehension  0.05165839200026312 milliseconds\n",
      "list range  0.028236159000243788 milliseconds\n"
     ]
    }
   ],
   "source": [
    "t1 = timeit.Timer(\"test1()\", \"from __main__ import test1\")\n",
    "print(\"concat \",t1.timeit(number=1000), \"milliseconds\")\n",
    "t2 = timeit.Timer(\"test2()\", \"from __main__ import test2\")\n",
    "print(\"append \",t2.timeit(number=1000), \"milliseconds\")\n",
    "t3 = timeit.Timer(\"test3()\", \"from __main__ import test3\")\n",
    "print(\"comprehension \",t3.timeit(number=1000), \"milliseconds\")\n",
    "t4 = timeit.Timer(\"test4()\", \"from __main__ import test4\")\n",
    "print(\"list range \",t4.timeit(number=1000), \"milliseconds\")"
   ]
  },
  {
   "cell_type": "markdown",
   "metadata": {},
   "source": [
    "* In the experiment above the statement that we are timing is the function call to test1(), test2(), and so on.\n",
    "* 위 실험하는 구문에서 타이밍은 test1(),test2() 등을 호출하고있다.\n",
    "* The setup statement may look very strange to you, so let’s consider it in more detail. \n",
    "* 위를 실행하기 위해 셋업 구문이 이상해보이니, 한번 자세히 보자\n",
    "* You are probably very familiar with the from, import statement, but this is usually used at the beginning of a Python program file. \n",
    "* 당신은 아마 from import 구문이 친숙할 것이나. 이것들은 파이썬 프로그래밍 파일의 맨 앞에 써진 것들이다.\n",
    "* In this case the statement from __main__ import test1 imports the function test1 from the __main__ namespace into the namespace that timeit sets up for the timing experiment. \n",
    "* 위의 구문에서 from __main__ import test1은 __main__네임스페이스 에서 function test1을 import 하는것과 같은 일을 한다.\n",
    "* The timeit module does this because it wants to run the timing tests in an environment that is uncluttered by any stray variables you may have created, that may interfere with your function’s performance in some unforeseen way.\n",
    "* timeit 모듈은 타이밍 테스트를 깔끔한 방법으로 구현해 기타 변수들을 만들지 않고 당신 function performance에 방해되지 않기 위해 수행한다."
   ]
  },
  {
   "cell_type": "markdown",
   "metadata": {},
   "source": [
    "* From the experiment above it is clear that the append operation at 0.30 milliseconds is much faster than concatenation at 6.54 milliseconds.\n",
    "* 위 실험에서 보듯이 append 오퍼레이션이 concat보다 훨씬 빠른것을 볼 수 있다.\n",
    "* In the above experiment we also show the times for two additional methods for creating a list; using the list constructor with a call to range and a list comprehension. \n",
    "* 위 실험에서 또한 두가지 리스트를 만드는 방법인 list comprehension과 range를 볼수 있다.\n",
    "* It is interesting to note that the list comprehension is twice as fast as a for loop with an append operation.\n",
    "* list comprehension이 append보다 두배정도 빠른것도 볼 수 있다."
   ]
  },
  {
   "cell_type": "markdown",
   "metadata": {},
   "source": [
    "* One final observation about this little experiment is that all of the times that you see above include some overhead for actually calling the test function, but we can assume that the function call overhead is identical in all four cases so we still get a meaningful comparison of the operations.\n",
    "* 하나 이 실험의 결론은 test function을 호출할때 오버헤드가 있다는 것을 볼 수 있다.\n",
    "* 그러나 펑션이 오버헤드를 호출하는것이 모두 네가지 케이스에서 동일하게 나타났으므로 여전히 오퍼레이션간의 비교는 유의미 하다는것이다\n",
    "* So it would not be accurate to say that the concatenation operation takes 6.54 milliseconds but rather the concatenation test function takes 6.54 milliseconds.\n",
    "* 따라서 concat 오퍼레이션이 6.54밀리초 걸리는것이 정확하진 않지만, concat operation 테스트에 6.54밀리 초가 소요된다는 것이다 \n",
    "* As an exercise you could test the time it takes to call an empty function and subtract that from the numbers above.\n",
    "* 이 실험으로 empty 펑션을 호출하여 숫자들의 차를 계산해보아라"
   ]
  },
  {
   "cell_type": "markdown",
   "metadata": {},
   "source": [
    "* Now that we have seen how performance can be measured concretely you can look at Table 2 to see the Big-O efficiency of all the basic list operations.\n",
    "* 이제 Table 2에서 기본 연산자에서의 빅-O 효율성을 볼것이다\n",
    "* After thinking carefully about Table 2, you may be wondering about the two different times for pop. \n",
    "* Table 2에서 볼수 있는 거서럼 POP에서 두가지 다른 시간이 걸리는걸 볼 수 있다.\n",
    "* When pop is called on the end of the list it takes O(1) but when pop is called on the first element in the list or anywhere in the middle it is O(n). \n",
    "* pop이 리스트의 끝에서 있으면 O(1)이 되지만 리스트의 첫번째나 리스트의 중간에 있으면 O(n)이 걸린다\n",
    "* The reason for this lies in how Python chooses to implement lists. When an item is taken from the front of the list, in Python’s implementation, all the other elements in the list are shifted one position closer to the beginning. \n",
    "* 이것은 파이썬의 리스트가 어떻게 구현되어있는지에 따라 달린것이다. 만약 어떤 요소가 list의 앞에서 뽑혀지면  모둔 구성요소들이 한칸씩 당겨지기 때문이다.\n",
    "* This may seem silly to you now, but if you look at Table 2 you will see that this implementation also allows the index operation to be O(1). \n",
    "* 이것은 당신이 봤을때 이상하게 보일수도 있지만 이런 구현이 index operation을 O(1)로 만들수 있다는 것을 알 수있다.\n",
    "* This is a tradeoff that the Python implementors thought was a good one.\n",
    "* 이런 tradeoff가 파이썬 을 구현한사람들에게 좋은것으로 생각되었기 때문이다."
   ]
  },
  {
   "cell_type": "markdown",
   "metadata": {},
   "source": [
    "| Operation        | Big-O Efficiency |\n",
    "|------------------|------------------|\n",
    "| index []         | O(1)             |\n",
    "| index assignment | O(1)             |\n",
    "| append           | O(1)             |\n",
    "| pop()            | O(1)             |\n",
    "| pop(i)           | O(n)             |\n",
    "| insert(i,item)   | O(n)             |\n",
    "| del operator     | O(n)             |\n",
    "| iteration        | O(n)             |\n",
    "| contains (in)    | O(n)             |\n",
    "| get slice [x:y]  | O(k)             |\n",
    "| del slice        | O(n)             |\n",
    "| set slice        | O(n+k)           |\n",
    "| reverse          | O(n)             |\n",
    "| concatenate      | O(k)             |\n",
    "| sort             | O(n log n)       |\n",
    "| multiply         | O(nk)            |"
   ]
  },
  {
   "cell_type": "markdown",
   "metadata": {},
   "source": [
    "* As a way of demonstrating this difference in performance let’s do another experiment using the timeit module. \n",
    "* 이런 다른점을 보여주기 위해 timeit 모듈 사용해 다른 실험 해보자\n",
    "* Our goal is to be able to verify the performance of the pop operation on a list of a known size when the program pops from the end of the list, and again when the program pops from the beginning of the list.\n",
    "* 우리의 목표는 pop 오퍼레이션이 사이즈를 모를때 리스트의 맨 끝에서 하는것과 리스트의 맨 처음에서 pop 하는것이다.\n",
    "* We will also want to measure this time for lists of different sizes. \n",
    "* 우린 또한 이것을 다른 크기의 사이즈들에서도 측정하려고 한다\n",
    "* What we would expect to see is that the time required to pop from the end of the list will stay constant even as the list grows in size, while the time to pop from the beginning of the list will continue to increase as the list grows.\n",
    "* 우리가 기대하는것은 리스트의 마지막에서 pop 하면 리스트 사이즈가 커져도 constant 할것이고 맨 처음에서 하면 리스트 커짐에 따라 더 시간이 커지는 것이다"
   ]
  },
  {
   "cell_type": "markdown",
   "metadata": {},
   "source": [
    "* Listing 4 shows one attempt to measure the difference between the two uses of pop. \n",
    "* 리스팅 4는 POP의 다른 두 사용법에 대해 시간 측정을 한것이다\n",
    "* As you can see from this first example, popping from the end takes 0.0003 milliseconds, whereas popping from the beginning takes 4.82 milliseconds. For a list of two million elements this is a factor of 16,000.\n",
    "* 첫번째 예제에서 알 수 있듯이 마지막에서 뽑는건 0.0003 밀리초 걸리고 맨 처음에서 pop 하는것은 4.82밀리 초 걸린다."
   ]
  },
  {
   "cell_type": "markdown",
   "metadata": {},
   "source": [
    "* There are a couple of things to notice about Listing 4. The first is the statement from __main__ import x.\n",
    "* 리스팅 4에서 몇가지 주목할 점이 있다. 처음으로는 from __main__ import x이다.\n",
    "* Although we did not define a function we do want to be able to use the list object x in our test.\n",
    "* 비록 우리가 function을 정의하지 않았지만 list object인 x를 테스트에서 사용할 수 있다.\n",
    "* This approach allows us to time just the single pop statement and get the most accurate measure of the time for that single operation. \n",
    "* 이 방법은 리스트에서 동일한 pop구문 을 실행하여 정확하게 실행 시간을 잴수 있게 해준다 \n",
    "* Because the timer repeats 1000 times it is also important to point out that the list is decreasing in size by 1 each time through the loop. \n",
    "* 왜냐하면 타이머가 1000번 실행되면 리스트가 한번 실행될때 마다 하나씩 줄어들기 때문이다.\n",
    "* But since the initial list is two million elements in size we only reduce the overall size by 0.05%\n",
    "* 그러나 초기 리스트가 200만개의 엘리먼트 가지고 있으므로 최종적으로 사이즈는 0.05%만 감소된다."
   ]
  },
  {
   "cell_type": "code",
   "execution_count": 12,
   "metadata": {},
   "outputs": [
    {
     "data": {
      "text/plain": [
       "2.840670558999591"
      ]
     },
     "execution_count": 12,
     "metadata": {},
     "output_type": "execute_result"
    }
   ],
   "source": [
    "#Listing 4\n",
    "\n",
    "popzero = timeit.Timer(\"x.pop(0)\",\n",
    "                       \"from __main__ import x\")\n",
    "popend = timeit.Timer(\"x.pop()\",\n",
    "                      \"from __main__ import x\")\n",
    "\n",
    "x = list(range(2000000))\n",
    "popzero.timeit(number=1000)\n",
    "\n",
    "x = list(range(2000000))\n",
    "popend.timeit(number=1000)"
   ]
  },
  {
   "cell_type": "markdown",
   "metadata": {},
   "source": [
    "* While our first test does show that pop(0) is indeed slower than pop(), it does not validate the claim that pop(0) is O(n) while pop() is O(1). \n",
    "* 우리의 첫 실험이 pop(0)이 pop()보다 느린것은 알게했지만 이것이 pop(0)이 O(n)이고 pop()이 O(1)이라는것은 모른다\n",
    "* To validate that claim we need to look at the performance of both calls over a range of list sizes. Listing 5 implements this test.\n",
    "* 이것을 검증하기 위해 사이즈를 다르게 해서 실행할 것이다."
   ]
  },
  {
   "cell_type": "code",
   "execution_count": 14,
   "metadata": {},
   "outputs": [
    {
     "name": "stdout",
     "output_type": "stream",
     "text": [
      "pop(0)   pop()\n",
      "        1.22219,         0.00009\n",
      "        2.86731,         0.00006\n",
      "        4.34824,         0.00007\n",
      "        5.87236,         0.00007\n",
      "        7.46139,         0.00010\n",
      "        8.91825,         0.00008\n",
      "       10.37740,         0.00007\n",
      "       12.09899,         0.00008\n",
      "       13.57731,         0.00006\n",
      "       15.38133,         0.00026\n",
      "       17.57007,         0.00006\n"
     ]
    },
    {
     "ename": "KeyboardInterrupt",
     "evalue": "",
     "output_type": "error",
     "traceback": [
      "\u001b[0;31m---------------------------------------------------------------------------\u001b[0m",
      "\u001b[0;31mKeyboardInterrupt\u001b[0m                         Traceback (most recent call last)",
      "\u001b[0;32m<ipython-input-14-5a08c193f61d>\u001b[0m in \u001b[0;36m<module>\u001b[0;34m()\u001b[0m\n\u001b[1;32m     10\u001b[0m     \u001b[0mpt\u001b[0m \u001b[0;34m=\u001b[0m \u001b[0mpopend\u001b[0m\u001b[0;34m.\u001b[0m\u001b[0mtimeit\u001b[0m\u001b[0;34m(\u001b[0m\u001b[0mnumber\u001b[0m\u001b[0;34m=\u001b[0m\u001b[0;36m1000\u001b[0m\u001b[0;34m)\u001b[0m\u001b[0;34m\u001b[0m\u001b[0;34m\u001b[0m\u001b[0m\n\u001b[1;32m     11\u001b[0m     \u001b[0mx\u001b[0m \u001b[0;34m=\u001b[0m \u001b[0mlist\u001b[0m\u001b[0;34m(\u001b[0m\u001b[0mrange\u001b[0m\u001b[0;34m(\u001b[0m\u001b[0mi\u001b[0m\u001b[0;34m)\u001b[0m\u001b[0;34m)\u001b[0m\u001b[0;34m\u001b[0m\u001b[0;34m\u001b[0m\u001b[0m\n\u001b[0;32m---> 12\u001b[0;31m     \u001b[0mpz\u001b[0m \u001b[0;34m=\u001b[0m \u001b[0mpopzero\u001b[0m\u001b[0;34m.\u001b[0m\u001b[0mtimeit\u001b[0m\u001b[0;34m(\u001b[0m\u001b[0mnumber\u001b[0m\u001b[0;34m=\u001b[0m\u001b[0;36m1000\u001b[0m\u001b[0;34m)\u001b[0m\u001b[0;34m\u001b[0m\u001b[0;34m\u001b[0m\u001b[0m\n\u001b[0m\u001b[1;32m     13\u001b[0m     \u001b[0mprint\u001b[0m\u001b[0;34m(\u001b[0m\u001b[0;34m\"%15.5f, %15.5f\"\u001b[0m \u001b[0;34m%\u001b[0m\u001b[0;34m(\u001b[0m\u001b[0mpz\u001b[0m\u001b[0;34m,\u001b[0m\u001b[0mpt\u001b[0m\u001b[0;34m)\u001b[0m\u001b[0;34m)\u001b[0m\u001b[0;34m\u001b[0m\u001b[0;34m\u001b[0m\u001b[0m\n",
      "\u001b[0;32mc:\\users\\dduck\\appdata\\local\\programs\\python\\python37\\lib\\timeit.py\u001b[0m in \u001b[0;36mtimeit\u001b[0;34m(self, number)\u001b[0m\n\u001b[1;32m    174\u001b[0m         \u001b[0mgc\u001b[0m\u001b[0;34m.\u001b[0m\u001b[0mdisable\u001b[0m\u001b[0;34m(\u001b[0m\u001b[0;34m)\u001b[0m\u001b[0;34m\u001b[0m\u001b[0;34m\u001b[0m\u001b[0m\n\u001b[1;32m    175\u001b[0m         \u001b[0;32mtry\u001b[0m\u001b[0;34m:\u001b[0m\u001b[0;34m\u001b[0m\u001b[0;34m\u001b[0m\u001b[0m\n\u001b[0;32m--> 176\u001b[0;31m             \u001b[0mtiming\u001b[0m \u001b[0;34m=\u001b[0m \u001b[0mself\u001b[0m\u001b[0;34m.\u001b[0m\u001b[0minner\u001b[0m\u001b[0;34m(\u001b[0m\u001b[0mit\u001b[0m\u001b[0;34m,\u001b[0m \u001b[0mself\u001b[0m\u001b[0;34m.\u001b[0m\u001b[0mtimer\u001b[0m\u001b[0;34m)\u001b[0m\u001b[0;34m\u001b[0m\u001b[0;34m\u001b[0m\u001b[0m\n\u001b[0m\u001b[1;32m    177\u001b[0m         \u001b[0;32mfinally\u001b[0m\u001b[0;34m:\u001b[0m\u001b[0;34m\u001b[0m\u001b[0;34m\u001b[0m\u001b[0m\n\u001b[1;32m    178\u001b[0m             \u001b[0;32mif\u001b[0m \u001b[0mgcold\u001b[0m\u001b[0;34m:\u001b[0m\u001b[0;34m\u001b[0m\u001b[0;34m\u001b[0m\u001b[0m\n",
      "\u001b[0;32mc:\\users\\dduck\\appdata\\local\\programs\\python\\python37\\lib\\timeit.py\u001b[0m in \u001b[0;36minner\u001b[0;34m(_it, _timer)\u001b[0m\n",
      "\u001b[0;31mKeyboardInterrupt\u001b[0m: "
     ]
    }
   ],
   "source": [
    "# Listing 5\n",
    "\n",
    "popzero = timeit.Timer(\"x.pop(0)\",\n",
    "                \"from __main__ import x\")\n",
    "popend = timeit.Timer(\"x.pop()\",\n",
    "               \"from __main__ import x\")\n",
    "print(\"pop(0)   pop()\")\n",
    "for i in range(1000000,100000001,1000000):\n",
    "    x = list(range(i))\n",
    "    pt = popend.timeit(number=1000)\n",
    "    x = list(range(i))\n",
    "    pz = popzero.timeit(number=1000)\n",
    "    print(\"%15.5f, %15.5f\" %(pz,pt))"
   ]
  },
  {
   "cell_type": "markdown",
   "metadata": {},
   "source": [
    "* Figure 3 shows the results of our experiment. You can see that as the list gets longer and longer the time it takes to pop(0) also increases while the time for pop stays very flat. \n",
    "* 위는 우리의 실험 결과를 보여준다. 볼수 있듯이 리스트가 길어질수록 pop(0)이 길어짐을 볼 수 있다.\n",
    "* This is exactly what we would expect to see for a O(n) and O(1) algorithm.\n",
    "* 이걸통해 우리는 O(n) 알고리즘과 O(1) 알고리즘을 알 수 있다\n",
    "\n",
    "* Some sources of error in our little experiment include the fact that there are other processes running on the computer as we measure that may slow down our code, so even though we try to minimize other things happening on the computer there is bound to be some variation in time. \n",
    "* 몇몇 코드들이 컴퓨터에서 느리게 동작할 수도 있으므로 몇번 동작할지 설정했음\n",
    "* That is why the loop runs the test one thousand times in the first place to statistically gather enough information to make the measurement reliable.\n",
    "* 이것이 1000번을 반복 실행해서 좀더 실험을 믿을만 하게 만든 이유다"
   ]
  }
 ],
 "metadata": {
  "kernelspec": {
   "display_name": "Python 3",
   "language": "python",
   "name": "python3"
  },
  "language_info": {
   "codemirror_mode": {
    "name": "ipython",
    "version": 3
   },
   "file_extension": ".py",
   "mimetype": "text/x-python",
   "name": "python",
   "nbconvert_exporter": "python",
   "pygments_lexer": "ipython3",
   "version": "3.7.3"
  }
 },
 "nbformat": 4,
 "nbformat_minor": 2
}
