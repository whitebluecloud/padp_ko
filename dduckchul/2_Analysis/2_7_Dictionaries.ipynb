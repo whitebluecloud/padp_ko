{
 "cells": [
  {
   "cell_type": "markdown",
   "metadata": {},
   "source": [
    "# 2.7. Dictionaries\n",
    "* The second major Python data structure is the dictionary.\n",
    "* 두번째로 자주쓰는 파이썬 데이터 구조는 딕셔너리이다.\n",
    "* As you probably recall, dictionaries differ from lists in that you can access items in a dictionary by a key rather than a position. \n",
    "* 아마 기억나듯이 딕셔너리는 리스트와 다르게 포지션 대신 키로 아이템을 접근하게 한다\n",
    "* Later in this book you will see that there are many ways to implement a dictionary. \n",
    "* 이 책의 뒷부분에 딕셔너리를 구현하는 많은 방법을 보게 될것이다.\n",
    "* The thing that is most important to notice right now is that the get item and set item operations on a dictionary are O(1). \n",
    "* 지금 가장 중요한 것은 getItem과 setItem 오퍼레이션이 O(1)만큼 걸린다는 것이다\n",
    "* Another important dictionary operation is the contains operation. \n",
    "* 또다른 중요한 딕셔너리 오퍼레이션은 conatins이다\n",
    "* Checking to see whether a key is in the dictionary or not is also O(1).\n",
    "* 또한 key가 딕셔너리에 있는지 없는지 찾는것도 O(1)이다\n",
    "* The efficiency of all dictionary operations is summarized in Table 3.\n",
    "* 아래 표에 딕셔너리 오퍼레이션의 효율성을 정리했다\n",
    "* One important side note on dictionary performance is that the efficiencies we provide in the table are for average performance. \n",
    "* 하나 딕셔너리 수행에 중요한 점은 아래 표가 평균적인 효율이라는 것이다\n",
    "* In some rare cases the contains, get item, and set item operations can degenerate into O(n) performance but we will get into that in a later chapter when we talk about the different ways that a dictionary could be implemented.\n",
    "* 몇몇 희귀한 케이스에서 contains, getitem, setitem 오퍼레이션은 O(n)으로 수행될 수 있으나, 그것은 나중에 다른 딕셔너리가 구현되는것을 바운다음에 이야기 할것이다"
   ]
  },
  {
   "cell_type": "markdown",
   "metadata": {},
   "source": [
    "| operation     | Big-O Efficiency |\n",
    "|---------------|------------------|\n",
    "| copy          | O(n)             |\n",
    "| get item      | O(1)             |\n",
    "| set item      | O(1)             |\n",
    "| delete item   | O(1)             |\n",
    "| contains (in) | O(1)             |\n",
    "| iteration     | O(n)             |"
   ]
  },
  {
   "cell_type": "markdown",
   "metadata": {},
   "source": [
    "* For our last performance experiment we will compare the performance of the contains operation between lists and dictionaries. \n",
    "* 마지막 실험으로 리스트와 딕셔너리간의 오퍼레이션 수행속도를 비교할 것이다\n",
    "* In the process we will confirm that the contains operator for lists is O(n) and the contains operator for dictionaries is O(1). \n",
    "* 이 과정에서 리스트의 contains 오퍼레이터는 O(n)이고 딕셔너리의 오퍼레이터는 O(1)임을 보게될 것이다\n",
    "* The experiment we will use to compare the two is simple. \n",
    "* 두개 오퍼레이터를 비교하는것은 매우 쉬운 일이 될것이다\n",
    "* We’ll make a list with a range of numbers in it. \n",
    "* 우선 range로 리스트를 만들것이다\n",
    "* Then we will pick numbers at random and check to see if the numbers are in the list.\n",
    "* 그 후에 랜덤한 넘버를 리스트 안에 있는지 확인 할 것이다\n",
    "* If our performance tables are correct the bigger the list the longer it should take to determine if any one number is contained in the list.\n",
    "* 만약 우리 퍼포먼스 측정표가 맞다면 큰 리스트일수록 더 오래 걸릴것이다\n",
    "\n",
    "* We will repeat the same experiment for a dictionary that contains numbers as the keys.\n",
    "* 동일한 작업을 number가 key로있는 딕셔너리에 대해 할것이다\n",
    "* In this experiment we should see that determining whether or not a number is in the dictionary is not only much faster, but the time it takes to check should remain constant even as the dictionary grows larger.\n",
    "* 이 실험에서 우리는 딕셔너리가 단순히 빠를 뿐만아니라 딕셔너리가 커짐에도 constant한지 볼것이다\n",
    "\n",
    "* Listing 6 implements this comparison. Notice that we are performing exactly the same operation, number in container. \n",
    "* 리스팅 6이 이 비교를 구현한것이다.\n",
    "* The difference is that on line 7 x is a list, and on line 9 x is a dictionary.\n",
    "* 7라인이 리스트를 구현한것이고 9라인이 딕셔너리를 구현한것이다"
   ]
  },
  {
   "cell_type": "code",
   "execution_count": 1,
   "metadata": {},
   "outputs": [
    {
     "name": "stdout",
     "output_type": "stream",
     "text": [
      "10000,     0.059,     0.002\n",
      "30000,     0.163,     0.001\n",
      "50000,     0.316,     0.001\n",
      "70000,     0.400,     0.001\n",
      "90000,     0.506,     0.001\n",
      "110000,     0.635,     0.002\n",
      "130000,     0.759,     0.001\n",
      "150000,     0.847,     0.001\n",
      "170000,     0.995,     0.001\n",
      "190000,     1.087,     0.001\n",
      "210000,     1.268,     0.001\n",
      "230000,     1.411,     0.001\n",
      "250000,     1.456,     0.001\n",
      "270000,     1.556,     0.001\n",
      "290000,     1.675,     0.001\n",
      "310000,     1.806,     0.001\n",
      "330000,     1.925,     0.001\n",
      "350000,     2.107,     0.001\n",
      "370000,     2.217,     0.001\n"
     ]
    },
    {
     "ename": "KeyboardInterrupt",
     "evalue": "",
     "output_type": "error",
     "traceback": [
      "\u001b[0;31m---------------------------------------------------------------------------\u001b[0m",
      "\u001b[0;31mKeyboardInterrupt\u001b[0m                         Traceback (most recent call last)",
      "\u001b[0;32m<ipython-input-1-ac0c939419e4>\u001b[0m in \u001b[0;36m<module>\u001b[0;34m()\u001b[0m\n\u001b[1;32m      8\u001b[0m                      \"from __main__ import random,x\")\n\u001b[1;32m      9\u001b[0m     \u001b[0mx\u001b[0m \u001b[0;34m=\u001b[0m \u001b[0mlist\u001b[0m\u001b[0;34m(\u001b[0m\u001b[0mrange\u001b[0m\u001b[0;34m(\u001b[0m\u001b[0mi\u001b[0m\u001b[0;34m)\u001b[0m\u001b[0;34m)\u001b[0m\u001b[0;34m\u001b[0m\u001b[0;34m\u001b[0m\u001b[0m\n\u001b[0;32m---> 10\u001b[0;31m     \u001b[0mlst_time\u001b[0m \u001b[0;34m=\u001b[0m \u001b[0mt\u001b[0m\u001b[0;34m.\u001b[0m\u001b[0mtimeit\u001b[0m\u001b[0;34m(\u001b[0m\u001b[0mnumber\u001b[0m\u001b[0;34m=\u001b[0m\u001b[0;36m1000\u001b[0m\u001b[0;34m)\u001b[0m\u001b[0;34m\u001b[0m\u001b[0;34m\u001b[0m\u001b[0m\n\u001b[0m\u001b[1;32m     11\u001b[0m     \u001b[0mx\u001b[0m \u001b[0;34m=\u001b[0m \u001b[0;34m{\u001b[0m\u001b[0mj\u001b[0m\u001b[0;34m:\u001b[0m\u001b[0;32mNone\u001b[0m \u001b[0;32mfor\u001b[0m \u001b[0mj\u001b[0m \u001b[0;32min\u001b[0m \u001b[0mrange\u001b[0m\u001b[0;34m(\u001b[0m\u001b[0mi\u001b[0m\u001b[0;34m)\u001b[0m\u001b[0;34m}\u001b[0m\u001b[0;34m\u001b[0m\u001b[0;34m\u001b[0m\u001b[0m\n\u001b[1;32m     12\u001b[0m     \u001b[0md_time\u001b[0m \u001b[0;34m=\u001b[0m \u001b[0mt\u001b[0m\u001b[0;34m.\u001b[0m\u001b[0mtimeit\u001b[0m\u001b[0;34m(\u001b[0m\u001b[0mnumber\u001b[0m\u001b[0;34m=\u001b[0m\u001b[0;36m1000\u001b[0m\u001b[0;34m)\u001b[0m\u001b[0;34m\u001b[0m\u001b[0;34m\u001b[0m\u001b[0m\n",
      "\u001b[0;32mc:\\users\\dduck\\appdata\\local\\programs\\python\\python37\\lib\\timeit.py\u001b[0m in \u001b[0;36mtimeit\u001b[0;34m(self, number)\u001b[0m\n\u001b[1;32m    174\u001b[0m         \u001b[0mgc\u001b[0m\u001b[0;34m.\u001b[0m\u001b[0mdisable\u001b[0m\u001b[0;34m(\u001b[0m\u001b[0;34m)\u001b[0m\u001b[0;34m\u001b[0m\u001b[0;34m\u001b[0m\u001b[0m\n\u001b[1;32m    175\u001b[0m         \u001b[0;32mtry\u001b[0m\u001b[0;34m:\u001b[0m\u001b[0;34m\u001b[0m\u001b[0;34m\u001b[0m\u001b[0m\n\u001b[0;32m--> 176\u001b[0;31m             \u001b[0mtiming\u001b[0m \u001b[0;34m=\u001b[0m \u001b[0mself\u001b[0m\u001b[0;34m.\u001b[0m\u001b[0minner\u001b[0m\u001b[0;34m(\u001b[0m\u001b[0mit\u001b[0m\u001b[0;34m,\u001b[0m \u001b[0mself\u001b[0m\u001b[0;34m.\u001b[0m\u001b[0mtimer\u001b[0m\u001b[0;34m)\u001b[0m\u001b[0;34m\u001b[0m\u001b[0;34m\u001b[0m\u001b[0m\n\u001b[0m\u001b[1;32m    177\u001b[0m         \u001b[0;32mfinally\u001b[0m\u001b[0;34m:\u001b[0m\u001b[0;34m\u001b[0m\u001b[0;34m\u001b[0m\u001b[0m\n\u001b[1;32m    178\u001b[0m             \u001b[0;32mif\u001b[0m \u001b[0mgcold\u001b[0m\u001b[0;34m:\u001b[0m\u001b[0;34m\u001b[0m\u001b[0;34m\u001b[0m\u001b[0m\n",
      "\u001b[0;32mc:\\users\\dduck\\appdata\\local\\programs\\python\\python37\\lib\\timeit.py\u001b[0m in \u001b[0;36minner\u001b[0;34m(_it, _timer)\u001b[0m\n",
      "\u001b[0;31mKeyboardInterrupt\u001b[0m: "
     ]
    }
   ],
   "source": [
    "# Listing 6\n",
    "\n",
    "import timeit\n",
    "import random\n",
    "\n",
    "for i in range(10000,1000001,20000):\n",
    "    t = timeit.Timer(\"random.randrange(%d) in x\"%i,\n",
    "                     \"from __main__ import random,x\")\n",
    "    x = list(range(i))\n",
    "    lst_time = t.timeit(number=1000)\n",
    "    x = {j:None for j in range(i)}\n",
    "    d_time = t.timeit(number=1000)\n",
    "    print(\"%d,%10.3f,%10.3f\" % (i, lst_time, d_time))\n"
   ]
  },
  {
   "cell_type": "markdown",
   "metadata": {},
   "source": [
    "* Figure 4 summarizes the results of running Listing 6. You can see that the dictionary is consistently faster. For the smallest list size of 10,000 elements a dictionary is 89.4 times faster than a list. \n",
    "* 위 결과를 보면 딕셔너리가 항상 빠르다. 가장 작은 10000개의 리스트와 딕셔너리 비교했을때 90배정도 빠른것을 볼 수 있다\n",
    "* For the largest list size of 990,000 elements the dictionary is 11,603 times faster! You can also see that the time it takes for the contains operator on the list grows linearly with the size of the list. \n",
    "* 가장 큰 사이즈인 99만개 리스트와 딕셔너리 비교했을때 만배 이상 빨랐다. 또한 contain 오퍼레이터는 리스트가 커짐에따라 선형적으로 증가한다는 것을 알수 있다.\n",
    "* This verifies the assertion that the contains operator on a list is O(n). \n",
    "* 이것은 contains operator 가 O(n)임을 증명한다고 할수 있다.\n",
    "* It can also be seen that the time for the contains operator on a dictionary is constant even as the dictionary size grows.\n",
    "* 이것은 또한 딕셔너리의 contains 오퍼레이터가 딕셔너리 사이즈가 증가함에도 constant함을 알수 있는것이다.\n",
    "* In fact for a dictionary size of 10,000 the contains operation took 0.004 milliseconds and for the dictionary size of 990,000 it also took 0.004 milliseconds.\n",
    "* 만개등 99만개든 딕셔너리의 contains오퍼레이터는 동일하게 시간이 소요되었다"
   ]
  },
  {
   "cell_type": "markdown",
   "metadata": {},
   "source": [
    "* Since Python is an evolving language, there are always changes going on behind the scenes. \n",
    "* 파이썬이 진화한은 언어인만큼, 뒷단에서 변화가 항상 있을것이다.\n",
    "* The latest information on the performance of Python data structures can be found on the Python website. \n",
    "* 가장 최신의 파이썬 데이터 구조 정보는 python 웹사이트에서 볼 수 있을 것이다.\n",
    "* As of this writing the Python wiki has a nice time complexity page that can be found at the Time Complexity Wiki.\n",
    "* 파이썬 위키에서도 시간 complex 비교 페이지를 찾아 볼 수 있을 것이다."
   ]
  },
  {
   "cell_type": "markdown",
   "metadata": {},
   "source": [
    "# Self Check\n",
    "\n",
    "## Q-31: Which of the list operations shown below is not O(1)?\n",
    "## 어떤 리스트 오퍼레이션이 O(1)이 아닌가? (A)\n",
    "* (A) list.pop(0)\n",
    "* (B) list.pop()\n",
    "* (C) list.append()\n",
    "* (D) list[10]\n",
    "* (E) all of the above are O(1)\n",
    "\n",
    "\n",
    "## Q-32: Which of the dictionary operations shown below is O(1)?\n",
    "## 어떤 딕셔너리 오퍼레이션이 O(1)인가? (E)\n",
    "* (A) 'x' in mydict\n",
    "* (B) del mydict['x']\n",
    "* (C) mydict['x'] == 10\n",
    "* (D) mydict['x'] = mydict['x'] + 1\n",
    "* (E) all of the above are O(1)"
   ]
  }
 ],
 "metadata": {
  "kernelspec": {
   "display_name": "Python 3",
   "language": "python",
   "name": "python3"
  },
  "language_info": {
   "codemirror_mode": {
    "name": "ipython",
    "version": 3
   },
   "file_extension": ".py",
   "mimetype": "text/x-python",
   "name": "python",
   "nbconvert_exporter": "python",
   "pygments_lexer": "ipython3",
   "version": "3.7.3"
  }
 },
 "nbformat": 4,
 "nbformat_minor": 2
}
