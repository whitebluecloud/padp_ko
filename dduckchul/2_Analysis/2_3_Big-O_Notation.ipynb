{
 "cells": [
  {
   "cell_type": "code",
   "execution_count": 15,
   "metadata": {},
   "outputs": [
    {
     "name": "stdout",
     "output_type": "stream",
     "text": [
      "On : 0.0009975433349609375\n",
      "On2 : 3.118091106414795\n"
     ]
    }
   ],
   "source": [
    "from random import randrange\n",
    "import time\n",
    "# find minimum Number in list\n",
    "# 1. O(n**2)\n",
    "def On2(list):\n",
    "    min = list[0]\n",
    "    for a in list :\n",
    "        minTest = True\n",
    "        for b in list :\n",
    "            if a > b :\n",
    "                minTest = False\n",
    "        if minTest :\n",
    "            min = a\n",
    "    return min\n",
    "            \n",
    "# 2. O(n)\n",
    "def On(list) : \n",
    "    min = list[0]\n",
    "    for a in list :\n",
    "        if a < min :\n",
    "            min = a\n",
    "    return min\n",
    "    \n",
    "randlist = [randrange(100000) for x in range(10000)]\n",
    "\n",
    "start = time.time()\n",
    "On(randlist)\n",
    "end = time.time()\n",
    "print(\"On : \" + str(end-start))\n",
    "\n",
    "start2 = time.time()\n",
    "On2(randlist)\n",
    "end2 = time.time()\n",
    "print(\"On2 : \" + str(end2-start2))"
   ]
  }
 ],
 "metadata": {
  "kernelspec": {
   "display_name": "Python 3",
   "language": "python",
   "name": "python3"
  },
  "language_info": {
   "codemirror_mode": {
    "name": "ipython",
    "version": 3
   },
   "file_extension": ".py",
   "mimetype": "text/x-python",
   "name": "python",
   "nbconvert_exporter": "python",
   "pygments_lexer": "ipython3",
   "version": "3.7.3"
  }
 },
 "nbformat": 4,
 "nbformat_minor": 2
}
