{
 "cells": [
  {
   "cell_type": "markdown",
   "metadata": {},
   "source": [
    "# 2.5. Performance of Python Data Structures\n",
    "* Now that you have a general idea of Big-O notation and the differences between the different functions, our goal in this section is to tell you about the Big-O performance for the operations on Python lists and dictionaries. \n",
    "* BIG-O 표현법에 대해 알아 봤으므로, 이 섹션에서는 파이선 리스트와 딕셔너리형에서의 BIG-O 퍼포먼스에 대해 이야기 해볼것이다\n",
    "* We will then show you some timing experiments that illustrate the costs and benefits of using certain operations on each data structure. \n",
    "* 그리고 나서 각각 데이터 구조에서의 오퍼레이션 사용을 통해 비용과 장점에 대해 이야기 해볼것이다\n",
    "* It is important for you to understand the efficiency of these Python data structures because they are the building blocks we will use as we implement other data structures in the remainder of the book. \n",
    "* 이것은 파이썬 데이터 구조의 효율성을 이해하는데 중요하다 왜냐하면 이것들은 나머지 책에서 다른 데이터 구조를 설명하는데 기초적인 자산이 되줄것이기 때문\n",
    "* In this section we are not going to explain why the performance is what it is. \n",
    "* 이 장에서는 왜 이것이 어떻게 수행되느냐 설명하지 않을것\n",
    "* In later chapters you will see some possible implementations of both lists and dictionaries and how the performance depends on the implementation.\n",
    "* 이 챕터에서 몇몇 구현들을 볼것이다, 리스트와 딕셔너리형에서, 그리고 퍼포먼스가 구현에따라 어떻게 달라지는지 보게될것"
   ]
  }
 ],
 "metadata": {
  "kernelspec": {
   "display_name": "Python 3",
   "language": "python",
   "name": "python3"
  },
  "language_info": {
   "codemirror_mode": {
    "name": "ipython",
    "version": 3
   },
   "file_extension": ".py",
   "mimetype": "text/x-python",
   "name": "python",
   "nbconvert_exporter": "python",
   "pygments_lexer": "ipython3",
   "version": "3.7.3"
  }
 },
 "nbformat": 4,
 "nbformat_minor": 2
}
