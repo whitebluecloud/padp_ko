{
 "cells": [
  {
   "cell_type": "markdown",
   "metadata": {},
   "source": [
    "# 2.8. Summary\n",
    "* Algorithm analysis is an implementation-independent way of measuring an algorithm.\n",
    "* 알고리즘 본석은 구현과 독립적으로 알고리즘을 측정하는 방법이다\n",
    "* Big-O notation allows algorithms to be classified by their dominant process with respect to the size of the problem.\n",
    "* 빅-O 표현법은 알고리즘을 그들의 크기와 무관하게 측정하게 할 수 있다."
   ]
  },
  {
   "cell_type": "markdown",
   "metadata": {},
   "source": [
    "# 2.10. Discussion Questions\n",
    "1. Give the Big-O performance of the following code fragment: O(n2)\n",
    "```\n",
    "for i in range(n):\n",
    "   for j in range(n):\n",
    "      k = 2 + 2\n",
    "```\n",
    "\n",
    "2. Give the Big-O performance of the following code fragment: O(n)\n",
    "```\n",
    "for i in range(n):\n",
    "     k = 2 + 2\n",
    "```\n",
    "\n",
    "3. Give the Big-O performance of the following code fragment: logO(n)\n",
    "```\n",
    "i = n\n",
    "while i > 0:\n",
    "   k = 2 + 2\n",
    "   i = i // 2\n",
    "```\n",
    "\n",
    "4. Give the Big-O performance of the following code fragment: O(n3)\n",
    "```\n",
    "for i in range(n):\n",
    "   for j in range(n):\n",
    "      for k in range(n):\n",
    "         k = 2 + 2\n",
    "```\n",
    "\n",
    "5. Give the Big-O performance of the following code fragment: 3번이랑 똑같은데여 ㅋㅋ\n",
    "```\n",
    "i = n\n",
    "while i > 0:\n",
    "   k = 2 + 2\n",
    "   i = i // 2\n",
    "```\n",
    "\n",
    "6. Give the Big-O performance of the following code fragment: O(3n)\n",
    "```\n",
    "for i in range(n):\n",
    "   k = 2 + 2\n",
    "for j in range(n):\n",
    "   k = 2 + 2\n",
    "for k in range(n):\n",
    "   k = 2 + 2\n",
    "```"
   ]
  }
 ],
 "metadata": {
  "kernelspec": {
   "display_name": "Python 3",
   "language": "python",
   "name": "python3"
  },
  "language_info": {
   "codemirror_mode": {
    "name": "ipython",
    "version": 3
   },
   "file_extension": ".py",
   "mimetype": "text/x-python",
   "name": "python",
   "nbconvert_exporter": "python",
   "pygments_lexer": "ipython3",
   "version": "3.7.3"
  }
 },
 "nbformat": 4,
 "nbformat_minor": 2
}
