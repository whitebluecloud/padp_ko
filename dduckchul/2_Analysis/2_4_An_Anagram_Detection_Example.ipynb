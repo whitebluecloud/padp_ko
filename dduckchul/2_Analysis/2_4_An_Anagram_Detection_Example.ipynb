{
 "cells": [
  {
   "cell_type": "code",
   "execution_count": null,
   "metadata": {},
   "outputs": [],
   "source": [
    "# Q-28: Given the following code fragment, what is its Big-O running time?\n",
    "\n",
    "test = 0\n",
    "for i in range(n):\n",
    "   for j in range(n):\n",
    "      test = test + i * j"
   ]
  },
  {
   "cell_type": "markdown",
   "metadata": {},
   "source": [
    "(A) O(n)\n",
    "(B) O(n^2) -> 답\n",
    "(C) O(log n)\n",
    "(D) O(n^3)"
   ]
  },
  {
   "cell_type": "code",
   "execution_count": null,
   "metadata": {},
   "outputs": [],
   "source": [
    "# Q-29: Given the following code fragment what is its Big-O running time?\n",
    "\n",
    "test = 0\n",
    "for i in range(n):\n",
    "   test = test + 1\n",
    "\n",
    "for j in range(n):\n",
    "   test = test - 1"
   ]
  },
  {
   "cell_type": "markdown",
   "metadata": {},
   "source": [
    "(A) O(n) -> 답\n",
    "(B) O(n^2)\n",
    "(C) O(log n)\n",
    "(D) O(n^3)"
   ]
  },
  {
   "cell_type": "code",
   "execution_count": null,
   "metadata": {},
   "outputs": [],
   "source": [
    "# Q-30: Given the following code fragment what is its Big-O running time?\n",
    "\n",
    "i = n\n",
    "while i > 0:\n",
    "   k = 2 + 2\n",
    "   i = i // 2"
   ]
  },
  {
   "cell_type": "markdown",
   "metadata": {},
   "source": [
    "(A) O(n)\n",
    "(B) O(n^2)\n",
    "(C) O(log n) -> 답\n",
    "(D) O(n^3)"
   ]
  }
 ],
 "metadata": {
  "kernelspec": {
   "display_name": "Python 3",
   "language": "python",
   "name": "python3"
  },
  "language_info": {
   "codemirror_mode": {
    "name": "ipython",
    "version": 3
   },
   "file_extension": ".py",
   "mimetype": "text/x-python",
   "name": "python",
   "nbconvert_exporter": "python",
   "pygments_lexer": "ipython3",
   "version": "3.7.3"
  }
 },
 "nbformat": 4,
 "nbformat_minor": 2
}
