{
  "cells": [
    {
      "cell_type": "markdown",
      "metadata": {
        "collapsed": true,
        "pycharm": {
          "name": "#%% md\n"
        }
      },
      "source": "### 1.10 Control Structures (입력과 출력)\nAs we noted earlier, algorithms require two important control structures: iteration and selection. \nBoth of these are supported by Python in various forms. \nThe programmer can choose the statement that is most useful for the given circumstance.\n\nFor iteration, Python provides a standard while statement and a very powerful for statement. \nThe while statement repeats a body of code as long as a condition is true. For example,\n"
    },
    {
      "cell_type": "code",
      "execution_count": 2,
      "outputs": [],
      "source": "counter \u003d 1\n",
      "metadata": {
        "pycharm": {
          "metadata": false,
          "name": "#%%\n",
          "is_executing": false
        }
      }
    },
    {
      "cell_type": "markdown",
      "source": "prints out the phrase “Hello, world” five times. \nThe condition on the while statement is evaluated at the start of each repetition. \nIf the condition is True, the body of the statement will execute. \nIt is easy to see the structure of a Python while statement due to the mandatory indentation pattern that the language enforces.\n\nThe while statement is a very general purpose iterative structure that we will use in a number of different algorithms. \nIn many cases, a compound condition will control the iteration. A fragment such as\n~~~\nwhile counter \u003c\u003d 10 and not done;\n    ...\n~~~\n",
      "metadata": {
        "pycharm": {
          "metadata": false
        }
      }
    }
  ],
  "metadata": {
    "language_info": {
      "codemirror_mode": {
        "name": "ipython",
        "version": 2
      },
      "file_extension": ".py",
      "mimetype": "text/x-python",
      "name": "python",
      "nbconvert_exporter": "python",
      "pygments_lexer": "ipython2",
      "version": "2.7.6"
    },
    "kernelspec": {
      "name": "python3",
      "language": "python",
      "display_name": "Python 3"
    }
  },
  "nbformat": 4,
  "nbformat_minor": 0
}