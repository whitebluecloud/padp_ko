{
  "cells": [
    {
      "cell_type": "markdown",
      "metadata": {
        "collapsed": true,
        "pycharm": {
          "name": "#%% md\n"
        }
      },
      "source": "### 1.10 Control Structures (제어 구조)\nAs we noted earlier, algorithms require two important control structures: iteration and selection. \nBoth of these are supported by Python in various forms. \nThe programmer can choose the statement that is most useful for the given circumstance.\n~~~\n우리는 앞에서 언급한 것처럼, 알고리즘은 두가지 중요한 제어 구조를 필요로 한다 : 반복 그리고 선택\n이러한 두가지 모두 다양한 형태로 파이썬에 의해 지원된다.\n프로그래머는 가장 유용한 문장을 선택할 수 있다 / 주어진 상황에서\n~~~\nFor iteration, Python provides a standard while statement and a very powerful for statement. \nThe while statement repeats a body of code as long as a condition is true. For example,\n~~~\n반복의 경우, 파이썬은 표준 while 문과 매우 강력한 for 문을 제공한다.\nwhile 문은 코드의 본문을 반복한다 / 상태가 참인 경우에 \n예를 들어 \n~~~"
    },
    {
      "cell_type": "code",
      "execution_count": 3,
      "outputs": [
        {
          "name": "stdout",
          "text": [
            "Hello, world\nHello, world\nHello, world\nHello, world\nHello, world\n"
          ],
          "output_type": "stream"
        }
      ],
      "source": "counter \u003d 1\nwhile counter \u003c\u003d 5 :\n    print(\"Hello, world\")\n    counter \u003d counter + 1",
      "metadata": {
        "pycharm": {
          "metadata": false,
          "name": "#%%\n",
          "is_executing": false
        }
      }
    },
    {
      "cell_type": "markdown",
      "source": "prints out the phrase “Hello, world” five times. \nThe condition on the while statement is evaluated at the start of each repetition. \nIf the condition is True, the body of the statement will execute. \nIt is easy to see the structure of a Python while statement due to the mandatory indentation pattern that the language enforces.\n~~~\n\"Hello World\" 문구를 5번 출력한다.\nwhile 문에서 조건은 각 반복의 시작에서 평가된다.\n만약 그 상태가 true 이면, 그 문장의 본문이 실행될 것이다.\n파이썬 while 구문의 구조를 보는 것은 쉽다 / 의무적인 삽입 패턴 때문에 / 언어가 강제하는\n~~~\nThe while statement is a very general purpose iterative structure that we will use in a number of different algorithms. \nIn many cases, a compound condition will control the iteration. A fragment such as\n~~~\nwhile 문은 매우 일반적인 목적의 반복 구조이다 / 우리가 여러 가지 다른 알고리즘에서 사용하는 \n많은 경우에, 복합 조건이 반복을 제어할 것이다. \n~~~\n~~~\nwhile counter \u003c\u003d 10 and not done;\n    ...\n~~~\nwould cause the body of the statement to be executed only in the case where both parts of the condition are satisfied. \nThe value of the variable counter would need to be less than or equal to 10 and the value of the variable done would need to be False (not False is True) so that True and True results in True.\n~~~\n조건의 두 부분이 모두 만족되는 경우에만 명령문 본문이 실행된다.\n변수 counter의 값은 10보다 작거나 같아야 할 필요가 있고, 수행한 변수의 값은 True와 True 가 되기위한 False (false가 아닌 true)가 될 필요가 있다.\n~~~\nEven though this type of construct is very useful in a wide variety of situations, another iterative structure, \nthe for statement, can be used in conjunction with many of the Python collections. \nThe for statement can be used to iterate over the members of a collection, so long as the collection is a sequence. \nSo, for example,\n~~~\n이런 유형의 구조는 다양한 상황에서 매우 유용함에도 불구하고, 또 다른 반복적인 구조인 for문은 많은 파이썬 콜랙션과 함께 사용될 수 있다.\nfor문은 콜랙션의 구성에 대해 반복하는 데 사용할 수 있다. 예를 들어    \n~~~",
      "metadata": {
        "pycharm": {
          "metadata": false
        }
      }
    },
    {
      "cell_type": "code",
      "execution_count": 4,
      "outputs": [
        {
          "name": "stdout",
          "text": [
            "1\n3\n6\n2\n5\n"
          ],
          "output_type": "stream"
        }
      ],
      "source": "for item in [1,3,6,2,5]:\n    print(item)\n",
      "metadata": {
        "pycharm": {
          "metadata": false,
          "name": "#%%\n",
          "is_executing": false
        }
      }
    },
    {
      "cell_type": "markdown",
      "source": "assigns the variable item to be each successive value in the list [1,3,6,2,5]. \nThe body of the iteration is then executed. \nThis works for any collection that is a sequence (lists, tuples, and strings).\nA common use of the for statement is to implement definite iteration over a range of values. The statement\n~~~\n변수 item을 리스트 [1,3,6,2,5]의 연속적인 값이 되도록 지정한다.\n반복문의 본문이 다음으로 실행된다.\n이러한 작업은 모든 콜랙션에 대해 시퀀스이다 (리스트, 튜플, 그리고 문자열)\nfor문의 일반적 용도는 값의 범위에 대해 명확한 반복을 구현하는 것이다.\n그 문은\n~~~",
      "metadata": {
        "pycharm": {
          "metadata": false,
          "name": "#%% md\n"
        }
      }
    },
    {
      "cell_type": "code",
      "execution_count": 5,
      "outputs": [
        {
          "name": "stdout",
          "text": [
            "0\n2\n4\n6\n8\n"
          ],
          "output_type": "stream"
        }
      ],
      "source": "for item in range(5):\n    print(item*2)\n ",
      "metadata": {
        "pycharm": {
          "metadata": false,
          "name": "#%%\n",
          "is_executing": false
        }
      }
    },
    {
      "cell_type": "markdown",
      "source": "will perform the print function five times. \nThe range function will return a range object representing the sequence 0,1,2,3,4 and each value will be assigned to the variable item. \nThis value is then squared and printed.\n~~~\nprint 함수를 5번 실행할 것이다.\n이 range 함수는 range 객체를 리턴할 것이다 / 시퀀스 0,1,2,3,4를 나타내는 / 그리고 각 값은 item 변수에 할당될 것이다.\n그 다음 이 값은 제곱되고 print 된다.\n~~~\nThe other very useful version of this iteration structure is used to process each character of a string. \nThe following code fragment iterates over a list of strings and for each string processes each character by appending it to a list. \nThe result is a list of all the letters in all of the words.\n~~~\n이러한 반복 구조의 다른 더욱 유용한 버전은 각 문자를 처리하는데 사용된다.\n다음 코드 조각은 문자열의 목록에 반복되며, 각 문자열은 각 문자를 목록에 추가하여 처리한다.\n그 결과는 모든 단어들의 모든 문자들의 목록이다.\n~~~",
      "metadata": {
        "pycharm": {
          "metadata": false
        }
      }
    },
    {
      "cell_type": "code",
      "execution_count": 6,
      "outputs": [
        {
          "name": "stdout",
          "text": [
            "[\u0027c\u0027, \u0027a\u0027, \u0027t\u0027, \u0027d\u0027, \u0027o\u0027, \u0027g\u0027, \u0027r\u0027, \u0027a\u0027, \u0027b\u0027, \u0027b\u0027, \u0027i\u0027, \u0027t\u0027]\n"
          ],
          "output_type": "stream"
        }
      ],
      "source": "wordlist \u003d [\u0027cat\u0027, \u0027dog\u0027, \u0027rabbit\u0027]\nletterlist \u003d []\nfor aword in wordlist:\n    for aletter in aword:\n        letterlist.append(aletter)\nprint(letterlist)\n",
      "metadata": {
        "pycharm": {
          "metadata": false,
          "name": "#%%\n",
          "is_executing": false
        }
      }
    },
    {
      "cell_type": "markdown",
      "source": "Selection statements allow programmers to ask questions and then, based on the result, perform different actions. \nMost programming languages provide two versions of this useful construct: \nthe ifelse and the if. A simple example of a binary selection uses the ifelse statement.\n~~~\n선택문은 프로그래머로 하여금 질문을 하게끔 하고, 그 결과에 따라 다른 행동을 수행할 있도록 한다.\n대부분의 프로그래밍 언어는 이러한 유용한 구성의 2가지 버전을 제공한다 :\nifelse와 if.\n이전 선택의 단순한 예는 ifelse 문을 사용한다.\n~~~\n~~~\nif n\u003c0:\n    print(Sorry, value is negative)\nelse:\n    print(math.sqrt(n))\n~~~\nIn this example, the object referred to by n is checked to see if it is less than zero. \nIf it is, a message is printed stating that it is negative. \nIf it is not, the statement performs the else clause and computes the square root.\n~~~\n이 예에서 n에 의해 참조된 객체는 체크 된다 / 0보다 작은지 아닌지\n만약 작다면, 메시지는 출력된다 / 그것이 음수라고 언급하는\n만약 아니라면, 그 문장은 수행한다 else 절을 그리고 제곱근을 계산한다 \n~~~\nSelection constructs, as with any control construct, can be nested so that the result of one question helps decide whether to ask the next. \nFor example, assume that score is a variable holding a reference to a score for a computer science test.\n~~~\n선택 구조, 제어 구조와 마찬가지로 중첩 될 수 있다. 하나의 질문의 결과가 다음 질문 여부를 결정하는데 도움이 되도록\n예를 들어, 가정해보자 / 점수는 컴퓨터 과학 시험에 대한 점수에 대한 참조를 갖는 변수라고\n~~~\n~~~\nif score \u003e\u003d 90:\n   print(\u0027A\u0027)\nelse:\n   if score \u003e\u003d80:\n      print(\u0027B\u0027)\n   else:\n      if score \u003e\u003d 70:\n         print(\u0027C\u0027)\n      else:\n         if score \u003e\u003d 60:\n            print(\u0027D\u0027)\n         else:\n            print(\u0027F\u0027)\n~~~",
      "metadata": {
        "pycharm": {
          "metadata": false,
          "name": "#%% md\n"
        }
      }
    },
    {
      "cell_type": "markdown",
      "source": "This fragment will classify a value called score by printing the letter grade earned. \nIf the score is greater than or equal to 90, the statement will print A. \nIf it is not (else), the next question is asked.\nIf the score is greater than or equal to 80 then it must be between 80 and 89 since the answer to the first question was false. \nIn this case print B is printed. \nYou can see that the Python indentation pattern helps to make sense of the association \nbetween if and else without requiring any additional syntactic elements.\n~~~\n이 단편은 score 라는 값을 분류할 것이다 / 쌓아둔 문자 등급을 출력함으로써\n만약 그 점수가 90과 같거나 그보다 크면, 그 문장은 A를 출력할 것이다.\n만약 else가 아니라면 다음 질문이 요청된다\n만약 그 점수가 80과 같거나 그보다 크면, 그것은 80~89 사이임이 틀림 없다 / 그 첫번째 질문에 대한 대답이 false 였기때문에\n이러한 경우에 출력 B가 출력된다.\n너는 이해할 수 있다 / 파이썬 들여쓰기 패턴이 연관성을 이해할 수 있도록 도와준다 / if, else 사이에 그리고 추가 구문 요소를 필요로 하지 않고 있다.\n\nAn alternative syntax for this type of nested selection uses the elif keyword. \nThe else and the next if are combined so as to eliminate the need for additional nesting levels. \nNote that the final else is still necessary to provide the default case if all other conditions fail.\n~~~\n이러한 유형의 중첩된 선택 영역에 대한 대체 구문은 elif 키워드를 사용한다\nelse와 다음 if가 중첩되어 추가적인 중첩 수준이 필요가 없다.\n유의해라 / 최종 else는 여전히 필요로하다 / 만약 모든 다른 조긴이 실패할 경우 디폴트를 제공하기 위해\n~~~\n~~~\nif score \u003e\u003d 90:\n   print(\u0027A\u0027)\nelif score \u003e\u003d80:\n   print(\u0027B\u0027)\nelif score \u003e\u003d 70:\n   print(\u0027C\u0027)\nelif score \u003e\u003d 60:\n   print(\u0027D\u0027)\nelse:\n   print(\u0027F\u0027)\n~~~",
      "metadata": {
        "pycharm": {
          "metadata": false
        }
      }
    },
    {
      "cell_type": "markdown",
      "source": "Python also has a single way selection construct, the if statement. \nWith this statement, if the condition is true, an action is performed.\nIn the case where the condition is false, processing simply continues on to the next statement after the if. \nFor example, the following fragment will first check to see if the value of a variable n is negative. \nIf it is, then it is modified by the absolute value function. Regardless, the next action is to compute the square root.\n~~~\n파이썬은 또한 한 방향 선택 구조인 if 명령문도 있다.\n이 문의 경우, 만약 조건이 참이면, 액션이 수행된다.\n그 조건이 false인 경우에, 처리는 단순히 계속해서 다음 문장으로 진행된다 / if 후에\n예를 들어, 다음 판은 먼저 변수 n이 음수인지 아닌지 체크할 것이다.\n만약 음수라면, 다음으로 그것은 절대 값 함수에 의해 수정될 것이다.\n그럼에도 불구하고, 다음 액션은 제곱근을 계산하는 것이다.\n~~~",
      "metadata": {
        "pycharm": {
          "metadata": false,
          "name": "#%% md\n"
        }
      }
    },
    {
      "cell_type": "markdown",
      "source": "Self Check",
      "metadata": {
        "pycharm": {
          "metadata": false,
          "name": "#%% md\n"
        }
      }
    },
    {
      "cell_type": "code",
      "execution_count": 2,
      "outputs": [
        {
          "name": "stdout",
          "text": [
            "[\u0027c\u0027, \u0027a\u0027, \u0027t\u0027, \u0027d\u0027, \u0027o\u0027, \u0027g\u0027, \u0027r\u0027, \u0027b\u0027, \u0027i\u0027]\n"
          ],
          "output_type": "stream"
        }
      ],
      "source": "wordlist \u003d [\u0027cat\u0027, \u0027dog\u0027, \u0027rabbit\u0027]\nletterlist \u003d []\nfor aword in wordlist:\n    for aletter in aword:\n        if aletter not in letterlist:\n            letterlist.append(aletter)\nprint(letterlist)           \n        \n",
      "metadata": {
        "pycharm": {
          "metadata": false,
          "name": "#%%\n",
          "is_executing": false
        }
      }
    },
    {
      "cell_type": "markdown",
      "source": "Returning to lists, there is an alternative method for creating a list that uses iteration and selection constructs known as a list comprehension. \nA list comprehension allows you to easily create a list based on some processing or selection criteria. \nFor example, if we would like to create a list of the first 10 perfect squares, we could use a for statement:\n~~~\n목록으로 되돌가서,대체 방법이 있다 / 반복 그리고 선택 구조를 사용하는 목록을 만드는 것에 대한 / 목록 이해로 알려진 \n목록 이해는 너로 하여금 쉽게 일부 처리 또는 선택 기준을 기반으로 한 목록을 만들 수 있게금 한다.\n예를 들어, 만약 우리가 처음 10개의 퍼펙트한 사각형의 목록을 만들고 싶다면, 우리는 다음 for 문을 사용할 수 있다:\n~~~",
      "metadata": {
        "pycharm": {
          "metadata": false,
          "name": "#%% md\n"
        }
      }
    },
    {
      "cell_type": "code",
      "execution_count": 9,
      "outputs": [
        {
          "data": {
            "text/plain": "[1, 4, 9, 16, 25, 36, 49, 64, 81, 100]"
          },
          "metadata": {},
          "output_type": "execute_result",
          "execution_count": 9
        }
      ],
      "source": "sqlist \u003d []\nfor x in range(1,11):\n    sqlist.append(x*x)\nsqlist\n",
      "metadata": {
        "pycharm": {
          "metadata": false,
          "name": "#%%\n",
          "is_executing": false
        }
      }
    },
    {
      "cell_type": "markdown",
      "source": "Using a list comprehension, we can do this in one step as\n~~~\n목록 이해를 이용하여 우리는 이런 1 단계에서 이것을 할 수 있다.\n~~~",
      "metadata": {
        "pycharm": {
          "metadata": false
        }
      }
    },
    {
      "cell_type": "code",
      "execution_count": 10,
      "outputs": [
        {
          "data": {
            "text/plain": "[1, 4, 9, 16, 25, 36, 49, 64, 81, 100]"
          },
          "metadata": {},
          "output_type": "execute_result",
          "execution_count": 10
        }
      ],
      "source": "sqlist \u003d [x*x for x in range(1,11)]\nsqlist\n",
      "metadata": {
        "pycharm": {
          "metadata": false,
          "name": "#%% \n",
          "is_executing": false
        }
      }
    },
    {
      "cell_type": "markdown",
      "source": "The variable x takes on the values 1 through 10 as specified by the for construct. \nThe value of x*x is then computed and added to the list that is being constructed. \nThe general syntax for a list comprehension also allows a selection criteria to be added so that only certain items get added. \nFor example,\n~~~\n변수 x는 for 구조에 의해 지정된 1~10까지의 값을 취한다\nx*x의 값이 계산된 다음 생성되는 목록에 추가되어진다.\n목록 이해를 위한 일반적인 구문은 또한 선택 기준으로 하여금 추가되어지게끔 한다 / 오직 특정한 항목만 추가 되어지도록  \n~~~",
      "metadata": {
        "pycharm": {
          "metadata": false,
          "name": "#%% md\n"
        }
      }
    },
    {
      "cell_type": "code",
      "execution_count": 11,
      "outputs": [
        {
          "data": {
            "text/plain": "[1, 9, 25, 49, 81]"
          },
          "metadata": {},
          "output_type": "execute_result",
          "execution_count": 11
        }
      ],
      "source": "sqlist\u003d[x*x for x in range(1,11) if x%2 !\u003d 0]\nsqlist\n",
      "metadata": {
        "pycharm": {
          "metadata": false,
          "name": "#%% \n",
          "is_executing": false
        }
      }
    },
    {
      "cell_type": "markdown",
      "source": "This list comprehension constructed a list that only contained the squares of the odd numbers in the range from 1 to 10. \nAny sequence that supports iteration can be used within a list comprehension to construct a new list.\n~~~\n이 목록 이해는 1부터 10까지 범위에서 오직 홀수 숫자의 제곱만을 포함하는 목록을 구성했다.\n모든 시퀀스 (반복을 지원하는)는 목록 이해 내에서 사용될 수 있다. / 새로운 목록을 구성하기 위한\n~~~\n",
      "metadata": {
        "pycharm": {
          "metadata": false,
          "name": "#%% md\n"
        }
      }
    },
    {
      "cell_type": "markdown",
      "source": "Self Check ",
      "metadata": {
        "pycharm": {
          "metadata": false,
          "name": "#%% md\n"
        }
      }
    },
    {
      "cell_type": "code",
      "source": "wordlist \u003d [\u0027cat\u0027, \u0027dog\u0027, \u0027rabbit\u0027]\nword \u003d \"\".join(wordlist)\nnewlist \u003d [i for i in word]\nprint(newlist)           \n\n",
      "metadata": {
        "pycharm": {
          "metadata": false,
          "name": "#%% \n",
          "is_executing": false
        }
      },
      "execution_count": 21,
      "outputs": [
        {
          "name": "stdout",
          "text": [
            "[\u0027c\u0027, \u0027a\u0027, \u0027t\u0027, \u0027d\u0027, \u0027o\u0027, \u0027g\u0027, \u0027r\u0027, \u0027a\u0027, \u0027b\u0027, \u0027b\u0027, \u0027i\u0027, \u0027t\u0027]\n"
          ],
          "output_type": "stream"
        }
      ]
    }
  ],
  "metadata": {
    "language_info": {
      "codemirror_mode": {
        "name": "ipython",
        "version": 2
      },
      "file_extension": ".py",
      "mimetype": "text/x-python",
      "name": "python",
      "nbconvert_exporter": "python",
      "pygments_lexer": "ipython2",
      "version": "2.7.6"
    },
    "kernelspec": {
      "name": "python3",
      "language": "python",
      "display_name": "Python 3"
    }
  },
  "nbformat": 4,
  "nbformat_minor": 0
}