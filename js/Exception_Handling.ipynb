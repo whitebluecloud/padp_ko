{
  "cells": [
    {
      "cell_type": "markdown",
      "metadata": {
        "collapsed": true,
        "pycharm": {
          "name": "#%% md\n"
        }
      },
      "source": "### 1.11 Exception Handling\nThere are two types of errors that typically occur when writing programs. \nThe first, known as a syntax error, simply means that the programmer has made a mistake in the structure of a statement or expression. \nFor example, it is incorrect to write a for statement and forget the colon.\n~~~\n2가지 유형의 에러가 있다 / 전형적으로 발생하는 / 프로그램을 작성할 때\n첫째로, 구문에러로서, 단순히 의미한다 / 프로그래머가 문장 또는 표현의 구조를 잘못이해하고 있는 것이다.\n예를 들어, 올바르지 않다 / for문을 쓰는 것은 / 콜론을 잊어버리고\n~~~\n~~~\n\u003e\u003e\u003e for i in range(10)\nSyntaxError: invalid syntax (\u003cpyshell#61\u003e, line 1)\n~~~"
    },
    {
      "cell_type": "markdown",
      "source": "In this case, \nthe Python interpreter has found that it cannot complete the processing of this instruction since it does not conform to the rules of the language. \nSyntax errors are usually more frequent when you are first learning a language.\n~~~\n이런 경우,\n파이썬 인터프리터는 발견했다 / 그것은 처리를 완료할 수 없다는 것을 / 이러한 명렁에 대한 / 그 언어의 규칙을 따르지 않기 때문에\n구문 오류는 보통 더욱 빈번하다 / 너가 처음 언어를 배울 때 \n~~~\nThe other type of error, known as a logic error, denotes a situation where the program executes but gives the wrong result. \nThis can be due to an error in the underlying algorithm or an error in your translation of that algorithm. \nIn some cases, logic errors lead to very bad situations such as trying to divide by zero or trying to access an item in a list where the index of the item is outside the bounds of the list. \nIn this case, the logic error leads to a runtime error that causes the program to terminate. These types of runtime errors are typically called exceptions.\n~~~\n다른 종류의 에러, 논리 오류는 프로그램이 실행되지만 잘못된 결과를 주는 상황을 나타낸다.\n이것은 기본 알고리즘 오류 또는 너의 알고리즘 번역에 대한 에러 때문일 수 있다.\n어떤 경우에는, 논리 오류는 매우 나쁜 상황을 이끈다 / 예를 들어 0으로 나누려고 시도하는 것 또는 목록의 인덱스가 list의 바운드에서 벗어난 리스트의 목록에 접근하려고 시도하려는 것\n이러한 경우에, 논리 오류는 런타임 에러를 이끈다 / 프로그램을 종료로 야기시키는 / 이러한 유형의 런타임 에러는 전형적으로 익셉션이라고 불린다.\n~~~\nMost of the time, beginning programmers simply think of exceptions as fatal runtime errors that cause the end of execution. \nHowever, most programming languages provide a way to deal with these errors that will allow the programmer to have some type of intervention if they so choose. \nIn addition, programmers can create their own exceptions if they detect a situation in the program execution that warrants it.\n~~~\n대부분의 경우, 초급 개발자들은 예외에 대해서 단순히 생각한다 / 치명적인 런타임 에러로써 / 종료를 야기시키는\n하지만, 대부분 프로그래밍 언어는 제공한다 / 이러한 에러들을 다룰 수 있는 방법을 / 그것은 프로그래머로 하여금  몇몇 종류의 개입을 하게끔 한다, 만약 그들이 그렇게 선택한다면\n게다가, 개발자들은 그들 자신의 예외를 만들 수 있다 / 만약 그들이 프로그램 실행에서 상황을 감지한다면 / 그것을 보증하는\n~~~\nWhen an exception occurs, we say that it has been “raised.” You can “handle” the exception that has been raised by using a try statement. \nFor example, consider the following session that asks the user for an integer and then calls the square root function from the math library. \nIf the user enters a value that is greater than or equal to 0, the print will show the square root. \nHowever, if the user enters a negative value, the square root function will report a ValueError exception.\n~~~\n예외가 발생했을 때, 우리는 말한다 / 그것은 발생했다. 너는 예외를 다룰 수 있다 / 그 예외는 처리되어진다 try 문을 사용함으로써\n예를 들어, 다음 세션을 고려하라 / 사용자로 하여금 정수로 요청하고 나서 제곱근 함수를 요청하는 / math 라이브러리로 부터\n만약 그 사용자가 음수 값을 입력한다면, 제곱근 함수는 ValueEroor 익셉션을 보고할 것이다.\n~~~\n",
      "metadata": {
        "pycharm": {
          "metadata": false
        }
      }
    },
    {
      "cell_type": "code",
      "execution_count": 3,
      "outputs": [
        {
          "traceback": [
            "\u001b[1;31m---------------------------------------------------------------------------\u001b[0m",
            "\u001b[1;31mValueError\u001b[0m                                Traceback (most recent call last)",
            "\u001b[1;32m\u003cipython-input-3-8b0d208d9c0a\u003e\u001b[0m in \u001b[0;36m\u003cmodule\u003e\u001b[1;34m\u001b[0m\n\u001b[0;32m      1\u001b[0m \u001b[1;32mimport\u001b[0m \u001b[0mmath\u001b[0m\u001b[1;33m;\u001b[0m\u001b[1;33m\u001b[0m\u001b[1;33m\u001b[0m\u001b[0m\n\u001b[0;32m      2\u001b[0m \u001b[0manumber\u001b[0m \u001b[1;33m\u003d\u001b[0m \u001b[0mint\u001b[0m\u001b[1;33m(\u001b[0m\u001b[0minput\u001b[0m\u001b[1;33m(\u001b[0m\u001b[1;34m\"Please enter an integer \"\u001b[0m\u001b[1;33m)\u001b[0m\u001b[1;33m)\u001b[0m\u001b[1;33m\u001b[0m\u001b[1;33m\u001b[0m\u001b[0m\n\u001b[1;32m----\u003e 3\u001b[1;33m \u001b[0mprint\u001b[0m\u001b[1;33m(\u001b[0m\u001b[0mmath\u001b[0m\u001b[1;33m.\u001b[0m\u001b[0msqrt\u001b[0m\u001b[1;33m(\u001b[0m\u001b[0manumber\u001b[0m\u001b[1;33m)\u001b[0m\u001b[1;33m)\u001b[0m\u001b[1;33m\u001b[0m\u001b[1;33m\u001b[0m\u001b[0m\n\u001b[0m\u001b[0;32m      4\u001b[0m \u001b[1;33m\u001b[0m\u001b[0m\n",
            "\u001b[1;31mValueError\u001b[0m: math domain error"
          ],
          "ename": "ValueError",
          "evalue": "math domain error",
          "output_type": "error"
        }
      ],
      "source": "import math;\nanumber \u003d int(input(\"Please enter an integer \"))\nprint(math.sqrt(anumber))\n",
      "metadata": {
        "pycharm": {
          "metadata": false,
          "name": "#%% \n",
          "is_executing": false
        }
      }
    },
    {
      "cell_type": "markdown",
      "source": "We can handle this exception by calling the print function from within a try block.\nA corresponding except block “catches” the exception and prints a message back to the user in the event that an exception occurs. For example:\n~~~\n우리는 이런 익셉션을 다룰 수 있다 / print 함수를 부름으로써 / try 블럭 안에서부터\n해당하는 except 블록은 예외를 잡고, 예외 상황에서 메시지를 사용자에게 다시 출력한다. 예를 들어:\n~~~",
      "metadata": {
        "pycharm": {
          "metadata": false,
          "name": "#%% md\n"
        }
      }
    },
    {
      "cell_type": "code",
      "execution_count": 4,
      "outputs": [
        {
          "name": "stdout",
          "text": [
            "Bad Value for square root\nUsing absolute value instead\n1.4142135623730951\n"
          ],
          "output_type": "stream"
        }
      ],
      "source": "try:\n    print(math.sqrt(anumber))\nexcept:\n    print(\"Bad Value for square root\")\n    print(\"Using absolute value instead\")\n    print(math.sqrt(abs(anumber)))\n    ",
      "metadata": {
        "pycharm": {
          "metadata": false,
          "name": "#%% \n",
          "is_executing": false
        }
      }
    },
    {
      "cell_type": "markdown",
      "source": "will catch the fact that an exception is raised by sqrt and will instead print the messages back to the user and use the absolute value \nto be sure that we are taking the square root of a non-negative number. \nThis means that the program will not terminate but instead will continue on to the next statements.\n~~~\nsqrt에 의해 발생한 예외의 사실을 잡을 것이고, 대신 메시지를 사용자에게 다시 출력하고 절대값을 사용할 것이다 /\n확실히 하기 위해서 / 우리가 0또는 0보다큰 수의 제곱근을 받는 것을\n~~~\nIt is also possible for a programmer to cause a runtime exception by using the raise statement.\nFor example, instead of calling the square root function with a negative number, \nwe could have checked the value first and then raised our own exception. \nThe code fragment below shows the result of creating a new RuntimeError exception. \nNote that the program would still terminate but now the exception that caused the termination is something explicitly created by the programmer.\n~~~\n또한 개발자가 런타임 예외를 발생시킬 수 있다 / rasie 문을 사용함으로써 \n예를들어, 음수로 제곱근함수를 부르는 것 대신에 \n우리는 그 값을 먼저 체크할 수 있다 그리고 다음으로 우리 자신의 익셉션을 발생시킬 수 있다.\n아래 코드 조각은 새로운 RuntimeError 익셉션을 만든 것의 결과를 보여준다.\n주목하라 / 프로그램은 여전히 종료되었지만 이제 그 익셉션(종료를 야기하는)은 명확히 개발자에 의해 만들어진 것이다.\n~~~\n~~~\nif anumber \u003c 0:\n    raise RuntimeError(\"You can\u0027t use a negative number\")\nelse:\n    print(math.sqrt(anumber))\n~~~",
      "metadata": {
        "pycharm": {
          "metadata": false,
          "name": "#%% md\n"
        }
      }
    },
    {
      "cell_type": "markdown",
      "source": "There are many kinds of exceptions that can be raised in addition to the RuntimeError shown above. \nSee the Python reference manual for a list of all the available exception types and for how to create your own.\n~~~\n많은 종류의 익셉션들이 있다 / 발생되어질 수 있는 / RuntimeError 이외에도 위에서 보여지는\n파이썬 참조 메뉴얼을 보아라 / 모든 이용가능한 익셉션 타입들의 목록에 대한 / 그리고 어떻게 너 자신의 익셉션을 만드는지\n~~~",
      "metadata": {
        "pycharm": {
          "metadata": false,
          "name": "#%% md\n"
        }
      }
    }
  ],
  "metadata": {
    "language_info": {
      "codemirror_mode": {
        "name": "ipython",
        "version": 2
      },
      "file_extension": ".py",
      "mimetype": "text/x-python",
      "name": "python",
      "nbconvert_exporter": "python",
      "pygments_lexer": "ipython2",
      "version": "2.7.6"
    },
    "kernelspec": {
      "name": "python3",
      "language": "python",
      "display_name": "Python 3"
    }
  },
  "nbformat": 4,
  "nbformat_minor": 0
}