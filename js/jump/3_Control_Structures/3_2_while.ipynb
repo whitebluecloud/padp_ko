{
  "cells": [
    {
      "cell_type": "markdown",
      "source": "[3-2 while문](https://wikidocs.net/21)\n\n## while문의 기본구조",
      "metadata": {
        "pycharm": {
          "metadata": false,
          "name": "#%% md\n"
        }
      }
    },
    {
      "cell_type": "code",
      "execution_count": 4,
      "outputs": [
        {
          "name": "stdout",
          "text": [
            "hit : 1\nhit : 2\nhit : 3\nhit : 4\nhit : 5\nhit : 6\nhit : 7\nhit : 8\nhit : 9\nhit : 10\nsuccess : 10\n"
          ],
          "output_type": "stream"
        }
      ],
      "source": "hit \u003d 0\nwhile hit \u003c 10:\n    hit +\u003d 1\n    print(\u0027hit : %d\u0027 %hit)\n    if hit \u003d\u003d 10:\n        print(\u0027success : %d\u0027 %hit)\n",
      "metadata": {
        "pycharm": {
          "metadata": false,
          "name": "#%%\n",
          "is_executing": false
        }
      }
    },
    {
      "cell_type": "markdown",
      "source": "## while문",
      "metadata": {
        "pycharm": {
          "metadata": false,
          "name": "#%% md\n"
        }
      }
    },
    {
      "cell_type": "code",
      "execution_count": 3,
      "outputs": [
        {
          "name": "stdout",
          "text": [
            "coffee 9\ncoffee 8\ncoffee 7\ncoffee 6\ncoffee 5\ncoffee 4\ncoffee 3\ncoffee 2\ncoffee 1\ncoffee 0\nend\n1\n3\n5\n7\n9\n"
          ],
          "output_type": "stream"
        }
      ],
      "source": "# break \nmoney  \u003d 300\ncoffee \u003d 10\nwhile money:\n    coffee -\u003d 1\n    money -\u003d 10\n    print(\"coffee %d\" %coffee)\n    if coffee \u003d\u003d 0:\n        print(\"end\")\n        break\n#continue\na\u003d0\nwhile a\u003c10:\n   a +\u003d1\n   if a % 2 \u003d\u003d 0 : continue\n   print(a)\n   ",
      "metadata": {
        "pycharm": {
          "metadata": false,
          "name": "#%%\n",
          "is_executing": false
        }
      }
    },
    {
      "cell_type": "markdown",
      "source": "## 연습문제 1. 3의 배수의 합\n1부터 1000까지의 자연수 중 3의 배수의 합을 구하시오.",
      "metadata": {
        "pycharm": {
          "metadata": false
        }
      }
    },
    {
      "cell_type": "code",
      "execution_count": 5,
      "outputs": [
        {
          "name": "stdout",
          "text": [
            "166833\n"
          ],
          "output_type": "stream"
        }
      ],
      "source": "a \u003d 1\nsum \u003d 0\nwhile a\u003c\u003d1000: \n    if a % 3 \u003d\u003d 0: sum +\u003d a\n    a +\u003d 1\nprint(sum)",
      "metadata": {
        "pycharm": {
          "metadata": false,
          "name": "#%%\n",
          "is_executing": false
        }
      }
    },
    {
      "cell_type": "markdown",
      "source": "## 연습문제 2. 50점 이상의 총합\n다음은 A학급 학생의 점수를 나타내는 리스트이다. 다음 리스트에서 50점 이상의 점수들의 총합을 구하시오.",
      "metadata": {
        "pycharm": {
          "metadata": false
        }
      }
    },
    {
      "cell_type": "code",
      "execution_count": 6,
      "outputs": [
        {
          "name": "stdout",
          "text": [
            "481\n"
          ],
          "output_type": "stream"
        }
      ],
      "source": "A \u003d [20, 55, 67, 82, 45, 33, 90, 87, 100, 25]\na \u003d 0\nsum \u003d 0\nwhile a \u003c len(A):\n    if A[a] \u003e\u003d 50 : sum +\u003d A[a]\n    a +\u003d 1\nprint(sum)\n",
      "metadata": {
        "pycharm": {
          "metadata": false,
          "name": "#%%\n",
          "is_executing": false
        }
      }
    },
    {
      "cell_type": "code",
      "execution_count": 15,
      "outputs": [
        {
          "name": "stdout",
          "text": [
            "481\n"
          ],
          "output_type": "stream"
        }
      ],
      "source": "A \u003d [20, 55, 67, 82, 45, 33, 90, 87, 100, 25]\nsum \u003d 0\nwhile A:\n    popVal \u003d A.pop()\n    if popVal \u003e\u003d 50: sum +\u003d popVal\nprint(sum)\n",
      "metadata": {
        "pycharm": {
          "metadata": false,
          "name": "#%%\n",
          "is_executing": false
        }
      }
    },
    {
      "cell_type": "markdown",
      "source": "## 연습문제 3. 별 표시하기1\nwhile문을 이용하여 아래와 같이 별(*)을 표시하는 프로그램을 작성해 보자.\n~~~\n*\n**\n***\n****\n~~~",
      "metadata": {
        "pycharm": {
          "metadata": false
        }
      }
    },
    {
      "cell_type": "code",
      "execution_count": 14,
      "outputs": [
        {
          "name": "stdout",
          "text": [
            "*\n**\n***\n****\n"
          ],
          "output_type": "stream"
        }
      ],
      "source": "i \u003d 0;\nwhile True :\n    i +\u003d 1\n    if i \u003d\u003d 5 : break\n    print(\"*\"*i)\n\n",
      "metadata": {
        "pycharm": {
          "metadata": false,
          "name": "#%%\n",
          "is_executing": false
        }
      }
    }
  ],
  "metadata": {
    "language_info": {
      "codemirror_mode": {
        "name": "ipython",
        "version": 2
      },
      "file_extension": ".py",
      "mimetype": "text/x-python",
      "name": "python",
      "nbconvert_exporter": "python",
      "pygments_lexer": "ipython2",
      "version": "2.7.6"
    },
    "kernelspec": {
      "name": "python3",
      "language": "python",
      "display_name": "Python 3"
    },
    "stem_cell": {
      "cell_type": "raw",
      "source": "",
      "metadata": {
        "pycharm": {
          "metadata": false
        }
      }
    }
  },
  "nbformat": 4,
  "nbformat_minor": 0
}