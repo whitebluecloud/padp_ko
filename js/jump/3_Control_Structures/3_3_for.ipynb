{
  "cells": [
    {
      "cell_type": "markdown",
      "source": "[3-3 for문](https://wikidocs.net/22)\n\n## for문의 기본구조",
      "metadata": {
        "pycharm": {
          "metadata": false,
          "name": "#%% md\n"
        }
      }
    },
    {
      "cell_type": "code",
      "execution_count": 21,
      "outputs": [
        {
          "name": "stdout",
          "text": [
            "1\n2\n3\n3\n3\n7\n5\n"
          ],
          "output_type": "stream"
        }
      ],
      "source": "test_list \u003d [\u00271\u0027,\u00272\u0027,\u00273\u0027]\nfor i in test_list:\n    print(i)\n\na \u003d [(1,2), (3,4), (2,3)]\nprint(len(a))\nfor (first, last) in a:\n    print(first + last)\n",
      "metadata": {
        "pycharm": {
          "metadata": false,
          "name": "#%%\n",
          "is_executing": false
        }
      }
    },
    {
      "cell_type": "code",
      "execution_count": 22,
      "outputs": [
        {
          "name": "stdout",
          "text": [
            "1000\n10000\n"
          ],
          "output_type": "stream"
        }
      ],
      "source": "# continue\narray \u003d [10,100,1000,10000]\nnumber \u003d 0\nfor i in array:\n    number +\u003d 1\n    if i \u003c 1000: continue\n    print(i)\n",
      "metadata": {
        "pycharm": {
          "metadata": false,
          "name": "#%%    \n",
          "is_executing": false
        }
      }
    },
    {
      "cell_type": "code",
      "execution_count": 23,
      "outputs": [
        {
          "name": "stdout",
          "text": [
            "range(0, 50)\nrange(1, 100)\n1225\n"
          ],
          "output_type": "stream"
        }
      ],
      "source": "# range\na \u003d range(50)\nb \u003d range(1,100)\nprint(a)\nprint(b)\nsum \u003d 0\nfor i in a: # 0~50미만의 합\n    sum +\u003d i\nprint(sum)\n",
      "metadata": {
        "pycharm": {
          "metadata": false,
          "name": "#%%\n",
          "is_executing": false
        }
      }
    },
    {
      "cell_type": "code",
      "execution_count": 24,
      "outputs": [
        {
          "name": "stdout",
          "text": [
            "1\n5\n90\n95\n"
          ],
          "output_type": "stream"
        }
      ],
      "source": "# range 이용\narray \u003d [1,5,90,95]\nfor i in range(len(array)):\n    print(array[i])\n",
      "metadata": {
        "pycharm": {
          "metadata": false,
          "name": "#%%\n",
          "is_executing": false
        }
      }
    },
    {
      "cell_type": "code",
      "execution_count": 25,
      "outputs": [
        {
          "name": "stdout",
          "text": [
            "2 4 6 8 10 12 14 16 18 \n3 6 9 12 15 18 21 24 27 \n4 8 12 16 20 24 28 32 36 \n5 10 15 20 25 30 35 40 45 \n6 12 18 24 30 36 42 48 54 \n7 14 21 28 35 42 49 56 63 \n8 16 24 32 40 48 56 64 72 \n9 18 27 36 45 54 63 72 81 \n"
          ],
          "output_type": "stream"
        }
      ],
      "source": "# 구구단\nfor i in range(2,10):\n    for j in range(1,10):\n        print(i*j, end\u003d\" \") # end는 출력을 다음줄로 넘기지 않고, 그 줄에 계속 출력하도록\n    print(\u0027\u0027)\n",
      "metadata": {
        "pycharm": {
          "metadata": false,
          "name": "#%%\n",
          "is_executing": false
        }
      }
    },
    {
      "cell_type": "code",
      "execution_count": 39,
      "outputs": [
        {
          "name": "stdout",
          "text": [
            "[3, 6, 9, 12]\n[3, 6, 9, 12]\n[6, 12]\n"
          ],
          "output_type": "stream"
        }
      ],
      "source": "# 리스트 안에 for문\na \u003d [1,2,3,4]\nresult \u003d []\nfor num in a:\n    result.append(num*3)\nprint(result)\n\nresult \u003d [num * 3 for num in a]\nprint(result)\n\nresult \u003d [num * 3 for num in a if num % 2 \u003d\u003d 0]\nprint(result)\n",
      "metadata": {
        "pycharm": {
          "metadata": false,
          "name": "#%%\n",
          "is_executing": false
        }
      }
    },
    {
      "cell_type": "code",
      "execution_count": 40,
      "outputs": [
        {
          "name": "stdout",
          "text": [
            "[2, 4, 6, 8, 10, 12, 14, 16, 18, 3, 6, 9, 12, 15, 18, 21, 24, 27, 4, 8, 12, 16, 20, 24, 28, 32, 36, 5, 10, 15, 20, 25, 30, 35, 40, 45, 6, 12, 18, 24, 30, 36, 42, 48, 54, 7, 14, 21, 28, 35, 42, 49, 56, 63, 8, 16, 24, 32, 40, 48, 56, 64, 72, 9, 18, 27, 36, 45, 54, 63, 72, 81]\n"
          ],
          "output_type": "stream"
        }
      ],
      "source": "# 구구단 한줄로\ngugudan \u003d [k*p for k in range(2,10) for p in range(1,10)]\nprint(gugudan)\n",
      "metadata": {
        "pycharm": {
          "metadata": false,
          "name": "#%%\n",
          "is_executing": false
        }
      }
    },
    {
      "cell_type": "markdown",
      "source": "## 연습문제 1. 1부터 100까지 출력",
      "metadata": {
        "pycharm": {
          "metadata": false
        }
      }
    },
    {
      "cell_type": "code",
      "execution_count": 43,
      "outputs": [
        {
          "name": "stdout",
          "text": [
            "1\n2\n3\n4\n5\n6\n7\n8\n9\n10\n11\n12\n13\n14\n15\n16\n17\n18\n19\n20\n21\n22\n23\n24\n25\n26\n27\n28\n29\n30\n31\n32\n33\n34\n35\n36\n37\n38\n39\n40\n41\n42\n43\n44\n45\n46\n47\n48\n49\n50\n51\n52\n53\n54\n55\n56\n57\n58\n59\n60\n61\n62\n63\n64\n65\n66\n67\n68\n69\n70\n71\n72\n73\n74\n75\n76\n77\n78\n79\n80\n81\n82\n83\n84\n85\n86\n87\n88\n89\n90\n91\n92\n93\n94\n95\n96\n97\n98\n99\n100\n"
          ],
          "output_type": "stream"
        }
      ],
      "source": "for i in range(1,101):\n    print(i)\n    ",
      "metadata": {
        "pycharm": {
          "metadata": false,
          "name": "#%%\n",
          "is_executing": false
        }
      }
    },
    {
      "cell_type": "markdown",
      "source": "## 연습문제 2. 학급의 평균 점수\nfor문을 이용하여 A 학급의 평균 점수를 구해 보자.",
      "metadata": {
        "pycharm": {
          "metadata": false
        }
      }
    },
    {
      "cell_type": "code",
      "execution_count": 44,
      "outputs": [
        {
          "name": "stdout",
          "text": [
            "79.0\n"
          ],
          "output_type": "stream"
        }
      ],
      "source": "A \u003d [70, 60, 55, 75, 95, 90, 80, 80, 85, 100]\nsum \u003d 0\nfor i in A:\n    sum +\u003d i\naverage \u003d sum / len(A)\nprint(average)\n",
      "metadata": {
        "pycharm": {
          "metadata": false,
          "name": "#%%\n",
          "is_executing": false
        }
      }
    },
    {
      "cell_type": "markdown",
      "source": "## 연습문제 3. 리스트 내포\n리스트 중에서 홀수에만 2를 곱하여 저장하는 다음과 같은 코드가 있다.\n\n~~~\nnumbers \u003d [1, 2, 3, 4, 5]\nresult \u003d []\nfor n in numbers:\n    if n % 2 \u003d\u003d 1:\n        result.append(n*2)\n~~~\n\n위 코드를 리스트 내포(list comprehension)를 이용하여 표현하시오.",
      "metadata": {
        "pycharm": {
          "metadata": false
        }
      }
    },
    {
      "cell_type": "code",
      "execution_count": 49,
      "outputs": [
        {
          "name": "stdout",
          "text": [
            "[2, 6, 10]\n[2, 6, 10]\n"
          ],
          "output_type": "stream"
        }
      ],
      "source": "numbers \u003d [1, 2, 3, 4, 5]\nresult \u003d []\nfor n in numbers:\n    if n % 2 \u003d\u003d 1:\n        result.append(n*2)\n\nprint(result)\n\nnewReulst \u003d [i*2 for i in numbers if i % 2  \u003d\u003d 1]\nprint(result)",
      "metadata": {
        "pycharm": {
          "metadata": false,
          "name": "#%%\n",
          "is_executing": false
        }
      }
    }
  ],
  "metadata": {
    "language_info": {
      "codemirror_mode": {
        "name": "ipython",
        "version": 2
      },
      "file_extension": ".py",
      "mimetype": "text/x-python",
      "name": "python",
      "nbconvert_exporter": "python",
      "pygments_lexer": "ipython2",
      "version": "2.7.6"
    },
    "kernelspec": {
      "name": "python3",
      "language": "python",
      "display_name": "Python 3"
    },
    "stem_cell": {
      "cell_type": "raw",
      "source": "",
      "metadata": {
        "pycharm": {
          "metadata": false
        }
      }
    }
  },
  "nbformat": 4,
  "nbformat_minor": 0
}