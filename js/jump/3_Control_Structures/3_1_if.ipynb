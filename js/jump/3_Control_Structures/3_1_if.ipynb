{
  "cells": [
    {
      "cell_type": "markdown",
      "source": "[3-1 if문](https://wikidocs.net/20)\n\n## if문의 기본구조\n~~~\nif 조건문:\n    문장\nelse:\n    문장 \n~~~",
      "metadata": {
        "pycharm": {
          "metadata": false,
          "name": "#%% md\n"
        }
      }
    },
    {
      "cell_type": "code",
      "execution_count": 3,
      "outputs": [
        {
          "name": "stdout",
          "text": [
            "run\n"
          ],
          "output_type": "stream"
        }
      ],
      "source": "# \"만약 3000원 이상의 돈을 가지고 있으면 택시를 타고 그렇지 않으면 걸어 가라\"\nmoney \u003d 2000\nif money \u003e\u003d 3000:\n    print(\"taxi\")\nelse:\n    print(\"walking\")\n",
      "metadata": {
        "pycharm": {
          "metadata": false,
          "name": "#%%\n",
          "is_executing": false
        }
      }
    },
    {
      "cell_type": "markdown",
      "source": "## and, or, not",
      "metadata": {
        "pycharm": {
          "metadata": false,
          "name": "#%% md\n"
        }
      }
    },
    {
      "cell_type": "code",
      "execution_count": 5,
      "outputs": [
        {
          "name": "stdout",
          "text": [
            "taxi\n"
          ],
          "output_type": "stream"
        }
      ],
      "source": "# \"돈이 3000원 이상 있거나 카드가 있다면 택시를 타고 그렇지 않으면 걸어 가라\"\nmoney \u003d 2000\ncard \u003d True\n\nif money \u003e\u003d 3000 or card:\n    print(\"taxi\")\nelse:\n    print(\"walking\")",
      "metadata": {
        "pycharm": {
          "metadata": false,
          "name": "#%%\n",
          "is_executing": false
        }
      }
    },
    {
      "cell_type": "markdown",
      "source": "## in s, x not in s\n- in\n    - x in 리스트\n    - x in 튜플\n    - x in 문자열\n- not in\n    - x not in 리스트\n    - x not in 튜플\n    - x not in 문자열",
      "metadata": {
        "pycharm": {
          "metadata": false,
          "name": "#%% md\n"
        }
      }
    },
    {
      "cell_type": "code",
      "execution_count": 12,
      "outputs": [
        {
          "name": "stdout",
          "text": [
            "True\nTrue\nTrue\nTrue\ntaxi\n"
          ],
          "output_type": "stream"
        }
      ],
      "source": "print(1 in [1,2,3])\nprint(1 in (1,2,3))\nprint(\u00271\u0027 in \u00271,2,3\u0027)\nprint(\u0027j\u0027 not in \u0027py\u0027)\n\n# \"만약 주머니에 돈이 있으면 택시를 타고, 없으면 걸어 가라\"\npocket \u003d [\u0027money\u0027, \u0027hammer\u0027, \u0027phone\u0027]\nif \u0027money\u0027 in pocket:\n    print(\u0027taxi\u0027)\nelse:\n    print(\"walking\")\n    ",
      "metadata": {
        "pycharm": {
          "metadata": false,
          "name": "#%%\n",
          "is_executing": false
        }
      }
    },
    {
      "cell_type": "markdown",
      "source": "## 조건문에서 아무 일도 하지 않게 설정하려면 ? \n--\u003e pass",
      "metadata": {
        "pycharm": {
          "metadata": false,
          "name": "#%% md\n"
        }
      }
    },
    {
      "cell_type": "code",
      "execution_count": 15,
      "outputs": [],
      "source": "#\"주머니에 돈이 있으면 가만히 있고 주머니에 돈이 없으면 카드를 꺼내라\"\nif \u0027money\u0027 in pocket:\n    pass\nelse:\n    print(\u0027card\u0027)",
      "metadata": {
        "pycharm": {
          "metadata": false,
          "name": "#%%\n",
          "is_executing": false
        }
      }
    },
    {
      "cell_type": "markdown",
      "source": "## 다양한 조건을 판단하는 elif",
      "metadata": {
        "pycharm": {
          "metadata": false,
          "name": "#%% md\n"
        }
      }
    },
    {
      "cell_type": "code",
      "execution_count": 17,
      "outputs": [
        {
          "name": "stdout",
          "text": [
            "taxi\n"
          ],
          "output_type": "stream"
        }
      ],
      "source": "# \"주머니에 돈이 있으면 택시를 타고, 주머니에 돈은 없지만 카드가 있으면 택시를 타고, \n# 돈도 없고 카드도 없으면 걸어 가라\"\nif \u0027money\u0027 in pocket:\n    print(\u0027taxi\u0027)\nelif card:\n    print(\u0027taxi\u0027)\nelif \u0027phone\u0027:\n    print(\u0027call the kakao\u0027)\nelse:\n    print(\"walking\")\n",
      "metadata": {
        "pycharm": {
          "metadata": false,
          "name": "#%%\n",
          "is_executing": false
        }
      }
    },
    {
      "cell_type": "markdown",
      "source": "## 조건부 표현식",
      "metadata": {
        "pycharm": {
          "metadata": false,
          "name": "#%% md\n"
        }
      }
    },
    {
      "cell_type": "code",
      "execution_count": 30,
      "outputs": [
        {
          "name": "stdout",
          "text": [
            "ab\ngood\ngood\n"
          ],
          "output_type": "stream"
        }
      ],
      "source": "score \u003d 70\nif score \u003e\u003d 80: \n    message \u003d \u0027true\u0027\nelif score \u003e\u003d 60:\n    message \u003d \u0027good\u0027\nelse: \n    message \u003d \u0027false\u0027\n    abc \u003d \u0027ab\u0027 # 파이썬 스코프 (if문 밖에서 변수사용가능 / 함수 밖에선 변수사용불가능)\nprint(abc)\nprint(message)\n\n# 조건부표현식\nmessage \u003d \u0027true\u0027 if score \u003e\u003d 60 else \u0027false\u0027\nmessage \u003d \u0027true\u0027 if score \u003e\u003d 80 else \u0027good\u0027 if score \u003e 60 else \u0027false\u0027\nprint(message)\n",
      "metadata": {
        "pycharm": {
          "metadata": false,
          "name": "#%%\n",
          "is_executing": false
        }
      }
    },
    {
      "cell_type": "markdown",
      "source": "## 연습문제 1. 조건문",
      "metadata": {
        "pycharm": {
          "metadata": false,
          "name": "#%% md\n"
        }
      }
    },
    {
      "cell_type": "code",
      "execution_count": 32,
      "outputs": [
        {
          "name": "stdout",
          "text": [
            "shirt\n"
          ],
          "output_type": "stream"
        }
      ],
      "source": "a \u003d \"Life is too short, you need python\"\nif \u0027wife\u0027 in a:\n    print(\u0027wife\u0027)\nelif \u0027python\u0027 in a and \u0027you\u0027 not in a:\n    print(\u0027python\u0027)\nelif \u0027shirt\u0027 not in a:\n    print(\u0027shirt\u0027)\nelif \u0027need\u0027 in a:\n    print(\u0027need\u0027)\nelse:\n    print(\u0027none\u0027)\n",
      "metadata": {
        "pycharm": {
          "metadata": false,
          "name": "#%%\n",
          "is_executing": false
        }
      }
    }
  ],
  "metadata": {
    "language_info": {
      "codemirror_mode": {
        "name": "ipython",
        "version": 2
      },
      "file_extension": ".py",
      "mimetype": "text/x-python",
      "name": "python",
      "nbconvert_exporter": "python",
      "pygments_lexer": "ipython2",
      "version": "2.7.6"
    },
    "kernelspec": {
      "name": "python3",
      "language": "python",
      "display_name": "Python 3"
    },
    "stem_cell": {
      "cell_type": "raw",
      "source": "",
      "metadata": {
        "pycharm": {
          "metadata": false
        }
      }
    }
  },
  "nbformat": 4,
  "nbformat_minor": 0
}