{
  "cells": [
    {
      "cell_type": "markdown",
      "source": "[2-8 자료형의 값을 저장하는 공간, 변수](https://wikidocs.net/18)\n\n- 파이썬에서 변수는 객체를 가리킴\n- 객체는 우리가 지금껏 보아 왔던 자료형\n",
      "metadata": {
        "pycharm": {
          "metadata": false,
          "name": "#%% md\n"
        }
      }
    },
    {
      "cell_type": "code",
      "execution_count": 4,
      "outputs": [
        {
          "name": "stdout",
          "text": [
            "110360072\n"
          ],
          "output_type": "stream"
        }
      ],
      "source": "a \u003d [1,2,3] # a라는 리스트 객체가 메모리에 생성\nprint(id(a)) # 리스트가 저장된 메모리 주소 \n",
      "metadata": {
        "pycharm": {
          "metadata": false,
          "name": "#%%\n",
          "is_executing": false
        }
      }
    },
    {
      "cell_type": "markdown",
      "source": "## 리스트 복사\n- 대입으로 리스트를 복사하면 메모리 주소가 저장되어 각 객체는 동일한 주소값을 가르키게됨",
      "metadata": {
        "pycharm": {
          "metadata": false
        }
      }
    },
    {
      "cell_type": "code",
      "execution_count": 14,
      "outputs": [
        {
          "name": "stdout",
          "text": [
            "114503432\n114503432\n[5, 2]\n[5, 2]\nTrue\n114386376 [1, 2, 3]\n114356552 [1, 2, 3]\nFalse\n114386376 [1, 2, 3]\n114550984 [1, 2, 3]\nFalse\n"
          ],
          "output_type": "stream"
        }
      ],
      "source": "# 잘못된 복사\na \u003d [1,2]\nb \u003d a\nprint(id(a)) \nprint(id(b))\na[0] \u003d 5 # a의 값만 변경하였지만, a,b 둘다 같은 주소값을 참조하고 있으므로 같이 바뀜\nprint(a)\nprint(b)\nprint(b is a) # True\n\n# [:] 이용하는 복사\na \u003d [1,2,3]\nb \u003d a[:] # 리스트 전체 값을 직접 저장\nprint(id(a), a)\nprint(id(b), b)\nprint(b is a) # False\n\n# copy 모듈 이용\nfrom copy import copy\nb \u003d copy(a)\nprint(id(a), a)\nprint(id(b), b)\nprint(b is a) # False\n",
      "metadata": {
        "pycharm": {
          "metadata": false,
          "name": "#%%\n",
          "is_executing": false
        }
      }
    },
    {
      "cell_type": "markdown",
      "source": "## 변수를 만드는 여러가지 방법",
      "metadata": {
        "pycharm": {
          "metadata": false
        }
      }
    },
    {
      "cell_type": "code",
      "execution_count": 21,
      "outputs": [
        {
          "name": "stdout",
          "text": [
            "python\nlife\npythonList\nlifeList\nsame same same\nlifeList pythonList life python\n"
          ],
          "output_type": "stream"
        }
      ],
      "source": "a,b \u003d (\u0027python\u0027, \u0027life\u0027) # or a,b \u003d \u0027python\u0027, \u0027life\u0027 -- 튜플은 괄호생략 가능\nprint(a)\nprint(b)\n\n[c,d] \u003d [\u0027pythonList\u0027, \u0027lifeList\u0027]\nprint(c)\nprint(d)\n\n# 여러 개의 변수 같은 값 대입\ne \u003d f\u003d g \u003d \u0027same\u0027\nprint(e,f,g)\n\n# 서로 값 변경\na,b,c,d \u003d d,c,b,a\nprint(a,b,c,d)\n",
      "metadata": {
        "pycharm": {
          "metadata": false,
          "name": "#%%\n",
          "is_executing": false
        }
      }
    },
    {
      "cell_type": "markdown",
      "source": "연습문제 1. 변수와 객체\n- 서로 다른 주소값을 바라보는 객체이므로 False가 나옴",
      "metadata": {
        "pycharm": {
          "metadata": false
        }
      }
    },
    {
      "cell_type": "code",
      "execution_count": 22,
      "outputs": [
        {
          "data": {
            "text/plain": "False"
          },
          "metadata": {},
          "output_type": "execute_result",
          "execution_count": 22
        }
      ],
      "source": "a \u003d [1, 2, 3]\nb \u003d [1, 2, 3]\na is b",
      "metadata": {
        "pycharm": {
          "metadata": false,
          "name": "#%%\n",
          "is_executing": false
        }
      }
    },
    {
      "cell_type": "markdown",
      "source": "연습문제 2. 리스트의 더하기와 extend\n~~~\n\u003e\u003e\u003e a \u003d [1, 2, 3]\n\u003e\u003e\u003e a \u003d a + [4,5]\n\u003e\u003e\u003e a\n[1, 2, 3, 4, 5]\n~~~\n~~~\n\u003e\u003e\u003e a \u003d [1, 2, 3]\n\u003e\u003e\u003e a.extend([4, 5])\n\u003e\u003e\u003e a\n[1, 2, 3, 4, 5]\n~~~\n- +기호를 이용하여 더한것과 extend한 것의 차이점?\n---\u003e 더하기는 [4,5]리스트를 더해 새로운 리스트가 리턴됨 (a와 다른 주소값), extend는 현재 주소값이 유지가 됨",
      "metadata": {
        "pycharm": {
          "metadata": false
        }
      }
    },
    {
      "cell_type": "code",
      "execution_count": 24,
      "outputs": [
        {
          "name": "stdout",
          "text": [
            "114756168\n114802504\n114756168\n114756168\n"
          ],
          "output_type": "stream"
        }
      ],
      "source": "a \u003d [1,2,3]\nprint(id(a))\na \u003d a  + [4,5]\nprint(id(a))\n\na \u003d [1,2,3]\nprint(id(a))\na.extend([4,5])\nprint(id(a))\n\n\n",
      "metadata": {
        "pycharm": {
          "metadata": false,
          "name": "#%%\n",
          "is_executing": false
        }
      }
    }
  ],
  "metadata": {
    "language_info": {
      "codemirror_mode": {
        "name": "ipython",
        "version": 2
      },
      "file_extension": ".py",
      "mimetype": "text/x-python",
      "name": "python",
      "nbconvert_exporter": "python",
      "pygments_lexer": "ipython2",
      "version": "2.7.6"
    },
    "kernelspec": {
      "name": "python3",
      "language": "python",
      "display_name": "Python 3"
    },
    "stem_cell": {
      "cell_type": "raw",
      "source": "",
      "metadata": {
        "pycharm": {
          "metadata": false
        }
      }
    }
  },
  "nbformat": 4,
  "nbformat_minor": 0
}