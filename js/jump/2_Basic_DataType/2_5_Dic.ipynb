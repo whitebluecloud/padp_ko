{
  "cells": [
    {
      "cell_type": "markdown",
      "source": "[2-5 딕셔너리 자료형](https://wikidocs.net/16)\n\n기본적인 딕셔너리는 {key1:value1, key2:value2, key3:value3, ...}\n",
      "metadata": {
        "pycharm": {
          "metadata": false,
          "name": "#%% md\n"
        }
      }
    },
    {
      "cell_type": "code",
      "execution_count": 2,
      "outputs": [
        {
          "name": "stdout",
          "text": [
            "{\u0027name\u0027: \u0027js\u0027, \u0027age\u0027: 30, 1: \u0027abc\u0027, \u0027list\u0027: [\u0027js\u0027, 30]}\n"
          ],
          "output_type": "stream"
        }
      ],
      "source": "dic \u003d {\u0027name\u0027:\u0027js\u0027, \u0027age\u0027:30, 1:\u0027abc\u0027, \u0027list\u0027 : [\u0027js\u0027, 30]} # 타입 상관없음\n",
      "metadata": {
        "pycharm": {
          "metadata": false,
          "name": "#%%\n",
          "is_executing": false
        }
      }
    },
    {
      "cell_type": "markdown",
      "source": "딕셔너리 쌍 추가, 삭제",
      "metadata": {
        "pycharm": {
          "metadata": false
        }
      }
    },
    {
      "cell_type": "code",
      "execution_count": 6,
      "outputs": [
        {
          "name": "stdout",
          "text": [
            "{1: \u0027a\u0027, 2: \u0027k\u0027}\n"
          ],
          "output_type": "stream"
        }
      ],
      "source": "a \u003d {1:\u0027a\u0027}\na[2] \u003d \u0027b\u0027 # 딕셔너리 a에 key, value가 저장됨\na[\u0027newKey\u0027] \u003d \u0027iamValue\u0027\na[2]  \u003d \u0027k\u0027 # 딕셔너리 동일한 key 값 수정\ndel a[\u0027newKey\u0027] # newKey 삭제 (del a(key))\nprint(a)\n",
      "metadata": {
        "pycharm": {
          "metadata": false,
          "name": "#%%\n",
          "is_executing": false
        }
      }
    },
    {
      "cell_type": "markdown",
      "source": "딕셔너리 사용방법\n- 딕셔너리는 리스트, 튜플처럼 인덱싱 기법을 사용할 수 없음 a[key]로 key값에 따른 value를 가져옴\n- key에는 리스트를 사용할 수 없다.하지만, 튜플은 사용할 수 있다.\n- 딕셔너리의 key 타입은 key가 변할 수 있냐 없냐에 따라 달려 있다. (리스트는 값이 변할 수 있으니 key로 사용이 불가능)",
      "metadata": {
        "pycharm": {
          "metadata": false
        }
      }
    },
    {
      "cell_type": "code",
      "execution_count": 14,
      "outputs": [
        {
          "name": "stdout",
          "text": [
            "10\n[1, 2, 3, 4]\n"
          ],
          "output_type": "stream"
        }
      ],
      "source": "dic \u003d {\u0027pey\u0027:10, \u0027julliet\u0027:99, (1,2,3):[1,2,3,4]}\nprint(dic[\u0027pey\u0027])\nprint((dic[1,2,3]))\n",
      "metadata": {
        "pycharm": {
          "metadata": false,
          "name": "#%%\n",
          "is_executing": false
        }
      }
    },
    {
      "cell_type": "markdown",
      "source": "딕셔너리 관련 함수들\n",
      "metadata": {
        "pycharm": {
          "metadata": false
        }
      }
    },
    {
      "cell_type": "code",
      "source": "# Key\na \u003d {\u0027a\u0027:1, \u0027b\u0027:2, \u0027c\u0027:3, \u0027d\u0027:4, \u0027e\u0027:5}\nprint(a.keys()) # a의 키만 모아서 dict_keys([\u0027a\u0027, \u0027b\u0027, \u0027c\u0027, \u0027d\u0027, \u0027e\u0027]) 객체 리턴\nprint(list(a.keys()))\nfor i in a.keys():\n    print(i)\n\n# Value\nprint(a.values())\nprint(list(a.values()))\n\n# Key, Value 쌍으로\nprint(a.items())\nprint(list(a.items()))\nprint(tuple(a.items()))\n\n# get\n# [\u0027a\u0027]와 get(\u0027a\u0027)는 같은 값을 가져오지만, 해당 키가 없을 경우 [\u0027a\u0027]는 오류를 발생시키고, get은 None(거짓)을 리턴함\nprint(a[\u0027a\u0027]) \nprint(a.get(\u0027a\u0027))\n# print(a[\u0027ab\u0027]) - KeyError\nprint(a.get(\u0027ab\u0027))\nprint(a.get(\u0027ab\u0027, 12)) # Key : \u0027ab\u0027가 없을 경우 디폴트 12를 가져옴\n\n# 해당 키가 딕셔너리 안에 있는지 조사 (in)\nprint(a)\nprint(\u0027a\u0027 in a) # true\nprint(\u0027aa\u0027 in a) # false\n\n# key, value 쌍 모두 지우기\na.clear()\nprint(a)\n",
      "metadata": {
        "pycharm": {
          "metadata": false,
          "name": "#%% \n",
          "is_executing": false
        }
      },
      "execution_count": 33,
      "outputs": [
        {
          "name": "stdout",
          "text": [
            "dict_keys([\u0027a\u0027, \u0027b\u0027, \u0027c\u0027, \u0027d\u0027, \u0027e\u0027])\n[\u0027a\u0027, \u0027b\u0027, \u0027c\u0027, \u0027d\u0027, \u0027e\u0027]\na\nb\nc\nd\ne\ndict_values([1, 2, 3, 4, 5])\n[1, 2, 3, 4, 5]\ndict_items([(\u0027a\u0027, 1), (\u0027b\u0027, 2), (\u0027c\u0027, 3), (\u0027d\u0027, 4), (\u0027e\u0027, 5)])\n[(\u0027a\u0027, 1), (\u0027b\u0027, 2), (\u0027c\u0027, 3), (\u0027d\u0027, 4), (\u0027e\u0027, 5)]\n((\u0027a\u0027, 1), (\u0027b\u0027, 2), (\u0027c\u0027, 3), (\u0027d\u0027, 4), (\u0027e\u0027, 5))\n1\n1\nNone\n12\n{\u0027a\u0027: 1, \u0027b\u0027: 2, \u0027c\u0027: 3, \u0027d\u0027: 4, \u0027e\u0027: 5}\nTrue\nFalse\n{}\n"
          ],
          "output_type": "stream"
        }
      ]
    },
    {
      "cell_type": "markdown",
      "source": "연습문제 1. 딕셔너리 만들기\n - 항목  : name, birth, age",
      "metadata": {
        "pycharm": {
          "metadata": false,
          "name": "#%% md\n"
        }
      }
    },
    {
      "cell_type": "code",
      "execution_count": 35,
      "outputs": [
        {
          "name": "stdout",
          "text": [
            "{\u0027name\u0027: \u0027홍길동\u0027, \u0027birth\u0027: \u00271128\u0027, \u0027age\u0027: 30}\n"
          ],
          "output_type": "stream"
        }
      ],
      "source": "a \u003d {\u0027name\u0027:\u0027홍길동\u0027, \u0027birth\u0027:\u00271128\u0027, \u0027age\u0027:30}\nprint(a)\n",
      "metadata": {
        "pycharm": {
          "metadata": false,
          "name": "#%%\n",
          "is_executing": false
        }
      }
    },
    {
      "cell_type": "markdown",
      "source": "연습문제 2. 딕셔너리 오류가 발생하는 것은? \n~~~\na \u003d dict()\na\n{}\n~~~\n1. a[\u0027name\u0027] \u003d \u0027python\u0027\n2. a[(\u0027a\u0027,)] \u003d \u0027python\u0027\n3. a[[1]] \u003d \u0027python\u0027\n4. a[250] \u003d \u0027python\u0027\n\n-\u003e 3번 리스트는 key으로 들어갈 수 없음 (딕셔너리 key값은 변하면 안됨)",
      "metadata": {
        "pycharm": {
          "metadata": false,
          "name": "#%% md\n"
        }
      }
    },
    {
      "cell_type": "code",
      "execution_count": null,
      "outputs": [],
      "source": "",
      "metadata": {
        "pycharm": {
          "metadata": false,
          "name": "#%%\n"
        }
      }
    },
    {
      "cell_type": "markdown",
      "source": " 연습문제 3. 딕셔너리 값 추출\n- 딕셔너리의 a에서 \u0027C\u0027라는 key에 해당되는 value를 출력하는 프로그램이다.\n~~~\n\u003e\u003e\u003e a \u003d {\u0027A\u0027:90, \u0027B\u0027:80}\n\u003e\u003e\u003e a[\u0027C\u0027]\nTraceback (most recent call last):\n  File \"\u003cstdin\u003e\", line 1, in \u003cmodule\u003e\nKeyError: \u0027C\u0027\n~~~\na 딕셔너리에는 \u0027C\u0027라는 key가 없으므로 위와 같은 오류가 발생하게 된다. \n\u0027C\u0027에 해당되는 키값이 없을 경우 오류 대신 70을 얻을수 있도록 수정해 보자.",
      "metadata": {
        "pycharm": {
          "metadata": false
        }
      }
    },
    {
      "cell_type": "code",
      "execution_count": 36,
      "outputs": [
        {
          "name": "stdout",
          "text": [
            "70\n"
          ],
          "output_type": "stream"
        }
      ],
      "source": "print(a.get(\u0027C\u0027, 70))\n",
      "metadata": {
        "pycharm": {
          "metadata": false,
          "name": "#%%\n",
          "is_executing": false
        }
      }
    }
  ],
  "metadata": {
    "language_info": {
      "codemirror_mode": {
        "name": "ipython",
        "version": 2
      },
      "file_extension": ".py",
      "mimetype": "text/x-python",
      "name": "python",
      "nbconvert_exporter": "python",
      "pygments_lexer": "ipython2",
      "version": "2.7.6"
    },
    "kernelspec": {
      "name": "python3",
      "language": "python",
      "display_name": "Python 3"
    },
    "stem_cell": {
      "cell_type": "raw",
      "source": "",
      "metadata": {
        "pycharm": {
          "metadata": false
        }
      }
    }
  },
  "nbformat": 4,
  "nbformat_minor": 0
}