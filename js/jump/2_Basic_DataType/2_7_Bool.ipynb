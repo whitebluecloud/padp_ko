{
  "cells": [
    {
      "cell_type": "markdown",
      "source": "[2-7 불 자료형](https://wikidocs.net/18)\n",
      "metadata": {
        "pycharm": {
          "metadata": false,
          "name": "#%% md\n"
        }
      }
    },
    {
      "cell_type": "markdown",
      "source": "## 불 자료형이란?\n- bool은 True or False의 값을 나타내는 자료형 \n- 앞에 대문자로 사용해야함 (True, False)\n\n### 자료형의 참과 거짓\n- 각 자료형이 비어있거나 None 또는 0은 거짓\n값이 있거나, 1이면 참\n- bool 내장함수 ",
      "metadata": {
        "pycharm": {
          "metadata": false,
          "name": "#%% md\n"
        }
      }
    },
    {
      "cell_type": "code",
      "execution_count": 11,
      "outputs": [
        {
          "name": "stdout",
          "text": [
            "거짓\n참\nFalse\nTrue\n"
          ],
          "output_type": "stream"
        }
      ],
      "source": "if []:\n    print(\"참\")\nelse:\n    print(\"거짓\")\n    \nif [1,2]:\n    print(\"참\")\nelse:\n    print(\"거짓\")    \n\nprint(bool([])) # bool 내장함수로 참,거짓 식별가능\nprint(bool([1,2,3]))\n\n",
      "metadata": {
        "pycharm": {
          "metadata": false,
          "name": "#%%\n",
          "is_executing": false
        }
      }
    }
  ],
  "metadata": {
    "language_info": {
      "codemirror_mode": {
        "name": "ipython",
        "version": 2
      },
      "file_extension": ".py",
      "mimetype": "text/x-python",
      "name": "python",
      "nbconvert_exporter": "python",
      "pygments_lexer": "ipython2",
      "version": "2.7.6"
    },
    "kernelspec": {
      "name": "python3",
      "language": "python",
      "display_name": "Python 3"
    },
    "stem_cell": {
      "cell_type": "raw",
      "source": "",
      "metadata": {
        "pycharm": {
          "metadata": false
        }
      }
    }
  },
  "nbformat": 4,
  "nbformat_minor": 0
}