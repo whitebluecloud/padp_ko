{
  "cells": [
    {
      "cell_type": "markdown",
      "source": "[2-7 불 자료형](https://wikidocs.net/18)\n",
      "metadata": {
        "pycharm": {
          "metadata": false,
          "name": "#%% md\n"
        }
      }
    },
    {
      "cell_type": "code",
      "execution_count": 27,
      "outputs": [
        {
          "name": "stdout",
          "text": [
            "3string\n3\n[1, 3]\n[]\n[4, \u0027string\u0027, [1, \u0027one\u0027, [1, 2]]]\n[1, 2, 5, 10]\n[\u0027last\u0027, [5, 7], 25, \u0027start\u0027]\n2\n[4, 1, 2, 3, \u0027ab\u0027, 4, \u0027far\u0027]\n4\n[1, 2, 1, 2, 3]\n3\n[1, 2, 1, 2]\n2\n[1, 1, 2]\n4\n[1, 2, 3, 5, 6, 7]\n[1, 2, 3, 5, 6, 7, 3]\nLife is too short\n[5, 4, 3, 2, 1]\n"
          ],
          "output_type": "stream"
        }
      ],
      "source": "\n# * 연습문제 \n# 1. \n\n\n# 2. \n\n\n\n\n",
      "metadata": {
        "pycharm": {
          "metadata": false,
          "name": "#%%\n",
          "is_executing": false
        }
      }
    }
  ],
  "metadata": {
    "language_info": {
      "codemirror_mode": {
        "name": "ipython",
        "version": 2
      },
      "file_extension": ".py",
      "mimetype": "text/x-python",
      "name": "python",
      "nbconvert_exporter": "python",
      "pygments_lexer": "ipython2",
      "version": "2.7.6"
    },
    "kernelspec": {
      "name": "python3",
      "language": "python",
      "display_name": "Python 3"
    },
    "stem_cell": {
      "cell_type": "raw",
      "source": "",
      "metadata": {
        "pycharm": {
          "metadata": false
        }
      }
    }
  },
  "nbformat": 4,
  "nbformat_minor": 0
}