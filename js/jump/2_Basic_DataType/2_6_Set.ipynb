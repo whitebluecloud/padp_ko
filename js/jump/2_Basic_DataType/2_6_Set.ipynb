{
  "cells": [
    {
      "cell_type": "markdown",
      "source": "[2-6 집합 자료형](https://wikidocs.net/1015)",
      "metadata": {
        "pycharm": {
          "metadata": false,
          "name": "#%% md\n"
        }
      }
    },
    {
      "cell_type": "markdown",
      "source": "집합 자료형의 특징\n- 2.3부터 지원한 자료형으로 집합에 관련된 것들을 쉽게 처리하기 위해 만들어진 자료형\n- 중복을 허용하지 않음 (이 특징을 이용해서 중복을 제거하는 필터로 종종 사용)\n- 순서가 없어서 인덱싱이 불가능 (리스트나 튜플은 순서가 있어서 인덱싱이 가능)",
      "metadata": {
        "pycharm": {
          "metadata": false,
          "name": "#%% md\n"
        }
      }
    },
    {
      "cell_type": "code",
      "execution_count": 12,
      "outputs": [
        {
          "name": "stdout",
          "text": [
            "{1, 2, 3}\n{\u0027h\u0027, \u0027l\u0027, \u0027o\u0027, \u0027e\u0027}\n{\u00273\u0027, 1, 2, 3, 4}\n(1, 2, 3)\n[\u0027h\u0027, \u0027l\u0027, \u0027o\u0027, \u0027e\u0027]\n{\u00273\u0027, 1, 2, 3, 4}\n"
          ],
          "output_type": "stream"
        }
      ],
      "source": "s1 \u003d set([1,2,3])\ns2 \u003d set(\u0027hello\u0027)\ns3 \u003d set((1,2,3,4,\u00273\u0027))\nprint(s1)\nprint(s2)\nprint(s3)\n\nt1 \u003d tuple(s1)\nt2 \u003d list(s2)\nt3 \u003d str(s3)\nprint(t1)\nprint(t2)\nprint(t3)\n",
      "metadata": {
        "pycharm": {
          "metadata": false,
          "name": "#%%\n",
          "is_executing": false
        }
      }
    },
    {
      "cell_type": "markdown",
      "source": "교집합, 합집합, 차집합 구하기",
      "metadata": {
        "pycharm": {
          "metadata": false,
          "name": "#%% md\n"
        }
      }
    },
    {
      "cell_type": "code",
      "execution_count": 21,
      "outputs": [
        {
          "name": "stdout",
          "text": [
            "{4, 5, 6}\n{4, 5, 6}\n{1, 2, 3, 4, 5, 6, 7, 8, 9}\n{1, 2, 3, 4, 5, 6, 7, 8, 9}\n{1, 2, 3}\n{1, 2, 3}\n{8, 9, 7}\n"
          ],
          "output_type": "stream"
        }
      ],
      "source": "s1 \u003d set([1,2,3,4,5,6])\ns2 \u003d set([4,5,6,7,8,9])\n\nprint(s1 \u0026 s2) #교집합\nprint(s1.intersection(s2)) #교집합\nprint(s1 | s2) #합집합(중복제거)\nprint(s1.union(s2)) #합집합\nprint(s1-s2) #차집합\nprint(s1.difference(s2))\nprint(s2-s1) #차집합\nprint(s2.difference(s1))\n",
      "metadata": {
        "pycharm": {
          "metadata": false,
          "name": "#%%\n",
          "is_executing": false
        }
      }
    },
    {
      "cell_type": "markdown",
      "source": "집합 자료형 관련 함수들",
      "metadata": {
        "pycharm": {
          "metadata": false
        }
      }
    },
    {
      "cell_type": "code",
      "execution_count": 26,
      "outputs": [
        {
          "name": "stdout",
          "text": [
            "{1, 2, 3, 4}\n{1, 2, 3, 4, 8, 9, 10}\n{1, 2, 3, 4, 9, 10}\n"
          ],
          "output_type": "stream"
        },
        {
          "traceback": [
            "\u001b[1;31m---------------------------------------------------------------------------\u001b[0m",
            "\u001b[1;31mTypeError\u001b[0m                                 Traceback (most recent call last)",
            "\u001b[1;32m\u003cipython-input-26-39b924b0170c\u003e\u001b[0m in \u001b[0;36m\u003cmodule\u003e\u001b[1;34m\u001b[0m\n\u001b[0;32m      6\u001b[0m \u001b[0ms1\u001b[0m\u001b[1;33m.\u001b[0m\u001b[0mremove\u001b[0m\u001b[1;33m(\u001b[0m\u001b[1;36m8\u001b[0m\u001b[1;33m)\u001b[0m\u001b[1;33m\u001b[0m\u001b[1;33m\u001b[0m\u001b[0m\n\u001b[0;32m      7\u001b[0m \u001b[0mprint\u001b[0m\u001b[1;33m(\u001b[0m\u001b[0ms1\u001b[0m\u001b[1;33m)\u001b[0m\u001b[1;33m\u001b[0m\u001b[1;33m\u001b[0m\u001b[0m\n\u001b[1;32m----\u003e 8\u001b[1;33m \u001b[0ms1\u001b[0m\u001b[1;33m.\u001b[0m\u001b[0mremove\u001b[0m\u001b[1;33m(\u001b[0m\u001b[1;36m1\u001b[0m\u001b[1;33m,\u001b[0m\u001b[1;36m2\u001b[0m\u001b[1;33m,\u001b[0m\u001b[1;36m3\u001b[0m\u001b[1;33m)\u001b[0m\u001b[1;33m\u001b[0m\u001b[1;33m\u001b[0m\u001b[0m\n\u001b[0m\u001b[0;32m      9\u001b[0m \u001b[0mprint\u001b[0m\u001b[1;33m(\u001b[0m\u001b[0ms1\u001b[0m\u001b[1;33m)\u001b[0m\u001b[1;33m\u001b[0m\u001b[1;33m\u001b[0m\u001b[0m\n",
            "\u001b[1;31mTypeError\u001b[0m: remove() takes exactly one argument (3 given)"
          ],
          "ename": "TypeError",
          "evalue": "remove() takes exactly one argument (3 given)",
          "output_type": "error"
        }
      ],
      "source": "s1 \u003d set([1,2,3])\ns1.add(4) # 값 1개 추가\nprint(s1)\ns1.update((2,3,10,9,8)) # 값 여러개 추가\nprint(s1)\ns1.remove(8) # 특정 값 제거\nprint(s1)",
      "metadata": {
        "pycharm": {
          "metadata": false,
          "name": "#%%\n",
          "is_executing": false
        }
      }
    },
    {
      "cell_type": "markdown",
      "source": "연습문제 1. 집합의 중복\n- 중복을 허용하지 않는 집합 자료형의 특징을 이용하여 다음 a 리스트에서 중복된 숫자들을 제거해 보자.",
      "metadata": {
        "pycharm": {
          "metadata": false
        }
      }
    },
    {
      "cell_type": "code",
      "execution_count": 32,
      "outputs": [
        {
          "name": "stdout",
          "text": [
            "[1, 2, 3, 4, 5]\n"
          ],
          "output_type": "stream"
        }
      ],
      "source": "a\u003d  [1,1,1,2,2,3,3,3,4,4,5]\nprint(list(set(a)))",
      "metadata": {
        "pycharm": {
          "metadata": false,
          "name": "#%%\n",
          "is_executing": false
        }
      }
    },
    {
      "cell_type": "markdown",
      "source": "연습문제 2. 집합 만들기\n- 집합 자료형은 다음과 같이 만들 수 있다.\n~~~\n\u003e\u003e\u003e a \u003d {\u0027a\u0027, \u0027b\u0027, \u0027c\u0027}\n\u003e\u003e\u003e a\n{\u0027a\u0027, \u0027b\u0027, \u0027c\u0027}\n\u003e\u003e\u003e type(a)\n\u003cclass \u0027set\u0027\u003e\n~~~\n- 값이 하나도 없는 비어있는 set을 만들기 위해 다음과 같이 시도 해 보자.\n~~~\n\u003e\u003e\u003e a \u003d {}\n\u003e\u003e\u003e type(a)\n\u003cclass \u0027dict\u0027\u003e\n~~~\n- 위와 같이 값이 있을 경우에는 집합 자료형으로 인식했지만 값이 없을경우에는 딕셔너리로 인식하게 된다. 그렇다면 값이 비어있는 집합 자료형은 어떻게 만들 수 있을까?",
      "metadata": {
        "pycharm": {
          "metadata": false
        }
      }
    },
    {
      "cell_type": "code",
      "execution_count": 31,
      "outputs": [
        {
          "name": "stdout",
          "text": [
            "set()\n\u003cclass \u0027set\u0027\u003e\n{1}\n"
          ],
          "output_type": "stream"
        }
      ],
      "source": "a \u003d set() # 비어있는 set\nprint(a)\nprint(type(a))\na.add(1)\nprint(a)",
      "metadata": {
        "pycharm": {
          "metadata": false,
          "name": "#%%\n",
          "is_executing": false
        }
      }
    }
  ],
  "metadata": {
    "language_info": {
      "codemirror_mode": {
        "name": "ipython",
        "version": 2
      },
      "file_extension": ".py",
      "mimetype": "text/x-python",
      "name": "python",
      "nbconvert_exporter": "python",
      "pygments_lexer": "ipython2",
      "version": "2.7.6"
    },
    "kernelspec": {
      "name": "python3",
      "language": "python",
      "display_name": "Python 3"
    },
    "stem_cell": {
      "cell_type": "raw",
      "source": "",
      "metadata": {
        "pycharm": {
          "metadata": false
        }
      }
    }
  },
  "nbformat": 4,
  "nbformat_minor": 0
}