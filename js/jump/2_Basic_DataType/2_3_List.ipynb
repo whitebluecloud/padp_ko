{
  "cells": [
    {
      "cell_type": "markdown",
      "source": "[2-3 리스트 자료형](https://wikidocs.net/14)\n",
      "metadata": {
        "pycharm": {
          "metadata": false,
          "name": "#%% md\n"
        }
      }
    },
    {
      "cell_type": "code",
      "execution_count": 27,
      "outputs": [
        {
          "name": "stdout",
          "text": [
            "3string\n3\n[1, 3]\n[]\n[4, \u0027string\u0027, [1, \u0027one\u0027, [1, 2]]]\n[1, 2, 5, 10]\n[\u0027last\u0027, [5, 7], 25, \u0027start\u0027]\n2\n[4, 1, 2, 3, \u0027ab\u0027, 4, \u0027far\u0027]\n4\n[1, 2, 1, 2, 3]\n3\n[1, 2, 1, 2]\n2\n[1, 1, 2]\n4\n[1, 2, 3, 5, 6, 7]\n[1, 2, 3, 5, 6, 7, 3]\nLife is too short\n[5, 4, 3, 2, 1]\n"
          ],
          "output_type": "stream"
        }
      ],
      "source": "a \u003d [1,2,3]\n# 다른타입을 서로 더할땐 바꿔줘야함\nprint(str(a[2]) + \"string\") \nprint(a[0] + int(\"2\"))\n\n# 삭제\ndel a[1]  \nprint(a)\ndel a[0:]\nprint(a)\n\n# 추가\na.append(4)\na.append(\"string\")\na.append([1,\"one\",[1,2]]) # 어떤 자료형도 가능\nprint(a)\n\n# 정렬\nb \u003d [2,1,10,5]\nb.sort()\nprint(b)\n\n# 뒤집기\nc \u003d [\u0027start\u0027, 25, [5,7], \u0027last\u0027]\nc.reverse()\nprint(c)\n\n# 위치 반환 (index)\na \u003d [1,2,3]\nprint(a.index(3))\n\n# 요소 삽입\na \u003d [1,2,3,4]\na.insert(0,4)\na.insert(10,\u0027far\u0027)\na.insert(4,\u0027ab\u0027)\nprint(a)\nprint(a.index(\u0027ab\u0027))\n\n# 리스트 요소 제거 \naa \u003d [1,2,3,1,2,3]\naa.remove(3) # 첫번째로 나오는 3만 제거\nprint(aa)\n\n# 리스트 요소 꺼내기 (pop) \nprint(aa.pop()) # 마지막 요소를 꺼냄\nprint(aa) # 마지막이 빠짐\nprint(aa.pop(1)) # 인덱스 1번째 요소를 꺼냄\nprint(aa) # 1번째 요소 빠짐\n\n# 리스트에 포함된 요소 x의 개수 세기 (count)\na \u003d [1,2,3,4,1,1,1]\nprint(a.count(1)) # 1이 4개이므로 4개출력\n\n# 리스트 확장\na \u003d [1,2,3]\na.extend([5,6,7])\nprint(a)\na.extend([3])\nprint(a)\n\n\n# * 연습문제 \n# 1. 리스트 조인 \n#   [\u0027Life\u0027, \u0027is\u0027, \u0027too\u0027, \u0027short\u0027] 라는 리스트를 Life is too short라는 문자열로 만들어 출력해 보자.\nstrList \u003d [\u0027Life\u0027, \u0027is\u0027, \u0027too\u0027, \u0027short\u0027]\nprint(\" \".join(strList))\n\n# 2. 리스트 정렬\n#   [1, 3, 5, 4, 2]라는 리스트를 [5, 4, 3, 2, 1]로 만들어보자.\nsortList \u003d [1,3,5,4,2]\nsortList.sort()\nsortList.reverse()\nprint(sortList)\n",
      "metadata": {
        "pycharm": {
          "metadata": false,
          "name": "#%%\n",
          "is_executing": false
        }
      }
    }
  ],
  "metadata": {
    "language_info": {
      "codemirror_mode": {
        "name": "ipython",
        "version": 2
      },
      "file_extension": ".py",
      "mimetype": "text/x-python",
      "name": "python",
      "nbconvert_exporter": "python",
      "pygments_lexer": "ipython2",
      "version": "2.7.6"
    },
    "kernelspec": {
      "name": "python3",
      "language": "python",
      "display_name": "Python 3"
    },
    "stem_cell": {
      "cell_type": "raw",
      "source": "",
      "metadata": {
        "pycharm": {
          "metadata": false
        }
      }
    }
  },
  "nbformat": 4,
  "nbformat_minor": 0
}