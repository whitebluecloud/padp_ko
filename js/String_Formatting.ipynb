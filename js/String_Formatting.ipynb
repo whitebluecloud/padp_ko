{
  "cells": [
    {
      "cell_type": "markdown",
      "source": "### 1.9.1 String Formatting (문자열 서식)\nWe have already seen that the print function provides a very simple way to output values from a Python program. \n~~~\n우리는 이미 알고있다 / 그 출력 함수는 매우 단순한 방법을 제공한다는 것을 / 파이썬 프로그램으로부터 값을 출력하는\n(우리는 이미 그 출력함수는 파이썬 프로그램부터부터 값을 출력하는 매우 단순한 방법을 제공한다는 것을 알고 있다.)\n~~~\nprint takes zero or more parameters and displays them using a single blank as the default separator. \n~~~\nprint는 0개 또는 그 이상의 파라미터를 받는다 그리고 그것들을 표현한다 / 하나의 빈칸을 사용하여 / 기본 선별기로서 \n~~~\nIt is possible to change the separator character by setting the sep argument. \n~~~\n구분 문자를 바꿀 수 있다 / sep 인수를 설정함으로써\n~~~\nIn addition, each print ends with a newline character by default. \n~~~\n게다가, 각 print는 기본적으로 새로운 줄의 문자로 끝난다.\n~~~\nThis behavior can be changed by setting the end argument.\n~~~\n이러한 행동은 변경될 수 있다 / end 인자를 설정함으로써\n~~~ \nThese variations are shown in the following session\n~~~\n이러한 변형은 보여진다 / 다음 세션에서\n~~~\n",
      "metadata": {
        "pycharm": {
          "metadata": false,
          "name": "#%% md\n"
        }
      }
    },
    {
      "cell_type": "code",
      "execution_count": 5,
      "outputs": [
        {
          "name": "stdout",
          "text": [
            "Hello\nHello World\nHello***World\nHello***World***sep?\nHello World end?***"
          ],
          "output_type": "stream"
        }
      ],
      "source": "print(\"Hello\")\nprint(\"Hello\", \"World\")\nprint(\"Hello\", \"World\", sep\u003d\"***\")\nprint(\"Hello\", \"World\", \"sep?\", sep\u003d\"***\")\nprint(\"Hello\", \"World\", \"end?\", end\u003d\"***\")\n",
      "metadata": {
        "pycharm": {
          "metadata": false,
          "name": "#%% \n",
          "is_executing": false
        }
      }
    },
    {
      "cell_type": "markdown",
      "source": "It is often useful to have more control over the look of your output.\n~~~\n종종 유용하다 / 더욱 통제하는 것이 너의 결과에 대해서\n~~~ \nFortunately, Python provides us with an alternative called formatted strings.\n~~~\n다행히도, 파이썬은 우리에게 제공한다 / formatted stgring 이라 불리는 대안책을 제공한다.\n~~~ \nA formatted string is a template in which words or spaces that will remain constant are combined with placeholders for variables that will be inserted into the string. \n~~~\nformatted string은 템플릿이다 / 단어 또는 공백 (일정하게 유지될)이 변수들을 위한 자리표시자와 결합되어진다 / 문자열로 삽입되어질\n(formatted string은 일정하게 유지되어질 단어 또는 공백이 문자열로 삽입되어질 변수들을 위한 자리표시자와 결합되어진다)\n~~~\nFor example, the statement\n예를 들어, 그 문장\n",
      "metadata": {
        "pycharm": {
          "metadata": false,
          "name": "#%% md\n"
        }
      }
    },
    {
      "cell_type": "code",
      "execution_count": 6,
      "outputs": [
        {
          "name": "stdout",
          "text": [
            "jongseon is 30 years old.\n"
          ],
          "output_type": "stream"
        }
      ],
      "source": "aName \u003d \"jongseon\"\nage \u003d 30\nprint(aName, \"is\", age, \"years old.\")\n",
      "metadata": {
        "pycharm": {
          "metadata": false,
          "name": "#%% \n",
          "is_executing": false
        }
      }
    },
    {
      "cell_type": "markdown",
      "source": "contains the words is and years old, \n~~~\nis와 years old를 포함한다.\n~~~\nbut the name and the age will change depending on the variable values at the time of execution. \n~~~\n하지만 이름와 나이는 바뀔것이이다 / 실행 시간에서의 변수 값에 따라서 \n~~~\nUsing a formatted string, we write the previous statement as\n~~~\nformatted string을 사용하여, 우리는 이전의 문장을 ~로 쓴다\n~~~\n",
      "metadata": {
        "pycharm": {
          "metadata": false,
          "name": "#%% md\n"
        }
      }
    },
    {
      "cell_type": "code",
      "execution_count": 7,
      "outputs": [
        {
          "name": "stdout",
          "text": [
            "jongseon is 30 years old.\n"
          ],
          "output_type": "stream"
        }
      ],
      "source": "print(\"%s is %d years old.\" % (aName, age))\n",
      "metadata": {
        "pycharm": {
          "metadata": false,
          "name": "#%% \n",
          "is_executing": false
        }
      }
    },
    {
      "cell_type": "markdown",
      "source": "This simple example illustrates a new string expression. \nThe % operator is a string operator called the format operator. \nThe left side of the expression holds the template or format string, and the right side holds a collection of values that will be substituted into the format string. \nNote that the number of values in the collection on the right side corresponds with the number of % characters in the format string. \nValues are taken—in order, left to right—from the collection and inserted into the format string.\n\nLet’s look at both sides of this formatting expression in more detail. \nThe format string may contain one or more conversion specifications. \nA conversion character tells the format operator what type of value is going to be inserted into that position in the string. \nIn the example above, the %s specifies a string, while the %d specifies an integer. \nOther possible type specifications include i, u, f, e, g, c, or %. \nTable 9 summarizes all of the various type specifications.\n\n[Table 9](http://interactivepython.org/courselib/static/pythonds/Introduction/InputandOutput.html#tab-fmta)\n\nIn addition to the format character, you can also include a format modifier between the % and the format character. \nFormat modifiers may be used to left-justify or right-justifiy the value with a specified field width. \nModifiers can also be used to specify the field width along with a number of digits after the decimal point. \nTable 10 explains these format modifiers\n\n[Table 10](http://interactivepython.org/courselib/static/pythonds/Introduction/InputandOutput.html#tab-fmtaddsa)\n\nThe right side of the format operator is a collection of values that will be inserted into the format string. \nThe collection will be either a tuple or a dictionary. If the collection is a tuple, the values are inserted in order of position. \nThat is, the first element in the tuple corresponds to the first format character in the format string. \nIf the collection is a dictionary, the values are inserted according to their keys. \nIn this case all format characters must use the (name) modifier to specify the name of the key.\n",
      "metadata": {
        "pycharm": {
          "metadata": false,
          "name": "#%% md\n"
        }
      }
    },
    {
      "cell_type": "code",
      "execution_count": null,
      "outputs": [],
      "source": "price \u003d 24\n",
      "metadata": {
        "pycharm": {
          "metadata": false,
          "name": "#%% \n"
        }
      }
    },
    {
      "cell_type": "markdown",
      "source": "In addition to format strings that use format characters and format modifiers, \nPython strings also include a format method that can be used in conjunction with a new Formatter class to implement complex string formatting. \nMore about these features can be found in the Python library reference manual.\n",
      "metadata": {
        "pycharm": {
          "metadata": false,
          "name": "#%% md\n"
        }
      }
    }
  ],
  "metadata": {
    "language_info": {
      "codemirror_mode": {
        "name": "ipython",
        "version": 2
      },
      "file_extension": ".py",
      "mimetype": "text/x-python",
      "name": "python",
      "nbconvert_exporter": "python",
      "pygments_lexer": "ipython2",
      "version": "2.7.6"
    },
    "kernelspec": {
      "name": "python3",
      "language": "python",
      "display_name": "Python 3"
    },
    "stem_cell": {
      "cell_type": "raw",
      "source": "",
      "metadata": {
        "pycharm": {
          "metadata": false
        }
      }
    }
  },
  "nbformat": 4,
  "nbformat_minor": 0
}