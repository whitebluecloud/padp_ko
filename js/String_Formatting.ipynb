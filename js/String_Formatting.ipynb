{
  "cells": [
    {
      "cell_type": "markdown",
      "source": "### 1.9.1 String Formatting (문자열 서식)\nWe have already seen that the print function provides a very simple way to output values from a Python program. \n~~~\n우리는 이미 알고있다 / 그 출력 함수는 매우 단순한 방법을 제공한다는 것을 / 파이썬 프로그램으로부터 값을 출력하는\n(우리는 이미 그 출력함수는 파이썬 프로그램부터부터 값을 출력하는 매우 단순한 방법을 제공한다는 것을 알고 있다.)\n~~~\nprint takes zero or more parameters and displays them using a single blank as the default separator. \n~~~\nprint는 0개 또는 그 이상의 파라미터를 받는다 그리고 그것들을 표현한다 / 하나의 빈칸을 사용하여 / 기본 선별기로서 \n~~~\nIt is possible to change the separator character by setting the sep argument. \n~~~\n구분 문자를 바꿀 수 있다 / sep 인수를 설정함으로써\n~~~\nIn addition, each print ends with a newline character by default. \n~~~\n게다가, 각 print는 기본적으로 새로운 줄의 문자로 끝난다.\n~~~\nThis behavior can be changed by setting the end argument.\n~~~\n이러한 행동은 변경될 수 있다 / end 인자를 설정함으로써\n~~~ \nThese variations are shown in the following session\n~~~\n이러한 변형은 보여진다 / 다음 세션에서\n~~~\n",
      "metadata": {
        "pycharm": {
          "metadata": false,
          "name": "#%% md\n"
        }
      }
    },
    {
      "cell_type": "code",
      "execution_count": 5,
      "outputs": [
        {
          "name": "stdout",
          "text": [
            "Hello\nHello World\nHello***World\nHello***World***sep?\nHello World end?***"
          ],
          "output_type": "stream"
        }
      ],
      "source": "print(\"Hello\")\nprint(\"Hello\", \"World\")\nprint(\"Hello\", \"World\", sep\u003d\"***\")\nprint(\"Hello\", \"World\", \"sep?\", sep\u003d\"***\")\nprint(\"Hello\", \"World\", \"end?\", end\u003d\"***\")\n",
      "metadata": {
        "pycharm": {
          "metadata": false,
          "name": "#%% \n",
          "is_executing": false
        }
      }
    },
    {
      "cell_type": "markdown",
      "source": "It is often useful to have more control over the look of your output.\n~~~\n종종 유용하다 / 더욱 통제하는 것이 너의 결과에 대해서\n~~~ \nFortunately, Python provides us with an alternative called formatted strings.\n~~~\n다행히도, 파이썬은 우리에게 제공한다 / formatted stgring 이라 불리는 대안책을 제공한다.\n~~~ \nA formatted string is a template in which words or spaces that will remain constant are combined with placeholders for variables that will be inserted into the string. \n~~~\nformatted string은 템플릿이다 / 단어 또는 공백 (일정하게 유지될)이 변수들을 위한 자리표시자와 결합되어진다 / 문자열로 삽입되어질\n(formatted string은 일정하게 유지되어질 단어 또는 공백이 문자열로 삽입되어질 변수들을 위한 자리표시자와 결합되어진다)\n~~~\nFor example, the statement\n예를 들어, 그 문장\n",
      "metadata": {
        "pycharm": {
          "metadata": false,
          "name": "#%% md\n"
        }
      }
    },
    {
      "cell_type": "code",
      "execution_count": 6,
      "outputs": [
        {
          "name": "stdout",
          "text": [
            "jongseon is 30 years old.\n"
          ],
          "output_type": "stream"
        }
      ],
      "source": "aName \u003d \"jongseon\"\nage \u003d 30\nprint(aName, \"is\", age, \"years old.\")\n",
      "metadata": {
        "pycharm": {
          "metadata": false,
          "name": "#%% \n",
          "is_executing": false
        }
      }
    },
    {
      "cell_type": "markdown",
      "source": "contains the words is and years old, \n~~~\nis와 years old를 포함한다.\n~~~\nbut the name and the age will change depending on the variable values at the time of execution. \n~~~\n하지만 이름와 나이는 바뀔것이이다 / 실행 시간에서의 변수 값에 따라서 \n~~~\nUsing a formatted string, we write the previous statement as\n~~~\nformatted string을 사용하여, 우리는 이전의 문장을 ~로 쓴다\n~~~\n",
      "metadata": {
        "pycharm": {
          "metadata": false,
          "name": "#%% md\n"
        }
      }
    },
    {
      "cell_type": "code",
      "execution_count": 7,
      "outputs": [
        {
          "name": "stdout",
          "text": [
            "jongseon is 30 years old.\n"
          ],
          "output_type": "stream"
        }
      ],
      "source": "print(\"%s is %d years old.\" % (aName, age))\n",
      "metadata": {
        "pycharm": {
          "metadata": false,
          "name": "#%% \n",
          "is_executing": false
        }
      }
    },
    {
      "cell_type": "markdown",
      "source": "This simple example illustrates a new string expression. \n~~~\n이 단순한 예는 새로운 문자열 표현식을 보여준다.\n~~~\nThe % operator is a string operator called the format operator. \n~~~\n% 연산자는 string 연산자이다 / format 연산자라고 불리는\n~~~\nThe left side of the expression holds the template or format string, and the right side holds a collection of values that will be substituted into the format string. \n~~~\n표현식의 왼쪽은 템플릿 또는 문자열 포맷을 가지고 오른쪽은 format string 으로 대체되어질 값들의 콜랙션이 있다. \n~~~\nNote that the number of values in the collection on the right side corresponds with the number of % characters in the format string. \n~~~\n오른쪽 콜랙션 안에 있는 값들의 수는 format string의 % 문자 수와 일치함을 주의하라\n~~~\nValues are taken—in order, left to right—from the collection and inserted into the format string.\n~~~\n값들은 순서대로 취한다, 콜랙션에서의 왼쪽에서 오른쪽까지 / 그리고 format string에 삽입한다.\n(값들은 콜랙션 왼쪽에서 오른쪽까지 순서대로 취하고 format string에 삽입한다) \n~~~\n\nLet’s look at both sides of this formatting expression in more detail. \n~~~\n이러한 formatting 표현의 양측면을 자세히 보자\n~~~\nThe format string may contain one or more conversion specifications. \n~~~\nformat string은 1개 또는 그 이상의 변환 규격들을 포함할지도 모른다\n~~~\nA conversion character tells the format operator what type of value is going to be inserted into that position in the string. \n~~~\n변환 문자는 format 연산자에게 알려준다 / 어떤 유형의 값이 문자열에서 그 위치로 삽입되어질 것인지를\n~~~\nIn the example above, the %s specifies a string, while the %d specifies an integer. \n~~~\n위의 그 예에서, %s는 문자열을 지정하는 반면에 %d는 정수를 지정한다.\n~~~\nOther possible type specifications include i, u, f, e, g, c, or %. \n~~~\n다른 가능한 타입의 규격에는 i, u, f, e, g, c, 또는 %가 포함된다.\n~~~\nTable 9 summarizes all of the various type specifications.\n~~~\nTable 9는 모든 다양한 유형의 규격들을 요약한다.\n~~~\n\n[Table 9](http://interactivepython.org/courselib/static/pythonds/Introduction/InputandOutput.html#tab-fmta)\n\nIn addition to the format character, you can also include a format modifier between the % and the format character. \n~~~\n형식 문자 외에, 너는 또한 형식 수식어를 포함할 수도 있다. / %와 형식 문자 사이에 \n~~~\nFormat modifiers may be used to left-justify or right-justifiy the value with a specified field width.\n~~~\n형식 수식어는 사용될지도 모른다 / 왼쪽에서 또는 오른쪽에서 구체적인 필드 너비와 함께 값을 맞추는데 \n~~~ \nModifiers can also be used to specify the field width along with a number of digits after the decimal point. \n~~~\n수식어는 또한 사용될 수 있다 / 소수점 후에 많은 숫자와 마찬가지로 필드 너비를 지정하기 위해 \n~~~\nTable 10 explains these format modifiers\n~~~\nTable 10은 이러한 형식 수식어를 설명한다.\n~~~\n[Table 10](http://interactivepython.org/courselib/static/pythonds/Introduction/InputandOutput.html#tab-fmtaddsa)\n\nThe right side of the format operator is a collection of values that will be inserted into the format string. \n~~~\n형식 연산자의 오른쪽은 콜랙션이다 / 형식 문자열로 삽입되어질 값들의\n~~~\nThe collection will be either a tuple or a dictionary. \n~~~\n그 컬랙션은 튜플이나 딕셔너리일 것이다.\n~~~\nIf the collection is a tuple, the values are inserted in order of position. \n~~~\n만약 그 컬렉션이 튜플이라면, 그 값들은 값들은 위치 순서대로 삽입되어진다.\n~~~\nThat is, the first element in the tuple corresponds to the first format character in the format string. \n~~~\n즉, 그 첫번째 요소 (튜플에서)는 형식 문자열에서 첫번째 형식 문자에 일치한다.\n~~~\nIf the collection is a dictionary, the values are inserted according to their keys. \n~~~\n만약 그 컬렉션이 딕셔너리라면, 그 값들은 그들의 키 값들에 따라 삽입되어진다.\n~~~\nIn this case all format characters must use the (name) modifier to specify the name of the key.\n~~~\n이런 경우 모든 형식 문자열들은 반드시 (name) 수식어를 사용해야만 한다 / 키의 이름을 명시하기 위해\n~~~",
      "metadata": {
        "pycharm": {
          "metadata": false,
          "name": "#%% md\n"
        }
      }
    },
    {
      "cell_type": "code",
      "execution_count": 6,
      "outputs": [
        {
          "name": "stdout",
          "text": [
            "The banana costs 24 cents\nThe     banana costs 24.00 cents\nThe banana costs    24.0 cents\n"
          ],
          "output_type": "stream"
        }
      ],
      "source": "price \u003d 24\nitem \u003d \"banana\"\nprint(\"The %s costs %d cents\" %(item, price))\nprint(\"The %+10s costs %5.2f cents\"%(item,price))\nitemdict \u003d {\"item\": \"banana\", \"cost\":24}\nprint(\"The %(item)s costs %(cost)7.1f cents\"%itemdict)",
      "metadata": {
        "pycharm": {
          "metadata": false,
          "name": "#%% \n",
          "is_executing": false
        }
      }
    },
    {
      "cell_type": "markdown",
      "source": "In addition to format strings that use format characters and format modifiers, \n~~~\n형식 문자 (형식 문자열과 형식 수식어를 사용하는) 외에도 , \n~~~\nPython strings also include a format method that can be used in conjunction with a new Formatter class to implement complex string formatting. \n~~~\n파이썬 문자열은 또한 format 메소드를 포함한다 / 결합하여 사용될 수 있는 / 새로운 Formatter 클래스와 함께 / 복잡한 문자열 서식을 구현하기 위한\n(파이썬 문자열은 복잡한 문자열 서식을 구현하기 위한 새로운 Formatter 클래스와 함께 결합하여 사용될 수 있는 format 메소들르 포함한다)\n~~~\nMore about these features can be found in the Python library reference manual.\n~~~\n이러한 기능들에 대해 더 많은 것은 파이선 라이브러리 참조 메뉴얼에서 발견될 수 있다.\n~~\n",
      "metadata": {
        "pycharm": {
          "metadata": false,
          "name": "#%% md\n"
        }
      }
    }
  ],
  "metadata": {
    "language_info": {
      "codemirror_mode": {
        "name": "ipython",
        "version": 2
      },
      "file_extension": ".py",
      "mimetype": "text/x-python",
      "name": "python",
      "nbconvert_exporter": "python",
      "pygments_lexer": "ipython2",
      "version": "2.7.6"
    },
    "kernelspec": {
      "name": "python3",
      "language": "python",
      "display_name": "Python 3"
    },
    "stem_cell": {
      "cell_type": "raw",
      "source": "",
      "metadata": {
        "pycharm": {
          "metadata": false
        }
      }
    }
  },
  "nbformat": 4,
  "nbformat_minor": 0
}