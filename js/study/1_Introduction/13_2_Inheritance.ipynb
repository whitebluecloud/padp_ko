{
  "cells": [
    {
      "cell_type": "markdown",
      "metadata": {
        "collapsed": true,
        "pycharm": {
          "name": "#%% md\n"
        }
      },
      "source": "### 1.13_2  Inheritance: Logic Gates and Circuits\n\nOur final section will introduce another important aspect of object-oriented programming. \nInheritance is the ability for one class to be related to another class in much the same way that people can be related to one another. \nChildren inherit characteristics from their parents. Similarly, \nPython child classes can inherit characteristic data and behavior from a parent class. \nThese classes are often referred to as subclasses and superclasses.\n~~~\n우리의 마지막 섹션은 객체 지향 프로그래밍의 또 다른 중요한 측면을 소개할 것이다.\n상속은 한 클래스와 다른 클래스와 연관이 있는 능력을 말한다. 그리고 그것은 사람들이 서로 연관될 수 있다는 것과 거의 같은방식이다\n아이들은 그들의 부모로 부터 특성을 물려받는다. 유사하게,\n파이썬 자식 클래스는 부모 클래스로부터 특징적인 데이터와 행동을 상속받을 수 있다\n이러한 클래스들은 종종 하위 클래스 그리고 슈퍼 클래스로써 언급된다\n~~~\n[Figure 8](http://interactivepython.org/courselib/static/pythonds/_images/inheritance1.png) shows the built-in Python collections and their relationships to one another. \nWe call a relationship structure such as this an inheritance hierarchy. \nFor example, the list is a child of the sequential collection. \nIn this case, we call the list the child and the sequence the parent (or subclass list and superclass sequence). \nThis is often referred to as an IS-A Relationship (the list IS-A sequential collection). \nThis implies that lists inherit important characteristics from sequences, \nnamely the ordering of the underlying data and operations such as concatenation, repetition, and indexing.\n~~~\n그림 8은 내장된 파이썬 컬랙션과 그들의 관계 (서로에 대한)를 보여준다.\n우리는 이거와 같은 관계 구조를 상속 계층 구조라고 부른다.\n예를 들어, 리스트는 sequential 콜렉션의 자식이다.\n이러한 경우, 우리는 리스트를 자식이라고 하고, 시퀀스를 부모(또는 하위 클래스 리스트 그리고 슈퍼 클래스 시퀀스)로 언급된다\n이것은 종종 IS-A 관계 (리스트 IS-A 시퀀셜 컬랙션)로써 언급된다\n이것은 암시한다 / 리스트가 시퀀스로 부터 중요한 특성, \n즉, 다시말해 연계, 반복, 색인화와 같은 기본적인 데이터와 연산의 순서를 상속받는다는 것을\n~~~\nLists, tuples, and strings are all types of sequential collections. \nThey all inherit common data organization and operations. \nHowever, each of them is distinct based on whether the data is homogeneous and whether the collection is immutable. \nThe children all gain from their parents but distinguish themselves by adding additional characteristics.\n~~~\n리스트, 튜플, 문자열은 모두 시퀀셜 컬랙션 타입들이다.\n그것들은 모두 공통적인 데이터 조직과 연산을 상속받는다\n하지만, 그들 각각은 데이터의 동질성 여부와 컬렉션의 불변성의 여부에 따라 구별되어진다\n자식들은 모두 그들의 부모로 부터 얻지만, 추가적인 특성들을 더함으로써 그들 자신을 구별한다\n~~~\nBy organizing classes in this hierarchical fashion, \nobject-oriented programming languages allow previously written code to be extended to meet the needs of a new situation. \nIn addition, by organizing data in this hierarchical manner, we can better understand the relationships that exist. \nWe can be more efficient in building our abstract representations.\n~~~\n이런 계층적인 방식에서 클래스들을 구성함으로써, \n객체 지향 프로그래밍 언어들은 이전에 작성된 코드가 새로운 상황의 요구를 충족시킬 수 있도록 상속되어지기를 허락 한다.\n게다가, 이러한 계층적 방식에서 데이터를 구성함으로써, 우리는 더욱 잘 이해할 수 있다 / 존재하는 관계들을\n우리는 우리의 추상적 표현을 만듬으로써 더욱 효율적일 수 있다\n~~~\nTo explore this idea further, we will construct a simulation, an application to simulate digital circuits. \nThe basic building block for this simulation will be the logic gate. \nThese electronic switches represent boolean algebra relationships between their input and their output. \nIn general, gates have a single output line. The value of the output is dependent on the values given on the input lines.\n~~~\n이러한 아이디어를 더욱 탐구하기 위해, 우리는 시뮬레이션을 구축할 것이다, 디지털 회로를 시뮬레이션하는 애플리케이션을\n이 시뮬레이션을 위한 기본적인 구성 요소는 논리 게이트가 될 것이다.\n이러한 전자 스위치는 입려과 출력 사이의 부울 대수 관계를 나타낸다\n일반적으로 게이트는 단일 출력 라인을 가진다. 출력의 값은 입력 행에 주어진 값에 달려있다.\n~~~\nAND gates have two input lines, each of which can be either 0 or 1 (representing False or True, repectively). \nIf both of the input lines have the value 1, the resulting output is 1. \nHowever, if either or both of the input lines is 0, the result is 0. \nOR gates also have two input lines and produce a 1 if one or both of the input values is a 1. \nIn the case where both input lines are 0, the result is 0.\n~~~\nAND 게이트는 2개의 입력 행을 가지며, 그것은 0 또는 1이 될 수 있다 (False 또는 True로 표시, 개별적으로)\n만약 두개의 입력 행이 모두 값이 1이면, 그 결과 출력은 1이다\n하지만, 만약 하나 또는 둘 다 0이면, 그 결과는 0이다.\nOR 게이트는 또한 2개의 입력 행을 가지며, 입력 값중 하나 또는 둘 다 1인 경우 1을 생성한다\n두 개의 입력 행이 0인 경우에, 그 결과는 0이다.\n~~~\nNOT gates differ from the other two gates in that they only have a single input line. \nThe output value is simply the opposite of the input value. If 0 appears on the input, 1 is produced on the output. \nSimilarly, 1 produces 0. \n[Figure 9](http://interactivepython.org/courselib/static/pythonds/_images/truthtable.png) shows how each of these gates is typically represented. \nEach gate also has a truth table of values showing the input-to-output mapping that is performed by the gate.\n~~~\nNOT 게이트는 다른 2개의 게이트와 다르다 / 오직 단일 입력 라인만 가지고 있다는 점에서\n결과 값은 단순히 입력 값의 반대이다. 만약 0이 입력에 나타나면, 1이 결과로 만들어진다\n유사하게, 1은 0을 만든다. \n그림 9는 어떻게 이러한 게이드들 각각이 전형적으로 표시되는지 보여준다\n각 게이트는 또한 입력-출력 매핑을 보여주는 값의 진리표를 가진다 그리고 그것은 게이트에의해 수행된다.\n~~~\nBy combining these gates in various patterns and then applying a set of input values, \nwe can build circuits that have logical functions. \n[Figure 10](http://interactivepython.org/courselib/static/pythonds/_images/circuit1.png) shows a circuit consisting of two AND gates, one OR gate, and a single NOT gate. \nThe output lines from the two AND gates feed directly into the OR gate, and the resulting output from the OR gate is given to the NOT gate. \nIf we apply a set of input values to the four input lines (two for each AND gate), the values are processed and a result appears at the output of the NOT gate.\n[Figure 10](http://interactivepython.org/courselib/static/pythonds/_images/circuit1.png) also shows an example with values.\n~~~\n이러한 게이트들 결합함으로써 / 다양한 패턴으로 그리고 나서 일련의 입력 값들에 적용함으로써, \n우리는 논리적인 기능을 가진 회로를 만들 수 있다.\n그림 10은 두개의 AND 게이트 하나의 OR 게이트 그리고 하나의 NOT 게이트로 구성된 회로를 보여준다.\n2개의 AND 게이트로부터 출력 행은 OR 게이트로 직접적으로 공급되고, OR 게이트로부터 결과 출력은 NOT 게이트에 주어진다\n만약 우리가 일련의 입력 값들을 4개의 입력 행 (각 AND 게이트에 대해 2개)에 적용하면, 값이 처리되고 NOT 게이트 출력에 결과가 나타난다.\n그림 10은 또한 값들을 가진 예를 보여준다.\n~~~\nIn order to implement a circuit, we will first build a representation for logic gates. \nLogic gates are easily organized into a class inheritance hierarchy as shown in [Figure 11](http://interactivepython.org/courselib/static/pythonds/_images/gates.png). \nAt the top of the hierarchy, the LogicGate class represents the most general characteristics of logic gates: namely, a label for the gate and an output line. \nThe next level of subclasses breaks the logic gates into two families, those that have one input line and those that have two. \nBelow that, the specific logic functions of each appear.\n~~~\n회로를 구현하기 위해, 우리는 우선 논리 게이트에 대한 표현을 만들 것이다.\n논리 게이트는 그림 11에서 보여지는 것처럼 쉽게 클래스 계층 상속 구조로 구성된다\n계층 구조의 가장 상단에서, LogicGate 클래스는 논리 게이트의 가장 일반적인 특성, 즉 게이트와 출력 행의 라벨을 나타낸다.\n다음 레벨의 서브 클래스와 논리 게이트를 2개 즉, 하나의 입력행과 두개로 나눈다.\n그 아래에, 각각의 특정 논리 기능이 나타난다.\n~~~\nWe can now start to implement the classes by starting with the most general, LogicGate. \nAs noted earlier, each gate has a label for identification and a single output line. \nIn addition, we need methods to allow a user of a gate to ask the gate for its label.\n~~~\n우리는 이제 클래스를 구현하기를 시작할 수 있다 / 가장 일반적인 LogicGate 클래스를 시작함으로쓰,\n앞에서 언급했듯이, 각각 게이트는 식별을 위한 라벨과 단일 출력 행이 있다.\n게다가, 우리는 사용자로 하여금 그것의 라벨을 요구할 수 있는 메소드가 필요로 하다\n~~~\nThe other behavior that every logic gate needs is the ability to know its output value. \nThis will require that the gate perform the appropriate logic based on the current input. \nIn order to produce output, the gate needs to know specifically what that logic is. \nThis means calling a method to perform the logic computation. \nThe complete class is shown in Listing 8.\n~~~\n모든 논리 게이트가 필요로하는 또 다른 행동은 출력값을 알 수 있는 능력이다.\n이것은 필요로 할 것이다 / 게이트가 전류 입력을 기반으로 적절한 논리를 수행하기를\n출력을 생산하기 위해서, 게이트는 그 논리가 무잇인지 구체적으로 알 필요가 있다\n이것은 논리 연산을 수행하는 메소드를 호출하는 것을 의미한다\n전체 클래스는 Listing 8에 보여진다\n~~~\nListing 8"
    },
    {
      "cell_type": "code",
      "execution_count": 16,
      "outputs": [],
      "source": "class LogicGate:\n\n    def __init__(self,n):\n        self.label \u003d n\n        self.output \u003d None\n\n    def getLabel(self):\n        return self.label\n\n    def getOutput(self):\n        self.output \u003d self.performGateLogic()\n        return self.output",
      "metadata": {
        "pycharm": {
          "metadata": false,
          "name": "#%%\n",
          "is_executing": false
        }
      }
    },
    {
      "cell_type": "markdown",
      "source": "At this point, we will not implement the performGateLogic function. \nThe reason for this is that we do not know how each gate will perform its own logic operation. \nThose details will be included by each individual gate that is added to the hierarchy. \nThis is a very powerful idea in object-oriented programming. We are writing a method that will use code that does not exist yet. \nThe parameter self is a reference to the actual gate object invoking the method. \nAny new logic gate that gets added to the hierarchy will simply need to implement the performGateLogic function \nand it will be used at the appropriate time. \nOnce done, the gate can provide its output value. \nThis ability to extend a hierarchy that currently exists and provide the specific functions \nthat the hierarchy needs to use the new class is extremely important for reusing existing code.\n~~~\n이 시점에서 우리는 performGateLogic 함수를 구현하지 않을 것이다\n이것에 대한 이유는 우리가 각 게이트가 어떻게 논리 연산을 수행할지 모르기 때문이다.\n이런 세부사항들은 계층에 추가된 각 개별적인 게이트에 의해 포함된다.\n이것은 객체지향프로그래밍에서 가장 강력한 아이디어이다. 우리는 아직 존재하지 않는 코드를 사용할 방법을 작성하고 있다.\n파라미터 자체는 참조이다 / 실제 게이트 객체에 대한 / 메소드를 호출하는\n게층에 추가 된 어떠한 새로운 논리게이트도 단순히 performGateLogic 함수를 구현하기를 필요할 것이고\n그것은 적절한 시기에 사용될 것이다.\n완료되면, 게이트는 결과 값을 제공할 수 있다\n현재 존재하는 계층을 확장하는 능력과 특정한 함수들을 제공하는 능력 (계층이 새로운 클래스를 사용하는데 필요로한)은 \n정말 중요하다 / 기존 코드를 재사용하는데 있어서\n~~~\nWe categorized the logic gates based on the number of input lines. \nThe AND gate has two input lines. \nThe OR gate also has two input lines. NOT gates have one input line. \nThe BinaryGate class will be a subclass of LogicGate and will add two input lines. \nThe UnaryGate class will also subclass LogicGate but will have only a single input line. \nIn computer circuit design, these lines are sometimes called “pins” so we will use that terminology in our implementation.\n~~~\n우리는  입력 라인의 수에 따라 논리게이트를 분류했다.\nAND 게이트는 2개의 입력 라인을 가진다\nOR 게이트는 또한 2개의 입력 라인을 가진다. NOT 게이트는 1개의 입력 라인을 가진다\nBinaryGate 클래스는 LogicGate의 하위 클래스가 될것이고, 두 개의 입력 라인이 추가될 것이다.\nUnaryGate 클래스는 또한 LogicGate를 서브클래스 하지만, 단일 입력 라인을 가질 것이다.\n컴퓨터 회로 설계에서, 이러한 라인들은 때때로 \"핀\"이라고 불린다 그래서 우리는 구현에 그 용어를 사용할 것이다.\n~~~",
      "metadata": {
        "pycharm": {
          "metadata": false,
          "name": "#%% md\n"
        }
      }
    },
    {
      "cell_type": "code",
      "execution_count": 11,
      "outputs": [],
      "source": "#Listing 9 \nclass BinaryGate(LogicGate):\n    def __init__(self,n):\n        LogicGate.__init__(self,n)\n\n        self.pinA \u003d None\n        self.pinB \u003d None\n\n    def getPinA(self):\n        return int(input(\"Enter Pin A input for gate \"+ self.getLabel()+\"--\u003e\"))\n\n    def getPinB(self):\n        return int(input(\"Enter Pin B input for gate \"+ self.getLabel()+\"--\u003e\"))\n#Listing 10 \nclass UnaryGate(LogicGate):\n    def __init__(self,n):\n        LogicGate.__init__(self,n)\n\n        self.pin \u003d None\n\n    def getPin(self):\n        return int(input(\"Enter Pin input for gate \"+ self.getLabel()+\"--\u003e\"))",
      "metadata": {
        "pycharm": {
          "metadata": false,
          "name": "#%% \n",
          "is_executing": false
        }
      }
    },
    {
      "cell_type": "markdown",
      "source": "Listing 9 and Listing 10 implement these two classes. \nThe constructors in both of these classes start with an explicit call to the constructor of the parent class using the parent’s __init__ method. \nWhen creating an instance of the BinaryGate class, we first want to initialize any data items that are inherited from LogicGate. \nIn this case, that means the label for the gate. The constructor then goes on to add the two input lines (pinA and pinB). \nThis is a very common pattern that you should always use when building class hierarchies. \nChild class constructors need to call parent class constructors and then move on to their own distinguishing data.\n~~~\nListng 9와 Listing 10은 이 2가지 클래스를 구현한다.\n이 두 클래스에서 생성자는 명시적 호출과 함께 시작한다 / 부모 클래스의 생성자에게 / 부모의 __inti__ 메소드를 사용하여\nBinaryGate 클래스의 인스턴스를 생성할 때, 우리는 가장 먼저 모든 데이터들을 초기화 시키길 원한다 (LogicGate로부터 상속되어진)\n이러한 경우, 그것은 게이트에 대한 라벨을 의미한다. 그런 다음 생성자는 두 입력 라인을 추가한다 (핀A, 핀B)\n자식 클래스 생성자는 부모 클래스 생성자를 부를 필요가 있다 그리고 나서 그들 자신을 구분하는 데이터로 구분할 필요가 있다\n~~~\nPython also has a function called super which can be used in place of explicitly naming the parent class. \nThis is a more general mechanism, and is widely used, especially when a class has more than one parent. \nBut, this is not something we are going to discuss in this introduction. \nFor example in our example above LogicGate.__init__(self,n) could be replaced with super(UnaryGate,self).__init__(n).\n~~~\n파이썬은 또한 함수를 가진다 / super라 불리는 / 그것은 명시적으로 부모 클래스의 이름을 지정하는 대신에 사용될 수 있다.\n이것은 더욱 일반적인 매커니즘이고 널리 사용된다 / 특히 클래스에 두 개 이상의 부모가 있을 경우\n하지만 이것은 우리가 이번 소개에서 토론되어질 것은 아니다\n예를 들어, 위의 우리의 예에서는 LogicGate.__init__(self,n) 가 super(UnaryGate,self).__init__(n)로 대체되어질 수 있다.\n~~~\nThe only behavior that the BinaryGate class adds is the ability to get the values from the two input lines. \nSince these values come from some external place, we will simply ask the user via an input statement to provide them. \nThe same implementation occurs for the UnaryGate class except that there is only one input line.\n~~~\nBinaryGate 클래스가 추가하는 유일한 동작은 두 입력 라인으로부터 값들을 가져오는 능력이다.\n이러한 값들은 몇몇 외부적인 장소로부터 나오기 때문에, 우리는 단순히 입력문을 통해 사용자로 하여금 그것들을 제공하도록 요청할 것이다.\nUnaryGate 클래스에 대해 동일한 구현이 발생된다 / 오직 하나의 입력 라인만 있다는 점을 제외하고 \n~~~\nNow that we have a general class for gates depending on the number of input lines, we can build specific gates that have unique behavior. \nFor example, the AndGate class will be a subclass of BinaryGate since AND gates have two input lines. \nAs before, the first line of the constructor calls upon the parent class constructor (BinaryGate), which in turn calls its parent class constructor (LogicGate). \nNote that the AndGate class does not provide any new data since it inherits two input lines, one output line, and a label.\n~~~\n이제 우리는 입력 라인의 수에 따라 게이트에 대한 일반 클래스를 가지므로, 우리는 독특한 게이트들을 만들 수 있다 (독특한 행동을 가진)\n예를 들어, AndGate 클래스는 BinaryGate의 서브클래스가 될 것이다 / AND 게이트에는 2개의 입력 라인을 가지기 때문에\n이전처럼, 생성자의 첫번째 라인은 부모 클래스 생성자(BinaryGate)를 호출하고 차례로 부모 클래스 생성자(LogicGate)를 호출한다.\n유의해라 / AndGate 클래스는 어떠한 새 데이터를 제공하지 않는다 / 그것이 2개의 입력 라인, 1개의 출력 라인 그리고 레이블을 상속하고 있기 때문에\n~~~\nListing 11",
      "metadata": {
        "pycharm": {
          "metadata": false,
          "name": "#%% md\n"
        }
      }
    },
    {
      "cell_type": "code",
      "execution_count": 7,
      "outputs": [],
      "source": "class AndGate(BinaryGate):\n\n    def __init__(self,n):\n        BinaryGate.__init__(self,n)\n\n    def performGateLogic(self):\n\n        a \u003d self.getPinA()\n        b \u003d self.getPinB()\n        if a\u003d\u003d1 and b\u003d\u003d1:\n            return 1\n        else:\n            return 0",
      "metadata": {
        "pycharm": {
          "metadata": false,
          "name": "#%%\n",
          "is_executing": false
        }
      }
    },
    {
      "cell_type": "markdown",
      "source": "The only thing AndGate needs to add is the specific behavior that performs the boolean operation that was described earlier. \nThis is the place where we can provide the performGateLogic method. \nFor an AND gate, this method first must get the two input values and then only return 1 if both input values are 1. \nThe complete class is shown in Listing 11.\n~~~\nAndGate가 추가해야 할 것은 구체적인 행동이다 / 앞에서 설명한 부울 연산을 수행하는\n이것이 우리가 performGateLogic 메소드를 제공할 수 있는 곳이다\nAND 게이트의 경우, 이러한 메소드는 가장 먼저 2개의 입력 값을 얻은 다음 2개의 입력 값이 모두 1인 경우 1을 리턴해야만 한다\n전체 클래스는 Listing 11에서 보여진다\n~~~\nWe can show the AndGate class in action by creating an instance and asking it to compute its output. \nThe following session shows an AndGate object, g1, that has an internal label \"G1\". \nWhen we invoke the getOutput method, the object must first call its performGateLogic method which in turn queries the two input lines. \nOnce the values are provided, the correct output is shown.\n~~~\n우리는 AndGate 클래스를 실제로 보여줄 수 있다 / 인스턴스를 만들고 출력을 계산하도록 요청함으로써 \n다음 세션은 AndGate 객체, g1을 보여준다. / G1이라는 내부 라벨이 있는\n우리가 getOutput 메소드를 호출할 때, 그 객체는 반드시 가장 먼저 performGateLogic 메소드를 호출해야만 한다 \n그리고 차례로 두 입력 라인을 조회해야만 한다.\n일단 값들이 제공되면, 올바른 출력이 보여진다.\n~~~",
      "metadata": {
        "pycharm": {
          "metadata": false,
          "name": "#%% md\n"
        }
      }
    },
    {
      "cell_type": "code",
      "execution_count": 15,
      "outputs": [
        {
          "traceback": [
            "\u001b[1;31m---------------------------------------------------------------------------\u001b[0m",
            "\u001b[1;31mValueError\u001b[0m                                Traceback (most recent call last)",
            "\u001b[1;32m\u003cipython-input-15-4380e7f7ad6f\u003e\u001b[0m in \u001b[0;36m\u003cmodule\u003e\u001b[1;34m\u001b[0m\n\u001b[0;32m      1\u001b[0m \u001b[0mg1\u001b[0m \u001b[1;33m\u003d\u001b[0m \u001b[0mAndGate\u001b[0m\u001b[1;33m(\u001b[0m\u001b[1;34m\"G1\"\u001b[0m\u001b[1;33m)\u001b[0m\u001b[1;33m\u001b[0m\u001b[1;33m\u001b[0m\u001b[0m\n\u001b[1;32m----\u003e 2\u001b[1;33m \u001b[0mg1\u001b[0m\u001b[1;33m.\u001b[0m\u001b[0mgetOutput\u001b[0m\u001b[1;33m(\u001b[0m\u001b[1;33m)\u001b[0m\u001b[1;33m\u001b[0m\u001b[1;33m\u001b[0m\u001b[0m\n\u001b[0m\u001b[0;32m      3\u001b[0m \u001b[1;33m\u001b[0m\u001b[0m\n",
            "\u001b[1;32m\u003cipython-input-1-e41a3aa7d772\u003e\u001b[0m in \u001b[0;36mgetOutput\u001b[1;34m(self)\u001b[0m\n\u001b[0;32m      9\u001b[0m \u001b[1;33m\u001b[0m\u001b[0m\n\u001b[0;32m     10\u001b[0m     \u001b[1;32mdef\u001b[0m \u001b[0mgetOutput\u001b[0m\u001b[1;33m(\u001b[0m\u001b[0mself\u001b[0m\u001b[1;33m)\u001b[0m\u001b[1;33m:\u001b[0m\u001b[1;33m\u001b[0m\u001b[1;33m\u001b[0m\u001b[0m\n\u001b[1;32m---\u003e 11\u001b[1;33m         \u001b[0mself\u001b[0m\u001b[1;33m.\u001b[0m\u001b[0moutput\u001b[0m \u001b[1;33m\u003d\u001b[0m \u001b[0mself\u001b[0m\u001b[1;33m.\u001b[0m\u001b[0mperformGateLogic\u001b[0m\u001b[1;33m(\u001b[0m\u001b[1;33m)\u001b[0m\u001b[1;33m\u001b[0m\u001b[1;33m\u001b[0m\u001b[0m\n\u001b[0m\u001b[0;32m     12\u001b[0m         \u001b[1;32mreturn\u001b[0m \u001b[0mself\u001b[0m\u001b[1;33m.\u001b[0m\u001b[0moutput\u001b[0m\u001b[1;33m\u001b[0m\u001b[1;33m\u001b[0m\u001b[0m\n",
            "\u001b[1;32m\u003cipython-input-7-65669437895c\u003e\u001b[0m in \u001b[0;36mperformGateLogic\u001b[1;34m(self)\u001b[0m\n\u001b[0;32m      6\u001b[0m     \u001b[1;32mdef\u001b[0m \u001b[0mperformGateLogic\u001b[0m\u001b[1;33m(\u001b[0m\u001b[0mself\u001b[0m\u001b[1;33m)\u001b[0m\u001b[1;33m:\u001b[0m\u001b[1;33m\u001b[0m\u001b[1;33m\u001b[0m\u001b[0m\n\u001b[0;32m      7\u001b[0m \u001b[1;33m\u001b[0m\u001b[0m\n\u001b[1;32m----\u003e 8\u001b[1;33m         \u001b[0ma\u001b[0m \u001b[1;33m\u003d\u001b[0m \u001b[0mself\u001b[0m\u001b[1;33m.\u001b[0m\u001b[0mgetPinA\u001b[0m\u001b[1;33m(\u001b[0m\u001b[1;33m)\u001b[0m\u001b[1;33m\u001b[0m\u001b[1;33m\u001b[0m\u001b[0m\n\u001b[0m\u001b[0;32m      9\u001b[0m         \u001b[0mb\u001b[0m \u001b[1;33m\u003d\u001b[0m \u001b[0mself\u001b[0m\u001b[1;33m.\u001b[0m\u001b[0mgetPinB\u001b[0m\u001b[1;33m(\u001b[0m\u001b[1;33m)\u001b[0m\u001b[1;33m\u001b[0m\u001b[1;33m\u001b[0m\u001b[0m\n\u001b[0;32m     10\u001b[0m         \u001b[1;32mif\u001b[0m \u001b[0ma\u001b[0m\u001b[1;33m\u003d\u003d\u001b[0m\u001b[1;36m1\u001b[0m \u001b[1;32mand\u001b[0m \u001b[0mb\u001b[0m\u001b[1;33m\u003d\u003d\u001b[0m\u001b[1;36m1\u001b[0m\u001b[1;33m:\u001b[0m\u001b[1;33m\u001b[0m\u001b[1;33m\u001b[0m\u001b[0m\n",
            "\u001b[1;32m\u003cipython-input-3-c14eaf551d13\u003e\u001b[0m in \u001b[0;36mgetPinA\u001b[1;34m(self)\u001b[0m\n\u001b[0;32m      9\u001b[0m \u001b[1;33m\u001b[0m\u001b[0m\n\u001b[0;32m     10\u001b[0m     \u001b[1;32mdef\u001b[0m \u001b[0mgetPinA\u001b[0m\u001b[1;33m(\u001b[0m\u001b[0mself\u001b[0m\u001b[1;33m)\u001b[0m\u001b[1;33m:\u001b[0m\u001b[1;33m\u001b[0m\u001b[1;33m\u001b[0m\u001b[0m\n\u001b[1;32m---\u003e 11\u001b[1;33m         \u001b[1;32mreturn\u001b[0m \u001b[0mint\u001b[0m\u001b[1;33m(\u001b[0m\u001b[0minput\u001b[0m\u001b[1;33m(\u001b[0m\u001b[1;34m\"Enter Pin A input for gate \"\u001b[0m\u001b[1;33m+\u001b[0m \u001b[0mself\u001b[0m\u001b[1;33m.\u001b[0m\u001b[0mgetLabel\u001b[0m\u001b[1;33m(\u001b[0m\u001b[1;33m)\u001b[0m\u001b[1;33m+\u001b[0m\u001b[1;34m\"--\u003e\"\u001b[0m\u001b[1;33m)\u001b[0m\u001b[1;33m)\u001b[0m\u001b[1;33m\u001b[0m\u001b[1;33m\u001b[0m\u001b[0m\n\u001b[0m\u001b[0;32m     12\u001b[0m \u001b[1;33m\u001b[0m\u001b[0m\n\u001b[0;32m     13\u001b[0m     \u001b[1;32mdef\u001b[0m \u001b[0mgetPinB\u001b[0m\u001b[1;33m(\u001b[0m\u001b[0mself\u001b[0m\u001b[1;33m)\u001b[0m\u001b[1;33m:\u001b[0m\u001b[1;33m\u001b[0m\u001b[1;33m\u001b[0m\u001b[0m\n",
            "\u001b[1;31mValueError\u001b[0m: invalid literal for int() with base 10: \u0027Pin A\u0027"
          ],
          "ename": "ValueError",
          "evalue": "invalid literal for int() with base 10: \u0027Pin A\u0027",
          "output_type": "error"
        }
      ],
      "source": "g1 \u003d AndGate(\"G1\")\ng1.getOutput()\n",
      "metadata": {
        "pycharm": {
          "metadata": false,
          "name": "#%%\n",
          "is_executing": false
        }
      }
    },
    {
      "cell_type": "markdown",
      "source": "The same development can be done for OR gates and NOT gates. \nThe OrGate class will also be a subclass of BinaryGate and the NotGate class will extend the UnaryGate class. \nBoth of these classes will need to provide their own performGateLogic functions, as this is their specific behavior.\nWe can use a single gate by first constructing an instance of one of the gate classes and then asking the gate for its output \n(which will in turn need inputs to be provided). \nFor example:\n~~~\nOR 게이트와 NOT 게이트에 대해서도 동일한 개발이 수행될 수 있다\nOrGate 클래스는 또한 BinaryGate의 서브 클래스가 될 것이다 그리고 NotGate는 UnaryGate 클래스를 상속할 것이다.\n이러한 두 클래스 모두 그들 자신의 performGateLogic 함수를 제공할 필요가 있을 것이다 / 그들의 특별한 기능이 있으므로 \n우리는 단일 게이트를 사용할 수 있다 / 먼저 게이트 클래스 중 하나의 인스턴스를 구성함으로써 그리고 나서 다음 게이트의 출력을 요청함으로써(입력이 제공되어질 필요가 있음)\n예를 들어\n~~~",
      "metadata": {
        "pycharm": {
          "metadata": false,
          "name": "#%% md\n"
        }
      }
    },
    {
      "cell_type": "markdown",
      "source": "Now that we have the basic gates working, we can turn our attention to building circuits. \nIn order to create a circuit, we need to connect gates together, the output of one flowing into the input of another. \nTo do this, we will implement a new class called Connector.\n~~~\n이제 우리는 기본 게이트가 작동했으므로 회로를 만드는 것에 주의를 돌릴 수 있다.\n회로를 만들기 위해서, 우리는 게이트들을 서로 연결할 필요가 있다. 하나의 출력이 또 다른것의 입력으로 흘러 들어간다.\n이를 위해, 우리는 새로운 클래스를 구현할 것이다 / Connector라 불리는\n~~~\nThe Connector class will not reside in the gate hierarchy. \nIt will, however, use the gate hierarchy in that each connector will have two gates, one on either end (see Figure 12). \nThis relationship is very important in object-oriented programming. \nIt is called the HAS-A Relationship. \nRecall earlier that we used the phrase “IS-A Relationship” to say that a child class is related to a parent class, \nfor example UnaryGate IS-A LogicGate.\n~~~\nConnector 클래스는 게이트 계층에 존재하지 않을 것이다.\n하지만 그것은 게이트 계층 구조를 사용할 것이다 / 각 Connector가 양쪽 끝에 하나씩 2개의 게이트를 가지고 있을 것이라는 점에서 \n이러한 관계는 매우 중요하다 / 객체 지향 프로그래밍에서\n이것은 HSA-A 관계라고 불린다\n이전에 \"IS-A 관게\"라는 구를 사용하여 하위 클래스가 상위 클래스와 관련이 있다는 것을 상기해라\n예를 들어  UnaryGate IS-A LogicGate\n~~~\nNow, with the Connector class, \nwe say that a Connector HAS-A LogicGate meaning that connectors will have instances of the LogicGate class within them \nbut are not part of the hierarchy. \nWhen designing classes, \nit is very important to distinguish \nbetween those that have the IS-A relationship (which requires inheritance) and those that have HAS-A relationships (with no inheritance).\n~~~\n이제 Connector 클래스와 함께,\n우리는 말한다 / Connector HAS-A LogicGate는 의미한다 / connectors가 LogicGate 클래스의 인스턴스를 가질 것이라고 /\n하지만 계층 구조의 일부가 아니다\n구별하는것은 매우 중요하다\nIS-A 관계(상속을 필요로하는)를 가진 클래스와 HSA-A 관계(상속이 필요 없는) 클래스 사이에 \n~~~\nListing 12 shows the Connector class. \nThe two gate instances within each connector object will be referred to as the fromgate and the togate, recognizing that data values will “flow” from the output of one gate into an input line of the next. \nThe call to setNextPin is very important for making connections (see Listing 13). \nWe need to add this method to our gate classes so that each togate can choose the proper input line for the connection.\n~~~\nListing 12는 커넥터 클래스를 보여준다\n두 개의 게이트 인스턴스들은 (각 커낵터 객체 내부의) fromgate와 togate로써 참조될것이다. / 데이터 값이 한 게이트 출력에서 다음 게이트 입력 라인으로 흐른다는 것을 인식하여\nSetNextPin에 대한 호출은 연결하는데 매우 중요하다\n우리는 각이 메소드를 우리의 게이트 클래스에 추가할 필요가 있다 / 각 togate 연결에 대한 적절한 입력 라인을 선탯할 수 있도록\n~~~\nListing 12",
      "metadata": {
        "pycharm": {
          "metadata": false,
          "name": "#%% md\n"
        }
      }
    },
    {
      "cell_type": "code",
      "execution_count": 18,
      "outputs": [],
      "source": "class Connector:\n\n    def __init__(self, fgate, tgate):\n        self.fromgate \u003d fgate\n        self.togate \u003d tgate\n\n        tgate.setNextPin(self)\n\n    def getFrom(self):\n        return self.fromgate\n\n    def getTo(self):\n        return self.togate\n",
      "metadata": {
        "pycharm": {
          "metadata": false,
          "name": "#%%\n",
          "is_executing": false
        }
      }
    },
    {
      "cell_type": "markdown",
      "source": "In the BinaryGate class, for gates with two possible input lines, the connector must be connected to only one line. \nIf both of them are available, we will choose pinA by default. \nIf pinA is already connected, then we will choose pinB. \nIt is not possible to connect to a gate with no available input lines.\n~~~\nBinaryGate 클래스에서, 가능한 2개의 입력 라인이 있는 게이트의 경우, 커넥터는 반드시 1줄에만 연결되어야만 한다\n만약 그들 2개 모두 이용가능하다면, 우리는 PiaA를 기본적으로 선택할 것이다.\n만약 pinA가 이미 연결되어져 있다면, 우리는 다음으로 pinB를 선택할 것이다.\n이용가능한 입력 라인이 없는 게이트에는 연결할 수 없다\n~~~\nListing 13",
      "metadata": {
        "pycharm": {
          "metadata": false,
          "name": "#%% md\n"
        }
      }
    },
    {
      "cell_type": "code",
      "execution_count": 20,
      "outputs": [],
      "source": "def setNextPin(self,source):\n    if self.pinA \u003d\u003d None:\n        self.pinA \u003d source\n    else:\n        if self.pinB \u003d\u003d None:\n            self.pinB \u003d source\n        else:\n           raise RuntimeError(\"Error: NO EMPTY PINS\")\n",
      "metadata": {
        "pycharm": {
          "metadata": false,
          "name": "#%% \n",
          "is_executing": false
        }
      }
    },
    {
      "cell_type": "markdown",
      "source": "Now it is possible to get input from two places:\nexternally, as before, and from the output of a gate that is connected to that input line. \nThis requires a change to the getPinA and getPinB methods (see Listing 14). \nIf the input line is not connected to anything (None), then ask the user externally as before. \nHowever, if there is a connection, the connection is accessed and fromgate’s output value is retrieved. \nThis in turn causes that gate to process its logic. \nThis continues until all input is available and the final output value becomes the required input for the gate in question. \nIn a sense, the circuit works backwards to find the input necessary to finally produce output.\n~~~\n이제 두 곳으로부터 입력을 얻을 수 있다:\n외부적으로, 이전처럼, 그리고 그 게이트의 출력으로부터 그것은 입력 라인과 연결되어져 있다.\n이것은 getPinA 와 getPibB 메소드를 변경할 필요가 있다 (Listing 14 보아라)\n만약 입력 라인이 어떤것에도 연결되어이지 않다면, 이전처럼 외부적으로 사용자에게 물어봐라\n하지만, 만약 연결이 있으면, 연결에 접근하고 fromgate의 출력 값이 검색도니다\n이것은 차례로 게이트가 로직을 처리하도록 야기시킨다\n이것은 계속 된다 / 모든 입력이 이용가능하고 최종 결과 값이 문제의 게이트에 필요로 되어질 때 까지 \n어떤 면에서는, 회로가 역으로 작동한다 / 필요한 입력을 찾아 내기 위해 / 최종적으로 출력을 생성하는데  \n~~~\nListing 14",
      "metadata": {
        "pycharm": {
          "metadata": false,
          "name": "#%% md\n"
        }
      }
    },
    {
      "cell_type": "code",
      "execution_count": 19,
      "outputs": [],
      "source": "def getPinA(self):\n    if self.pinA \u003d\u003d None:\n        return input(\"Enter Pin A input for gate \" + self.getName()+\"--\u003e\")\n    else:\n        return self.pinA.getFrom().getOutput()\n    ",
      "metadata": {
        "pycharm": {
          "metadata": false,
          "name": "#%% \n",
          "is_executing": false
        }
      }
    },
    {
      "cell_type": "markdown",
      "source": "The following fragment constructs the circuit shown earlier in the section:\nThe outputs from the two AND gates (g1 and g2) are connected to the OR gate (g3) and that output is connected to the NOT gate (g4). \nThe output from the NOT gate is the output of the entire circuit. For example:\nTry it yourself using ActiveCode 4.\n~~~\n다음 단락은 회로를 구성한다 앞에서 보여진 \n두 개의 AND 게이트 (g1과 g2)로 부터 출력은 OR 게이트(g3)과 연결된다 그리고 결과는 NOT 게이트(g4)와 연결된다\nNOT 게이트로부터 결과는 전체 회로의 출력이다. 예를 들어:\n그것 너 스스로 ActiveCode4를 사용하여 시도해봐라\n~~~\n\nSelf Check\nCreate a two new gate classes, one called NorGate the other called NandGate. \nNandGates work like AndGates that have a Not attached to the output. \nNorGates work lake OrGates that have a Not attached to the output.\nCreate a series of gates that prove the following equality NOT (( A and B) or (C and D)) is that same as NOT( A and B ) and NOT (C and D). \nMake sure to use some of your new gates in the simulation.",
      "metadata": {
        "pycharm": {
          "metadata": false,
          "name": "#%% md\n"
        }
      }
    }
  ],
  "metadata": {
    "language_info": {
      "codemirror_mode": {
        "name": "ipython",
        "version": 2
      },
      "file_extension": ".py",
      "mimetype": "text/x-python",
      "name": "python",
      "nbconvert_exporter": "python",
      "pygments_lexer": "ipython2",
      "version": "2.7.6"
    },
    "kernelspec": {
      "name": "python3",
      "language": "python",
      "display_name": "Python 3"
    }
  },
  "nbformat": 4,
  "nbformat_minor": 0
}