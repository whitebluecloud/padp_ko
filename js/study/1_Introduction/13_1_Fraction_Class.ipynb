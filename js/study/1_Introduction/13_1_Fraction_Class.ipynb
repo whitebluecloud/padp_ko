{
  "cells": [
    {
      "cell_type": "markdown",
      "metadata": {
        "collapsed": true,
        "pycharm": {
          "name": "#%% md\n"
        }
      },
      "source": "### 1.13.1 A Fraction Class (Fraction 클래스)\nA very common example to show the details of implementing a user-defined class is to construct a class to implement the abstract data type Fraction. \nWe have already seen that Python provides a number of numeric classes for our use. \nThere are times, however, that it would be most appropriate to be able to create data objects that “look like” fractions.\n~~~\n사용자가 정의한 클래스를 구현하는 것의 세부사항들을 보여주는 가장 흔한 예는 추상적 데이터 타입 Fraction를 구현하는 클래스를 생성하는 것이다.\n우리는 이미 파이썬이 많은 숫자 클래스들을 제공한다는 것을 보아왔다.\n그러나 가장 적절한 시기가 있다 / 데이터 객체를 생성할 수 있는 / 분수들 처럼 보이는\n~~~\nA fraction such as 3/5 consists of two parts. \nThe top value, known as the numerator, can be any integer. \nThe bottom value, called the denominator, can be any integer greater than 0 (negative fractions have a negative numerator).\nAlthough it is possible to create a floating point approximation for any fraction, \nin this case we would like to represent the fraction as an exact value.\n~~~\n3/5와 같은 분수는 2 부분으로 구성된다.\n분자로써 알려진 위의 값은 어떤 정수가 될 수 있다.\n분모로써 알려진 아래의 값은 0보다 큰 어떠한 정수가 될 수 있다 (음수 분수는 음수 분자를 가진다)\n어떤 분수도 부동 소수점 근사치를 생성할 수 있음에도 불구하고, \n이런 경우에 우리는 정확한 값으로써 분수를 표현하고 싶다.\n~~~\nThe operations for the Fraction type will allow a Fraction data object to behave like any other numeric value. \nWe need to be able to add, subtract, multiply, and divide fractions. \nWe also want to be able to show fractions using the standard “slash” form, for example 3/5. \nIn addition, all fraction methods should return results in their lowest terms so that no matter what computation is performed, \nwe always end up with the most common form.\n~~~\nFraction 타입에 대한 연산은 Fraction 데이터 객체로 하여금 다른 숫자 값처럼 동작하게끔 허용한다.\n우리는 분수를 더하기, 빼기, 곱하기 그리고 나누기할 수 있어야 한다.\n우리는 또한 표준 \"/(슬래쉬)\" 형식을 사용하여 분수를 표현하기를 원한다, 예를들면 3/5\n게다가, 모든 분수 메소드는 가장 낮은 조건으로 결과를 리턴해야만 한다 /  어떤 게산이 수행되더라도\n우리는 항상 가장 일반적인 형태로 끝난다.\n~~~\nIn Python, we define a new class by providing a name and a set of method definitions that are syntactically similar to function definitions. \nFor this example,\n~~~\n파이썬에서, 우리는 구문적으로 함수 정의와 비슷한 메소드 정의의 집합과 이름을 제공함으로써 새로운 클래스를 정의한다\n이 예제의 경우\nclass Fraction : \n    #the methods go here\n~~~\nprovides the framework for us to define the methods. \nThe first method that all classes should provide is the constructor. \nThe constructor defines the way in which data objects are created. \nTo create a Fraction object, we will need to provide two pieces of data, the numerator and the denominator. \nIn Python, the constructor method is always called __init__ (two underscores before and after init) and is shown in Listing 2.\n~~~\n프레임워크를 제공한다 / 우리로 하여금 메소드를 정의할 수 있도록\n모든 클래스가 제공해야하만 하는 첫번째 메소드는 생성자이다.\n생성자는 데이터 객체가 만들어지는 방법을 정의한다.\nFraction 객체를 만들기 위해서, 우리는 2종류의 데이터를 제공할 필요가 있을 것이다 / 분자와 분모\n파이썬에서, 생성자 메소드는 항상 __init__(2개 밑줄 init 전 후에)라 불고 Listing 2에서 보여진다.\n~~~\nListing 2"
    },
    {
      "cell_type": "code",
      "execution_count": 4,
      "outputs": [],
      "source": "class Fraction:\n    def __init__(self, top, bottom):\n        self.num \u003d top\n        self.den \u003d bottom",
      "metadata": {
        "pycharm": {
          "metadata": false,
          "name": "#%%\n",
          "is_executing": false
        }
      }
    },
    {
      "cell_type": "markdown",
      "source": "Notice that the formal parameter list contains three items (self, top, bottom). \nself is a special parameter that will always be used as a reference back to the object itself. \nIt must always be the first formal parameter; however, it will never be given an actual parameter value upon invocation. \nAs described earlier, fractions require two pieces of state data, the numerator and the denominator. \nThe notation self.num in the constructor defines the fraction object to have an internal data object called num as part of its state. \nLikewise, self.den creates the denominator. \nThe values of the two formal parameters are initially assigned to the state, allowing the new fraction object to know its starting value.\n~~~\n유의해라 / 형식 파라미터 목록은 3가지 항목들을 포함한다. (self, top, bottom)\nself는 특별한 파라미터이다 / 항상 객체 자신으로 되돌아가는 참조로써 사용되어질\n그것은 반드시 항상 첫번째 형식 파라미터이어야 한다.\n하지만 실제 파라미터 값은 전혀 주어지지 않을 것이다 / 호출 시에\n앞에서 설명한것처럼, fraction은 2 종류의 상태 데이터를 필요로 한다 / 분자와 분모\n생성자에서 self.num에 대한 표기는 내부에 그 상태의 부분으로써 num 데이터 객체를 가지는 fraction 객체를 정의한다.\n마찬가지로, self.den은 분모를 만든다.\n두개의 형식 파라미터들의 값은 처음에 상태에 할당되며, 새로운 fraction 객체가 시작하는 값을 알 수 있게끔 허용한다.\n~~~\nTo create an instance of the Fraction class, we must invoke the constructor. \nThis happens by using the name of the class and passing actual values for the necessary state (note that we never directly invoke __init__). \\\nFor example,\n~~~\nFraction 클래스의 인스턴스를 생성하기 위해, 우리는 반드시 생성자를 호출해야만 한다.\n이것은 발생한다 / 클래스의 이름을 사용함으로써 그리고 필요한 상태에 실제 값을 전달함으로써 (유의해라 / 우리는 전혀 직접적으로 __itnit__을 호출하지 않는다.)\n예를 들어, \n~~~",
      "metadata": {
        "pycharm": {
          "metadata": false,
          "name": "#%% md\n"
        }
      }
    },
    {
      "cell_type": "code",
      "execution_count": null,
      "outputs": [],
      "source": "myfraction \u003d Fraction(3.5)",
      "metadata": {
        "pycharm": {
          "metadata": false,
          "name": "#%%\n"
        }
      }
    },
    {
      "cell_type": "markdown",
      "source": "creates an object called myfraction representing the fraction 3/5 (three-fifths). \n[Figure 5](http://interactivepython.org/courselib/static/pythonds/_images/fraction1.png) shows this object as it is now implemented.\n~~~\n3/5 분수를 나타내는 myfraction 이라고 불리는 하나의 객체를 만든다.\nFigure 5는 이 객체 현재 구현된 대로 보여준다.\n~~~\nThe next thing we need to do is implement the behavior that the abstract data type requires. \nTo begin, consider what happens when we try to print a Fraction object.\n~~~\n다음 우리가 해야할 일은 추상적인 데이터 타입이 필요로하는 행동을 구현하는 것이다.\n먼저, 어떤 일이 발생할지 생각해봐라 / 우리가 Fraction 객체를 출력하려고 시도할 때\n~~~",
      "metadata": {
        "pycharm": {
          "metadata": false,
          "name": "#%% md\n"
        }
      }
    },
    {
      "cell_type": "code",
      "execution_count": 5,
      "outputs": [
        {
          "name": "stdout",
          "text": [
            "\u003c__main__.Fraction object at 0x00000200DFD622E8\u003e\n"
          ],
          "output_type": "stream"
        }
      ],
      "source": "myf \u003d Fraction(3,5)\nprint(myf)",
      "metadata": {
        "pycharm": {
          "metadata": false,
          "name": "#%%\n",
          "is_executing": false
        }
      }
    },
    {
      "cell_type": "markdown",
      "source": "The fraction object, myf, does not know how to respond to this request to print. \nThe print function requires that the object convert itself into a string so that the string can be written to the output. \nThe only choice myf has is to show the actual reference that is stored in the variable (the address itself). \nThis is not what we want.\n~~~\nfraction 객체, myf는 출력하기 위해 이 요청에 어떻게 응답해야하는지 모른다.\n출력 함수는 그 객체가 스스로 문자열로 변환되기를 필요로 한다 / 문자열이 결과에 출력될 수 있도록 \nmyf가 가진 유일한 선택은 실제 참조를 보여주는 것이다 / 변수에 저장되어진 (주소 그 자체)\n이것은 우리가 원하는 것이 아니다.\n~~~\nThere are two ways we can solve this problem. \nOne is to define a method called show that will allow the Fraction object to print itself as a string. \nWe can implement this method as shown in Listing 3. \nIf we create a Fraction object as before, we can ask it to show itself, \nin other words, print itself in the proper format. Unfortunately, this does not work in general. \nIn order to make printing work properly, we need to tell the Fraction class how to convert itself into a string. \nThis is what the print function needs in order to do its job.\n~~~\n우리가 이 문제를 풀 수 있는 2가지 방법이 있다.\n하나는 show라는 메소드를 정의하는 것이다 / Fraction 객체로 하여금 그자체가 문자열로서 출력하게끔\n위는 이 메소드를 Listing 3에서 보여지는 것철머 구현할 수 있다\n만약 우리가 Fraction 객체를 전처럼 만든다면, 우리는 스스로 보여달라고 요청할 수 있다\n다른 말로하면, 자신을 적절한 포맷으로 출력한다. 불행히도, 이것은 일반적으로 효과가 없다\n제대로 출력되게끔 하기 위해서, 우리는 Fraction 클래스에게 스스로 문자열로 바꾸는 방법을 알려줘야할 필요가 있다\n이것은 print 함수가 역할을 수행하기 위해서 필요한 것이다.\n~~~\nListing 3",
      "metadata": {
        "pycharm": {
          "metadata": false,
          "name": "#%% md\n"
        }
      }
    },
    {
      "cell_type": "code",
      "execution_count": 17,
      "outputs": [
        {
          "name": "stdout",
          "text": [
            "3 / 5\n\u003c__main__.Fraction object at 0x00000200DFD12B38\u003e\n"
          ],
          "output_type": "stream"
        }
      ],
      "source": "class Fraction:\n    def __init__(self, top, bottom):\n        self.num \u003d top\n        self.den \u003d bottom\n        \n    def show(self):\n        print(self.num, \"/\", self.den)\n        \nmyf \u003d Fraction(3,5)\nmyf.show()\nprint(myf)",
      "metadata": {
        "pycharm": {
          "metadata": false,
          "name": "#%%\n",
          "is_executing": false
        }
      }
    },
    {
      "cell_type": "markdown",
      "source": "In Python, all classes have a set of standard methods that are provided but may not work properly. \nOne of these, __str__, is the method to convert an object into a string. \nThe default implementation for this method is to return the instance address string as we have already seen. \nWhat we need to do is provide a “better” implementation for this method. \nWe will say that this implementation overrides the previous one, or that it redefines the method’s behavior.\n~~~\n파이썬에서, 모든 클래스는 일련의 표준 메소드들을 가지고 있다 / 그것은 제공되지만, 제대로 작동하지 않을 수도 있다\n이 중에 하나인 __str__은 객체를 문자열로 바꿔주는 메소드이다\n이 메소드의 기본적인 구현은 인스턴스 주소 문자열을 리턴하는 것이다 / 우리가 이미 보았던것처럼\n우리가 해야할 것은 이 방법에서 \"더 나은\" 구현을 제공하는 것이다.\n우리는 말할 것이다 / 이러한 구현은 이전의 것을 오버라이드하거나 메소드의 행동을 다시 정의하는 것이라고 \n~~~\nTo do this, we simply define a method with the name __str__ and give it a new implementation as shown in Listing 4. \nThis definition does not need any other information except the special parameter self. \nIn turn, the method will build a string representation by converting each piece of internal state data to a string and then placing a / character in between the strings using string concatenation. \nThe resulting string will be returned any time a Fraction object is asked to convert itself to a string. \nNotice the various ways that this function is used.\n~~~\n이를 위해, 우리는 단순히 __str__라는 이름을 가진 메소드를 정의하고 그것을 새로운 구현을 제공한다 / Listing 4에서 보여지는 것처럼\n이러한 정의는 어떠한 다른 정보도 필요로 하지 않는다 / 특별한 self 파라미터를 제외하고 \n차례로, 이 메서드는 문자열 표현을 만들 것이다 / 각 내부 상태 데이터를 문자열로 변환함으로써 / 그리고 다음 문자열 연결을 사용하여 문자열 사이에 문자를 배치함으로써 \n그 결과 문자열은 Fraction 객체에 문자열로 반환하도록 요청될 때마다 반환될 것이다\n다양한 방법들을 주목해라 / 함수가 사용되는\n~~~\nListing 4",
      "metadata": {
        "pycharm": {
          "metadata": false,
          "name": "#%% md\n"
        }
      }
    },
    {
      "cell_type": "code",
      "execution_count": 25,
      "outputs": [
        {
          "name": "stdout",
          "text": [
            "3/5\n"
          ],
          "output_type": "stream"
        },
        {
          "data": {
            "text/plain": "\u00273/5\u0027"
          },
          "metadata": {},
          "output_type": "execute_result",
          "execution_count": 25
        }
      ],
      "source": "class Fraction:\n    def __init__(self, top, bottom):\n        self.num \u003d top\n        self.den \u003d bottom\n        \n    def show(self):\n        print(self.num, \"/\", self.den)\n    \n    def __str__(self):\n        return str(self.num) + \"/\" + str(self.den)\n\nmyf \u003d Fraction(3,5)\nprint(myf)\nmyf.__str__()\nstr(myf)",
      "metadata": {
        "pycharm": {
          "metadata": false,
          "name": "#%%\n",
          "is_executing": false
        }
      }
    },
    {
      "cell_type": "markdown",
      "source": "We can override many other methods for our new Fraction class. \nSome of the most important of these are the basic arithmetic operations. \nWe would like to be able to create two Fraction objects and then add them together using the standard “+” notation. \nAt this point, if we try to add two fractions, we get the following:\n~~~\n우리는 많은 다른 메소드들을 오버라이드 할 수 있다 / 우리의 새로운 Fraction 클래스을 위해\n이들 중에 가장 중요한 것 중의 일부는 기본 산술 연산이다.\n우리는 2개의 Fraction 객체를 만들고 싶고 그리고 나서 그것들을 함께 추가하기를 원한다 / 표준 + 표기법을 사용하여 \n이 시점에서, 만약 우리가 2개의 분수를 더하기를 시도한다면, 우리는 다음을 얻는다 :\n~~~",
      "metadata": {
        "pycharm": {
          "metadata": false,
          "name": "#%% md\n"
        }
      }
    },
    {
      "cell_type": "code",
      "execution_count": 26,
      "outputs": [
        {
          "traceback": [
            "\u001b[1;31m---------------------------------------------------------------------------\u001b[0m",
            "\u001b[1;31mTypeError\u001b[0m                                 Traceback (most recent call last)",
            "\u001b[1;32m\u003cipython-input-26-28bb6fe046c1\u003e\u001b[0m in \u001b[0;36m\u003cmodule\u003e\u001b[1;34m\u001b[0m\n\u001b[0;32m      1\u001b[0m \u001b[0mf1\u001b[0m \u001b[1;33m\u003d\u001b[0m \u001b[0mFraction\u001b[0m\u001b[1;33m(\u001b[0m\u001b[1;36m1\u001b[0m\u001b[1;33m,\u001b[0m\u001b[1;36m4\u001b[0m\u001b[1;33m)\u001b[0m\u001b[1;33m\u001b[0m\u001b[1;33m\u001b[0m\u001b[0m\n\u001b[0;32m      2\u001b[0m \u001b[0mf2\u001b[0m \u001b[1;33m\u003d\u001b[0m \u001b[0mFraction\u001b[0m\u001b[1;33m(\u001b[0m\u001b[1;36m1\u001b[0m\u001b[1;33m,\u001b[0m\u001b[1;36m2\u001b[0m\u001b[1;33m)\u001b[0m\u001b[1;33m\u001b[0m\u001b[1;33m\u001b[0m\u001b[0m\n\u001b[1;32m----\u003e 3\u001b[1;33m \u001b[0mf1\u001b[0m\u001b[1;33m+\u001b[0m\u001b[0mf2\u001b[0m\u001b[1;33m\u001b[0m\u001b[1;33m\u001b[0m\u001b[0m\n\u001b[0m\u001b[0;32m      4\u001b[0m \u001b[1;33m\u001b[0m\u001b[0m\n",
            "\u001b[1;31mTypeError\u001b[0m: unsupported operand type(s) for +: \u0027Fraction\u0027 and \u0027Fraction\u0027"
          ],
          "ename": "TypeError",
          "evalue": "unsupported operand type(s) for +: \u0027Fraction\u0027 and \u0027Fraction\u0027",
          "output_type": "error"
        }
      ],
      "source": "f1 \u003d Fraction(1,4)\nf2 \u003d Fraction(1,2)\nf1+f2             ",
      "metadata": {
        "pycharm": {
          "metadata": false,
          "name": "#%%\n",
          "is_executing": false
        }
      }
    },
    {
      "cell_type": "markdown",
      "source": "~~~If you look closely at the error, you see that the problem is that the “+” operator does not understand the Fraction operands\n만약 너가 면밀히 에러를 본다면, 너는 안다 / 그 문제는 + 연산자가 Fraction 피연산자를 이해하지 못한다는 것을\n~~~\nWe can fix this by providing the Fraction class with a method that overrides the addition method. \nIn Python, this method is called __add__ and it requires two parameters. \nThe first, self, is always needed, and the second represents the other operand in the expression. For example,\n~~~\n우리는 이것을 해결할 수 있다 / Fraction 클래스에 메소드를 제공함으로써 / 추가적인 메소드를 오버라이드한\n파이썬에서, 이 메소드는 __add__ 라고 불리고 이것은 2개의 파라미터를 필요로 한다\n첫째로, self는 항상 필요로 되고, 두 번째는 표현식의 다른 피연산자를 나타낸다. 예를 들어,\nf1.__add__(f2)\n~~~\nwould ask the Fraction object f1 to add the Fraction object f2 to itself. \nThis can be written in the standard notation, f1+f2.\n~~~\nFraction 객체 f1에 Fraction 객체 f2를 추가하도록 요청한다\n이것은 표준 표기법인 f1+f2에 쓰여질 수 있다\n~~~\nTwo fractions must have the same denominator to be added. \nThe easiest way to make sure they have the same denominator is to simply use the product of the two denominators as a common denominator \nso that a/b+c/d\u003dad/bd+cb/bd\u003dad+cb/bd The implementation is shown in Listing 5. \nThe addition function returns a new Fraction object with the numerator and denominator of the sum. \nWe can use this method by writing a standard arithmetic expression involving fractions, \nassigning the result of the addition, and then printing our result.\n~~~\n두 분수들은 반드시 추가되어질 같은 분모를 가지고 있어야만 한다.\n그들이 같은 분모를 가지는지 확인하는 가장 쉬운 방법은 단순히 두 분모의 곱을 공통적인 분모로써 사용하는 것이다.\na/b+c/d\u003dad/bd+cb/bd\u003dad+cb/bd가 되도록 그 구현은 Listing 5에 보여진다\n더하기 함수는 새로운 합의 분자와 분모를 가진 fraction 객체를 리턴한다 \n우리는 이 방법을 사용할 수 있다 /분수를 포함하는 표준 산술 표현식을 작성하고, 추가 결과를 할당함으로써 그리고 우리의 결과를 출력함으로써 \n~~~\nListing 5",
      "metadata": {
        "pycharm": {
          "metadata": false,
          "name": "#%% md\n"
        }
      }
    },
    {
      "cell_type": "code",
      "execution_count": 27,
      "outputs": [
        {
          "name": "stdout",
          "text": [
            "6/8\n"
          ],
          "output_type": "stream"
        }
      ],
      "source": "class Fraction:\n    def __init__(self, top, bottom):\n        self.num \u003d top\n        self.den \u003d bottom\n        \n    def show(self):\n        print(self.num, \"/\", self.den)\n    \n    def __str__(self):\n        return str(self.num) + \"/\" + str(self.den)\n    \n    def __add__(self, otherfraction):\n        newnum \u003d self.num * otherfraction.den  + self.den * otherfraction.num\n        newden \u003d self.den * otherfraction.den\n        \n        return Fraction(newnum, newden)\n\nf1 \u003d Fraction(1,4)\nf2 \u003d Fraction(1,2)\nf3 \u003d f1+f2\nprint(f3)",
      "metadata": {
        "pycharm": {
          "metadata": false,
          "name": "#%%\n",
          "is_executing": false
        }
      }
    },
    {
      "cell_type": "markdown",
      "source": "The addition method works as we desire, but one thing could be better. \nNote that 6/8 is the correct result (14+12) but that it is not in the “lowest terms” representation. The best representation would be 3/4. \nIn order to be sure that our results are always in the lowest terms, we need a helper function that knows how to reduce fractions. \nThis function will need to look for the greatest common divisor, or GCD. \nWe can then divide the numerator and the denominator by the GCD and the result will be reduced to lowest terms.\n~~~\n추가 메소드는 우리가 원하는 대로 작동하지만, 한 가지는 더 나을 수 있다\n주목해라 / 6/8은 올바른 결과(14+12)이지만, 그것은 \"가장 낮은 항\" 표현 안에 있지 않다. 가장 최고의 표현은 3/4 일것이다.\n우리의 결과가 항상 최저 항 안에 있도록 확실히 하기 위해서, 우리는 도우미 함수가 필요로 하다 / 분수를 줄이는 방법을 알고있는\n이 함수는 가장 큰 공약수를 찾아야하거나 GCD를 찾아야 한다.\n우리는 다음으로 분자와 분모를 GCD로 나눌 수 있고, 그 결과는 가장 낮은 항으로 줄일 수 있을 것이다.\n~~~\nThe best-known algorithm for finding a greatest common divisor is Euclid’s Algorithm, which will be discussed in detail in Chapter 8. \nEuclid’s Algorithm states that the greatest common divisor of two integers m and n is n if n divides m evenly. \nHowever, if n does not divide m evenly, then the answer is the greatest common divisor of n and the remainder of m divided by n. \nWe will simply provide an iterative implementation here (see ActiveCode 1). \nNote that this implementation of the GCD algorithm only works when the denominator is positive. \nThis is acceptable for our fraction class because we have said that a negative fraction will be represented by a negative numerator.\n~~~\n가장 큰 공약수를 찾는데 있어 가장 잘 알려진 알고리즘은 Euclid\u0027s 알고리즘이다. 이것은 chapter 8에서 자세히 토론되어질 것이다.\nEucild의 알고리즘은 말한다 / 만약 n이 m을 균등하게 나누면 두 정수 m과 n의 가장 큰 공약수는 n이라고 \n그러나, 만약 n이 m을 균등하게 나누지 않는다면, 답은 n의 최대 공약수이고 m의 나머지 부분을 n으로 나눈다\n우리는 여기서 단순히 반복적인 구현을 제공할 것이다 (봐라 ActiveCode 1).\n유의해라 / GCD 알고리즘의 이러한 구현은 오직 작동한다 / 분모가 양수일 때\n이것은 우리의 fraction 클래스에 받아 들여질 수 있다. 왜냐하면 우리는 불러왔다 음수 분수는 표현될 것이다 / 음의 분자에 의해\n~~~",
      "metadata": {
        "pycharm": {
          "metadata": false,
          "name": "#%% md\n"
        }
      }
    },
    {
      "cell_type": "code",
      "execution_count": 28,
      "outputs": [
        {
          "name": "stdout",
          "text": [
            "10\n"
          ],
          "output_type": "stream"
        }
      ],
      "source": "# ActiveCode 1\ndef gcd(m,n):\n    while m%n !\u003d 0:\n        oldm \u003d m\n        oldn \u003d n\n        \n        m \u003d oldn\n        n \u003d oldm%oldn\n    return n\nprint(gcd(20,10))\n",
      "metadata": {
        "pycharm": {
          "metadata": false,
          "name": "#%%\n",
          "is_executing": false
        }
      }
    },
    {
      "cell_type": "markdown",
      "source": "Now we can use this function to help reduce any fraction. \nTo put a fraction in lowest terms, we will divide the numerator and the denominator by their greatest common divisor. \nSo, for the fraction 6/8, the greatest common divisor is 2. Dividing the top and the bottom by 2 creates a new fraction, 3/4 (see Listing 6).\n~~~\n이제 우리는 이 함수를 사용할 수 있다 / 어떤 분수도 줄이도록 도울 수 있는\n가장 낮은 항에서의 분수을 놓기 위해, 우리는 분자와 분모를 나눌 것이다 / 그들의 최대 공약수로\n그래서, 분수 6/8의 경우 가최대 공약수는 2이다. 상단과 하단을 2로 나누는 것은 새로운 함수 3/4를 만든다. (Listing 6 참조)\n~~~\nListing 6",
      "metadata": {
        "pycharm": {
          "metadata": false,
          "name": "#%% md\n"
        }
      }
    },
    {
      "cell_type": "code",
      "execution_count": 31,
      "outputs": [
        {
          "name": "stdout",
          "text": [
            "3/4\n1.6666666666666667\n"
          ],
          "output_type": "stream"
        }
      ],
      "source": "class Fraction:\n    def __init__(self, top, bottom):\n        self.num \u003d top\n        self.den \u003d bottom\n        \n    def show(self):\n        print(self.num, \"/\", self.den)\n    \n    def __str__(self):\n        return str(self.num) + \"/\" + str(self.den)\n    \n    def __add__(self, otherfraction):\n        newnum \u003d self.num * otherfraction.den  + self.den * otherfraction.num\n        newden \u003d self.den * otherfraction.den\n        common \u003d gcd(newnum, newden)\n        return Fraction(newnum//common, newden//common)\n\nf1 \u003d Fraction(1,4)\nf2 \u003d Fraction(1,2)\nf3 \u003d f1+f2\nprint(f3)\n",
      "metadata": {
        "pycharm": {
          "metadata": false,
          "name": "#%% \n",
          "is_executing": false
        }
      }
    },
    {
      "cell_type": "markdown",
      "source": "Our Fraction object now has two very useful methods and looks like [Figure 6](http://interactivepython.org/courselib/static/pythonds/_images/fraction2.png). \nAn additional group of methods that we need to include in our example Fraction class will allow two fractions to compare themselves to one another. \nAssume we have two Fraction objects, f1 and f2. f1\u003d\u003df2 will only be True if they are references to the same object. \nTwo different objects with the same numerators and denominators would not be equal under this implementation. \nThis is called shallow equality (see [Figure 7](http://interactivepython.org/courselib/static/pythonds/_images/fraction3.png)).\n~~~\n우리의 Fraction 객체는 이제 2가지 가장 유용한 메소드를 가지고 그림 6처럼 보인다\n추가적인 메소드 그룹 (우리가 우리의 예 Fraction 클래스에서 포함시킬 필요가 있는)은 2개의 분수가 서로 비교될 수 있도록 할 것이다\n가정해라 / 우리는 2개의 Fraction 객체, f1 그리고 f2를 가지고 있고 f1 \u003d\u003d f2는 오직 그것들이 같은 객체에 대한 참조인 경우에만 True가 될 것이다.\n동일한 분자와 분모를 가진 두개의 다른 객체들은 이러한 구현하에 같지 않을 것이다.\n이것은 얕은 평등이라 불린다.\n~~~\nWe can create deep equality (see [Figure 7](http://interactivepython.org/courselib/static/pythonds/_images/fraction3.png))\n–equality by the same value, not the same reference–by overriding the __eq__ method. \nThe __eq__ method is another standard method available in any class. \nThe __eq__ method compares two objects and returns True if their values are the same, False otherwise.\n~~~\n우리는 깊은 평등을 만들 수 있다. (그림 7)\n __eq__ 메소드를 오버라이딩 함으로써 같은 참조가 아닌, 같은 값에 의해 동일성\n__eq__ 메소드는 또 다른 표준 메소드 이다 / 어떤 클래스에서나 이용가능한 \n__eq__ 메소드는 두 객체를 비교하고 True를 리턴한다 / 만약 그것들의 값이 같다면, 그렇지 않으면 False를 반환한다\n~~~\nIn the Fraction class, we can implement the __eq__ method by again putting the two fractions in common terms and then comparing the numerators (see Listing 7). \nIt is important to note that there are other relational operators that can be overridden. \nFor example, the __le__ method provides the less than or equal functionality.\n~~~\nFraction 클래스에서 우리는 __eq__ 메소드를 다시 구현할 수 있다 / 두 분수를 넣음으로써 / 공통적인 항에 / 그리고나서 분자를 비교함으로써 \n오버라이드 될 수 있는 다른 관계 연산자가 있다는 것을 유의하는 것이 중요하다 \n예를 들어, __le__ 메소드는 작거나 같은 기능을 제공한다 \n~~~\nListing 7\n~~~\ndef __eq__(self, other):\n    firstnum \u003d self.num * other.den\n    secondnum \u003d other.num * self.den\n    \n    return firstnum \u003d\u003d secondnum\n~~~\nThe complete Fraction class, up to this point, is shown in ActiveCode 2. \nWe leave the remaining arithmetic and relational methods as exercises.\n~~~\n이 시점까지 완전한 Fraction 클래스는 ActiveCode2에 보여진다\n우리는 남겨둔다 나머지 산술과 관계형 메소드들을 / 연습으로써 \n~~~",
      "metadata": {
        "pycharm": {
          "metadata": false,
          "name": "#%% md\n"
        }
      }
    },
    {
      "cell_type": "code",
      "execution_count": 32,
      "outputs": [
        {
          "name": "stdout",
          "text": [
            "7/6\nFalse\n"
          ],
          "output_type": "stream"
        }
      ],
      "source": "# ActiveCode2 \ndef gcd(m,n):\n    while m%n !\u003d 0:\n        oldm \u003d m\n        oldn \u003d n\n\n        m \u003d oldn\n        n \u003d oldm%oldn\n    return n\n\nclass Fraction:\n     def __init__(self,top,bottom):\n         self.num \u003d top\n         self.den \u003d bottom\n\n     def __str__(self):\n         return str(self.num)+\"/\"+str(self.den)\n\n     def show(self):\n         print(self.num,\"/\",self.den)\n\n     def __add__(self,otherfraction):\n         newnum \u003d self.num*otherfraction.den + \\\n                      self.den*otherfraction.num\n         newden \u003d self.den * otherfraction.den\n         common \u003d gcd(newnum,newden)\n         return Fraction(newnum//common,newden//common)\n\n     def __eq__(self, other):\n         firstnum \u003d self.num * other.den\n         secondnum \u003d other.num * self.den\n\n         return firstnum \u003d\u003d secondnum\n\nx \u003d Fraction(1,2)\ny \u003d Fraction(2,3)\nprint(x+y)\nprint(x \u003d\u003d y)\n\n\n",
      "metadata": {
        "pycharm": {
          "metadata": false,
          "name": "#%%\n",
          "is_executing": false
        }
      }
    },
    {
      "cell_type": "markdown",
      "source": "Self Check\n\nTo make sure you understand how operators are implemented in Python classes, \nand how to properly write methods, write some methods to implement *, /, and - . Also implement comparison operators \u003e and \u003c\n~~~\n파이썬 클래스에서 너가 연산들이 어떻게 수행되는지 이해하기를 확실히 하기 위해서\n그리고 적절히 메소드들을 작성하는 방법 및 구현하는 방법들을 알고 있어야 한다\n또한 구현하라 비교 연산자 \u003e 그리고 \u003c\n~~~",
      "metadata": {
        "pycharm": {
          "metadata": false,
          "name": "#%% md\n"
        }
      }
    }
  ],
  "metadata": {
    "language_info": {
      "codemirror_mode": {
        "name": "ipython",
        "version": 2
      },
      "file_extension": ".py",
      "mimetype": "text/x-python",
      "name": "python",
      "nbconvert_exporter": "python",
      "pygments_lexer": "ipython2",
      "version": "2.7.6"
    },
    "kernelspec": {
      "name": "python3",
      "language": "python",
      "display_name": "Python 3"
    }
  },
  "nbformat": 4,
  "nbformat_minor": 0
}