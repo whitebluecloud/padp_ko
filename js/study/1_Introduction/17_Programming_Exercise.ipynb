{
  "cells": [
    {
      "cell_type": "markdown",
      "metadata": {
        "collapsed": true,
        "pycharm": {
          "name": "#%% md\n"
        }
      },
      "source": "# Programming Exercises\n1. \nImplement the simple methods getNum and getDen that will return the numerator and denominator of a fraction.\n~~~\n간단한 getNum 그리고 getDen 메소드(분수의 분자와 분모를 리턴하는)를 구현해라 \n~~~"
    },
    {
      "cell_type": "code",
      "execution_count": 24,
      "outputs": [
        {
          "name": "stdout",
          "text": [
            "1/2\n"
          ],
          "output_type": "stream"
        }
      ],
      "source": "# 1.\nimport fractions\ndef getNum(n):\n    return n.split(\u0027/\u0027)[0]\ndef getDen(n):\n    return n.split(\u0027/\u0027)[1]\n\nfrt \u003d fractions.Fraction(1,2).__str__() # 1/2\nprint(getNum(frt) + \"/\" + getDen(frt))\n",
      "metadata": {
        "pycharm": {
          "metadata": false,
          "name": "#%%\n",
          "is_executing": false
        }
      }
    },
    {
      "cell_type": "markdown",
      "source": "2. \nIn many ways it would be better if all fractions were maintained in lowest terms right from the start. \nModify the constructor for the Fraction class so that GCD is used to reduce fractions immediately. \nNotice that this means the __add__ function no longer needs to reduce. \nMake the necessary modifications.\n~~~\n많은 방법에서 그것은 더 나아질 것이다 / 만약 모든 분수들이 가장 낮은 항으로 유지 된다면 / 처음부터\nFraction 클래스의 생성자를 수정하시오 / GCD가 즉시 분수를 줄이는데 \n주목해라 / 이것은 __add__ 함수가 더이상 축소될 필요가 없다는 것을 의미한다 / 필요한 수정을 하라\n~~~\n\n\n",
      "metadata": {
        "pycharm": {
          "metadata": false,
          "name": "#%% md\n"
        }
      }
    }
  ],
  "metadata": {
    "language_info": {
      "codemirror_mode": {
        "name": "ipython",
        "version": 2
      },
      "file_extension": ".py",
      "mimetype": "text/x-python",
      "name": "python",
      "nbconvert_exporter": "python",
      "pygments_lexer": "ipython2",
      "version": "2.7.6"
    },
    "kernelspec": {
      "name": "python3",
      "language": "python",
      "display_name": "Python 3"
    }
  },
  "nbformat": 4,
  "nbformat_minor": 0
}