{
  "cells": [
    {
      "cell_type": "markdown",
      "metadata": {
        "collapsed": true,
        "pycharm": {
          "name": "#%% md\n"
        }
      },
      "source": "# Programming Exercises\n1. \nImplement the simple methods getNum and getDen that will return the numerator and denominator of a fraction.\n~~~\n간단한 getNum 그리고 getDen 메소드(분수의 분자와 분모를 리턴하는)를 구현해라 \n~~~"
    },
    {
      "cell_type": "code",
      "execution_count": 39,
      "outputs": [
        {
          "name": "stdout",
          "text": [
            "1/2\n"
          ],
          "output_type": "stream"
        }
      ],
      "source": "# 1.\nimport fractions\ndef getNum(n):\n    return n.split(\u0027/\u0027)[0]\ndef getDen(n):\n    return n.split(\u0027/\u0027)[1]\n\nfrt \u003d fractions.Fraction(1,2).__str__() # 1/2\nprint(getNum(frt) + \"/\" + getDen(frt))\n",
      "metadata": {
        "pycharm": {
          "metadata": false,
          "name": "#%%\n",
          "is_executing": false
        }
      }
    },
    {
      "cell_type": "markdown",
      "source": "2. \nIn many ways it would be better if all fractions were maintained in lowest terms right from the start. \nModify the constructor for the Fraction class so that GCD is used to reduce fractions immediately. \nNotice that this means the __add__ function no longer needs to reduce. \nMake the necessary modifications.\n~~~\n많은 방법에서 그것은 더 나아질 것이다 / 만약 모든 분수들이 가장 낮은 항으로 유지 된다면 / 처음부터\nFraction 클래스의 생성자를 수정하시오 / GCD가 즉시 분수를 줄이는데 \n주목해라 / 이것은 __add__ 함수가 더이상 축소될 필요가 없다는 것을 의미한다 / 필요한 수정을 하라\n~~~",
      "metadata": {
        "pycharm": {
          "metadata": false,
          "name": "#%% md\n"
        }
      }
    },
    {
      "cell_type": "code",
      "execution_count": 42,
      "outputs": [],
      "source": "def gcd(m,n):\n    while m%n !\u003d 0:\n        oldm \u003d m\n        oldn \u003d n\n\n        m \u003d oldn\n        n \u003d oldm%oldn\n    return n\n\ndef isNumber(s):\n    try:\n        float(s)\n        return True\n    except ValueError:\n        return False\n\nclass Fraction:\n    # 2번문제 생성자 수정\n     def __init__(self,top,bottom):\n         if isNumber(top) and isNumber(bottom):\n            self.num \u003d top//gcd(top, bottom)\n            self.den \u003d bottom//gcd(top, bottom)\n         else:\n             raise Exception\n     def __str__(self):\n         return str(self.num)+\"/\"+str(self.den)\n\n     def show(self):\n         print(self.num,\"/\",self.den)\n\n     def __add__(self,otherfraction):\n         newnum \u003d self.num*otherfraction.den + \\\n                      self.den*otherfraction.num\n         newden \u003d self.den * otherfraction.den\n         return Fraction(newnum,newden)\n    \n     def __radd__(self, otherfraction):\n         newnum \u003d otherfraction.den * self.num + \\\n                     otherfraction.num * self.den\n         newden \u003d otherfraction.den * self.den\n         return Fraction(newnum,newden)\n    \n     def __iadd__(self, otherfraction):\n         newnum \u003d self.num*otherfraction.den \n         newnum +\u003d  self.den*otherfraction.num\n         newden \u003d self.den * otherfraction.den\n         return Fraction(newnum,newden)\n    \n     def __eq__(self, other):\n         firstnum \u003d self.num * other.den\n         secondnum \u003d other.num * self.den\n         return firstnum \u003d\u003d secondnum\n    # 3. __sub__, __mul__, __truediv__\n     def __sub__(self, other):\n        newnum \u003d self.num*other.den - \\\n                    self.den*other.num\n        newden \u003d self.den * other.den\n        return Fraction(newnum, newden)\n        \n     def __mul__(self, other):\n        newnum \u003d self.num * other.num\n        newden \u003d self.den * other.den\n        return Fraction(newnum, newden)\n\n     def __truediv__(self, other):\n        newnum \u003d self.num * other.den\n        newden \u003d self.den * other.num\n        return Fraction(newnum, newden)\n    \n    # 4. _gt__, __ge__, __lt__, __le__, and __ne__\n     def __gt__(self, other):\n         newnum \u003d self.num * other.den\n         newden \u003d self.den * other.num\n         return newnum \u003e newden\n    \n     def __ge__(self, other):\n         newnum \u003d self.num * other.den\n         newden \u003d self.den * other.num\n         return newnum \u003e\u003d newden\n    \n     def __lt__(self, other):\n         newnum \u003d self.num * other.den\n         newden \u003d self.den * other.num\n         return newnum \u003c newden    \n\n     def __le__(self, other):\n         newnum \u003d self.num * other.den\n         newden \u003d self.den * other.num\n         return newnum \u003c\u003d newden\n     \n     def __gt__(self, other):\n         newnum \u003d self.num * other.den\n         newden \u003d self.den * other.num\n         return newnum !\u003d newden\n    \n\n   \na \u003d Fraction(2,4)\nb \u003d a.__add__(Fraction(1,4))\nc \u003d a.__sub__(Fraction(1,4))\nd \u003d a.__mul__(Fraction(2,4))\ne \u003d a.__truediv__(Fraction(2,4))\nf \u003d a.__gt__(Fraction(3,4))\ng \u003d Fraction(2,4)\nk \u003d Fraction(-2,-4)\n#k \u003d Fraction(2,\"a\")\n\n\n",
      "metadata": {
        "pycharm": {
          "metadata": false,
          "name": "#%%\n",
          "is_executing": false
        }
      }
    },
    {
      "cell_type": "markdown",
      "source": "3.\nImplement the remaining simple arithmetic operators (__sub__, __mul__, and __truediv__).",
      "metadata": {
        "pycharm": {
          "metadata": false,
          "name": "#%% md\n"
        }
      }
    },
    {
      "cell_type": "code",
      "execution_count": null,
      "outputs": [],
      "source": "",
      "metadata": {
        "pycharm": {
          "metadata": false,
          "name": "#%%\n"
        }
      }
    },
    {
      "cell_type": "markdown",
      "source": "4. \nImplement the remaining relational operators (__gt__, __ge__, __lt__, __le__, and __ne__)\n",
      "metadata": {
        "pycharm": {
          "metadata": false,
          "name": "#%% md\n"
        }
      }
    },
    {
      "cell_type": "code",
      "execution_count": null,
      "outputs": [],
      "source": "",
      "metadata": {
        "pycharm": {
          "metadata": false,
          "name": "#%%\n"
        }
      }
    },
    {
      "cell_type": "markdown",
      "source": "5.\nModify the constructor for the fraction class so that it checks to make sure that the numerator and denominator are both integers. \\\nIf either is not an integer the constructor should raise an exception.\n",
      "metadata": {
        "pycharm": {
          "metadata": false,
          "name": "#%% md\n"
        }
      }
    },
    {
      "cell_type": "code",
      "execution_count": null,
      "outputs": [],
      "source": "",
      "metadata": {
        "pycharm": {
          "metadata": false,
          "name": "#%%\n"
        }
      }
    },
    {
      "cell_type": "markdown",
      "source": "6.\nIn the definition of fractions we assumed that negative fractions have a negative numerator and a positive denominator. \nUsing a negative denominator would cause some of the relational operators to give incorrect results. In general, this is an unnecessary constraint. \nModify the constructor to allow the user to pass a negative denominator so that all of the operators continue to work properly.\n",
      "metadata": {
        "pycharm": {
          "metadata": false,
          "name": "#%% md\n"
        }
      }
    },
    {
      "cell_type": "code",
      "execution_count": null,
      "outputs": [],
      "source": "",
      "metadata": {
        "pycharm": {
          "metadata": false,
          "name": "#%% \n"
        }
      }
    },
    {
      "cell_type": "markdown",
      "source": "7.\nResearch the __radd__ method. How does it differ from __add__? When is it used? Implement __radd__.",
      "metadata": {
        "pycharm": {
          "metadata": false,
          "name": "#%% md\n"
        }
      }
    },
    {
      "cell_type": "code",
      "execution_count": null,
      "outputs": [],
      "source": "",
      "metadata": {
        "pycharm": {
          "metadata": false,
          "name": "#%%\n"
        }
      }
    },
    {
      "cell_type": "markdown",
      "source": "8. \nRepeat the last question but this time consider the __iadd__ method.",
      "metadata": {
        "pycharm": {
          "metadata": false,
          "name": "#%% md\n"
        }
      }
    }
  ],
  "metadata": {
    "language_info": {
      "codemirror_mode": {
        "name": "ipython",
        "version": 2
      },
      "file_extension": ".py",
      "mimetype": "text/x-python",
      "name": "python",
      "nbconvert_exporter": "python",
      "pygments_lexer": "ipython2",
      "version": "2.7.6"
    },
    "kernelspec": {
      "name": "python3",
      "language": "python",
      "display_name": "Python 3"
    }
  },
  "nbformat": 4,
  "nbformat_minor": 0
}