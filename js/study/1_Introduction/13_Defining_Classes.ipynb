{
  "cells": [
    {
      "cell_type": "markdown",
      "metadata": {
        "collapsed": true,
        "pycharm": {
          "name": "#%% md\n"
        }
      },
      "source": "### 1.13 Object-Oriented Programming in Python: Defining Classes\n\nWe stated earlier that Python is an object-oriented programming language. \nSo far, we have used a number of built-in classes to show examples of data and control structures. \nOne of the most powerful features in an object-oriented programming language is the ability to allow a programmer (problem solver) to create new classes that model data that is needed to solve the problem.\n~~~\n\n~~~\nRemember that we use abstract data types to provide the logical description of what a data object looks like (its state) and what it can do (its methods). \nBy building a class that implements an abstract data type, a programmer can take advantage of the abstraction process and at the same time provide the details necessary to actually use the abstraction in a program. \nWhenever we want to implement an abstract data type, we will do so with a new class.\n~~~\n\n~~~"
    }
  ],
  "metadata": {
    "language_info": {
      "codemirror_mode": {
        "name": "ipython",
        "version": 2
      },
      "file_extension": ".py",
      "mimetype": "text/x-python",
      "name": "python",
      "nbconvert_exporter": "python",
      "pygments_lexer": "ipython2",
      "version": "2.7.6"
    },
    "kernelspec": {
      "name": "python3",
      "language": "python",
      "display_name": "Python 3"
    }
  },
  "nbformat": 4,
  "nbformat_minor": 0
}