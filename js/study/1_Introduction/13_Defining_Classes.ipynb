{
  "cells": [
    {
      "cell_type": "markdown",
      "metadata": {
        "collapsed": true,
        "pycharm": {
          "name": "#%% md\n"
        }
      },
      "source": "### 1.13 Object-Oriented Programming in Python: Defining Classes (파이썬에서 객체 지향 프로그래밍 : 클래스 정의하기)\n\nWe stated earlier that Python is an object-oriented programming language. \nSo far, we have used a number of built-in classes to show examples of data and control structures. \nOne of the most powerful features in an object-oriented programming language is the ability to allow a programmer (problem solver) to create new classes that model data that is needed to solve the problem.\n~~~\n우리는 앞서 언급했다 /  파이썬은 객체 지향 프로그래밍 언어라고\n지금까지, 우리는 많은 내장 클래스들을 사용해왔다 / 데이터와 제어 구조들을예 대한 예를 보여주기 위해서\n객체 지향 프로그래밍 언어에서 가장 강력한 특징들 중의 하나는 개발자(문제를 푸는자)로 하여금 새로운 클래스들을 만들게끔 허용하는 능력이다. 그리고 그 클래스는 문제를 해결하는데 필요로 되어진다.\n~~~\nRemember that we use abstract data types to provide the logical description of what a data object looks like (its state) and what it can do (its methods). \nBy building a class that implements an abstract data type, a programmer can take advantage of the abstraction process and at the same time provide the details necessary to actually use the abstraction in a program. \nWhenever we want to implement an abstract data type, we will do so with a new class.\n~~~\n기억해라 / 우리는 추상적인 데이터 타입을 사용하여 데이터 객체가 어떻게 생겼는지 (그것의 상태) 그리고 그것이 무엇을 할 수 있는지 (메소드)에 대한 논리적 설명을 제공한다\n추상적 데이터 타입을 구현하는 클래스를 구측함으로써, 개발자는 추상화 과정을 이용할 수 있다 그리고 동시에 실제 프로그램에서 추상화를 사용하는 데 세부사항들을 제공할 수 있다.\n우리가 추상적 데이터 타입을 구현하고 싶을 때 마다, 우리는 새로운 클래스를 그렇게 할 것이다.\n~~~"
    }
  ],
  "metadata": {
    "language_info": {
      "codemirror_mode": {
        "name": "ipython",
        "version": 2
      },
      "file_extension": ".py",
      "mimetype": "text/x-python",
      "name": "python",
      "nbconvert_exporter": "python",
      "pygments_lexer": "ipython2",
      "version": "2.7.6"
    },
    "kernelspec": {
      "name": "python3",
      "language": "python",
      "display_name": "Python 3"
    }
  },
  "nbformat": 4,
  "nbformat_minor": 0
}