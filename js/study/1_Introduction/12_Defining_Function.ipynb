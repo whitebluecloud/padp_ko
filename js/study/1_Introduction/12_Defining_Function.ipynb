{
  "cells": [
    {
      "cell_type": "markdown",
      "metadata": {
        "collapsed": true,
        "pycharm": {
          "name": "#%% md\n"
        }
      },
      "source": "### 1.12 Defining_Fuction (함수 정의)\nThe earlier example of procedural abstraction called upon a Python function called sqrt from the math module to compute the square root. \nIn general, we can hide the details of any computation by defining a function. \nA function definition requires a name, a group of parameters, and a body. \nIt may also explicitly return a value. \nFor example, the simple function defined below returns the square of the value you pass into it.\n~~~\n이전의 절차적 추상화의 예는 파이썬 함수를 호출했다 / sqrt 라고 불리는 / 제곱근을 계산하는 수학모듈로부터 \n일반적으로, 우리는 계산의 세부사항을 숨길 수 있다 / 함수를 정의함으로써\n함수정의는 이름, 파마리터의 그룹, 그리고 본문이 필요로 하다.\n또한 명시적으로 값을 반환할 수도 있다.\n예를들어, 아래에 정의된 간단한 함수는 너에게 전달한 값의 제곱을 리턴한다.\\\n(함수 정의에는 이름, 파라미터, 본문이 필요하고, 함수를 정의함으로써 우리의 기능을 숨길 수 있다)\n~~~"
    },
    {
      "cell_type": "code",
      "execution_count": 1,
      "outputs": [
        {
          "name": "stdout",
          "text": [
            "9\n81\n"
          ],
          "output_type": "stream"
        }
      ],
      "source": "def squre(n):\n    return n ** 2\n\nprint(squre(3))\nprint(squre(squre(3)))",
      "metadata": {
        "pycharm": {
          "metadata": false,
          "name": "#%%\n",
          "is_executing": false
        }
      }
    },
    {
      "cell_type": "markdown",
      "source": "The syntax for this function definition includes the name, square, and a parenthesized list of formal parameters. \nFor this function, n is the only formal parameter, which suggests that square needs only one piece of data to do its work.\nThe details, hidden “inside the box,” simply compute the result of n**2 and return it. \nWe can invoke or call the square function by asking the Python environment to evaluate it, passing an actual parameter value, in this case, 3. \nNote that the call to square returns an integer that can in turn be passed to another invocation.\n~~~\n이 함수 정의에 대한 구문에는 형식 이름, squre 및 형식 파라미터의 괄호로 묶인 목록이 포함된다.\n이 함수의 경우, n은 유일한 형식 파라미터이다, 그리고 그것은 sqare가 작업을 수행하기위해  오직 1개의 데이터만 필요하다는 것을 나타낸다.\n\"박스 내부에\" 숨겨진 세부사항들은 단순히 n의 2제곱을 계산하고 그 값을 리턴한다.\n우리는 square 함수를 부르거나 호출할 수 있다 / 파이썬 환경이 이러한 환경에 3이라는 실제 파라미터 값을 전달하여 그것을 평가하도록 요청함으로써 \nsquare에 대한 호출이 또 다른 호출로 전달될 수 있는 정수를 반환한다는 점에 유의하라\n~~~\nWe could implement our own square root function by using a well-known technique called “Newton’s Method.” \nNewton’s Method for approximating square roots performs an iterative computation that converges on the correct value. \nThe equation newguess\u003d1/2∗(oldguess+n/oldguess) takes a value n and repeatedly guesses the square root by making each newguess the oldguess in the subsequent iteration. \nThe initial guess used here is n/2. \nListing 1 shows a function definition that accepts a value n and returns the square root of n after making 20 guesses. \nAgain, the details of Newton’s Method are hidden inside the function definition and the user does not have to know anything about the implementation to use the function for its intended purpose. \nListing 1 also shows the use of the # character as a comment marker. Any characters that follow the # on a line are ignored.\n~~~\n우리는 우리의 제곱근 함수를 구현할 수 있다 / 잘 알려진 기술인 뉴턴의 법칙을 사용함으로써\n뉴턴의 법칙 (제곱근의 근사치를 내는것에 대한)은 반복적인 연산을 수행하여 정확한 값에 수렴한다. \n방정식  newguess\u003d1/2∗(oldguess+n/oldguess)는 n이라는 값을 취하고, 반복적으로 제곱근을 추측한다 / 각 newguess로 하여금 그 다음의 반복에서 oldguess로 만듬으로써\n여기에 사용된 초기 추정값은 n/2 이다. \nListing 1은 함수 정의를 보여준다 / 그 정의는 값을 받고 n의 제곱근을 리턴한다 / 20개의 추측들을 한 후에\n다시, 뉴턴의 법칙에 대한 세부사항들은 함수 정의 안에 숨겨져 있고 사용자는 의도된 목적에 대한 함수를 사용하기 위해 구현에 대해 어떤것도 알 필요가 없다.\nListing 1은 또한 # 문자를 주석으로서 사용하는 것을 보여준다.\n라인에서 #을 따르는 어떤 문자도 무시되어진다.\n~~~\nListing 1",
      "metadata": {
        "pycharm": {
          "metadata": false
        }
      }
    },
    {
      "cell_type": "code",
      "execution_count": 2,
      "outputs": [
        {
          "name": "stdout",
          "text": [
            "3.0\n67.54998149518622\n"
          ],
          "output_type": "stream"
        }
      ],
      "source": "def squareroot(n):\n    root \u003d n/2\n    for k in range(20):\n        root \u003d (1/2)*(root + (n/root))\n    return root\n\nprint(squareroot(9))\nprint(squareroot(4563))\n\n",
      "metadata": {
        "pycharm": {
          "metadata": false,
          "name": "#%%\n",
          "is_executing": false
        }
      }
    },
    {
      "cell_type": "markdown",
      "source": "Self Check\n\nHere’s a self check that really covers everything so far. \nYou may have heard of the infinite monkey theorem? \nThe theorem states that a monkey hitting keys at random on a typewriter keyboard for an infinite amount of time will almost surely type a given text, \nsuch as the complete works of William Shakespeare. \nWell, suppose we replace a monkey with a Python function. \nHow long do you think it would take for a Python function to generate just one sentence of Shakespeare? The sentence we’ll shoot for is: “methinks it is like a weasel”\n~~~\n여기에 셀프 체크가 있다 / 지금까지 모든 것을 실제로 다루는\n무한한 원숭이의 이론에 대해 들어보셧습니까?\n이 이론은 말한다 /  타자기 키보드에서 무한한 시간동안 랜덤으로 키를 때리는 원숭이는 거의 확실히 주어진 텍스트를 입력할 것이다, works of William Shakespear와 같은\n가정해보자 / 우리가 원숭이를 파이썬 함수로 대체한다고\n너는 얼마나 오래 걸린다고 생각합니까? / 파이썬 함수가 단순히 Shakespear의 한 문장만 생성하는데 \n우리가 찍은 문장은 \"methinks it is like a weasel”\n~~~\nYou’re not going to want to run this one in the browser, so fire up your favorite Python IDE. \nThe way we’ll simulate this is to write a function that generates a string that is 27 characters long by choosing random letters from the 26 letters in the alphabet plus the space. \nWe’ll write another function that will score each generated string by comparing the randomly generated string to the goal.\n~~~\n너가 브라우저에서 이 이것을 실행기를 원하지 않을 것이므로, 너가 좋아하는 Python IDE를 실행하라\n우리가 이것을 시뮬레이션하는 방법은 함수를 작성하는 것이다 / 문자열을 생성하는 / 27개의 긴 문자를 가진/ 알파벳 26 문자로 부터 랜덤의 문자와 공간을 더해 선택함으로써\n우리는 또 다른 함수를 작성할 것이다 / 무작위로 생성 된 문자열을 목표와 비교하여 각각의 생성된 문자열에 점수를 매기는\n~~~\nA third function will repeatedly call generate and score, then if 100% of the letters are correct we are done. \nIf the letters are not correct then we will generate a whole new string.\nTo make it easier to follow your program’s progress this third function should print out the best string generated so far and its score every 1000 tries\n~~~\n세 번재 함수는 반복적으로 생성과 점수를 호출할 것이고, 그리고 나서 만약 100% 문자들이 정확하다면 우리는 끝이다.\n만약 그 문자열들이 정확하지 않다면, 우리는 완전히 새로운 만자열을 생성할 것이다.\n너의 프로그램 진행을 더욱 쉽게하기 위해서 이 세 번째 함수는 출력해야만한다 / 지금까지 만들어진 가장 최고의 문자열과 1000 번의 시도마다 점수를\n~~~\n\nSelf Check Challenge\n\nSee if you can improve upon the program in the self check by keeping letters that are correct and only modifying one character in the best string so far. \nThis is a type of algorithm in the class of ‘hill climbing’ algorithms, that is we only keep the result if it is better than the previous one.\n~~~\n확인해라 너가 자체적으로 프로그램을 향상 시킬 수 있을지 없을지 / 올바른 문자열들은 유지하고, 오직 하나의 문자만 수정함으로써 / 지금까지 최고의 문자열에서.\n이것은 \u0027hill climbing\u0027 알고리즘의 클래스에 대한 알고리즘의 유형이다. 즉, 우리는 그 결과를 유지한다 만약 이전보다 더 나은 상황이라면\n~~~",
      "metadata": {
        "pycharm": {
          "metadata": false,
          "name": "#%% md\n"
        }
      }
    }
  ],
  "metadata": {
    "language_info": {
      "codemirror_mode": {
        "name": "ipython",
        "version": 2
      },
      "file_extension": ".py",
      "mimetype": "text/x-python",
      "name": "python",
      "nbconvert_exporter": "python",
      "pygments_lexer": "ipython2",
      "version": "2.7.6"
    },
    "kernelspec": {
      "name": "python3",
      "language": "python",
      "display_name": "Python 3"
    }
  },
  "nbformat": 4,
  "nbformat_minor": 0
}