{
  "cells": [
    {
      "cell_type": "markdown",
      "metadata": {
        "collapsed": true,
        "pycharm": {
          "name": "#%% md\n"
        }
      },
      "source": "### 1.12 Defining_Fuction (함수 정의)\nThe earlier example of procedural abstraction called upon a Python function called sqrt from the math module to compute the square root. \nIn general, we can hide the details of any computation by defining a function. \nA function definition requires a name, a group of parameters, and a body. \nIt may also explicitly return a value. \nFor example, the simple function defined below returns the square of the value you pass into it.\n~~~\n\n~~~"
    },
    {
      "cell_type": "code",
      "execution_count": 2,
      "outputs": [],
      "source": "aName \u003d input(\u0027Please enter your name: \u0027)\n",
      "metadata": {
        "pycharm": {
          "metadata": false,
          "name": "#%%\n",
          "is_executing": false
        }
      }
    },
    {
      "cell_type": "markdown",
      "source": "The syntax for this function definition includes the name, square, and a parenthesized list of formal parameters. \nFor this function, n is the only formal parameter, which suggests that square needs only one piece of data to do its work.\nThe details, hidden “inside the box,” simply compute the result of n**2 and return it. \nWe can invoke or call the square function by asking the Python environment to evaluate it, passing an actual parameter value, in this case, 3. \nNote that the call to square returns an integer that can in turn be passed to another invocation.\n\nWe could implement our own square root function by using a well-known technique called “Newton’s Method.” \nNewton’s Method for approximating square roots performs an iterative computation that converges on the correct value. \nThe equation newguess\u003d1/2∗(oldguess+n/oldguess) takes a value n and repeatedly guesses the square root by making each newguess the oldguess in the subsequent iteration. \nThe initial guess used here is n/2. Listing 1 shows a function definition that accepts a value n and returns the square root of n after making 20 guesses. \nAgain, the details of Newton’s Method are hidden inside the function definition and the user does not have to know anything about the implementation to use the function for its intended purpose. \nListing 1 also shows the use of the # character as a comment marker. Any characters that follow the # on a line are ignored.\n\nListing 1",
      "metadata": {
        "pycharm": {
          "metadata": false
        }
      }
    },
    {
      "cell_type": "code",
      "execution_count": null,
      "outputs": [],
      "source": "",
      "metadata": {
        "pycharm": {
          "metadata": false,
          "name": "#%%\n"
        }
      }
    },
    {
      "cell_type": "markdown",
      "source": "Self Check\n\nHere’s a self check that really covers everything so far. \nYou may have heard of the infinite monkey theorem? \nThe theorem states that a monkey hitting keys at random on a typewriter keyboard for an infinite amount of time will almost surely type a given text, \nsuch as the complete works of William Shakespeare. \nWell, suppose we replace a monkey with a Python function. \nHow long do you think it would take for a Python function to generate just one sentence of Shakespeare? The sentence we’ll shoot for is: “methinks it is like a weasel”\n~~~\n\n~~~\nYou’re not going to want to run this one in the browser, so fire up your favorite Python IDE. \nThe way we’ll simulate this is to write a function that generates a string that is 27 characters long by choosing random letters from the 26 letters in the alphabet plus the space. \nWe’ll write another function that will score each generated string by comparing the randomly generated string to the goal.\n~~~\n\n~~~\nA third function will repeatedly call generate and score, then if 100% of the letters are correct we are done. \nIf the letters are not correct then we will generate a whole new string.\nTo make it easier to follow your program’s progress this third function should print out the best string generated so far and its score every 1000 tries\n~~~\n\n~~~\n\nSelf Check Challenge\n\nSee if you can improve upon the program in the self check by keeping letters that are correct and only modifying one character in the best string so far. \nThis is a type of algorithm in the class of ‘hill climbing’ algorithms, that is we only keep the result if it is better than the previous one.\n~~~\n\n~~~",
      "metadata": {
        "pycharm": {
          "metadata": false,
          "name": "#%% md\n"
        }
      }
    }
  ],
  "metadata": {
    "language_info": {
      "codemirror_mode": {
        "name": "ipython",
        "version": 2
      },
      "file_extension": ".py",
      "mimetype": "text/x-python",
      "name": "python",
      "nbconvert_exporter": "python",
      "pygments_lexer": "ipython2",
      "version": "2.7.6"
    },
    "kernelspec": {
      "name": "python3",
      "language": "python",
      "display_name": "Python 3"
    }
  },
  "nbformat": 4,
  "nbformat_minor": 0
}