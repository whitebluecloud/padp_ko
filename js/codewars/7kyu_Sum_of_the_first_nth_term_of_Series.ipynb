{
  "cells": [
    {
      "cell_type": "markdown",
      "source": "[문제](https://www.codewars.com/kata/sum-of-the-first-nth-term-of-series/train/python)\n",
      "metadata": {
        "pycharm": {
          "metadata": false,
          "name": "#%% md\n"
        }
      }
    },
    {
      "cell_type": "code",
      "execution_count": 2,
      "outputs": [
        {
          "name": "stdout",
          "text": [
            "1.00\n1.39\n1.57\n"
          ],
          "output_type": "stream"
        }
      ],
      "source": "def series_sum(n):\n    return format(sum([1/(i*3 + 1) for i in range(n)]), \u0027.2f\u0027)\n\nprint(series_sum(1))\nprint(series_sum(3))\nprint(series_sum(5))",
      "metadata": {
        "pycharm": {
          "metadata": false,
          "name": "#%%\n",
          "is_executing": false
        }
      }
    }
  ],
  "metadata": {
    "language_info": {
      "codemirror_mode": {
        "name": "ipython",
        "version": 2
      },
      "file_extension": ".py",
      "mimetype": "text/x-python",
      "name": "python",
      "nbconvert_exporter": "python",
      "pygments_lexer": "ipython2",
      "version": "2.7.6"
    },
    "kernelspec": {
      "name": "python3",
      "language": "python",
      "display_name": "Python 3"
    },
    "stem_cell": {
      "cell_type": "raw",
      "source": "",
      "metadata": {
        "pycharm": {
          "metadata": false
        }
      }
    }
  },
  "nbformat": 4,
  "nbformat_minor": 0
}