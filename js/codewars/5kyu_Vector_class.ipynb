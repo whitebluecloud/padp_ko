{
  "cells": [
    {
      "cell_type": "markdown",
      "source": "[문제](https://www.codewars.com/kata/vector-class/train/python)\n",
      "metadata": {
        "pycharm": {
          "metadata": false,
          "name": "#%% md\n"
        }
      }
    },
    {
      "cell_type": "code",
      "execution_count": 138,
      "outputs": [],
      "source": "\ndef excepton_check(a,b):\n    if len(a.list) !\u003d len(b.list):\n        raise Exception()   \n    \nimport math\nclass Vector:\n    def __init__(self, list):\n        self.list \u003d list\n    \n    def __str__(self):\n        return str(self.list).replace(\" \", \"\").replace(\"[\",\"(\").replace(\"]\",\")\")\n        \n    def add(self, otherVector):\n        excepton_check(self,otherVector)\n        return Vector([self.list[i] + otherVector.list[i] for i in range(len(self.list))])\n        \n    def subtract(self, otherVector):\n        excepton_check(self,otherVector)\n        return Vector([self.list[i] - otherVector.list[i]  for i in range(len(self.list))])\n\n    def dot(self, otherVector):\n        excepton_check(self,otherVector)\n        return sum([self.list[i] * otherVector.list[i] for i in range(len(self.list))])\n\n    def norm(self):\n        return math.sqrt(sum([i**2 for i in self.list]))\n    \n    def equals(self, otherVector):\n        for i in range(len(self.list)):\n            if self.list[i] !\u003d otherVector.list[i]:\n                return False\n        return True    \n",
      "metadata": {
        "pycharm": {
          "metadata": false,
          "name": "#%%\n",
          "is_executing": false
        }
      }
    }
  ],
  "metadata": {
    "language_info": {
      "codemirror_mode": {
        "name": "ipython",
        "version": 2
      },
      "file_extension": ".py",
      "mimetype": "text/x-python",
      "name": "python",
      "nbconvert_exporter": "python",
      "pygments_lexer": "ipython2",
      "version": "2.7.6"
    },
    "kernelspec": {
      "name": "python3",
      "language": "python",
      "display_name": "Python 3"
    },
    "stem_cell": {
      "cell_type": "raw",
      "source": "",
      "metadata": {
        "pycharm": {
          "metadata": false
        }
      }
    }
  },
  "nbformat": 4,
  "nbformat_minor": 0
}