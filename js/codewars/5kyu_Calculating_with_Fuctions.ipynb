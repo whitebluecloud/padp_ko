{
  "cells": [
    {
      "cell_type": "markdown",
      "source": "[문제](https://www.codewars.com/kata/maximum-subarray-sum/train/python)\n",
      "metadata": {
        "pycharm": {
          "metadata": false,
          "name": "#%% md\n"
        }
      }
    },
    {
      "cell_type": "code",
      "execution_count": 138,
      "outputs": [],
      "source": "\ndef zero(a\u003dNone): #your code here\n    if a is None :  return 0\n    else : return a(0)\n\ndef one(a\u003dNone): #your code here\n    if a is None :  return 1\n    else : return a(1)\n\ndef two(a\u003dNone): #your code here\n    if a is None :  return 2\n    else :  return  a(2)\n\ndef three(a\u003dNone): #your code here\n    if a is None :  return 3\n    else : return a(3)\n    \ndef four(a\u003dNone): #your code here\n    if a is None :  return 4\n    else : return a(4)\n\ndef five(a\u003dNone): #your code here\n    if a is None :  return 5\n    else : return a(5)\n\ndef six(a\u003dNone): #your code here\n    if a is None :  return 6\n    else :  return a(6)\n\ndef seven(a\u003dNone): #your code here\n    if a is None :  return 7\n    else : return a(7)    \n    \ndef eight(a\u003dNone): #your code here\n    if a is None :  return 8\n    else : return a(8)    \n\ndef nine(a\u003dNone): #your code here\n    if a is None :  return 9\n    else : return a(9)        \n    \n\ndef plus(a):\n    return lambda x: a+x\n\ndef minus(a):\n    return lambda x: x-a\n\ndef times(a):\n    return lambda x: a*x\n\ndef divided_by(a):\n    return lambda x: x//a\n\n",
      "metadata": {
        "pycharm": {
          "metadata": false,
          "name": "#%%\n",
          "is_executing": false
        }
      }
    }
  ],
  "metadata": {
    "language_info": {
      "codemirror_mode": {
        "name": "ipython",
        "version": 2
      },
      "file_extension": ".py",
      "mimetype": "text/x-python",
      "name": "python",
      "nbconvert_exporter": "python",
      "pygments_lexer": "ipython2",
      "version": "2.7.6"
    },
    "kernelspec": {
      "name": "python3",
      "language": "python",
      "display_name": "Python 3"
    },
    "stem_cell": {
      "cell_type": "raw",
      "source": "",
      "metadata": {
        "pycharm": {
          "metadata": false
        }
      }
    }
  },
  "nbformat": 4,
  "nbformat_minor": 0
}