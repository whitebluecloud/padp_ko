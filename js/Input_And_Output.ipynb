{
  "cells": [
    {
      "cell_type": "markdown",
      "metadata": {
        "collapsed": true,
        "pycharm": {
          "name": "#%% md\n"
        }
      },
      "source": "# Problem Solving with Algorithms and Data Structures using Python\n  - [Part9. 입력과 출력](#part9)\n    - [1.9.1. 문자열 서식](#part9-1)\n\n## Part9\n### 1.9 Input and Output (입력과 출력)\nWe often have a need to interact with users, either to get data or to provide some sort of result.\n~~~\n우리는 종종 사용자들과 함께 상호작용할 필요가 있다. 정보를 얻기 위해 또는 어떤 종류의 결과를 제공하기 위해\n~~~\nMost programs today use a dialog box as a way of asking the user to provide some type of input. \n~~~\n오늘날 대부분 프로그램들은 대화상자를 사용한다. 사용자들에게 몇몇 종류의 입력을 제공하도록 요창하는 방법으로써\n~~~\nWhile Python does have a way to create dialog boxes, there is a much simpler function that we can use. \n~~~\n파이썬은 대화 상자들을 만드는 방법을 가지고 있지만, 우리가 사용할 수 있는 더욱 간단한 함수가 있다.\n~~~\nPython provides us with a function that allows us to ask a user to enter some data and returns a reference to the data in the form of a string. \nThe function is called \n~~~\n파이썬은 우리에게 우리로 하여금 사용자에게 데이터를 입력하도록 요청하도록하고 문자열의 형태인 데이터에 대한 참조를 리턴할 수 있는 함수를 제공한다. \n그 함수는 input 이라 불린다.\n~~~\n"
    },
    {
      "cell_type": "code",
      "execution_count": 2,
      "outputs": [],
      "source": "aName \u003d input(\u0027Please enter your name: \u0027)\n",
      "metadata": {
        "pycharm": {
          "metadata": false,
          "name": "#%%\n",
          "is_executing": false
        }
      }
    },
    {
      "cell_type": "markdown",
      "source": "Now whatever the user types after the prompt will be stored in the aName variable. \n~~~\n이제 사용자가 입력하는 무엇이든지 프롬프트 후에, aName 변수에 저장될 것이다.\n~~~\nUsing the input function, we can easily write instructions that will prompt the user to enter data and then incorporate that data into further processing.\n~~~\n입력 함수를 사용하는 우리는 사용자로 하여금 데이터를 입력하도록 하는 명령을 쉽게 작성할 수 있고, 그 데이터를 추가적인 처리에 포함시킬 수 있다.\n~~~ \nFor example, in the following two statements, \nthe first asks the user for their name and the second prints the result of some simple processing based on the string that is provided.\n~~~\n예를들어, 다음 두개의 문장에서,\n첫번째는 사용자로 하여금 그들의 이름을 묻고, 두번째는 몇몇 간단한 처리의 결과를 출력한다. 제공된 문자열을 기반으로 한\n~~~\n",
      "metadata": {
        "pycharm": {
          "metadata": false
        }
      }
    },
    {
      "cell_type": "code",
      "execution_count": 11,
      "outputs": [
        {
          "name": "stdout",
          "text": [
            "Your name in all capitals is JKDF and has length 4\n"
          ],
          "output_type": "stream"
        }
      ],
      "source": "aName \u003d input(\"Please enter your name\")\nprint(\"Your name in all capitals is\", aName.upper(), \"and has length\", len(aName))\n",
      "metadata": {
        "pycharm": {
          "metadata": false,
          "name": "#%%\n",
          "is_executing": false
        }
      }
    },
    {
      "cell_type": "markdown",
      "source": "It is important to note that the value returned from the input function will be a string representing the exact characters that were entered after the prompt. \n~~~\nInput 함수로부터 리턴된 그 값은 프롬포트 후에 입력되어진 정확한 문자들을 나타내는 문자열이될 것이라는 것을 유념하는 것이 중요하다.\n~~~\nIf you want this string interpreted as another type, you must provide the type conversion explicitly.\n~~~\n만약 너가 이 문자열이 다른 타입으로써 해석되길 원한다면, 너는 명시적으로 타입 변환을 제공해야만 한다.\n~~~\nIn the statements below, the string that is entered by the user is converted to a float so that it can be used in further arithmetic processing.\n~~~\n아래 문장에서, 사용자에 의해 입력된 문자열이 float로 변환된다. 그것이 추가 산술 처리에 사용되어질 수 있도록,\n~~~\n",
      "metadata": {
        "pycharm": {
          "metadata": false,
          "name": "#%% md\n"
        }
      }
    },
    {
      "cell_type": "code",
      "execution_count": 17,
      "outputs": [
        {
          "name": "stdout",
          "text": [
            "46.0\n"
          ],
          "output_type": "stream"
        }
      ],
      "source": "stadius \u003d input(\"Please enter the radius of the circle\")\nradius \u003d float(stadius)\ndiameter \u003d 2 * radius\nprint(diameter)\n\n\n\n",
      "metadata": {
        "pycharm": {
          "metadata": false,
          "name": "#%%\n",
          "is_executing": false
        }
      }
    }
  ],
  "metadata": {
    "language_info": {
      "codemirror_mode": {
        "name": "ipython",
        "version": 2
      },
      "file_extension": ".py",
      "mimetype": "text/x-python",
      "name": "python",
      "nbconvert_exporter": "python",
      "pygments_lexer": "ipython2",
      "version": "2.7.6"
    },
    "kernelspec": {
      "name": "python3",
      "language": "python",
      "display_name": "Python 3"
    }
  },
  "nbformat": 4,
  "nbformat_minor": 0
}